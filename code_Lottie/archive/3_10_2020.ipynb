{
 "cells": [
  {
   "cell_type": "code",
   "execution_count": 1,
   "metadata": {},
   "outputs": [],
   "source": [
    "library(ggplot2)\n",
    "library(caTools)"
   ]
  },
  {
   "cell_type": "code",
   "execution_count": 2,
   "metadata": {},
   "outputs": [
    {
     "name": "stderr",
     "output_type": "stream",
     "text": [
      "\n",
      "Attaching package: ‘dplyr’\n",
      "\n",
      "The following objects are masked from ‘package:data.table’:\n",
      "\n",
      "    between, first, last\n",
      "\n",
      "The following objects are masked from ‘package:stats’:\n",
      "\n",
      "    filter, lag\n",
      "\n",
      "The following objects are masked from ‘package:base’:\n",
      "\n",
      "    intersect, setdiff, setequal, union\n",
      "\n"
     ]
    }
   ],
   "source": [
    "source(\"/u/project/sriram/ukbiobank/33127/bd_load_data.R\")\n",
    "db<-data"
   ]
  },
  {
   "cell_type": "code",
   "execution_count": 3,
   "metadata": {},
   "outputs": [],
   "source": [
    "db$WBCC <- db$`30000-0.0`\n",
    "db<- db %>% filter(!is.na(WBCC))"
   ]
  },
  {
   "cell_type": "code",
   "execution_count": 4,
   "metadata": {},
   "outputs": [],
   "source": [
    "var<-c('31-0.0','1558-0.0','1239-0.0','1249-0.0','2100-0.0','21000-0.0')"
   ]
  },
  {
   "cell_type": "code",
   "execution_count": 5,
   "metadata": {},
   "outputs": [],
   "source": [
    "db1<- db %>% select(var)"
   ]
  },
  {
   "cell_type": "code",
   "execution_count": 6,
   "metadata": {},
   "outputs": [],
   "source": [
    "db1[which(db1$`21000-0.0`<1010 & db1$`21000-0.0`>1000),'21000-0.0']<-1\n",
    "db1[which(db1$`21000-0.0`<2010 & db1$`21000-0.0`>2000),'21000-0.0']<-2\n",
    "db1[which(db1$`21000-0.0`<3010 & db1$`21000-0.0`>3000),'21000-0.0']<-3\n",
    "db1[which(db1$`21000-0.0`<4010 & db1$`21000-0.0`>4000),'21000-0.0']<-4\n",
    "db1[which(db1$`21000-0.0`==5),'21000-0.0']<-3"
   ]
  },
  {
   "cell_type": "code",
   "execution_count": 7,
   "metadata": {},
   "outputs": [
    {
     "name": "stderr",
     "output_type": "stream",
     "text": [
      "Warning message:\n",
      "“funs() is soft deprecated as of dplyr 0.8.0\n",
      "Please use a list of either functions or lambdas: \n",
      "\n",
      "  # Simple named list: \n",
      "  list(mean = mean, median = median)\n",
      "\n",
      "  # Auto named with `tibble::lst()`: \n",
      "  tibble::lst(mean, median)\n",
      "\n",
      "  # Using lambdas\n",
      "  list(~ mean(., trim = .2), ~ median(., na.rm = TRUE))\n",
      "\u001b[90mThis warning is displayed once per session.\u001b[39m”"
     ]
    }
   ],
   "source": [
    "db1 <- db1 %>% mutate_all(na_if,\"\") \n",
    "db1<- db1 %>% mutate_each(funs(replace(., .<0, NA)))\n",
    "db1<- db1 %>% mutate_all(funs(factor(.)))\n",
    "db1$eid<-db$eid\n",
    "db1$WBCC <- db$WBCC\n",
    "db1<- db1 %>% select(c('eid','WBCC'),everything())"
   ]
  },
  {
   "cell_type": "code",
   "execution_count": null,
   "metadata": {},
   "outputs": [],
   "source": [
    "disease<-read.csv('more_feature.csv')"
   ]
  },
  {
   "cell_type": "code",
   "execution_count": null,
   "metadata": {},
   "outputs": [],
   "source": [
    "dim(d)"
   ]
  },
  {
   "cell_type": "code",
   "execution_count": 9,
   "metadata": {},
   "outputs": [],
   "source": [
    "disease1<- disease[,-1] %>% mutate_all(funs(factor(.)))\n",
    "disease1$eid<-disease$eid\n",
    "disease1<- disease1 %>% select('eid',everything())"
   ]
  },
  {
   "cell_type": "code",
   "execution_count": 10,
   "metadata": {},
   "outputs": [],
   "source": [
    "df<-merge(db1,disease1,by='eid')"
   ]
  },
  {
   "cell_type": "code",
   "execution_count": 11,
   "metadata": {},
   "outputs": [],
   "source": [
    "df1<- df%>% select(-c('eid','WBCC')) %>% mutate_all(funs(droplevels(.)))"
   ]
  },
  {
   "cell_type": "code",
   "execution_count": 12,
   "metadata": {},
   "outputs": [],
   "source": [
    "df1$eid<-df$eid\n",
    "df1$WBCC<-df$WBCC\n",
    "df1<-na.omit(df1)"
   ]
  },
  {
   "cell_type": "code",
   "execution_count": 13,
   "metadata": {},
   "outputs": [
    {
     "data": {
      "text/html": [
       "<table>\n",
       "<caption>A data.frame: 6 × 24</caption>\n",
       "<thead>\n",
       "\t<tr><th scope=col>31-0.0</th><th scope=col>1558-0.0</th><th scope=col>1239-0.0</th><th scope=col>1249-0.0</th><th scope=col>2100-0.0</th><th scope=col>21000-0.0</th><th scope=col>Abdominal.hernia</th><th scope=col>Anemias</th><th scope=col>bacterial.infection</th><th scope=col>Benign.and.malignant.neoplasm.of.colon</th><th scope=col>⋯</th><th scope=col>Disorders.of.lipoid.metabolism</th><th scope=col>DISORDERS.OF.THYROID.GLAND</th><th scope=col>esophageal.disorders</th><th scope=col>HYPERTENSIVE.DISEASE</th><th scope=col>ISCHEMIC.HEART.DISEASE</th><th scope=col>Malignant.neoplasm.of.skin</th><th scope=col>mononeuritis.and.nerve.lesions</th><th scope=col>noninfective.gastrointestinal.disorders</th><th scope=col>eid</th><th scope=col>WBCC</th></tr>\n",
       "\t<tr><th scope=col>&lt;fct&gt;</th><th scope=col>&lt;fct&gt;</th><th scope=col>&lt;fct&gt;</th><th scope=col>&lt;fct&gt;</th><th scope=col>&lt;fct&gt;</th><th scope=col>&lt;fct&gt;</th><th scope=col>&lt;fct&gt;</th><th scope=col>&lt;fct&gt;</th><th scope=col>&lt;fct&gt;</th><th scope=col>&lt;fct&gt;</th><th scope=col>⋯</th><th scope=col>&lt;fct&gt;</th><th scope=col>&lt;fct&gt;</th><th scope=col>&lt;fct&gt;</th><th scope=col>&lt;fct&gt;</th><th scope=col>&lt;fct&gt;</th><th scope=col>&lt;fct&gt;</th><th scope=col>&lt;fct&gt;</th><th scope=col>&lt;fct&gt;</th><th scope=col>&lt;int&gt;</th><th scope=col>&lt;dbl&gt;</th></tr>\n",
       "</thead>\n",
       "<tbody>\n",
       "\t<tr><td>1</td><td>1</td><td>0</td><td>1</td><td>0</td><td>1</td><td>0</td><td>0</td><td>0</td><td>0</td><td>⋯</td><td>0</td><td>0</td><td>0</td><td>0</td><td>0</td><td>0</td><td>0</td><td>0</td><td>1000032</td><td>4.98</td></tr>\n",
       "\t<tr><td>0</td><td>1</td><td>2</td><td>2</td><td>0</td><td>1</td><td>0</td><td>0</td><td>0</td><td>1</td><td>⋯</td><td>0</td><td>0</td><td>0</td><td>0</td><td>0</td><td>0</td><td>1</td><td>0</td><td>1000060</td><td>8.10</td></tr>\n",
       "\t<tr><td>1</td><td>2</td><td>0</td><td>3</td><td>0</td><td>1</td><td>0</td><td>0</td><td>0</td><td>0</td><td>⋯</td><td>0</td><td>0</td><td>0</td><td>0</td><td>1</td><td>0</td><td>0</td><td>0</td><td>1000102</td><td>7.81</td></tr>\n",
       "\t<tr><td>1</td><td>1</td><td>0</td><td>4</td><td>0</td><td>1</td><td>0</td><td>0</td><td>0</td><td>1</td><td>⋯</td><td>0</td><td>0</td><td>0</td><td>0</td><td>0</td><td>0</td><td>0</td><td>0</td><td>1000116</td><td>2.92</td></tr>\n",
       "\t<tr><td>1</td><td>6</td><td>0</td><td>1</td><td>0</td><td>1</td><td>0</td><td>0</td><td>0</td><td>0</td><td>⋯</td><td>0</td><td>0</td><td>0</td><td>0</td><td>1</td><td>0</td><td>0</td><td>0</td><td>1000121</td><td>6.04</td></tr>\n",
       "\t<tr><td>1</td><td>2</td><td>0</td><td>1</td><td>0</td><td>1</td><td>0</td><td>0</td><td>1</td><td>0</td><td>⋯</td><td>0</td><td>0</td><td>0</td><td>0</td><td>0</td><td>0</td><td>0</td><td>0</td><td>1000195</td><td>6.50</td></tr>\n",
       "</tbody>\n",
       "</table>\n"
      ],
      "text/latex": [
       "A data.frame: 6 × 24\n",
       "\\begin{tabular}{r|llllllllllllllllllllllll}\n",
       " 31-0.0 & 1558-0.0 & 1239-0.0 & 1249-0.0 & 2100-0.0 & 21000-0.0 & Abdominal.hernia & Anemias & bacterial.infection & Benign.and.malignant.neoplasm.of.colon & cancer.of.female.genital.organs..breast.dysplasia & Cataract & DIABETES & diseases.of.veins.and.lymphatics & Disorders.of.lipoid.metabolism & DISORDERS.OF.THYROID.GLAND & esophageal.disorders & HYPERTENSIVE.DISEASE & ISCHEMIC.HEART.DISEASE & Malignant.neoplasm.of.skin & mononeuritis.and.nerve.lesions & noninfective.gastrointestinal.disorders & eid & WBCC\\\\\n",
       " <fct> & <fct> & <fct> & <fct> & <fct> & <fct> & <fct> & <fct> & <fct> & <fct> & <fct> & <fct> & <fct> & <fct> & <fct> & <fct> & <fct> & <fct> & <fct> & <fct> & <fct> & <fct> & <int> & <dbl>\\\\\n",
       "\\hline\n",
       "\t 1 & 1 & 0 & 1 & 0 & 1 & 0 & 0 & 0 & 0 & 0 & 1 & 0 & 0 & 0 & 0 & 0 & 0 & 0 & 0 & 0 & 0 & 1000032 & 4.98\\\\\n",
       "\t 0 & 1 & 2 & 2 & 0 & 1 & 0 & 0 & 0 & 1 & 0 & 0 & 0 & 0 & 0 & 0 & 0 & 0 & 0 & 0 & 1 & 0 & 1000060 & 8.10\\\\\n",
       "\t 1 & 2 & 0 & 3 & 0 & 1 & 0 & 0 & 0 & 0 & 0 & 0 & 0 & 0 & 0 & 0 & 0 & 0 & 1 & 0 & 0 & 0 & 1000102 & 7.81\\\\\n",
       "\t 1 & 1 & 0 & 4 & 0 & 1 & 0 & 0 & 0 & 1 & 0 & 0 & 0 & 0 & 0 & 0 & 0 & 0 & 0 & 0 & 0 & 0 & 1000116 & 2.92\\\\\n",
       "\t 1 & 6 & 0 & 1 & 0 & 1 & 0 & 0 & 0 & 0 & 0 & 0 & 0 & 0 & 0 & 0 & 0 & 0 & 1 & 0 & 0 & 0 & 1000121 & 6.04\\\\\n",
       "\t 1 & 2 & 0 & 1 & 0 & 1 & 0 & 0 & 1 & 0 & 0 & 0 & 1 & 0 & 0 & 0 & 0 & 0 & 0 & 0 & 0 & 0 & 1000195 & 6.50\\\\\n",
       "\\end{tabular}\n"
      ],
      "text/markdown": [
       "\n",
       "A data.frame: 6 × 24\n",
       "\n",
       "| 31-0.0 &lt;fct&gt; | 1558-0.0 &lt;fct&gt; | 1239-0.0 &lt;fct&gt; | 1249-0.0 &lt;fct&gt; | 2100-0.0 &lt;fct&gt; | 21000-0.0 &lt;fct&gt; | Abdominal.hernia &lt;fct&gt; | Anemias &lt;fct&gt; | bacterial.infection &lt;fct&gt; | Benign.and.malignant.neoplasm.of.colon &lt;fct&gt; | ⋯ ⋯ | Disorders.of.lipoid.metabolism &lt;fct&gt; | DISORDERS.OF.THYROID.GLAND &lt;fct&gt; | esophageal.disorders &lt;fct&gt; | HYPERTENSIVE.DISEASE &lt;fct&gt; | ISCHEMIC.HEART.DISEASE &lt;fct&gt; | Malignant.neoplasm.of.skin &lt;fct&gt; | mononeuritis.and.nerve.lesions &lt;fct&gt; | noninfective.gastrointestinal.disorders &lt;fct&gt; | eid &lt;int&gt; | WBCC &lt;dbl&gt; |\n",
       "|---|---|---|---|---|---|---|---|---|---|---|---|---|---|---|---|---|---|---|---|---|\n",
       "| 1 | 1 | 0 | 1 | 0 | 1 | 0 | 0 | 0 | 0 | ⋯ | 0 | 0 | 0 | 0 | 0 | 0 | 0 | 0 | 1000032 | 4.98 |\n",
       "| 0 | 1 | 2 | 2 | 0 | 1 | 0 | 0 | 0 | 1 | ⋯ | 0 | 0 | 0 | 0 | 0 | 0 | 1 | 0 | 1000060 | 8.10 |\n",
       "| 1 | 2 | 0 | 3 | 0 | 1 | 0 | 0 | 0 | 0 | ⋯ | 0 | 0 | 0 | 0 | 1 | 0 | 0 | 0 | 1000102 | 7.81 |\n",
       "| 1 | 1 | 0 | 4 | 0 | 1 | 0 | 0 | 0 | 1 | ⋯ | 0 | 0 | 0 | 0 | 0 | 0 | 0 | 0 | 1000116 | 2.92 |\n",
       "| 1 | 6 | 0 | 1 | 0 | 1 | 0 | 0 | 0 | 0 | ⋯ | 0 | 0 | 0 | 0 | 1 | 0 | 0 | 0 | 1000121 | 6.04 |\n",
       "| 1 | 2 | 0 | 1 | 0 | 1 | 0 | 0 | 1 | 0 | ⋯ | 0 | 0 | 0 | 0 | 0 | 0 | 0 | 0 | 1000195 | 6.50 |\n",
       "\n"
      ],
      "text/plain": [
       "  31-0.0 1558-0.0 1239-0.0 1249-0.0 2100-0.0 21000-0.0 Abdominal.hernia Anemias\n",
       "1 1      1        0        1        0        1         0                0      \n",
       "2 0      1        2        2        0        1         0                0      \n",
       "3 1      2        0        3        0        1         0                0      \n",
       "4 1      1        0        4        0        1         0                0      \n",
       "5 1      6        0        1        0        1         0                0      \n",
       "6 1      2        0        1        0        1         0                0      \n",
       "  bacterial.infection Benign.and.malignant.neoplasm.of.colon ⋯\n",
       "1 0                   0                                      ⋯\n",
       "2 0                   1                                      ⋯\n",
       "3 0                   0                                      ⋯\n",
       "4 0                   1                                      ⋯\n",
       "5 0                   0                                      ⋯\n",
       "6 1                   0                                      ⋯\n",
       "  Disorders.of.lipoid.metabolism DISORDERS.OF.THYROID.GLAND\n",
       "1 0                              0                         \n",
       "2 0                              0                         \n",
       "3 0                              0                         \n",
       "4 0                              0                         \n",
       "5 0                              0                         \n",
       "6 0                              0                         \n",
       "  esophageal.disorders HYPERTENSIVE.DISEASE ISCHEMIC.HEART.DISEASE\n",
       "1 0                    0                    0                     \n",
       "2 0                    0                    0                     \n",
       "3 0                    0                    1                     \n",
       "4 0                    0                    0                     \n",
       "5 0                    0                    1                     \n",
       "6 0                    0                    0                     \n",
       "  Malignant.neoplasm.of.skin mononeuritis.and.nerve.lesions\n",
       "1 0                          0                             \n",
       "2 0                          1                             \n",
       "3 0                          0                             \n",
       "4 0                          0                             \n",
       "5 0                          0                             \n",
       "6 0                          0                             \n",
       "  noninfective.gastrointestinal.disorders eid     WBCC\n",
       "1 0                                       1000032 4.98\n",
       "2 0                                       1000060 8.10\n",
       "3 0                                       1000102 7.81\n",
       "4 0                                       1000116 2.92\n",
       "5 0                                       1000121 6.04\n",
       "6 0                                       1000195 6.50"
      ]
     },
     "metadata": {},
     "output_type": "display_data"
    }
   ],
   "source": [
    "head(df1)"
   ]
  },
  {
   "cell_type": "code",
   "execution_count": 14,
   "metadata": {},
   "outputs": [
    {
     "data": {
      "text/html": [
       "<ol class=list-inline>\n",
       "\t<li>193642</li>\n",
       "\t<li>24</li>\n",
       "</ol>\n"
      ],
      "text/latex": [
       "\\begin{enumerate*}\n",
       "\\item 193642\n",
       "\\item 24\n",
       "\\end{enumerate*}\n"
      ],
      "text/markdown": [
       "1. 193642\n",
       "2. 24\n",
       "\n",
       "\n"
      ],
      "text/plain": [
       "[1] 193642     24"
      ]
     },
     "metadata": {},
     "output_type": "display_data"
    }
   ],
   "source": [
    "dim(df1)"
   ]
  },
  {
   "cell_type": "code",
   "execution_count": 15,
   "metadata": {},
   "outputs": [],
   "source": [
    "set.seed(1233) \n",
    "sample = sample.split(df1,SplitRatio = 0.7) \n",
    "train1 =subset(df1,sample ==TRUE)\n",
    "test1=subset(df1, sample==FALSE)"
   ]
  },
  {
   "cell_type": "code",
   "execution_count": 16,
   "metadata": {},
   "outputs": [],
   "source": [
    "model1<-aov(WBCC~.  -eid -Cataract -Malignant.neoplasm.of.skin -mononeuritis.and.nerve.lesions -Anemias-DISORDERS.OF.THYROID.GLAND-`2100-0.0`-Benign.and.malignant.neoplasm.of.colon, data =train1)"
   ]
  },
  {
   "cell_type": "code",
   "execution_count": 17,
   "metadata": {
    "scrolled": true
   },
   "outputs": [
    {
     "data": {
      "text/plain": [
       "                                                      Df Sum Sq Mean Sq F value\n",
       "`31-0.0`                                               1    499   498.8  127.43\n",
       "`1558-0.0`                                             5   2866   573.2  146.45\n",
       "`1239-0.0`                                             1    731   731.1  186.79\n",
       "`1249-0.0`                                             3   2533   844.3  215.70\n",
       "`21000-0.0`                                            4   2552   637.9  162.97\n",
       "Abdominal.hernia                                       1    297   297.2   75.92\n",
       "bacterial.infection                                    1    769   769.1  196.49\n",
       "cancer.of.female.genital.organs..breast.dysplasia      1    177   177.3   45.29\n",
       "DIABETES                                               1    765   764.9  195.43\n",
       "diseases.of.veins.and.lymphatics                       1    598   598.5  152.90\n",
       "Disorders.of.lipoid.metabolism                         1     96    95.8   24.47\n",
       "esophageal.disorders                                   1    106   105.9   27.05\n",
       "HYPERTENSIVE.DISEASE                                   1    129   128.6   32.85\n",
       "ISCHEMIC.HEART.DISEASE                                 1    169   168.9   43.15\n",
       "noninfective.gastrointestinal.disorders                1     49    49.0   12.53\n",
       "Residuals                                         129071 505202     3.9        \n",
       "                                                    Pr(>F)    \n",
       "`31-0.0`                                           < 2e-16 ***\n",
       "`1558-0.0`                                         < 2e-16 ***\n",
       "`1239-0.0`                                         < 2e-16 ***\n",
       "`1249-0.0`                                         < 2e-16 ***\n",
       "`21000-0.0`                                        < 2e-16 ***\n",
       "Abdominal.hernia                                   < 2e-16 ***\n",
       "bacterial.infection                                < 2e-16 ***\n",
       "cancer.of.female.genital.organs..breast.dysplasia 1.71e-11 ***\n",
       "DIABETES                                           < 2e-16 ***\n",
       "diseases.of.veins.and.lymphatics                   < 2e-16 ***\n",
       "Disorders.of.lipoid.metabolism                    7.57e-07 ***\n",
       "esophageal.disorders                              1.99e-07 ***\n",
       "HYPERTENSIVE.DISEASE                              9.96e-09 ***\n",
       "ISCHEMIC.HEART.DISEASE                            5.09e-11 ***\n",
       "noninfective.gastrointestinal.disorders              4e-04 ***\n",
       "Residuals                                                     \n",
       "---\n",
       "Signif. codes:  0 ‘***’ 0.001 ‘**’ 0.01 ‘*’ 0.05 ‘.’ 0.1 ‘ ’ 1"
      ]
     },
     "metadata": {},
     "output_type": "display_data"
    }
   ],
   "source": [
    "summary(model1)"
   ]
  },
  {
   "cell_type": "code",
   "execution_count": 18,
   "metadata": {},
   "outputs": [],
   "source": [
    "hh<-predict(model1, test1)"
   ]
  },
  {
   "cell_type": "code",
   "execution_count": 19,
   "metadata": {},
   "outputs": [
    {
     "data": {
      "text/html": [
       "0.0133806983486551"
      ],
      "text/latex": [
       "0.0133806983486551"
      ],
      "text/markdown": [
       "0.0133806983486551"
      ],
      "text/plain": [
       "[1] 0.0133807"
      ]
     },
     "metadata": {},
     "output_type": "display_data"
    }
   ],
   "source": [
    "SSR<-sum((hh-mean(test1$WBCC))^2)\n",
    "SST<-sum((test1$WBCC-mean(test1$WBCC))^2)\n",
    "SSR/SST"
   ]
  },
  {
   "cell_type": "code",
   "execution_count": null,
   "metadata": {},
   "outputs": [],
   "source": []
  },
  {
   "cell_type": "code",
   "execution_count": 21,
   "metadata": {},
   "outputs": [
    {
     "data": {
      "text/plain": [
       "                Df Sum Sq Mean Sq F value Pr(>F)    \n",
       "`31-0.0`         1    499   498.8   124.5 <2e-16 ***\n",
       "Residuals   129094 517039     4.0                   \n",
       "---\n",
       "Signif. codes:  0 ‘***’ 0.001 ‘**’ 0.01 ‘*’ 0.05 ‘.’ 0.1 ‘ ’ 1"
      ]
     },
     "metadata": {},
     "output_type": "display_data"
    }
   ],
   "source": [
    "model_v1<- aov(WBCC~`31-0.0`,data=train1)\n",
    "summary(model_v1)"
   ]
  },
  {
   "cell_type": "code",
   "execution_count": 22,
   "metadata": {
    "scrolled": true
   },
   "outputs": [
    {
     "data": {
      "text/plain": [
       "                Df Sum Sq Mean Sq F value Pr(>F)    \n",
       "`1558-0.0`       5   2342   468.3   117.3 <2e-16 ***\n",
       "Residuals   129090 515196     4.0                   \n",
       "---\n",
       "Signif. codes:  0 ‘***’ 0.001 ‘**’ 0.01 ‘*’ 0.05 ‘.’ 0.1 ‘ ’ 1"
      ]
     },
     "metadata": {},
     "output_type": "display_data"
    }
   ],
   "source": [
    "model_v2<- aov(WBCC~`1558-0.0`,data=train1)\n",
    "summary(model_v2)"
   ]
  },
  {
   "cell_type": "code",
   "execution_count": 23,
   "metadata": {},
   "outputs": [
    {
     "data": {
      "text/plain": [
       "                Df Sum Sq Mean Sq F value Pr(>F)    \n",
       "`1239-0.0`       1    740     740   184.8 <2e-16 ***\n",
       "Residuals   129094 516797       4                   \n",
       "---\n",
       "Signif. codes:  0 ‘***’ 0.001 ‘**’ 0.01 ‘*’ 0.05 ‘.’ 0.1 ‘ ’ 1"
      ]
     },
     "metadata": {},
     "output_type": "display_data"
    }
   ],
   "source": [
    "model_v3<- aov(WBCC~`1239-0.0` ,data=train1)\n",
    "summary(model_v3)"
   ]
  },
  {
   "cell_type": "code",
   "execution_count": 24,
   "metadata": {},
   "outputs": [
    {
     "data": {
      "text/plain": [
       "                Df Sum Sq Mean Sq F value Pr(>F)    \n",
       "`1249-0.0`       3   2417   805.7   201.9 <2e-16 ***\n",
       "Residuals   129092 515120     4.0                   \n",
       "---\n",
       "Signif. codes:  0 ‘***’ 0.001 ‘**’ 0.01 ‘*’ 0.05 ‘.’ 0.1 ‘ ’ 1"
      ]
     },
     "metadata": {},
     "output_type": "display_data"
    }
   ],
   "source": [
    "model_v4<- aov(WBCC~`1249-0.0` ,data=train1)\n",
    "summary(model_v4)"
   ]
  },
  {
   "cell_type": "code",
   "execution_count": 25,
   "metadata": {},
   "outputs": [
    {
     "data": {
      "text/plain": [
       "                Df Sum Sq Mean Sq F value Pr(>F)    \n",
       "`21000-0.0`      4   2378   594.4   148.9 <2e-16 ***\n",
       "Residuals   129091 515160     4.0                   \n",
       "---\n",
       "Signif. codes:  0 ‘***’ 0.001 ‘**’ 0.01 ‘*’ 0.05 ‘.’ 0.1 ‘ ’ 1"
      ]
     },
     "metadata": {},
     "output_type": "display_data"
    }
   ],
   "source": [
    "model_v5<- aov(WBCC~`21000-0.0`,data=train1)\n",
    "summary(model_v5)"
   ]
  },
  {
   "cell_type": "code",
   "execution_count": 26,
   "metadata": {},
   "outputs": [
    {
     "data": {
      "text/plain": [
       "                     Df Sum Sq Mean Sq F value Pr(>F)    \n",
       "Abdominal.hernia      1    287  286.85   71.59 <2e-16 ***\n",
       "Residuals        129094 517250    4.01                   \n",
       "---\n",
       "Signif. codes:  0 ‘***’ 0.001 ‘**’ 0.01 ‘*’ 0.05 ‘.’ 0.1 ‘ ’ 1"
      ]
     },
     "metadata": {},
     "output_type": "display_data"
    }
   ],
   "source": [
    "model_v6<- aov(WBCC~Abdominal.hernia  ,data=train1)\n",
    "summary(model_v6)"
   ]
  },
  {
   "cell_type": "code",
   "execution_count": 27,
   "metadata": {},
   "outputs": [
    {
     "data": {
      "text/plain": [
       "                        Df Sum Sq Mean Sq F value Pr(>F)    \n",
       "bacterial.infection      1   1122    1122   280.4 <2e-16 ***\n",
       "Residuals           129094 516415       4                   \n",
       "---\n",
       "Signif. codes:  0 ‘***’ 0.001 ‘**’ 0.01 ‘*’ 0.05 ‘.’ 0.1 ‘ ’ 1"
      ]
     },
     "metadata": {},
     "output_type": "display_data"
    }
   ],
   "source": [
    "model_v7<- aov(WBCC~bacterial.infection  ,data=train1)\n",
    "summary(model_v7)"
   ]
  },
  {
   "cell_type": "code",
   "execution_count": 28,
   "metadata": {},
   "outputs": [
    {
     "data": {
      "text/plain": [
       "                                                      Df Sum Sq Mean Sq F value\n",
       "cancer.of.female.genital.organs..breast.dysplasia      1    361     361    90.1\n",
       "Residuals                                         129094 517176       4        \n",
       "                                                  Pr(>F)    \n",
       "cancer.of.female.genital.organs..breast.dysplasia <2e-16 ***\n",
       "Residuals                                                   \n",
       "---\n",
       "Signif. codes:  0 ‘***’ 0.001 ‘**’ 0.01 ‘*’ 0.05 ‘.’ 0.1 ‘ ’ 1"
      ]
     },
     "metadata": {},
     "output_type": "display_data"
    }
   ],
   "source": [
    "model_v8<- aov(WBCC~cancer.of.female.genital.organs..breast.dysplasia  ,data=train1)\n",
    "summary(model_v8)"
   ]
  },
  {
   "cell_type": "code",
   "execution_count": 29,
   "metadata": {},
   "outputs": [
    {
     "data": {
      "text/plain": [
       "                Df Sum Sq Mean Sq F value Pr(>F)    \n",
       "DIABETES         1   1528    1528   382.2 <2e-16 ***\n",
       "Residuals   129094 516009       4                   \n",
       "---\n",
       "Signif. codes:  0 ‘***’ 0.001 ‘**’ 0.01 ‘*’ 0.05 ‘.’ 0.1 ‘ ’ 1"
      ]
     },
     "metadata": {},
     "output_type": "display_data"
    }
   ],
   "source": [
    "model_v9<- aov(WBCC~DIABETES ,data=train1)\n",
    "summary(model_v9)"
   ]
  },
  {
   "cell_type": "code",
   "execution_count": 30,
   "metadata": {},
   "outputs": [
    {
     "data": {
      "text/plain": [
       "                                     Df Sum Sq Mean Sq F value Pr(>F)    \n",
       "diseases.of.veins.and.lymphatics      1    784   783.8   195.8 <2e-16 ***\n",
       "Residuals                        129094 516754     4.0                   \n",
       "---\n",
       "Signif. codes:  0 ‘***’ 0.001 ‘**’ 0.01 ‘*’ 0.05 ‘.’ 0.1 ‘ ’ 1"
      ]
     },
     "metadata": {},
     "output_type": "display_data"
    }
   ],
   "source": [
    "model_v10<- aov(WBCC~diseases.of.veins.and.lymphatics,data=train1)\n",
    "summary(model_v10)"
   ]
  },
  {
   "cell_type": "code",
   "execution_count": 31,
   "metadata": {},
   "outputs": [
    {
     "data": {
      "text/plain": [
       "                                   Df Sum Sq Mean Sq F value   Pr(>F)    \n",
       "Disorders.of.lipoid.metabolism      1     81   80.79   20.16 7.15e-06 ***\n",
       "Residuals                      129094 517457    4.01                     \n",
       "---\n",
       "Signif. codes:  0 ‘***’ 0.001 ‘**’ 0.01 ‘*’ 0.05 ‘.’ 0.1 ‘ ’ 1"
      ]
     },
     "metadata": {},
     "output_type": "display_data"
    }
   ],
   "source": [
    "model_v11<- aov(WBCC~Disorders.of.lipoid.metabolism,data=train1)\n",
    "summary(model_v11)"
   ]
  },
  {
   "cell_type": "code",
   "execution_count": 32,
   "metadata": {},
   "outputs": [
    {
     "data": {
      "text/plain": [
       "                         Df Sum Sq Mean Sq F value   Pr(>F)    \n",
       "esophageal.disorders      1    109  108.66   27.11 1.92e-07 ***\n",
       "Residuals            129094 517429    4.01                     \n",
       "---\n",
       "Signif. codes:  0 ‘***’ 0.001 ‘**’ 0.01 ‘*’ 0.05 ‘.’ 0.1 ‘ ’ 1"
      ]
     },
     "metadata": {},
     "output_type": "display_data"
    }
   ],
   "source": [
    "model_v12<- aov(WBCC~esophageal.disorders,data=train1)\n",
    "summary(model_v12)"
   ]
  },
  {
   "cell_type": "code",
   "execution_count": 33,
   "metadata": {},
   "outputs": [
    {
     "data": {
      "text/plain": [
       "                         Df Sum Sq Mean Sq F value   Pr(>F)    \n",
       "HYPERTENSIVE.DISEASE      1     77   77.23   19.27 1.14e-05 ***\n",
       "Residuals            129094 517460    4.01                     \n",
       "---\n",
       "Signif. codes:  0 ‘***’ 0.001 ‘**’ 0.01 ‘*’ 0.05 ‘.’ 0.1 ‘ ’ 1"
      ]
     },
     "metadata": {},
     "output_type": "display_data"
    }
   ],
   "source": [
    "model_v13<- aov(WBCC~HYPERTENSIVE.DISEASE,data=train1)\n",
    "summary(model_v13)"
   ]
  },
  {
   "cell_type": "code",
   "execution_count": 35,
   "metadata": {},
   "outputs": [
    {
     "data": {
      "text/plain": [
       "                           Df Sum Sq Mean Sq F value Pr(>F)    \n",
       "ISCHEMIC.HEART.DISEASE      1    277  277.29    69.2 <2e-16 ***\n",
       "Residuals              129094 517260    4.01                   \n",
       "---\n",
       "Signif. codes:  0 ‘***’ 0.001 ‘**’ 0.01 ‘*’ 0.05 ‘.’ 0.1 ‘ ’ 1"
      ]
     },
     "metadata": {},
     "output_type": "display_data"
    }
   ],
   "source": [
    "model_v14<- aov(WBCC~ISCHEMIC.HEART.DISEASE,data=train1)\n",
    "summary(model_v14)"
   ]
  },
  {
   "cell_type": "code",
   "execution_count": 37,
   "metadata": {},
   "outputs": [
    {
     "data": {
      "text/plain": [
       "                                            Df Sum Sq Mean Sq F value   Pr(>F)\n",
       "noninfective.gastrointestinal.disorders      1    146  146.20   36.48 1.55e-09\n",
       "Residuals                               129094 517391    4.01                 \n",
       "                                           \n",
       "noninfective.gastrointestinal.disorders ***\n",
       "Residuals                                  \n",
       "---\n",
       "Signif. codes:  0 ‘***’ 0.001 ‘**’ 0.01 ‘*’ 0.05 ‘.’ 0.1 ‘ ’ 1"
      ]
     },
     "metadata": {},
     "output_type": "display_data"
    }
   ],
   "source": [
    "model_v15<- aov(WBCC~noninfective.gastrointestinal.disorders,data=train1)\n",
    "summary(model_v15)"
   ]
  }
 ],
 "metadata": {
  "kernelspec": {
   "display_name": "R 3.6.0",
   "language": "R",
   "name": "ir360"
  },
  "language_info": {
   "codemirror_mode": "r",
   "file_extension": ".r",
   "mimetype": "text/x-r-source",
   "name": "R",
   "pygments_lexer": "r",
   "version": "3.6.0"
  }
 },
 "nbformat": 4,
 "nbformat_minor": 2
}
