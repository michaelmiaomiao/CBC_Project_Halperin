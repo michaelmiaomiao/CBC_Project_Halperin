{
 "cells": [
  {
   "cell_type": "code",
   "execution_count": 1,
   "metadata": {},
   "outputs": [
    {
     "name": "stderr",
     "output_type": "stream",
     "text": [
      "\n",
      "Attaching package: ‘dplyr’\n",
      "\n",
      "The following objects are masked from ‘package:stats’:\n",
      "\n",
      "    filter, lag\n",
      "\n",
      "The following objects are masked from ‘package:base’:\n",
      "\n",
      "    intersect, setdiff, setequal, union\n",
      "\n",
      "\n",
      "Attaching package: ‘data.table’\n",
      "\n",
      "The following objects are masked from ‘package:dplyr’:\n",
      "\n",
      "    between, first, last\n",
      "\n",
      "\n",
      "Attaching package: ‘mltools’\n",
      "\n",
      "The following object is masked from ‘package:tidyr’:\n",
      "\n",
      "    replace_na\n",
      "\n"
     ]
    }
   ],
   "source": [
    "library(dplyr)\n",
    "library(tidyr)\n",
    "library(data.table)\n",
    "library(mltools)\n",
    "library(stringr)"
   ]
  },
  {
   "cell_type": "code",
   "execution_count": 2,
   "metadata": {},
   "outputs": [],
   "source": [
    "result<-read.csv('result.csv')\n",
    "result <- result[,1:3]\n",
    "colnames(result)[1]<-'eid'"
   ]
  },
  {
   "cell_type": "code",
   "execution_count": 4,
   "metadata": {},
   "outputs": [
    {
     "data": {
      "text/html": [
       "<ol class=list-inline>\n",
       "\t<li>224046</li>\n",
       "\t<li>3</li>\n",
       "</ol>\n"
      ],
      "text/latex": [
       "\\begin{enumerate*}\n",
       "\\item 224046\n",
       "\\item 3\n",
       "\\end{enumerate*}\n"
      ],
      "text/markdown": [
       "1. 224046\n",
       "2. 3\n",
       "\n",
       "\n"
      ],
      "text/plain": [
       "[1] 224046      3"
      ]
     },
     "metadata": {},
     "output_type": "display_data"
    }
   ],
   "source": [
    "dim(result)"
   ]
  },
  {
   "cell_type": "code",
   "execution_count": 3,
   "metadata": {},
   "outputs": [
    {
     "data": {
      "text/html": [
       "<table>\n",
       "<caption>A data.frame: 6 × 3</caption>\n",
       "<thead>\n",
       "\t<tr><th scope=col>eid</th><th scope=col>d1</th><th scope=col>d2</th></tr>\n",
       "\t<tr><th scope=col>&lt;int&gt;</th><th scope=col>&lt;fct&gt;</th><th scope=col>&lt;fct&gt;</th></tr>\n",
       "</thead>\n",
       "<tbody>\n",
       "\t<tr><td>4984090</td><td>Benign and malignant neoplasm of colon</td><td>NA</td></tr>\n",
       "\t<tr><td>4304000</td><td>HYPERTENSIVE DISEASE                  </td><td>NA</td></tr>\n",
       "\t<tr><td>5228869</td><td>esophageal disorders                  </td><td>NA</td></tr>\n",
       "\t<tr><td>1849766</td><td>mononeuritis and nerve lesions        </td><td>NA</td></tr>\n",
       "\t<tr><td>3805396</td><td>Anemias                               </td><td>NA</td></tr>\n",
       "\t<tr><td>5106857</td><td>Cataract                              </td><td>NA</td></tr>\n",
       "</tbody>\n",
       "</table>\n"
      ],
      "text/latex": [
       "A data.frame: 6 × 3\n",
       "\\begin{tabular}{r|lll}\n",
       " eid & d1 & d2\\\\\n",
       " <int> & <fct> & <fct>\\\\\n",
       "\\hline\n",
       "\t 4984090 & Benign and malignant neoplasm of colon & NA\\\\\n",
       "\t 4304000 & HYPERTENSIVE DISEASE                   & NA\\\\\n",
       "\t 5228869 & esophageal disorders                   & NA\\\\\n",
       "\t 1849766 & mononeuritis and nerve lesions         & NA\\\\\n",
       "\t 3805396 & Anemias                                & NA\\\\\n",
       "\t 5106857 & Cataract                               & NA\\\\\n",
       "\\end{tabular}\n"
      ],
      "text/markdown": [
       "\n",
       "A data.frame: 6 × 3\n",
       "\n",
       "| eid &lt;int&gt; | d1 &lt;fct&gt; | d2 &lt;fct&gt; |\n",
       "|---|---|---|\n",
       "| 4984090 | Benign and malignant neoplasm of colon | NA |\n",
       "| 4304000 | HYPERTENSIVE DISEASE                   | NA |\n",
       "| 5228869 | esophageal disorders                   | NA |\n",
       "| 1849766 | mononeuritis and nerve lesions         | NA |\n",
       "| 3805396 | Anemias                                | NA |\n",
       "| 5106857 | Cataract                               | NA |\n",
       "\n"
      ],
      "text/plain": [
       "  eid     d1                                     d2\n",
       "1 4984090 Benign and malignant neoplasm of colon NA\n",
       "2 4304000 HYPERTENSIVE DISEASE                   NA\n",
       "3 5228869 esophageal disorders                   NA\n",
       "4 1849766 mononeuritis and nerve lesions         NA\n",
       "5 3805396 Anemias                                NA\n",
       "6 5106857 Cataract                               NA"
      ]
     },
     "metadata": {},
     "output_type": "display_data"
    }
   ],
   "source": [
    "head(result)"
   ]
  },
  {
   "cell_type": "code",
   "execution_count": 4,
   "metadata": {},
   "outputs": [],
   "source": [
    "result_matrix1<-as.data.frame(one_hot(as.data.table(result[,1:2])))"
   ]
  },
  {
   "cell_type": "code",
   "execution_count": 5,
   "metadata": {},
   "outputs": [],
   "source": [
    "result1<-result[,c(1,3)] %>% filter(!is.na(d2))\n",
    "result_matrix2<-one_hot(as.data.table(result1))"
   ]
  },
  {
   "cell_type": "code",
   "execution_count": 6,
   "metadata": {},
   "outputs": [
    {
     "data": {
      "text/html": [
       "<table>\n",
       "<caption>A data.frame: 6 × 17</caption>\n",
       "<thead>\n",
       "\t<tr><th scope=col>eid</th><th scope=col>d1_Abdominal hernia</th><th scope=col>d1_Anemias</th><th scope=col>d1_bacterial infection</th><th scope=col>d1_Benign and malignant neoplasm of colon</th><th scope=col>d1_cancer of female genital organs; breast dysplasia</th><th scope=col>d1_Cataract</th><th scope=col>d1_DIABETES</th><th scope=col>d1_diseases of veins and lymphatics</th><th scope=col>d1_Disorders of lipoid metabolism</th><th scope=col>d1_DISORDERS OF THYROID GLAND</th><th scope=col>d1_esophageal disorders</th><th scope=col>d1_HYPERTENSIVE DISEASE</th><th scope=col>d1_ISCHEMIC HEART DISEASE</th><th scope=col>d1_Malignant neoplasm of skin</th><th scope=col>d1_mononeuritis and nerve lesions</th><th scope=col>d1_noninfective gastrointestinal disorders</th></tr>\n",
       "\t<tr><th scope=col>&lt;int&gt;</th><th scope=col>&lt;int&gt;</th><th scope=col>&lt;int&gt;</th><th scope=col>&lt;int&gt;</th><th scope=col>&lt;int&gt;</th><th scope=col>&lt;int&gt;</th><th scope=col>&lt;int&gt;</th><th scope=col>&lt;int&gt;</th><th scope=col>&lt;int&gt;</th><th scope=col>&lt;int&gt;</th><th scope=col>&lt;int&gt;</th><th scope=col>&lt;int&gt;</th><th scope=col>&lt;int&gt;</th><th scope=col>&lt;int&gt;</th><th scope=col>&lt;int&gt;</th><th scope=col>&lt;int&gt;</th><th scope=col>&lt;int&gt;</th></tr>\n",
       "</thead>\n",
       "<tbody>\n",
       "\t<tr><td>4984090</td><td>0</td><td>0</td><td>0</td><td>1</td><td>0</td><td>0</td><td>0</td><td>0</td><td>0</td><td>0</td><td>0</td><td>0</td><td>0</td><td>0</td><td>0</td><td>0</td></tr>\n",
       "\t<tr><td>4304000</td><td>0</td><td>0</td><td>0</td><td>0</td><td>0</td><td>0</td><td>0</td><td>0</td><td>0</td><td>0</td><td>0</td><td>1</td><td>0</td><td>0</td><td>0</td><td>0</td></tr>\n",
       "\t<tr><td>5228869</td><td>0</td><td>0</td><td>0</td><td>0</td><td>0</td><td>0</td><td>0</td><td>0</td><td>0</td><td>0</td><td>1</td><td>0</td><td>0</td><td>0</td><td>0</td><td>0</td></tr>\n",
       "\t<tr><td>1849766</td><td>0</td><td>0</td><td>0</td><td>0</td><td>0</td><td>0</td><td>0</td><td>0</td><td>0</td><td>0</td><td>0</td><td>0</td><td>0</td><td>0</td><td>1</td><td>0</td></tr>\n",
       "\t<tr><td>3805396</td><td>0</td><td>1</td><td>0</td><td>0</td><td>0</td><td>0</td><td>0</td><td>0</td><td>0</td><td>0</td><td>0</td><td>0</td><td>0</td><td>0</td><td>0</td><td>0</td></tr>\n",
       "\t<tr><td>5106857</td><td>0</td><td>0</td><td>0</td><td>0</td><td>0</td><td>1</td><td>0</td><td>0</td><td>0</td><td>0</td><td>0</td><td>0</td><td>0</td><td>0</td><td>0</td><td>0</td></tr>\n",
       "</tbody>\n",
       "</table>\n"
      ],
      "text/latex": [
       "A data.frame: 6 × 17\n",
       "\\begin{tabular}{r|lllllllllllllllll}\n",
       " eid & d1\\_Abdominal hernia & d1\\_Anemias & d1\\_bacterial infection & d1\\_Benign and malignant neoplasm of colon & d1\\_cancer of female genital organs; breast dysplasia & d1\\_Cataract & d1\\_DIABETES & d1\\_diseases of veins and lymphatics & d1\\_Disorders of lipoid metabolism & d1\\_DISORDERS OF THYROID GLAND & d1\\_esophageal disorders & d1\\_HYPERTENSIVE DISEASE & d1\\_ISCHEMIC HEART DISEASE & d1\\_Malignant neoplasm of skin & d1\\_mononeuritis and nerve lesions & d1\\_noninfective gastrointestinal disorders\\\\\n",
       " <int> & <int> & <int> & <int> & <int> & <int> & <int> & <int> & <int> & <int> & <int> & <int> & <int> & <int> & <int> & <int> & <int>\\\\\n",
       "\\hline\n",
       "\t 4984090 & 0 & 0 & 0 & 1 & 0 & 0 & 0 & 0 & 0 & 0 & 0 & 0 & 0 & 0 & 0 & 0\\\\\n",
       "\t 4304000 & 0 & 0 & 0 & 0 & 0 & 0 & 0 & 0 & 0 & 0 & 0 & 1 & 0 & 0 & 0 & 0\\\\\n",
       "\t 5228869 & 0 & 0 & 0 & 0 & 0 & 0 & 0 & 0 & 0 & 0 & 1 & 0 & 0 & 0 & 0 & 0\\\\\n",
       "\t 1849766 & 0 & 0 & 0 & 0 & 0 & 0 & 0 & 0 & 0 & 0 & 0 & 0 & 0 & 0 & 1 & 0\\\\\n",
       "\t 3805396 & 0 & 1 & 0 & 0 & 0 & 0 & 0 & 0 & 0 & 0 & 0 & 0 & 0 & 0 & 0 & 0\\\\\n",
       "\t 5106857 & 0 & 0 & 0 & 0 & 0 & 1 & 0 & 0 & 0 & 0 & 0 & 0 & 0 & 0 & 0 & 0\\\\\n",
       "\\end{tabular}\n"
      ],
      "text/markdown": [
       "\n",
       "A data.frame: 6 × 17\n",
       "\n",
       "| eid &lt;int&gt; | d1_Abdominal hernia &lt;int&gt; | d1_Anemias &lt;int&gt; | d1_bacterial infection &lt;int&gt; | d1_Benign and malignant neoplasm of colon &lt;int&gt; | d1_cancer of female genital organs; breast dysplasia &lt;int&gt; | d1_Cataract &lt;int&gt; | d1_DIABETES &lt;int&gt; | d1_diseases of veins and lymphatics &lt;int&gt; | d1_Disorders of lipoid metabolism &lt;int&gt; | d1_DISORDERS OF THYROID GLAND &lt;int&gt; | d1_esophageal disorders &lt;int&gt; | d1_HYPERTENSIVE DISEASE &lt;int&gt; | d1_ISCHEMIC HEART DISEASE &lt;int&gt; | d1_Malignant neoplasm of skin &lt;int&gt; | d1_mononeuritis and nerve lesions &lt;int&gt; | d1_noninfective gastrointestinal disorders &lt;int&gt; |\n",
       "|---|---|---|---|---|---|---|---|---|---|---|---|---|---|---|---|---|\n",
       "| 4984090 | 0 | 0 | 0 | 1 | 0 | 0 | 0 | 0 | 0 | 0 | 0 | 0 | 0 | 0 | 0 | 0 |\n",
       "| 4304000 | 0 | 0 | 0 | 0 | 0 | 0 | 0 | 0 | 0 | 0 | 0 | 1 | 0 | 0 | 0 | 0 |\n",
       "| 5228869 | 0 | 0 | 0 | 0 | 0 | 0 | 0 | 0 | 0 | 0 | 1 | 0 | 0 | 0 | 0 | 0 |\n",
       "| 1849766 | 0 | 0 | 0 | 0 | 0 | 0 | 0 | 0 | 0 | 0 | 0 | 0 | 0 | 0 | 1 | 0 |\n",
       "| 3805396 | 0 | 1 | 0 | 0 | 0 | 0 | 0 | 0 | 0 | 0 | 0 | 0 | 0 | 0 | 0 | 0 |\n",
       "| 5106857 | 0 | 0 | 0 | 0 | 0 | 1 | 0 | 0 | 0 | 0 | 0 | 0 | 0 | 0 | 0 | 0 |\n",
       "\n"
      ],
      "text/plain": [
       "  eid     d1_Abdominal hernia d1_Anemias d1_bacterial infection\n",
       "1 4984090 0                   0          0                     \n",
       "2 4304000 0                   0          0                     \n",
       "3 5228869 0                   0          0                     \n",
       "4 1849766 0                   0          0                     \n",
       "5 3805396 0                   1          0                     \n",
       "6 5106857 0                   0          0                     \n",
       "  d1_Benign and malignant neoplasm of colon\n",
       "1 1                                        \n",
       "2 0                                        \n",
       "3 0                                        \n",
       "4 0                                        \n",
       "5 0                                        \n",
       "6 0                                        \n",
       "  d1_cancer of female genital organs; breast dysplasia d1_Cataract d1_DIABETES\n",
       "1 0                                                    0           0          \n",
       "2 0                                                    0           0          \n",
       "3 0                                                    0           0          \n",
       "4 0                                                    0           0          \n",
       "5 0                                                    0           0          \n",
       "6 0                                                    1           0          \n",
       "  d1_diseases of veins and lymphatics d1_Disorders of lipoid metabolism\n",
       "1 0                                   0                                \n",
       "2 0                                   0                                \n",
       "3 0                                   0                                \n",
       "4 0                                   0                                \n",
       "5 0                                   0                                \n",
       "6 0                                   0                                \n",
       "  d1_DISORDERS OF THYROID GLAND d1_esophageal disorders d1_HYPERTENSIVE DISEASE\n",
       "1 0                             0                       0                      \n",
       "2 0                             0                       1                      \n",
       "3 0                             1                       0                      \n",
       "4 0                             0                       0                      \n",
       "5 0                             0                       0                      \n",
       "6 0                             0                       0                      \n",
       "  d1_ISCHEMIC HEART DISEASE d1_Malignant neoplasm of skin\n",
       "1 0                         0                            \n",
       "2 0                         0                            \n",
       "3 0                         0                            \n",
       "4 0                         0                            \n",
       "5 0                         0                            \n",
       "6 0                         0                            \n",
       "  d1_mononeuritis and nerve lesions d1_noninfective gastrointestinal disorders\n",
       "1 0                                 0                                         \n",
       "2 0                                 0                                         \n",
       "3 0                                 0                                         \n",
       "4 1                                 0                                         \n",
       "5 0                                 0                                         \n",
       "6 0                                 0                                         "
      ]
     },
     "metadata": {},
     "output_type": "display_data"
    }
   ],
   "source": [
    "head(result_matrix1)"
   ]
  },
  {
   "cell_type": "code",
   "execution_count": 7,
   "metadata": {},
   "outputs": [
    {
     "data": {
      "text/html": [
       "<table>\n",
       "<caption>A data.table: 6 × 17</caption>\n",
       "<thead>\n",
       "\t<tr><th scope=col>eid</th><th scope=col>d2_Abdominal hernia</th><th scope=col>d2_Anemias</th><th scope=col>d2_bacterial infection</th><th scope=col>d2_Benign and malignant neoplasm of colon</th><th scope=col>d2_cancer of female genital organs; breast dysplasia</th><th scope=col>d2_Cataract</th><th scope=col>d2_DIABETES</th><th scope=col>d2_diseases of veins and lymphatics</th><th scope=col>d2_Disorders of lipoid metabolism</th><th scope=col>d2_DISORDERS OF THYROID GLAND</th><th scope=col>d2_esophageal disorders</th><th scope=col>d2_HYPERTENSIVE DISEASE</th><th scope=col>d2_ISCHEMIC HEART DISEASE</th><th scope=col>d2_Malignant neoplasm of skin</th><th scope=col>d2_mononeuritis and nerve lesions</th><th scope=col>d2_noninfective gastrointestinal disorders</th></tr>\n",
       "\t<tr><th scope=col>&lt;int&gt;</th><th scope=col>&lt;int&gt;</th><th scope=col>&lt;int&gt;</th><th scope=col>&lt;int&gt;</th><th scope=col>&lt;int&gt;</th><th scope=col>&lt;int&gt;</th><th scope=col>&lt;int&gt;</th><th scope=col>&lt;int&gt;</th><th scope=col>&lt;int&gt;</th><th scope=col>&lt;int&gt;</th><th scope=col>&lt;int&gt;</th><th scope=col>&lt;int&gt;</th><th scope=col>&lt;int&gt;</th><th scope=col>&lt;int&gt;</th><th scope=col>&lt;int&gt;</th><th scope=col>&lt;int&gt;</th><th scope=col>&lt;int&gt;</th></tr>\n",
       "</thead>\n",
       "<tbody>\n",
       "\t<tr><td>3793169</td><td>0</td><td>0</td><td>1</td><td>0</td><td>0</td><td>0</td><td>0</td><td>0</td><td>0</td><td>0</td><td>0</td><td>0</td><td>0</td><td>0</td><td>0</td><td>0</td></tr>\n",
       "\t<tr><td>3119762</td><td>0</td><td>0</td><td>1</td><td>0</td><td>0</td><td>0</td><td>0</td><td>0</td><td>0</td><td>0</td><td>0</td><td>0</td><td>0</td><td>0</td><td>0</td><td>0</td></tr>\n",
       "\t<tr><td>4736711</td><td>0</td><td>0</td><td>1</td><td>0</td><td>0</td><td>0</td><td>0</td><td>0</td><td>0</td><td>0</td><td>0</td><td>0</td><td>0</td><td>0</td><td>0</td><td>0</td></tr>\n",
       "\t<tr><td>3735566</td><td>0</td><td>0</td><td>1</td><td>0</td><td>0</td><td>0</td><td>0</td><td>0</td><td>0</td><td>0</td><td>0</td><td>0</td><td>0</td><td>0</td><td>0</td><td>0</td></tr>\n",
       "\t<tr><td>5430291</td><td>0</td><td>0</td><td>1</td><td>0</td><td>0</td><td>0</td><td>0</td><td>0</td><td>0</td><td>0</td><td>0</td><td>0</td><td>0</td><td>0</td><td>0</td><td>0</td></tr>\n",
       "\t<tr><td>2277091</td><td>0</td><td>0</td><td>1</td><td>0</td><td>0</td><td>0</td><td>0</td><td>0</td><td>0</td><td>0</td><td>0</td><td>0</td><td>0</td><td>0</td><td>0</td><td>0</td></tr>\n",
       "</tbody>\n",
       "</table>\n"
      ],
      "text/latex": [
       "A data.table: 6 × 17\n",
       "\\begin{tabular}{r|lllllllllllllllll}\n",
       " eid & d2\\_Abdominal hernia & d2\\_Anemias & d2\\_bacterial infection & d2\\_Benign and malignant neoplasm of colon & d2\\_cancer of female genital organs; breast dysplasia & d2\\_Cataract & d2\\_DIABETES & d2\\_diseases of veins and lymphatics & d2\\_Disorders of lipoid metabolism & d2\\_DISORDERS OF THYROID GLAND & d2\\_esophageal disorders & d2\\_HYPERTENSIVE DISEASE & d2\\_ISCHEMIC HEART DISEASE & d2\\_Malignant neoplasm of skin & d2\\_mononeuritis and nerve lesions & d2\\_noninfective gastrointestinal disorders\\\\\n",
       " <int> & <int> & <int> & <int> & <int> & <int> & <int> & <int> & <int> & <int> & <int> & <int> & <int> & <int> & <int> & <int> & <int>\\\\\n",
       "\\hline\n",
       "\t 3793169 & 0 & 0 & 1 & 0 & 0 & 0 & 0 & 0 & 0 & 0 & 0 & 0 & 0 & 0 & 0 & 0\\\\\n",
       "\t 3119762 & 0 & 0 & 1 & 0 & 0 & 0 & 0 & 0 & 0 & 0 & 0 & 0 & 0 & 0 & 0 & 0\\\\\n",
       "\t 4736711 & 0 & 0 & 1 & 0 & 0 & 0 & 0 & 0 & 0 & 0 & 0 & 0 & 0 & 0 & 0 & 0\\\\\n",
       "\t 3735566 & 0 & 0 & 1 & 0 & 0 & 0 & 0 & 0 & 0 & 0 & 0 & 0 & 0 & 0 & 0 & 0\\\\\n",
       "\t 5430291 & 0 & 0 & 1 & 0 & 0 & 0 & 0 & 0 & 0 & 0 & 0 & 0 & 0 & 0 & 0 & 0\\\\\n",
       "\t 2277091 & 0 & 0 & 1 & 0 & 0 & 0 & 0 & 0 & 0 & 0 & 0 & 0 & 0 & 0 & 0 & 0\\\\\n",
       "\\end{tabular}\n"
      ],
      "text/markdown": [
       "\n",
       "A data.table: 6 × 17\n",
       "\n",
       "| eid &lt;int&gt; | d2_Abdominal hernia &lt;int&gt; | d2_Anemias &lt;int&gt; | d2_bacterial infection &lt;int&gt; | d2_Benign and malignant neoplasm of colon &lt;int&gt; | d2_cancer of female genital organs; breast dysplasia &lt;int&gt; | d2_Cataract &lt;int&gt; | d2_DIABETES &lt;int&gt; | d2_diseases of veins and lymphatics &lt;int&gt; | d2_Disorders of lipoid metabolism &lt;int&gt; | d2_DISORDERS OF THYROID GLAND &lt;int&gt; | d2_esophageal disorders &lt;int&gt; | d2_HYPERTENSIVE DISEASE &lt;int&gt; | d2_ISCHEMIC HEART DISEASE &lt;int&gt; | d2_Malignant neoplasm of skin &lt;int&gt; | d2_mononeuritis and nerve lesions &lt;int&gt; | d2_noninfective gastrointestinal disorders &lt;int&gt; |\n",
       "|---|---|---|---|---|---|---|---|---|---|---|---|---|---|---|---|---|\n",
       "| 3793169 | 0 | 0 | 1 | 0 | 0 | 0 | 0 | 0 | 0 | 0 | 0 | 0 | 0 | 0 | 0 | 0 |\n",
       "| 3119762 | 0 | 0 | 1 | 0 | 0 | 0 | 0 | 0 | 0 | 0 | 0 | 0 | 0 | 0 | 0 | 0 |\n",
       "| 4736711 | 0 | 0 | 1 | 0 | 0 | 0 | 0 | 0 | 0 | 0 | 0 | 0 | 0 | 0 | 0 | 0 |\n",
       "| 3735566 | 0 | 0 | 1 | 0 | 0 | 0 | 0 | 0 | 0 | 0 | 0 | 0 | 0 | 0 | 0 | 0 |\n",
       "| 5430291 | 0 | 0 | 1 | 0 | 0 | 0 | 0 | 0 | 0 | 0 | 0 | 0 | 0 | 0 | 0 | 0 |\n",
       "| 2277091 | 0 | 0 | 1 | 0 | 0 | 0 | 0 | 0 | 0 | 0 | 0 | 0 | 0 | 0 | 0 | 0 |\n",
       "\n"
      ],
      "text/plain": [
       "  eid     d2_Abdominal hernia d2_Anemias d2_bacterial infection\n",
       "1 3793169 0                   0          1                     \n",
       "2 3119762 0                   0          1                     \n",
       "3 4736711 0                   0          1                     \n",
       "4 3735566 0                   0          1                     \n",
       "5 5430291 0                   0          1                     \n",
       "6 2277091 0                   0          1                     \n",
       "  d2_Benign and malignant neoplasm of colon\n",
       "1 0                                        \n",
       "2 0                                        \n",
       "3 0                                        \n",
       "4 0                                        \n",
       "5 0                                        \n",
       "6 0                                        \n",
       "  d2_cancer of female genital organs; breast dysplasia d2_Cataract d2_DIABETES\n",
       "1 0                                                    0           0          \n",
       "2 0                                                    0           0          \n",
       "3 0                                                    0           0          \n",
       "4 0                                                    0           0          \n",
       "5 0                                                    0           0          \n",
       "6 0                                                    0           0          \n",
       "  d2_diseases of veins and lymphatics d2_Disorders of lipoid metabolism\n",
       "1 0                                   0                                \n",
       "2 0                                   0                                \n",
       "3 0                                   0                                \n",
       "4 0                                   0                                \n",
       "5 0                                   0                                \n",
       "6 0                                   0                                \n",
       "  d2_DISORDERS OF THYROID GLAND d2_esophageal disorders d2_HYPERTENSIVE DISEASE\n",
       "1 0                             0                       0                      \n",
       "2 0                             0                       0                      \n",
       "3 0                             0                       0                      \n",
       "4 0                             0                       0                      \n",
       "5 0                             0                       0                      \n",
       "6 0                             0                       0                      \n",
       "  d2_ISCHEMIC HEART DISEASE d2_Malignant neoplasm of skin\n",
       "1 0                         0                            \n",
       "2 0                         0                            \n",
       "3 0                         0                            \n",
       "4 0                         0                            \n",
       "5 0                         0                            \n",
       "6 0                         0                            \n",
       "  d2_mononeuritis and nerve lesions d2_noninfective gastrointestinal disorders\n",
       "1 0                                 0                                         \n",
       "2 0                                 0                                         \n",
       "3 0                                 0                                         \n",
       "4 0                                 0                                         \n",
       "5 0                                 0                                         \n",
       "6 0                                 0                                         "
      ]
     },
     "metadata": {},
     "output_type": "display_data"
    }
   ],
   "source": [
    "head(result_matrix2)"
   ]
  },
  {
   "cell_type": "code",
   "execution_count": 8,
   "metadata": {},
   "outputs": [],
   "source": [
    "var<-str_split(colnames(result_matrix1)[-1],'_')\n",
    "var1<-c()\n",
    "for(i in 1:16){\n",
    "    var1<-c(var1,var[[i]][2])\n",
    "}"
   ]
  },
  {
   "cell_type": "code",
   "execution_count": 9,
   "metadata": {},
   "outputs": [],
   "source": [
    "df <- data.frame(matrix(ncol = 17, nrow = nrow(result)))\n",
    "colnames(df)<-c('eid',var1)\n",
    "df$eid<-result$eid"
   ]
  },
  {
   "cell_type": "code",
   "execution_count": 14,
   "metadata": {},
   "outputs": [
    {
     "data": {
      "text/html": [
       "<table>\n",
       "<caption>A data.frame: 6 × 17</caption>\n",
       "<thead>\n",
       "\t<tr><th scope=col>eid</th><th scope=col>Abdominal hernia</th><th scope=col>Anemias</th><th scope=col>bacterial infection</th><th scope=col>Benign and malignant neoplasm of colon</th><th scope=col>cancer of female genital organs; breast dysplasia</th><th scope=col>Cataract</th><th scope=col>DIABETES</th><th scope=col>diseases of veins and lymphatics</th><th scope=col>Disorders of lipoid metabolism</th><th scope=col>DISORDERS OF THYROID GLAND</th><th scope=col>esophageal disorders</th><th scope=col>HYPERTENSIVE DISEASE</th><th scope=col>ISCHEMIC HEART DISEASE</th><th scope=col>Malignant neoplasm of skin</th><th scope=col>mononeuritis and nerve lesions</th><th scope=col>noninfective gastrointestinal disorders</th></tr>\n",
       "\t<tr><th scope=col>&lt;int&gt;</th><th scope=col>&lt;dbl&gt;</th><th scope=col>&lt;dbl&gt;</th><th scope=col>&lt;dbl&gt;</th><th scope=col>&lt;dbl&gt;</th><th scope=col>&lt;dbl&gt;</th><th scope=col>&lt;dbl&gt;</th><th scope=col>&lt;dbl&gt;</th><th scope=col>&lt;dbl&gt;</th><th scope=col>&lt;dbl&gt;</th><th scope=col>&lt;dbl&gt;</th><th scope=col>&lt;dbl&gt;</th><th scope=col>&lt;dbl&gt;</th><th scope=col>&lt;dbl&gt;</th><th scope=col>&lt;dbl&gt;</th><th scope=col>&lt;dbl&gt;</th><th scope=col>&lt;dbl&gt;</th></tr>\n",
       "</thead>\n",
       "<tbody>\n",
       "\t<tr><td>4984090</td><td>NA</td><td>NA</td><td>NA</td><td>NA</td><td>NA</td><td>NA</td><td>NA</td><td>NA</td><td>NA</td><td>NA</td><td>NA</td><td>NA</td><td>NA</td><td>NA</td><td>NA</td><td>NA</td></tr>\n",
       "\t<tr><td>4304000</td><td>NA</td><td>NA</td><td>NA</td><td>NA</td><td>NA</td><td>NA</td><td>NA</td><td>NA</td><td>NA</td><td>NA</td><td>NA</td><td>NA</td><td>NA</td><td>NA</td><td>NA</td><td>NA</td></tr>\n",
       "\t<tr><td>5228869</td><td>NA</td><td>NA</td><td>NA</td><td>NA</td><td>NA</td><td>NA</td><td>NA</td><td>NA</td><td>NA</td><td>NA</td><td>NA</td><td>NA</td><td>NA</td><td>NA</td><td>NA</td><td>NA</td></tr>\n",
       "\t<tr><td>1849766</td><td>NA</td><td>NA</td><td>NA</td><td>NA</td><td>NA</td><td>NA</td><td>NA</td><td>NA</td><td>NA</td><td>NA</td><td>NA</td><td>NA</td><td>NA</td><td>NA</td><td>NA</td><td>NA</td></tr>\n",
       "\t<tr><td>3805396</td><td>NA</td><td>NA</td><td>NA</td><td>NA</td><td>NA</td><td>NA</td><td>NA</td><td>NA</td><td>NA</td><td>NA</td><td>NA</td><td>NA</td><td>NA</td><td>NA</td><td>NA</td><td>NA</td></tr>\n",
       "\t<tr><td>5106857</td><td>NA</td><td>NA</td><td>NA</td><td>NA</td><td>NA</td><td>NA</td><td>NA</td><td>NA</td><td>NA</td><td>NA</td><td>NA</td><td>NA</td><td>NA</td><td>NA</td><td>NA</td><td>NA</td></tr>\n",
       "</tbody>\n",
       "</table>\n"
      ],
      "text/latex": [
       "A data.frame: 6 × 17\n",
       "\\begin{tabular}{r|lllllllllllllllll}\n",
       " eid & Abdominal hernia & Anemias & bacterial infection & Benign and malignant neoplasm of colon & cancer of female genital organs; breast dysplasia & Cataract & DIABETES & diseases of veins and lymphatics & Disorders of lipoid metabolism & DISORDERS OF THYROID GLAND & esophageal disorders & HYPERTENSIVE DISEASE & ISCHEMIC HEART DISEASE & Malignant neoplasm of skin & mononeuritis and nerve lesions & noninfective gastrointestinal disorders\\\\\n",
       " <int> & <dbl> & <dbl> & <dbl> & <dbl> & <dbl> & <dbl> & <dbl> & <dbl> & <dbl> & <dbl> & <dbl> & <dbl> & <dbl> & <dbl> & <dbl> & <dbl>\\\\\n",
       "\\hline\n",
       "\t 4984090 & NA & NA & NA & NA & NA & NA & NA & NA & NA & NA & NA & NA & NA & NA & NA & NA\\\\\n",
       "\t 4304000 & NA & NA & NA & NA & NA & NA & NA & NA & NA & NA & NA & NA & NA & NA & NA & NA\\\\\n",
       "\t 5228869 & NA & NA & NA & NA & NA & NA & NA & NA & NA & NA & NA & NA & NA & NA & NA & NA\\\\\n",
       "\t 1849766 & NA & NA & NA & NA & NA & NA & NA & NA & NA & NA & NA & NA & NA & NA & NA & NA\\\\\n",
       "\t 3805396 & NA & NA & NA & NA & NA & NA & NA & NA & NA & NA & NA & NA & NA & NA & NA & NA\\\\\n",
       "\t 5106857 & NA & NA & NA & NA & NA & NA & NA & NA & NA & NA & NA & NA & NA & NA & NA & NA\\\\\n",
       "\\end{tabular}\n"
      ],
      "text/markdown": [
       "\n",
       "A data.frame: 6 × 17\n",
       "\n",
       "| eid &lt;int&gt; | Abdominal hernia &lt;dbl&gt; | Anemias &lt;dbl&gt; | bacterial infection &lt;dbl&gt; | Benign and malignant neoplasm of colon &lt;dbl&gt; | cancer of female genital organs; breast dysplasia &lt;dbl&gt; | Cataract &lt;dbl&gt; | DIABETES &lt;dbl&gt; | diseases of veins and lymphatics &lt;dbl&gt; | Disorders of lipoid metabolism &lt;dbl&gt; | DISORDERS OF THYROID GLAND &lt;dbl&gt; | esophageal disorders &lt;dbl&gt; | HYPERTENSIVE DISEASE &lt;dbl&gt; | ISCHEMIC HEART DISEASE &lt;dbl&gt; | Malignant neoplasm of skin &lt;dbl&gt; | mononeuritis and nerve lesions &lt;dbl&gt; | noninfective gastrointestinal disorders &lt;dbl&gt; |\n",
       "|---|---|---|---|---|---|---|---|---|---|---|---|---|---|---|---|---|\n",
       "| 4984090 | NA | NA | NA | NA | NA | NA | NA | NA | NA | NA | NA | NA | NA | NA | NA | NA |\n",
       "| 4304000 | NA | NA | NA | NA | NA | NA | NA | NA | NA | NA | NA | NA | NA | NA | NA | NA |\n",
       "| 5228869 | NA | NA | NA | NA | NA | NA | NA | NA | NA | NA | NA | NA | NA | NA | NA | NA |\n",
       "| 1849766 | NA | NA | NA | NA | NA | NA | NA | NA | NA | NA | NA | NA | NA | NA | NA | NA |\n",
       "| 3805396 | NA | NA | NA | NA | NA | NA | NA | NA | NA | NA | NA | NA | NA | NA | NA | NA |\n",
       "| 5106857 | NA | NA | NA | NA | NA | NA | NA | NA | NA | NA | NA | NA | NA | NA | NA | NA |\n",
       "\n"
      ],
      "text/plain": [
       "  eid     Abdominal hernia Anemias bacterial infection\n",
       "1 4984090 NA               NA      NA                 \n",
       "2 4304000 NA               NA      NA                 \n",
       "3 5228869 NA               NA      NA                 \n",
       "4 1849766 NA               NA      NA                 \n",
       "5 3805396 NA               NA      NA                 \n",
       "6 5106857 NA               NA      NA                 \n",
       "  Benign and malignant neoplasm of colon\n",
       "1 NA                                    \n",
       "2 NA                                    \n",
       "3 NA                                    \n",
       "4 NA                                    \n",
       "5 NA                                    \n",
       "6 NA                                    \n",
       "  cancer of female genital organs; breast dysplasia Cataract DIABETES\n",
       "1 NA                                                NA       NA      \n",
       "2 NA                                                NA       NA      \n",
       "3 NA                                                NA       NA      \n",
       "4 NA                                                NA       NA      \n",
       "5 NA                                                NA       NA      \n",
       "6 NA                                                NA       NA      \n",
       "  diseases of veins and lymphatics Disorders of lipoid metabolism\n",
       "1 NA                               NA                            \n",
       "2 NA                               NA                            \n",
       "3 NA                               NA                            \n",
       "4 NA                               NA                            \n",
       "5 NA                               NA                            \n",
       "6 NA                               NA                            \n",
       "  DISORDERS OF THYROID GLAND esophageal disorders HYPERTENSIVE DISEASE\n",
       "1 NA                         NA                   NA                  \n",
       "2 NA                         NA                   NA                  \n",
       "3 NA                         NA                   NA                  \n",
       "4 NA                         NA                   NA                  \n",
       "5 NA                         NA                   NA                  \n",
       "6 NA                         NA                   NA                  \n",
       "  ISCHEMIC HEART DISEASE Malignant neoplasm of skin\n",
       "1 NA                     NA                        \n",
       "2 NA                     NA                        \n",
       "3 NA                     NA                        \n",
       "4 NA                     NA                        \n",
       "5 NA                     NA                        \n",
       "6 NA                     NA                        \n",
       "  mononeuritis and nerve lesions noninfective gastrointestinal disorders\n",
       "1 NA                             NA                                     \n",
       "2 NA                             NA                                     \n",
       "3 NA                             NA                                     \n",
       "4 NA                             NA                                     \n",
       "5 NA                             NA                                     \n",
       "6 NA                             NA                                     "
      ]
     },
     "metadata": {},
     "output_type": "display_data"
    }
   ],
   "source": [
    "head(df)"
   ]
  },
  {
   "cell_type": "code",
   "execution_count": 18,
   "metadata": {},
   "outputs": [],
   "source": [
    "for(i in 2:17)\n",
    "    {\n",
    "    df[which(result_matrix1[,i]==1),i]<-1\n",
    "}"
   ]
  },
  {
   "cell_type": "code",
   "execution_count": 53,
   "metadata": {},
   "outputs": [],
   "source": [
    "df[which(result_matrix2[,2]==1),2]<-1\n",
    "df[which(result_matrix2[,3]==1),3]<-1\n",
    "df[which(result_matrix2[,4]==1),4]<-1\n",
    "df[which(result_matrix2[,5]==1),5]<-1\n",
    "df[which(result_matrix2[,6]==1),6]<-1\n",
    "df[which(result_matrix2[,7]==1),7]<-1\n",
    "df[which(result_matrix2[,8]==1),8]<-1\n",
    "df[which(result_matrix2[,9]==1),9]<-1\n",
    "df[which(result_matrix2[,10]==1),10]<-1\n",
    "df[which(result_matrix2[,11]==1),11]<-1\n",
    "df[which(result_matrix2[,12]==1),12]<-1\n",
    "df[which(result_matrix2[,13]==1),13]<-1\n",
    "df[which(result_matrix2[,14]==1),14]<-1\n",
    "df[which(result_matrix2[,15]==1),15]<-1\n",
    "df[which(result_matrix2[,16]==1),16]<-1\n",
    "df[which(result_matrix2[,17]==1),17]<-1"
   ]
  },
  {
   "cell_type": "code",
   "execution_count": 56,
   "metadata": {},
   "outputs": [],
   "source": [
    "df[is.na(df)]<-0"
   ]
  },
  {
   "cell_type": "code",
   "execution_count": 57,
   "metadata": {},
   "outputs": [
    {
     "data": {
      "text/html": [
       "<table>\n",
       "<caption>A data.frame: 6 × 17</caption>\n",
       "<thead>\n",
       "\t<tr><th scope=col>eid</th><th scope=col>Abdominal hernia</th><th scope=col>Anemias</th><th scope=col>bacterial infection</th><th scope=col>Benign and malignant neoplasm of colon</th><th scope=col>cancer of female genital organs; breast dysplasia</th><th scope=col>Cataract</th><th scope=col>DIABETES</th><th scope=col>diseases of veins and lymphatics</th><th scope=col>Disorders of lipoid metabolism</th><th scope=col>DISORDERS OF THYROID GLAND</th><th scope=col>esophageal disorders</th><th scope=col>HYPERTENSIVE DISEASE</th><th scope=col>ISCHEMIC HEART DISEASE</th><th scope=col>Malignant neoplasm of skin</th><th scope=col>mononeuritis and nerve lesions</th><th scope=col>noninfective gastrointestinal disorders</th></tr>\n",
       "\t<tr><th scope=col>&lt;int&gt;</th><th scope=col>&lt;dbl&gt;</th><th scope=col>&lt;dbl&gt;</th><th scope=col>&lt;dbl&gt;</th><th scope=col>&lt;dbl&gt;</th><th scope=col>&lt;dbl&gt;</th><th scope=col>&lt;dbl&gt;</th><th scope=col>&lt;dbl&gt;</th><th scope=col>&lt;dbl&gt;</th><th scope=col>&lt;dbl&gt;</th><th scope=col>&lt;dbl&gt;</th><th scope=col>&lt;dbl&gt;</th><th scope=col>&lt;dbl&gt;</th><th scope=col>&lt;dbl&gt;</th><th scope=col>&lt;dbl&gt;</th><th scope=col>&lt;dbl&gt;</th><th scope=col>&lt;dbl&gt;</th></tr>\n",
       "</thead>\n",
       "<tbody>\n",
       "\t<tr><td>4984090</td><td>0</td><td>0</td><td>1</td><td>1</td><td>0</td><td>0</td><td>0</td><td>0</td><td>0</td><td>0</td><td>0</td><td>0</td><td>0</td><td>0</td><td>0</td><td>0</td></tr>\n",
       "\t<tr><td>4304000</td><td>0</td><td>0</td><td>1</td><td>0</td><td>0</td><td>0</td><td>0</td><td>0</td><td>0</td><td>0</td><td>0</td><td>1</td><td>0</td><td>0</td><td>0</td><td>0</td></tr>\n",
       "\t<tr><td>5228869</td><td>0</td><td>0</td><td>1</td><td>0</td><td>0</td><td>0</td><td>0</td><td>0</td><td>0</td><td>0</td><td>1</td><td>0</td><td>0</td><td>0</td><td>0</td><td>0</td></tr>\n",
       "\t<tr><td>1849766</td><td>0</td><td>0</td><td>1</td><td>0</td><td>0</td><td>0</td><td>0</td><td>0</td><td>0</td><td>0</td><td>0</td><td>0</td><td>0</td><td>0</td><td>1</td><td>0</td></tr>\n",
       "\t<tr><td>3805396</td><td>0</td><td>1</td><td>1</td><td>0</td><td>0</td><td>0</td><td>0</td><td>0</td><td>0</td><td>0</td><td>0</td><td>0</td><td>0</td><td>0</td><td>0</td><td>0</td></tr>\n",
       "\t<tr><td>5106857</td><td>0</td><td>0</td><td>1</td><td>0</td><td>0</td><td>1</td><td>0</td><td>0</td><td>0</td><td>0</td><td>0</td><td>0</td><td>0</td><td>0</td><td>0</td><td>0</td></tr>\n",
       "</tbody>\n",
       "</table>\n"
      ],
      "text/latex": [
       "A data.frame: 6 × 17\n",
       "\\begin{tabular}{r|lllllllllllllllll}\n",
       " eid & Abdominal hernia & Anemias & bacterial infection & Benign and malignant neoplasm of colon & cancer of female genital organs; breast dysplasia & Cataract & DIABETES & diseases of veins and lymphatics & Disorders of lipoid metabolism & DISORDERS OF THYROID GLAND & esophageal disorders & HYPERTENSIVE DISEASE & ISCHEMIC HEART DISEASE & Malignant neoplasm of skin & mononeuritis and nerve lesions & noninfective gastrointestinal disorders\\\\\n",
       " <int> & <dbl> & <dbl> & <dbl> & <dbl> & <dbl> & <dbl> & <dbl> & <dbl> & <dbl> & <dbl> & <dbl> & <dbl> & <dbl> & <dbl> & <dbl> & <dbl>\\\\\n",
       "\\hline\n",
       "\t 4984090 & 0 & 0 & 1 & 1 & 0 & 0 & 0 & 0 & 0 & 0 & 0 & 0 & 0 & 0 & 0 & 0\\\\\n",
       "\t 4304000 & 0 & 0 & 1 & 0 & 0 & 0 & 0 & 0 & 0 & 0 & 0 & 1 & 0 & 0 & 0 & 0\\\\\n",
       "\t 5228869 & 0 & 0 & 1 & 0 & 0 & 0 & 0 & 0 & 0 & 0 & 1 & 0 & 0 & 0 & 0 & 0\\\\\n",
       "\t 1849766 & 0 & 0 & 1 & 0 & 0 & 0 & 0 & 0 & 0 & 0 & 0 & 0 & 0 & 0 & 1 & 0\\\\\n",
       "\t 3805396 & 0 & 1 & 1 & 0 & 0 & 0 & 0 & 0 & 0 & 0 & 0 & 0 & 0 & 0 & 0 & 0\\\\\n",
       "\t 5106857 & 0 & 0 & 1 & 0 & 0 & 1 & 0 & 0 & 0 & 0 & 0 & 0 & 0 & 0 & 0 & 0\\\\\n",
       "\\end{tabular}\n"
      ],
      "text/markdown": [
       "\n",
       "A data.frame: 6 × 17\n",
       "\n",
       "| eid &lt;int&gt; | Abdominal hernia &lt;dbl&gt; | Anemias &lt;dbl&gt; | bacterial infection &lt;dbl&gt; | Benign and malignant neoplasm of colon &lt;dbl&gt; | cancer of female genital organs; breast dysplasia &lt;dbl&gt; | Cataract &lt;dbl&gt; | DIABETES &lt;dbl&gt; | diseases of veins and lymphatics &lt;dbl&gt; | Disorders of lipoid metabolism &lt;dbl&gt; | DISORDERS OF THYROID GLAND &lt;dbl&gt; | esophageal disorders &lt;dbl&gt; | HYPERTENSIVE DISEASE &lt;dbl&gt; | ISCHEMIC HEART DISEASE &lt;dbl&gt; | Malignant neoplasm of skin &lt;dbl&gt; | mononeuritis and nerve lesions &lt;dbl&gt; | noninfective gastrointestinal disorders &lt;dbl&gt; |\n",
       "|---|---|---|---|---|---|---|---|---|---|---|---|---|---|---|---|---|\n",
       "| 4984090 | 0 | 0 | 1 | 1 | 0 | 0 | 0 | 0 | 0 | 0 | 0 | 0 | 0 | 0 | 0 | 0 |\n",
       "| 4304000 | 0 | 0 | 1 | 0 | 0 | 0 | 0 | 0 | 0 | 0 | 0 | 1 | 0 | 0 | 0 | 0 |\n",
       "| 5228869 | 0 | 0 | 1 | 0 | 0 | 0 | 0 | 0 | 0 | 0 | 1 | 0 | 0 | 0 | 0 | 0 |\n",
       "| 1849766 | 0 | 0 | 1 | 0 | 0 | 0 | 0 | 0 | 0 | 0 | 0 | 0 | 0 | 0 | 1 | 0 |\n",
       "| 3805396 | 0 | 1 | 1 | 0 | 0 | 0 | 0 | 0 | 0 | 0 | 0 | 0 | 0 | 0 | 0 | 0 |\n",
       "| 5106857 | 0 | 0 | 1 | 0 | 0 | 1 | 0 | 0 | 0 | 0 | 0 | 0 | 0 | 0 | 0 | 0 |\n",
       "\n"
      ],
      "text/plain": [
       "  eid     Abdominal hernia Anemias bacterial infection\n",
       "1 4984090 0                0       1                  \n",
       "2 4304000 0                0       1                  \n",
       "3 5228869 0                0       1                  \n",
       "4 1849766 0                0       1                  \n",
       "5 3805396 0                1       1                  \n",
       "6 5106857 0                0       1                  \n",
       "  Benign and malignant neoplasm of colon\n",
       "1 1                                     \n",
       "2 0                                     \n",
       "3 0                                     \n",
       "4 0                                     \n",
       "5 0                                     \n",
       "6 0                                     \n",
       "  cancer of female genital organs; breast dysplasia Cataract DIABETES\n",
       "1 0                                                 0        0       \n",
       "2 0                                                 0        0       \n",
       "3 0                                                 0        0       \n",
       "4 0                                                 0        0       \n",
       "5 0                                                 0        0       \n",
       "6 0                                                 1        0       \n",
       "  diseases of veins and lymphatics Disorders of lipoid metabolism\n",
       "1 0                                0                             \n",
       "2 0                                0                             \n",
       "3 0                                0                             \n",
       "4 0                                0                             \n",
       "5 0                                0                             \n",
       "6 0                                0                             \n",
       "  DISORDERS OF THYROID GLAND esophageal disorders HYPERTENSIVE DISEASE\n",
       "1 0                          0                    0                   \n",
       "2 0                          0                    1                   \n",
       "3 0                          1                    0                   \n",
       "4 0                          0                    0                   \n",
       "5 0                          0                    0                   \n",
       "6 0                          0                    0                   \n",
       "  ISCHEMIC HEART DISEASE Malignant neoplasm of skin\n",
       "1 0                      0                         \n",
       "2 0                      0                         \n",
       "3 0                      0                         \n",
       "4 0                      0                         \n",
       "5 0                      0                         \n",
       "6 0                      0                         \n",
       "  mononeuritis and nerve lesions noninfective gastrointestinal disorders\n",
       "1 0                              0                                      \n",
       "2 0                              0                                      \n",
       "3 0                              0                                      \n",
       "4 1                              0                                      \n",
       "5 0                              0                                      \n",
       "6 0                              0                                      "
      ]
     },
     "metadata": {},
     "output_type": "display_data"
    }
   ],
   "source": [
    "head(df)"
   ]
  },
  {
   "cell_type": "code",
   "execution_count": 61,
   "metadata": {},
   "outputs": [],
   "source": [
    "kk<-df %>% select(-eid) %>% mutate_all(funs(factor(.)))\n",
    "kk$eid <- df$eid\n",
    "kk<- kk %>% select('eid',everything())"
   ]
  },
  {
   "cell_type": "code",
   "execution_count": 62,
   "metadata": {},
   "outputs": [
    {
     "data": {
      "text/html": [
       "<table>\n",
       "<caption>A data.frame: 6 × 17</caption>\n",
       "<thead>\n",
       "\t<tr><th scope=col>eid</th><th scope=col>Abdominal hernia</th><th scope=col>Anemias</th><th scope=col>bacterial infection</th><th scope=col>Benign and malignant neoplasm of colon</th><th scope=col>cancer of female genital organs; breast dysplasia</th><th scope=col>Cataract</th><th scope=col>DIABETES</th><th scope=col>diseases of veins and lymphatics</th><th scope=col>Disorders of lipoid metabolism</th><th scope=col>DISORDERS OF THYROID GLAND</th><th scope=col>esophageal disorders</th><th scope=col>HYPERTENSIVE DISEASE</th><th scope=col>ISCHEMIC HEART DISEASE</th><th scope=col>Malignant neoplasm of skin</th><th scope=col>mononeuritis and nerve lesions</th><th scope=col>noninfective gastrointestinal disorders</th></tr>\n",
       "\t<tr><th scope=col>&lt;int&gt;</th><th scope=col>&lt;fct&gt;</th><th scope=col>&lt;fct&gt;</th><th scope=col>&lt;fct&gt;</th><th scope=col>&lt;fct&gt;</th><th scope=col>&lt;fct&gt;</th><th scope=col>&lt;fct&gt;</th><th scope=col>&lt;fct&gt;</th><th scope=col>&lt;fct&gt;</th><th scope=col>&lt;fct&gt;</th><th scope=col>&lt;fct&gt;</th><th scope=col>&lt;fct&gt;</th><th scope=col>&lt;fct&gt;</th><th scope=col>&lt;fct&gt;</th><th scope=col>&lt;fct&gt;</th><th scope=col>&lt;fct&gt;</th><th scope=col>&lt;fct&gt;</th></tr>\n",
       "</thead>\n",
       "<tbody>\n",
       "\t<tr><td>4984090</td><td>0</td><td>0</td><td>1</td><td>1</td><td>0</td><td>0</td><td>0</td><td>0</td><td>0</td><td>0</td><td>0</td><td>0</td><td>0</td><td>0</td><td>0</td><td>0</td></tr>\n",
       "\t<tr><td>4304000</td><td>0</td><td>0</td><td>1</td><td>0</td><td>0</td><td>0</td><td>0</td><td>0</td><td>0</td><td>0</td><td>0</td><td>1</td><td>0</td><td>0</td><td>0</td><td>0</td></tr>\n",
       "\t<tr><td>5228869</td><td>0</td><td>0</td><td>1</td><td>0</td><td>0</td><td>0</td><td>0</td><td>0</td><td>0</td><td>0</td><td>1</td><td>0</td><td>0</td><td>0</td><td>0</td><td>0</td></tr>\n",
       "\t<tr><td>1849766</td><td>0</td><td>0</td><td>1</td><td>0</td><td>0</td><td>0</td><td>0</td><td>0</td><td>0</td><td>0</td><td>0</td><td>0</td><td>0</td><td>0</td><td>1</td><td>0</td></tr>\n",
       "\t<tr><td>3805396</td><td>0</td><td>1</td><td>1</td><td>0</td><td>0</td><td>0</td><td>0</td><td>0</td><td>0</td><td>0</td><td>0</td><td>0</td><td>0</td><td>0</td><td>0</td><td>0</td></tr>\n",
       "\t<tr><td>5106857</td><td>0</td><td>0</td><td>1</td><td>0</td><td>0</td><td>1</td><td>0</td><td>0</td><td>0</td><td>0</td><td>0</td><td>0</td><td>0</td><td>0</td><td>0</td><td>0</td></tr>\n",
       "</tbody>\n",
       "</table>\n"
      ],
      "text/latex": [
       "A data.frame: 6 × 17\n",
       "\\begin{tabular}{r|lllllllllllllllll}\n",
       " eid & Abdominal hernia & Anemias & bacterial infection & Benign and malignant neoplasm of colon & cancer of female genital organs; breast dysplasia & Cataract & DIABETES & diseases of veins and lymphatics & Disorders of lipoid metabolism & DISORDERS OF THYROID GLAND & esophageal disorders & HYPERTENSIVE DISEASE & ISCHEMIC HEART DISEASE & Malignant neoplasm of skin & mononeuritis and nerve lesions & noninfective gastrointestinal disorders\\\\\n",
       " <int> & <fct> & <fct> & <fct> & <fct> & <fct> & <fct> & <fct> & <fct> & <fct> & <fct> & <fct> & <fct> & <fct> & <fct> & <fct> & <fct>\\\\\n",
       "\\hline\n",
       "\t 4984090 & 0 & 0 & 1 & 1 & 0 & 0 & 0 & 0 & 0 & 0 & 0 & 0 & 0 & 0 & 0 & 0\\\\\n",
       "\t 4304000 & 0 & 0 & 1 & 0 & 0 & 0 & 0 & 0 & 0 & 0 & 0 & 1 & 0 & 0 & 0 & 0\\\\\n",
       "\t 5228869 & 0 & 0 & 1 & 0 & 0 & 0 & 0 & 0 & 0 & 0 & 1 & 0 & 0 & 0 & 0 & 0\\\\\n",
       "\t 1849766 & 0 & 0 & 1 & 0 & 0 & 0 & 0 & 0 & 0 & 0 & 0 & 0 & 0 & 0 & 1 & 0\\\\\n",
       "\t 3805396 & 0 & 1 & 1 & 0 & 0 & 0 & 0 & 0 & 0 & 0 & 0 & 0 & 0 & 0 & 0 & 0\\\\\n",
       "\t 5106857 & 0 & 0 & 1 & 0 & 0 & 1 & 0 & 0 & 0 & 0 & 0 & 0 & 0 & 0 & 0 & 0\\\\\n",
       "\\end{tabular}\n"
      ],
      "text/markdown": [
       "\n",
       "A data.frame: 6 × 17\n",
       "\n",
       "| eid &lt;int&gt; | Abdominal hernia &lt;fct&gt; | Anemias &lt;fct&gt; | bacterial infection &lt;fct&gt; | Benign and malignant neoplasm of colon &lt;fct&gt; | cancer of female genital organs; breast dysplasia &lt;fct&gt; | Cataract &lt;fct&gt; | DIABETES &lt;fct&gt; | diseases of veins and lymphatics &lt;fct&gt; | Disorders of lipoid metabolism &lt;fct&gt; | DISORDERS OF THYROID GLAND &lt;fct&gt; | esophageal disorders &lt;fct&gt; | HYPERTENSIVE DISEASE &lt;fct&gt; | ISCHEMIC HEART DISEASE &lt;fct&gt; | Malignant neoplasm of skin &lt;fct&gt; | mononeuritis and nerve lesions &lt;fct&gt; | noninfective gastrointestinal disorders &lt;fct&gt; |\n",
       "|---|---|---|---|---|---|---|---|---|---|---|---|---|---|---|---|---|\n",
       "| 4984090 | 0 | 0 | 1 | 1 | 0 | 0 | 0 | 0 | 0 | 0 | 0 | 0 | 0 | 0 | 0 | 0 |\n",
       "| 4304000 | 0 | 0 | 1 | 0 | 0 | 0 | 0 | 0 | 0 | 0 | 0 | 1 | 0 | 0 | 0 | 0 |\n",
       "| 5228869 | 0 | 0 | 1 | 0 | 0 | 0 | 0 | 0 | 0 | 0 | 1 | 0 | 0 | 0 | 0 | 0 |\n",
       "| 1849766 | 0 | 0 | 1 | 0 | 0 | 0 | 0 | 0 | 0 | 0 | 0 | 0 | 0 | 0 | 1 | 0 |\n",
       "| 3805396 | 0 | 1 | 1 | 0 | 0 | 0 | 0 | 0 | 0 | 0 | 0 | 0 | 0 | 0 | 0 | 0 |\n",
       "| 5106857 | 0 | 0 | 1 | 0 | 0 | 1 | 0 | 0 | 0 | 0 | 0 | 0 | 0 | 0 | 0 | 0 |\n",
       "\n"
      ],
      "text/plain": [
       "  eid     Abdominal hernia Anemias bacterial infection\n",
       "1 4984090 0                0       1                  \n",
       "2 4304000 0                0       1                  \n",
       "3 5228869 0                0       1                  \n",
       "4 1849766 0                0       1                  \n",
       "5 3805396 0                1       1                  \n",
       "6 5106857 0                0       1                  \n",
       "  Benign and malignant neoplasm of colon\n",
       "1 1                                     \n",
       "2 0                                     \n",
       "3 0                                     \n",
       "4 0                                     \n",
       "5 0                                     \n",
       "6 0                                     \n",
       "  cancer of female genital organs; breast dysplasia Cataract DIABETES\n",
       "1 0                                                 0        0       \n",
       "2 0                                                 0        0       \n",
       "3 0                                                 0        0       \n",
       "4 0                                                 0        0       \n",
       "5 0                                                 0        0       \n",
       "6 0                                                 1        0       \n",
       "  diseases of veins and lymphatics Disorders of lipoid metabolism\n",
       "1 0                                0                             \n",
       "2 0                                0                             \n",
       "3 0                                0                             \n",
       "4 0                                0                             \n",
       "5 0                                0                             \n",
       "6 0                                0                             \n",
       "  DISORDERS OF THYROID GLAND esophageal disorders HYPERTENSIVE DISEASE\n",
       "1 0                          0                    0                   \n",
       "2 0                          0                    1                   \n",
       "3 0                          1                    0                   \n",
       "4 0                          0                    0                   \n",
       "5 0                          0                    0                   \n",
       "6 0                          0                    0                   \n",
       "  ISCHEMIC HEART DISEASE Malignant neoplasm of skin\n",
       "1 0                      0                         \n",
       "2 0                      0                         \n",
       "3 0                      0                         \n",
       "4 0                      0                         \n",
       "5 0                      0                         \n",
       "6 0                      0                         \n",
       "  mononeuritis and nerve lesions noninfective gastrointestinal disorders\n",
       "1 0                              0                                      \n",
       "2 0                              0                                      \n",
       "3 0                              0                                      \n",
       "4 1                              0                                      \n",
       "5 0                              0                                      \n",
       "6 0                              0                                      "
      ]
     },
     "metadata": {},
     "output_type": "display_data"
    }
   ],
   "source": [
    "head(kk)"
   ]
  },
  {
   "cell_type": "code",
   "execution_count": 63,
   "metadata": {},
   "outputs": [],
   "source": [
    "write.csv(kk,'more_feature.csv',row.names=F)"
   ]
  }
 ],
 "metadata": {
  "kernelspec": {
   "display_name": "R 3.6.0",
   "language": "R",
   "name": "ir360"
  },
  "language_info": {
   "codemirror_mode": "r",
   "file_extension": ".r",
   "mimetype": "text/x-r-source",
   "name": "R",
   "pygments_lexer": "r",
   "version": "3.6.0"
  }
 },
 "nbformat": 4,
 "nbformat_minor": 2
}
