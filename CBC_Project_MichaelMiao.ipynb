{
 "cells": [
  {
   "cell_type": "code",
   "execution_count": 2,
   "metadata": {},
   "outputs": [
    {
     "name": "stderr",
     "output_type": "stream",
     "text": [
      "Warning message:\n",
      "“'memory.size()' is Windows-specific”"
     ]
    },
    {
     "data": {
      "text/html": [
       "Inf"
      ],
      "text/latex": [
       "Inf"
      ],
      "text/markdown": [
       "Inf"
      ],
      "text/plain": [
       "[1] Inf"
      ]
     },
     "metadata": {},
     "output_type": "display_data"
    },
    {
     "data": {
      "text/html": [
       "<table>\n",
       "<caption>A matrix: 2 × 6 of type dbl</caption>\n",
       "<thead>\n",
       "\t<tr><th></th><th scope=col>used</th><th scope=col>(Mb)</th><th scope=col>gc trigger</th><th scope=col>(Mb)</th><th scope=col>max used</th><th scope=col>(Mb)</th></tr>\n",
       "</thead>\n",
       "<tbody>\n",
       "\t<tr><th scope=row>Ncells</th><td>2210958</td><td>118.1</td><td>3540724</td><td>189.1</td><td>3540724</td><td>189.1</td></tr>\n",
       "\t<tr><th scope=row>Vcells</th><td>3686493</td><td> 28.2</td><td>8388608</td><td> 64.0</td><td>6050310</td><td> 46.2</td></tr>\n",
       "</tbody>\n",
       "</table>\n"
      ],
      "text/latex": [
       "A matrix: 2 × 6 of type dbl\n",
       "\\begin{tabular}{r|llllll}\n",
       "  & used & (Mb) & gc trigger & (Mb) & max used & (Mb)\\\\\n",
       "\\hline\n",
       "\tNcells & 2210958 & 118.1 & 3540724 & 189.1 & 3540724 & 189.1\\\\\n",
       "\tVcells & 3686493 &  28.2 & 8388608 &  64.0 & 6050310 &  46.2\\\\\n",
       "\\end{tabular}\n"
      ],
      "text/markdown": [
       "\n",
       "A matrix: 2 × 6 of type dbl\n",
       "\n",
       "| <!--/--> | used | (Mb) | gc trigger | (Mb) | max used | (Mb) |\n",
       "|---|---|---|---|---|---|---|\n",
       "| Ncells | 2210958 | 118.1 | 3540724 | 189.1 | 3540724 | 189.1 |\n",
       "| Vcells | 3686493 |  28.2 | 8388608 |  64.0 | 6050310 |  46.2 |\n",
       "\n"
      ],
      "text/plain": [
       "       used    (Mb)  gc trigger (Mb)  max used (Mb) \n",
       "Ncells 2210958 118.1 3540724    189.1 3540724  189.1\n",
       "Vcells 3686493  28.2 8388608     64.0 6050310   46.2"
      ]
     },
     "metadata": {},
     "output_type": "display_data"
    }
   ],
   "source": [
    "library(data.table)\n",
    "library(\"rvest\")\n",
    "library(\"stringr\")\n",
    "library(dplyr)\n",
    "memory.size(max = T)\n",
    "#install.packages(\"scales\")\n",
    "#install.packages(\"rlang\")\n",
    "#install.packages(\"tidyverse\")\n",
    "library(tidyverse)\n",
    "library(caret)\n",
    "library(glmnet)\n",
    "library(caret)\n",
    "#library(glmnet)\n",
    "#install.packages(\"bit64\")\n",
    "#library(\"bit64\")\n",
    "#install.packages('lm.beta')\n",
    "library(\"lm.beta\")\n",
    "library(\"psycho\")\n",
    "#install.packages(\"standardize\")\n",
    "library(\"standardize\")\n",
    "\n",
    "library(\"doParallel\")\n",
    "#install.packages(\"foreach\")\n",
    "#install.packages(\"pROC\")\n",
    "library(\"foreach\")\n",
    "library(\"pROC\")\n",
    "\n",
    "gc()\n"
   ]
  },
  {
   "cell_type": "code",
   "execution_count": 3,
   "metadata": {},
   "outputs": [
    {
     "data": {
      "text/plain": [
       "Time difference of 2.297038 mins"
      ]
     },
     "metadata": {},
     "output_type": "display_data"
    }
   ],
   "source": [
    "\n",
    "start_time <- Sys.time()\n",
    "source(\"/u/project/sriram/ukbiobank/33127/bd_load_data.R\")\n",
    "end_time <- Sys.time()\n",
    "\n",
    "end_time - start_time\n",
    "\n"
   ]
  },
  {
   "cell_type": "code",
   "execution_count": 5,
   "metadata": {},
   "outputs": [
    {
     "data": {
      "text/plain": [
       "NULL"
      ]
     },
     "metadata": {},
     "output_type": "display_data"
    },
    {
     "ename": "ERROR",
     "evalue": "Error in data[, 1:10]: object of type 'closure' is not subsettable\n",
     "output_type": "error",
     "traceback": [
      "Error in data[, 1:10]: object of type 'closure' is not subsettable\nTraceback:\n",
      "1. str(data[, 1:10])"
     ]
    }
   ],
   "source": [
    "dim(data)\n",
    "str(data[,1:10])\n",
    "head(data,3)"
   ]
  },
  {
   "cell_type": "markdown",
   "metadata": {},
   "source": [
    "## NA filter & Treshold Value Setting"
   ]
  },
  {
   "cell_type": "code",
   "execution_count": 28,
   "metadata": {
    "collapsed": true
   },
   "outputs": [],
   "source": [
    "tr=0.25 # where the value of the \"tr\" depends on how strict you are on filtering out features with large observations of NA missing values.\n",
    "\n",
    "# For tr=0.25, it means you would like to select those features whose # of missing values is smaller than 25% of its total oberservations"
   ]
  },
  {
   "cell_type": "code",
   "execution_count": 36,
   "metadata": {
    "scrolled": true
   },
   "outputs": [
    {
     "data": {
      "text/html": [
       "773"
      ],
      "text/latex": [
       "773"
      ],
      "text/markdown": [
       "773"
      ],
      "text/plain": [
       "[1] 773"
      ]
     },
     "metadata": {},
     "output_type": "display_data"
    },
    {
     "data": {
      "text/html": [
       "24334"
      ],
      "text/latex": [
       "24334"
      ],
      "text/markdown": [
       "24334"
      ],
      "text/plain": [
       "[1] 24334"
      ]
     },
     "metadata": {},
     "output_type": "display_data"
    },
    {
     "data": {
      "text/html": [
       "1325"
      ],
      "text/latex": [
       "1325"
      ],
      "text/markdown": [
       "1325"
      ],
      "text/plain": [
       "[1] 1325"
      ]
     },
     "metadata": {},
     "output_type": "display_data"
    },
    {
     "data": {
      "text/html": [
       "TRUE"
      ],
      "text/latex": [
       "TRUE"
      ],
      "text/markdown": [
       "TRUE"
      ],
      "text/plain": [
       "[1] TRUE"
      ]
     },
     "metadata": {},
     "output_type": "display_data"
    }
   ],
   "source": [
    "\n",
    "alist=as.integer(which(colSums(!is.na(data[,1:400]))>=(1-tr)*502508))\n",
    "\n",
    "blist=as.integer(which(colSums(!is.na(data[,401:800]))>=(1-tr)*502508))\n",
    "blist=blist+400\n",
    "\n",
    "clist=as.integer(which(colSums(!is.na(data[,801:1200]))>=(1-tr)*502508))\n",
    "clist=clist+800\n",
    "\n",
    "dlist=as.integer(which(colSums(!is.na(data[,1201:1600]))>=(1-tr)*502508))\n",
    "dlist=dlist+1200\n",
    "\n",
    "elist=as.integer(which(colSums(!is.na(data[,1601:2000]))>=(1-tr)*502508))\n",
    "elist=elist+1600\n",
    "\n",
    "flist=as.integer(which(colSums(!is.na(data[,2001:2297]))>=(1-tr)*502508))\n",
    "flist=flist+2000\n",
    "\n",
    "\n",
    "\n",
    "na_free_list=c(alist,blist,clist,dlist,elist,flist)\n",
    "length(na_free_list)\n",
    "\n",
    "\n",
    "sum(is.na(select(data,\"30000-0.0\"))) \n",
    "# \"30000-0.0\" is the target feature corresponds to count of while blood cells. \n",
    "which(colnames(data)==\"30000-0.0\") #grep(\"30000-0.0\",colnames(data))\n",
    "1325 %in% na_free_list\n",
    "# check to make sure you are not too strict as the cell_count feature is removed from the selected data.\n",
    "# fwrite.csv(na_free_list,\"na_list.csv\")"
   ]
  },
  {
   "cell_type": "markdown",
   "metadata": {},
   "source": [
    "## Index & Filtering Data"
   ]
  },
  {
   "cell_type": "code",
   "execution_count": 44,
   "metadata": {
    "collapsed": true
   },
   "outputs": [],
   "source": [
    "na_free_list=as.vector(na_free_list)\n",
    "na_filter_data=select(data,c(na_free_list)) # filter the data based on the NA index filter \n",
    "#na_data=select(data,-c(na_free_list)) # you may also select \"NA data\" by adding a \"-\"."
   ]
  },
  {
   "cell_type": "code",
   "execution_count": 46,
   "metadata": {},
   "outputs": [
    {
     "data": {
      "text/html": [
       "<ol class=list-inline>\n",
       "\t<li>502508</li>\n",
       "\t<li>773</li>\n",
       "</ol>\n"
      ],
      "text/latex": [
       "\\begin{enumerate*}\n",
       "\\item 502508\n",
       "\\item 773\n",
       "\\end{enumerate*}\n"
      ],
      "text/markdown": [
       "1. 502508\n",
       "2. 773\n",
       "\n",
       "\n"
      ],
      "text/plain": [
       "[1] 502508    773"
      ]
     },
     "metadata": {},
     "output_type": "display_data"
    }
   ],
   "source": [
    "dim(na_filter_data) \n",
    "#fwrite(na_filter_data,\"na_filter_data.csv\") # store the data for future use."
   ]
  },
  {
   "cell_type": "code",
   "execution_count": 62,
   "metadata": {},
   "outputs": [
    {
     "data": {
      "text/html": [
       "352"
      ],
      "text/latex": [
       "352"
      ],
      "text/markdown": [
       "352"
      ],
      "text/plain": [
       "[1] 352"
      ]
     },
     "metadata": {},
     "output_type": "display_data"
    }
   ],
   "source": [
    "grep(\"30000-0.0\",colnames(na_filter_data))  #405"
   ]
  },
  {
   "cell_type": "code",
   "execution_count": 7,
   "metadata": {
    "collapsed": true
   },
   "outputs": [],
   "source": [
    "#na_filter_data=fread(\"na_filter_data.csv\")"
   ]
  },
  {
   "cell_type": "code",
   "execution_count": 8,
   "metadata": {},
   "outputs": [
    {
     "data": {
      "text/html": [
       "773"
      ],
      "text/latex": [
       "773"
      ],
      "text/markdown": [
       "773"
      ],
      "text/plain": [
       "[1] 773"
      ]
     },
     "metadata": {},
     "output_type": "display_data"
    }
   ],
   "source": [
    "new2=mutate(na_filter_data,count=na_filter_data$`30000-0.0`) \n",
    "# for covenience, I change the name of target feature to \"count\" and rename the new data as \"new\" \n",
    "new=select(new2,c(1:351,353:774))\n",
    "grep(\"count\",colnames(new))  #773"
   ]
  },
  {
   "cell_type": "code",
   "execution_count": 9,
   "metadata": {},
   "outputs": [
    {
     "data": {
      "text/html": [
       "<ol class=list-inline>\n",
       "\t<li>502508</li>\n",
       "\t<li>773</li>\n",
       "</ol>\n"
      ],
      "text/latex": [
       "\\begin{enumerate*}\n",
       "\\item 502508\n",
       "\\item 773\n",
       "\\end{enumerate*}\n"
      ],
      "text/markdown": [
       "1. 502508\n",
       "2. 773\n",
       "\n",
       "\n"
      ],
      "text/plain": [
       "[1] 502508    773"
      ]
     },
     "metadata": {},
     "output_type": "display_data"
    }
   ],
   "source": [
    "dim(new)"
   ]
  },
  {
   "cell_type": "markdown",
   "metadata": {},
   "source": [
    "## Numerical Data Selection"
   ]
  },
  {
   "cell_type": "code",
   "execution_count": 10,
   "metadata": {
    "collapsed": true
   },
   "outputs": [],
   "source": [
    "numeric=new %>% select_if(is.numeric) # the initial select of the numerical features\n"
   ]
  },
  {
   "cell_type": "code",
   "execution_count": 11,
   "metadata": {},
   "outputs": [
    {
     "data": {
      "text/html": [
       "<ol class=list-inline>\n",
       "\t<li>502508</li>\n",
       "\t<li>548</li>\n",
       "</ol>\n"
      ],
      "text/latex": [
       "\\begin{enumerate*}\n",
       "\\item 502508\n",
       "\\item 548\n",
       "\\end{enumerate*}\n"
      ],
      "text/markdown": [
       "1. 502508\n",
       "2. 548\n",
       "\n",
       "\n"
      ],
      "text/plain": [
       "[1] 502508    548"
      ]
     },
     "metadata": {},
     "output_type": "display_data"
    },
    {
     "data": {
      "text/html": [
       "548"
      ],
      "text/latex": [
       "548"
      ],
      "text/markdown": [
       "548"
      ],
      "text/plain": [
       "[1] 548"
      ]
     },
     "metadata": {},
     "output_type": "display_data"
    }
   ],
   "source": [
    "dim(numeric)\n",
    "grep(\"count\",colnames(numeric))"
   ]
  },
  {
   "cell_type": "code",
   "execution_count": 12,
   "metadata": {
    "collapsed": true,
    "scrolled": true
   },
   "outputs": [],
   "source": [
    "#fwrite(numeric,\"raw_numeric.csv\")"
   ]
  },
  {
   "cell_type": "markdown",
   "metadata": {},
   "source": [
    "## Remove the NA in Target Feature (Count)"
   ]
  },
  {
   "cell_type": "code",
   "execution_count": 92,
   "metadata": {},
   "outputs": [
    {
     "data": {
      "text/html": [
       "<ol class=list-inline>\n",
       "\t<li>478174</li>\n",
       "\t<li>548</li>\n",
       "</ol>\n"
      ],
      "text/latex": [
       "\\begin{enumerate*}\n",
       "\\item 478174\n",
       "\\item 548\n",
       "\\end{enumerate*}\n"
      ],
      "text/markdown": [
       "1. 478174\n",
       "2. 548\n",
       "\n",
       "\n"
      ],
      "text/plain": [
       "[1] 478174    548"
      ]
     },
     "metadata": {},
     "output_type": "display_data"
    }
   ],
   "source": [
    "new_numeric=numeric[-which(is.na(numeric$count)),]\n",
    "new_numeric %>% dim"
   ]
  },
  {
   "cell_type": "code",
   "execution_count": null,
   "metadata": {
    "collapsed": true
   },
   "outputs": [],
   "source": []
  },
  {
   "cell_type": "markdown",
   "metadata": {},
   "source": [
    "## Missing Value Imputation with Mean"
   ]
  },
  {
   "cell_type": "code",
   "execution_count": 99,
   "metadata": {
    "collapsed": true
   },
   "outputs": [],
   "source": [
    "# use the numerical mean of each feature to impute thier NA's for all features. \n",
    "new_1=zoo::na.aggregate(new_numeric[,1:150])\n",
    "new_2=zoo::na.aggregate(new_numeric[,151:300])\n",
    "new_3=zoo::na.aggregate(new_numeric[,301:450])\n",
    "new_4=zoo::na.aggregate(new_numeric[,451:548])\n",
    "# separate the processing to avoid crash\n",
    "new_impute=cbind(new_1,new_2,new_3,new_4)\n"
   ]
  },
  {
   "cell_type": "code",
   "execution_count": null,
   "metadata": {
    "collapsed": true
   },
   "outputs": [],
   "source": [
    "#fwrite(new_impute,\"new_impute.csv\")"
   ]
  },
  {
   "cell_type": "code",
   "execution_count": null,
   "metadata": {
    "collapsed": true
   },
   "outputs": [],
   "source": [
    "#colSums(is.na(new_impute[,1:30]))"
   ]
  },
  {
   "cell_type": "code",
   "execution_count": 2,
   "metadata": {
    "collapsed": true
   },
   "outputs": [],
   "source": [
    "#new_impute=fread(\"new_impute.csv\");dim(new_impute)"
   ]
  },
  {
   "cell_type": "code",
   "execution_count": 5,
   "metadata": {},
   "outputs": [
    {
     "data": {
      "text/html": [
       "<ol class=list-inline>\n",
       "\t<li>478174</li>\n",
       "\t<li>548</li>\n",
       "</ol>\n"
      ],
      "text/latex": [
       "\\begin{enumerate*}\n",
       "\\item 478174\n",
       "\\item 548\n",
       "\\end{enumerate*}\n"
      ],
      "text/markdown": [
       "1. 478174\n",
       "2. 548\n",
       "\n",
       "\n"
      ],
      "text/plain": [
       "[1] 478174    548"
      ]
     },
     "metadata": {},
     "output_type": "display_data"
    }
   ],
   "source": [
    "dim(new_impute)"
   ]
  },
  {
   "cell_type": "markdown",
   "metadata": {},
   "source": [
    "## Merge the Genetic Component Data"
   ]
  },
  {
   "cell_type": "code",
   "execution_count": 14,
   "metadata": {
    "scrolled": true
   },
   "outputs": [
    {
     "data": {
      "text/html": [
       "<ol class=list-inline>\n",
       "\t<li>502616</li>\n",
       "\t<li>33</li>\n",
       "</ol>\n"
      ],
      "text/latex": [
       "\\begin{enumerate*}\n",
       "\\item 502616\n",
       "\\item 33\n",
       "\\end{enumerate*}\n"
      ],
      "text/markdown": [
       "1. 502616\n",
       "2. 33\n",
       "\n",
       "\n"
      ],
      "text/plain": [
       "[1] 502616     33"
      ]
     },
     "metadata": {},
     "output_type": "display_data"
    }
   ],
   "source": [
    "new_addup_data = fread(\"ukb21970_select_.csv\")\n",
    "dim(new_addup_data)"
   ]
  },
  {
   "cell_type": "code",
   "execution_count": 24,
   "metadata": {},
   "outputs": [
    {
     "name": "stdout",
     "output_type": "stream",
     "text": [
      "Observations: 502,616\n",
      "Variables: 33\n",
      "$ eid          \u001b[3m\u001b[90m<int>\u001b[39m\u001b[23m 1000011, 1000026, 1000032, 1000044, 1000058, 1000060, 10…\n",
      "$ `22009-0.1`  \u001b[3m\u001b[90m<dbl>\u001b[39m\u001b[23m -12.16240, -9.94105, -14.61760, 6.68544, -9.97432, -13.5…\n",
      "$ `22009-0.10` \u001b[3m\u001b[90m<dbl>\u001b[39m\u001b[23m -0.2613310, 5.3991100, 0.5466600, 0.3143910, 0.5619040, …\n",
      "$ `22009-0.11` \u001b[3m\u001b[90m<dbl>\u001b[39m\u001b[23m 3.867170, 5.376850, 2.803880, 1.766060, 0.987499, 2.2002…\n",
      "$ `22009-0.12` \u001b[3m\u001b[90m<dbl>\u001b[39m\u001b[23m 2.398670, 1.606220, -3.477800, 3.475320, 1.986780, -1.51…\n",
      "$ `22009-0.13` \u001b[3m\u001b[90m<dbl>\u001b[39m\u001b[23m -0.6217410, -1.6883300, -1.1080000, 0.8894040, -0.419901…\n",
      "$ `22009-0.14` \u001b[3m\u001b[90m<dbl>\u001b[39m\u001b[23m 0.0486748, 0.8616980, 0.3425680, -1.7184800, 5.3925100, …\n",
      "$ `22009-0.15` \u001b[3m\u001b[90m<dbl>\u001b[39m\u001b[23m -1.445240000, 1.120940000, -2.830270000, 0.428843000, -0…\n",
      "$ `22009-0.16` \u001b[3m\u001b[90m<dbl>\u001b[39m\u001b[23m -2.8187500, 4.1069900, 4.2734300, 0.2038470, 0.8166950, …\n",
      "$ `22009-0.17` \u001b[3m\u001b[90m<dbl>\u001b[39m\u001b[23m -0.275704, 1.415050, -1.840140, -0.225974, -0.760765, 5.…\n",
      "$ `22009-0.18` \u001b[3m\u001b[90m<dbl>\u001b[39m\u001b[23m -2.072790, -2.126000, 4.122930, -1.845360, 2.357130, 1.9…\n",
      "$ `22009-0.19` \u001b[3m\u001b[90m<dbl>\u001b[39m\u001b[23m 1.188470, 2.618660, 6.610140, 3.220400, -2.298460, 4.825…\n",
      "$ `22009-0.20` \u001b[3m\u001b[90m<dbl>\u001b[39m\u001b[23m -0.3794760, -5.9202600, 0.7730200, -0.3005220, 3.8037700…\n",
      "$ `22009-0.21` \u001b[3m\u001b[90m<dbl>\u001b[39m\u001b[23m 1.7842600, 0.6823600, -2.2086900, -6.2816500, 2.5288700,…\n",
      "$ `22009-0.22` \u001b[3m\u001b[90m<dbl>\u001b[39m\u001b[23m 1.514920, -1.408150, -0.878878, -0.830661, -1.316880, 1.…\n",
      "$ `22009-0.23` \u001b[3m\u001b[90m<dbl>\u001b[39m\u001b[23m 4.6203300, 1.3150300, -0.8481120, -4.3678800, -0.1044810…\n",
      "$ `22009-0.24` \u001b[3m\u001b[90m<dbl>\u001b[39m\u001b[23m -2.9908400, -0.5474140, -1.9334700, 4.4402800, 4.4125800…\n",
      "$ `22009-0.25` \u001b[3m\u001b[90m<dbl>\u001b[39m\u001b[23m -1.325750, -5.371800, -0.972641, -3.172580, 0.996842, -1…\n",
      "$ `22009-0.26` \u001b[3m\u001b[90m<dbl>\u001b[39m\u001b[23m -0.499466, 2.819010, 2.556600, 5.879380, -3.442400, -1.7…\n",
      "$ `22009-0.27` \u001b[3m\u001b[90m<dbl>\u001b[39m\u001b[23m -2.891370, 2.007980, -1.592420, 2.034910, 4.292090, 0.17…\n",
      "$ `22009-0.28` \u001b[3m\u001b[90m<dbl>\u001b[39m\u001b[23m 3.7125900, -5.1944700, -0.0191773, -5.0497600, 0.8833510…\n",
      "$ `22009-0.29` \u001b[3m\u001b[90m<dbl>\u001b[39m\u001b[23m 0.686691, 2.279760, -4.857770, 6.907510, 1.808240, -4.79…\n",
      "$ `22009-0.30` \u001b[3m\u001b[90m<dbl>\u001b[39m\u001b[23m 0.856926, -0.680808, 1.295730, 3.020630, -4.647040, -1.1…\n",
      "$ `22009-0.31` \u001b[3m\u001b[90m<dbl>\u001b[39m\u001b[23m -0.913952, 2.105360, 1.477520, -0.705393, 0.276108, 1.27…\n",
      "$ `22009-0.32` \u001b[3m\u001b[90m<dbl>\u001b[39m\u001b[23m 0.6073360, -5.4052600, -1.4508200, 3.1130100, 0.9757890,…\n",
      "$ `22009-0.33` \u001b[3m\u001b[90m<dbl>\u001b[39m\u001b[23m 1.641940, 1.779500, 2.727940, -3.114530, -4.171950, 6.84…\n",
      "$ `22009-0.34` \u001b[3m\u001b[90m<dbl>\u001b[39m\u001b[23m -0.371979, 5.385940, 1.998560, 2.488980, 4.850040, -2.63…\n",
      "$ `22009-0.35` \u001b[3m\u001b[90m<dbl>\u001b[39m\u001b[23m -2.1043000, 2.3447000, -4.3589100, -0.8338500, -1.104100…\n",
      "$ `22009-0.36` \u001b[3m\u001b[90m<dbl>\u001b[39m\u001b[23m -3.03658000, -0.21461700, 3.34736000, 1.58463000, -0.686…\n",
      "$ `22009-0.37` \u001b[3m\u001b[90m<dbl>\u001b[39m\u001b[23m -0.7690830, 1.0182300, 3.3488300, 0.0235509, -2.1922700,…\n",
      "$ `22009-0.38` \u001b[3m\u001b[90m<dbl>\u001b[39m\u001b[23m 0.131277, -4.511990, -3.889370, -3.764240, 8.085970, -3.…\n",
      "$ `22009-0.39` \u001b[3m\u001b[90m<dbl>\u001b[39m\u001b[23m -0.4623650, -1.3296500, -2.3176300, -0.3426860, 1.463680…\n",
      "$ `22009-0.40` \u001b[3m\u001b[90m<dbl>\u001b[39m\u001b[23m -0.9815410, 1.0052200, -3.1357600, 2.4260500, -0.9536860…\n"
     ]
    }
   ],
   "source": [
    "glimpse(new_addup_data)"
   ]
  },
  {
   "cell_type": "code",
   "execution_count": 18,
   "metadata": {
    "collapsed": true
   },
   "outputs": [],
   "source": [
    "new_m=merge(x=new_impute,y=new_addup_data,by = \"eid\",all.x = T)\n"
   ]
  },
  {
   "cell_type": "code",
   "execution_count": 19,
   "metadata": {
    "collapsed": true
   },
   "outputs": [],
   "source": [
    "#fwrite(new_m,\"new_data_merge.csv\")"
   ]
  },
  {
   "cell_type": "code",
   "execution_count": 32,
   "metadata": {},
   "outputs": [
    {
     "data": {
      "text/html": [
       "<ol class=list-inline>\n",
       "\t<li>478174</li>\n",
       "\t<li>580</li>\n",
       "</ol>\n"
      ],
      "text/latex": [
       "\\begin{enumerate*}\n",
       "\\item 478174\n",
       "\\item 580\n",
       "\\end{enumerate*}\n"
      ],
      "text/markdown": [
       "1. 478174\n",
       "2. 580\n",
       "\n",
       "\n"
      ],
      "text/plain": [
       "[1] 478174    580"
      ]
     },
     "metadata": {},
     "output_type": "display_data"
    },
    {
     "data": {
      "text/html": [
       "548"
      ],
      "text/latex": [
       "548"
      ],
      "text/markdown": [
       "548"
      ],
      "text/plain": [
       "[1] 548"
      ]
     },
     "metadata": {},
     "output_type": "display_data"
    }
   ],
   "source": [
    "dim(new_m)\n",
    "grep(\"count\",colnames(new_m)) ## the two \"eid\" is merged to keep only one of them. \n",
    "# the dimension 580= 33+ 548 -1 is checked correct."
   ]
  },
  {
   "cell_type": "code",
   "execution_count": 33,
   "metadata": {},
   "outputs": [
    {
     "data": {
      "text/html": [
       "<ol class=list-inline>\n",
       "\t<li>8.02</li>\n",
       "\t<li>3.7</li>\n",
       "\t<li>4.98</li>\n",
       "</ol>\n"
      ],
      "text/latex": [
       "\\begin{enumerate*}\n",
       "\\item 8.02\n",
       "\\item 3.7\n",
       "\\item 4.98\n",
       "\\end{enumerate*}\n"
      ],
      "text/markdown": [
       "1. 8.02\n",
       "2. 3.7\n",
       "3. 4.98\n",
       "\n",
       "\n"
      ],
      "text/plain": [
       "[1] 8.02 3.70 4.98"
      ]
     },
     "metadata": {},
     "output_type": "display_data"
    }
   ],
   "source": [
    "new_m$count[1:3]\n"
   ]
  },
  {
   "cell_type": "markdown",
   "metadata": {},
   "source": [
    "## Variable Name Load for Selected Categorical Variables"
   ]
  },
  {
   "cell_type": "code",
   "execution_count": 34,
   "metadata": {
    "collapsed": true
   },
   "outputs": [],
   "source": [
    "col_name=read.csv(\"col_name.csv\")\n",
    "\n"
   ]
  },
  {
   "cell_type": "code",
   "execution_count": 36,
   "metadata": {},
   "outputs": [
    {
     "data": {
      "text/html": [
       "<ol class=list-inline>\n",
       "\t<li>482</li>\n",
       "\t<li>2</li>\n",
       "</ol>\n"
      ],
      "text/latex": [
       "\\begin{enumerate*}\n",
       "\\item 482\n",
       "\\item 2\n",
       "\\end{enumerate*}\n"
      ],
      "text/markdown": [
       "1. 482\n",
       "2. 2\n",
       "\n",
       "\n"
      ],
      "text/plain": [
       "[1] 482   2"
      ]
     },
     "metadata": {},
     "output_type": "display_data"
    },
    {
     "data": {
      "text/html": [
       "<table>\n",
       "<caption>A matrix: 2 × 482 of type chr</caption>\n",
       "<tbody>\n",
       "\t<tr><th scope=row>X19.0.0</th><td>Dried fruit intake</td><td>Which eye(s) affected by injury or trauma resulting in loss of vision</td><td>ECG/bike method for fitness test</td><td>Which eye(s) affected by glaucoma</td><td>Current employment status - corrected</td><td>Difficulty concentrating during worst period of anxiety</td><td>Recent feelings of tiredness or low energy</td><td>Breathing problems responsible for leaving job</td><td>Cancer report format</td><td>Anaesthetics administered during delivery</td><td>⋯</td><td>41246-0.0                                   </td><td>41247-0.0                                    </td><td>41248-0.0                                        </td><td>41249-0.0                                 </td><td>41250-0.0                                   </td><td>41251-0.0                                 </td><td>41253-0.0              </td><td>41270-0.0        </td><td>41271-0.0       </td><td>41272-0.0                   </td></tr>\n",
       "\t<tr><th scope=row>Heel.ultrasound.method</th><td>                  </td><td>                                                                     </td><td>                                </td><td>                                 </td><td>                                     </td><td>                                                       </td><td>                                          </td><td>                                              </td><td>                    </td><td>                                         </td><td>⋯</td><td>Treatment speciality of consultant (recoded)</td><td>Patient classification on admission (recoded)</td><td>Destinations on discharge from hospital (recoded)</td><td>Methods of admission to hospital (recoded)</td><td>Methods of discharge from hospital (recoded)</td><td>Sources of admission to hospital (recoded)</td><td>Inpatient record format</td><td>Diagnoses - ICD10</td><td>Diagnoses - ICD9</td><td>Operative procedures - OPCS4</td></tr>\n",
       "</tbody>\n",
       "</table>\n"
      ],
      "text/latex": [
       "A matrix: 2 × 482 of type chr\n",
       "\\begin{tabular}{r|llllllllllllllllllllllllllllllllllllllllllllllllllllllllllllllllllllllllllllllllllllllllllllllllllllllllllllllllllllllllllllllllllllllllllllllllllllllllllllllllllllllllllllllllllllllllllllllllllllllllllllllllllllllllllllllllllllllllllllllllllllllllllllllllllllllllllllllllllllllllllllllllllllllllllllllllllllllllllllllllllllllllllllllllllllllllllllllllllllllllllllllllllllllllllllllllllllllllllllllllllllllllllllllllllllllllllllllllllllllllllllllllllllllllllllllllllllllllllllllllll}\n",
       "\tX19.0.0 & Dried fruit intake & Which eye(s) affected by injury or trauma resulting in loss of vision & ECG/bike method for fitness test & Which eye(s) affected by glaucoma & Current employment status - corrected & Difficulty concentrating during worst period of anxiety & Recent feelings of tiredness or low energy & Breathing problems responsible for leaving job & Cancer report format & Anaesthetics administered during delivery & Source of all cause dementia report & Source of report of H58 (other disorders of eye and adnexa in diseases classified elsewhere) & 21-0.0        & Duration of light DIY & Illness, injury, bereavement, stress in last 2 years (pilot) & Ever felt worried, tense, or anxious for most of a month or longer & Belittlement by partner or ex-partner as an adult & Cancer record origin & Delivery methods & Source of alzheimer's disease report & Source of report of H59 (postprocedural disorders of eye and adnexa, not elsewhere classified) & 31-0.0 & Frequency of friend/family visits & Former alcohol drinker & Ever unenthusiastic/disinterested for a whole week & Ever addicted to a behaviour or miscellanous & Victim of sexual assault & Stools looser when abdominal discomfort/pain started & Doctor diagnosed cystic fibrosis & Hospital episode type & Source of all cause parkinsonism report & 52-0.0         & 3mm asymmetry index for irregular astigmatism level (right) & Leg pain when standing still or sitting & Blood clot, DVT, bronchitis, emphysema, asthma, rhinitis, eczema, allergy diagnosed by doctor & Reason for skipping refractometry (left) & Reproduciblity of spirometry measurement using ERS/ATS criteria & Degree bothered by chest pain in the last 3 months & VZV seropositivity for Varicella Zoster Virus  & Aspartate aminotransferase aliquot & Testosterone aliquot & 54-0.0                       & Non-butter spread type details & Age at first live birth & Medication for pain relief, constipation, heartburn & Other dietary supplements (pilot) & Reason for skipping IOP (left) & Maximum frequency of taking cannabis & Degree bothered by fainting spells in the last 3 months & Consecutive night shifts during night shift periods & CMV seropositivity for Human Cytomegalovirus & Mean corpuscular haemoglobin acquisition route & Eosinophill count acquisition route & Reticulocyte count acquisition route & Aspartate aminotransferase correction reason & Glycated haemoglobin (HbA1c) correction reason & Testosterone correction reason & Date Q13 first reported (congenital malformations of anterior segment of eye) & 55-0.0                               & Most recent bowel cancer screening & 3mm asymmetry index for irregular astigmatism level (left) & Which eye(s) affected by astigmatism & Vitamin and mineral supplements & Never eat eggs, dairy, wheat, sugar (pilot) & Reason for skipping refractometry (right) & Spirometry QC measure & Degree bothered by feeling heart pound/race in the last 3 months & Rest days during night shift periods & HHV-6 overall seropositivity for Human Herpesvirus-6 & Aspartate aminotransferase missing reason & Glycated haemoglobin (HbA1c) missing reason & Testosterone missing reason & Source of report of Q13 (congenital malformations of anterior segment of eye) & 120-0.0            & Weekly usage of mobile phone in last 3 months & Ice-cream intake & Fat removed from meat & Green bean intake & 132-0.0  & Type of progestan-only oral contraceptive used (pilot) & Doctor diagnosed alpha-1 antitrypsin deficiency & 670-0.0                        & White wine intake & Vitamin supplement user & 680-0.0                            & Age when last ate meat & 728-0.0                         & Leg pain on walking & 738-0.0                                   & 806-0.0                                 & Oestradiol reportability & 816-0.0                                    & Phosphate reportability & 826-0.0                 & Rheumatoid factor reportability & 924-0.0            & 943-0.0                                     & 971-0.0                                           & Duration of vigorous physical activity (pilot) & 981-0.0                       & 1011-0.0                               & 1021-0.0              & 1031-0.0                          & Stools looser when abdominal discomfort/pain started & 1100-0.0                               & 1110-0.0                   & 1120-0.0                                      & 1130-0.0                                                             & 1140-0.0                                                        & 1150-0.0                                & 1170-0.0              & 1180-0.0                            & 1190-0.0       & 1200-0.0                 & Operative procedures - main OPCS4 & 1210-0.0 & Operative procedures - secondary OPCS4 & 1220-0.0                               & Anaesthetics administered post delivery & Date H59 first reported (postprocedural disorders of eye and adnexa, not elsewhere classified) & 1239-0.0                & 1249-0.0             & Methods of admission to hospital (recoded) & 1259-0.0                     & 1329-0.0         & 1339-0.0             & 1349-0.0              & 1359-0.0       & 1369-0.0    & 1379-0.0           & 1389-0.0    & 1408-0.0      & 1418-0.0       & 1428-0.0    & 1448-0.0   & 1468-0.0    & 1478-0.0           & 1508-0.0    & 1518-0.0              & 1538-0.0                                  & 1548-0.0          & 1558-0.0                  & 1618-0.0                         & 1628-0.0                                  & 1647-0.0                        & 1677-0.0            & 1687-0.0                        & 1697-0.0                          & 1707-0.0                          & 1717-0.0    & 1727-0.0             & 1747-0.0                              & 1757-0.0      & 1767-0.0           & 1777-0.0                 & 1787-0.0                      & 1797-0.0           & 1835-0.0           & 1920-0.0    & 1930-0.0      & 1940-0.0     & 1950-0.0                    & 1960-0.0        & 1970-0.0         & Double crust pastry intake & 1980-0.0                   & Single crust pastry intake & 1990-0.0                & Crumble intake & 2000-0.0                           & Date of myocardial infarction & Pizza intake & 2010-0.0             & Date of intracerebral haemorrhage & Pancake intake & 2020-0.0              & Date of alzheimer's disease report & Scotch pancake intake & 2030-0.0        & Date of all cause parkinsonism report & Yorkshire pudding intake & 2040-0.0    & Indian snacks intake & 2050-0.0                                    & Croissant intake & 2060-0.0                                                & Danish pastry intake & 2070-0.0                                              & Scone intake & 2080-0.0                                          & Yogurt/ice-cream consumers & 2090-0.0                                                    & Yogurt intake & 2100-0.0                                                       & 2110-0.0        & 2129-0.0                          & Doctor diagnosed chronic bronchitis & 2159-0.0                      & 2178-0.0              & Recent medication for silicosis & 2188-0.0                                       & 2207-0.0                        & 2227-0.0           & 2237-0.0             & 2247-0.0                    & 2257-0.0                                          & 2267-0.0                 & 2296-0.0               & 2306-0.0                               & 2316-0.0                                      & 2335-0.0                 & 2345-0.0                        & 2443-0.0                     & 2453-0.0                   & 2463-0.0                               & 2473-0.0                                                       & 2492-0.0                              & 2654-0.0                       & Consecutive night shifts during night shift periods & 2674-0.0                                     & 2694-0.0                     & 2724-0.0      & 2774-0.0                                                    & 2784-0.0                           & 2814-0.0                                    & 2834-0.0                                      & 2844-0.0                   & 3059-0.0       & KSHV seropositivity for Kaposi's Sarcoma-Associated Herpesvirus & 3065-0.0          & BKV seropositivity for Human Polyomavirus BKV & 3077-0.0           & 3079-0.0   & 3081-0.0                       & 3082-0.0       & 3088-0.0                          & 3089-0.0                        & 3090-0.0                                   & Liver intake & 3140-0.0 & Fish consumer & 3393-0.0         & 4081-0.0                           & 5090-0.0                               & 5091-0.0                                & 5136-0.0                                 & 5138-0.0                                 & 5139-0.0                                  & 5140-0.0                                  & 5141-0.0                              & 5142-0.0                              & 5143-0.0                               & 5144-0.0                               & 5145-0.0                                & 5146-0.0                                & 5147-0.0                               & 5148-0.0                               & 6138-0.0       & 6139-0.0                          & 6141-0.0                                           & 6142-0.0                  & 6143-0.0                                      & 6144-0.0                            & 6145-0.0                                             & 6146-0.0                                 & 6149-0.0                    & 6150-0.0                                    & 6152-0.0                                                                                      & 6153-0.0                                                                         & 6154-0.0                                            & 6155-0.0                        & 6159-0.0                               & 6160-0.0                  & 6162-0.0                                 & 6164-0.0                                   & 6179-0.0                              & 20002-0.0                              & 20003-0.0                 & 20004-0.0      & 20013-0.0                                                        & 20014-0.0                                        & 20107-0.0           & 20110-0.0           & 20111-0.0             & 20116-0.0      & 20117-0.0              & 20118-0.0                                     & 20152-0.0                                                       & 20160-0.0   & 20255-0.0             & 21000-0.0         & 22032-0.0           & 22035-0.0                              & 22036-0.0                                      & 24014-0.0           & 30004-0.0                                            & 30014-0.0                                            & 30024-0.0                                   & 30034-0.0                                & 30044-0.0                                 & 30054-0.0                                      & 30064-0.0                                                    & 30074-0.0                                                         & 30084-0.0                        & 30094-0.0                       & 30104-0.0                                            & 30114-0.0                                     & 30124-0.0                          & 30134-0.0                        & 30144-0.0                           & 30154-0.0                           & 30164-0.0                         & 30174-0.0                                        & 30184-0.0                               & 30194-0.0                             & 30204-0.0                                & 30214-0.0                                & 30224-0.0                              & 30234-0.0                                             & 30244-0.0                                 & 30254-0.0                            & 30264-0.0                                  & 30274-0.0                                  & 30284-0.0                                        & 30294-0.0                                                    & 30304-0.0                                               & 30503-0.0                       & 30505-0.0                         & 30513-0.0                                 & 30515-0.0                                   & 30523-0.0                    & 30525-0.0                      & 30533-0.0                 & 30535-0.0                   & 30602-0.0       & 30603-0.0                & 30604-0.0                 & 30606-0.0             & 30612-0.0                    & 30613-0.0                             & 30614-0.0                              & 30616-0.0                          & 30622-0.0                        & 30623-0.0                                 & 30624-0.0                                  & 30626-0.0                              & 30632-0.0                & 30633-0.0                         & 30634-0.0                          & 30636-0.0                      & 30642-0.0                & 30643-0.0                         & 30644-0.0                          & 30646-0.0                      & 30652-0.0                          & 30653-0.0                                   & 30654-0.0                                    & 30656-0.0                                & 30662-0.0                & 30663-0.0                         & 30664-0.0                          & 30666-0.0                      & 30672-0.0    & 30673-0.0             & 30674-0.0              & 30676-0.0          & 30682-0.0       & 30683-0.0                & 30684-0.0                 & 30686-0.0             & 30692-0.0           & 30693-0.0                    & 30694-0.0                     & 30696-0.0                 & 30702-0.0          & 30703-0.0                   & 30704-0.0                    & 30706-0.0                & 30712-0.0                  & 30713-0.0                           & 30714-0.0                            & 30716-0.0                        & 30722-0.0          & 30723-0.0                   & 30724-0.0                    & 30726-0.0                & 30732-0.0                         & 30733-0.0                                  & 30734-0.0                                   & 30736-0.0                               & 30742-0.0       & 30743-0.0                & 30744-0.0                 & 30746-0.0             & 30753-0.0                                     & 30754-0.0                                      & 30756-0.0                                  & 30762-0.0               & 30763-0.0                        & 30764-0.0                         & 30766-0.0                     & 30772-0.0     & 30773-0.0              & 30774-0.0               & 30776-0.0           & 30782-0.0          & 30783-0.0                   & 30784-0.0                    & 30786-0.0                & 30792-0.0             & 30793-0.0                      & 30794-0.0                       & 30796-0.0                   & 30802-0.0          & 30805-0.0                 & 30806-0.0                & 30812-0.0         & 30813-0.0                  & 30814-0.0                   & 30816-0.0               & 30822-0.0                 & 30825-0.0                        & 30826-0.0                       & 30832-0.0    & 30833-0.0             & 30834-0.0              & 30836-0.0          & 30842-0.0               & 30843-0.0                        & 30844-0.0                         & 30846-0.0                     & 30852-0.0            & 30853-0.0                     & 30854-0.0                      & 30856-0.0                  & 30862-0.0             & 30863-0.0                      & 30864-0.0                       & 30866-0.0                   & 30872-0.0             & 30873-0.0                      & 30874-0.0                       & 30876-0.0                   & 30882-0.0     & 30883-0.0              & 30884-0.0               & 30886-0.0           & 30892-0.0         & 30893-0.0                  & 30894-0.0                   & 30896-0.0               & 40001-0.0                                  & 40002-0.0                                       & 40006-0.0             & 40020-0.0           & 40021-0.0            & 40022-0.0               & 41200-0.0                         & 41201-0.0               & 41202-0.0              & 41203-0.0             & 41204-0.0                   & 41205-0.0                  & 41210-0.0                              & 41214-0.0                & 41218-0.0                                & 41221-0.0        & 41229-0.0                        & 41230-0.0                            & 41231-0.0             & 41244-0.0                                & 41245-0.0                               & 41246-0.0                                    & 41247-0.0                                     & 41248-0.0                                         & 41249-0.0                                  & 41250-0.0                                    & 41251-0.0                                  & 41253-0.0               & 41270-0.0         & 41271-0.0        & 41272-0.0                   \\\\\n",
       "\tHeel.ultrasound.method &                    &                                                                       &                                  &                                   &                                       &                                                         &                                            &                                                &                      &                                           &                                     &                                                                                              & Weight method &                       &                                                              &                                                                    &                                                   &                      &                  &                                      &                                                                                                & Sex    &                                   &                        &                                                    &                                              &                          &                                                      &                                  &                       &                                         & Month of birth &                                                             &                                         &                                                                                               &                                          &                                                                 &                                                    &                                                &                                    &                      & UK Biobank assessment centre &                                &                         &                                                     &                                   &                                &                                      &                                                         &                                                     &                                              &                                                &                                     &                                      &                                              &                                                &                                &                                                                               & Month of attending assessment centre &                                    &                                                            &                                      &                                 &                                             &                                           &                       &                                                                  &                                      &                                                      &                                           &                                             &                             &                                                                               & Birth weight known &                                               &                  &                       &                   & Job code &                                                        &                                                 & Type of accommodation lived in &                   &                         & Own or rent accommodation lived in &                        & Number of vehicles in household &                     & Average total household income before tax & Job involves mainly walking or standing &                          & Job involves heavy manual or physical work &                         & Job involves shift work &                                 & Usual walking pace & Frequency of stair climbing in last 4 weeks & Frequency of walking for pleasure in last 4 weeks &                                                & Duration walking for pleasure & Frequency of light DIY in last 4 weeks & Duration of light DIY & Frequency of friend/family visits &                                                      & Drive faster than motorway speed limit & Length of mobile phone use & Weekly usage of mobile phone in last 3 months & Hands-free device/speakerphone use with mobile phone in last 3 month & Difference in mobile phone use compared to two years previously & Usual side of head for mobile phone use & Getting up in morning & Morning/evening person (chronotype) & Nap during day & Sleeplessness / insomnia &                                   & Snoring  &                                        & Daytime dozing / sleeping (narcolepsy) &                                         &                                                                                                & Current tobacco smoking & Past tobacco smoking &                                            & Smoking/smokers in household & Oily fish intake & Non-oily fish intake & Processed meat intake & Poultry intake & Beef intake & Lamb/mutton intake & Pork intake & Cheese intake & Milk type used & Spread type & Bread type & Cereal type & Salt added to food & Coffee type & Hot drink temperature & Major dietary changes in the last 5 years & Variation in diet & Alcohol intake frequency. & Alcohol usually taken with meals & Alcohol intake versus 10 years previously & Country of birth (UK/elsewhere) & Breastfed as a baby & Comparative body size at age 10 & Comparative height size at age 10 & Handedness (chirality/laterality) & Skin colour & Ease of skin tanning & Hair colour (natural, before greying) & Facial ageing & Adopted as a child & Part of a multiple birth & Maternal smoking around birth & Father still alive & Mother still alive & Mood swings & Miserableness & Irritability & Sensitivity / hurt feelings & Fed-up feelings & Nervous feelings &                            & Worrier / anxious feelings &                            & Tense / 'highly strung' &                & Worry too long after embarrassment &                               &              & Suffer from 'nerves' &                                   &                & Loneliness, isolation &                                    &                       & Guilty feelings &                                       &                          & Risk taking &                      & Frequency of depressed mood in last 2 weeks &                  & Frequency of unenthusiasm / disinterest in last 2 weeks &                      & Frequency of tenseness / restlessness in last 2 weeks &              & Frequency of tiredness / lethargy in last 2 weeks &                            & Seen doctor (GP) for nerves, anxiety, tension or depression &               & Seen a psychiatrist for nerves, anxiety, tension or depression & Able to confide & Answered sexual history questions &                                     & Ever had same-sex intercourse & Overall health rating &                                 & Long-standing illness, disability or infirmity & Wears glasses or contact lenses & Other eye problems & Plays computer games & Hearing difficulty/problems & Hearing difficulty/problems with background noise & Use of sun/uv protection & Falls in the last year & Weight change compared with 1 year ago & Wheeze or whistling in the chest in last year & Chest pain or discomfort & Ever had bowel cancer screening & Diabetes diagnosed by doctor & Cancer diagnosed by doctor & Fractured/broken bones in last 5 years & Other serious medical condition/disability diagnosed by doctor & Taking other prescription medications & Non-butter spread type details &                                                     & Ever had breast cancer screening / mammogram & Ever had cervical smear test & Had menopause & Ever had stillbirth, spontaneous miscarriage or termination & Ever taken oral contraceptive pill & Ever used hormone-replacement therapy (HRT) & Bilateral oophorectomy (both ovaries removed) & Had other major operations & Result ranking &                                                                 & Ordering of blows &                                               & Seating box height & Pace-maker & Foot measured for bone density & Fractured heel & Contra-indications for spirometry & Caffeine drink within last hour & Used an inhaler for chest within last hour &              & Pregnant &               & Hearing aid user & Method of measuring blood pressure & Refractometry result unreliable (left) & Refractometry result unreliable (right) & 3mm keratometry result unreliable (left) & 6mm keratometry result unreliable (left) & 6mm keratometry result unreliable (right) & 3mm keratometry result unreliable (right) & 3mm asymmetry index unreliable (left) & 6mm asymmetry index unreliable (left) & 6mm asymmetry index unreliable (right) & 3mm asymmetry index unreliable (right) & 3mm regularity index unreliable (right) & 6mm regularity index unreliable (right) & 6mm regularity index unreliable (left) & 3mm regularity index unreliable (left) & Qualifications & Gas or solid-fuel cooking/heating & How are people in household related to participant & Current employment status & Transport type for commuting to job workplace & Never eat eggs, dairy, wheat, sugar & Illness, injury, bereavement, stress in last 2 years & Attendance/disability/mobility allowance & Mouth/teeth dental problems & Vascular/heart problems diagnosed by doctor & Blood clot, DVT, bronchitis, emphysema, asthma, rhinitis, eczema, allergy diagnosed by doctor & Medication for cholesterol, blood pressure, diabetes, or take exogenous hormones & Medication for pain relief, constipation, heartburn & Vitamin and mineral supplements & Pain type(s) experienced in last month & Leisure/social activities & Types of transport used (excluding work) & Types of physical activity in last 4 weeks & Mineral and other dietary supplements & Non-cancer illness code, self-reported & Treatment/medication code & Operation code & Method of recording time when non-cancer illness first diagnosed & Method of recording time when operation occurred & Illnesses of father & Illnesses of mother & Illnesses of siblings & Smoking status & Alcohol drinker status & Home area population density - urban or rural & Reproduciblity of spirometry measurement using ERS/ATS criteria & Ever smoked & Spirometry QC measure & Ethnic background & IPAQ activity group & Above moderate/vigorous recommendation & Above moderate/vigorous/walking recommendation & Close to major road & White blood cell (leukocyte) count acquisition route & Red blood cell (erythrocyte) count acquisition route & Haemoglobin concentration acquisition route & Haematocrit percentage acquisition route & Mean corpuscular volume acquisition route & Mean corpuscular haemoglobin acquisition route & Mean corpuscular haemoglobin concentration acquisition route & Red blood cell (erythrocyte) distribution width acquisition route & Platelet count acquisition route & Platelet crit acquisition route & Mean platelet (thrombocyte) volume acquisition route & Platelet distribution width acquisition route & Lymphocyte count acquisition route & Monocyte count acquisition route & Neutrophill count acquisition route & Eosinophill count acquisition route & Basophill count acquisition route & Nucleated red blood cell count acquisition route & Lymphocyte percentage acquisition route & Monocyte percentage acquisition route & Neutrophill percentage acquisition route & Eosinophill percentage acquisition route & Basophill percentage acquisition route & Nucleated red blood cell percentage acquisition route & Reticulocyte percentage acquisition route & Reticulocyte count acquisition route & Mean reticulocyte volume acquisition route & Mean sphered cell volume acquisition route & Immature reticulocyte fraction acquisition route & High light scatter reticulocyte percentage acquisition route & High light scatter reticulocyte count acquisition route & Microalbumin in urine device ID & Microalbumin in urine result flag & Creatinine (enzymatic) in urine device ID & Creatinine (enzymatic) in urine result flag & Potassium in urine device ID & Potassium in urine result flag & Sodium in urine device ID & Sodium in urine result flag & Albumin aliquot & Albumin correction level & Albumin correction reason & Albumin reportability & Alkaline phosphatase aliquot & Alkaline phosphatase correction level & Alkaline phosphatase correction reason & Alkaline phosphatase reportability & Alanine aminotransferase aliquot & Alanine aminotransferase correction level & Alanine aminotransferase correction reason & Alanine aminotransferase reportability & Apolipoprotein A aliquot & Apolipoprotein A correction level & Apolipoprotein A correction reason & Apolipoprotein A reportability & Apolipoprotein B aliquot & Apolipoprotein B correction level & Apolipoprotein B correction reason & Apolipoprotein B reportability & Aspartate aminotransferase aliquot & Aspartate aminotransferase correction level & Aspartate aminotransferase correction reason & Aspartate aminotransferase reportability & Direct bilirubin aliquot & Direct bilirubin correction level & Direct bilirubin correction reason & Direct bilirubin reportability & Urea aliquot & Urea correction level & Urea correction reason & Urea reportability & Calcium aliquot & Calcium correction level & Calcium correction reason & Calcium reportability & Cholesterol aliquot & Cholesterol correction level & Cholesterol correction reason & Cholesterol reportability & Creatinine aliquot & Creatinine correction level & Creatinine correction reason & Creatinine reportability & C-reactive protein aliquot & C-reactive protein correction level & C-reactive protein correction reason & C-reactive protein reportability & Cystatin C aliquot & Cystatin C correction level & Cystatin C correction reason & Cystatin C reportability & Gamma glutamyltransferase aliquot & Gamma glutamyltransferase correction level & Gamma glutamyltransferase correction reason & Gamma glutamyltransferase reportability & Glucose aliquot & Glucose correction level & Glucose correction reason & Glucose reportability & Glycated haemoglobin (HbA1c) correction level & Glycated haemoglobin (HbA1c) correction reason & Glycated haemoglobin (HbA1c) reportability & HDL cholesterol aliquot & HDL cholesterol correction level & HDL cholesterol correction reason & HDL cholesterol reportability & IGF-1 aliquot & IGF-1 correction level & IGF-1 correction reason & IGF-1 reportability & LDL direct aliquot & LDL direct correction level & LDL direct correction reason & LDL direct reportability & Lipoprotein A aliquot & Lipoprotein A correction level & Lipoprotein A correction reason & Lipoprotein A reportability & Oestradiol aliquot & Oestradiol missing reason & Oestradiol reportability & Phosphate aliquot & Phosphate correction level & Phosphate correction reason & Phosphate reportability & Rheumatoid factor aliquot & Rheumatoid factor missing reason & Rheumatoid factor reportability & SHBG aliquot & SHBG correction level & SHBG correction reason & SHBG reportability & Total bilirubin aliquot & Total bilirubin correction level & Total bilirubin correction reason & Total bilirubin reportability & Testosterone aliquot & Testosterone correction level & Testosterone correction reason & Testosterone reportability & Total protein aliquot & Total protein correction level & Total protein correction reason & Total protein reportability & Triglycerides aliquot & Triglycerides correction level & Triglycerides correction reason & Triglycerides reportability & Urate aliquot & Urate correction level & Urate correction reason & Urate reportability & Vitamin D aliquot & Vitamin D correction level & Vitamin D correction reason & Vitamin D reportability & Underlying (primary) cause of death: ICD10 & Contributory (secondary) causes of death: ICD10 & Type of cancer: ICD10 & Death record origin & Cancer record origin & Inpatient record origin & Operative procedures - main OPCS4 & External causes - ICD10 & Diagnoses - main ICD10 & Diagnoses - main ICD9 & Diagnoses - secondary ICD10 & Diagnoses - secondary ICD9 & Operative procedures - secondary OPCS4 & Carer support indicators & History of psychiatric care on admission & Delivery methods & PCT responsible for patient data & PCT where patients GP was registered & Hospital episode type & Intended management of patient (recoded) & Main speciality of consultant (recoded) & Treatment speciality of consultant (recoded) & Patient classification on admission (recoded) & Destinations on discharge from hospital (recoded) & Methods of admission to hospital (recoded) & Methods of discharge from hospital (recoded) & Sources of admission to hospital (recoded) & Inpatient record format & Diagnoses - ICD10 & Diagnoses - ICD9 & Operative procedures - OPCS4\\\\\n",
       "\\end{tabular}\n"
      ],
      "text/markdown": [
       "\n",
       "A matrix: 2 × 482 of type chr\n",
       "\n",
       "| X19.0.0 | Dried fruit intake | Which eye(s) affected by injury or trauma resulting in loss of vision | ECG/bike method for fitness test | Which eye(s) affected by glaucoma | Current employment status - corrected | Difficulty concentrating during worst period of anxiety | Recent feelings of tiredness or low energy | Breathing problems responsible for leaving job | Cancer report format | Anaesthetics administered during delivery | ⋯ | 41246-0.0                                    | 41247-0.0                                     | 41248-0.0                                         | 41249-0.0                                  | 41250-0.0                                    | 41251-0.0                                  | 41253-0.0               | 41270-0.0         | 41271-0.0        | 41272-0.0                    |\n",
       "| Heel.ultrasound.method | <!----> | <!----> | <!----> | <!----> | <!----> | <!----> | <!----> | <!----> | <!----> | <!----> | ⋯ | Treatment speciality of consultant (recoded) | Patient classification on admission (recoded) | Destinations on discharge from hospital (recoded) | Methods of admission to hospital (recoded) | Methods of discharge from hospital (recoded) | Sources of admission to hospital (recoded) | Inpatient record format | Diagnoses - ICD10 | Diagnoses - ICD9 | Operative procedures - OPCS4 |\n",
       "\n"
      ],
      "text/plain": [
       "                       [,1]              \n",
       "X19.0.0                Dried fruit intake\n",
       "Heel.ultrasound.method                   \n",
       "                       [,2]                                                                 \n",
       "X19.0.0                Which eye(s) affected by injury or trauma resulting in loss of vision\n",
       "Heel.ultrasound.method                                                                      \n",
       "                       [,3]                            \n",
       "X19.0.0                ECG/bike method for fitness test\n",
       "Heel.ultrasound.method                                 \n",
       "                       [,4]                             \n",
       "X19.0.0                Which eye(s) affected by glaucoma\n",
       "Heel.ultrasound.method                                  \n",
       "                       [,5]                                 \n",
       "X19.0.0                Current employment status - corrected\n",
       "Heel.ultrasound.method                                      \n",
       "                       [,6]                                                   \n",
       "X19.0.0                Difficulty concentrating during worst period of anxiety\n",
       "Heel.ultrasound.method                                                        \n",
       "                       [,7]                                      \n",
       "X19.0.0                Recent feelings of tiredness or low energy\n",
       "Heel.ultrasound.method                                           \n",
       "                       [,8]                                          \n",
       "X19.0.0                Breathing problems responsible for leaving job\n",
       "Heel.ultrasound.method                                               \n",
       "                       [,9]                \n",
       "X19.0.0                Cancer report format\n",
       "Heel.ultrasound.method                     \n",
       "                       [,10]                                     [,11]\n",
       "X19.0.0                Anaesthetics administered during delivery ⋯    \n",
       "Heel.ultrasound.method                                           ⋯    \n",
       "                       [,12]                                       \n",
       "X19.0.0                41246-0.0                                   \n",
       "Heel.ultrasound.method Treatment speciality of consultant (recoded)\n",
       "                       [,13]                                        \n",
       "X19.0.0                41247-0.0                                    \n",
       "Heel.ultrasound.method Patient classification on admission (recoded)\n",
       "                       [,14]                                            \n",
       "X19.0.0                41248-0.0                                        \n",
       "Heel.ultrasound.method Destinations on discharge from hospital (recoded)\n",
       "                       [,15]                                     \n",
       "X19.0.0                41249-0.0                                 \n",
       "Heel.ultrasound.method Methods of admission to hospital (recoded)\n",
       "                       [,16]                                       \n",
       "X19.0.0                41250-0.0                                   \n",
       "Heel.ultrasound.method Methods of discharge from hospital (recoded)\n",
       "                       [,17]                                     \n",
       "X19.0.0                41251-0.0                                 \n",
       "Heel.ultrasound.method Sources of admission to hospital (recoded)\n",
       "                       [,18]                   [,19]            \n",
       "X19.0.0                41253-0.0               41270-0.0        \n",
       "Heel.ultrasound.method Inpatient record format Diagnoses - ICD10\n",
       "                       [,20]            [,21]                       \n",
       "X19.0.0                41271-0.0        41272-0.0                   \n",
       "Heel.ultrasound.method Diagnoses - ICD9 Operative procedures - OPCS4"
      ]
     },
     "metadata": {},
     "output_type": "display_data"
    }
   ],
   "source": [
    "dim(col_name)\n",
    "t(col_name)"
   ]
  },
  {
   "cell_type": "code",
   "execution_count": 42,
   "metadata": {
    "collapsed": true
   },
   "outputs": [],
   "source": []
  },
  {
   "cell_type": "markdown",
   "metadata": {},
   "source": [
    "## Net Elastic "
   ]
  },
  {
   "cell_type": "code",
   "execution_count": 44,
   "metadata": {
    "collapsed": true
   },
   "outputs": [],
   "source": [
    "use=new_m\n",
    "set.seed(123)\n",
    "index  <- createDataPartition(use$count, p = 0.75, list = FALSE)\n",
    "train <- use[index, ]\n",
    "test  <- use[-index, ]"
   ]
  },
  {
   "cell_type": "code",
   "execution_count": 48,
   "metadata": {},
   "outputs": [
    {
     "data": {
      "text/html": [
       "548"
      ],
      "text/latex": [
       "548"
      ],
      "text/markdown": [
       "548"
      ],
      "text/plain": [
       "[1] 548"
      ]
     },
     "metadata": {},
     "output_type": "display_data"
    },
    {
     "data": {
      "text/html": [
       "227"
      ],
      "text/latex": [
       "227"
      ],
      "text/markdown": [
       "227"
      ],
      "text/plain": [
       "[1] 227"
      ]
     },
     "metadata": {},
     "output_type": "display_data"
    },
    {
     "data": {
      "text/html": [
       "295"
      ],
      "text/latex": [
       "295"
      ],
      "text/markdown": [
       "295"
      ],
      "text/plain": [
       "[1] 295"
      ]
     },
     "metadata": {},
     "output_type": "display_data"
    }
   ],
   "source": [
    "grep(\"count\",colnames(train))\n",
    "grep(\"23098-0.0\",colnames(train))\n",
    "grep(\"30001-0.0\",colnames(train)) # start the model with selected variabels selected based on beta values "
   ]
  },
  {
   "cell_type": "code",
   "execution_count": 49,
   "metadata": {
    "collapsed": true
   },
   "outputs": [],
   "source": [
    "set.seed(123)\n",
    "model3 <- train(\n",
    "  count ~., data = train[,c(227:295,548)], method = \"glmnet\",\n",
    "  trControl = trainControl(\"cv\", number = 10),\n",
    "  tuneLength= 10\n",
    ")"
   ]
  },
  {
   "cell_type": "code",
   "execution_count": 50,
   "metadata": {},
   "outputs": [
    {
     "data": {
      "text/html": [
       "<table>\n",
       "<caption>A data.frame: 1 × 2</caption>\n",
       "<thead>\n",
       "\t<tr><th></th><th scope=col>alpha</th><th scope=col>lambda</th></tr>\n",
       "\t<tr><th></th><th scope=col>&lt;dbl&gt;</th><th scope=col>&lt;dbl&gt;</th></tr>\n",
       "</thead>\n",
       "<tbody>\n",
       "\t<tr><th scope=row>41</th><td>0.5</td><td>0.0001510725</td></tr>\n",
       "</tbody>\n",
       "</table>\n"
      ],
      "text/latex": [
       "A data.frame: 1 × 2\n",
       "\\begin{tabular}{r|ll}\n",
       "  & alpha & lambda\\\\\n",
       "  & <dbl> & <dbl>\\\\\n",
       "\\hline\n",
       "\t41 & 0.5 & 0.0001510725\\\\\n",
       "\\end{tabular}\n"
      ],
      "text/markdown": [
       "\n",
       "A data.frame: 1 × 2\n",
       "\n",
       "| <!--/--> | alpha &lt;dbl&gt; | lambda &lt;dbl&gt; |\n",
       "|---|---|---|\n",
       "| 41 | 0.5 | 0.0001510725 |\n",
       "\n"
      ],
      "text/plain": [
       "   alpha lambda      \n",
       "41 0.5   0.0001510725"
      ]
     },
     "metadata": {},
     "output_type": "display_data"
    }
   ],
   "source": [
    "model3$bestTune"
   ]
  },
  {
   "cell_type": "code",
   "execution_count": 51,
   "metadata": {
    "collapsed": true
   },
   "outputs": [],
   "source": [
    "coef_table=coef(model3$finalModel, model3$bestTune$lambda)"
   ]
  },
  {
   "cell_type": "code",
   "execution_count": 111,
   "metadata": {
    "collapsed": true
   },
   "outputs": [],
   "source": [
    "#coef_table=as.data.frame(c(coef_table[,1]))\n",
    "#print(coef_table)\n",
    "coef_table_new=data.frame(\"variable\"=rownames(coef_table),\"value\"=coef_table[1:70],stringsAsFactors = FALSE)"
   ]
  },
  {
   "cell_type": "code",
   "execution_count": 160,
   "metadata": {
    "collapsed": true
   },
   "outputs": [],
   "source": [
    "coef_rank=coef_table_new[coef_table_new$value>0,] # sort with decreasing order. \n",
    "coef_rank=coef_rank[order(coef_rank[,2],decreasing = T),]"
   ]
  },
  {
   "cell_type": "code",
   "execution_count": 184,
   "metadata": {},
   "outputs": [
    {
     "name": "stdout",
     "output_type": "stream",
     "text": [
      " [1]  2  3  4  6  7  9 12 15 18 19 20 29 31 33 34 40 41 44 47 48 49 50 52 53 54\n",
      "[26] 60 62 63 64 65 66 68\n"
     ]
    }
   ],
   "source": [
    "filter_coef=as.integer(which(as.list(coef_table)>0))\n",
    "filter=filter_coef-1 # select those variabels with the value greater than 0\n",
    "print(filter[-1])"
   ]
  },
  {
   "cell_type": "code",
   "execution_count": 187,
   "metadata": {
    "collapsed": true
   },
   "outputs": [],
   "source": [
    "#coef_table_new"
   ]
  },
  {
   "cell_type": "code",
   "execution_count": 189,
   "metadata": {},
   "outputs": [
    {
     "data": {
      "text/html": [
       "<ol class=list-inline>\n",
       "\t<li>'23099-0.0'</li>\n",
       "\t<li>'23100-0.0'</li>\n",
       "\t<li>'23101-0.0'</li>\n",
       "\t<li>'23104-0.0'</li>\n",
       "\t<li>'23106-0.0'</li>\n",
       "\t<li>'23108-0.0'</li>\n",
       "\t<li>'23111-0.0'</li>\n",
       "\t<li>'23114-0.0'</li>\n",
       "\t<li>'23117-0.0'</li>\n",
       "\t<li>'23118-0.0'</li>\n",
       "\t<li>'23119-0.0'</li>\n",
       "\t<li>'23128-0.0'</li>\n",
       "\t<li>'23130-0.0'</li>\n",
       "\t<li>'24004-0.0'</li>\n",
       "\t<li>'24005-0.0'</li>\n",
       "\t<li>'24011-0.0'</li>\n",
       "\t<li>'24012-0.0'</li>\n",
       "\t<li>'24015-0.0'</li>\n",
       "\t<li>'24018-0.0'</li>\n",
       "\t<li>'24019-0.0'</li>\n",
       "\t<li>'24020-0.0'</li>\n",
       "\t<li>'24021-0.0'</li>\n",
       "\t<li>'24500-0.0'</li>\n",
       "\t<li>'24501-0.0'</li>\n",
       "\t<li>'24502-0.0'</li>\n",
       "\t<li>'24508-0.0'</li>\n",
       "\t<li>'26411-0.0'</li>\n",
       "\t<li>'26412-0.0'</li>\n",
       "\t<li>'26413-0.0'</li>\n",
       "\t<li>'26414-0.0'</li>\n",
       "\t<li>'26415-0.0'</li>\n",
       "\t<li>'26417-0.0'</li>\n",
       "</ol>\n"
      ],
      "text/latex": [
       "\\begin{enumerate*}\n",
       "\\item '23099-0.0'\n",
       "\\item '23100-0.0'\n",
       "\\item '23101-0.0'\n",
       "\\item '23104-0.0'\n",
       "\\item '23106-0.0'\n",
       "\\item '23108-0.0'\n",
       "\\item '23111-0.0'\n",
       "\\item '23114-0.0'\n",
       "\\item '23117-0.0'\n",
       "\\item '23118-0.0'\n",
       "\\item '23119-0.0'\n",
       "\\item '23128-0.0'\n",
       "\\item '23130-0.0'\n",
       "\\item '24004-0.0'\n",
       "\\item '24005-0.0'\n",
       "\\item '24011-0.0'\n",
       "\\item '24012-0.0'\n",
       "\\item '24015-0.0'\n",
       "\\item '24018-0.0'\n",
       "\\item '24019-0.0'\n",
       "\\item '24020-0.0'\n",
       "\\item '24021-0.0'\n",
       "\\item '24500-0.0'\n",
       "\\item '24501-0.0'\n",
       "\\item '24502-0.0'\n",
       "\\item '24508-0.0'\n",
       "\\item '26411-0.0'\n",
       "\\item '26412-0.0'\n",
       "\\item '26413-0.0'\n",
       "\\item '26414-0.0'\n",
       "\\item '26415-0.0'\n",
       "\\item '26417-0.0'\n",
       "\\end{enumerate*}\n"
      ],
      "text/markdown": [
       "1. '23099-0.0'\n",
       "2. '23100-0.0'\n",
       "3. '23101-0.0'\n",
       "4. '23104-0.0'\n",
       "5. '23106-0.0'\n",
       "6. '23108-0.0'\n",
       "7. '23111-0.0'\n",
       "8. '23114-0.0'\n",
       "9. '23117-0.0'\n",
       "10. '23118-0.0'\n",
       "11. '23119-0.0'\n",
       "12. '23128-0.0'\n",
       "13. '23130-0.0'\n",
       "14. '24004-0.0'\n",
       "15. '24005-0.0'\n",
       "16. '24011-0.0'\n",
       "17. '24012-0.0'\n",
       "18. '24015-0.0'\n",
       "19. '24018-0.0'\n",
       "20. '24019-0.0'\n",
       "21. '24020-0.0'\n",
       "22. '24021-0.0'\n",
       "23. '24500-0.0'\n",
       "24. '24501-0.0'\n",
       "25. '24502-0.0'\n",
       "26. '24508-0.0'\n",
       "27. '26411-0.0'\n",
       "28. '26412-0.0'\n",
       "29. '26413-0.0'\n",
       "30. '26414-0.0'\n",
       "31. '26415-0.0'\n",
       "32. '26417-0.0'\n",
       "\n",
       "\n"
      ],
      "text/plain": [
       " [1] \"23099-0.0\" \"23100-0.0\" \"23101-0.0\" \"23104-0.0\" \"23106-0.0\" \"23108-0.0\"\n",
       " [7] \"23111-0.0\" \"23114-0.0\" \"23117-0.0\" \"23118-0.0\" \"23119-0.0\" \"23128-0.0\"\n",
       "[13] \"23130-0.0\" \"24004-0.0\" \"24005-0.0\" \"24011-0.0\" \"24012-0.0\" \"24015-0.0\"\n",
       "[19] \"24018-0.0\" \"24019-0.0\" \"24020-0.0\" \"24021-0.0\" \"24500-0.0\" \"24501-0.0\"\n",
       "[25] \"24502-0.0\" \"24508-0.0\" \"26411-0.0\" \"26412-0.0\" \"26413-0.0\" \"26414-0.0\"\n",
       "[31] \"26415-0.0\" \"26417-0.0\""
      ]
     },
     "metadata": {},
     "output_type": "display_data"
    }
   ],
   "source": [
    "train_select=train[,c(227:295,548)]\n",
    "model_select=select(train_select,filter[-1])\n",
    "colnames(model_select) # which corresponds UK Biobank : Data Dictionary for Application 33127\n",
    "\n",
    "\n"
   ]
  },
  {
   "cell_type": "markdown",
   "metadata": {},
   "source": [
    "## Remove Variables from \"Blood Assays\" Category\n",
    "\n",
    "- Make sure to manually remove variables from \"blood assays\" category.\n",
    "- To check category, click on the variable name from 3327 webpage.\n",
    "- The web will lead you to the description of the specific variable(e.g. http://biobank.ndph.ox.ac.uk/showcase/field.cgi?id=30001).\n",
    "- Then click the \"categories\" section and inspect. "
   ]
  },
  {
   "cell_type": "markdown",
   "metadata": {},
   "source": [
    "## Manual Remove of Categorical Variables\n",
    "\n",
    "- some of the variabels are in levels or id numbers that have been mistakenly categorized as numerical variables by R.\n",
    "- need to remove them by create contigency tables to check for levels of each variable\n",
    "- along with a detailed inspectation based on the ukb3327 webpage."
   ]
  },
  {
   "cell_type": "markdown",
   "metadata": {},
   "source": [
    "## Frequency Table"
   ]
  },
  {
   "cell_type": "code",
   "execution_count": 18,
   "metadata": {},
   "outputs": [],
   "source": [
    "levelcount=list()\n",
    "for (i in 1:ncol(new_m)){\n",
    "    levelcount[i]=length(table(new_m[[i]]))\n",
    "}"
   ]
  },
  {
   "cell_type": "code",
   "execution_count": 19,
   "metadata": {},
   "outputs": [
    {
     "data": {
      "text/html": [
       "580"
      ],
      "text/latex": [
       "580"
      ],
      "text/markdown": [
       "580"
      ],
      "text/plain": [
       "[1] 580"
      ]
     },
     "metadata": {},
     "output_type": "display_data"
    }
   ],
   "source": [
    "length(levelcount)"
   ]
  },
  {
   "cell_type": "code",
   "execution_count": 201,
   "metadata": {
    "collapsed": true
   },
   "outputs": [],
   "source": [
    "#save(levelcount,file = \"var_frq.RData\")"
   ]
  },
  {
   "cell_type": "code",
   "execution_count": 208,
   "metadata": {
    "collapsed": true
   },
   "outputs": [],
   "source": [
    "# Filter out levels smaller than "
   ]
  },
  {
   "cell_type": "code",
   "execution_count": 11,
   "metadata": {
    "scrolled": true
   },
   "outputs": [
    {
     "data": {
      "text/html": [
       "341"
      ],
      "text/latex": [
       "341"
      ],
      "text/markdown": [
       "341"
      ],
      "text/plain": [
       "[1] 341"
      ]
     },
     "metadata": {},
     "output_type": "display_data"
    },
    {
     "data": {
      "text/html": [
       "342"
      ],
      "text/latex": [
       "342"
      ],
      "text/markdown": [
       "342"
      ],
      "text/plain": [
       "[1] 342"
      ]
     },
     "metadata": {},
     "output_type": "display_data"
    },
    {
     "data": {
      "text/html": [
       "340"
      ],
      "text/latex": [
       "340"
      ],
      "text/markdown": [
       "340"
      ],
      "text/plain": [
       "[1] 340"
      ]
     },
     "metadata": {},
     "output_type": "display_data"
    },
    {
     "data": {
      "text/html": [
       "337"
      ],
      "text/latex": [
       "337"
      ],
      "text/markdown": [
       "337"
      ],
      "text/plain": [
       "[1] 337"
      ]
     },
     "metadata": {},
     "output_type": "display_data"
    },
    {
     "data": {
      "text/html": [
       "337"
      ],
      "text/latex": [
       "337"
      ],
      "text/markdown": [
       "337"
      ],
      "text/plain": [
       "[1] 337"
      ]
     },
     "metadata": {},
     "output_type": "display_data"
    },
    {
     "data": {
      "text/html": [
       "336"
      ],
      "text/latex": [
       "336"
      ],
      "text/markdown": [
       "336"
      ],
      "text/plain": [
       "[1] 336"
      ]
     },
     "metadata": {},
     "output_type": "display_data"
    },
    {
     "data": {
      "text/html": [
       "334"
      ],
      "text/latex": [
       "334"
      ],
      "text/markdown": [
       "334"
      ],
      "text/plain": [
       "[1] 334"
      ]
     },
     "metadata": {},
     "output_type": "display_data"
    },
    {
     "data": {
      "text/html": [
       "334"
      ],
      "text/latex": [
       "334"
      ],
      "text/markdown": [
       "334"
      ],
      "text/plain": [
       "[1] 334"
      ]
     },
     "metadata": {},
     "output_type": "display_data"
    },
    {
     "data": {
      "text/html": [
       "332"
      ],
      "text/latex": [
       "332"
      ],
      "text/markdown": [
       "332"
      ],
      "text/plain": [
       "[1] 332"
      ]
     },
     "metadata": {},
     "output_type": "display_data"
    },
    {
     "data": {
      "text/html": [
       "332"
      ],
      "text/latex": [
       "332"
      ],
      "text/markdown": [
       "332"
      ],
      "text/plain": [
       "[1] 332"
      ]
     },
     "metadata": {},
     "output_type": "display_data"
    },
    {
     "data": {
      "text/html": [
       "332"
      ],
      "text/latex": [
       "332"
      ],
      "text/markdown": [
       "332"
      ],
      "text/plain": [
       "[1] 332"
      ]
     },
     "metadata": {},
     "output_type": "display_data"
    },
    {
     "data": {
      "text/html": [
       "332"
      ],
      "text/latex": [
       "332"
      ],
      "text/markdown": [
       "332"
      ],
      "text/plain": [
       "[1] 332"
      ]
     },
     "metadata": {},
     "output_type": "display_data"
    },
    {
     "data": {
      "text/html": [
       "330"
      ],
      "text/latex": [
       "330"
      ],
      "text/markdown": [
       "330"
      ],
      "text/plain": [
       "[1] 330"
      ]
     },
     "metadata": {},
     "output_type": "display_data"
    },
    {
     "data": {
      "text/html": [
       "329"
      ],
      "text/latex": [
       "329"
      ],
      "text/markdown": [
       "329"
      ],
      "text/plain": [
       "[1] 329"
      ]
     },
     "metadata": {},
     "output_type": "display_data"
    },
    {
     "data": {
      "text/html": [
       "327"
      ],
      "text/latex": [
       "327"
      ],
      "text/markdown": [
       "327"
      ],
      "text/plain": [
       "[1] 327"
      ]
     },
     "metadata": {},
     "output_type": "display_data"
    },
    {
     "data": {
      "text/html": [
       "326"
      ],
      "text/latex": [
       "326"
      ],
      "text/markdown": [
       "326"
      ],
      "text/plain": [
       "[1] 326"
      ]
     },
     "metadata": {},
     "output_type": "display_data"
    },
    {
     "data": {
      "text/html": [
       "324"
      ],
      "text/latex": [
       "324"
      ],
      "text/markdown": [
       "324"
      ],
      "text/plain": [
       "[1] 324"
      ]
     },
     "metadata": {},
     "output_type": "display_data"
    },
    {
     "data": {
      "text/html": [
       "321"
      ],
      "text/latex": [
       "321"
      ],
      "text/markdown": [
       "321"
      ],
      "text/plain": [
       "[1] 321"
      ]
     },
     "metadata": {},
     "output_type": "display_data"
    },
    {
     "data": {
      "text/html": [
       "318"
      ],
      "text/latex": [
       "318"
      ],
      "text/markdown": [
       "318"
      ],
      "text/plain": [
       "[1] 318"
      ]
     },
     "metadata": {},
     "output_type": "display_data"
    },
    {
     "data": {
      "text/html": [
       "313"
      ],
      "text/latex": [
       "313"
      ],
      "text/markdown": [
       "313"
      ],
      "text/plain": [
       "[1] 313"
      ]
     },
     "metadata": {},
     "output_type": "display_data"
    },
    {
     "data": {
      "text/html": [
       "293"
      ],
      "text/latex": [
       "293"
      ],
      "text/markdown": [
       "293"
      ],
      "text/plain": [
       "[1] 293"
      ]
     },
     "metadata": {},
     "output_type": "display_data"
    },
    {
     "data": {
      "text/html": [
       "275"
      ],
      "text/latex": [
       "275"
      ],
      "text/markdown": [
       "275"
      ],
      "text/plain": [
       "[1] 275"
      ]
     },
     "metadata": {},
     "output_type": "display_data"
    },
    {
     "data": {
      "text/html": [
       "257"
      ],
      "text/latex": [
       "257"
      ],
      "text/markdown": [
       "257"
      ],
      "text/plain": [
       "[1] 257"
      ]
     },
     "metadata": {},
     "output_type": "display_data"
    },
    {
     "data": {
      "text/html": [
       "210"
      ],
      "text/latex": [
       "210"
      ],
      "text/markdown": [
       "210"
      ],
      "text/plain": [
       "[1] 210"
      ]
     },
     "metadata": {},
     "output_type": "display_data"
    },
    {
     "data": {
      "text/html": [
       "162"
      ],
      "text/latex": [
       "162"
      ],
      "text/markdown": [
       "162"
      ],
      "text/plain": [
       "[1] 162"
      ]
     },
     "metadata": {},
     "output_type": "display_data"
    },
    {
     "data": {
      "text/html": [
       "135"
      ],
      "text/latex": [
       "135"
      ],
      "text/markdown": [
       "135"
      ],
      "text/plain": [
       "[1] 135"
      ]
     },
     "metadata": {},
     "output_type": "display_data"
    },
    {
     "data": {
      "text/html": [
       "47"
      ],
      "text/latex": [
       "47"
      ],
      "text/markdown": [
       "47"
      ],
      "text/plain": [
       "[1] 47"
      ]
     },
     "metadata": {},
     "output_type": "display_data"
    },
    {
     "data": {
      "text/html": [
       "45"
      ],
      "text/latex": [
       "45"
      ],
      "text/markdown": [
       "45"
      ],
      "text/plain": [
       "[1] 45"
      ]
     },
     "metadata": {},
     "output_type": "display_data"
    },
    {
     "data": {
      "text/html": [
       "0"
      ],
      "text/latex": [
       "0"
      ],
      "text/markdown": [
       "0"
      ],
      "text/plain": [
       "[1] 0"
      ]
     },
     "metadata": {},
     "output_type": "display_data"
    }
   ],
   "source": [
    "length(which(levelcount<28))\n",
    "length(which(levelcount<29))\n",
    "length(which(levelcount<27))\n",
    "length(which(levelcount<26))\n",
    "length(which(levelcount<25))\n",
    "length(which(levelcount<24))\n",
    "length(which(levelcount<23))\n",
    "length(which(levelcount<22))\n",
    "length(which(levelcount<21))\n",
    "length(which(levelcount<20))\n",
    "length(which(levelcount<19))\n",
    "length(which(levelcount<18))\n",
    "length(which(levelcount<17))\n",
    "length(which(levelcount<16))\n",
    "length(which(levelcount<15))\n",
    "length(which(levelcount<14))\n",
    "length(which(levelcount<13))\n",
    "length(which(levelcount<12))\n",
    "length(which(levelcount<11))\n",
    "length(which(levelcount<10))\n",
    "length(which(levelcount<9))\n",
    "length(which(levelcount<8))\n",
    "length(which(levelcount<7))\n",
    "length(which(levelcount<6))\n",
    "length(which(levelcount<5))\n",
    "length(which(levelcount<4))\n",
    "length(which(levelcount<3))\n",
    "length(which(levelcount<2))\n",
    "length(which(levelcount<1))\n"
   ]
  },
  {
   "cell_type": "code",
   "execution_count": 8,
   "metadata": {},
   "outputs": [
    {
     "data": {
      "image/png": "[encoded data removed]",
      "text/plain": [
       "plot without title"
      ]
     },
     "metadata": {},
     "output_type": "display_data"
    }
   ],
   "source": [
    "countlist=c(341,\n",
    "342,\n",
    "340,\n",
    "337,\n",
    "337,\n",
    "336,\n",
    "334,\n",
    "334,\n",
    "332,\n",
    "332,\n",
    "332,\n",
    "332,\n",
    "330,\n",
    "329,\n",
    "327,\n",
    "326,\n",
    "324,\n",
    "321,\n",
    "318,\n",
    "313,\n",
    "293,\n",
    "275,\n",
    "257,\n",
    "210,\n",
    "162,\n",
    "135,\n",
    "47,\n",
    "45,\n",
    "0)\n",
    "options(repr.plot.width=6, repr.plot.height=4)\n",
    "names(countlist)=c(28:1)\n",
    "barplot(countlist,xlim = c(1,32),xlab=\"levels\",cex.names=.5)"
   ]
  },
  {
   "cell_type": "code",
   "execution_count": 117,
   "metadata": {
    "scrolled": false
   },
   "outputs": [
    {
     "data": {
      "text/html": [
       "<ol class=list-inline>\n",
       "\t<li>46</li>\n",
       "\t<li>178</li>\n",
       "\t<li>179</li>\n",
       "\t<li>186</li>\n",
       "\t<li>187</li>\n",
       "</ol>\n"
      ],
      "text/latex": [
       "\\begin{enumerate*}\n",
       "\\item 46\n",
       "\\item 178\n",
       "\\item 179\n",
       "\\item 186\n",
       "\\item 187\n",
       "\\end{enumerate*}\n"
      ],
      "text/markdown": [
       "1. 46\n",
       "2. 178\n",
       "3. 179\n",
       "4. 186\n",
       "5. 187\n",
       "\n",
       "\n"
      ],
      "text/plain": [
       "[1]  46 178 179 186 187"
      ]
     },
     "metadata": {},
     "output_type": "display_data"
    },
    {
     "data": {
      "text/html": [
       "<table>\n",
       "<caption>A data.table: 6 × 5</caption>\n",
       "<thead>\n",
       "\t<tr><th scope=col>1031-0.0</th><th scope=col>6141-0.0</th><th scope=col>6142-0.0</th><th scope=col>6154-0.0</th><th scope=col>6155-0.0</th></tr>\n",
       "\t<tr><th scope=col>&lt;dbl&gt;</th><th scope=col>&lt;dbl&gt;</th><th scope=col>&lt;dbl&gt;</th><th scope=col>&lt;dbl&gt;</th><th scope=col>&lt;dbl&gt;</th></tr>\n",
       "</thead>\n",
       "<tbody>\n",
       "\t<tr><td>2</td><td>-3</td><td>1</td><td> 5</td><td>-7</td></tr>\n",
       "\t<tr><td>2</td><td> 1</td><td>1</td><td>-7</td><td>-7</td></tr>\n",
       "\t<tr><td>2</td><td> 1</td><td>2</td><td> 5</td><td>-7</td></tr>\n",
       "\t<tr><td>2</td><td> 1</td><td>1</td><td>-7</td><td>-7</td></tr>\n",
       "\t<tr><td>3</td><td> 1</td><td>1</td><td> 3</td><td>-7</td></tr>\n",
       "\t<tr><td>1</td><td> 1</td><td>1</td><td> 3</td><td>-7</td></tr>\n",
       "</tbody>\n",
       "</table>\n"
      ],
      "text/latex": [
       "A data.table: 6 × 5\n",
       "\\begin{tabular}{r|lllll}\n",
       " 1031-0.0 & 6141-0.0 & 6142-0.0 & 6154-0.0 & 6155-0.0\\\\\n",
       " <dbl> & <dbl> & <dbl> & <dbl> & <dbl>\\\\\n",
       "\\hline\n",
       "\t 2 & -3 & 1 &  5 & -7\\\\\n",
       "\t 2 &  1 & 1 & -7 & -7\\\\\n",
       "\t 2 &  1 & 2 &  5 & -7\\\\\n",
       "\t 2 &  1 & 1 & -7 & -7\\\\\n",
       "\t 3 &  1 & 1 &  3 & -7\\\\\n",
       "\t 1 &  1 & 1 &  3 & -7\\\\\n",
       "\\end{tabular}\n"
      ],
      "text/markdown": [
       "\n",
       "A data.table: 6 × 5\n",
       "\n",
       "| 1031-0.0 &lt;dbl&gt; | 6141-0.0 &lt;dbl&gt; | 6142-0.0 &lt;dbl&gt; | 6154-0.0 &lt;dbl&gt; | 6155-0.0 &lt;dbl&gt; |\n",
       "|---|---|---|---|---|\n",
       "| 2 | -3 | 1 |  5 | -7 |\n",
       "| 2 |  1 | 1 | -7 | -7 |\n",
       "| 2 |  1 | 2 |  5 | -7 |\n",
       "| 2 |  1 | 1 | -7 | -7 |\n",
       "| 3 |  1 | 1 |  3 | -7 |\n",
       "| 1 |  1 | 1 |  3 | -7 |\n",
       "\n"
      ],
      "text/plain": [
       "  1031-0.0 6141-0.0 6142-0.0 6154-0.0 6155-0.0\n",
       "1 2        -3       1         5       -7      \n",
       "2 2         1       1        -7       -7      \n",
       "3 2         1       2         5       -7      \n",
       "4 2         1       1        -7       -7      \n",
       "5 3         1       1         3       -7      \n",
       "6 1         1       1         3       -7      "
      ]
     },
     "metadata": {},
     "output_type": "display_data"
    }
   ],
   "source": [
    "(which(levelcount==10)) # filter set at 10\n",
    "\n",
    "select(new_m,which(levelcount==10)) %>% head()"
   ]
  },
  {
   "cell_type": "code",
   "execution_count": 141,
   "metadata": {},
   "outputs": [],
   "source": [
    "# 46,175:192,19 ,21, 39,542, 545,200,201,202,205,538,20,212,543,546,544,5,46 \n",
    "#which should also be filtered out by manual inspectation"
   ]
  },
  {
   "cell_type": "code",
   "execution_count": 135,
   "metadata": {},
   "outputs": [
    {
     "data": {
      "text/html": [
       "<ol class=list-inline>\n",
       "\t<li>478174</li>\n",
       "\t<li>545</li>\n",
       "</ol>\n"
      ],
      "text/latex": [
       "\\begin{enumerate*}\n",
       "\\item 478174\n",
       "\\item 545\n",
       "\\end{enumerate*}\n"
      ],
      "text/markdown": [
       "1. 478174\n",
       "2. 545\n",
       "\n",
       "\n"
      ],
      "text/plain": [
       "[1] 478174    545"
      ]
     },
     "metadata": {},
     "output_type": "display_data"
    }
   ],
   "source": [
    "new_m2=new_m[,-c(46,175:192,19 ,21, 39,542, 545,200,201,202,205,538,20,212,543,546,544,5,46)]\n",
    "dim(new_m2)\n"
   ]
  },
  {
   "cell_type": "markdown",
   "metadata": {},
   "source": [
    "## Filter Data for Based on Levels"
   ]
  },
  {
   "cell_type": "code",
   "execution_count": 136,
   "metadata": {},
   "outputs": [],
   "source": [
    "levelcount=list()\n",
    "for (i in 1:ncol(new_m2)){\n",
    "    levelcount[i]=length(table(new_m2[[i]]))\n",
    "}"
   ]
  },
  {
   "cell_type": "code",
   "execution_count": 142,
   "metadata": {},
   "outputs": [],
   "source": [
    "new_m3=select(new_m2, -which(levelcount<11))"
   ]
  },
  {
   "cell_type": "code",
   "execution_count": 143,
   "metadata": {},
   "outputs": [
    {
     "data": {
      "text/html": [
       "<ol class=list-inline>\n",
       "\t<li>478174</li>\n",
       "\t<li>245</li>\n",
       "</ol>\n"
      ],
      "text/latex": [
       "\\begin{enumerate*}\n",
       "\\item 478174\n",
       "\\item 245\n",
       "\\end{enumerate*}\n"
      ],
      "text/markdown": [
       "1. 478174\n",
       "2. 245\n",
       "\n",
       "\n"
      ],
      "text/plain": [
       "[1] 478174    245"
      ]
     },
     "metadata": {},
     "output_type": "display_data"
    }
   ],
   "source": [
    "dim(new_m3)"
   ]
  },
  {
   "cell_type": "code",
   "execution_count": 145,
   "metadata": {},
   "outputs": [],
   "source": [
    "fwrite(new_m3,\"read_for_model.csv\") ## save the data \n",
    "## it's pretty clean now."
   ]
  },
  {
   "cell_type": "code",
   "execution_count": 234,
   "metadata": {
    "collapsed": true
   },
   "outputs": [],
   "source": [
    "#fwrite(new_m,\"use_june.csv\")"
   ]
  },
  {
   "cell_type": "code",
   "execution_count": 14,
   "metadata": {},
   "outputs": [],
   "source": [
    "#new_m=fread(\"use_june6.csv\")"
   ]
  },
  {
   "cell_type": "code",
   "execution_count": 15,
   "metadata": {},
   "outputs": [],
   "source": [
    "#levelcount=load(\"var_frq.RData\")"
   ]
  },
  {
   "cell_type": "code",
   "execution_count": null,
   "metadata": {},
   "outputs": [],
   "source": [
    "## here I filter out data with levels smaller "
   ]
  },
  {
   "cell_type": "code",
   "execution_count": null,
   "metadata": {},
   "outputs": [],
   "source": []
  },
  {
   "cell_type": "markdown",
   "metadata": {},
   "source": [
    "## Scale the Data"
   ]
  },
  {
   "cell_type": "code",
   "execution_count": 149,
   "metadata": {},
   "outputs": [],
   "source": [
    "scale_sample=scale(new_m3)\n",
    "\n",
    "# use the scale function to normalize the data for regression models"
   ]
  },
  {
   "cell_type": "code",
   "execution_count": 16,
   "metadata": {},
   "outputs": [
    {
     "ename": "ERROR",
     "evalue": "Error in eval(expr, envir, enclos): object 'scale_sample' not found\n",
     "output_type": "error",
     "traceback": [
      "Error in eval(expr, envir, enclos): object 'scale_sample' not found\nTraceback:\n"
     ]
    }
   ],
   "source": [
    "scale_data=scale_sample\n",
    "#colSums(is.infinite(scale_data))"
   ]
  },
  {
   "cell_type": "code",
   "execution_count": 152,
   "metadata": {},
   "outputs": [],
   "source": [
    "scale_data=as.data.frame(scale_data)"
   ]
  },
  {
   "cell_type": "code",
   "execution_count": 153,
   "metadata": {},
   "outputs": [],
   "source": [
    "fwrite(scale_data,\"ready_for_model_scaled.csv\")"
   ]
  },
  {
   "cell_type": "code",
   "execution_count": 155,
   "metadata": {},
   "outputs": [
    {
     "data": {
      "text/html": [
       "213"
      ],
      "text/latex": [
       "213"
      ],
      "text/markdown": [
       "213"
      ],
      "text/plain": [
       "[1] 213"
      ]
     },
     "metadata": {},
     "output_type": "display_data"
    },
    {
     "data": {
      "text/html": [
       "<ol class=list-inline>\n",
       "\t<li>478174</li>\n",
       "\t<li>245</li>\n",
       "</ol>\n"
      ],
      "text/latex": [
       "\\begin{enumerate*}\n",
       "\\item 478174\n",
       "\\item 245\n",
       "\\end{enumerate*}\n"
      ],
      "text/markdown": [
       "1. 478174\n",
       "2. 245\n",
       "\n",
       "\n"
      ],
      "text/plain": [
       "[1] 478174    245"
      ]
     },
     "metadata": {},
     "output_type": "display_data"
    }
   ],
   "source": [
    "grep(\"count\",colnames(new_m3))\n",
    "dim(new_m3)"
   ]
  },
  {
   "cell_type": "code",
   "execution_count": 17,
   "metadata": {},
   "outputs": [],
   "source": [
    "#colSums(is.na(new_m3))"
   ]
  },
  {
   "cell_type": "markdown",
   "metadata": {},
   "source": [
    "## Impute the Genetic Component Data with Mean\n",
    "#### This should have been done once they were merged to the main data"
   ]
  },
  {
   "cell_type": "code",
   "execution_count": 164,
   "metadata": {},
   "outputs": [
    {
     "data": {
      "text/html": [
       "<ol class=list-inline>\n",
       "\t<li>214</li>\n",
       "\t<li>215</li>\n",
       "\t<li>216</li>\n",
       "\t<li>217</li>\n",
       "\t<li>218</li>\n",
       "\t<li>219</li>\n",
       "\t<li>220</li>\n",
       "\t<li>221</li>\n",
       "\t<li>222</li>\n",
       "\t<li>223</li>\n",
       "\t<li>224</li>\n",
       "</ol>\n"
      ],
      "text/latex": [
       "\\begin{enumerate*}\n",
       "\\item 214\n",
       "\\item 215\n",
       "\\item 216\n",
       "\\item 217\n",
       "\\item 218\n",
       "\\item 219\n",
       "\\item 220\n",
       "\\item 221\n",
       "\\item 222\n",
       "\\item 223\n",
       "\\item 224\n",
       "\\end{enumerate*}\n"
      ],
      "text/markdown": [
       "1. 214\n",
       "2. 215\n",
       "3. 216\n",
       "4. 217\n",
       "5. 218\n",
       "6. 219\n",
       "7. 220\n",
       "8. 221\n",
       "9. 222\n",
       "10. 223\n",
       "11. 224\n",
       "\n",
       "\n"
      ],
      "text/plain": [
       " [1] 214 215 216 217 218 219 220 221 222 223 224"
      ]
     },
     "metadata": {},
     "output_type": "display_data"
    },
    {
     "data": {
      "text/html": [
       "245"
      ],
      "text/latex": [
       "245"
      ],
      "text/markdown": [
       "245"
      ],
      "text/plain": [
       "[1] 245"
      ]
     },
     "metadata": {},
     "output_type": "display_data"
    }
   ],
   "source": [
    "#new_4=zoo::na.aggregate(new_numeric[,451:548])\n",
    "grep(\"22009-0.1\",colnames(new_m3))\n",
    "grep(\"22009-0.40\",colnames(new_m3))"
   ]
  },
  {
   "cell_type": "code",
   "execution_count": 167,
   "metadata": {},
   "outputs": [
    {
     "data": {
      "text/html": [
       "<ol class=list-inline>\n",
       "\t<li>478174</li>\n",
       "\t<li>545</li>\n",
       "</ol>\n"
      ],
      "text/latex": [
       "\\begin{enumerate*}\n",
       "\\item 478174\n",
       "\\item 545\n",
       "\\end{enumerate*}\n"
      ],
      "text/markdown": [
       "1. 478174\n",
       "2. 545\n",
       "\n",
       "\n"
      ],
      "text/plain": [
       "[1] 478174    545"
      ]
     },
     "metadata": {},
     "output_type": "display_data"
    },
    {
     "data": {
      "text/html": [
       "<ol class=list-inline>\n",
       "\t<li>478174</li>\n",
       "\t<li>245</li>\n",
       "</ol>\n"
      ],
      "text/latex": [
       "\\begin{enumerate*}\n",
       "\\item 478174\n",
       "\\item 245\n",
       "\\end{enumerate*}\n"
      ],
      "text/markdown": [
       "1. 478174\n",
       "2. 245\n",
       "\n",
       "\n"
      ],
      "text/plain": [
       "[1] 478174    245"
      ]
     },
     "metadata": {},
     "output_type": "display_data"
    },
    {
     "data": {
      "text/html": [
       "<ol class=list-inline>\n",
       "\t<li>478174</li>\n",
       "\t<li>245</li>\n",
       "</ol>\n"
      ],
      "text/latex": [
       "\\begin{enumerate*}\n",
       "\\item 478174\n",
       "\\item 245\n",
       "\\end{enumerate*}\n"
      ],
      "text/markdown": [
       "1. 478174\n",
       "2. 245\n",
       "\n",
       "\n"
      ],
      "text/plain": [
       "[1] 478174    245"
      ]
     },
     "metadata": {},
     "output_type": "display_data"
    }
   ],
   "source": [
    "dim(new_m2)\n",
    "dim(new_m3)\n",
    "dim(scale_data)"
   ]
  },
  {
   "cell_type": "code",
   "execution_count": 168,
   "metadata": {},
   "outputs": [],
   "source": [
    "new_gc_imp=zoo::na.aggregate(new_m3[,214:245])\n",
    "new_others=new_m3[,1:213]"
   ]
  },
  {
   "cell_type": "code",
   "execution_count": 29,
   "metadata": {},
   "outputs": [
    {
     "ename": "ERROR",
     "evalue": "Error in cbind(new_others, new_gc_imp): object 'new_others' not found\n",
     "output_type": "error",
     "traceback": [
      "Error in cbind(new_others, new_gc_imp): object 'new_others' not found\nTraceback:\n",
      "1. cbind(new_others, new_gc_imp)"
     ]
    }
   ],
   "source": [
    "new_m4=cbind(new_others,new_gc_imp)\n",
    "dim(new_m4)\n",
    "grep(\"count\",colnames(new_m4))\n",
    "#colSums(is.na(new_m4))"
   ]
  },
  {
   "cell_type": "code",
   "execution_count": 173,
   "metadata": {},
   "outputs": [],
   "source": [
    "## save the data ready for model\n",
    "#fwrite(new_m4,\"ready_for_model.csv\")"
   ]
  },
  {
   "cell_type": "code",
   "execution_count": 175,
   "metadata": {},
   "outputs": [
    {
     "data": {
      "text/html": [
       "<ol class=list-inline>\n",
       "\t<li>478174</li>\n",
       "\t<li>245</li>\n",
       "</ol>\n"
      ],
      "text/latex": [
       "\\begin{enumerate*}\n",
       "\\item 478174\n",
       "\\item 245\n",
       "\\end{enumerate*}\n"
      ],
      "text/markdown": [
       "1. 478174\n",
       "2. 245\n",
       "\n",
       "\n"
      ],
      "text/plain": [
       "[1] 478174    245"
      ]
     },
     "metadata": {},
     "output_type": "display_data"
    }
   ],
   "source": [
    "scale_data=scale(new_m4)\n",
    "dim(scale_data)\n",
    "scale_data=as.data.frame(scale_data)\n",
    "#fwrite(scale_data,\"ready_for_model_scale.csv\")"
   ]
  },
  {
   "cell_type": "code",
   "execution_count": 177,
   "metadata": {},
   "outputs": [],
   "source": [
    "new_data=scale_data"
   ]
  },
  {
   "cell_type": "markdown",
   "metadata": {},
   "source": [
    "## Single Regression Models for 245 Vars"
   ]
  },
  {
   "cell_type": "code",
   "execution_count": 178,
   "metadata": {},
   "outputs": [
    {
     "name": "stderr",
     "output_type": "stream",
     "text": [
      "Warning message in summary.lm(model[[i]]):\n",
      "“essentially perfect fit: summary may be unreliable”"
     ]
    }
   ],
   "source": [
    "coeff=NULL\n",
    "sum=NULL\n",
    "model=NULL\n",
    "r=NULL\n",
    "beta=NULL\n",
    "for (i in 1:245){\n",
    "   \n",
    "   model[[i]] <- lm(data=new_data,formula = count ~ new_data[[i]] )\n",
    "   coeff[[i]]=model$coefficients\n",
    "   sum[[i]]=summary(model[[i]])\n",
    "    r[[i]]=sum[[i]]$adj.r.squared\n",
    "    beta[[i]]=lm.beta(model[[i]])\n",
    "}\n",
    "\n",
    "\n"
   ]
  },
  {
   "cell_type": "markdown",
   "metadata": {},
   "source": [
    "### More Variables Should be Removed and Reflection\n",
    "- After we created the model and look at the summaries of each, a bunch of variables that were hard to be noticed by manual inspect are now showed in the summary table, especially the P-Values "
   ]
  },
  {
   "cell_type": "code",
   "execution_count": 188,
   "metadata": {},
   "outputs": [
    {
     "name": "stdout",
     "output_type": "stream",
     "text": [
      "[1] 172\n",
      "[1] 166\n",
      "[1] 166\n",
      "[1] 150\n",
      "[1] 62\n",
      "[1] 59\n",
      "[1] \"separate\"\n",
      "[1] 8\n"
     ]
    },
    {
     "data": {
      "text/html": [
       "<ol class=list-inline>\n",
       "\t<li>9</li>\n",
       "\t<li>211</li>\n",
       "</ol>\n"
      ],
      "text/latex": [
       "\\begin{enumerate*}\n",
       "\\item 9\n",
       "\\item 211\n",
       "\\end{enumerate*}\n"
      ],
      "text/markdown": [
       "1. 9\n",
       "2. 211\n",
       "\n",
       "\n"
      ],
      "text/plain": [
       "[1]   9 211"
      ]
     },
     "metadata": {},
     "output_type": "display_data"
    },
    {
     "name": "stdout",
     "output_type": "stream",
     "text": [
      "[1]   4 153 163 173 187 197 204\n"
     ]
    },
    {
     "data": {
      "text/html": [
       "5"
      ],
      "text/latex": [
       "5"
      ],
      "text/markdown": [
       "5"
      ],
      "text/plain": [
       "[1] 5"
      ]
     },
     "metadata": {},
     "output_type": "display_data"
    },
    {
     "name": "stdout",
     "output_type": "stream",
     "text": [
      "[1] 6\n"
     ]
    },
    {
     "data": {
      "text/html": [
       "7"
      ],
      "text/latex": [
       "7"
      ],
      "text/markdown": [
       "7"
      ],
      "text/plain": [
       "[1] 7"
      ]
     },
     "metadata": {},
     "output_type": "display_data"
    },
    {
     "name": "stdout",
     "output_type": "stream",
     "text": [
      "[1] 22\n"
     ]
    },
    {
     "data": {
      "text/html": [
       "<ol class=list-inline>\n",
       "\t<li>3</li>\n",
       "\t<li>43</li>\n",
       "\t<li>79</li>\n",
       "</ol>\n"
      ],
      "text/latex": [
       "\\begin{enumerate*}\n",
       "\\item 3\n",
       "\\item 43\n",
       "\\item 79\n",
       "\\end{enumerate*}\n"
      ],
      "text/markdown": [
       "1. 3\n",
       "2. 43\n",
       "3. 79\n",
       "\n",
       "\n"
      ],
      "text/plain": [
       "[1]  3 43 79"
      ]
     },
     "metadata": {},
     "output_type": "display_data"
    }
   ],
   "source": [
    "print(grep(\"30230-0.0\",colnames(new_data))) # \tNucleated red blood cell percentage #removed \n",
    "print(grep(\"30170-0.0\",colnames(new_data))) # \tNucleated red blood cell count # removed \n",
    "print(grep(\"30170-0.0\",colnames(new_data))) # \tNucleated red blood cell count # removed \n",
    "print(grep(\"30010-0.0\",colnames(new_data))) # Red blood cell (erythrocyte) count # not here\n",
    "print(grep(\"20004-0.0\",colnames(new_data))) #\tOperation code # removed\n",
    "print(grep(\"3132-0.0\",colnames(new_data)))  \n",
    "print(\"separate\")# \t453701\tText\tSpirometry device serial number # removed \n",
    "grep(\"44-0.0\",colnames(new_data)) %>% print() # \tTape measure device ID # removed \n",
    "grep(\"45-0.0\",colnames(new_data)) # \t\tHeel ultrasound device id # removed\n",
    "grep(\"40-0.0\",colnames(new_data))  %>% print()# \tID # removed \n",
    "grep(\"41-0.0\",colnames(new_data)) # \tID # removed \n",
    "grep(\"42-0.0\",colnames(new_data)) %>% print() # \t ID # removed \n",
    "grep(\"43-0.0\",colnames(new_data)) # \tID # removed \n",
    "grep(\"36-0.0\",colnames(new_data)) %>% print() # \tID # removed \n",
    "grep(\"38-0.0\",colnames(new_data)) # \tID # removed "
   ]
  },
  {
   "cell_type": "code",
   "execution_count": 189,
   "metadata": {},
   "outputs": [],
   "source": [
    "## notes"
   ]
  },
  {
   "cell_type": "code",
   "execution_count": 192,
   "metadata": {},
   "outputs": [
    {
     "data": {
      "text/html": [
       "54"
      ],
      "text/latex": [
       "54"
      ],
      "text/markdown": [
       "54"
      ],
      "text/plain": [
       "[1] 54"
      ]
     },
     "metadata": {},
     "output_type": "display_data"
    }
   ],
   "source": [
    "#20022-0.0\t#276992\tContinuous\tBirth weight # not here\n",
    "#20007-0.0 #41697\tCContinuous\tInterpolated Age of participant when cancer first diagnosed not here \n",
    "#20008-0.0\t#!!!!!#375034\t#Continuous\tInterpolated Year when non-cancer illness first diagnosed not here\n",
    "#20006-0.0\t#41697\tContinuous\tInterpolated Year when cancer first diagnosed\n",
    "#3526-0.0#\t298441\tInteger\tMother's age at death # not here\n",
    "grep(\"2277-0.0\",colnames(new_data)) #Integer\tFrequency of solarium/sunlamp use # not removed yet\n",
    "\n",
    "# 1. recode the -10?\n",
    "# 2. remove the 1568 items have value -3 (Prefer not to answer) and 4479 items have value -1 (Do not know)?\n",
    "#87-0.0\t#375037\tInteger\tNon-cancer illness year/age first occurred\n",
    "#Uses data-coding 37 comprises 2 Integer-valued members in a simple list. # not here"
   ]
  },
  {
   "cell_type": "code",
   "execution_count": 193,
   "metadata": {},
   "outputs": [
    {
     "data": {
      "text/html": [
       "22702"
      ],
      "text/latex": [
       "22702"
      ],
      "text/markdown": [
       "22702"
      ],
      "text/plain": [
       "[1] 22702"
      ]
     },
     "metadata": {},
     "output_type": "display_data"
    },
    {
     "data": {
      "text/html": [
       "20074"
      ],
      "text/latex": [
       "20074"
      ],
      "text/markdown": [
       "20074"
      ],
      "text/plain": [
       "[1] 20074"
      ]
     },
     "metadata": {},
     "output_type": "display_data"
    },
    {
     "data": {
      "text/html": [
       "21003"
      ],
      "text/latex": [
       "21003"
      ],
      "text/markdown": [
       "21003"
      ],
      "text/plain": [
       "[1] 21003"
      ]
     },
     "metadata": {},
     "output_type": "display_data"
    },
    {
     "data": {
      "text/html": [
       "21022"
      ],
      "text/latex": [
       "21022"
      ],
      "text/markdown": [
       "21022"
      ],
      "text/plain": [
       "[1] 21022"
      ]
     },
     "metadata": {},
     "output_type": "display_data"
    },
    {
     "data": {
      "text/html": [
       "20075"
      ],
      "text/latex": [
       "20075"
      ],
      "text/markdown": [
       "20075"
      ],
      "text/plain": [
       "[1] 20075"
      ]
     },
     "metadata": {},
     "output_type": "display_data"
    },
    {
     "data": {
      "text/html": [
       "22704"
      ],
      "text/latex": [
       "22704"
      ],
      "text/markdown": [
       "22704"
      ],
      "text/plain": [
       "[1] 22704"
      ]
     },
     "metadata": {},
     "output_type": "display_data"
    }
   ],
   "source": [
    "## duplicate \n",
    "# duplicates?|\n",
    "22702 ;20074 # east coordinate duplicate?\n",
    "21003-0.0\t#\tInteger\tAge when attended assessment centre ; \n",
    "21022-0.0\t#502507\tInteger\tAge at recruitment\n",
    "20075-0.0\t#497545\tInteger\tHome location at assessment - north co-ordinate (rounded)\t\n",
    "22704-0.0\t#502497\tInteger\tHome location - north co-ordinate (rounded)"
   ]
  },
  {
   "cell_type": "code",
   "execution_count": 194,
   "metadata": {},
   "outputs": [
    {
     "data": {
      "text/html": [
       "52"
      ],
      "text/latex": [
       "52"
      ],
      "text/markdown": [
       "52"
      ],
      "text/plain": [
       "[1] 52"
      ]
     },
     "metadata": {},
     "output_type": "display_data"
    }
   ],
   "source": [
    "grep(\"2149-0.0\",colnames(new_data))"
   ]
  },
  {
   "cell_type": "markdown",
   "metadata": {},
   "source": [
    "## Some interesting findings"
   ]
  },
  {
   "cell_type": "code",
   "execution_count": 207,
   "metadata": {},
   "outputs": [
    {
     "data": {
      "text/html": [
       "<ol class=list-inline>\n",
       "\t<li>-3</li>\n",
       "\t<li>17000</li>\n",
       "</ol>\n"
      ],
      "text/latex": [
       "\\begin{enumerate*}\n",
       "\\item -3\n",
       "\\item 17000\n",
       "\\end{enumerate*}\n"
      ],
      "text/markdown": [
       "1. -3\n",
       "2. 17000\n",
       "\n",
       "\n"
      ],
      "text/plain": [
       "[1]    -3 17000"
      ]
     },
     "metadata": {},
     "output_type": "display_data"
    },
    {
     "data": {
      "text/plain": [
       "    2149-0.0        \n",
       " Min.   :   -3.000  \n",
       " 1st Qu.:    1.000  \n",
       " Median :    3.000  \n",
       " Mean   :    6.737  \n",
       " 3rd Qu.:    7.000  \n",
       " Max.   :17000.000  "
      ]
     },
     "metadata": {},
     "output_type": "display_data"
    },
    {
     "data": {
      "text/html": [
       "<ol class=list-inline>\n",
       "\t<li>-3</li>\n",
       "\t<li>17000</li>\n",
       "</ol>\n"
      ],
      "text/latex": [
       "\\begin{enumerate*}\n",
       "\\item -3\n",
       "\\item 17000\n",
       "\\end{enumerate*}\n"
      ],
      "text/markdown": [
       "1. -3\n",
       "2. 17000\n",
       "\n",
       "\n"
      ],
      "text/plain": [
       "[1]    -3 17000"
      ]
     },
     "metadata": {},
     "output_type": "display_data"
    },
    {
     "data": {
      "text/plain": [
       "    2149-0.0        \n",
       " Min.   :   -3.000  \n",
       " 1st Qu.:    1.000  \n",
       " Median :    3.000  \n",
       " Mean   :    6.737  \n",
       " 3rd Qu.:    7.000  \n",
       " Max.   :17000.000  "
      ]
     },
     "metadata": {},
     "output_type": "display_data"
    },
    {
     "data": {
      "text/plain": [
       ".\n",
       "  -3   -1    1    2    3    4    5    6    7    8    9   10   11   12   13   14 \n",
       "1462 1329 7019 3185 2649 2023 1927 1516 3506  694  292 1292   87  500   46   71 \n",
       "  15   16   17   18   19   20   21   22   23   24   25   26   27   28   29   30 \n",
       " 452   60   20   43   14  641   23   14   10   15  217   13    5   10    3  284 \n",
       "  31   32   33   34   35   36   37   40   41   42   43   45   46   48   50   51 \n",
       "   1   11    6    1   58    7    3  102    2    1    2   10    2    1  147    1 \n",
       "  52   53   55   60   63   65   68   70   75   76   80   82   85   90  100  104 \n",
       "   2    1    4   32    1    5    1    7    6    1   26    1    1    9   60    1 \n",
       " 105  110  120  125  136  150  180  197  200  250  300  350  400  450  500  600 \n",
       "   1    1    5    1    1   10    1    1   17    4    6    1    4    1    2    1 \n",
       " 750 1000 2000 3000 \n",
       "   1    5    1    1 "
      ]
     },
     "metadata": {},
     "output_type": "display_data"
    },
    {
     "data": {
      "image/png": "[encoded data removed]",
      "text/plain": [
       "Plot with title “# Lifetime number of sexual partners”"
      ]
     },
     "metadata": {},
     "output_type": "display_data"
    }
   ],
   "source": [
    " #Lifetime number of sexual partners\n",
    "round(new_m4[,52],0) %>% range()\n",
    "round(new_m4[,52],0) %>% summary()\n",
    "options(repr.plot.width=4, repr.plot.height=4)\n",
    "#par(mfrow=c(2,2))\n",
    "plot(round(new_m4[1:30000,52],0) %>% table(),type = \"p\",col=\"blue\",main=\"# Lifetime number of sexual partners\") \n",
    "round(new_m4[,52],0) %>% range()#Lifetime number of sexual partners\n",
    "#Uses data-coding 100291 comprises 2 Integer-valued members in a simple list. # keep\n",
    "round(new_m4[,52],0) %>% summary()\n",
    "round(new_m4[1:30000,52],0) %>% table()"
   ]
  },
  {
   "cell_type": "code",
   "execution_count": 206,
   "metadata": {},
   "outputs": [
    {
     "data": {
      "text/html": [
       "51"
      ],
      "text/latex": [
       "51"
      ],
      "text/markdown": [
       "51"
      ],
      "text/plain": [
       "[1] 51"
      ]
     },
     "metadata": {},
     "output_type": "display_data"
    },
    {
     "data": {
      "text/html": [
       "<ol class=list-inline>\n",
       "\t<li>478174</li>\n",
       "\t<li>1</li>\n",
       "</ol>\n"
      ],
      "text/latex": [
       "\\begin{enumerate*}\n",
       "\\item 478174\n",
       "\\item 1\n",
       "\\end{enumerate*}\n"
      ],
      "text/markdown": [
       "1. 478174\n",
       "2. 1\n",
       "\n",
       "\n"
      ],
      "text/plain": [
       "[1] 478174      1"
      ]
     },
     "metadata": {},
     "output_type": "display_data"
    },
    {
     "data": {
      "text/html": [
       "<ol class=list-inline>\n",
       "\t<li>-3</li>\n",
       "\t<li>69</li>\n",
       "</ol>\n"
      ],
      "text/latex": [
       "\\begin{enumerate*}\n",
       "\\item -3\n",
       "\\item 69\n",
       "\\end{enumerate*}\n"
      ],
      "text/markdown": [
       "1. -3\n",
       "2. 69\n",
       "\n",
       "\n"
      ],
      "text/plain": [
       "[1] -3 69"
      ]
     },
     "metadata": {},
     "output_type": "display_data"
    },
    {
     "data": {
      "text/plain": [
       "    2139-0.0    \n",
       " Min.   :-3.00  \n",
       " 1st Qu.:17.00  \n",
       " Median :18.00  \n",
       " Mean   :18.16  \n",
       " 3rd Qu.:20.00  \n",
       " Max.   :69.00  "
      ]
     },
     "metadata": {},
     "output_type": "display_data"
    },
    {
     "data": {
      "image/png": "[encoded data removed]",
      "text/plain": [
       "Plot with title “#  #Age first had sexual intercourss”"
      ]
     },
     "metadata": {},
     "output_type": "display_data"
    }
   ],
   "source": [
    "grep(\"2139-0.0\",colnames(new_data))\n",
    "dim(new_m4[,51]) #Age first had sexual intercourse\n",
    "#Uses data-coding 100504 comprises 3 Integer-valued members in a simple list.. # keep\n",
    "round(new_m4[,51],0) %>% range()\n",
    "round(new_m4[,51],0) %>% summary()\n",
    "plot(round(new_m4[1:20000,51],0) %>% table(),type = \"p\",col=\"blue\",main=\"#  #Age first had sexual intercourss\") "
   ]
  },
  {
   "cell_type": "code",
   "execution_count": 213,
   "metadata": {},
   "outputs": [
    {
     "data": {
      "text/html": [
       "<table>\n",
       "<caption>A data.table: 3 × 22</caption>\n",
       "<thead>\n",
       "\t<tr><th scope=col>44-0.0</th><th scope=col>30230-0.0</th><th scope=col>30170-0.0</th><th scope=col>30170-0.0.1</th><th scope=col>30010-0.0</th><th scope=col>3132-0.0</th><th scope=col>45-0.0</th><th scope=col>41245-0.0</th><th scope=col>40-0.0</th><th scope=col>30040-0.0</th><th scope=col>⋯</th><th scope=col>30640-0.0</th><th scope=col>30740-0.0</th><th scope=col>30840-0.0</th><th scope=col>41-0.0</th><th scope=col>42-0.0</th><th scope=col>43-0.0</th><th scope=col>136-0.0</th><th scope=col>38-0.0</th><th scope=col>1438-0.0</th><th scope=col>22038-0.0</th></tr>\n",
       "\t<tr><th scope=col>&lt;dbl&gt;</th><th scope=col>&lt;dbl&gt;</th><th scope=col>&lt;dbl&gt;</th><th scope=col>&lt;dbl&gt;</th><th scope=col>&lt;dbl&gt;</th><th scope=col>&lt;dbl&gt;</th><th scope=col>&lt;dbl&gt;</th><th scope=col>&lt;dbl&gt;</th><th scope=col>&lt;dbl&gt;</th><th scope=col>&lt;dbl&gt;</th><th scope=col>⋯</th><th scope=col>&lt;dbl&gt;</th><th scope=col>&lt;dbl&gt;</th><th scope=col>&lt;dbl&gt;</th><th scope=col>&lt;dbl&gt;</th><th scope=col>&lt;dbl&gt;</th><th scope=col>&lt;dbl&gt;</th><th scope=col>&lt;dbl&gt;</th><th scope=col>&lt;dbl&gt;</th><th scope=col>&lt;dbl&gt;</th><th scope=col>&lt;dbl&gt;</th></tr>\n",
       "</thead>\n",
       "<tbody>\n",
       "\t<tr><td>6931</td><td>0</td><td>0</td><td>0</td><td>4.072</td><td>3124</td><td>2254</td><td>1280</td><td>1178</td><td>88.66</td><td>⋯</td><td>1.065</td><td>4.669</td><td> 8.55</td><td>3152</td><td>3124</td><td>1490</td><td>2</td><td>6534</td><td>25</td><td>240</td></tr>\n",
       "\t<tr><td>4027</td><td>0</td><td>0</td><td>0</td><td>4.610</td><td>4725</td><td>2222</td><td>1160</td><td>2903</td><td>91.00</td><td>⋯</td><td>1.018</td><td>5.059</td><td> 7.07</td><td>1148</td><td>4725</td><td>2766</td><td>2</td><td>1348</td><td>14</td><td>560</td></tr>\n",
       "\t<tr><td>4539</td><td>0</td><td>0</td><td>0</td><td>4.541</td><td>3119</td><td>4321</td><td>1310</td><td>2902</td><td>94.87</td><td>⋯</td><td>1.715</td><td>4.922</td><td>12.03</td><td>1140</td><td>3119</td><td>2767</td><td>0</td><td>4563</td><td>10</td><td>360</td></tr>\n",
       "</tbody>\n",
       "</table>\n"
      ],
      "text/latex": [
       "A data.table: 3 × 22\n",
       "\\begin{tabular}{r|llllllllllllllllllllll}\n",
       " 44-0.0 & 30230-0.0 & 30170-0.0 & 30170-0.0 & 30010-0.0 & 3132-0.0 & 45-0.0 & 41245-0.0 & 40-0.0 & 30040-0.0 & 30140-0.0 & 30240-0.0 & 30640-0.0 & 30740-0.0 & 30840-0.0 & 41-0.0 & 42-0.0 & 43-0.0 & 136-0.0 & 38-0.0 & 1438-0.0 & 22038-0.0\\\\\n",
       " <dbl> & <dbl> & <dbl> & <dbl> & <dbl> & <dbl> & <dbl> & <dbl> & <dbl> & <dbl> & <dbl> & <dbl> & <dbl> & <dbl> & <dbl> & <dbl> & <dbl> & <dbl> & <dbl> & <dbl> & <dbl> & <dbl>\\\\\n",
       "\\hline\n",
       "\t 6931 & 0 & 0 & 0 & 4.072 & 3124 & 2254 & 1280 & 1178 & 88.66 & 4.56 & 1.414 & 1.065 & 4.669 &  8.55 & 3152 & 3124 & 1490 & 2 & 6534 & 25 & 240\\\\\n",
       "\t 4027 & 0 & 0 & 0 & 4.610 & 4725 & 2222 & 1160 & 2903 & 91.00 & 2.50 & 0.820 & 1.018 & 5.059 &  7.07 & 1148 & 4725 & 2766 & 2 & 1348 & 14 & 560\\\\\n",
       "\t 4539 & 0 & 0 & 0 & 4.541 & 3119 & 4321 & 1310 & 2902 & 94.87 & 2.86 & 1.158 & 1.715 & 4.922 & 12.03 & 1140 & 3119 & 2767 & 0 & 4563 & 10 & 360\\\\\n",
       "\\end{tabular}\n"
      ],
      "text/markdown": [
       "\n",
       "A data.table: 3 × 22\n",
       "\n",
       "| 44-0.0 &lt;dbl&gt; | 30230-0.0 &lt;dbl&gt; | 30170-0.0 &lt;dbl&gt; | 30170-0.0.1 &lt;dbl&gt; | 30010-0.0 &lt;dbl&gt; | 3132-0.0 &lt;dbl&gt; | 45-0.0 &lt;dbl&gt; | 41245-0.0 &lt;dbl&gt; | 40-0.0 &lt;dbl&gt; | 30040-0.0 &lt;dbl&gt; | ⋯ ⋯ | 30640-0.0 &lt;dbl&gt; | 30740-0.0 &lt;dbl&gt; | 30840-0.0 &lt;dbl&gt; | 41-0.0 &lt;dbl&gt; | 42-0.0 &lt;dbl&gt; | 43-0.0 &lt;dbl&gt; | 136-0.0 &lt;dbl&gt; | 38-0.0 &lt;dbl&gt; | 1438-0.0 &lt;dbl&gt; | 22038-0.0 &lt;dbl&gt; |\n",
       "|---|---|---|---|---|---|---|---|---|---|---|---|---|---|---|---|---|---|---|---|---|\n",
       "| 6931 | 0 | 0 | 0 | 4.072 | 3124 | 2254 | 1280 | 1178 | 88.66 | ⋯ | 1.065 | 4.669 |  8.55 | 3152 | 3124 | 1490 | 2 | 6534 | 25 | 240 |\n",
       "| 4027 | 0 | 0 | 0 | 4.610 | 4725 | 2222 | 1160 | 2903 | 91.00 | ⋯ | 1.018 | 5.059 |  7.07 | 1148 | 4725 | 2766 | 2 | 1348 | 14 | 560 |\n",
       "| 4539 | 0 | 0 | 0 | 4.541 | 3119 | 4321 | 1310 | 2902 | 94.87 | ⋯ | 1.715 | 4.922 | 12.03 | 1140 | 3119 | 2767 | 0 | 4563 | 10 | 360 |\n",
       "\n"
      ],
      "text/plain": [
       "  44-0.0 30230-0.0 30170-0.0 30170-0.0.1 30010-0.0 3132-0.0 45-0.0 41245-0.0\n",
       "1 6931   0         0         0           4.072     3124     2254   1280     \n",
       "2 4027   0         0         0           4.610     4725     2222   1160     \n",
       "3 4539   0         0         0           4.541     3119     4321   1310     \n",
       "  40-0.0 30040-0.0 ⋯ 30640-0.0 30740-0.0 30840-0.0 41-0.0 42-0.0 43-0.0 136-0.0\n",
       "1 1178   88.66     ⋯ 1.065     4.669      8.55     3152   3124   1490   2      \n",
       "2 2903   91.00     ⋯ 1.018     5.059      7.07     1148   4725   2766   2      \n",
       "3 2902   94.87     ⋯ 1.715     4.922     12.03     1140   3119   2767   0      \n",
       "  38-0.0 1438-0.0 22038-0.0\n",
       "1 6534   25       240      \n",
       "2 1348   14       560      \n",
       "3 4563   10       360      "
      ]
     },
     "metadata": {},
     "output_type": "display_data"
    }
   ],
   "source": [
    "new_m4[1:3,c(8,172,166,166,150, 59,9 ,211, 4 ,153, 163 ,173, 187 ,197, 204,5, 6,7, 22,3 ,43, 79)]"
   ]
  },
  {
   "cell_type": "code",
   "execution_count": 215,
   "metadata": {},
   "outputs": [],
   "source": [
    "new_m5=new_m4[,-c(8,172,166,166,150, 59,9 ,211, 4 ,153, 163 ,173, 187 ,197, 204,5, 6,7, 22,3 ,43, 79)]\n",
    "new_scale=new_data[,-c(8,172,166,166,150, 59,9 ,211, 4 ,153, 163 ,173, 187 ,197, 204,5, 6,7, 22,3 ,43, 79)]"
   ]
  },
  {
   "cell_type": "code",
   "execution_count": 231,
   "metadata": {},
   "outputs": [
    {
     "data": {
      "text/html": [
       "<ol class=list-inline>\n",
       "\t<li>478174</li>\n",
       "\t<li>224</li>\n",
       "</ol>\n"
      ],
      "text/latex": [
       "\\begin{enumerate*}\n",
       "\\item 478174\n",
       "\\item 224\n",
       "\\end{enumerate*}\n"
      ],
      "text/markdown": [
       "1. 478174\n",
       "2. 224\n",
       "\n",
       "\n"
      ],
      "text/plain": [
       "[1] 478174    224"
      ]
     },
     "metadata": {},
     "output_type": "display_data"
    },
    {
     "data": {
      "text/html": [
       "<ol class=list-inline>\n",
       "\t<li>478174</li>\n",
       "\t<li>224</li>\n",
       "</ol>\n"
      ],
      "text/latex": [
       "\\begin{enumerate*}\n",
       "\\item 478174\n",
       "\\item 224\n",
       "\\end{enumerate*}\n"
      ],
      "text/markdown": [
       "1. 478174\n",
       "2. 224\n",
       "\n",
       "\n"
      ],
      "text/plain": [
       "[1] 478174    224"
      ]
     },
     "metadata": {},
     "output_type": "display_data"
    },
    {
     "data": {
      "text/html": [
       "192"
      ],
      "text/latex": [
       "192"
      ],
      "text/markdown": [
       "192"
      ],
      "text/plain": [
       "[1] 192"
      ]
     },
     "metadata": {},
     "output_type": "display_data"
    },
    {
     "data": {
      "text/html": [
       "192"
      ],
      "text/latex": [
       "192"
      ],
      "text/markdown": [
       "192"
      ],
      "text/plain": [
       "[1] 192"
      ]
     },
     "metadata": {},
     "output_type": "display_data"
    }
   ],
   "source": [
    "dim(new_m5)\n",
    "dim(new_scale)\n",
    "grep(\"count\",colnames(new_m5))\n",
    "grep(\"count\",colnames(new_scale))\n",
    "new_scale=data.frame(new_scale)"
   ]
  },
  {
   "cell_type": "code",
   "execution_count": 241,
   "metadata": {},
   "outputs": [],
   "source": [
    "new=scale(new_m5)\n",
    "new_scale=as.data.frame(new)"
   ]
  },
  {
   "cell_type": "markdown",
   "metadata": {},
   "source": [
    "## By so far the cleanest data"
   ]
  },
  {
   "cell_type": "code",
   "execution_count": 248,
   "metadata": {},
   "outputs": [
    {
     "data": {
      "text/html": [
       "<ol class=list-inline>\n",
       "\t<li>478174</li>\n",
       "\t<li>224</li>\n",
       "</ol>\n"
      ],
      "text/latex": [
       "\\begin{enumerate*}\n",
       "\\item 478174\n",
       "\\item 224\n",
       "\\end{enumerate*}\n"
      ],
      "text/markdown": [
       "1. 478174\n",
       "2. 224\n",
       "\n",
       "\n"
      ],
      "text/plain": [
       "[1] 478174    224"
      ]
     },
     "metadata": {},
     "output_type": "display_data"
    },
    {
     "data": {
      "text/html": [
       "<ol class=list-inline>\n",
       "\t<li>478174</li>\n",
       "\t<li>224</li>\n",
       "</ol>\n"
      ],
      "text/latex": [
       "\\begin{enumerate*}\n",
       "\\item 478174\n",
       "\\item 224\n",
       "\\end{enumerate*}\n"
      ],
      "text/markdown": [
       "1. 478174\n",
       "2. 224\n",
       "\n",
       "\n"
      ],
      "text/plain": [
       "[1] 478174    224"
      ]
     },
     "metadata": {},
     "output_type": "display_data"
    }
   ],
   "source": [
    "dim(new_m5);dim(new_scale)"
   ]
  },
  {
   "cell_type": "code",
   "execution_count": 246,
   "metadata": {},
   "outputs": [],
   "source": [
    "fwrite(new_m5,\"ready_for_model.csv\")"
   ]
  },
  {
   "cell_type": "code",
   "execution_count": 247,
   "metadata": {},
   "outputs": [],
   "source": [
    "fwrite(new_scale,\"ready_for_model_scale.csv\")"
   ]
  },
  {
   "cell_type": "code",
   "execution_count": 3,
   "metadata": {},
   "outputs": [],
   "source": [
    "new_m5=fread(\"ready_for_model.csv\")\n",
    "new_scale=fread(\"ready_for_model_scale.csv\")"
   ]
  },
  {
   "cell_type": "code",
   "execution_count": 8,
   "metadata": {},
   "outputs": [],
   "source": [
    "#cat(dim(new_scale),dim(new_m5)"
   ]
  },
  {
   "cell_type": "markdown",
   "metadata": {},
   "source": [
    "## SLR Modeling with Scaled Data"
   ]
  },
  {
   "cell_type": "code",
   "execution_count": 10,
   "metadata": {
    "scrolled": true
   },
   "outputs": [
    {
     "name": "stderr",
     "output_type": "stream",
     "text": [
      "Warning message in summary.lm(model[[i]]):\n",
      "“essentially perfect fit: summary may be unreliable”"
     ]
    }
   ],
   "source": [
    "new_data=new_scale\n",
    "coeff=NULL\n",
    "sum=NULL\n",
    "model=NULL\n",
    "r=NULL\n",
    "beta=NULL\n",
    "for (i in 1:224){\n",
    "   \n",
    "   model[[i]] <- lm(data=new_data,formula = count ~ new_data[[i]] )\n",
    "   coeff[[i]]=model$coefficients\n",
    "   sum[[i]]=summary(model[[i]])\n",
    "    r[[i]]=sum[[i]]$adj.r.squared\n",
    "    beta[[i]]=lm.beta(model[[i]])\n",
    "}\n",
    "\n",
    "\n"
   ]
  },
  {
   "cell_type": "code",
   "execution_count": 26,
   "metadata": {},
   "outputs": [
    {
     "data": {
      "text/html": [
       "<ol class=list-inline>\n",
       "\t<li>1</li>\n",
       "\t<li>0.496209997371891</li>\n",
       "\t<li>0.203834094678433</li>\n",
       "\t<li>0.0622269290033716</li>\n",
       "\t<li>0.0542296140018503</li>\n",
       "\t<li>0.0461487883700078</li>\n",
       "\t<li>0.0421055050450292</li>\n",
       "\t<li>0.0418121641034936</li>\n",
       "\t<li>0.0338792801260538</li>\n",
       "\t<li>0.0324825563420529</li>\n",
       "</ol>\n"
      ],
      "text/latex": [
       "\\begin{enumerate*}\n",
       "\\item 1\n",
       "\\item 0.496209997371891\n",
       "\\item 0.203834094678433\n",
       "\\item 0.0622269290033716\n",
       "\\item 0.0542296140018503\n",
       "\\item 0.0461487883700078\n",
       "\\item 0.0421055050450292\n",
       "\\item 0.0418121641034936\n",
       "\\item 0.0338792801260538\n",
       "\\item 0.0324825563420529\n",
       "\\end{enumerate*}\n"
      ],
      "text/markdown": [
       "1. 1\n",
       "2. 0.496209997371891\n",
       "3. 0.203834094678433\n",
       "4. 0.0622269290033716\n",
       "5. 0.0542296140018503\n",
       "6. 0.0461487883700078\n",
       "7. 0.0421055050450292\n",
       "8. 0.0418121641034936\n",
       "9. 0.0338792801260538\n",
       "10. 0.0324825563420529\n",
       "\n",
       "\n"
      ],
      "text/plain": [
       " [1] 1.00000000 0.49621000 0.20383409 0.06222693 0.05422961 0.04614879\n",
       " [7] 0.04210551 0.04181216 0.03387928 0.03248256"
      ]
     },
     "metadata": {},
     "output_type": "display_data"
    },
    {
     "data": {
      "text/html": [
       "148"
      ],
      "text/latex": [
       "148"
      ],
      "text/markdown": [
       "148"
      ],
      "text/plain": [
       "[1] 148"
      ]
     },
     "metadata": {},
     "output_type": "display_data"
    }
   ],
   "source": [
    "head(sort(r,decreasing = T,),10)\n",
    "which(r==0.496209997371891) ## gives extradinarily high r value"
   ]
  },
  {
   "cell_type": "code",
   "execution_count": 24,
   "metadata": {
    "scrolled": true
   },
   "outputs": [
    {
     "data": {
      "text/html": [
       "<table>\n",
       "<caption>A data.table: 3 × 1</caption>\n",
       "<thead>\n",
       "\t<tr><th scope=col>30120-0.0</th></tr>\n",
       "\t<tr><th scope=col>&lt;dbl&gt;</th></tr>\n",
       "</thead>\n",
       "<tbody>\n",
       "\t<tr><td> 0.3107822</td></tr>\n",
       "\t<tr><td>-0.9101070</td></tr>\n",
       "\t<tr><td>-0.3380820</td></tr>\n",
       "</tbody>\n",
       "</table>\n"
      ],
      "text/latex": [
       "A data.table: 3 × 1\n",
       "\\begin{tabular}{r|l}\n",
       " 30120-0.0\\\\\n",
       " <dbl>\\\\\n",
       "\\hline\n",
       "\t  0.3107822\\\\\n",
       "\t -0.9101070\\\\\n",
       "\t -0.3380820\\\\\n",
       "\\end{tabular}\n"
      ],
      "text/markdown": [
       "\n",
       "A data.table: 3 × 1\n",
       "\n",
       "| 30120-0.0 &lt;dbl&gt; |\n",
       "|---|\n",
       "|  0.3107822 |\n",
       "| -0.9101070 |\n",
       "| -0.3380820 |\n",
       "\n"
      ],
      "text/plain": [
       "  30120-0.0 \n",
       "1  0.3107822\n",
       "2 -0.9101070\n",
       "3 -0.3380820"
      ]
     },
     "metadata": {},
     "output_type": "display_data"
    },
    {
     "data": {
      "image/png": "[encoded data removed]",
      "text/plain": [
       "plot without title"
      ]
     },
     "metadata": {},
     "output_type": "display_data"
    }
   ],
   "source": [
    "rr=r[-192]\n",
    "options(repr.plot.width=4, repr.plot.height=4)\n",
    "barplot(rr)\n",
    "new_scale[1:3,148] ## we find blood assays related variables, need to remove them."
   ]
  },
  {
   "cell_type": "code",
   "execution_count": 41,
   "metadata": {},
   "outputs": [
    {
     "data": {
      "text/html": [
       "<table>\n",
       "<caption>A data.table: 3 × 53</caption>\n",
       "<thead>\n",
       "\t<tr><th scope=col>30020-0.0</th><th scope=col>30030-0.0</th><th scope=col>30050-0.0</th><th scope=col>30060-0.0</th><th scope=col>30070-0.0</th><th scope=col>30080-0.0</th><th scope=col>30090-0.0</th><th scope=col>30100-0.0</th><th scope=col>30110-0.0</th><th scope=col>30120-0.0</th><th scope=col>⋯</th><th scope=col>30780-0.0</th><th scope=col>30810-0.0</th><th scope=col>30830-0.0</th><th scope=col>30850-0.0</th><th scope=col>30860-0.0</th><th scope=col>30870-0.0</th><th scope=col>30880-0.0</th><th scope=col>30890-0.0</th><th scope=col>30897-0.0</th><th scope=col>41246-0.0</th></tr>\n",
       "\t<tr><th scope=col>&lt;dbl&gt;</th><th scope=col>&lt;dbl&gt;</th><th scope=col>&lt;dbl&gt;</th><th scope=col>&lt;dbl&gt;</th><th scope=col>&lt;dbl&gt;</th><th scope=col>&lt;dbl&gt;</th><th scope=col>&lt;dbl&gt;</th><th scope=col>&lt;dbl&gt;</th><th scope=col>&lt;dbl&gt;</th><th scope=col>&lt;dbl&gt;</th><th scope=col>⋯</th><th scope=col>&lt;dbl&gt;</th><th scope=col>&lt;dbl&gt;</th><th scope=col>&lt;dbl&gt;</th><th scope=col>&lt;dbl&gt;</th><th scope=col>&lt;dbl&gt;</th><th scope=col>&lt;dbl&gt;</th><th scope=col>&lt;dbl&gt;</th><th scope=col>&lt;dbl&gt;</th><th scope=col>&lt;dbl&gt;</th><th scope=col>&lt;dbl&gt;</th></tr>\n",
       "</thead>\n",
       "<tbody>\n",
       "\t<tr><td>-1.4954489</td><td>-1.4018767</td><td>-0.6301907</td><td>-0.3743878</td><td> 0.28021224</td><td> 0.5364113</td><td> 1.1073603</td><td> 0.6884500</td><td>-0.95777679</td><td> 0.3107822</td><td>⋯</td><td>0.25041764</td><td>-0.08261698</td><td>-0.7071974</td><td>-0.8867220</td><td> 0.7832685</td><td>-0.5856113</td><td>-0.8066341</td><td>-8.242190e-01</td><td> 0.6946690</td><td>-0.1173369</td></tr>\n",
       "\t<tr><td> 0.1004124</td><td> 0.2291841</td><td>-0.1826387</td><td>-0.2907465</td><td>-0.49935561</td><td>-0.1330565</td><td>-0.5044909</td><td>-0.7678099</td><td> 0.01844971</td><td>-0.9101070</td><td>⋯</td><td>0.07514189</td><td>-1.03831426</td><td>-0.9507722</td><td>-0.9165314</td><td>-0.6696328</td><td> 0.6096911</td><td>-0.7684892</td><td> 3.405956e-01</td><td>-0.1351576</td><td>-0.4401243</td></tr>\n",
       "\t<tr><td> 0.5174214</td><td> 0.5638328</td><td> 0.6135873</td><td>-0.1141706</td><td> 0.08785134</td><td>-1.7800805</td><td>-1.3818276</td><td> 1.8221207</td><td> 1.66463557</td><td>-0.3380820</td><td>⋯</td><td>3.00777576</td><td>-0.12243770</td><td> 2.0509975</td><td> 1.2482008</td><td> 0.4349880</td><td> 0.3618724</td><td>-0.8002766</td><td> 7.043834e-16</td><td> 0.3849961</td><td>-0.1173369</td></tr>\n",
       "</tbody>\n",
       "</table>\n"
      ],
      "text/latex": [
       "A data.table: 3 × 53\n",
       "\\begin{tabular}{r|lllllllllllllllllllllllllllllllllllllllllllllllllllll}\n",
       " 30020-0.0 & 30030-0.0 & 30050-0.0 & 30060-0.0 & 30070-0.0 & 30080-0.0 & 30090-0.0 & 30100-0.0 & 30110-0.0 & 30120-0.0 & 30130-0.0 & 30150-0.0 & 30160-0.0 & 30180-0.0 & 30190-0.0 & 30200-0.0 & 30210-0.0 & 30220-0.0 & 30250-0.0 & 30260-0.0 & 30270-0.0 & 30280-0.0 & 30290-0.0 & 30300-0.0 & 30510-0.0 & 30520-0.0 & 30530-0.0 & 30600-0.0 & 30610-0.0 & 30620-0.0 & 30630-0.0 & 30650-0.0 & 30660-0.0 & 30670-0.0 & 30680-0.0 & 30690-0.0 & 30700-0.0 & 30710-0.0 & 30720-0.0 & 30730-0.0 & 30750-0.0 & 30760-0.0 & 30770-0.0 & 30780-0.0 & 30810-0.0 & 30830-0.0 & 30850-0.0 & 30860-0.0 & 30870-0.0 & 30880-0.0 & 30890-0.0 & 30897-0.0 & 41246-0.0\\\\\n",
       " <dbl> & <dbl> & <dbl> & <dbl> & <dbl> & <dbl> & <dbl> & <dbl> & <dbl> & <dbl> & <dbl> & <dbl> & <dbl> & <dbl> & <dbl> & <dbl> & <dbl> & <dbl> & <dbl> & <dbl> & <dbl> & <dbl> & <dbl> & <dbl> & <dbl> & <dbl> & <dbl> & <dbl> & <dbl> & <dbl> & <dbl> & <dbl> & <dbl> & <dbl> & <dbl> & <dbl> & <dbl> & <dbl> & <dbl> & <dbl> & <dbl> & <dbl> & <dbl> & <dbl> & <dbl> & <dbl> & <dbl> & <dbl> & <dbl> & <dbl> & <dbl> & <dbl> & <dbl>\\\\\n",
       "\\hline\n",
       "\t -1.4954489 & -1.4018767 & -0.6301907 & -0.3743878 &  0.28021224 &  0.5364113 &  1.1073603 &  0.6884500 & -0.95777679 &  0.3107822 &  0.08817198 &  2.2760205 &  1.8607513 &  0.01958778 & -0.3169314 & -0.4672906 &  1.9090326 &  1.6729157 & -0.07821997 &  0.2833347 & -0.9654858 &  0.2347756 &  0.08800885 & -0.01191944 &  0.3386868 &  0.3160424 & 0.86817911 & -0.3307051 & -0.8467516 & -0.6962385 & -0.2593348 & -0.2522105 & -4.105540e-01 & -0.10660838 & 0.8392049 & 0.280581123 &  0.5207035 & -0.49477191 & -0.9082355 & -0.5371195 & -0.2922901 & -0.02729008 &  1.2473867 & 0.25041764 & -0.08261698 & -0.7071974 & -0.8867220 &  0.7832685 & -0.5856113 & -0.8066341 & -8.242190e-01 &  0.6946690 & -0.1173369\\\\\n",
       "\t  0.1004124 &  0.2291841 & -0.1826387 & -0.2907465 & -0.49935561 & -0.1330565 & -0.5044909 & -0.7678099 &  0.01844971 & -0.9101070 & -1.01205780 & -1.2630856 & -0.6605414 & -0.52229905 & -0.3948342 &  0.7653825 & -0.7323368 & -0.2782120 & -0.59833884 & -0.5948851 & -0.6580100 & -0.6740994 & -0.58408606 & -0.89873266 &  2.4508318 &  2.1319563 & 0.07025528 & -0.5707128 & -0.8738590 & -0.3850721 & -0.1761770 & -0.3864606 &  7.246121e-15 &  0.01748998 & 0.1125408 & 0.009995366 & -0.5375835 & -0.08825735 & -0.5658482 & -0.4739332 & -0.2009621 & -0.40754403 &  0.2893088 & 0.07514189 & -1.03831426 & -0.9507722 & -0.9165314 & -0.6696328 &  0.6096911 & -0.7684892 &  3.405956e-01 & -0.1351576 & -0.4401243\\\\\n",
       "\t  0.5174214 &  0.5638328 &  0.6135873 & -0.1141706 &  0.08785134 & -1.7800805 & -1.3818276 &  1.8221207 &  1.66463557 & -0.3380820 & -0.05852532 & -0.8297257 & -0.2726502 &  0.33591088 &  0.8330614 & -0.3968521 & -0.6843119 & -0.1470438 & -0.20824968 &  1.3341079 &  1.4146047 & -0.9880744 & -0.40769916 & -0.60312826 & -0.9415014 & -0.4133247 & 0.52523190 &  2.4639612 & -0.6918520 &  0.9957289 &  1.0830698 &  0.9656296 & -8.421774e-02 & -0.91689764 & 1.3614947 & 3.027517722 & -0.6533337 & -0.48537273 & -0.5078164 &  0.3596395 & -0.2618474 &  0.85064919 & -0.1511372 & 3.00777576 & -0.12243770 &  2.0509975 &  1.2482008 &  0.4349880 &  0.3618724 & -0.8002766 &  7.043834e-16 &  0.3849961 & -0.1173369\\\\\n",
       "\\end{tabular}\n"
      ],
      "text/markdown": [
       "\n",
       "A data.table: 3 × 53\n",
       "\n",
       "| 30020-0.0 &lt;dbl&gt; | 30030-0.0 &lt;dbl&gt; | 30050-0.0 &lt;dbl&gt; | 30060-0.0 &lt;dbl&gt; | 30070-0.0 &lt;dbl&gt; | 30080-0.0 &lt;dbl&gt; | 30090-0.0 &lt;dbl&gt; | 30100-0.0 &lt;dbl&gt; | 30110-0.0 &lt;dbl&gt; | 30120-0.0 &lt;dbl&gt; | ⋯ ⋯ | 30780-0.0 &lt;dbl&gt; | 30810-0.0 &lt;dbl&gt; | 30830-0.0 &lt;dbl&gt; | 30850-0.0 &lt;dbl&gt; | 30860-0.0 &lt;dbl&gt; | 30870-0.0 &lt;dbl&gt; | 30880-0.0 &lt;dbl&gt; | 30890-0.0 &lt;dbl&gt; | 30897-0.0 &lt;dbl&gt; | 41246-0.0 &lt;dbl&gt; |\n",
       "|---|---|---|---|---|---|---|---|---|---|---|---|---|---|---|---|---|---|---|---|---|\n",
       "| -1.4954489 | -1.4018767 | -0.6301907 | -0.3743878 |  0.28021224 |  0.5364113 |  1.1073603 |  0.6884500 | -0.95777679 |  0.3107822 | ⋯ | 0.25041764 | -0.08261698 | -0.7071974 | -0.8867220 |  0.7832685 | -0.5856113 | -0.8066341 | -8.242190e-01 |  0.6946690 | -0.1173369 |\n",
       "|  0.1004124 |  0.2291841 | -0.1826387 | -0.2907465 | -0.49935561 | -0.1330565 | -0.5044909 | -0.7678099 |  0.01844971 | -0.9101070 | ⋯ | 0.07514189 | -1.03831426 | -0.9507722 | -0.9165314 | -0.6696328 |  0.6096911 | -0.7684892 |  3.405956e-01 | -0.1351576 | -0.4401243 |\n",
       "|  0.5174214 |  0.5638328 |  0.6135873 | -0.1141706 |  0.08785134 | -1.7800805 | -1.3818276 |  1.8221207 |  1.66463557 | -0.3380820 | ⋯ | 3.00777576 | -0.12243770 |  2.0509975 |  1.2482008 |  0.4349880 |  0.3618724 | -0.8002766 |  7.043834e-16 |  0.3849961 | -0.1173369 |\n",
       "\n"
      ],
      "text/plain": [
       "  30020-0.0  30030-0.0  30050-0.0  30060-0.0  30070-0.0   30080-0.0  30090-0.0 \n",
       "1 -1.4954489 -1.4018767 -0.6301907 -0.3743878  0.28021224  0.5364113  1.1073603\n",
       "2  0.1004124  0.2291841 -0.1826387 -0.2907465 -0.49935561 -0.1330565 -0.5044909\n",
       "3  0.5174214  0.5638328  0.6135873 -0.1141706  0.08785134 -1.7800805 -1.3818276\n",
       "  30100-0.0  30110-0.0   30120-0.0  ⋯ 30780-0.0  30810-0.0   30830-0.0 \n",
       "1  0.6884500 -0.95777679  0.3107822 ⋯ 0.25041764 -0.08261698 -0.7071974\n",
       "2 -0.7678099  0.01844971 -0.9101070 ⋯ 0.07514189 -1.03831426 -0.9507722\n",
       "3  1.8221207  1.66463557 -0.3380820 ⋯ 3.00777576 -0.12243770  2.0509975\n",
       "  30850-0.0  30860-0.0  30870-0.0  30880-0.0  30890-0.0     30897-0.0 \n",
       "1 -0.8867220  0.7832685 -0.5856113 -0.8066341 -8.242190e-01  0.6946690\n",
       "2 -0.9165314 -0.6696328  0.6096911 -0.7684892  3.405956e-01 -0.1351576\n",
       "3  1.2482008  0.4349880  0.3618724 -0.8002766  7.043834e-16  0.3849961\n",
       "  41246-0.0 \n",
       "1 -0.1173369\n",
       "2 -0.4401243\n",
       "3 -0.1173369"
      ]
     },
     "metadata": {},
     "output_type": "display_data"
    }
   ],
   "source": [
    "new_scale[1:3,c(139:191)] ## I find that 139:191 are also related with blood assays, we could remove them \n",
    "## they are the variables starts with 30xxx.0.0 "
   ]
  },
  {
   "cell_type": "markdown",
   "metadata": {},
   "source": [
    "## Remove \"Blood Assays\" Categories of Variables \n",
    "- Those variables usually start with with 30xxx.0.0 "
   ]
  },
  {
   "cell_type": "code",
   "execution_count": 42,
   "metadata": {},
   "outputs": [],
   "source": [
    "new_m6=new_m5[,-c(139:191)]\n",
    "new_scale2=new_scale[,-c(139:191)]"
   ]
  },
  {
   "cell_type": "code",
   "execution_count": 45,
   "metadata": {},
   "outputs": [
    {
     "data": {
      "text/html": [
       "<ol class=list-inline>\n",
       "\t<li>478174</li>\n",
       "\t<li>171</li>\n",
       "</ol>\n"
      ],
      "text/latex": [
       "\\begin{enumerate*}\n",
       "\\item 478174\n",
       "\\item 171\n",
       "\\end{enumerate*}\n"
      ],
      "text/markdown": [
       "1. 478174\n",
       "2. 171\n",
       "\n",
       "\n"
      ],
      "text/plain": [
       "[1] 478174    171"
      ]
     },
     "metadata": {},
     "output_type": "display_data"
    },
    {
     "data": {
      "text/html": [
       "<ol class=list-inline>\n",
       "\t<li>478174</li>\n",
       "\t<li>171</li>\n",
       "</ol>\n"
      ],
      "text/latex": [
       "\\begin{enumerate*}\n",
       "\\item 478174\n",
       "\\item 171\n",
       "\\end{enumerate*}\n"
      ],
      "text/markdown": [
       "1. 478174\n",
       "2. 171\n",
       "\n",
       "\n"
      ],
      "text/plain": [
       "[1] 478174    171"
      ]
     },
     "metadata": {},
     "output_type": "display_data"
    }
   ],
   "source": [
    "dim(new_m6)\n",
    "dim(new_scale2)"
   ]
  },
  {
   "cell_type": "code",
   "execution_count": 46,
   "metadata": {},
   "outputs": [],
   "source": [
    "## save the new data:\n",
    "fwrite(new_m6,\"ready_for_model_bs.csv\")\n",
    "fwrite(new_scale2,\"ready_for_model_scale_bs.csv\")"
   ]
  },
  {
   "cell_type": "markdown",
   "metadata": {},
   "source": [
    "## SLR Modeling with Scaled Data again after \"blood assays\" Vars Removved"
   ]
  },
  {
   "cell_type": "code",
   "execution_count": 48,
   "metadata": {},
   "outputs": [
    {
     "name": "stderr",
     "output_type": "stream",
     "text": [
      "Warning message in summary.lm(model[[i]]):\n",
      "“essentially perfect fit: summary may be unreliable”"
     ]
    }
   ],
   "source": [
    "new_data=new_scale2\n",
    "coeff=NULL\n",
    "sum=NULL\n",
    "model=NULL\n",
    "r=NULL\n",
    "beta=NULL\n",
    "for (i in 1:171){\n",
    "   \n",
    "   model[[i]] <- lm(data=new_data,formula = count ~ new_data[[i]] )\n",
    "   coeff[[i]]=model$coefficients\n",
    "   sum[[i]]=summary(model[[i]])\n",
    "    r[[i]]=sum[[i]]$adj.r.squared\n",
    "    beta[[i]]=lm.beta(model[[i]])\n",
    "}\n",
    "\n",
    "\n",
    "\n"
   ]
  },
  {
   "cell_type": "code",
   "execution_count": 49,
   "metadata": {},
   "outputs": [
    {
     "data": {
      "text/html": [
       "139"
      ],
      "text/latex": [
       "139"
      ],
      "text/markdown": [
       "139"
      ],
      "text/plain": [
       "[1] 139"
      ]
     },
     "metadata": {},
     "output_type": "display_data"
    }
   ],
   "source": [
    "grep(\"count\",colnames(new_scale2))"
   ]
  },
  {
   "cell_type": "code",
   "execution_count": 52,
   "metadata": {
    "scrolled": true
   },
   "outputs": [
    {
     "data": {
      "text/html": [
       "<ol class=list-inline>\n",
       "\t<li>5</li>\n",
       "\t<li>11</li>\n",
       "\t<li>62</li>\n",
       "\t<li>77</li>\n",
       "\t<li>139</li>\n",
       "</ol>\n"
      ],
      "text/latex": [
       "\\begin{enumerate*}\n",
       "\\item 5\n",
       "\\item 11\n",
       "\\item 62\n",
       "\\item 77\n",
       "\\item 139\n",
       "\\end{enumerate*}\n"
      ],
      "text/markdown": [
       "1. 5\n",
       "2. 11\n",
       "3. 62\n",
       "4. 77\n",
       "5. 139\n",
       "\n",
       "\n"
      ],
      "text/plain": [
       "[1]   5  11  62  77 139"
      ]
     },
     "metadata": {},
     "output_type": "display_data"
    },
    {
     "data": {
      "text/html": [
       "<table>\n",
       "<caption>A data.table: 3 × 5</caption>\n",
       "<thead>\n",
       "\t<tr><th scope=col>48-0.0</th><th scope=col>102-0.0</th><th scope=col>21001-0.0</th><th scope=col>23104-0.0</th><th scope=col>count</th></tr>\n",
       "\t<tr><th scope=col>&lt;dbl&gt;</th><th scope=col>&lt;dbl&gt;</th><th scope=col>&lt;dbl&gt;</th><th scope=col>&lt;dbl&gt;</th><th scope=col>&lt;dbl&gt;</th></tr>\n",
       "</thead>\n",
       "<tbody>\n",
       "\t<tr><td>-0.9140944</td><td>-0.9373058</td><td>-0.7111549</td><td>-0.7232506</td><td> 0.5346595</td></tr>\n",
       "\t<tr><td>-0.6908929</td><td> 0.8359927</td><td> 1.0498879</td><td> 1.0566559</td><td>-1.5004576</td></tr>\n",
       "\t<tr><td> 0.6483163</td><td>-1.2919655</td><td>-0.2661924</td><td>-0.2782740</td><td>-0.8974599</td></tr>\n",
       "</tbody>\n",
       "</table>\n"
      ],
      "text/latex": [
       "A data.table: 3 × 5\n",
       "\\begin{tabular}{r|lllll}\n",
       " 48-0.0 & 102-0.0 & 21001-0.0 & 23104-0.0 & count\\\\\n",
       " <dbl> & <dbl> & <dbl> & <dbl> & <dbl>\\\\\n",
       "\\hline\n",
       "\t -0.9140944 & -0.9373058 & -0.7111549 & -0.7232506 &  0.5346595\\\\\n",
       "\t -0.6908929 &  0.8359927 &  1.0498879 &  1.0566559 & -1.5004576\\\\\n",
       "\t  0.6483163 & -1.2919655 & -0.2661924 & -0.2782740 & -0.8974599\\\\\n",
       "\\end{tabular}\n"
      ],
      "text/markdown": [
       "\n",
       "A data.table: 3 × 5\n",
       "\n",
       "| 48-0.0 &lt;dbl&gt; | 102-0.0 &lt;dbl&gt; | 21001-0.0 &lt;dbl&gt; | 23104-0.0 &lt;dbl&gt; | count &lt;dbl&gt; |\n",
       "|---|---|---|---|---|\n",
       "| -0.9140944 | -0.9373058 | -0.7111549 | -0.7232506 |  0.5346595 |\n",
       "| -0.6908929 |  0.8359927 |  1.0498879 |  1.0566559 | -1.5004576 |\n",
       "|  0.6483163 | -1.2919655 | -0.2661924 | -0.2782740 | -0.8974599 |\n",
       "\n"
      ],
      "text/plain": [
       "  48-0.0     102-0.0    21001-0.0  23104-0.0  count     \n",
       "1 -0.9140944 -0.9373058 -0.7111549 -0.7232506  0.5346595\n",
       "2 -0.6908929  0.8359927  1.0498879  1.0566559 -1.5004576\n",
       "3  0.6483163 -1.2919655 -0.2661924 -0.2782740 -0.8974599"
      ]
     },
     "metadata": {},
     "output_type": "display_data"
    },
    {
     "data": {
      "image/png": "[encoded data removed]",
      "text/plain": [
       "plot without title"
      ]
     },
     "metadata": {},
     "output_type": "display_data"
    }
   ],
   "source": [
    "options(repr.plot.width=4, repr.plot.height=4)\n",
    "barplot(r[-139])\n",
    "which(r>=0.02)\n",
    "new_scale2[1:3,c(5 ,11 ,62, 77, 139)]\n",
    "\n",
    "\n"
   ]
  },
  {
   "cell_type": "markdown",
   "metadata": {},
   "source": []
  },
  {
   "cell_type": "markdown",
   "metadata": {},
   "source": [
    "\n",
    "## high R^2 variables with count\n",
    "- Waist circumference\n",
    "- Pulse rate, automated reading\n",
    "- Body mass index (BMI) !!! we remove 77 because it duplicates with 139, this one is integer\n",
    "- Body mass index (BMI) "
   ]
  },
  {
   "cell_type": "markdown",
   "metadata": {},
   "source": [
    "## Remove duplicated BMI Variable 77\n",
    "\n"
   ]
  },
  {
   "cell_type": "code",
   "execution_count": 54,
   "metadata": {},
   "outputs": [],
   "source": [
    "new_m7=new_m6[,-77]\n",
    "new_scale3=new_scale2[,-77]"
   ]
  },
  {
   "cell_type": "code",
   "execution_count": 55,
   "metadata": {},
   "outputs": [],
   "source": [
    "## save the new data:\n",
    "fwrite(new_m7,\"ready_for_model_bs2.csv\")\n",
    "fwrite(new_scale3,\"ready_for_model_scale_bs2.csv\")"
   ]
  },
  {
   "cell_type": "code",
   "execution_count": 2,
   "metadata": {},
   "outputs": [
    {
     "data": {
      "text/plain": [
       "Time difference of 12.77539 secs"
      ]
     },
     "metadata": {},
     "output_type": "display_data"
    }
   ],
   "source": [
    "start_time <- Sys.time()\n",
    "\n",
    "new_m7=fread(\"ready_for_model_bs2.csv\")\n",
    "new_scale3=fread(\"ready_for_model_scale_bs2.csv\")\n",
    "end_time <- Sys.time()\n",
    "end_time-start_time"
   ]
  },
  {
   "cell_type": "markdown",
   "metadata": {},
   "source": [
    "## Beta Value (correlations)"
   ]
  },
  {
   "cell_type": "code",
   "execution_count": 3,
   "metadata": {},
   "outputs": [
    {
     "data": {
      "text/html": [
       "138"
      ],
      "text/latex": [
       "138"
      ],
      "text/markdown": [
       "138"
      ],
      "text/plain": [
       "[1] 138"
      ]
     },
     "metadata": {},
     "output_type": "display_data"
    }
   ],
   "source": [
    "grep(\"count\",colnames(new_scale3))"
   ]
  },
  {
   "cell_type": "code",
   "execution_count": 4,
   "metadata": {},
   "outputs": [
    {
     "name": "stderr",
     "output_type": "stream",
     "text": [
      "Warning message in summary.lm(model[[i]]):\n",
      "“essentially perfect fit: summary may be unreliable”"
     ]
    }
   ],
   "source": [
    "new_data=new_scale3 # remember to change variable names here each time you remove variables\n",
    "coeff=NULL\n",
    "sum=NULL\n",
    "model=NULL\n",
    "r=NULL\n",
    "beta=NULL\n",
    "for (i in 1:170){ # remember to change index\n",
    "   \n",
    "   model[[i]] <- lm(data=new_data,formula = count ~ new_data[[i]] )\n",
    "   coeff[[i]]=model$coefficients\n",
    "   sum[[i]]=summary(model[[i]])\n",
    "    r[[i]]=sum[[i]]$adj.r.squared\n",
    "    beta[[i]]=lm.beta(model[[i]])\n",
    "}\n",
    "\n",
    "\n",
    "\n",
    "\n",
    "\n",
    "new_beta=NULL\n",
    "for (i in 1:170){\n",
    "    new_beta[[i]]=abs(beta[[i]]$`coefficients`[2])\n",
    "}"
   ]
  },
  {
   "cell_type": "code",
   "execution_count": 9,
   "metadata": {},
   "outputs": [
    {
     "data": {
      "image/png": "[encoded data removed]",
      "text/plain": [
       "plot without title"
      ]
     },
     "metadata": {},
     "output_type": "display_data"
    }
   ],
   "source": [
    "options(repr.plot.width=6, repr.plot.height=6)\n",
    "barplot(new_beta[-138])"
   ]
  },
  {
   "cell_type": "markdown",
   "metadata": {},
   "source": [
    "## Try Modeling with Non-Scaled Data"
   ]
  },
  {
   "cell_type": "code",
   "execution_count": 10,
   "metadata": {
    "scrolled": true
   },
   "outputs": [
    {
     "name": "stderr",
     "output_type": "stream",
     "text": [
      "Warning message in summary.lm(model[[i]]):\n",
      "“essentially perfect fit: summary may be unreliable”"
     ]
    },
    {
     "data": {
      "image/png": "[encoded data removed]",
      "text/plain": [
       "plot without title"
      ]
     },
     "metadata": {},
     "output_type": "display_data"
    }
   ],
   "source": [
    "new_data=new_m7 # remember to change variable names here each time you remove variables\n",
    "coeff=NULL\n",
    "sum=NULL\n",
    "model=NULL\n",
    "r=NULL\n",
    "beta=NULL\n",
    "for (i in 1:170){ # remember to change index\n",
    "   \n",
    "   model[[i]] <- lm(data=new_data,formula = count ~ new_data[[i]] )\n",
    "   coeff[[i]]=model$coefficients\n",
    "   sum[[i]]=summary(model[[i]])\n",
    "    r[[i]]=sum[[i]]$adj.r.squared\n",
    "    beta[[i]]=lm.beta(model[[i]])\n",
    "}\n",
    "\n",
    "\n",
    "\n",
    "\n",
    "\n",
    "new_beta=NULL\n",
    "for (i in 1:170){\n",
    "    new_beta[[i]]=abs(beta[[i]]$`coefficients`[2])\n",
    "}\n",
    "options(repr.plot.width=6, repr.plot.height=6)\n",
    "barplot(new_beta[-138])"
   ]
  },
  {
   "cell_type": "code",
   "execution_count": 14,
   "metadata": {},
   "outputs": [
    {
     "data": {
      "text/html": [
       "<ol class=list-inline>\n",
       "\t<li>91</li>\n",
       "\t<li>95</li>\n",
       "\t<li>131</li>\n",
       "\t<li>132</li>\n",
       "\t<li>138</li>\n",
       "</ol>\n"
      ],
      "text/latex": [
       "\\begin{enumerate*}\n",
       "\\item 91\n",
       "\\item 95\n",
       "\\item 131\n",
       "\\item 132\n",
       "\\item 138\n",
       "\\end{enumerate*}\n"
      ],
      "text/markdown": [
       "1. 91\n",
       "2. 95\n",
       "3. 131\n",
       "4. 132\n",
       "5. 138\n",
       "\n",
       "\n"
      ],
      "text/plain": [
       "[1]  91  95 131 132 138"
      ]
     },
     "metadata": {},
     "output_type": "display_data"
    },
    {
     "data": {
      "text/html": [
       "<table>\n",
       "<caption>A data.table: 3 × 5</caption>\n",
       "<thead>\n",
       "\t<tr><th scope=col>23120-0.0</th><th scope=col>23124-0.0</th><th scope=col>26411-0.0</th><th scope=col>26412-0.0</th><th scope=col>count</th></tr>\n",
       "\t<tr><th scope=col>&lt;dbl&gt;</th><th scope=col>&lt;dbl&gt;</th><th scope=col>&lt;dbl&gt;</th><th scope=col>&lt;dbl&gt;</th><th scope=col>&lt;dbl&gt;</th></tr>\n",
       "</thead>\n",
       "<tbody>\n",
       "\t<tr><td>1.0</td><td>1.0</td><td>0.06</td><td>0.09</td><td>8.02</td></tr>\n",
       "\t<tr><td>1.9</td><td>2.0</td><td>0.16</td><td>0.13</td><td>3.70</td></tr>\n",
       "\t<tr><td>1.2</td><td>1.2</td><td>0.02</td><td>0.04</td><td>4.98</td></tr>\n",
       "</tbody>\n",
       "</table>\n"
      ],
      "text/latex": [
       "A data.table: 3 × 5\n",
       "\\begin{tabular}{r|lllll}\n",
       " 23120-0.0 & 23124-0.0 & 26411-0.0 & 26412-0.0 & count\\\\\n",
       " <dbl> & <dbl> & <dbl> & <dbl> & <dbl>\\\\\n",
       "\\hline\n",
       "\t 1.0 & 1.0 & 0.06 & 0.09 & 8.02\\\\\n",
       "\t 1.9 & 2.0 & 0.16 & 0.13 & 3.70\\\\\n",
       "\t 1.2 & 1.2 & 0.02 & 0.04 & 4.98\\\\\n",
       "\\end{tabular}\n"
      ],
      "text/markdown": [
       "\n",
       "A data.table: 3 × 5\n",
       "\n",
       "| 23120-0.0 &lt;dbl&gt; | 23124-0.0 &lt;dbl&gt; | 26411-0.0 &lt;dbl&gt; | 26412-0.0 &lt;dbl&gt; | count &lt;dbl&gt; |\n",
       "|---|---|---|---|---|\n",
       "| 1.0 | 1.0 | 0.06 | 0.09 | 8.02 |\n",
       "| 1.9 | 2.0 | 0.16 | 0.13 | 3.70 |\n",
       "| 1.2 | 1.2 | 0.02 | 0.04 | 4.98 |\n",
       "\n"
      ],
      "text/plain": [
       "  23120-0.0 23124-0.0 26411-0.0 26412-0.0 count\n",
       "1 1.0       1.0       0.06      0.09      8.02 \n",
       "2 1.9       2.0       0.16      0.13      3.70 \n",
       "3 1.2       1.2       0.02      0.04      4.98 "
      ]
     },
     "metadata": {},
     "output_type": "display_data"
    }
   ],
   "source": [
    "which(new_beta>=0.4)\n",
    "new_m7[1:3,c(91,95,131,132,138)]"
   ]
  },
  {
   "cell_type": "markdown",
   "metadata": {},
   "source": [
    "##  MLR with Non-Scaled Data"
   ]
  },
  {
   "cell_type": "markdown",
   "metadata": {},
   "source": []
  },
  {
   "cell_type": "code",
   "execution_count": 17,
   "metadata": {},
   "outputs": [],
   "source": [
    "#non scale\n",
    "model_MLR <- lm(data=new_m7,formula = count ~ . - new_m7$count)"
   ]
  },
  {
   "cell_type": "code",
   "execution_count": 18,
   "metadata": {},
   "outputs": [
    {
     "data": {
      "text/plain": [
       "\n",
       "Call:\n",
       "lm(formula = count ~ . - new_m7$count, data = new_m7)\n",
       "\n",
       "Residuals:\n",
       "   Min     1Q Median     3Q    Max \n",
       " -8.34  -1.15  -0.19   0.92 382.99 \n",
       "\n",
       "Coefficients:\n",
       "               Estimate Std. Error t value Pr(>|t|)    \n",
       "(Intercept)  -2.294e+02  2.646e+01  -8.671  < 2e-16 ***\n",
       "eid          -4.435e-09  2.022e-09  -2.194 0.028230 *  \n",
       "`34-0.0`      1.075e-01  4.075e-03  26.382  < 2e-16 ***\n",
       "`46-0.0`      1.295e-03  6.318e-04   2.051 0.040304 *  \n",
       "`47-0.0`      3.900e-03  6.308e-04   6.183 6.31e-10 ***\n",
       "`48-0.0`      2.701e-02  5.915e-04  45.654  < 2e-16 ***\n",
       "`49-0.0`     -1.697e-02  7.794e-04 -21.772  < 2e-16 ***\n",
       "`50-0.0`     -2.694e-02  2.495e-03 -10.800  < 2e-16 ***\n",
       "`51-0.0`     -3.635e-03  8.221e-04  -4.422 9.78e-06 ***\n",
       "`92-0.0`     -6.442e-06  3.702e-06  -1.740 0.081843 .  \n",
       "`96-0.0`     -1.083e-04  5.286e-05  -2.049 0.040421 *  \n",
       "`102-0.0`     2.453e-02  2.815e-04  87.143  < 2e-16 ***\n",
       "`129-0.0`    -2.343e-08  2.579e-08  -0.908 0.363650    \n",
       "`130-0.0`    -2.201e-08  3.865e-08  -0.569 0.569141    \n",
       "`135-0.0`     1.615e-02  2.034e-03   7.939 2.04e-15 ***\n",
       "`137-0.0`     4.403e-02  1.452e-03  30.321  < 2e-16 ***\n",
       "`189-0.0`     1.810e-02  1.479e-03  12.238  < 2e-16 ***\n",
       "`699-0.0`    -9.201e-04  2.626e-04  -3.504 0.000458 ***\n",
       "`709-0.0`    -1.489e-02  2.323e-03  -6.410 1.46e-10 ***\n",
       "`874-0.0`     2.213e-04  6.602e-05   3.353 0.000800 ***\n",
       "`884-0.0`    -5.793e-03  1.785e-03  -3.245 0.001175 ** \n",
       "`894-0.0`     2.562e-04  6.087e-05   4.209 2.56e-05 ***\n",
       "`904-0.0`    -2.268e-02  2.175e-03 -10.428  < 2e-16 ***\n",
       "`1050-0.0`    7.288e-03  1.007e-03   7.236 4.63e-13 ***\n",
       "`1060-0.0`   -1.903e-03  7.874e-04  -2.416 0.015674 *  \n",
       "`1070-0.0`    1.810e-02  9.861e-04  18.356  < 2e-16 ***\n",
       "`1080-0.0`    3.838e-03  6.427e-04   5.972 2.35e-09 ***\n",
       "`1090-0.0`    4.773e-03  5.898e-04   8.093 5.84e-16 ***\n",
       "`1160-0.0`    9.119e-03  2.303e-03   3.960 7.51e-05 ***\n",
       "`1269-0.0`   -5.460e-05  6.984e-04  -0.078 0.937690    \n",
       "`1279-0.0`   -1.788e-03  1.289e-03  -1.387 0.165346    \n",
       "`1289-0.0`   -2.700e-03  1.200e-03  -2.251 0.024373 *  \n",
       "`1299-0.0`   -3.338e-03  9.630e-04  -3.467 0.000527 ***\n",
       "`1309-0.0`   -1.648e-02  1.186e-03 -13.888  < 2e-16 ***\n",
       "`1319-0.0`   -3.078e-03  9.013e-04  -3.416 0.000637 ***\n",
       "`1458-0.0`   -1.096e-02  7.518e-04 -14.571  < 2e-16 ***\n",
       "`1488-0.0`    7.138e-03  8.120e-04   8.791  < 2e-16 ***\n",
       "`1528-0.0`   -3.424e-03  7.960e-04  -4.301 1.70e-05 ***\n",
       "`1737-0.0`   -1.770e-03  6.758e-04  -2.620 0.008803 ** \n",
       "`1807-0.0`   -1.462e-03  1.950e-04  -7.499 6.45e-14 ***\n",
       "`1873-0.0`    1.459e-02  2.432e-03   5.998 2.00e-09 ***\n",
       "`1883-0.0`    1.117e-02  2.562e-03   4.360 1.30e-05 ***\n",
       "`2139-0.0`   -4.449e-03  5.391e-04  -8.253  < 2e-16 ***\n",
       "`2149-0.0`    1.036e-04  4.837e-05   2.143 0.032144 *  \n",
       "`2217-0.0`    1.202e-03  1.813e-04   6.630 3.36e-11 ***\n",
       "`2277-0.0`    5.634e-04  5.861e-04   0.961 0.336421    \n",
       "`3061-0.0`    1.497e-03  3.676e-04   4.071 4.68e-05 ***\n",
       "`3062-0.0`    6.732e-02  9.592e-03   7.018 2.25e-12 ***\n",
       "`3063-0.0`   -1.967e-01  1.559e-02 -12.614  < 2e-16 ***\n",
       "`3064-0.0`    8.009e-05  3.562e-05   2.248 0.024560 *  \n",
       "`4079-0.0`   -1.192e-02  4.201e-04 -28.388  < 2e-16 ***\n",
       "`4080-0.0`    6.147e-03  2.285e-04  26.901  < 2e-16 ***\n",
       "`20004-0.0`   7.706e-08  3.836e-07   0.201 0.840780    \n",
       "`20010-0.0`   2.665e-05  1.912e-05   1.394 0.163325    \n",
       "`20011-0.0`  -7.994e-04  2.069e-04  -3.863 0.000112 ***\n",
       "`20015-0.0`   7.620e-03  1.418e-03   5.374 7.71e-08 ***\n",
       "`20074-0.0`  -2.333e-07  1.739e-07  -1.341 0.179779    \n",
       "`20075-0.0`  -6.172e-08  9.987e-08  -0.618 0.536570    \n",
       "`20127-0.0`  -4.726e-03  1.045e-03  -4.522 6.12e-06 ***\n",
       "`20256-0.0`  -1.099e-01  2.439e-02  -4.504 6.68e-06 ***\n",
       "`20257-0.0`   1.512e-01  2.330e-02   6.488 8.73e-11 ***\n",
       "`20258-0.0`   1.622e-01  1.482e-02  10.946  < 2e-16 ***\n",
       "`21001-0.0`   1.262e-02  7.561e-03   1.670 0.095004 .  \n",
       "`21002-0.0`   1.630e-03  2.833e-03   0.575 0.564954    \n",
       "`21003-0.0`   1.810e-01  1.538e-01   1.176 0.239481    \n",
       "`21022-0.0`  -9.002e-02  1.538e-01  -0.585 0.558307    \n",
       "`22033-0.0`   5.354e-04  1.300e-03   0.412 0.680446    \n",
       "`22034-0.0`  -2.538e-04  8.244e-05  -3.079 0.002080 ** \n",
       "`22037-0.0`  -1.109e-05  6.758e-06  -1.641 0.100713    \n",
       "`22039-0.0`   2.157e-05  4.394e-06   4.910 9.09e-07 ***\n",
       "`22702-0.0`  -8.463e-08  1.645e-07  -0.514 0.607003    \n",
       "`22704-0.0`   1.179e-08  9.716e-08   0.121 0.903441    \n",
       "`23098-0.0`   5.178e-03  1.038e-02   0.499 0.617874    \n",
       "`23099-0.0`   6.915e-03  5.590e-03   1.237 0.216071    \n",
       "`23100-0.0`  -2.945e-03  4.285e-03  -0.687 0.491926    \n",
       "`23101-0.0`   3.713e-03  5.882e-03   0.631 0.527825    \n",
       "`23102-0.0`   4.044e-03  1.098e-02   0.368 0.712721    \n",
       "`23106-0.0`   1.385e-03  2.441e-04   5.675 1.38e-08 ***\n",
       "`23107-0.0`  -3.852e-03  6.868e-04  -5.609 2.04e-08 ***\n",
       "`23108-0.0`   4.332e-03  6.692e-04   6.472 9.65e-11 ***\n",
       "`23109-0.0`  -1.360e-03  3.274e-04  -4.153 3.28e-05 ***\n",
       "`23110-0.0`  -5.073e-04  3.705e-04  -1.369 0.170890    \n",
       "`23111-0.0`   1.869e-02  1.082e-02   1.728 0.084062 .  \n",
       "`23112-0.0`  -5.498e-03  3.812e-02  -0.144 0.885330    \n",
       "`23113-0.0`  -2.764e-01  7.099e-02  -3.893 9.90e-05 ***\n",
       "`23114-0.0`   1.759e-01  7.434e-02   2.366 0.017961 *  \n",
       "`23115-0.0`  -6.091e-02  1.072e-02  -5.680 1.34e-08 ***\n",
       "`23116-0.0`   1.376e-01  3.937e-02   3.496 0.000473 ***\n",
       "`23117-0.0`   3.492e-02  7.195e-02   0.485 0.627410    \n",
       "`23118-0.0`  -1.555e-02  7.516e-02  -0.207 0.836116    \n",
       "`23119-0.0`   1.709e-02  5.228e-03   3.269 0.001079 ** \n",
       "`23120-0.0`  -8.667e-02  6.063e-02  -1.429 0.152901    \n",
       "`23121-0.0`  -7.264e-02  7.151e-02  -1.016 0.309667    \n",
       "`23122-0.0`  -2.518e-01  7.466e-02  -3.372 0.000746 ***\n",
       "`23123-0.0`  -1.209e-02  5.616e-03  -2.152 0.031407 *  \n",
       "`23124-0.0`  -2.300e-02  5.506e-02  -0.418 0.676144    \n",
       "`23125-0.0`  -8.435e-02  4.478e-02  -1.884 0.059625 .  \n",
       "`23126-0.0`  -4.779e-02  5.127e-02  -0.932 0.351240    \n",
       "`23127-0.0`  -8.467e-03  4.505e-03  -1.879 0.060198 .  \n",
       "`23128-0.0`   3.196e-02  1.171e-02   2.728 0.006367 ** \n",
       "`23129-0.0`   2.205e-02  1.677e-02   1.314 0.188685    \n",
       "`23130-0.0`   8.524e-03  1.561e-02   0.546 0.584912    \n",
       "`24003-0.0`  -2.616e-03  1.898e-03  -1.378 0.168132    \n",
       "`24004-0.0`   3.564e-04  7.315e-04   0.487 0.626077    \n",
       "`24005-0.0`  -2.176e-04  4.666e-03  -0.047 0.962802    \n",
       "`24006-0.0`   5.658e-03  6.960e-03   0.813 0.416224    \n",
       "`24007-0.0`  -1.719e-03  2.138e-02  -0.080 0.935916    \n",
       "`24008-0.0`  -1.125e-02  1.033e-02  -1.090 0.275909    \n",
       "`24009-0.0`  -6.983e-07  7.325e-07  -0.953 0.340471    \n",
       "`24010-0.0`   9.565e-03  4.680e-02   0.204 0.838070    \n",
       "`24011-0.0`   9.920e-07  2.571e-07   3.858 0.000114 ***\n",
       "`24012-0.0`  -1.021e-01  2.342e-01  -0.436 0.662930    \n",
       "`24013-0.0`  -2.617e-09  4.974e-09  -0.526 0.598834    \n",
       "`24015-0.0`   6.318e-05  7.690e-05   0.822 0.411349    \n",
       "`24016-0.0`  -6.197e-03  3.040e-03  -2.038 0.041512 *  \n",
       "`24017-0.0`  -1.631e-02  3.232e-03  -5.045 4.53e-07 ***\n",
       "`24018-0.0`   2.119e-02  2.366e-03   8.955  < 2e-16 ***\n",
       "`24019-0.0`   2.230e-03  2.468e-03   0.903 0.366294    \n",
       "`24020-0.0`   2.190e+00  2.876e+00   0.761 0.446391    \n",
       "`24021-0.0`   8.558e-01  6.086e-01   1.406 0.159661    \n",
       "`24022-0.0`  -3.046e+00  2.862e+00  -1.064 0.287242    \n",
       "`24500-0.0`   3.211e-03  7.558e-04   4.249 2.15e-05 ***\n",
       "`24501-0.0`   4.541e-03  9.498e-04   4.780 1.75e-06 ***\n",
       "`24502-0.0`   1.053e-02  2.001e-03   5.262 1.42e-07 ***\n",
       "`24503-0.0`  -9.709e-04  6.097e-04  -1.592 0.111305    \n",
       "`24504-0.0`  -8.768e-04  7.506e-04  -1.168 0.242782    \n",
       "`24505-0.0`  -4.100e-03  1.617e-03  -2.535 0.011230 *  \n",
       "`24506-0.0`  -7.103e-04  4.025e-04  -1.765 0.077646 .  \n",
       "`24507-0.0`   5.859e-06  2.841e-04   0.021 0.983544    \n",
       "`24508-0.0`   3.128e-04  1.471e-04   2.127 0.033450 *  \n",
       "`26410-0.0`  -4.667e-03  2.436e-03  -1.916 0.055317 .  \n",
       "`26411-0.0`   5.213e-01  1.523e-01   3.422 0.000621 ***\n",
       "`26412-0.0`   1.087e-01  2.569e-01   0.423 0.672221    \n",
       "`26413-0.0`  -1.139e-02  8.544e-03  -1.333 0.182672    \n",
       "`26414-0.0`   3.945e-03  5.304e-04   7.439 1.02e-13 ***\n",
       "`26415-0.0`   5.304e-05  5.350e-04   0.099 0.921028    \n",
       "`26416-0.0`   6.478e-03  7.176e-03   0.903 0.366706    \n",
       "`26417-0.0`  -1.934e-04  4.140e-04  -0.467 0.640479    \n",
       "`22009-0.1`  -3.665e-03  6.247e-05 -58.668  < 2e-16 ***\n",
       "`22009-0.10` -1.262e-03  7.236e-04  -1.743 0.081251 .  \n",
       "`22009-0.11` -2.355e-03  8.074e-04  -2.917 0.003530 ** \n",
       "`22009-0.12` -3.425e-03  8.477e-04  -4.040 5.34e-05 ***\n",
       "`22009-0.13` -7.491e-04  8.736e-04  -0.857 0.391171    \n",
       "`22009-0.14`  3.249e-04  9.944e-04   0.327 0.743911    \n",
       "`22009-0.15` -4.543e-04  9.873e-04  -0.460 0.645387    \n",
       "`22009-0.16` -6.102e-04  9.668e-04  -0.631 0.527898    \n",
       "`22009-0.17` -6.317e-04  1.055e-03  -0.599 0.549461    \n",
       "`22009-0.18`  2.676e-04  1.071e-03   0.250 0.802812    \n",
       "`22009-0.19`  1.109e-03  1.049e-03   1.057 0.290508    \n",
       "`22009-0.20` -6.995e-05  1.060e-03  -0.066 0.947368    \n",
       "`22009-0.21` -1.238e-03  1.062e-03  -1.165 0.244079    \n",
       "`22009-0.22`  1.088e-04  1.057e-03   0.103 0.917999    \n",
       "`22009-0.23`  1.071e-03  1.064e-03   1.007 0.314044    \n",
       "`22009-0.24`  1.911e-06  1.073e-03   0.002 0.998579    \n",
       "`22009-0.25`  1.328e-03  1.071e-03   1.240 0.215089    \n",
       "`22009-0.26`  2.709e-03  1.072e-03   2.528 0.011469 *  \n",
       "`22009-0.27` -1.072e-03  1.069e-03  -1.003 0.316053    \n",
       "`22009-0.28` -2.330e-03  1.065e-03  -2.187 0.028736 *  \n",
       "`22009-0.29` -3.340e-03  1.071e-03  -3.119 0.001818 ** \n",
       "`22009-0.30` -8.571e-05  1.057e-03  -0.081 0.935392    \n",
       "`22009-0.31`  7.384e-04  1.067e-03   0.692 0.488765    \n",
       "`22009-0.32` -1.435e-03  1.073e-03  -1.338 0.181059    \n",
       "`22009-0.33` -4.583e-04  1.070e-03  -0.428 0.668373    \n",
       "`22009-0.34`  1.796e-03  1.068e-03   1.682 0.092520 .  \n",
       "`22009-0.35` -2.093e-03  1.078e-03  -1.942 0.052086 .  \n",
       "`22009-0.36`  2.784e-03  1.080e-03   2.578 0.009941 ** \n",
       "`22009-0.37`  5.881e-04  1.076e-03   0.546 0.584769    \n",
       "`22009-0.38` -3.200e-03  1.080e-03  -2.964 0.003038 ** \n",
       "`22009-0.39` -5.091e-04  1.080e-03  -0.471 0.637486    \n",
       "`22009-0.40` -2.803e-04  1.081e-03  -0.259 0.795333    \n",
       "---\n",
       "Signif. codes:  0 ‘***’ 0.001 ‘**’ 0.01 ‘*’ 0.05 ‘.’ 0.1 ‘ ’ 1\n",
       "\n",
       "Residual standard error: 2.028 on 478004 degrees of freedom\n",
       "Multiple R-squared:  0.0875,\tAdjusted R-squared:  0.08717 \n",
       "F-statistic: 271.2 on 169 and 478004 DF,  p-value: < 2.2e-16\n"
      ]
     },
     "metadata": {},
     "output_type": "display_data"
    }
   ],
   "source": [
    "summary(model_MLR)"
   ]
  },
  {
   "cell_type": "markdown",
   "metadata": {},
   "source": [
    "### R-squared:  0.08717"
   ]
  },
  {
   "cell_type": "raw",
   "metadata": {},
   "source": [
    "Signif. codes:  0 ‘***’ 0.001 ‘**’ 0.01 ‘*’ 0.05 ‘.’ 0.1 ‘ ’ 1\n",
    "\n",
    "Residual standard error: 2.028 on 478004 degrees of freedom\n",
    "Multiple R-squared:  0.0875,\tAdjusted R-squared:  0.08717 \n",
    "F-statistic: 271.2 on 169 and 478004 DF,  p-value: < 2.2e-16"
   ]
  },
  {
   "cell_type": "code",
   "execution_count": null,
   "metadata": {},
   "outputs": [],
   "source": []
  },
  {
   "cell_type": "markdown",
   "metadata": {},
   "source": [
    "## Multivariable Linear Regression with Scaled Data"
   ]
  },
  {
   "cell_type": "code",
   "execution_count": 42,
   "metadata": {},
   "outputs": [],
   "source": [
    "## scale \n",
    "\n",
    "model_MLR_scale <- lm(data=new_scale3,formula = count ~ . - new_scale3$count)"
   ]
  },
  {
   "cell_type": "code",
   "execution_count": 10,
   "metadata": {},
   "outputs": [],
   "source": [
    "#print(summary(model_MLR_scale))"
   ]
  },
  {
   "cell_type": "markdown",
   "metadata": {},
   "source": [
    "### Adjusted R-squared:  0.08717 "
   ]
  },
  {
   "cell_type": "raw",
   "metadata": {},
   "source": [
    "Signif. codes:  0 ‘***’ 0.001 ‘**’ 0.01 ‘*’ 0.05 ‘.’ 0.1 ‘ ’ 1\n",
    "\n",
    "Residual standard error: 0.9554 on 478004 degrees of freedom\n",
    "Multiple R-squared:  0.0875,\tAdjusted R-squared:  0.08717 \n",
    "F-statistic: 271.2 on 169 and 478004 DF,  p-value: < 2.2e-16\n"
   ]
  },
  {
   "cell_type": "markdown",
   "metadata": {},
   "source": [
    "## with a smaller residual standard error\n",
    "### rmse 0.9554"
   ]
  },
  {
   "cell_type": "code",
   "execution_count": 77,
   "metadata": {},
   "outputs": [
    {
     "data": {
      "text/html": [
       "FALSE"
      ],
      "text/latex": [
       "FALSE"
      ],
      "text/markdown": [
       "FALSE"
      ],
      "text/plain": [
       "[1] FALSE"
      ]
     },
     "metadata": {},
     "output_type": "display_data"
    }
   ],
   "source": [
    "#identical(new_data,new_scale3)"
   ]
  },
  {
   "cell_type": "markdown",
   "metadata": {},
   "source": [
    "## SLR Modeling with NON-Scaled Data "
   ]
  },
  {
   "cell_type": "code",
   "execution_count": 60,
   "metadata": {},
   "outputs": [
    {
     "name": "stderr",
     "output_type": "stream",
     "text": [
      "Warning message in summary.lm(model[[i]]):\n",
      "“essentially perfect fit: summary may be unreliable”"
     ]
    }
   ],
   "source": [
    "new_data=new_m7\n",
    "coeff=NULL\n",
    "sum=NULL\n",
    "model=NULL\n",
    "r=NULL\n",
    "beta=NULL\n",
    "for (i in 1:170){\n",
    "   \n",
    "   model[[i]] <- lm(data=new_data,formula = count ~ new_data[[i]] )\n",
    "   coeff[[i]]=model$coefficients\n",
    "   sum[[i]]=summary(model[[i]])\n",
    "    r[[i]]=sum[[i]]$adj.r.squared\n",
    "    beta[[i]]=lm.beta(model[[i]])\n",
    "}\n",
    "new_beta=NULL\n",
    "for (i in 1:170){\n",
    "    new_beta[i]=abs(beta[[i]]$`standardized.coefficients`[2])\n",
    "}\n",
    "\n",
    "\n",
    "\n"
   ]
  },
  {
   "cell_type": "code",
   "execution_count": 73,
   "metadata": {},
   "outputs": [
    {
     "data": {
      "image/png": "[encoded data removed]",
      "text/plain": [
       "plot without title"
      ]
     },
     "metadata": {},
     "output_type": "display_data"
    }
   ],
   "source": [
    "barplot(r[-138],col=\"blue\",ylim=c(0,0.03))\n",
    "abline(h = 0.02,col=\"red\")"
   ]
  },
  {
   "cell_type": "code",
   "execution_count": 74,
   "metadata": {},
   "outputs": [
    {
     "data": {
      "image/png": "[encoded data removed]",
      "text/plain": [
       "plot without title"
      ]
     },
     "metadata": {},
     "output_type": "display_data"
    }
   ],
   "source": [
    "barplot(new_beta[-138],ylim=c(0.09,0.27),col=\"blue\")\n",
    "abline(h = 0.15,col=\"black\")\n",
    "abline(h = 0.12,col=\"red\")\n",
    "abline(h = 0.10,col=\"yellow\")\n",
    "abline(h = 0.11,col=\"green\")"
   ]
  },
  {
   "cell_type": "code",
   "execution_count": 75,
   "metadata": {},
   "outputs": [
    {
     "data": {
      "text/html": [
       "<ol class=list-inline>\n",
       "\t<li>5</li>\n",
       "\t<li>11</li>\n",
       "\t<li>15</li>\n",
       "\t<li>62</li>\n",
       "\t<li>74</li>\n",
       "\t<li>91</li>\n",
       "\t<li>95</li>\n",
       "\t<li>98</li>\n",
       "\t<li>99</li>\n",
       "\t<li>138</li>\n",
       "</ol>\n"
      ],
      "text/latex": [
       "\\begin{enumerate*}\n",
       "\\item 5\n",
       "\\item 11\n",
       "\\item 15\n",
       "\\item 62\n",
       "\\item 74\n",
       "\\item 91\n",
       "\\item 95\n",
       "\\item 98\n",
       "\\item 99\n",
       "\\item 138\n",
       "\\end{enumerate*}\n"
      ],
      "text/markdown": [
       "1. 5\n",
       "2. 11\n",
       "3. 15\n",
       "4. 62\n",
       "5. 74\n",
       "6. 91\n",
       "7. 95\n",
       "8. 98\n",
       "9. 99\n",
       "10. 138\n",
       "\n",
       "\n"
      ],
      "text/plain": [
       " [1]   5  11  15  62  74  91  95  98  99 138"
      ]
     },
     "metadata": {},
     "output_type": "display_data"
    }
   ],
   "source": [
    "which(new_beta>=0.12)"
   ]
  },
  {
   "cell_type": "code",
   "execution_count": 76,
   "metadata": {},
   "outputs": [
    {
     "name": "stdout",
     "output_type": "stream",
     "text": [
      " [1] \"48-0.0\"    \"102-0.0\"   \"137-0.0\"   \"21001-0.0\" \"23100-0.0\" \"23120-0.0\"\n",
      " [7] \"23124-0.0\" \"23127-0.0\" \"23128-0.0\" \"count\"    \n"
     ]
    }
   ],
   "source": [
    "new_sample_beta=new_m7 %>% select(.,which(new_beta>=0.12)) \n",
    "print(colnames(new_sample_beta))\n",
    "## the variables in bold are in great chance to be highly correlated with while blood cell count"
   ]
  },
  {
   "cell_type": "markdown",
   "metadata": {},
   "source": [
    "- **Waist circumference**\n",
    "- **Pulse rate**\n",
    "- **Number of treatments/medications taken**\n",
    "- *Body mass index (BMI)*\n",
    "- **Whole body fat mass**\n",
    "- > *Body mass index (BMI) integer*\n",
    "\n",
    "-------------------------------------\n",
    "- *Arm fat mass (right)*\n",
    "- *Arm fat mass (left)*\n",
    "- *Trunk fat percentage*\n",
    "- *Trunk fat mass*\n",
    "- > Platelet count\n",
    "- > Platelet crit\n",
    "\n",
    "-------------------------------------\n",
    "- > Eosinophill count\n",
    "- > Basophill count\n",
    "- > Lymphocyte percentage\n",
    "- > Monocyte percentage\n",
    "- > Neutrophill percentage\n",
    "- > Immature reticulocyte fraction\n",
    "\n",
    "-------------------------------------\n",
    "- > High light scatter reticulocyte count\n",
    "- > C-reactive protein\n",
    "- > Cystatin C\n",
    "- > Glycated haemoglobin (HbA1c)\n",
    "- > HDL cholesterol\n",
    "- > Triglycerides\n",
    "\n",
    "-------------------------------------\n",
    "- Count\n",
    "\n",
    "\n"
   ]
  },
  {
   "cell_type": "markdown",
   "metadata": {},
   "source": [
    "## Be Aware of the High Correlation"
   ]
  },
  {
   "cell_type": "code",
   "execution_count": 65,
   "metadata": {},
   "outputs": [
    {
     "data": {
      "text/html": [
       "0.986643573057155"
      ],
      "text/latex": [
       "0.986643573057155"
      ],
      "text/markdown": [
       "0.986643573057155"
      ],
      "text/plain": [
       "[1] 0.9866436"
      ]
     },
     "metadata": {},
     "output_type": "display_data"
    }
   ],
   "source": [
    "cor(new_data$`23112-0.0`[1:100],new_data$`23116-0.0`[1:100]) # left arm, left leg "
   ]
  },
  {
   "cell_type": "code",
   "execution_count": 66,
   "metadata": {},
   "outputs": [],
   "source": [
    "#cor(new_data$`21001-0.0`[1:100],new_data$`23104-0.0`[1:100])"
   ]
  },
  {
   "cell_type": "code",
   "execution_count": 67,
   "metadata": {},
   "outputs": [],
   "source": [
    "#cor(new_data$`23100-0.0`[1:100],new_data$`23104-0.0`[1:100])"
   ]
  },
  {
   "cell_type": "code",
   "execution_count": 68,
   "metadata": {},
   "outputs": [],
   "source": [
    "#cor(new_data$`21001-0.0`[1:100],new_data$`23104-0.0`[1:100])"
   ]
  },
  {
   "cell_type": "code",
   "execution_count": 69,
   "metadata": {},
   "outputs": [
    {
     "data": {
      "text/html": [
       "0.994059654552394"
      ],
      "text/latex": [
       "0.994059654552394"
      ],
      "text/markdown": [
       "0.994059654552394"
      ],
      "text/plain": [
       "[1] 0.9940597"
      ]
     },
     "metadata": {},
     "output_type": "display_data"
    }
   ],
   "source": [
    "cor(new_data$`23120-0.0`[1:100],new_data$`23124-0.0`[1:100]) # left arm, right arm"
   ]
  },
  {
   "cell_type": "code",
   "execution_count": 70,
   "metadata": {},
   "outputs": [
    {
     "data": {
      "text/html": [
       "0.903449114860565"
      ],
      "text/latex": [
       "0.903449114860565"
      ],
      "text/markdown": [
       "0.903449114860565"
      ],
      "text/plain": [
       "[1] 0.9034491"
      ]
     },
     "metadata": {},
     "output_type": "display_data"
    }
   ],
   "source": [
    "cor(new_data$`23100-0.0`[1:100],new_data$`23128-0.0`[1:100]) # whole body mass \\, trunk mass"
   ]
  },
  {
   "cell_type": "code",
   "execution_count": 71,
   "metadata": {},
   "outputs": [
    {
     "data": {
      "text/plain": [
       "\n",
       "\tPearson's product-moment correlation\n",
       "\n",
       "data:  new_data$`135-0.0`[1:300] and new_data$`137-0.0`[1:300]\n",
       "t = 11.828, df = 298, p-value < 2.2e-16\n",
       "alternative hypothesis: true correlation is not equal to 0\n",
       "95 percent confidence interval:\n",
       " 0.4828966 0.6376551\n",
       "sample estimates:\n",
       "      cor \n",
       "0.5652286 \n"
      ]
     },
     "metadata": {},
     "output_type": "display_data"
    },
    {
     "data": {
      "text/plain": [
       "\n",
       "\tPearson's product-moment correlation\n",
       "\n",
       "data:  new_data$`48-0.0`[1:100] and new_data$`49-0.0`[1:100]\n",
       "t = 8.695, df = 98, p-value = 8.166e-14\n",
       "alternative hypothesis: true correlation is not equal to 0\n",
       "95 percent confidence interval:\n",
       " 0.5325281 0.7580760\n",
       "sample estimates:\n",
       "      cor \n",
       "0.6599198 \n"
      ]
     },
     "metadata": {},
     "output_type": "display_data"
    }
   ],
   "source": [
    "cor.test(new_data$`135-0.0`[1:300],new_data$`137-0.0`[1:300]);cor.test(new_data$`48-0.0`[1:100],new_data$`49-0.0`[1:100])\n",
    "## these two are fine to be included"
   ]
  },
  {
   "cell_type": "code",
   "execution_count": 78,
   "metadata": {},
   "outputs": [
    {
     "data": {
      "image/png": "[encoded data removed]",
      "text/plain": [
       "plot without title"
      ]
     },
     "metadata": {},
     "output_type": "display_data"
    }
   ],
   "source": [
    "barplot(r[-138],col=\"blue\",ylim=c(0,0.04))\n",
    "abline(h = 0.02,col=\"red\")\n",
    "abline(h = 0.016,col=\"green\")\n",
    "abline(h = 0.012,col=\"yellow\")"
   ]
  },
  {
   "cell_type": "markdown",
   "metadata": {},
   "source": [
    "## Glmnet and other regulations L1,L2\n"
   ]
  },
  {
   "cell_type": "code",
   "execution_count": 81,
   "metadata": {},
   "outputs": [
    {
     "name": "stderr",
     "output_type": "stream",
     "text": [
      "Warning message in summary.lm(model[[i]]):\n",
      "“essentially perfect fit: summary may be unreliable”"
     ]
    }
   ],
   "source": [
    "new_data=new_scale3\n",
    "coeff=NULL\n",
    "sum=NULL\n",
    "model=NULL\n",
    "r=NULL\n",
    "beta=NULL\n",
    "for (i in 1:170){\n",
    "   \n",
    "   model[[i]] <- lm(data=new_data,formula = count ~ new_data[[i]] )\n",
    "   coeff[[i]]=model$coefficients\n",
    "   sum[[i]]=summary(model[[i]])\n",
    "    r[[i]]=sum[[i]]$adj.r.squared\n",
    "    beta[[i]]=lm.beta(model[[i]])\n",
    "}\n",
    "new_beta=NULL\n",
    "for (i in 1:170){\n",
    "    new_beta[i]=abs(beta[[i]]$`standardized.coefficients`[2])\n",
    "}\n",
    "\n",
    "\n",
    "\n",
    "\n"
   ]
  },
  {
   "cell_type": "code",
   "execution_count": 82,
   "metadata": {},
   "outputs": [],
   "source": [
    "registerDoParallel(cores = 4)"
   ]
  },
  {
   "cell_type": "markdown",
   "metadata": {},
   "source": [
    "### sample some data for faster modelling"
   ]
  },
  {
   "cell_type": "code",
   "execution_count": 101,
   "metadata": {},
   "outputs": [
    {
     "data": {
      "text/html": [
       "<ol class=list-inline>\n",
       "\t<li>50000</li>\n",
       "\t<li>170</li>\n",
       "</ol>\n"
      ],
      "text/latex": [
       "\\begin{enumerate*}\n",
       "\\item 50000\n",
       "\\item 170\n",
       "\\end{enumerate*}\n"
      ],
      "text/markdown": [
       "1. 50000\n",
       "2. 170\n",
       "\n",
       "\n"
      ],
      "text/plain": [
       "[1] 50000   170"
      ]
     },
     "metadata": {},
     "output_type": "display_data"
    }
   ],
   "source": [
    "set.seed(123) ## keep the seed uniform each time\n",
    "new_new=new_scale3[sample(1:nrow(new_data),50000,replace = F),]\n",
    "n=nrow(new_new)\n",
    "sample <- sample(seq(n), size = n * 0.5, replace = FALSE)\n",
    "training.samples <- new_new$count %>%\n",
    "  createDataPartition(p = 0.8, list = FALSE)\n",
    "train.data  <- new_new[training.samples, ]\n",
    "test.data <- new_new[-training.samples, ]\n",
    "# Predictor variables\n",
    "x <- model.matrix(count~., train.data)[,-1]\n",
    "# Outcome variable\n",
    "y <- train.data$count\n",
    "dim(new_new)"
   ]
  },
  {
   "cell_type": "code",
   "execution_count": 102,
   "metadata": {},
   "outputs": [],
   "source": [
    "lasso=glmnet(x, y, alpha = 1, lambda = NULL)\n",
    "ridge=glmnet(x, y, alpha = 0, lambda = NULL)"
   ]
  },
  {
   "cell_type": "code",
   "execution_count": 103,
   "metadata": {},
   "outputs": [
    {
     "data": {
      "text/html": [
       "0.0166856489298062"
      ],
      "text/latex": [
       "0.0166856489298062"
      ],
      "text/markdown": [
       "0.0166856489298062"
      ],
      "text/plain": [
       "[1] 0.01668565"
      ]
     },
     "metadata": {},
     "output_type": "display_data"
    }
   ],
   "source": [
    "set.seed(123) \n",
    "cv.ridge <- cv.glmnet(x, y, alpha = 0)\n",
    "# Display the best lambda value\n",
    "cv.ridge$lambda.min"
   ]
  },
  {
   "cell_type": "code",
   "execution_count": 104,
   "metadata": {},
   "outputs": [
    {
     "name": "stderr",
     "output_type": "stream",
     "text": [
      "<sparse>[ <logic> ] : .M.sub.i.logical() maybe inefficient\n"
     ]
    },
    {
     "data": {
      "text/html": [
       "<ol class=list-inline>\n",
       "\t<li>0.159260294278783</li>\n",
       "\t<li>0.131829301699544</li>\n",
       "\t<li>0.125976709715232</li>\n",
       "\t<li>0.0662824357401895</li>\n",
       "\t<li>0.0506850551733415</li>\n",
       "\t<li>0.0475983301022395</li>\n",
       "\t<li>0.044055975407471</li>\n",
       "\t<li>0.0417230083078053</li>\n",
       "\t<li>0.0407460061319587</li>\n",
       "\t<li>0.0397509830855841</li>\n",
       "</ol>\n"
      ],
      "text/latex": [
       "\\begin{enumerate*}\n",
       "\\item 0.159260294278783\n",
       "\\item 0.131829301699544\n",
       "\\item 0.125976709715232\n",
       "\\item 0.0662824357401895\n",
       "\\item 0.0506850551733415\n",
       "\\item 0.0475983301022395\n",
       "\\item 0.044055975407471\n",
       "\\item 0.0417230083078053\n",
       "\\item 0.0407460061319587\n",
       "\\item 0.0397509830855841\n",
       "\\end{enumerate*}\n"
      ],
      "text/markdown": [
       "1. 0.159260294278783\n",
       "2. 0.131829301699544\n",
       "3. 0.125976709715232\n",
       "4. 0.0662824357401895\n",
       "5. 0.0506850551733415\n",
       "6. 0.0475983301022395\n",
       "7. 0.044055975407471\n",
       "8. 0.0417230083078053\n",
       "9. 0.0407460061319587\n",
       "10. 0.0397509830855841\n",
       "\n",
       "\n"
      ],
      "text/plain": [
       " [1] 0.15926029 0.13182930 0.12597671 0.06628244 0.05068506 0.04759833\n",
       " [7] 0.04405598 0.04172301 0.04074601 0.03975098"
      ]
     },
     "metadata": {},
     "output_type": "display_data"
    }
   ],
   "source": [
    "# Fit the final model on the training data\n",
    "model.ridge <- glmnet(x, y, alpha = 0, lambda = cv.ridge$lambda.min)\n",
    "# Display regression coefficients\n",
    "head(sort(coef(model.ridge),decreasing = T),10)"
   ]
  },
  {
   "cell_type": "code",
   "execution_count": 105,
   "metadata": {},
   "outputs": [
    {
     "data": {
      "text/html": [],
      "text/latex": [],
      "text/markdown": [],
      "text/plain": [
       "integer(0)"
      ]
     },
     "metadata": {},
     "output_type": "display_data"
    }
   ],
   "source": [
    "which(coef(model.ridge)==0) ## none coef is coerced to zero "
   ]
  },
  {
   "cell_type": "code",
   "execution_count": 106,
   "metadata": {},
   "outputs": [
    {
     "data": {
      "text/html": [
       "<table>\n",
       "<caption>A data.frame: 1 × 2</caption>\n",
       "<thead>\n",
       "\t<tr><th scope=col>RMSE</th><th scope=col>Rsquare</th></tr>\n",
       "\t<tr><th scope=col>&lt;dbl&gt;</th><th scope=col>&lt;dbl&gt;</th></tr>\n",
       "</thead>\n",
       "<tbody>\n",
       "\t<tr><td>0.9372578</td><td>0.08842417</td></tr>\n",
       "</tbody>\n",
       "</table>\n"
      ],
      "text/latex": [
       "A data.frame: 1 × 2\n",
       "\\begin{tabular}{r|ll}\n",
       " RMSE & Rsquare\\\\\n",
       " <dbl> & <dbl>\\\\\n",
       "\\hline\n",
       "\t 0.9372578 & 0.08842417\\\\\n",
       "\\end{tabular}\n"
      ],
      "text/markdown": [
       "\n",
       "A data.frame: 1 × 2\n",
       "\n",
       "| RMSE &lt;dbl&gt; | Rsquare &lt;dbl&gt; |\n",
       "|---|---|\n",
       "| 0.9372578 | 0.08842417 |\n",
       "\n"
      ],
      "text/plain": [
       "  RMSE      Rsquare   \n",
       "1 0.9372578 0.08842417"
      ]
     },
     "metadata": {},
     "output_type": "display_data"
    }
   ],
   "source": [
    "# Make predictions on the test data\n",
    "x.test <- model.matrix(count ~., test.data)[,-1]\n",
    "predictions <- model.ridge %>% predict(x.test) %>% as.vector()\n",
    "# Model performance metrics\n",
    "data.frame(\n",
    "  RMSE = RMSE(predictions, test.data$count),\n",
    "  Rsquare = R2(predictions, test.data$count)\n",
    ")"
   ]
  },
  {
   "cell_type": "markdown",
   "metadata": {},
   "source": [
    "### RMSE = 0.9372578 for Ridge \n",
    "- smaller than that of the MLR model for Scaled Data"
   ]
  },
  {
   "cell_type": "code",
   "execution_count": 93,
   "metadata": {},
   "outputs": [
    {
     "data": {
      "text/html": [
       "0.000830448676076123"
      ],
      "text/latex": [
       "0.000830448676076123"
      ],
      "text/markdown": [
       "0.000830448676076123"
      ],
      "text/plain": [
       "[1] 0.0008304487"
      ]
     },
     "metadata": {},
     "output_type": "display_data"
    },
    {
     "name": "stderr",
     "output_type": "stream",
     "text": [
      "<sparse>[ <logic> ] : .M.sub.i.logical() maybe inefficient\n"
     ]
    },
    {
     "data": {
      "text/html": [
       "<ol class=list-inline>\n",
       "\t<li>0.211093645331335</li>\n",
       "\t<li>0.171446723132956</li>\n",
       "\t<li>0.153850793403216</li>\n",
       "\t<li>0.132978621154221</li>\n",
       "\t<li>0.0932997127824971</li>\n",
       "\t<li>0.0721217500636461</li>\n",
       "\t<li>0.067424397118439</li>\n",
       "\t<li>0.0505608355901237</li>\n",
       "\t<li>0.0384434661898023</li>\n",
       "\t<li>0.0365621310441859</li>\n",
       "</ol>\n"
      ],
      "text/latex": [
       "\\begin{enumerate*}\n",
       "\\item 0.211093645331335\n",
       "\\item 0.171446723132956\n",
       "\\item 0.153850793403216\n",
       "\\item 0.132978621154221\n",
       "\\item 0.0932997127824971\n",
       "\\item 0.0721217500636461\n",
       "\\item 0.067424397118439\n",
       "\\item 0.0505608355901237\n",
       "\\item 0.0384434661898023\n",
       "\\item 0.0365621310441859\n",
       "\\end{enumerate*}\n"
      ],
      "text/markdown": [
       "1. 0.211093645331335\n",
       "2. 0.171446723132956\n",
       "3. 0.153850793403216\n",
       "4. 0.132978621154221\n",
       "5. 0.0932997127824971\n",
       "6. 0.0721217500636461\n",
       "7. 0.067424397118439\n",
       "8. 0.0505608355901237\n",
       "9. 0.0384434661898023\n",
       "10. 0.0365621310441859\n",
       "\n",
       "\n"
      ],
      "text/plain": [
       " [1] 0.21109365 0.17144672 0.15385079 0.13297862 0.09329971 0.07212175\n",
       " [7] 0.06742440 0.05056084 0.03844347 0.03656213"
      ]
     },
     "metadata": {},
     "output_type": "display_data"
    },
    {
     "data": {
      "text/html": [
       "<table>\n",
       "<caption>A data.frame: 1 × 2</caption>\n",
       "<thead>\n",
       "\t<tr><th scope=col>RMSE</th><th scope=col>Rsquare</th></tr>\n",
       "\t<tr><th scope=col>&lt;dbl&gt;</th><th scope=col>&lt;dbl&gt;</th></tr>\n",
       "</thead>\n",
       "<tbody>\n",
       "\t<tr><td>0.9371335</td><td>0.08866836</td></tr>\n",
       "</tbody>\n",
       "</table>\n"
      ],
      "text/latex": [
       "A data.frame: 1 × 2\n",
       "\\begin{tabular}{r|ll}\n",
       " RMSE & Rsquare\\\\\n",
       " <dbl> & <dbl>\\\\\n",
       "\\hline\n",
       "\t 0.9371335 & 0.08866836\\\\\n",
       "\\end{tabular}\n"
      ],
      "text/markdown": [
       "\n",
       "A data.frame: 1 × 2\n",
       "\n",
       "| RMSE &lt;dbl&gt; | Rsquare &lt;dbl&gt; |\n",
       "|---|---|\n",
       "| 0.9371335 | 0.08866836 |\n",
       "\n"
      ],
      "text/plain": [
       "  RMSE      Rsquare   \n",
       "1 0.9371335 0.08866836"
      ]
     },
     "metadata": {},
     "output_type": "display_data"
    }
   ],
   "source": [
    "## When making alpha =1, for lasso\n",
    "set.seed(123) \n",
    "cv.ridge <- cv.glmnet(x, y, alpha = 1)\n",
    "# Display the best lambda value\n",
    "cv.ridge$lambda.min\n",
    "# Fit the final model on the training data\n",
    "model.ridge <- glmnet(x, y, alpha = 1, lambda = cv.ridge$lambda.min)\n",
    "# Display regression coefficients\n",
    "head(sort(coef(model.ridge),decreasing = T),10)\n",
    "# Make predictions on the test data\n",
    "x.test <- model.matrix(count ~., test.data)[,-1]\n",
    "predictions <- model.ridge %>% predict(x.test) %>% as.vector()\n",
    "# Model performance metrics\n",
    "data.frame(\n",
    "  RMSE = RMSE(predictions, test.data$count),\n",
    "  Rsquare = R2(predictions, test.data$count)\n",
    ")"
   ]
  },
  {
   "cell_type": "markdown",
   "metadata": {},
   "source": [
    "### RMSE = 0.9371335 for lasso "
   ]
  },
  {
   "cell_type": "markdown",
   "metadata": {},
   "source": [
    "#### rmse: Lasso < Ridge < MLR \n",
    "#### Laso also helps with variable selection\n"
   ]
  },
  {
   "cell_type": "code",
   "execution_count": 96,
   "metadata": {},
   "outputs": [
    {
     "data": {
      "text/html": [
       "<ol class=list-inline>\n",
       "\t<li>15</li>\n",
       "\t<li>41</li>\n",
       "\t<li>46</li>\n",
       "\t<li>48</li>\n",
       "\t<li>54</li>\n",
       "\t<li>58</li>\n",
       "\t<li>60</li>\n",
       "\t<li>63</li>\n",
       "\t<li>64</li>\n",
       "\t<li>71</li>\n",
       "\t<li>73</li>\n",
       "\t<li>76</li>\n",
       "\t<li>77</li>\n",
       "\t<li>78</li>\n",
       "\t<li>79</li>\n",
       "\t<li>83</li>\n",
       "\t<li>85</li>\n",
       "\t<li>86</li>\n",
       "\t<li>88</li>\n",
       "\t<li>90</li>\n",
       "\t<li>93</li>\n",
       "\t<li>95</li>\n",
       "\t<li>97</li>\n",
       "\t<li>98</li>\n",
       "\t<li>104</li>\n",
       "\t<li>105</li>\n",
       "\t<li>112</li>\n",
       "\t<li>113</li>\n",
       "\t<li>118</li>\n",
       "\t<li>119</li>\n",
       "\t<li>120</li>\n",
       "\t<li>121</li>\n",
       "\t<li>125</li>\n",
       "\t<li>129</li>\n",
       "\t<li>131</li>\n",
       "\t<li>146</li>\n",
       "\t<li>153</li>\n",
       "\t<li>156</li>\n",
       "\t<li>158</li>\n",
       "\t<li>162</li>\n",
       "\t<li>166</li>\n",
       "\t<li>169</li>\n",
       "</ol>\n"
      ],
      "text/latex": [
       "\\begin{enumerate*}\n",
       "\\item 15\n",
       "\\item 41\n",
       "\\item 46\n",
       "\\item 48\n",
       "\\item 54\n",
       "\\item 58\n",
       "\\item 60\n",
       "\\item 63\n",
       "\\item 64\n",
       "\\item 71\n",
       "\\item 73\n",
       "\\item 76\n",
       "\\item 77\n",
       "\\item 78\n",
       "\\item 79\n",
       "\\item 83\n",
       "\\item 85\n",
       "\\item 86\n",
       "\\item 88\n",
       "\\item 90\n",
       "\\item 93\n",
       "\\item 95\n",
       "\\item 97\n",
       "\\item 98\n",
       "\\item 104\n",
       "\\item 105\n",
       "\\item 112\n",
       "\\item 113\n",
       "\\item 118\n",
       "\\item 119\n",
       "\\item 120\n",
       "\\item 121\n",
       "\\item 125\n",
       "\\item 129\n",
       "\\item 131\n",
       "\\item 146\n",
       "\\item 153\n",
       "\\item 156\n",
       "\\item 158\n",
       "\\item 162\n",
       "\\item 166\n",
       "\\item 169\n",
       "\\end{enumerate*}\n"
      ],
      "text/markdown": [
       "1. 15\n",
       "2. 41\n",
       "3. 46\n",
       "4. 48\n",
       "5. 54\n",
       "6. 58\n",
       "7. 60\n",
       "8. 63\n",
       "9. 64\n",
       "10. 71\n",
       "11. 73\n",
       "12. 76\n",
       "13. 77\n",
       "14. 78\n",
       "15. 79\n",
       "16. 83\n",
       "17. 85\n",
       "18. 86\n",
       "19. 88\n",
       "20. 90\n",
       "21. 93\n",
       "22. 95\n",
       "23. 97\n",
       "24. 98\n",
       "25. 104\n",
       "26. 105\n",
       "27. 112\n",
       "28. 113\n",
       "29. 118\n",
       "30. 119\n",
       "31. 120\n",
       "32. 121\n",
       "33. 125\n",
       "34. 129\n",
       "35. 131\n",
       "36. 146\n",
       "37. 153\n",
       "38. 156\n",
       "39. 158\n",
       "40. 162\n",
       "41. 166\n",
       "42. 169\n",
       "\n",
       "\n"
      ],
      "text/plain": [
       " [1]  15  41  46  48  54  58  60  63  64  71  73  76  77  78  79  83  85  86  88\n",
       "[20]  90  93  95  97  98 104 105 112 113 118 119 120 121 125 129 131 146 153 156\n",
       "[39] 158 162 166 169"
      ]
     },
     "metadata": {},
     "output_type": "display_data"
    }
   ],
   "source": [
    "which(coef(model.ridge)==0) ## lasso has penalize the feature coef to zero "
   ]
  },
  {
   "cell_type": "markdown",
   "metadata": {},
   "source": [
    "#### Note that by default, the function glmnet() standardizes variables so that their scales are comparable. However, the coefficients are always returned on the original scale.\n",
    "\n",
    "\n"
   ]
  },
  {
   "cell_type": "markdown",
   "metadata": {},
   "source": [
    "## Tune best Alpha and Lamda"
   ]
  },
  {
   "cell_type": "code",
   "execution_count": 117,
   "metadata": {},
   "outputs": [
    {
     "name": "stderr",
     "output_type": "stream",
     "text": [
      "Warning message in mclapply(argsList, FUN, mc.preschedule = preschedule, mc.set.seed = set.seed, :\n",
      "“scheduled cores 1, 3 did not deliver results, all values of the jobs will be affected”"
     ]
    },
    {
     "data": {
      "text/html": [
       "<table>\n",
       "<caption>A data.frame: 1 × 2</caption>\n",
       "<thead>\n",
       "\t<tr><th></th><th scope=col>alpha</th><th scope=col>lambda</th></tr>\n",
       "\t<tr><th></th><th scope=col>&lt;dbl&gt;</th><th scope=col>&lt;dbl&gt;</th></tr>\n",
       "</thead>\n",
       "<tbody>\n",
       "\t<tr><th scope=row>34</th><td>0.8</td><td>0.0009504264</td></tr>\n",
       "</tbody>\n",
       "</table>\n"
      ],
      "text/latex": [
       "A data.frame: 1 × 2\n",
       "\\begin{tabular}{r|ll}\n",
       "  & alpha & lambda\\\\\n",
       "  & <dbl> & <dbl>\\\\\n",
       "\\hline\n",
       "\t34 & 0.8 & 0.0009504264\\\\\n",
       "\\end{tabular}\n"
      ],
      "text/markdown": [
       "\n",
       "A data.frame: 1 × 2\n",
       "\n",
       "| <!--/--> | alpha &lt;dbl&gt; | lambda &lt;dbl&gt; |\n",
       "|---|---|---|\n",
       "| 34 | 0.8 | 0.0009504264 |\n",
       "\n"
      ],
      "text/plain": [
       "   alpha lambda      \n",
       "34 0.8   0.0009504264"
      ]
     },
     "metadata": {},
     "output_type": "display_data"
    }
   ],
   "source": [
    "# Build the model using the training set\n",
    "set.seed(123)\n",
    "model.ela <- train(\n",
    "  count ~., data = train.data, method = \"glmnet\",\n",
    "  trControl = trainControl(\"cv\", number = 10),\n",
    "  tuneLength = 10\n",
    ")\n",
    "# Best tuning parameter\n",
    "model.ela$bestTune"
   ]
  },
  {
   "cell_type": "code",
   "execution_count": 113,
   "metadata": {},
   "outputs": [
    {
     "data": {
      "text/html": [
       "<table>\n",
       "<caption>A data.frame: 1 × 2</caption>\n",
       "<thead>\n",
       "\t<tr><th></th><th scope=col>alpha</th><th scope=col>lambda</th></tr>\n",
       "\t<tr><th></th><th scope=col>&lt;dbl&gt;</th><th scope=col>&lt;dbl&gt;</th></tr>\n",
       "</thead>\n",
       "<tbody>\n",
       "\t<tr><th scope=row>84</th><td>0.9</td><td>0.0009504264</td></tr>\n",
       "</tbody>\n",
       "</table>\n"
      ],
      "text/latex": [
       "A data.frame: 1 × 2\n",
       "\\begin{tabular}{r|ll}\n",
       "  & alpha & lambda\\\\\n",
       "  & <dbl> & <dbl>\\\\\n",
       "\\hline\n",
       "\t84 & 0.9 & 0.0009504264\\\\\n",
       "\\end{tabular}\n"
      ],
      "text/markdown": [
       "\n",
       "A data.frame: 1 × 2\n",
       "\n",
       "| <!--/--> | alpha &lt;dbl&gt; | lambda &lt;dbl&gt; |\n",
       "|---|---|---|\n",
       "| 84 | 0.9 | 0.0009504264 |\n",
       "\n"
      ],
      "text/plain": [
       "   alpha lambda      \n",
       "84 0.9   0.0009504264"
      ]
     },
     "metadata": {},
     "output_type": "display_data"
    }
   ],
   "source": [
    "#t8 84\t0.9\t0.0009504264\n"
   ]
  },
  {
   "cell_type": "code",
   "execution_count": 116,
   "metadata": {},
   "outputs": [
    {
     "data": {
      "text/html": [
       "<table>\n",
       "<caption>A data.frame: 1 × 2</caption>\n",
       "<thead>\n",
       "\t<tr><th></th><th scope=col>alpha</th><th scope=col>lambda</th></tr>\n",
       "\t<tr><th></th><th scope=col>&lt;dbl&gt;</th><th scope=col>&lt;dbl&gt;</th></tr>\n",
       "</thead>\n",
       "<tbody>\n",
       "\t<tr><th scope=row>74</th><td>0.8</td><td>0.0009504264</td></tr>\n",
       "</tbody>\n",
       "</table>\n"
      ],
      "text/latex": [
       "A data.frame: 1 × 2\n",
       "\\begin{tabular}{r|ll}\n",
       "  & alpha & lambda\\\\\n",
       "  & <dbl> & <dbl>\\\\\n",
       "\\hline\n",
       "\t74 & 0.8 & 0.0009504264\\\\\n",
       "\\end{tabular}\n"
      ],
      "text/markdown": [
       "\n",
       "A data.frame: 1 × 2\n",
       "\n",
       "| <!--/--> | alpha &lt;dbl&gt; | lambda &lt;dbl&gt; |\n",
       "|---|---|---|\n",
       "| 74 | 0.8 | 0.0009504264 |\n",
       "\n"
      ],
      "text/plain": [
       "   alpha lambda      \n",
       "74 0.8   0.0009504264"
      ]
     },
     "metadata": {},
     "output_type": "display_data"
    }
   ],
   "source": [
    "t5 # 74\t0.8\t0.0009504264\n"
   ]
  },
  {
   "cell_type": "code",
   "execution_count": null,
   "metadata": {},
   "outputs": [],
   "source": []
  },
  {
   "cell_type": "code",
   "execution_count": 119,
   "metadata": {},
   "outputs": [
    {
     "name": "stderr",
     "output_type": "stream",
     "text": [
      "<sparse>[ <logic> ] : .M.sub.i.logical() maybe inefficient\n"
     ]
    },
    {
     "data": {
      "text/html": [
       "<ol class=list-inline>\n",
       "\t<li>0.224648578228056</li>\n",
       "\t<li>0.171239423076665</li>\n",
       "\t<li>0.160355098998045</li>\n",
       "\t<li>0.133108163464907</li>\n",
       "\t<li>0.0857462664564901</li>\n",
       "\t<li>0.0760381145890941</li>\n",
       "\t<li>0.0675009283247845</li>\n",
       "\t<li>0.0507175638358838</li>\n",
       "\t<li>0.0385398290651089</li>\n",
       "\t<li>0.0379407962600454</li>\n",
       "</ol>\n"
      ],
      "text/latex": [
       "\\begin{enumerate*}\n",
       "\\item 0.224648578228056\n",
       "\\item 0.171239423076665\n",
       "\\item 0.160355098998045\n",
       "\\item 0.133108163464907\n",
       "\\item 0.0857462664564901\n",
       "\\item 0.0760381145890941\n",
       "\\item 0.0675009283247845\n",
       "\\item 0.0507175638358838\n",
       "\\item 0.0385398290651089\n",
       "\\item 0.0379407962600454\n",
       "\\end{enumerate*}\n"
      ],
      "text/markdown": [
       "1. 0.224648578228056\n",
       "2. 0.171239423076665\n",
       "3. 0.160355098998045\n",
       "4. 0.133108163464907\n",
       "5. 0.0857462664564901\n",
       "6. 0.0760381145890941\n",
       "7. 0.0675009283247845\n",
       "8. 0.0507175638358838\n",
       "9. 0.0385398290651089\n",
       "10. 0.0379407962600454\n",
       "\n",
       "\n"
      ],
      "text/plain": [
       " [1] 0.22464858 0.17123942 0.16035510 0.13310816 0.08574627 0.07603811\n",
       " [7] 0.06750093 0.05071756 0.03853983 0.03794080"
      ]
     },
     "metadata": {},
     "output_type": "display_data"
    }
   ],
   "source": [
    "model.best.ela <- glmnet(x, y, alpha = 0.8, lambda = 0.0009504264)\n",
    "# Dsiplay regression coefficients\n",
    "head(sort(coef(model.best.ela),decreasing = T),10)"
   ]
  },
  {
   "cell_type": "code",
   "execution_count": 120,
   "metadata": {},
   "outputs": [
    {
     "data": {
      "text/html": [
       "<table>\n",
       "<caption>A data.frame: 1 × 2</caption>\n",
       "<thead>\n",
       "\t<tr><th scope=col>RMSE</th><th scope=col>Rsquare</th></tr>\n",
       "\t<tr><th scope=col>&lt;dbl&gt;</th><th scope=col>&lt;dbl&gt;</th></tr>\n",
       "</thead>\n",
       "<tbody>\n",
       "\t<tr><td>0.9370821</td><td>0.08876383</td></tr>\n",
       "</tbody>\n",
       "</table>\n"
      ],
      "text/latex": [
       "A data.frame: 1 × 2\n",
       "\\begin{tabular}{r|ll}\n",
       " RMSE & Rsquare\\\\\n",
       " <dbl> & <dbl>\\\\\n",
       "\\hline\n",
       "\t 0.9370821 & 0.08876383\\\\\n",
       "\\end{tabular}\n"
      ],
      "text/markdown": [
       "\n",
       "A data.frame: 1 × 2\n",
       "\n",
       "| RMSE &lt;dbl&gt; | Rsquare &lt;dbl&gt; |\n",
       "|---|---|\n",
       "| 0.9370821 | 0.08876383 |\n",
       "\n"
      ],
      "text/plain": [
       "  RMSE      Rsquare   \n",
       "1 0.9370821 0.08876383"
      ]
     },
     "metadata": {},
     "output_type": "display_data"
    }
   ],
   "source": [
    "# Make predictions on the test data\n",
    "x.test <- model.matrix(count ~., test.data)[,-1]\n",
    "predictions <- model.best.ela %>% predict(x.test) %>% as.vector()\n",
    "# Model performance metrics\n",
    "data.frame(\n",
    "  RMSE = RMSE(predictions, test.data$count),\n",
    "  Rsquare = R2(predictions, test.data$count)\n",
    ")"
   ]
  },
  {
   "cell_type": "markdown",
   "metadata": {},
   "source": [
    "### now the RMSE 0.9370821\n",
    "### Rsquare 0.08876383"
   ]
  },
  {
   "cell_type": "code",
   "execution_count": 123,
   "metadata": {},
   "outputs": [],
   "source": [
    "#?R2()"
   ]
  },
  {
   "cell_type": "code",
   "execution_count": 137,
   "metadata": {
    "scrolled": true
   },
   "outputs": [],
   "source": [
    "\n",
    "beta_net_ela=cbind(as.data.frame(x=colnames(x),stringsAsFactors = F),as.data.frame(x=as.vector(model.best.ela$beta)))\n",
    "colnames(beta_net_ela)=c(\"variable\",\"beta\")\n"
   ]
  },
  {
   "cell_type": "code",
   "execution_count": 142,
   "metadata": {},
   "outputs": [],
   "source": [
    "removed_var=beta_net_ela[abs(beta_net_ela$beta)==0,]\n",
    "glmnet_var=beta_net_ela[abs(beta_net_ela$beta)>0,]"
   ]
  },
  {
   "cell_type": "code",
   "execution_count": 145,
   "metadata": {},
   "outputs": [
    {
     "data": {
      "text/html": [
       "<ol class=list-inline>\n",
       "\t<li>'`135-0.0`'</li>\n",
       "\t<li>'`1873-0.0`'</li>\n",
       "\t<li>'`2277-0.0`'</li>\n",
       "\t<li>'`3062-0.0`'</li>\n",
       "\t<li>'`20010-0.0`'</li>\n",
       "\t<li>'`20075-0.0`'</li>\n",
       "\t<li>'`20256-0.0`'</li>\n",
       "\t<li>'`21001-0.0`'</li>\n",
       "\t<li>'`21002-0.0`'</li>\n",
       "\t<li>'`22702-0.0`'</li>\n",
       "\t<li>'`23098-0.0`'</li>\n",
       "\t<li>'`23101-0.0`'</li>\n",
       "\t<li>'`23102-0.0`'</li>\n",
       "\t<li>'`23106-0.0`'</li>\n",
       "\t<li>'`23107-0.0`'</li>\n",
       "\t<li>'`23113-0.0`'</li>\n",
       "\t<li>'`23114-0.0`'</li>\n",
       "\t<li>'`23116-0.0`'</li>\n",
       "\t<li>'`23118-0.0`'</li>\n",
       "\t<li>'`23121-0.0`'</li>\n",
       "\t<li>'`23123-0.0`'</li>\n",
       "\t<li>'`23125-0.0`'</li>\n",
       "\t<li>'`23126-0.0`'</li>\n",
       "\t<li>'`24005-0.0`'</li>\n",
       "\t<li>'`24012-0.0`'</li>\n",
       "\t<li>'`24013-0.0`'</li>\n",
       "\t<li>'`24019-0.0`'</li>\n",
       "\t<li>'`24020-0.0`'</li>\n",
       "\t<li>'`24021-0.0`'</li>\n",
       "\t<li>'`24022-0.0`'</li>\n",
       "\t<li>'`24503-0.0`'</li>\n",
       "\t<li>'`24507-0.0`'</li>\n",
       "\t<li>'`26410-0.0`'</li>\n",
       "\t<li>'`22009-0.16`'</li>\n",
       "\t<li>'`22009-0.26`'</li>\n",
       "\t<li>'`22009-0.28`'</li>\n",
       "\t<li>'`22009-0.32`'</li>\n",
       "\t<li>'`22009-0.36`'</li>\n",
       "\t<li>'`22009-0.39`'</li>\n",
       "</ol>\n"
      ],
      "text/latex": [
       "\\begin{enumerate*}\n",
       "\\item '`135-0.0`'\n",
       "\\item '`1873-0.0`'\n",
       "\\item '`2277-0.0`'\n",
       "\\item '`3062-0.0`'\n",
       "\\item '`20010-0.0`'\n",
       "\\item '`20075-0.0`'\n",
       "\\item '`20256-0.0`'\n",
       "\\item '`21001-0.0`'\n",
       "\\item '`21002-0.0`'\n",
       "\\item '`22702-0.0`'\n",
       "\\item '`23098-0.0`'\n",
       "\\item '`23101-0.0`'\n",
       "\\item '`23102-0.0`'\n",
       "\\item '`23106-0.0`'\n",
       "\\item '`23107-0.0`'\n",
       "\\item '`23113-0.0`'\n",
       "\\item '`23114-0.0`'\n",
       "\\item '`23116-0.0`'\n",
       "\\item '`23118-0.0`'\n",
       "\\item '`23121-0.0`'\n",
       "\\item '`23123-0.0`'\n",
       "\\item '`23125-0.0`'\n",
       "\\item '`23126-0.0`'\n",
       "\\item '`24005-0.0`'\n",
       "\\item '`24012-0.0`'\n",
       "\\item '`24013-0.0`'\n",
       "\\item '`24019-0.0`'\n",
       "\\item '`24020-0.0`'\n",
       "\\item '`24021-0.0`'\n",
       "\\item '`24022-0.0`'\n",
       "\\item '`24503-0.0`'\n",
       "\\item '`24507-0.0`'\n",
       "\\item '`26410-0.0`'\n",
       "\\item '`22009-0.16`'\n",
       "\\item '`22009-0.26`'\n",
       "\\item '`22009-0.28`'\n",
       "\\item '`22009-0.32`'\n",
       "\\item '`22009-0.36`'\n",
       "\\item '`22009-0.39`'\n",
       "\\end{enumerate*}\n"
      ],
      "text/markdown": [
       "1. '`135-0.0`'\n",
       "2. '`1873-0.0`'\n",
       "3. '`2277-0.0`'\n",
       "4. '`3062-0.0`'\n",
       "5. '`20010-0.0`'\n",
       "6. '`20075-0.0`'\n",
       "7. '`20256-0.0`'\n",
       "8. '`21001-0.0`'\n",
       "9. '`21002-0.0`'\n",
       "10. '`22702-0.0`'\n",
       "11. '`23098-0.0`'\n",
       "12. '`23101-0.0`'\n",
       "13. '`23102-0.0`'\n",
       "14. '`23106-0.0`'\n",
       "15. '`23107-0.0`'\n",
       "16. '`23113-0.0`'\n",
       "17. '`23114-0.0`'\n",
       "18. '`23116-0.0`'\n",
       "19. '`23118-0.0`'\n",
       "20. '`23121-0.0`'\n",
       "21. '`23123-0.0`'\n",
       "22. '`23125-0.0`'\n",
       "23. '`23126-0.0`'\n",
       "24. '`24005-0.0`'\n",
       "25. '`24012-0.0`'\n",
       "26. '`24013-0.0`'\n",
       "27. '`24019-0.0`'\n",
       "28. '`24020-0.0`'\n",
       "29. '`24021-0.0`'\n",
       "30. '`24022-0.0`'\n",
       "31. '`24503-0.0`'\n",
       "32. '`24507-0.0`'\n",
       "33. '`26410-0.0`'\n",
       "34. '`22009-0.16`'\n",
       "35. '`22009-0.26`'\n",
       "36. '`22009-0.28`'\n",
       "37. '`22009-0.32`'\n",
       "38. '`22009-0.36`'\n",
       "39. '`22009-0.39`'\n",
       "\n",
       "\n"
      ],
      "text/plain": [
       " [1] \"`135-0.0`\"    \"`1873-0.0`\"   \"`2277-0.0`\"   \"`3062-0.0`\"   \"`20010-0.0`\" \n",
       " [6] \"`20075-0.0`\"  \"`20256-0.0`\"  \"`21001-0.0`\"  \"`21002-0.0`\"  \"`22702-0.0`\" \n",
       "[11] \"`23098-0.0`\"  \"`23101-0.0`\"  \"`23102-0.0`\"  \"`23106-0.0`\"  \"`23107-0.0`\" \n",
       "[16] \"`23113-0.0`\"  \"`23114-0.0`\"  \"`23116-0.0`\"  \"`23118-0.0`\"  \"`23121-0.0`\" \n",
       "[21] \"`23123-0.0`\"  \"`23125-0.0`\"  \"`23126-0.0`\"  \"`24005-0.0`\"  \"`24012-0.0`\" \n",
       "[26] \"`24013-0.0`\"  \"`24019-0.0`\"  \"`24020-0.0`\"  \"`24021-0.0`\"  \"`24022-0.0`\" \n",
       "[31] \"`24503-0.0`\"  \"`24507-0.0`\"  \"`26410-0.0`\"  \"`22009-0.16`\" \"`22009-0.26`\"\n",
       "[36] \"`22009-0.28`\" \"`22009-0.32`\" \"`22009-0.36`\" \"`22009-0.39`\""
      ]
     },
     "metadata": {},
     "output_type": "display_data"
    }
   ],
   "source": [
    "removed_var[,1]"
   ]
  },
  {
   "cell_type": "code",
   "execution_count": 148,
   "metadata": {},
   "outputs": [
    {
     "data": {
      "text/html": [
       "<table>\n",
       "<caption>A data.frame: 30 × 2</caption>\n",
       "<thead>\n",
       "\t<tr><th></th><th scope=col>variable</th><th scope=col>beta</th></tr>\n",
       "\t<tr><th></th><th scope=col>&lt;chr&gt;</th><th scope=col>&lt;dbl&gt;</th></tr>\n",
       "</thead>\n",
       "<tbody>\n",
       "\t<tr><th scope=row>2</th><td>`34-0.0`   </td><td>0.22464858</td></tr>\n",
       "\t<tr><th scope=row>5</th><td>`48-0.0`   </td><td>0.17123942</td></tr>\n",
       "\t<tr><th scope=row>64</th><td>`21003-0.0`</td><td>0.16035510</td></tr>\n",
       "\t<tr><th scope=row>11</th><td>`102-0.0`  </td><td>0.13310816</td></tr>\n",
       "\t<tr><th scope=row>74</th><td>`23100-0.0`</td><td>0.08574627</td></tr>\n",
       "\t<tr><th scope=row>90</th><td>`23119-0.0`</td><td>0.07603811</td></tr>\n",
       "\t<tr><th scope=row>15</th><td>`137-0.0`  </td><td>0.06750093</td></tr>\n",
       "\t<tr><th scope=row>51</th><td>`4080-0.0` </td><td>0.05071756</td></tr>\n",
       "\t<tr><th scope=row>61</th><td>`20258-0.0`</td><td>0.03853983</td></tr>\n",
       "\t<tr><th scope=row>79</th><td>`23108-0.0`</td><td>0.03794080</td></tr>\n",
       "\t<tr><th scope=row>16</th><td>`189-0.0`  </td><td>0.02765850</td></tr>\n",
       "\t<tr><th scope=row>99</th><td>`23128-0.0`</td><td>0.02681448</td></tr>\n",
       "\t<tr><th scope=row>25</th><td>`1070-0.0` </td><td>0.02567171</td></tr>\n",
       "\t<tr><th scope=row>60</th><td>`20257-0.0`</td><td>0.02162128</td></tr>\n",
       "\t<tr><th scope=row>110</th><td>`24011-0.0`</td><td>0.02064749</td></tr>\n",
       "\t<tr><th scope=row>131</th><td>`26411-0.0`</td><td>0.01974037</td></tr>\n",
       "\t<tr><th scope=row>73</th><td>`23099-0.0`</td><td>0.01947282</td></tr>\n",
       "\t<tr><th scope=row>100</th><td>`23129-0.0`</td><td>0.01820520</td></tr>\n",
       "\t<tr><th scope=row>116</th><td>`24018-0.0`</td><td>0.01473606</td></tr>\n",
       "\t<tr><th scope=row>4</th><td>`47-0.0`   </td><td>0.01372814</td></tr>\n",
       "\t<tr><th scope=row>134</th><td>`26414-0.0`</td><td>0.01340164</td></tr>\n",
       "\t<tr><th scope=row>55</th><td>`20015-0.0`</td><td>0.01308477</td></tr>\n",
       "\t<tr><th scope=row>26</th><td>`1080-0.0` </td><td>0.01307246</td></tr>\n",
       "\t<tr><th scope=row>12</th><td>`129-0.0`  </td><td>0.01279798</td></tr>\n",
       "\t<tr><th scope=row>21</th><td>`894-0.0`  </td><td>0.01239757</td></tr>\n",
       "\t<tr><th scope=row>36</th><td>`1488-0.0` </td><td>0.01214522</td></tr>\n",
       "\t<tr><th scope=row>46</th><td>`3061-0.0` </td><td>0.01169992</td></tr>\n",
       "\t<tr><th scope=row>23</th><td>`1050-0.0` </td><td>0.01154893</td></tr>\n",
       "\t<tr><th scope=row>44</th><td>`2217-0.0` </td><td>0.01059336</td></tr>\n",
       "\t<tr><th scope=row>121</th><td>`24500-0.0`</td><td>0.01040633</td></tr>\n",
       "</tbody>\n",
       "</table>\n"
      ],
      "text/latex": [
       "A data.frame: 30 × 2\n",
       "\\begin{tabular}{r|ll}\n",
       "  & variable & beta\\\\\n",
       "  & <chr> & <dbl>\\\\\n",
       "\\hline\n",
       "\t2 & `34-0.0`    & 0.22464858\\\\\n",
       "\t5 & `48-0.0`    & 0.17123942\\\\\n",
       "\t64 & `21003-0.0` & 0.16035510\\\\\n",
       "\t11 & `102-0.0`   & 0.13310816\\\\\n",
       "\t74 & `23100-0.0` & 0.08574627\\\\\n",
       "\t90 & `23119-0.0` & 0.07603811\\\\\n",
       "\t15 & `137-0.0`   & 0.06750093\\\\\n",
       "\t51 & `4080-0.0`  & 0.05071756\\\\\n",
       "\t61 & `20258-0.0` & 0.03853983\\\\\n",
       "\t79 & `23108-0.0` & 0.03794080\\\\\n",
       "\t16 & `189-0.0`   & 0.02765850\\\\\n",
       "\t99 & `23128-0.0` & 0.02681448\\\\\n",
       "\t25 & `1070-0.0`  & 0.02567171\\\\\n",
       "\t60 & `20257-0.0` & 0.02162128\\\\\n",
       "\t110 & `24011-0.0` & 0.02064749\\\\\n",
       "\t131 & `26411-0.0` & 0.01974037\\\\\n",
       "\t73 & `23099-0.0` & 0.01947282\\\\\n",
       "\t100 & `23129-0.0` & 0.01820520\\\\\n",
       "\t116 & `24018-0.0` & 0.01473606\\\\\n",
       "\t4 & `47-0.0`    & 0.01372814\\\\\n",
       "\t134 & `26414-0.0` & 0.01340164\\\\\n",
       "\t55 & `20015-0.0` & 0.01308477\\\\\n",
       "\t26 & `1080-0.0`  & 0.01307246\\\\\n",
       "\t12 & `129-0.0`   & 0.01279798\\\\\n",
       "\t21 & `894-0.0`   & 0.01239757\\\\\n",
       "\t36 & `1488-0.0`  & 0.01214522\\\\\n",
       "\t46 & `3061-0.0`  & 0.01169992\\\\\n",
       "\t23 & `1050-0.0`  & 0.01154893\\\\\n",
       "\t44 & `2217-0.0`  & 0.01059336\\\\\n",
       "\t121 & `24500-0.0` & 0.01040633\\\\\n",
       "\\end{tabular}\n"
      ],
      "text/markdown": [
       "\n",
       "A data.frame: 30 × 2\n",
       "\n",
       "| <!--/--> | variable &lt;chr&gt; | beta &lt;dbl&gt; |\n",
       "|---|---|---|\n",
       "| 2 | `34-0.0`    | 0.22464858 |\n",
       "| 5 | `48-0.0`    | 0.17123942 |\n",
       "| 64 | `21003-0.0` | 0.16035510 |\n",
       "| 11 | `102-0.0`   | 0.13310816 |\n",
       "| 74 | `23100-0.0` | 0.08574627 |\n",
       "| 90 | `23119-0.0` | 0.07603811 |\n",
       "| 15 | `137-0.0`   | 0.06750093 |\n",
       "| 51 | `4080-0.0`  | 0.05071756 |\n",
       "| 61 | `20258-0.0` | 0.03853983 |\n",
       "| 79 | `23108-0.0` | 0.03794080 |\n",
       "| 16 | `189-0.0`   | 0.02765850 |\n",
       "| 99 | `23128-0.0` | 0.02681448 |\n",
       "| 25 | `1070-0.0`  | 0.02567171 |\n",
       "| 60 | `20257-0.0` | 0.02162128 |\n",
       "| 110 | `24011-0.0` | 0.02064749 |\n",
       "| 131 | `26411-0.0` | 0.01974037 |\n",
       "| 73 | `23099-0.0` | 0.01947282 |\n",
       "| 100 | `23129-0.0` | 0.01820520 |\n",
       "| 116 | `24018-0.0` | 0.01473606 |\n",
       "| 4 | `47-0.0`    | 0.01372814 |\n",
       "| 134 | `26414-0.0` | 0.01340164 |\n",
       "| 55 | `20015-0.0` | 0.01308477 |\n",
       "| 26 | `1080-0.0`  | 0.01307246 |\n",
       "| 12 | `129-0.0`   | 0.01279798 |\n",
       "| 21 | `894-0.0`   | 0.01239757 |\n",
       "| 36 | `1488-0.0`  | 0.01214522 |\n",
       "| 46 | `3061-0.0`  | 0.01169992 |\n",
       "| 23 | `1050-0.0`  | 0.01154893 |\n",
       "| 44 | `2217-0.0`  | 0.01059336 |\n",
       "| 121 | `24500-0.0` | 0.01040633 |\n",
       "\n"
      ],
      "text/plain": [
       "    variable    beta      \n",
       "2   `34-0.0`    0.22464858\n",
       "5   `48-0.0`    0.17123942\n",
       "64  `21003-0.0` 0.16035510\n",
       "11  `102-0.0`   0.13310816\n",
       "74  `23100-0.0` 0.08574627\n",
       "90  `23119-0.0` 0.07603811\n",
       "15  `137-0.0`   0.06750093\n",
       "51  `4080-0.0`  0.05071756\n",
       "61  `20258-0.0` 0.03853983\n",
       "79  `23108-0.0` 0.03794080\n",
       "16  `189-0.0`   0.02765850\n",
       "99  `23128-0.0` 0.02681448\n",
       "25  `1070-0.0`  0.02567171\n",
       "60  `20257-0.0` 0.02162128\n",
       "110 `24011-0.0` 0.02064749\n",
       "131 `26411-0.0` 0.01974037\n",
       "73  `23099-0.0` 0.01947282\n",
       "100 `23129-0.0` 0.01820520\n",
       "116 `24018-0.0` 0.01473606\n",
       "4   `47-0.0`    0.01372814\n",
       "134 `26414-0.0` 0.01340164\n",
       "55  `20015-0.0` 0.01308477\n",
       "26  `1080-0.0`  0.01307246\n",
       "12  `129-0.0`   0.01279798\n",
       "21  `894-0.0`   0.01239757\n",
       "36  `1488-0.0`  0.01214522\n",
       "46  `3061-0.0`  0.01169992\n",
       "23  `1050-0.0`  0.01154893\n",
       "44  `2217-0.0`  0.01059336\n",
       "121 `24500-0.0` 0.01040633"
      ]
     },
     "metadata": {},
     "output_type": "display_data"
    }
   ],
   "source": [
    "glmnet_var[order(glmnet_var$beta,decreasing = T),] %>% head(.,30)"
   ]
  },
  {
   "cell_type": "markdown",
   "metadata": {},
   "source": [
    "1. Year of birth\n",
    "2. Waist circumference\n",
    "3. Age when attended assessment centre\n",
    "4. Pulse rate, automated reading\n",
    "5. Whole body fat mass\n",
    "6. Arm fat percentage\n",
    "7. Townsend deprivation index at recruitment\n",
    "8. Systolic blood pressure, automated reading\n",
    "9. FEV1/ FVC ratio Z-score\n",
    "10. Impedance of leg (left)\n",
    "11. Townsend deprivation index at recruitment\n",
    "12. Trunk fat mass\n",
    "13. Time spent watching television\n",
    "14. Forced vital capacity (FVC) Z-score\n",
    "15. Traffic intensity on the nearest major road\n",
    "16. Income score (England)\n",
    "17. Body fat percentage\n",
    "18. Trunk fat-free mass\n",
    "19. Nitrogen dioxide air pollution; 2007\n",
    "20. Hand grip strength \n",
    "21. Education score (England)\n",
    "22. Sitting height\n",
    "23. Time spent using computer\n",
    "24. Place of birth in UK - north co-ordinate\n",
    "25. Duration of moderate activity\n",
    "26. Tea intake\n",
    "27. Acceptability of each blow result\n",
    "28. Time spend outdoors in summer\n",
    "29. Age started wearing glasses or contact lenses\n",
    "30. Greenspace percentage, buffer 1000m"
   ]
  },
  {
   "cell_type": "code",
   "execution_count": null,
   "metadata": {},
   "outputs": [],
   "source": []
  },
  {
   "cell_type": "markdown",
   "metadata": {},
   "source": [
    "## Adjust R Square Values"
   ]
  },
  {
   "cell_type": "code",
   "execution_count": 152,
   "metadata": {},
   "outputs": [
    {
     "data": {
      "text/html": [
       "<ol class=list-inline>\n",
       "\t<li>170</li>\n",
       "\t<li>2</li>\n",
       "</ol>\n"
      ],
      "text/latex": [
       "\\begin{enumerate*}\n",
       "\\item 170\n",
       "\\item 2\n",
       "\\end{enumerate*}\n"
      ],
      "text/markdown": [
       "1. 170\n",
       "2. 2\n",
       "\n",
       "\n"
      ],
      "text/plain": [
       "[1] 170   2"
      ]
     },
     "metadata": {},
     "output_type": "display_data"
    }
   ],
   "source": [
    "r_square=(cbind(as.character(names(new_scale3)),r))\n",
    "colnames(r_square)=c(\"variable\",\"adj-r\")\n",
    "r_square=as.data.frame(r_square,stringsAsFactors = F)\n",
    "dim(r_square)\n"
   ]
  },
  {
   "cell_type": "code",
   "execution_count": 153,
   "metadata": {},
   "outputs": [
    {
     "data": {
      "text/html": [
       "<table>\n",
       "<caption>A data.frame: 6 × 2</caption>\n",
       "<thead>\n",
       "\t<tr><th scope=col>variable</th><th scope=col>adj-r</th></tr>\n",
       "\t<tr><th scope=col>&lt;chr&gt;</th><th scope=col>&lt;dbl&gt;</th></tr>\n",
       "</thead>\n",
       "<tbody>\n",
       "\t<tr><td>eid   </td><td>6.743052e-06</td></tr>\n",
       "\t<tr><td>34-0.0</td><td>5.192070e-04</td></tr>\n",
       "\t<tr><td>46-0.0</td><td>8.421712e-04</td></tr>\n",
       "\t<tr><td>47-0.0</td><td>7.720492e-04</td></tr>\n",
       "\t<tr><td>48-0.0</td><td>2.485185e-02</td></tr>\n",
       "\t<tr><td>49-0.0</td><td>1.059631e-02</td></tr>\n",
       "</tbody>\n",
       "</table>\n"
      ],
      "text/latex": [
       "A data.frame: 6 × 2\n",
       "\\begin{tabular}{r|ll}\n",
       " variable & adj-r\\\\\n",
       " <chr> & <dbl>\\\\\n",
       "\\hline\n",
       "\t eid    & 6.743052e-06\\\\\n",
       "\t 34-0.0 & 5.192070e-04\\\\\n",
       "\t 46-0.0 & 8.421712e-04\\\\\n",
       "\t 47-0.0 & 7.720492e-04\\\\\n",
       "\t 48-0.0 & 2.485185e-02\\\\\n",
       "\t 49-0.0 & 1.059631e-02\\\\\n",
       "\\end{tabular}\n"
      ],
      "text/markdown": [
       "\n",
       "A data.frame: 6 × 2\n",
       "\n",
       "| variable &lt;chr&gt; | adj-r &lt;dbl&gt; |\n",
       "|---|---|\n",
       "| eid    | 6.743052e-06 |\n",
       "| 34-0.0 | 5.192070e-04 |\n",
       "| 46-0.0 | 8.421712e-04 |\n",
       "| 47-0.0 | 7.720492e-04 |\n",
       "| 48-0.0 | 2.485185e-02 |\n",
       "| 49-0.0 | 1.059631e-02 |\n",
       "\n"
      ],
      "text/plain": [
       "  variable adj-r       \n",
       "1 eid      6.743052e-06\n",
       "2 34-0.0   5.192070e-04\n",
       "3 46-0.0   8.421712e-04\n",
       "4 47-0.0   7.720492e-04\n",
       "5 48-0.0   2.485185e-02\n",
       "6 49-0.0   1.059631e-02"
      ]
     },
     "metadata": {},
     "output_type": "display_data"
    },
    {
     "data": {
      "text/html": [
       "<ol class=list-inline>\n",
       "\t<li>-2.07615658420757e-06</li>\n",
       "\t<li>1</li>\n",
       "</ol>\n"
      ],
      "text/latex": [
       "\\begin{enumerate*}\n",
       "\\item -2.07615658420757e-06\n",
       "\\item 1\n",
       "\\end{enumerate*}\n"
      ],
      "text/markdown": [
       "1. -2.07615658420757e-06\n",
       "2. 1\n",
       "\n",
       "\n"
      ],
      "text/plain": [
       "[1] -2.076157e-06  1.000000e+00"
      ]
     },
     "metadata": {},
     "output_type": "display_data"
    },
    {
     "data": {
      "text/html": [
       "<ol class=list-inline>\n",
       "\t<li>21</li>\n",
       "\t<li>28</li>\n",
       "\t<li>111</li>\n",
       "\t<li>112</li>\n",
       "\t<li>118</li>\n",
       "\t<li>119</li>\n",
       "\t<li>120</li>\n",
       "\t<li>129</li>\n",
       "\t<li>140</li>\n",
       "\t<li>145</li>\n",
       "\t<li>149</li>\n",
       "\t<li>152</li>\n",
       "\t<li>154</li>\n",
       "\t<li>161</li>\n",
       "\t<li>164</li>\n",
       "\t<li>167</li>\n",
       "\t<li>170</li>\n",
       "</ol>\n"
      ],
      "text/latex": [
       "\\begin{enumerate*}\n",
       "\\item 21\n",
       "\\item 28\n",
       "\\item 111\n",
       "\\item 112\n",
       "\\item 118\n",
       "\\item 119\n",
       "\\item 120\n",
       "\\item 129\n",
       "\\item 140\n",
       "\\item 145\n",
       "\\item 149\n",
       "\\item 152\n",
       "\\item 154\n",
       "\\item 161\n",
       "\\item 164\n",
       "\\item 167\n",
       "\\item 170\n",
       "\\end{enumerate*}\n"
      ],
      "text/markdown": [
       "1. 21\n",
       "2. 28\n",
       "3. 111\n",
       "4. 112\n",
       "5. 118\n",
       "6. 119\n",
       "7. 120\n",
       "8. 129\n",
       "9. 140\n",
       "10. 145\n",
       "11. 149\n",
       "12. 152\n",
       "13. 154\n",
       "14. 161\n",
       "15. 164\n",
       "16. 167\n",
       "17. 170\n",
       "\n",
       "\n"
      ],
      "text/plain": [
       " [1]  21  28 111 112 118 119 120 129 140 145 149 152 154 161 164 167 170"
      ]
     },
     "metadata": {},
     "output_type": "display_data"
    },
    {
     "data": {
      "text/html": [
       "<table>\n",
       "<caption>A data.frame: 17 × 2</caption>\n",
       "<thead>\n",
       "\t<tr><th></th><th scope=col>variable</th><th scope=col>adj-r</th></tr>\n",
       "\t<tr><th></th><th scope=col>&lt;chr&gt;</th><th scope=col>&lt;dbl&gt;</th></tr>\n",
       "</thead>\n",
       "<tbody>\n",
       "\t<tr><th scope=row>21</th><td>894-0.0   </td><td>-2.076157e-06</td></tr>\n",
       "\t<tr><th scope=row>28</th><td>1160-0.0  </td><td>-1.245293e-06</td></tr>\n",
       "\t<tr><th scope=row>111</th><td>24012-0.0 </td><td>-1.941821e-06</td></tr>\n",
       "\t<tr><th scope=row>112</th><td>24013-0.0 </td><td>-9.283905e-07</td></tr>\n",
       "\t<tr><th scope=row>118</th><td>24020-0.0 </td><td>-1.744890e-06</td></tr>\n",
       "\t<tr><th scope=row>119</th><td>24021-0.0 </td><td>-1.742160e-06</td></tr>\n",
       "\t<tr><th scope=row>120</th><td>24022-0.0 </td><td>-1.745138e-06</td></tr>\n",
       "\t<tr><th scope=row>129</th><td>24508-0.0 </td><td>-1.879992e-06</td></tr>\n",
       "\t<tr><th scope=row>140</th><td>22009-0.10</td><td>-1.620699e-06</td></tr>\n",
       "\t<tr><th scope=row>145</th><td>22009-0.15</td><td>-1.493388e-06</td></tr>\n",
       "\t<tr><th scope=row>149</th><td>22009-0.19</td><td>-2.057424e-06</td></tr>\n",
       "\t<tr><th scope=row>152</th><td>22009-0.22</td><td>-8.545728e-07</td></tr>\n",
       "\t<tr><th scope=row>154</th><td>22009-0.24</td><td>-6.957546e-07</td></tr>\n",
       "\t<tr><th scope=row>161</th><td>22009-0.31</td><td>-1.543253e-06</td></tr>\n",
       "\t<tr><th scope=row>164</th><td>22009-0.34</td><td>-1.771204e-06</td></tr>\n",
       "\t<tr><th scope=row>167</th><td>22009-0.37</td><td>-1.926865e-06</td></tr>\n",
       "\t<tr><th scope=row>170</th><td>22009-0.40</td><td>-3.624955e-07</td></tr>\n",
       "</tbody>\n",
       "</table>\n"
      ],
      "text/latex": [
       "A data.frame: 17 × 2\n",
       "\\begin{tabular}{r|ll}\n",
       "  & variable & adj-r\\\\\n",
       "  & <chr> & <dbl>\\\\\n",
       "\\hline\n",
       "\t21 & 894-0.0    & -2.076157e-06\\\\\n",
       "\t28 & 1160-0.0   & -1.245293e-06\\\\\n",
       "\t111 & 24012-0.0  & -1.941821e-06\\\\\n",
       "\t112 & 24013-0.0  & -9.283905e-07\\\\\n",
       "\t118 & 24020-0.0  & -1.744890e-06\\\\\n",
       "\t119 & 24021-0.0  & -1.742160e-06\\\\\n",
       "\t120 & 24022-0.0  & -1.745138e-06\\\\\n",
       "\t129 & 24508-0.0  & -1.879992e-06\\\\\n",
       "\t140 & 22009-0.10 & -1.620699e-06\\\\\n",
       "\t145 & 22009-0.15 & -1.493388e-06\\\\\n",
       "\t149 & 22009-0.19 & -2.057424e-06\\\\\n",
       "\t152 & 22009-0.22 & -8.545728e-07\\\\\n",
       "\t154 & 22009-0.24 & -6.957546e-07\\\\\n",
       "\t161 & 22009-0.31 & -1.543253e-06\\\\\n",
       "\t164 & 22009-0.34 & -1.771204e-06\\\\\n",
       "\t167 & 22009-0.37 & -1.926865e-06\\\\\n",
       "\t170 & 22009-0.40 & -3.624955e-07\\\\\n",
       "\\end{tabular}\n"
      ],
      "text/markdown": [
       "\n",
       "A data.frame: 17 × 2\n",
       "\n",
       "| <!--/--> | variable &lt;chr&gt; | adj-r &lt;dbl&gt; |\n",
       "|---|---|---|\n",
       "| 21 | 894-0.0    | -2.076157e-06 |\n",
       "| 28 | 1160-0.0   | -1.245293e-06 |\n",
       "| 111 | 24012-0.0  | -1.941821e-06 |\n",
       "| 112 | 24013-0.0  | -9.283905e-07 |\n",
       "| 118 | 24020-0.0  | -1.744890e-06 |\n",
       "| 119 | 24021-0.0  | -1.742160e-06 |\n",
       "| 120 | 24022-0.0  | -1.745138e-06 |\n",
       "| 129 | 24508-0.0  | -1.879992e-06 |\n",
       "| 140 | 22009-0.10 | -1.620699e-06 |\n",
       "| 145 | 22009-0.15 | -1.493388e-06 |\n",
       "| 149 | 22009-0.19 | -2.057424e-06 |\n",
       "| 152 | 22009-0.22 | -8.545728e-07 |\n",
       "| 154 | 22009-0.24 | -6.957546e-07 |\n",
       "| 161 | 22009-0.31 | -1.543253e-06 |\n",
       "| 164 | 22009-0.34 | -1.771204e-06 |\n",
       "| 167 | 22009-0.37 | -1.926865e-06 |\n",
       "| 170 | 22009-0.40 | -3.624955e-07 |\n",
       "\n"
      ],
      "text/plain": [
       "    variable   adj-r        \n",
       "21  894-0.0    -2.076157e-06\n",
       "28  1160-0.0   -1.245293e-06\n",
       "111 24012-0.0  -1.941821e-06\n",
       "112 24013-0.0  -9.283905e-07\n",
       "118 24020-0.0  -1.744890e-06\n",
       "119 24021-0.0  -1.742160e-06\n",
       "120 24022-0.0  -1.745138e-06\n",
       "129 24508-0.0  -1.879992e-06\n",
       "140 22009-0.10 -1.620699e-06\n",
       "145 22009-0.15 -1.493388e-06\n",
       "149 22009-0.19 -2.057424e-06\n",
       "152 22009-0.22 -8.545728e-07\n",
       "154 22009-0.24 -6.957546e-07\n",
       "161 22009-0.31 -1.543253e-06\n",
       "164 22009-0.34 -1.771204e-06\n",
       "167 22009-0.37 -1.926865e-06\n",
       "170 22009-0.40 -3.624955e-07"
      ]
     },
     "metadata": {},
     "output_type": "display_data"
    }
   ],
   "source": [
    "r_square$`adj-r`=as.double(r_square$`adj-r`)\n",
    "head(r_square)\n",
    "range(r_square$`adj-r`)\n",
    "which(r_square$`adj-r`<0)\n",
    "r_square[c(which(r_square$`adj-r`<0)),]"
   ]
  },
  {
   "cell_type": "code",
   "execution_count": 155,
   "metadata": {},
   "outputs": [
    {
     "data": {
      "image/png": "[encoded data removed]",
      "text/plain": [
       "plot without title"
      ]
     },
     "metadata": {},
     "output_type": "display_data"
    }
   ],
   "source": [
    "barplot(r_square$`adj-r`[-138],col=\"blue\",ylim=c(0,0.034),horiz = F)\n",
    "par(mar=c(5,6,10,10)+.1)\n",
    "abline(h = 0.026,col=\"green\")\n",
    "abline(h = 0.024,col=\"orange\")\n",
    "abline(h = 0.022,col=\"purple\")\n",
    "abline(h = 0.020,col=\"red\")\n",
    "abline(h = 0.018,col=\"yellow\")\n",
    "abline(h = 0.016,col=\"green\")\n",
    "abline(h = 0.014,col=\"pink\")\n",
    "abline(h = 0.012,col=\"brown\")\n",
    "abline(h = 0.010,col=\"navy\")\n",
    "axis(4, at=0.026,labels=0.026,las=2)\n",
    "axis(4, at=0.024,labels=0.024,las=2)\n",
    "axis(4, at=0.022,labels=0.022,las=2)\n",
    "axis(4, at=0.020,labels=\"0.020\",las=2)\n",
    "axis(4, at=0.018,labels=0.018,las=2)\n",
    "axis(4, at=0.016,labels=0.016,las=2)\n",
    "axis(4, at=0.014,labels=0.014,las=2)\n",
    "axis(4, at=0.012,labels=0.012,las=2)\n",
    "axis(4, at=0.0100,labels=\"0.010\",las=2)"
   ]
  },
  {
   "cell_type": "code",
   "execution_count": 156,
   "metadata": {},
   "outputs": [
    {
     "name": "stdout",
     "output_type": "stream",
     "text": [
      "[1] 11\n",
      "[1] 5\n",
      "[1] 62\n",
      "[1] None  \n",
      "[1] 74 91 99\n",
      "[1] 95\n",
      "[1] 15 98\n",
      "[1] 83 87\n",
      "[1]  6 14 63 73 90 94\n"
     ]
    }
   ],
   "source": [
    "\n",
    "which(r_square$`adj-r`>=0.026 & r_square$`adj-r` < 1 ) %>% print()\n",
    "which(r_square$`adj-r` >= 0.024 & r_square$`adj-r` < 0.026) %>% print()\n",
    "which(r_square$`adj-r` >= 0.022 & r_square$`adj-r` < 0.024) %>% print()\n",
    "which(r_square$`adj-r` >= 0.020 & r_square$`adj-r` < 0.022) %>% cat(\"[1] None\" ,.,\"\\n\")\n",
    "which(r_square$`adj-r` >= 0.018 & r_square$`adj-r` < 0.020) %>% print()\n",
    "which(r_square$`adj-r` >= 0.016 & r_square$`adj-r` < 0.018) %>% print()\n",
    "which(r_square$`adj-r` >= 0.014 & r_square$`adj-r` < 0.016) %>% print()\n",
    "which(r_square$`adj-r` >= 0.012 & r_square$`adj-r` < 0.014) %>% print()\n",
    "which(r_square$`adj-r` >= 0.010 & r_square$`adj-r` < 0.012) %>% print()"
   ]
  },
  {
   "cell_type": "code",
   "execution_count": null,
   "metadata": {},
   "outputs": [],
   "source": [
    " "
   ]
  },
  {
   "cell_type": "code",
   "execution_count": 4,
   "metadata": {},
   "outputs": [
    {
     "data": {
      "text/html": [
       "<ol class=list-inline>\n",
       "\t<li>478174</li>\n",
       "\t<li>170</li>\n",
       "</ol>\n"
      ],
      "text/latex": [
       "\\begin{enumerate*}\n",
       "\\item 478174\n",
       "\\item 170\n",
       "\\end{enumerate*}\n"
      ],
      "text/markdown": [
       "1. 478174\n",
       "2. 170\n",
       "\n",
       "\n"
      ],
      "text/plain": [
       "[1] 478174    170"
      ]
     },
     "metadata": {},
     "output_type": "display_data"
    }
   ],
   "source": [
    "dim(new_m7)"
   ]
  },
  {
   "cell_type": "markdown",
   "metadata": {},
   "source": [
    "## Select Categorical Data "
   ]
  },
  {
   "cell_type": "code",
   "execution_count": 3,
   "metadata": {},
   "outputs": [],
   "source": [
    "cate=fread(\"white_cate.csv\")"
   ]
  },
  {
   "cell_type": "code",
   "execution_count": 6,
   "metadata": {},
   "outputs": [
    {
     "data": {
      "text/html": [
       "<ol class=list-inline>\n",
       "\t<li>440548</li>\n",
       "\t<li>9</li>\n",
       "</ol>\n"
      ],
      "text/latex": [
       "\\begin{enumerate*}\n",
       "\\item 440548\n",
       "\\item 9\n",
       "\\end{enumerate*}\n"
      ],
      "text/markdown": [
       "1. 440548\n",
       "2. 9\n",
       "\n",
       "\n"
      ],
      "text/plain": [
       "[1] 440548      9"
      ]
     },
     "metadata": {},
     "output_type": "display_data"
    }
   ],
   "source": [
    "dim(cate)"
   ]
  },
  {
   "cell_type": "code",
   "execution_count": 7,
   "metadata": {},
   "outputs": [
    {
     "data": {
      "text/plain": [
       "$`31-0.0`\n",
       "\n",
       "     0      1 \n",
       "241058 199490 \n",
       "\n",
       "$`1239-0.0`\n",
       "\n",
       "    -3      0      2 \n",
       "   389 427127  13032 \n",
       "\n",
       "$`1249-0.0`\n",
       "\n",
       "    -3      1      2      3      4 \n",
       "  1860 115440  62521  69705 191022 \n",
       "\n",
       "$`1558-0.0`\n",
       "\n",
       "    -3      1      2      3      4      5      6 \n",
       "   451  87708 104211 115213  48640  49415  34910 \n",
       "\n",
       "$`6150-0.0`\n",
       "\n",
       "    -7     -3      1      2      3      4 \n",
       "308140   1071   9757   9815   5160 106605 \n",
       "\n",
       "$`21000-0.0`\n",
       "\n",
       "    -3     -1      1      2      3      4      5      6   1001   1002   1003 \n",
       "  1391    177    467     38     32     20   1395   3897 389994  11216  14114 \n",
       "  2001   2002   2003   2004   3001   3002   3003   3004   4001   4002   4003 \n",
       "   481    335    688    851   5337   1565    174   1586   3708   2987     95 \n"
      ]
     },
     "metadata": {},
     "output_type": "display_data"
    }
   ],
   "source": [
    "sapply(cate[,-c(1,8,9)],table)"
   ]
  },
  {
   "cell_type": "code",
   "execution_count": 8,
   "metadata": {},
   "outputs": [
    {
     "data": {
      "text/html": [
       "<dl class=dl-horizontal>\n",
       "\t<dt>eid</dt>\n",
       "\t\t<dd>0</dd>\n",
       "\t<dt>31-0.0</dt>\n",
       "\t\t<dd>0</dd>\n",
       "\t<dt>1239-0.0</dt>\n",
       "\t\t<dd>0</dd>\n",
       "\t<dt>1249-0.0</dt>\n",
       "\t\t<dd>0</dd>\n",
       "\t<dt>1558-0.0</dt>\n",
       "\t\t<dd>0</dd>\n",
       "\t<dt>6150-0.0</dt>\n",
       "\t\t<dd>0</dd>\n",
       "\t<dt>21000-0.0</dt>\n",
       "\t\t<dd>0</dd>\n",
       "\t<dt>30000-0.0</dt>\n",
       "\t\t<dd>0</dd>\n",
       "\t<dt>30010-0.0</dt>\n",
       "\t\t<dd>0</dd>\n",
       "</dl>\n"
      ],
      "text/latex": [
       "\\begin{description*}\n",
       "\\item[eid] 0\n",
       "\\item[31-0.0] 0\n",
       "\\item[1239-0.0] 0\n",
       "\\item[1249-0.0] 0\n",
       "\\item[1558-0.0] 0\n",
       "\\item[6150-0.0] 0\n",
       "\\item[21000-0.0] 0\n",
       "\\item[30000-0.0] 0\n",
       "\\item[30010-0.0] 0\n",
       "\\end{description*}\n"
      ],
      "text/markdown": [
       "eid\n",
       ":   031-0.0\n",
       ":   01239-0.0\n",
       ":   01249-0.0\n",
       ":   01558-0.0\n",
       ":   06150-0.0\n",
       ":   021000-0.0\n",
       ":   030000-0.0\n",
       ":   030010-0.0\n",
       ":   0\n",
       "\n"
      ],
      "text/plain": [
       "      eid    31-0.0  1239-0.0  1249-0.0  1558-0.0  6150-0.0 21000-0.0 30000-0.0 \n",
       "        0         0         0         0         0         0         0         0 \n",
       "30010-0.0 \n",
       "        0 "
      ]
     },
     "metadata": {},
     "output_type": "display_data"
    }
   ],
   "source": [
    "# inspect the data \n",
    "colSums(is.na(cate))"
   ]
  },
  {
   "cell_type": "code",
   "execution_count": null,
   "metadata": {},
   "outputs": [],
   "source": []
  },
  {
   "cell_type": "markdown",
   "metadata": {},
   "source": [
    "## Modelling with Categorial Data"
   ]
  },
  {
   "cell_type": "code",
   "execution_count": 9,
   "metadata": {},
   "outputs": [],
   "source": [
    "new_cate_data_white=cate\n",
    "model_1=lm(data=new_cate_data_white[,-9], formula = new_cate_data_white$`30000-0.0`~factor(new_cate_data_white$`31-0.0`)+factor(new_cate_data_white$`1239-0.0`)+factor(new_cate_data_white$`1249-0.0`)+factor(new_cate_data_white$`1558-0.0`)+factor(new_cate_data_white$`6150-0.0`)+factor(new_cate_data_white$`21000-0.0`))"
   ]
  },
  {
   "cell_type": "code",
   "execution_count": 10,
   "metadata": {},
   "outputs": [
    {
     "data": {
      "text/plain": [
       "\n",
       "Call:\n",
       "lm(formula = new_cate_data_white$`30000-0.0` ~ factor(new_cate_data_white$`31-0.0`) + \n",
       "    factor(new_cate_data_white$`1239-0.0`) + factor(new_cate_data_white$`1249-0.0`) + \n",
       "    factor(new_cate_data_white$`1558-0.0`) + factor(new_cate_data_white$`6150-0.0`) + \n",
       "    factor(new_cate_data_white$`21000-0.0`), data = new_cate_data_white[, \n",
       "    -9])\n",
       "\n",
       "Residuals:\n",
       "   Min     1Q Median     3Q    Max \n",
       " -7.14  -1.15  -0.19   0.92 382.91 \n",
       "\n",
       "Coefficients:\n",
       "                                             Estimate Std. Error t value\n",
       "(Intercept)                                  7.231560   0.135302  53.447\n",
       "factor(new_cate_data_white$`31-0.0`)1       -0.011656   0.006383  -1.826\n",
       "factor(new_cate_data_white$`1239-0.0`)0     -0.617906   0.111713  -5.531\n",
       "factor(new_cate_data_white$`1239-0.0`)2     -0.208501   0.113141  -1.843\n",
       "factor(new_cate_data_white$`1249-0.0`)1     -0.049003   0.050116  -0.978\n",
       "factor(new_cate_data_white$`1249-0.0`)2     -0.253111   0.050449  -5.017\n",
       "factor(new_cate_data_white$`1249-0.0`)3     -0.326716   0.050363  -6.487\n",
       "factor(new_cate_data_white$`1249-0.0`)4     -0.281952   0.049966  -5.643\n",
       "factor(new_cate_data_white$`1558-0.0`)1     -0.133532   0.101341  -1.318\n",
       "factor(new_cate_data_white$`1558-0.0`)2     -0.075748   0.101300  -0.748\n",
       "factor(new_cate_data_white$`1558-0.0`)3      0.069387   0.101263   0.685\n",
       "factor(new_cate_data_white$`1558-0.0`)4      0.171474   0.101496   1.689\n",
       "factor(new_cate_data_white$`1558-0.0`)5      0.258075   0.101454   2.544\n",
       "factor(new_cate_data_white$`1558-0.0`)6      0.233277   0.101553   2.297\n",
       "factor(new_cate_data_white$`6150-0.0`)-3     0.185683   0.064308   2.887\n",
       "factor(new_cate_data_white$`6150-0.0`)1      0.669758   0.021209  31.579\n",
       "factor(new_cate_data_white$`6150-0.0`)2      0.566056   0.021005  26.949\n",
       "factor(new_cate_data_white$`6150-0.0`)3      0.534133   0.028674  18.628\n",
       "factor(new_cate_data_white$`6150-0.0`)4      0.438842   0.007288  60.216\n",
       "factor(new_cate_data_white$`21000-0.0`)-1    0.030377   0.162839   0.187\n",
       "factor(new_cate_data_white$`21000-0.0`)1     0.232947   0.109327   2.131\n",
       "factor(new_cate_data_white$`21000-0.0`)2    -0.038378   0.335389  -0.114\n",
       "factor(new_cate_data_white$`21000-0.0`)3     0.379980   0.364729   1.042\n",
       "factor(new_cate_data_white$`21000-0.0`)4    -1.079428   0.459290  -2.350\n",
       "factor(new_cate_data_white$`21000-0.0`)5    -0.428271   0.077895  -5.498\n",
       "factor(new_cate_data_white$`21000-0.0`)6    -0.018385   0.064372  -0.286\n",
       "factor(new_cate_data_white$`21000-0.0`)1001  0.193238   0.055608   3.475\n",
       "factor(new_cate_data_white$`21000-0.0`)1002  0.197612   0.058746   3.364\n",
       "factor(new_cate_data_white$`21000-0.0`)1003  0.116868   0.058113   2.011\n",
       "factor(new_cate_data_white$`21000-0.0`)2001  0.181065   0.108251   1.673\n",
       "factor(new_cate_data_white$`21000-0.0`)2002  0.073395   0.124472   0.590\n",
       "factor(new_cate_data_white$`21000-0.0`)2003  0.307999   0.095509   3.225\n",
       "factor(new_cate_data_white$`21000-0.0`)2004  0.231076   0.089252   2.589\n",
       "factor(new_cate_data_white$`21000-0.0`)3001  0.603624   0.062118   9.717\n",
       "factor(new_cate_data_white$`21000-0.0`)3002  0.727158   0.076106   9.555\n",
       "factor(new_cate_data_white$`21000-0.0`)3003  0.945805   0.164326   5.756\n",
       "factor(new_cate_data_white$`21000-0.0`)3004  0.411660   0.075483   5.454\n",
       "factor(new_cate_data_white$`21000-0.0`)4001 -0.808565   0.064801 -12.478\n",
       "factor(new_cate_data_white$`21000-0.0`)4002 -1.236198   0.066890 -18.481\n",
       "factor(new_cate_data_white$`21000-0.0`)4003 -0.690797   0.216452  -3.191\n",
       "                                            Pr(>|t|)    \n",
       "(Intercept)                                  < 2e-16 ***\n",
       "factor(new_cate_data_white$`31-0.0`)1       0.067825 .  \n",
       "factor(new_cate_data_white$`1239-0.0`)0     3.18e-08 ***\n",
       "factor(new_cate_data_white$`1239-0.0`)2     0.065354 .  \n",
       "factor(new_cate_data_white$`1249-0.0`)1     0.328182    \n",
       "factor(new_cate_data_white$`1249-0.0`)2     5.25e-07 ***\n",
       "factor(new_cate_data_white$`1249-0.0`)3     8.75e-11 ***\n",
       "factor(new_cate_data_white$`1249-0.0`)4     1.67e-08 ***\n",
       "factor(new_cate_data_white$`1558-0.0`)1     0.187619    \n",
       "factor(new_cate_data_white$`1558-0.0`)2     0.454611    \n",
       "factor(new_cate_data_white$`1558-0.0`)3     0.493211    \n",
       "factor(new_cate_data_white$`1558-0.0`)4     0.091131 .  \n",
       "factor(new_cate_data_white$`1558-0.0`)5     0.010967 *  \n",
       "factor(new_cate_data_white$`1558-0.0`)6     0.021614 *  \n",
       "factor(new_cate_data_white$`6150-0.0`)-3    0.003885 ** \n",
       "factor(new_cate_data_white$`6150-0.0`)1      < 2e-16 ***\n",
       "factor(new_cate_data_white$`6150-0.0`)2      < 2e-16 ***\n",
       "factor(new_cate_data_white$`6150-0.0`)3      < 2e-16 ***\n",
       "factor(new_cate_data_white$`6150-0.0`)4      < 2e-16 ***\n",
       "factor(new_cate_data_white$`21000-0.0`)-1   0.852019    \n",
       "factor(new_cate_data_white$`21000-0.0`)1    0.033110 *  \n",
       "factor(new_cate_data_white$`21000-0.0`)2    0.908898    \n",
       "factor(new_cate_data_white$`21000-0.0`)3    0.297498    \n",
       "factor(new_cate_data_white$`21000-0.0`)4    0.018763 *  \n",
       "factor(new_cate_data_white$`21000-0.0`)5    3.84e-08 ***\n",
       "factor(new_cate_data_white$`21000-0.0`)6    0.775181    \n",
       "factor(new_cate_data_white$`21000-0.0`)1001 0.000511 ***\n",
       "factor(new_cate_data_white$`21000-0.0`)1002 0.000769 ***\n",
       "factor(new_cate_data_white$`21000-0.0`)1003 0.044319 *  \n",
       "factor(new_cate_data_white$`21000-0.0`)2001 0.094398 .  \n",
       "factor(new_cate_data_white$`21000-0.0`)2002 0.555425    \n",
       "factor(new_cate_data_white$`21000-0.0`)2003 0.001261 ** \n",
       "factor(new_cate_data_white$`21000-0.0`)2004 0.009625 ** \n",
       "factor(new_cate_data_white$`21000-0.0`)3001  < 2e-16 ***\n",
       "factor(new_cate_data_white$`21000-0.0`)3002  < 2e-16 ***\n",
       "factor(new_cate_data_white$`21000-0.0`)3003 8.64e-09 ***\n",
       "factor(new_cate_data_white$`21000-0.0`)3004 4.94e-08 ***\n",
       "factor(new_cate_data_white$`21000-0.0`)4001  < 2e-16 ***\n",
       "factor(new_cate_data_white$`21000-0.0`)4002  < 2e-16 ***\n",
       "factor(new_cate_data_white$`21000-0.0`)4003 0.001416 ** \n",
       "---\n",
       "Signif. codes:  0 ‘***’ 0.001 ‘**’ 0.01 ‘*’ 0.05 ‘.’ 0.1 ‘ ’ 1\n",
       "\n",
       "Residual standard error: 2.039 on 440508 degrees of freedom\n",
       "Multiple R-squared:  0.02609,\tAdjusted R-squared:  0.02601 \n",
       "F-statistic: 302.6 on 39 and 440508 DF,  p-value: < 2.2e-16\n"
      ]
     },
     "metadata": {},
     "output_type": "display_data"
    }
   ],
   "source": [
    "model_cate_1=model_1\n",
    "summary(model_cate_1)"
   ]
  },
  {
   "cell_type": "markdown",
   "metadata": {},
   "source": []
  },
  {
   "cell_type": "markdown",
   "metadata": {},
   "source": [
    "## Adjusted R-squared:  0.02601 "
   ]
  },
  {
   "cell_type": "code",
   "execution_count": null,
   "metadata": {},
   "outputs": [],
   "source": []
  },
  {
   "cell_type": "code",
   "execution_count": 11,
   "metadata": {},
   "outputs": [],
   "source": [
    "new_merge= merge(x = new_m7,y= cate, by=\"eid\")"
   ]
  },
  {
   "cell_type": "code",
   "execution_count": 5,
   "metadata": {},
   "outputs": [
    {
     "data": {
      "text/html": [
       "<ol class=list-inline>\n",
       "\t<li>440568</li>\n",
       "\t<li>178</li>\n",
       "</ol>\n"
      ],
      "text/latex": [
       "\\begin{enumerate*}\n",
       "\\item 440568\n",
       "\\item 178\n",
       "\\end{enumerate*}\n"
      ],
      "text/markdown": [
       "1. 440568\n",
       "2. 178\n",
       "\n",
       "\n"
      ],
      "text/plain": [
       "[1] 440568    178"
      ]
     },
     "metadata": {},
     "output_type": "display_data"
    },
    {
     "data": {
      "text/html": [
       "<table>\n",
       "<caption>A data.table: 6 × 178</caption>\n",
       "<thead>\n",
       "\t<tr><th scope=col>eid</th><th scope=col>34-0.0</th><th scope=col>46-0.0</th><th scope=col>47-0.0</th><th scope=col>48-0.0</th><th scope=col>49-0.0</th><th scope=col>50-0.0</th><th scope=col>51-0.0</th><th scope=col>92-0.0</th><th scope=col>96-0.0</th><th scope=col>⋯</th><th scope=col>22009-0.39</th><th scope=col>22009-0.40</th><th scope=col>31-0.0</th><th scope=col>1239-0.0</th><th scope=col>1249-0.0</th><th scope=col>1558-0.0</th><th scope=col>6150-0.0</th><th scope=col>21000-0.0</th><th scope=col>30000-0.0</th><th scope=col>30010-0.0</th></tr>\n",
       "\t<tr><th scope=col>&lt;int&gt;</th><th scope=col>&lt;int&gt;</th><th scope=col>&lt;dbl&gt;</th><th scope=col>&lt;dbl&gt;</th><th scope=col>&lt;dbl&gt;</th><th scope=col>&lt;dbl&gt;</th><th scope=col>&lt;dbl&gt;</th><th scope=col>&lt;dbl&gt;</th><th scope=col>&lt;dbl&gt;</th><th scope=col>&lt;dbl&gt;</th><th scope=col>⋯</th><th scope=col>&lt;dbl&gt;</th><th scope=col>&lt;dbl&gt;</th><th scope=col>&lt;int&gt;</th><th scope=col>&lt;int&gt;</th><th scope=col>&lt;int&gt;</th><th scope=col>&lt;int&gt;</th><th scope=col>&lt;int&gt;</th><th scope=col>&lt;int&gt;</th><th scope=col>&lt;dbl&gt;</th><th scope=col>&lt;dbl&gt;</th></tr>\n",
       "</thead>\n",
       "<tbody>\n",
       "\t<tr><td>6026109</td><td>1957</td><td>24</td><td>28</td><td> 84</td><td> 96</td><td>156</td><td>125</td><td>1165.288</td><td>135</td><td>⋯</td><td> 3.065670</td><td> 5.14909</td><td>0</td><td>0</td><td>4</td><td>6</td><td>-7</td><td>3004</td><td>5.62</td><td>4.245</td></tr>\n",
       "\t<tr><td>6026111</td><td>1945</td><td>31</td><td>26</td><td>117</td><td>108</td><td>168</td><td>130</td><td>  56.000</td><td> 84</td><td>⋯</td><td> 4.266080</td><td>-4.61302</td><td>1</td><td>0</td><td>4</td><td>1</td><td> 4</td><td>1001</td><td>7.99</td><td>4.803</td></tr>\n",
       "\t<tr><td>6026126</td><td>1959</td><td>46</td><td>46</td><td> 95</td><td>100</td><td>175</td><td>139</td><td>2007.000</td><td>120</td><td>⋯</td><td>-0.390566</td><td>-7.18662</td><td>1</td><td>0</td><td>4</td><td>1</td><td> 1</td><td>1001</td><td>4.40</td><td>4.630</td></tr>\n",
       "\t<tr><td>6026132</td><td>1949</td><td>54</td><td>50</td><td>100</td><td>102</td><td>178</td><td>145</td><td>2000.000</td><td>100</td><td>⋯</td><td> 4.911090</td><td> 6.95728</td><td>1</td><td>0</td><td>4</td><td>3</td><td> 1</td><td>1001</td><td>6.23</td><td>4.209</td></tr>\n",
       "\t<tr><td>6026144</td><td>1968</td><td>40</td><td>38</td><td> 98</td><td>105</td><td>166</td><td>141</td><td>1986.000</td><td> 85</td><td>⋯</td><td> 0.925384</td><td>-2.24990</td><td>1</td><td>0</td><td>4</td><td>6</td><td>-7</td><td>1002</td><td>6.77</td><td>5.331</td></tr>\n",
       "\t<tr><td>6026158</td><td>1952</td><td>20</td><td>24</td><td> 80</td><td>105</td><td>165</td><td>126</td><td>1984.000</td><td>111</td><td>⋯</td><td> 2.808160</td><td> 4.42696</td><td>0</td><td>0</td><td>2</td><td>4</td><td>-7</td><td>1001</td><td>7.42</td><td>3.933</td></tr>\n",
       "</tbody>\n",
       "</table>\n"
      ],
      "text/latex": [
       "A data.table: 6 × 178\n",
       "\\begin{tabular}{r|llllllllllllllllllllllllllllllllllllllllllllllllllllllllllllllllllllllllllllllllllllllllllllllllllllllllllllllllllllllllllllllllllllllllllllllllllllllllllllllllllllllllllllllllll}\n",
       " eid & 34-0.0 & 46-0.0 & 47-0.0 & 48-0.0 & 49-0.0 & 50-0.0 & 51-0.0 & 92-0.0 & 96-0.0 & 102-0.0 & 129-0.0 & 130-0.0 & 135-0.0 & 137-0.0 & 189-0.0 & 699-0.0 & 709-0.0 & 874-0.0 & 884-0.0 & 894-0.0 & 904-0.0 & 1050-0.0 & 1060-0.0 & 1070-0.0 & 1080-0.0 & 1090-0.0 & 1160-0.0 & 1269-0.0 & 1279-0.0 & 1289-0.0 & 1299-0.0 & 1309-0.0 & 1319-0.0 & 1458-0.0 & 1488-0.0 & 1528-0.0 & 1737-0.0 & 1807-0.0 & 1873-0.0 & 1883-0.0 & 2139-0.0 & 2149-0.0 & 2217-0.0 & 2277-0.0 & 3061-0.0 & 3062-0.0 & 3063-0.0 & 3064-0.0 & 4079-0.0 & 4080-0.0 & 20004-0.0 & 20010-0.0 & 20011-0.0 & 20015-0.0 & 20074-0.0 & 20075-0.0 & 20127-0.0 & 20256-0.0 & 20257-0.0 & 20258-0.0 & 21001-0.0 & 21002-0.0 & 21003-0.0 & 21022-0.0 & 22033-0.0 & 22034-0.0 & 22037-0.0 & 22039-0.0 & 22702-0.0 & 22704-0.0 & 23098-0.0 & 23099-0.0 & 23100-0.0 & 23101-0.0 & 23102-0.0 & 23106-0.0 & 23107-0.0 & 23108-0.0 & 23109-0.0 & 23110-0.0 & 23111-0.0 & 23112-0.0 & 23113-0.0 & 23114-0.0 & 23115-0.0 & 23116-0.0 & 23117-0.0 & 23118-0.0 & 23119-0.0 & 23120-0.0 & 23121-0.0 & 23122-0.0 & 23123-0.0 & 23124-0.0 & 23125-0.0 & 23126-0.0 & 23127-0.0 & 23128-0.0 & 23129-0.0 & 23130-0.0 & 24003-0.0 & 24004-0.0 & 24005-0.0 & 24006-0.0 & 24007-0.0 & 24008-0.0 & 24009-0.0 & 24010-0.0 & 24011-0.0 & 24012-0.0 & 24013-0.0 & 24015-0.0 & 24016-0.0 & 24017-0.0 & 24018-0.0 & 24019-0.0 & 24020-0.0 & 24021-0.0 & 24022-0.0 & 24500-0.0 & 24501-0.0 & 24502-0.0 & 24503-0.0 & 24504-0.0 & 24505-0.0 & 24506-0.0 & 24507-0.0 & 24508-0.0 & 26410-0.0 & 26411-0.0 & 26412-0.0 & 26413-0.0 & 26414-0.0 & 26415-0.0 & 26416-0.0 & 26417-0.0 & count & 22009-0.1 & 22009-0.10 & 22009-0.11 & 22009-0.12 & 22009-0.13 & 22009-0.14 & 22009-0.15 & 22009-0.16 & 22009-0.17 & 22009-0.18 & 22009-0.19 & 22009-0.20 & 22009-0.21 & 22009-0.22 & 22009-0.23 & 22009-0.24 & 22009-0.25 & 22009-0.26 & 22009-0.27 & 22009-0.28 & 22009-0.29 & 22009-0.30 & 22009-0.31 & 22009-0.32 & 22009-0.33 & 22009-0.34 & 22009-0.35 & 22009-0.36 & 22009-0.37 & 22009-0.38 & 22009-0.39 & 22009-0.40 & 31-0.0 & 1239-0.0 & 1249-0.0 & 1558-0.0 & 6150-0.0 & 21000-0.0 & 30000-0.0 & 30010-0.0\\\\\n",
       " <int> & <int> & <dbl> & <dbl> & <dbl> & <dbl> & <dbl> & <dbl> & <dbl> & <dbl> & <dbl> & <dbl> & <dbl> & <dbl> & <dbl> & <dbl> & <dbl> & <dbl> & <dbl> & <dbl> & <dbl> & <dbl> & <dbl> & <dbl> & <dbl> & <dbl> & <dbl> & <dbl> & <dbl> & <dbl> & <dbl> & <dbl> & <dbl> & <dbl> & <dbl> & <dbl> & <dbl> & <dbl> & <dbl> & <dbl> & <dbl> & <dbl> & <dbl> & <dbl> & <dbl> & <dbl> & <dbl> & <dbl> & <dbl> & <dbl> & <dbl> & <dbl> & <dbl> & <dbl> & <dbl> & <dbl> & <dbl> & <dbl> & <dbl> & <dbl> & <dbl> & <dbl> & <dbl> & <int> & <int> & <dbl> & <dbl> & <dbl> & <dbl> & <dbl> & <dbl> & <dbl> & <dbl> & <dbl> & <dbl> & <dbl> & <dbl> & <dbl> & <dbl> & <dbl> & <dbl> & <dbl> & <dbl> & <dbl> & <dbl> & <dbl> & <dbl> & <dbl> & <dbl> & <dbl> & <dbl> & <dbl> & <dbl> & <dbl> & <dbl> & <dbl> & <dbl> & <dbl> & <dbl> & <dbl> & <dbl> & <dbl> & <dbl> & <dbl> & <dbl> & <dbl> & <dbl> & <dbl> & <dbl> & <dbl> & <dbl> & <dbl> & <dbl> & <dbl> & <dbl> & <dbl> & <dbl> & <dbl> & <dbl> & <dbl> & <dbl> & <dbl> & <dbl> & <dbl> & <dbl> & <dbl> & <dbl> & <dbl> & <dbl> & <dbl> & <dbl> & <dbl> & <dbl> & <dbl> & <dbl> & <dbl> & <dbl> & <dbl> & <dbl> & <dbl> & <dbl> & <dbl> & <dbl> & <dbl> & <dbl> & <dbl> & <dbl> & <dbl> & <dbl> & <dbl> & <dbl> & <dbl> & <dbl> & <dbl> & <dbl> & <dbl> & <dbl> & <dbl> & <dbl> & <dbl> & <dbl> & <dbl> & <dbl> & <dbl> & <dbl> & <dbl> & <dbl> & <dbl> & <dbl> & <dbl> & <int> & <int> & <int> & <int> & <int> & <int> & <dbl> & <dbl>\\\\\n",
       "\\hline\n",
       "\t 6026109 & 1957 & 24 & 28 &  84 &  96 & 156 & 125 & 1165.288 & 135 &  83 & 354389.7 & 406499.6 & 0 & 0 &  2.881640 & 11 & 6 & 300 & 2 & 300 & 0 & -10 &  0 & 6 &   0 & -10 & 10 & 0 & 0 & 2 &  0 & 2 & 1 & 1 & 3 & 1 &  0 & 68.50168 & 3.000000 & 4.000000 & 20 &  1 & 48.00000 &  0 &  0 & 2.50 & 1.97 & 406 & 79 & 122 & 2193.38 & 1968.525 & 33.32074 & 85 & 532000 & 164000 & 3.000000 &  0.3922495 &  0.1771339 &  0.4181085 & 25.1479 & 61.2 & 51 & 51 &  7.00000 & 360.0000 & 2970.000 &    0.0000 & 532000 & 164000 & 61.2 & 37.9 & 23.2 & 38.0 & 27.8 & 761 & 299 & 308 & 412 & 429 & 41.2 & 4.5 &  6.5 &  6.1 & 41.6 & 4.5 &  6.4 &  6.0 & 37.1 & 1.1 & 1.9 & 1.7 & 38.3 & 1.2 & 1.9 & 1.7 & 35.7 & 11.9 & 21.4 & 20.5 & 44.18 & 90.02 & 20.20 & 10.94 & 1.63 & 7.88 & 23041 & 0.04 & 23041 & 0.04000 & 4471297 & 193.76 & 38.88 & 36.68 & 41.24 & 23.95 & 70.25 & 66.51 & 61.43 & 23.4540 & 36.48100 & 0.003000 & 14.53400 & 42.09700 & 0.0000000 & 10.928 & 14.955 & 35.620 & 18.93000 & 0.1100000 & 0.07000000 & -0.38000000 & 15.19000 & 33.07000 &  0.31000000 & 39.34000 & 5.62 &  66.8369 & 18.708900 & -1.853620 &  6.412660 &  3.172830 & -2.337570 &  0.686696 &  2.386690 & -1.117190 &  0.516043 &  0.262503 &  0.0711404 & -2.727690 & -1.274390 & -2.1476900 & -3.505310 &  1.022630 & -1.43996 &  3.974960 &  2.9252100 & -3.03387 & -1.862920 &  0.631930 &  2.156600 & -2.0095700 &  2.401440 &  2.12655 &  2.181000 & -1.139210 &  0.764100 &  3.065670 &  5.14909 & 0 & 0 & 4 & 6 & -7 & 3004 & 5.62 & 4.245\\\\\n",
       "\t 6026111 & 1945 & 31 & 26 & 117 & 108 & 168 & 130 &   56.000 &  84 & 100 & 308500.0 & 623500.0 & 2 & 4 & -5.758480 & 30 & 1 &  -1 & 7 & 360 & 7 &  10 & 10 & 2 &   0 & -10 &  6 & 0 & 0 & 5 & 10 & 4 & 0 & 4 & 7 & 0 &  1 & 68.00000 & 2.000000 & 0.000000 & 20 &  1 & 27.00000 &  0 &  0 & 3.33 & 2.64 & 452 & 79 & 132 & 1320.00 & 2002.030 & 56.50000 & 90 & 465000 & 356000 & 4.112472 &  0.8500000 &  0.9990000 & -0.2290000 & 34.7577 & 98.1 & 63 & 63 & 10.62739 & 127.3626 & 1041.198 &  678.8034 & 465000 & 356000 & 98.1 & 30.3 & 29.7 & 68.4 & 50.1 & 432 & 179 & 181 & 233 & 250 & 24.9 & 3.9 & 11.8 & 11.2 & 24.9 & 3.9 & 11.7 & 11.1 & 26.6 & 1.5 & 4.0 & 3.8 & 29.7 & 1.7 & 3.9 & 3.7 & 33.7 & 18.8 & 36.9 & 35.4 & 16.03 & 27.03 & 14.62 &  8.91 & 0.84 & 6.13 &   500 & 0.03 &  9747 & 0.00046 &       0 &   0.00 & 19.90 & 19.74 & 20.27 & 21.57 & 54.80 & 51.06 & 45.98 & 77.6050 & 14.36900 & 0.152000 & 56.01300 & 29.47100 & 0.1280000 & 80.235 & 32.812 & 70.414 &  4.87000 & 0.0500000 & 0.05000000 & -0.58000000 &  2.77000 &  2.31000 & -0.21000000 &  6.74000 & 7.99 & -12.7514 & -2.801880 & -1.648300 & -2.298960 & -0.503722 & -0.838506 & -0.487865 &  0.200194 &  0.360006 & -1.082730 & -3.445100 & -2.1565800 &  1.664630 & -0.206664 &  0.1073050 & -1.019010 &  0.925308 & -5.91626 &  3.625900 & -0.0792008 &  2.31799 & -1.112950 & -0.835053 &  1.385090 & -0.3312350 &  0.376176 & -1.03072 &  3.616520 & -3.008220 & -0.974897 &  4.266080 & -4.61302 & 1 & 0 & 4 & 1 &  4 & 1001 & 7.99 & 4.803\\\\\n",
       "\t 6026126 & 1959 & 46 & 46 &  95 & 100 & 175 & 139 & 2007.000 & 120 &  59 & 189500.0 & 489500.0 & 2 & 6 & -2.261770 &  7 & 4 &  60 & 5 &  45 & 6 &   4 &  2 & 3 & -10 &   1 &  8 & 0 & 0 & 8 &  3 & 3 & 0 & 4 & 3 & 3 &  2 & 76.00000 & 4.000000 & 0.000000 & 18 & 10 & 30.71758 &  0 & 34 & 4.47 & 3.65 & 372 & 65 & 120 & 1107.00 & 2007.500 & 48.24730 & 89 & 321000 & 189000 & 7.000000 &  0.3440000 &  0.5530000 & -0.3710000 & 28.7347 & 88.0 & 49 & 49 & 16.00000 & 135.0000 &  990.000 & 1440.0000 & 321000 & 189000 & 88.0 & 21.9 & 19.3 & 68.7 & 50.3 & 476 & 208 & 205 & 252 & 254 & 19.6 & 2.8 & 11.5 & 10.9 & 19.1 & 2.7 & 11.4 & 10.8 & 20.0 & 1.0 & 4.0 & 3.8 & 20.4 & 1.1 & 4.1 & 3.9 & 23.7 & 11.8 & 37.7 & 36.3 & 27.09 & 62.24 & 21.76 & 10.42 & 1.80 & 8.51 &   500 & 0.10 & 11114 & 0.07000 & 2214427 & 198.94 & 20.01 & 20.45 & 20.60 & 20.87 & 69.78 & 66.04 & 60.96 & 45.1644 & 24.21054 & 1.265545 & 35.41071 & 31.08195 & 0.8984892 & 80.036 & 24.777 &  9.696 & 17.58894 & 0.1150868 & 0.08792266 & -0.09734663 & 15.50027 & 19.79837 & -0.04410384 & 18.69205 & 4.40 & -11.2271 & -1.236570 & -4.148300 & -1.103140 &  1.091690 &  1.148640 & -1.062070 &  2.146180 &  2.944690 & -1.615780 &  0.144167 & -0.6398130 & -1.434630 &  3.320740 &  0.0590353 &  3.539520 & -3.361810 & -1.32602 & -0.893640 &  3.2995000 & -3.21817 & -0.342154 &  4.960640 &  1.274870 &  0.6230870 &  3.706040 &  2.92053 &  4.236870 & -2.837180 & -1.596750 & -0.390566 & -7.18662 & 1 & 0 & 4 & 1 &  1 & 1001 & 4.40 & 4.630\\\\\n",
       "\t 6026132 & 1949 & 54 & 50 & 100 & 102 & 178 & 145 & 2000.000 & 100 &  63 & 603500.0 & 374500.0 & 3 & 3 &  1.921320 & 15 & 2 &  30 & 4 &  60 & 4 &   4 &  1 & 2 & -10 &   2 &  7 & 0 & 0 & 2 &  1 & 2 & 0 & 7 & 8 & 1 &  1 & 84.00000 & 1.148265 & 1.069246 & 20 &  8 & 40.00000 &  0 &  0 & 5.29 & 3.97 & 449 & 96 & 179 & 1504.00 & 2000.500 & 51.47530 & 95 & 427000 & 569000 & 2.000000 & -0.7350000 & -0.9370000 &  0.3450000 & 28.6896 & 90.9 & 59 & 59 & 11.00000 & 120.0000 &  297.000 &  960.0000 & 427000 & 569000 & 90.9 & 30.0 & 27.3 & 63.6 & 46.6 & 565 & 218 & 231 & 302 & 317 & 22.4 & 3.2 & 11.2 & 10.6 & 23.8 & 3.4 & 10.9 & 10.3 & 26.2 & 1.3 & 3.6 & 3.4 & 28.6 & 1.4 & 3.5 & 3.3 & 34.3 & 18.0 & 34.5 & 33.2 & 33.54 & 52.61 & 16.02 & 11.16 & 1.25 & 5.89 &   500 & 0.05 & 20329 & 0.00328 &       0 &   0.00 & 32.58 & 34.15 & 32.16 & 21.26 & 55.87 & 52.12 & 47.05 & 33.8490 & 24.80600 & 0.077000 & 23.08500 & 36.34700 & 0.0000000 & 15.227 &  5.134 &  9.331 & 37.47000 & 0.2800000 & 0.19000000 &  1.19000000 & 47.58000 & 13.62000 & -0.30000000 & 10.68000 & 6.23 & -14.3755 & -2.966240 & -4.614100 &  1.813020 &  0.806913 &  9.534470 &  0.965536 & -2.211800 &  0.407941 &  3.390400 & -3.335920 &  4.4086400 &  4.145190 &  2.903380 & -5.4740900 &  3.576720 &  0.104487 &  4.19887 & -1.263490 & -3.7232900 &  2.88173 & -5.818070 &  1.007890 & -2.947250 & -0.0451495 & -0.641327 & -4.33736 &  2.067500 &  0.515256 & -4.147360 &  4.911090 &  6.95728 & 1 & 0 & 4 & 3 &  1 & 1001 & 6.23 & 4.209\\\\\n",
       "\t 6026144 & 1968 & 40 & 38 &  98 & 105 & 166 & 141 & 1986.000 &  85 &  75 & 341500.0 & 456500.0 & 3 & 1 & -0.989482 &  2 & 2 & 120 & 7 & 120 & 3 &   4 &  3 & 4 &   1 &   1 &  8 & 0 & 0 & 2 &  1 & 1 & 1 & 7 & 3 & 4 & 20 & 50.00000 & 1.000000 & 2.000000 & 15 & 15 & 30.71758 & 15 & 48 & 3.93 & 3.39 & 586 & 80 & 120 & 1496.00 & 1986.500 & 17.73890 & 91 & 414000 & 296000 & 3.000000 &  0.4670000 &  0.8840000 & -0.8280000 & 29.2495 & 80.6 & 41 & 41 & 17.00000 & 300.0000 & 2772.000 & 1440.0000 & 412000 & 296000 & 80.6 & 24.7 & 19.9 & 60.7 & 44.4 & 513 & 222 & 224 & 264 & 271 & 21.4 & 2.9 & 10.6 & 10.1 & 21.4 & 2.9 & 10.5 &  9.9 & 21.4 & 1.0 & 3.6 & 3.4 & 22.8 & 1.1 & 3.6 & 3.3 & 27.2 & 12.1 & 32.5 & 31.2 & 25.40 & 40.59 & 17.19 &  9.94 & 1.05 & 6.61 &   500 & 0.01 & 41532 & 0.00070 &       0 &   0.00 & 30.57 & 27.91 & 29.92 & 20.96 & 51.03 & 47.28 & 42.21 & 37.0260 & 38.14600 & 1.092000 & 20.83800 & 46.64600 & 0.1160000 & 33.181 &  7.143 & 96.544 & 21.26000 & 0.1500000 & 0.09000000 &  0.01000000 & 20.74000 & 27.12000 & -0.05000000 & 33.15000 & 6.77 & -13.4833 & -0.655608 & -1.602630 & -0.652331 &  0.633552 & -3.373110 &  3.602030 & -0.912842 & -0.812075 &  2.560550 &  1.525700 &  2.1369900 & -2.789050 & -2.977450 &  0.6744750 &  3.151000 &  0.394912 & -2.70100 &  0.530095 &  4.3766900 & -2.46173 &  2.250930 &  0.874470 &  2.308940 &  4.4554400 & -1.862180 &  4.55711 & -0.712527 & -2.743380 & -0.507592 &  0.925384 & -2.24990 & 1 & 0 & 4 & 6 & -7 & 1002 & 6.77 & 5.331\\\\\n",
       "\t 6026158 & 1952 & 20 & 24 &  80 & 105 & 165 & 126 & 1984.000 & 111 &  60 & 391500.0 & 337500.0 & 4 & 2 & -2.569960 & 31 & 3 &  60 & 3 &  60 & 3 &   6 &  1 & 2 &   2 &   3 &  5 & 0 & 0 & 2 &  3 & 3 & 0 & 0 & 5 & 1 &  1 & 72.00000 & 3.000000 & 2.000000 & 20 &  2 & 47.00000 &  1 &  0 & 3.58 & 2.80 & 385 & 79 & 163 & 1475.00 & 1984.500 & 31.73770 & 86 & 342000 & 391000 & 4.000000 & -0.3660000 & -0.4180000 &  0.1890000 & 28.4298 & 77.4 & 56 & 56 & 10.62739 & 127.3626 & 1041.198 &  678.8034 & 342000 & 391000 & 77.4 & 31.9 & 24.7 & 52.7 & 38.6 & 513 & 186 & 183 & 308 & 314 & 35.4 & 5.1 &  9.3 &  8.7 & 35.2 & 5.0 &  9.1 &  8.6 & 35.5 & 1.4 & 2.6 & 2.4 & 36.7 & 1.5 & 2.6 & 2.5 & 28.7 & 11.7 & 29.1 & 27.8 & 32.85 & 53.68 & 20.79 & 10.70 & 1.23 & 8.72 &   500 & 0.04 & 60782 & 0.00154 &       0 &   0.00 & 37.75 & 37.68 & 38.00 & 25.37 & 53.41 & 49.66 & 44.59 & 27.9440 & 37.55400 & 0.049000 &  3.39600 & 55.34100 & 0.0000000 & 20.740 &  0.223 & 10.694 & 17.28000 & 0.0800000 & 0.11000000 &  0.39000000 & 17.75000 &  6.64000 &  0.03000000 & 21.98000 & 7.42 & -12.6631 & -2.484570 &  0.288554 & -1.857820 &  2.625170 & -1.329750 &  1.632950 &  1.356470 &  0.585998 & -0.598658 & -1.277410 & -1.3158300 &  0.221869 & -1.936000 & -6.9185100 & -0.526938 &  0.465733 &  1.58491 &  3.558380 & -2.0476100 &  2.09044 & -3.985260 & -3.504350 &  0.140466 &  0.4050430 &  2.568860 & -3.06353 & -1.290890 &  3.076830 &  1.817880 &  2.808160 &  4.42696 & 0 & 0 & 2 & 4 & -7 & 1001 & 7.42 & 3.933\\\\\n",
       "\\end{tabular}\n"
      ],
      "text/markdown": [
       "\n",
       "A data.table: 6 × 178\n",
       "\n",
       "| eid &lt;int&gt; | 34-0.0 &lt;int&gt; | 46-0.0 &lt;dbl&gt; | 47-0.0 &lt;dbl&gt; | 48-0.0 &lt;dbl&gt; | 49-0.0 &lt;dbl&gt; | 50-0.0 &lt;dbl&gt; | 51-0.0 &lt;dbl&gt; | 92-0.0 &lt;dbl&gt; | 96-0.0 &lt;dbl&gt; | ⋯ ⋯ | 22009-0.39 &lt;dbl&gt; | 22009-0.40 &lt;dbl&gt; | 31-0.0 &lt;int&gt; | 1239-0.0 &lt;int&gt; | 1249-0.0 &lt;int&gt; | 1558-0.0 &lt;int&gt; | 6150-0.0 &lt;int&gt; | 21000-0.0 &lt;int&gt; | 30000-0.0 &lt;dbl&gt; | 30010-0.0 &lt;dbl&gt; |\n",
       "|---|---|---|---|---|---|---|---|---|---|---|---|---|---|---|---|---|---|---|---|---|\n",
       "| 6026109 | 1957 | 24 | 28 |  84 |  96 | 156 | 125 | 1165.288 | 135 | ⋯ |  3.065670 |  5.14909 | 0 | 0 | 4 | 6 | -7 | 3004 | 5.62 | 4.245 |\n",
       "| 6026111 | 1945 | 31 | 26 | 117 | 108 | 168 | 130 |   56.000 |  84 | ⋯ |  4.266080 | -4.61302 | 1 | 0 | 4 | 1 |  4 | 1001 | 7.99 | 4.803 |\n",
       "| 6026126 | 1959 | 46 | 46 |  95 | 100 | 175 | 139 | 2007.000 | 120 | ⋯ | -0.390566 | -7.18662 | 1 | 0 | 4 | 1 |  1 | 1001 | 4.40 | 4.630 |\n",
       "| 6026132 | 1949 | 54 | 50 | 100 | 102 | 178 | 145 | 2000.000 | 100 | ⋯ |  4.911090 |  6.95728 | 1 | 0 | 4 | 3 |  1 | 1001 | 6.23 | 4.209 |\n",
       "| 6026144 | 1968 | 40 | 38 |  98 | 105 | 166 | 141 | 1986.000 |  85 | ⋯ |  0.925384 | -2.24990 | 1 | 0 | 4 | 6 | -7 | 1002 | 6.77 | 5.331 |\n",
       "| 6026158 | 1952 | 20 | 24 |  80 | 105 | 165 | 126 | 1984.000 | 111 | ⋯ |  2.808160 |  4.42696 | 0 | 0 | 2 | 4 | -7 | 1001 | 7.42 | 3.933 |\n",
       "\n"
      ],
      "text/plain": [
       "  eid     34-0.0 46-0.0 47-0.0 48-0.0 49-0.0 50-0.0 51-0.0 92-0.0   96-0.0 ⋯\n",
       "1 6026109 1957   24     28      84     96    156    125    1165.288 135    ⋯\n",
       "2 6026111 1945   31     26     117    108    168    130      56.000  84    ⋯\n",
       "3 6026126 1959   46     46      95    100    175    139    2007.000 120    ⋯\n",
       "4 6026132 1949   54     50     100    102    178    145    2000.000 100    ⋯\n",
       "5 6026144 1968   40     38      98    105    166    141    1986.000  85    ⋯\n",
       "6 6026158 1952   20     24      80    105    165    126    1984.000 111    ⋯\n",
       "  22009-0.39 22009-0.40 31-0.0 1239-0.0 1249-0.0 1558-0.0 6150-0.0 21000-0.0\n",
       "1  3.065670   5.14909   0      0        4        6        -7       3004     \n",
       "2  4.266080  -4.61302   1      0        4        1         4       1001     \n",
       "3 -0.390566  -7.18662   1      0        4        1         1       1001     \n",
       "4  4.911090   6.95728   1      0        4        3         1       1001     \n",
       "5  0.925384  -2.24990   1      0        4        6        -7       1002     \n",
       "6  2.808160   4.42696   0      0        2        4        -7       1001     \n",
       "  30000-0.0 30010-0.0\n",
       "1 5.62      4.245    \n",
       "2 7.99      4.803    \n",
       "3 4.40      4.630    \n",
       "4 6.23      4.209    \n",
       "5 6.77      5.331    \n",
       "6 7.42      3.933    "
      ]
     },
     "metadata": {},
     "output_type": "display_data"
    }
   ],
   "source": [
    "dim(new_merge);tail(new_merge)"
   ]
  },
  {
   "cell_type": "code",
   "execution_count": 6,
   "metadata": {},
   "outputs": [
    {
     "data": {
      "text/html": [
       "178"
      ],
      "text/latex": [
       "178"
      ],
      "text/markdown": [
       "178"
      ],
      "text/plain": [
       "[1] 178"
      ]
     },
     "metadata": {},
     "output_type": "display_data"
    },
    {
     "data": {
      "text/html": [
       "177"
      ],
      "text/latex": [
       "177"
      ],
      "text/markdown": [
       "177"
      ],
      "text/plain": [
       "[1] 177"
      ]
     },
     "metadata": {},
     "output_type": "display_data"
    },
    {
     "data": {
      "text/html": [
       "138"
      ],
      "text/latex": [
       "138"
      ],
      "text/markdown": [
       "138"
      ],
      "text/plain": [
       "[1] 138"
      ]
     },
     "metadata": {},
     "output_type": "display_data"
    }
   ],
   "source": [
    "grep(\"30010-0.0\",colnames(new_merge))\n",
    "grep(\"30000-0.0\",colnames(new_merge))\n",
    "grep(\"count\",colnames(new_merge))"
   ]
  },
  {
   "cell_type": "markdown",
   "metadata": {},
   "source": [
    "## Rename Categorical Vars and Red Blood Cell Counts"
   ]
  },
  {
   "cell_type": "code",
   "execution_count": null,
   "metadata": {},
   "outputs": [],
   "source": []
  },
  {
   "cell_type": "code",
   "execution_count": 12,
   "metadata": {},
   "outputs": [],
   "source": [
    "## rename the variables\n",
    "\n",
    "colnames(new_merge)[138]=\"count\"\n",
    "colnames(new_merge)[178]=\"red_count\""
   ]
  },
  {
   "cell_type": "code",
   "execution_count": 13,
   "metadata": {},
   "outputs": [],
   "source": [
    "new_merge=select(new_merge,-177)"
   ]
  },
  {
   "cell_type": "code",
   "execution_count": 19,
   "metadata": {},
   "outputs": [],
   "source": [
    "new_merge$sex=as.factor(new_merge$`31-0.0`)\n",
    "new_merge$smoke=as.factor(new_merge$`1239-0.0`)\n",
    "new_merge$past_smoke=as.factor(new_merge$`1249-0.0`)\n",
    "new_merge$alcohol=as.factor(new_merge$`1558-0.0`)\n",
    "new_merge$heart=as.factor(new_merge$`6150-0.0`)\n",
    "new_merge$ethnic=as.factor(new_merge$`21000-0.0`)"
   ]
  },
  {
   "cell_type": "code",
   "execution_count": 22,
   "metadata": {},
   "outputs": [
    {
     "data": {
      "text/html": [
       "<table>\n",
       "<caption>A data.table: 6 × 14</caption>\n",
       "<thead>\n",
       "\t<tr><th scope=col>22009-0.40</th><th scope=col>31-0.0</th><th scope=col>1239-0.0</th><th scope=col>1249-0.0</th><th scope=col>1558-0.0</th><th scope=col>6150-0.0</th><th scope=col>21000-0.0</th><th scope=col>red_count</th><th scope=col>sex</th><th scope=col>smoke</th><th scope=col>past_smoke</th><th scope=col>alcohol</th><th scope=col>heart</th><th scope=col>ethnic</th></tr>\n",
       "\t<tr><th scope=col>&lt;dbl&gt;</th><th scope=col>&lt;int&gt;</th><th scope=col>&lt;int&gt;</th><th scope=col>&lt;int&gt;</th><th scope=col>&lt;int&gt;</th><th scope=col>&lt;int&gt;</th><th scope=col>&lt;int&gt;</th><th scope=col>&lt;dbl&gt;</th><th scope=col>&lt;fct&gt;</th><th scope=col>&lt;fct&gt;</th><th scope=col>&lt;fct&gt;</th><th scope=col>&lt;fct&gt;</th><th scope=col>&lt;fct&gt;</th><th scope=col>&lt;fct&gt;</th></tr>\n",
       "</thead>\n",
       "<tbody>\n",
       "\t<tr><td>-0.981541</td><td>0</td><td>0</td><td>4</td><td>3</td><td>-7</td><td>1001</td><td>4.072</td><td>0</td><td>0</td><td>4</td><td>3</td><td>-7</td><td>1001</td></tr>\n",
       "\t<tr><td> 1.005220</td><td>0</td><td>0</td><td>4</td><td>3</td><td> 4</td><td>1001</td><td>4.610</td><td>0</td><td>0</td><td>4</td><td>3</td><td>4 </td><td>1001</td></tr>\n",
       "\t<tr><td>-3.135760</td><td>1</td><td>0</td><td>1</td><td>1</td><td>-7</td><td>1001</td><td>4.541</td><td>1</td><td>0</td><td>1</td><td>1</td><td>-7</td><td>1001</td></tr>\n",
       "\t<tr><td> 2.426050</td><td>0</td><td>0</td><td>1</td><td>3</td><td>-7</td><td>1002</td><td>4.337</td><td>0</td><td>0</td><td>1</td><td>3</td><td>-7</td><td>1002</td></tr>\n",
       "\t<tr><td> 0.670845</td><td>0</td><td>2</td><td>2</td><td>1</td><td>-7</td><td>1001</td><td>4.250</td><td>0</td><td>2</td><td>2</td><td>1</td><td>-7</td><td>1001</td></tr>\n",
       "\t<tr><td>-1.455760</td><td>0</td><td>0</td><td>1</td><td>5</td><td>-7</td><td>1001</td><td>4.693</td><td>0</td><td>0</td><td>1</td><td>5</td><td>-7</td><td>1001</td></tr>\n",
       "</tbody>\n",
       "</table>\n"
      ],
      "text/latex": [
       "A data.table: 6 × 14\n",
       "\\begin{tabular}{r|llllllllllllll}\n",
       " 22009-0.40 & 31-0.0 & 1239-0.0 & 1249-0.0 & 1558-0.0 & 6150-0.0 & 21000-0.0 & red\\_count & sex & smoke & past\\_smoke & alcohol & heart & ethnic\\\\\n",
       " <dbl> & <int> & <int> & <int> & <int> & <int> & <int> & <dbl> & <fct> & <fct> & <fct> & <fct> & <fct> & <fct>\\\\\n",
       "\\hline\n",
       "\t -0.981541 & 0 & 0 & 4 & 3 & -7 & 1001 & 4.072 & 0 & 0 & 4 & 3 & -7 & 1001\\\\\n",
       "\t  1.005220 & 0 & 0 & 4 & 3 &  4 & 1001 & 4.610 & 0 & 0 & 4 & 3 & 4  & 1001\\\\\n",
       "\t -3.135760 & 1 & 0 & 1 & 1 & -7 & 1001 & 4.541 & 1 & 0 & 1 & 1 & -7 & 1001\\\\\n",
       "\t  2.426050 & 0 & 0 & 1 & 3 & -7 & 1002 & 4.337 & 0 & 0 & 1 & 3 & -7 & 1002\\\\\n",
       "\t  0.670845 & 0 & 2 & 2 & 1 & -7 & 1001 & 4.250 & 0 & 2 & 2 & 1 & -7 & 1001\\\\\n",
       "\t -1.455760 & 0 & 0 & 1 & 5 & -7 & 1001 & 4.693 & 0 & 0 & 1 & 5 & -7 & 1001\\\\\n",
       "\\end{tabular}\n"
      ],
      "text/markdown": [
       "\n",
       "A data.table: 6 × 14\n",
       "\n",
       "| 22009-0.40 &lt;dbl&gt; | 31-0.0 &lt;int&gt; | 1239-0.0 &lt;int&gt; | 1249-0.0 &lt;int&gt; | 1558-0.0 &lt;int&gt; | 6150-0.0 &lt;int&gt; | 21000-0.0 &lt;int&gt; | red_count &lt;dbl&gt; | sex &lt;fct&gt; | smoke &lt;fct&gt; | past_smoke &lt;fct&gt; | alcohol &lt;fct&gt; | heart &lt;fct&gt; | ethnic &lt;fct&gt; |\n",
       "|---|---|---|---|---|---|---|---|---|---|---|---|---|---|\n",
       "| -0.981541 | 0 | 0 | 4 | 3 | -7 | 1001 | 4.072 | 0 | 0 | 4 | 3 | -7 | 1001 |\n",
       "|  1.005220 | 0 | 0 | 4 | 3 |  4 | 1001 | 4.610 | 0 | 0 | 4 | 3 | 4  | 1001 |\n",
       "| -3.135760 | 1 | 0 | 1 | 1 | -7 | 1001 | 4.541 | 1 | 0 | 1 | 1 | -7 | 1001 |\n",
       "|  2.426050 | 0 | 0 | 1 | 3 | -7 | 1002 | 4.337 | 0 | 0 | 1 | 3 | -7 | 1002 |\n",
       "|  0.670845 | 0 | 2 | 2 | 1 | -7 | 1001 | 4.250 | 0 | 2 | 2 | 1 | -7 | 1001 |\n",
       "| -1.455760 | 0 | 0 | 1 | 5 | -7 | 1001 | 4.693 | 0 | 0 | 1 | 5 | -7 | 1001 |\n",
       "\n"
      ],
      "text/plain": [
       "  22009-0.40 31-0.0 1239-0.0 1249-0.0 1558-0.0 6150-0.0 21000-0.0 red_count sex\n",
       "1 -0.981541  0      0        4        3        -7       1001      4.072     0  \n",
       "2  1.005220  0      0        4        3         4       1001      4.610     0  \n",
       "3 -3.135760  1      0        1        1        -7       1001      4.541     1  \n",
       "4  2.426050  0      0        1        3        -7       1002      4.337     0  \n",
       "5  0.670845  0      2        2        1        -7       1001      4.250     0  \n",
       "6 -1.455760  0      0        1        5        -7       1001      4.693     0  \n",
       "  smoke past_smoke alcohol heart ethnic\n",
       "1 0     4          3       -7    1001  \n",
       "2 0     4          3       4     1001  \n",
       "3 0     1          1       -7    1001  \n",
       "4 0     1          3       -7    1002  \n",
       "5 2     2          1       -7    1001  \n",
       "6 0     1          5       -7    1001  "
      ]
     },
     "metadata": {},
     "output_type": "display_data"
    }
   ],
   "source": [
    "#head(new_merge[,170:183])"
   ]
  },
  {
   "cell_type": "code",
   "execution_count": 24,
   "metadata": {},
   "outputs": [],
   "source": [
    "new_merge=select(new_merge,-c(171:176))"
   ]
  },
  {
   "cell_type": "code",
   "execution_count": 26,
   "metadata": {},
   "outputs": [
    {
     "data": {
      "text/html": [
       "<ol class=list-inline>\n",
       "\t<li>440568</li>\n",
       "\t<li>177</li>\n",
       "</ol>\n"
      ],
      "text/latex": [
       "\\begin{enumerate*}\n",
       "\\item 440568\n",
       "\\item 177\n",
       "\\end{enumerate*}\n"
      ],
      "text/markdown": [
       "1. 440568\n",
       "2. 177\n",
       "\n",
       "\n"
      ],
      "text/plain": [
       "[1] 440568    177"
      ]
     },
     "metadata": {},
     "output_type": "display_data"
    },
    {
     "data": {
      "text/html": [
       "<table>\n",
       "<caption>A data.table: 6 × 10</caption>\n",
       "<thead>\n",
       "\t<tr><th scope=col>22009-0.38</th><th scope=col>22009-0.39</th><th scope=col>22009-0.40</th><th scope=col>red_count</th><th scope=col>sex</th><th scope=col>smoke</th><th scope=col>past_smoke</th><th scope=col>alcohol</th><th scope=col>heart</th><th scope=col>ethnic</th></tr>\n",
       "\t<tr><th scope=col>&lt;dbl&gt;</th><th scope=col>&lt;dbl&gt;</th><th scope=col>&lt;dbl&gt;</th><th scope=col>&lt;dbl&gt;</th><th scope=col>&lt;fct&gt;</th><th scope=col>&lt;fct&gt;</th><th scope=col>&lt;fct&gt;</th><th scope=col>&lt;fct&gt;</th><th scope=col>&lt;fct&gt;</th><th scope=col>&lt;fct&gt;</th></tr>\n",
       "</thead>\n",
       "<tbody>\n",
       "\t<tr><td> 0.131277</td><td>-0.462365</td><td>-0.981541</td><td>4.072</td><td>0</td><td>0</td><td>4</td><td>3</td><td>-7</td><td>1001</td></tr>\n",
       "\t<tr><td>-4.511990</td><td>-1.329650</td><td> 1.005220</td><td>4.610</td><td>0</td><td>0</td><td>4</td><td>3</td><td>4 </td><td>1001</td></tr>\n",
       "\t<tr><td>-3.889370</td><td>-2.317630</td><td>-3.135760</td><td>4.541</td><td>1</td><td>0</td><td>1</td><td>1</td><td>-7</td><td>1001</td></tr>\n",
       "\t<tr><td>-3.764240</td><td>-0.342686</td><td> 2.426050</td><td>4.337</td><td>0</td><td>0</td><td>1</td><td>3</td><td>-7</td><td>1002</td></tr>\n",
       "\t<tr><td>-3.939710</td><td> 1.750650</td><td> 0.670845</td><td>4.250</td><td>0</td><td>2</td><td>2</td><td>1</td><td>-7</td><td>1001</td></tr>\n",
       "\t<tr><td> 3.016920</td><td>-4.865990</td><td>-1.455760</td><td>4.693</td><td>0</td><td>0</td><td>1</td><td>5</td><td>-7</td><td>1001</td></tr>\n",
       "</tbody>\n",
       "</table>\n"
      ],
      "text/latex": [
       "A data.table: 6 × 10\n",
       "\\begin{tabular}{r|llllllllll}\n",
       " 22009-0.38 & 22009-0.39 & 22009-0.40 & red\\_count & sex & smoke & past\\_smoke & alcohol & heart & ethnic\\\\\n",
       " <dbl> & <dbl> & <dbl> & <dbl> & <fct> & <fct> & <fct> & <fct> & <fct> & <fct>\\\\\n",
       "\\hline\n",
       "\t  0.131277 & -0.462365 & -0.981541 & 4.072 & 0 & 0 & 4 & 3 & -7 & 1001\\\\\n",
       "\t -4.511990 & -1.329650 &  1.005220 & 4.610 & 0 & 0 & 4 & 3 & 4  & 1001\\\\\n",
       "\t -3.889370 & -2.317630 & -3.135760 & 4.541 & 1 & 0 & 1 & 1 & -7 & 1001\\\\\n",
       "\t -3.764240 & -0.342686 &  2.426050 & 4.337 & 0 & 0 & 1 & 3 & -7 & 1002\\\\\n",
       "\t -3.939710 &  1.750650 &  0.670845 & 4.250 & 0 & 2 & 2 & 1 & -7 & 1001\\\\\n",
       "\t  3.016920 & -4.865990 & -1.455760 & 4.693 & 0 & 0 & 1 & 5 & -7 & 1001\\\\\n",
       "\\end{tabular}\n"
      ],
      "text/markdown": [
       "\n",
       "A data.table: 6 × 10\n",
       "\n",
       "| 22009-0.38 &lt;dbl&gt; | 22009-0.39 &lt;dbl&gt; | 22009-0.40 &lt;dbl&gt; | red_count &lt;dbl&gt; | sex &lt;fct&gt; | smoke &lt;fct&gt; | past_smoke &lt;fct&gt; | alcohol &lt;fct&gt; | heart &lt;fct&gt; | ethnic &lt;fct&gt; |\n",
       "|---|---|---|---|---|---|---|---|---|---|\n",
       "|  0.131277 | -0.462365 | -0.981541 | 4.072 | 0 | 0 | 4 | 3 | -7 | 1001 |\n",
       "| -4.511990 | -1.329650 |  1.005220 | 4.610 | 0 | 0 | 4 | 3 | 4  | 1001 |\n",
       "| -3.889370 | -2.317630 | -3.135760 | 4.541 | 1 | 0 | 1 | 1 | -7 | 1001 |\n",
       "| -3.764240 | -0.342686 |  2.426050 | 4.337 | 0 | 0 | 1 | 3 | -7 | 1002 |\n",
       "| -3.939710 |  1.750650 |  0.670845 | 4.250 | 0 | 2 | 2 | 1 | -7 | 1001 |\n",
       "|  3.016920 | -4.865990 | -1.455760 | 4.693 | 0 | 0 | 1 | 5 | -7 | 1001 |\n",
       "\n"
      ],
      "text/plain": [
       "  22009-0.38 22009-0.39 22009-0.40 red_count sex smoke past_smoke alcohol heart\n",
       "1  0.131277  -0.462365  -0.981541  4.072     0   0     4          3       -7   \n",
       "2 -4.511990  -1.329650   1.005220  4.610     0   0     4          3       4    \n",
       "3 -3.889370  -2.317630  -3.135760  4.541     1   0     1          1       -7   \n",
       "4 -3.764240  -0.342686   2.426050  4.337     0   0     1          3       -7   \n",
       "5 -3.939710   1.750650   0.670845  4.250     0   2     2          1       -7   \n",
       "6  3.016920  -4.865990  -1.455760  4.693     0   0     1          5       -7   \n",
       "  ethnic\n",
       "1 1001  \n",
       "2 1001  \n",
       "3 1001  \n",
       "4 1002  \n",
       "5 1001  \n",
       "6 1001  "
      ]
     },
     "metadata": {},
     "output_type": "display_data"
    }
   ],
   "source": [
    "dim(new_merge)\n",
    "head(new_merge[,168:177])"
   ]
  },
  {
   "cell_type": "code",
   "execution_count": 4,
   "metadata": {},
   "outputs": [
    {
     "ename": "ERROR",
     "evalue": "Error in fwrite(new_merge, \"new_merge.csv\"): object 'new_merge' not found\n",
     "output_type": "error",
     "traceback": [
      "Error in fwrite(new_merge, \"new_merge.csv\"): object 'new_merge' not found\nTraceback:\n",
      "1. fwrite(new_merge, \"new_merge.csv\")"
     ]
    }
   ],
   "source": [
    "## save the data\n",
    "fwrite(new_merge,\"new_merge.csv\")"
   ]
  },
  {
   "cell_type": "code",
   "execution_count": 5,
   "metadata": {},
   "outputs": [],
   "source": [
    "new_merge=fread(\"CBC/new_merge.csv\")"
   ]
  },
  {
   "cell_type": "markdown",
   "metadata": {},
   "source": [
    "## Mixed MLR with Cont and Cate Data"
   ]
  },
  {
   "cell_type": "code",
   "execution_count": 7,
   "metadata": {},
   "outputs": [],
   "source": [
    "model_mix=lm(data=new_merge,formula= count ~.-new_merge$red_count)"
   ]
  },
  {
   "cell_type": "code",
   "execution_count": 9,
   "metadata": {
    "scrolled": false
   },
   "outputs": [],
   "source": [
    "#summary(model_mix)"
   ]
  },
  {
   "cell_type": "raw",
   "metadata": {},
   "source": [
    "Signif. codes:  0 ‘***’ 0.001 ‘**’ 0.01 ‘*’ 0.05 ‘.’ 0.1 ‘ ’ 1\n",
    "\n",
    "Residual standard error: 1.974 on 440391 degrees of freedom\n",
    "Multiple R-squared:  0.08783,\tAdjusted R-squared:  0.08747 \n",
    "F-statistic: 240.9 on 176 and 440391 DF,  p-value: < 2.2e-16"
   ]
  },
  {
   "cell_type": "markdown",
   "metadata": {},
   "source": [
    "## Mixed glmnet model with Cont and Cate Data"
   ]
  },
  {
   "cell_type": "code",
   "execution_count": null,
   "metadata": {},
   "outputs": [],
   "source": [
    "set.seed(123) ## keep the seed uniform each time\n",
    "\n",
    "new_new=new_merge[sample(1:nrow(new_merge),50000,replace = F),-177] ### remember to remove the red_blood_cell\n",
    "n=nrow(new_new)\n",
    "sample <- sample(seq(n), size = n * 0.5, replace = FALSE)\n",
    "training.samples <- new_new$count %>%\n",
    "  createDataPartition(p = 0.8, list = FALSE)\n",
    "train.data  <- new_new[training.samples, ]\n",
    "test.data <- new_new[-training.samples, ]\n",
    "# Predictor variables\n",
    "x <- model.matrix(count~., train.data)[,-1]\n",
    "# Outcome variable\n",
    "y <- train.data$count\n",
    "dim(new_new)"
   ]
  },
  {
   "cell_type": "code",
   "execution_count": 17,
   "metadata": {},
   "outputs": [
    {
     "data": {
      "text/html": [
       "<table>\n",
       "<caption>A data.frame: 1 × 2</caption>\n",
       "<thead>\n",
       "\t<tr><th></th><th scope=col>alpha</th><th scope=col>lambda</th></tr>\n",
       "\t<tr><th></th><th scope=col>&lt;dbl&gt;</th><th scope=col>&lt;dbl&gt;</th></tr>\n",
       "</thead>\n",
       "<tbody>\n",
       "\t<tr><th scope=row>91</th><td>1</td><td>0.0001590507</td></tr>\n",
       "</tbody>\n",
       "</table>\n"
      ],
      "text/latex": [
       "A data.frame: 1 × 2\n",
       "\\begin{tabular}{r|ll}\n",
       "  & alpha & lambda\\\\\n",
       "  & <dbl> & <dbl>\\\\\n",
       "\\hline\n",
       "\t91 & 1 & 0.0001590507\\\\\n",
       "\\end{tabular}\n"
      ],
      "text/markdown": [
       "\n",
       "A data.frame: 1 × 2\n",
       "\n",
       "| <!--/--> | alpha &lt;dbl&gt; | lambda &lt;dbl&gt; |\n",
       "|---|---|---|\n",
       "| 91 | 1 | 0.0001590507 |\n",
       "\n"
      ],
      "text/plain": [
       "   alpha lambda      \n",
       "91 1     0.0001590507"
      ]
     },
     "metadata": {},
     "output_type": "display_data"
    }
   ],
   "source": [
    "# Build the model using the training set\n",
    "set.seed(123)\n",
    "model.ela <- train(\n",
    "  count ~., data = train.data, method = \"glmnet\",\n",
    "  trControl = trainControl(\"cv\", number = 10),\n",
    "  tuneLength = 10\n",
    ")\n",
    "# Best tuning parameter\n",
    "model.ela$bestTune"
   ]
  },
  {
   "cell_type": "markdown",
   "metadata": {},
   "source": [
    " ## By Far adj R^2 = Rsquare 0.088763837 is the best \n",
    " - used glmnet() for optimization and tunning"
   ]
  },
  {
   "cell_type": "code",
   "execution_count": 18,
   "metadata": {},
   "outputs": [
    {
     "name": "stderr",
     "output_type": "stream",
     "text": [
      "<sparse>[ <logic> ] : .M.sub.i.logical() maybe inefficient\n"
     ]
    },
    {
     "data": {
      "text/html": [
       "<ol class=list-inline>\n",
       "\t<li>0.506566555478347</li>\n",
       "\t<li>0.454885734787823</li>\n",
       "\t<li>0.400307252111022</li>\n",
       "\t<li>0.22711967442359</li>\n",
       "\t<li>0.201196930633237</li>\n",
       "\t<li>0.195555184347143</li>\n",
       "\t<li>0.16065587571654</li>\n",
       "\t<li>0.103107865537776</li>\n",
       "\t<li>0.10272187689987</li>\n",
       "\t<li>0.0877358761935739</li>\n",
       "</ol>\n"
      ],
      "text/latex": [
       "\\begin{enumerate*}\n",
       "\\item 0.506566555478347\n",
       "\\item 0.454885734787823\n",
       "\\item 0.400307252111022\n",
       "\\item 0.22711967442359\n",
       "\\item 0.201196930633237\n",
       "\\item 0.195555184347143\n",
       "\\item 0.16065587571654\n",
       "\\item 0.103107865537776\n",
       "\\item 0.10272187689987\n",
       "\\item 0.0877358761935739\n",
       "\\end{enumerate*}\n"
      ],
      "text/markdown": [
       "1. 0.506566555478347\n",
       "2. 0.454885734787823\n",
       "3. 0.400307252111022\n",
       "4. 0.22711967442359\n",
       "5. 0.201196930633237\n",
       "6. 0.195555184347143\n",
       "7. 0.16065587571654\n",
       "8. 0.103107865537776\n",
       "9. 0.10272187689987\n",
       "10. 0.0877358761935739\n",
       "\n",
       "\n"
      ],
      "text/plain": [
       " [1] 0.50656656 0.45488573 0.40030725 0.22711967 0.20119693 0.19555518\n",
       " [7] 0.16065588 0.10310787 0.10272188 0.08773588"
      ]
     },
     "metadata": {},
     "output_type": "display_data"
    }
   ],
   "source": [
    "model.best.ela <- glmnet(x, y, alpha = 1, lambda = 0.0001590507)\n",
    "# Dsiplay regression coefficients\n",
    "head(sort(coef(model.best.ela),decreasing = T),10)"
   ]
  },
  {
   "cell_type": "code",
   "execution_count": 19,
   "metadata": {},
   "outputs": [
    {
     "data": {
      "text/html": [
       "<table>\n",
       "<caption>A data.frame: 1 × 2</caption>\n",
       "<thead>\n",
       "\t<tr><th scope=col>RMSE</th><th scope=col>Rsquare</th></tr>\n",
       "\t<tr><th scope=col>&lt;dbl&gt;</th><th scope=col>&lt;dbl&gt;</th></tr>\n",
       "</thead>\n",
       "<tbody>\n",
       "\t<tr><td>1.772209</td><td>0.1115853</td></tr>\n",
       "</tbody>\n",
       "</table>\n"
      ],
      "text/latex": [
       "A data.frame: 1 × 2\n",
       "\\begin{tabular}{r|ll}\n",
       " RMSE & Rsquare\\\\\n",
       " <dbl> & <dbl>\\\\\n",
       "\\hline\n",
       "\t 1.772209 & 0.1115853\\\\\n",
       "\\end{tabular}\n"
      ],
      "text/markdown": [
       "\n",
       "A data.frame: 1 × 2\n",
       "\n",
       "| RMSE &lt;dbl&gt; | Rsquare &lt;dbl&gt; |\n",
       "|---|---|\n",
       "| 1.772209 | 0.1115853 |\n",
       "\n"
      ],
      "text/plain": [
       "  RMSE     Rsquare  \n",
       "1 1.772209 0.1115853"
      ]
     },
     "metadata": {},
     "output_type": "display_data"
    }
   ],
   "source": [
    "# Make predictions on the test data\n",
    "x.test <- model.matrix(count ~., test.data)[,-1]\n",
    "predictions <- model.best.ela %>% predict(x.test) %>% as.vector()\n",
    "# Model performance metrics\n",
    "data.frame(\n",
    "  RMSE = RMSE(predictions, test.data$count),\n",
    "  Rsquare = R2(predictions, test.data$count)\n",
    ")"
   ]
  },
  {
   "cell_type": "code",
   "execution_count": null,
   "metadata": {},
   "outputs": [],
   "source": [
    "## ？？ why "
   ]
  },
  {
   "cell_type": "code",
   "execution_count": null,
   "metadata": {},
   "outputs": [],
   "source": []
  }
 ],
 "metadata": {
  "kernelspec": {
   "display_name": "R 3.6.0",
   "language": "R",
   "name": "ir360"
  },
  "language_info": {
   "codemirror_mode": "r",
   "file_extension": ".r",
   "mimetype": "text/x-r-source",
   "name": "R",
   "pygments_lexer": "r",
   "version": "3.6.0"
  }
 },
 "nbformat": 4,
 "nbformat_minor": 2
}
