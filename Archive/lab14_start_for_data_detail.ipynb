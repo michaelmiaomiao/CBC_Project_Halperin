{
 "cells": [
  {
   "cell_type": "code",
   "execution_count": 1,
   "metadata": {
    "collapsed": false,
    "deletable": true,
    "editable": true
   },
   "outputs": [
    {
     "name": "stderr",
     "output_type": "stream",
     "text": [
      "Loading required package: xml2\n",
      "\n",
      "Attaching package: ‘dplyr’\n",
      "\n",
      "The following objects are masked from ‘package:data.table’:\n",
      "\n",
      "    between, first, last\n",
      "\n",
      "The following objects are masked from ‘package:stats’:\n",
      "\n",
      "    filter, lag\n",
      "\n",
      "The following objects are masked from ‘package:base’:\n",
      "\n",
      "    intersect, setdiff, setequal, union\n",
      "\n",
      "── Attaching packages ─────────────────────────────────────── tidyverse 1.3.0 ──\n",
      "✔ ggplot2 3.2.1     ✔ purrr   0.3.3\n",
      "✔ tibble  2.1.3     ✔ stringr 1.4.0\n",
      "✔ tidyr   1.0.2     ✔ forcats 0.4.0\n",
      "✔ readr   1.3.1     \n",
      "── Conflicts ────────────────────────────────────────── tidyverse_conflicts() ──\n",
      "✖ dplyr::between()        masks data.table::between()\n",
      "✖ dplyr::filter()         masks stats::filter()\n",
      "✖ dplyr::first()          masks data.table::first()\n",
      "✖ readr::guess_encoding() masks rvest::guess_encoding()\n",
      "✖ dplyr::lag()            masks stats::lag()\n",
      "✖ dplyr::last()           masks data.table::last()\n",
      "✖ purrr::pluck()          masks rvest::pluck()\n",
      "✖ purrr::transpose()      masks data.table::transpose()\n",
      "Loading required package: lattice\n",
      "\n",
      "Attaching package: ‘caret’\n",
      "\n",
      "The following object is masked from ‘package:purrr’:\n",
      "\n",
      "    lift\n",
      "\n"
     ]
    }
   ],
   "source": [
    "# YOU MUST USE 3.6.0 AND ABOVE FOR RUNNING GLMNET\n",
    "library(data.table)\n",
    "library(\"rvest\")\n",
    "\n",
    "#library(zoo)\n",
    "library(\"dplyr\")\n",
    "#install.packages(\"scales\")\n",
    "#install.packages(\"rlang\")\n",
    "#install.packages(\"tidyverse\")\n",
    "library(tidyverse)\n",
    "library(caret)\n",
    "#library(glmnet)"
   ]
  },
  {
   "cell_type": "code",
   "execution_count": 2,
   "metadata": {
    "collapsed": false,
    "deletable": true,
    "editable": true
   },
   "outputs": [
    {
     "data": {
      "text/plain": [
       "Time difference of 1.551734 mins"
      ]
     },
     "metadata": {},
     "output_type": "display_data"
    }
   ],
   "source": [
    "\n",
    "start_time <- Sys.time()\n",
    "source(\"/u/project/sriram/ukbiobank/33127/bd_load_data.R\")\n",
    "end_time <- Sys.time()\n",
    "\n",
    "end_time - start_time\n",
    "\n",
    "\n"
   ]
  },
  {
   "cell_type": "code",
   "execution_count": 4,
   "metadata": {
    "collapsed": false,
    "deletable": true,
    "editable": true
   },
   "outputs": [
    {
     "data": {
      "text/html": [
       "<ol class=list-inline>\n",
       "\t<li>502508</li>\n",
       "\t<li>2297</li>\n",
       "</ol>\n"
      ],
      "text/latex": [
       "\\begin{enumerate*}\n",
       "\\item 502508\n",
       "\\item 2297\n",
       "\\end{enumerate*}\n"
      ],
      "text/markdown": [
       "1. 502508\n",
       "2. 2297\n",
       "\n",
       "\n"
      ],
      "text/plain": [
       "[1] 502508   2297"
      ]
     },
     "metadata": {},
     "output_type": "display_data"
    }
   ],
   "source": [
    "dim(data)"
   ]
  },
  {
   "cell_type": "code",
   "execution_count": 5,
   "metadata": {
    "collapsed": true,
    "deletable": true,
    "editable": true
   },
   "outputs": [],
   "source": [
    "\n",
    "alist=as.integer(which(colSums(is.na(data[,1:400]))>=0.25*502508))\n",
    "\n",
    "blist=as.integer(which(colSums(is.na(data[,401:800]))>=0.25*502508))\n",
    "blist=blist+400\n",
    "\n",
    "clist=as.integer(which(colSums(is.na(data[,801:1200]))>=0.25*502508))\n",
    "clist=clist+800\n",
    "\n",
    "dlist=as.integer(which(colSums(is.na(data[,1201:1600]))>=0.25*502508))\n",
    "dlist=dlist+1200\n",
    "\n",
    "elist=as.integer(which(colSums(is.na(data[,1601:2000]))>=0.25*502508))\n",
    "elist=elist+1600\n",
    "\n",
    "flist=as.integer(which(colSums(is.na(data[,2001:2297]))>=0.25*502508))\n",
    "flist=flist+2000\n",
    "\n",
    "\n",
    "\n",
    "\n",
    "\n"
   ]
  },
  {
   "cell_type": "code",
   "execution_count": 6,
   "metadata": {
    "collapsed": false,
    "deletable": true,
    "editable": true
   },
   "outputs": [
    {
     "data": {
      "text/html": [
       "24334"
      ],
      "text/latex": [
       "24334"
      ],
      "text/markdown": [
       "24334"
      ],
      "text/plain": [
       "[1] 24334"
      ]
     },
     "metadata": {},
     "output_type": "display_data"
    }
   ],
   "source": [
    "sum(is.na(select(data,\"30000-0.0\")))"
   ]
  },
  {
   "cell_type": "code",
   "execution_count": 8,
   "metadata": {
    "collapsed": false,
    "deletable": true,
    "editable": true
   },
   "outputs": [
    {
     "data": {
      "text/html": [
       "1524"
      ],
      "text/latex": [
       "1524"
      ],
      "text/markdown": [
       "1524"
      ],
      "text/plain": [
       "[1] 1524"
      ]
     },
     "metadata": {},
     "output_type": "display_data"
    }
   ],
   "source": [
    "na_list=c(alist,blist,clist,dlist,elist,flist)\n",
    "length(na_list)"
   ]
  },
  {
   "cell_type": "code",
   "execution_count": 11,
   "metadata": {
    "collapsed": false,
    "deletable": true,
    "editable": true
   },
   "outputs": [
    {
     "data": {
      "text/plain": [
       "NULL"
      ]
     },
     "metadata": {},
     "output_type": "display_data"
    }
   ],
   "source": [
    "write.csv(na_list,\"na_list.csv\")\n"
   ]
  },
  {
   "cell_type": "code",
   "execution_count": 13,
   "metadata": {
    "collapsed": false,
    "deletable": true,
    "editable": true
   },
   "outputs": [
    {
     "data": {
      "text/html": [
       "<ol class=list-inline>\n",
       "\t<li>1524</li>\n",
       "\t<li>2</li>\n",
       "</ol>\n"
      ],
      "text/latex": [
       "\\begin{enumerate*}\n",
       "\\item 1524\n",
       "\\item 2\n",
       "\\end{enumerate*}\n"
      ],
      "text/markdown": [
       "1. 1524\n",
       "2. 2\n",
       "\n",
       "\n"
      ],
      "text/plain": [
       "[1] 1524    2"
      ]
     },
     "metadata": {},
     "output_type": "display_data"
    }
   ],
   "source": [
    "na_list=read.csv(\"na_list.csv\")\n",
    "dim(na_list)\n",
    "na_list=as.vector(na_list[,2])"
   ]
  },
  {
   "cell_type": "code",
   "execution_count": 50,
   "metadata": {
    "collapsed": false,
    "deletable": true,
    "editable": true
   },
   "outputs": [
    {
     "data": {
      "text/html": [
       "<ol class=list-inline>\n",
       "\t<li>502508</li>\n",
       "\t<li>773</li>\n",
       "</ol>\n"
      ],
      "text/latex": [
       "\\begin{enumerate*}\n",
       "\\item 502508\n",
       "\\item 773\n",
       "\\end{enumerate*}\n"
      ],
      "text/markdown": [
       "1. 502508\n",
       "2. 773\n",
       "\n",
       "\n"
      ],
      "text/plain": [
       "[1] 502508    773"
      ]
     },
     "metadata": {},
     "output_type": "display_data"
    }
   ],
   "source": [
    "new_new=select(data,-c(na_list))\n",
    "dim(new_new)"
   ]
  },
  {
   "cell_type": "code",
   "execution_count": 18,
   "metadata": {
    "collapsed": false,
    "deletable": true,
    "editable": true
   },
   "outputs": [
    {
     "data": {
      "text/html": [
       "352"
      ],
      "text/latex": [
       "352"
      ],
      "text/markdown": [
       "352"
      ],
      "text/plain": [
       "[1] 352"
      ]
     },
     "metadata": {},
     "output_type": "display_data"
    }
   ],
   "source": [
    "grep(\"30000-0.0\",colnames(new_new))  #405"
   ]
  },
  {
   "cell_type": "code",
   "execution_count": 19,
   "metadata": {
    "collapsed": true,
    "deletable": true,
    "editable": true
   },
   "outputs": [],
   "source": [
    "fwrite(new_new,\"new_data.csv\")"
   ]
  },
  {
   "cell_type": "code",
   "execution_count": 24,
   "metadata": {
    "collapsed": false,
    "deletable": true,
    "editable": true
   },
   "outputs": [
    {
     "data": {
      "text/plain": [
       ", , 31-0.0 = 0\n",
       "\n",
       "         21-0.0\n",
       "eid       1 3\n",
       "  1923142 1 0\n",
       "  2456604 1 0\n",
       "  2710701 1 0\n",
       "  2847894 0 0\n",
       "  4636042 1 0\n",
       "  4695056 1 0\n",
       "  5501069 1 0\n",
       "  5626273 0 0\n",
       "  5764431 1 0\n",
       "  5896937 1 0\n",
       "\n",
       ", , 31-0.0 = 1\n",
       "\n",
       "         21-0.0\n",
       "eid       1 3\n",
       "  1923142 0 0\n",
       "  2456604 0 0\n",
       "  2710701 0 0\n",
       "  2847894 0 1\n",
       "  4636042 0 0\n",
       "  4695056 0 0\n",
       "  5501069 0 0\n",
       "  5626273 1 0\n",
       "  5764431 0 0\n",
       "  5896937 0 0\n"
      ]
     },
     "metadata": {},
     "output_type": "display_data"
    }
   ],
   "source": [
    "table(new_new[1:10,1:3])"
   ]
  },
  {
   "cell_type": "code",
   "execution_count": 51,
   "metadata": {
    "collapsed": true,
    "deletable": true,
    "editable": true
   },
   "outputs": [],
   "source": [
    " levelcount=list()\n",
    "for (i in 1:701){\n",
    "    levelcount[i]=length(table(new_new[[i]]))\n",
    "}"
   ]
  },
  {
   "cell_type": "code",
   "execution_count": 54,
   "metadata": {
    "collapsed": false,
    "deletable": true,
    "editable": true
   },
   "outputs": [
    {
     "data": {
      "text/html": [
       "701"
      ],
      "text/latex": [
       "701"
      ],
      "text/markdown": [
       "701"
      ],
      "text/plain": [
       "[1] 701"
      ]
     },
     "metadata": {},
     "output_type": "display_data"
    }
   ],
   "source": [
    "level_count_1=levelcount\n",
    "length(level_count_1)"
   ]
  },
  {
   "cell_type": "code",
   "execution_count": 111,
   "metadata": {
    "collapsed": false,
    "deletable": true,
    "editable": true
   },
   "outputs": [
    {
     "data": {
      "text/html": [
       "<ol class=list-inline>\n",
       "\t<li>4</li>\n",
       "\t<li>258</li>\n",
       "\t<li>267</li>\n",
       "</ol>\n"
      ],
      "text/latex": [
       "\\begin{enumerate*}\n",
       "\\item 4\n",
       "\\item 258\n",
       "\\item 267\n",
       "\\end{enumerate*}\n"
      ],
      "text/markdown": [
       "1. 4\n",
       "2. 258\n",
       "3. 267\n",
       "\n",
       "\n"
      ],
      "text/plain": [
       "[1]   4 258 267"
      ]
     },
     "metadata": {},
     "output_type": "display_data"
    },
    {
     "data": {
      "text/html": [
       "<table>\n",
       "<thead><tr><th scope=col>34-0.0</th><th scope=col>21003-0.0</th><th scope=col>21022-0.0</th></tr></thead>\n",
       "<tbody>\n",
       "\t<tr><td>1966</td><td>41  </td><td>41  </td></tr>\n",
       "\t<tr><td>1956</td><td>53  </td><td>53  </td></tr>\n",
       "\t<tr><td>1950</td><td>58  </td><td>58  </td></tr>\n",
       "</tbody>\n",
       "</table>\n"
      ],
      "text/latex": [
       "\\begin{tabular}{r|lll}\n",
       " 34-0.0 & 21003-0.0 & 21022-0.0\\\\\n",
       "\\hline\n",
       "\t 1966 & 41   & 41  \\\\\n",
       "\t 1956 & 53   & 53  \\\\\n",
       "\t 1950 & 58   & 58  \\\\\n",
       "\\end{tabular}\n"
      ],
      "text/markdown": [
       "\n",
       "34-0.0 | 21003-0.0 | 21022-0.0 | \n",
       "|---|---|---|\n",
       "| 1966 | 41   | 41   | \n",
       "| 1956 | 53   | 53   | \n",
       "| 1950 | 58   | 58   | \n",
       "\n",
       "\n"
      ],
      "text/plain": [
       "  34-0.0 21003-0.0 21022-0.0\n",
       "1 1966   41        41       \n",
       "2 1956   53        53       \n",
       "3 1950   58        58       "
      ]
     },
     "metadata": {},
     "output_type": "display_data"
    }
   ],
   "source": []
  },
  {
   "cell_type": "code",
   "execution_count": 63,
   "metadata": {
    "collapsed": false,
    "deletable": true,
    "editable": true
   },
   "outputs": [
    {
     "data": {
      "text/html": [
       "<ol class=list-inline>\n",
       "\t<li>20</li>\n",
       "\t<li>23</li>\n",
       "</ol>\n"
      ],
      "text/latex": [
       "\\begin{enumerate*}\n",
       "\\item 20\n",
       "\\item 23\n",
       "\\end{enumerate*}\n"
      ],
      "text/markdown": [
       "1. 20\n",
       "2. 23\n",
       "\n",
       "\n"
      ],
      "text/plain": [
       "[1] 20 23"
      ]
     },
     "metadata": {},
     "output_type": "display_data"
    }
   ],
   "source": [
    "which(level_count_1==12)"
   ]
  },
  {
   "cell_type": "code",
   "execution_count": 64,
   "metadata": {
    "collapsed": false,
    "deletable": true,
    "editable": true
   },
   "outputs": [
    {
     "data": {
      "text/html": [
       "<table>\n",
       "<thead><tr><th scope=col>52-0.0</th><th scope=col>55-0.0</th></tr></thead>\n",
       "<tbody>\n",
       "\t<tr><td>2 </td><td>11</td></tr>\n",
       "\t<tr><td>5 </td><td> 6</td></tr>\n",
       "\t<tr><td>6 </td><td> 5</td></tr>\n",
       "</tbody>\n",
       "</table>\n"
      ],
      "text/latex": [
       "\\begin{tabular}{r|ll}\n",
       " 52-0.0 & 55-0.0\\\\\n",
       "\\hline\n",
       "\t 2  & 11\\\\\n",
       "\t 5  &  6\\\\\n",
       "\t 6  &  5\\\\\n",
       "\\end{tabular}\n"
      ],
      "text/markdown": [
       "\n",
       "52-0.0 | 55-0.0 | \n",
       "|---|---|---|\n",
       "| 2  | 11 | \n",
       "| 5  |  6 | \n",
       "| 6  |  5 | \n",
       "\n",
       "\n"
      ],
      "text/plain": [
       "  52-0.0 55-0.0\n",
       "1 2      11    \n",
       "2 5       6    \n",
       "3 6       5    "
      ]
     },
     "metadata": {},
     "output_type": "display_data"
    }
   ],
   "source": [
    "new_new[1:3,c(20,23)]"
   ]
  },
  {
   "cell_type": "code",
   "execution_count": null,
   "metadata": {
    "collapsed": true,
    "deletable": true,
    "editable": true
   },
   "outputs": [],
   "source": []
  },
  {
   "cell_type": "code",
   "execution_count": 125,
   "metadata": {
    "collapsed": false,
    "deletable": true,
    "editable": true
   },
   "outputs": [
    {
     "data": {
      "text/html": [],
      "text/latex": [],
      "text/markdown": [],
      "text/plain": [
       "integer(0)"
      ]
     },
     "metadata": {},
     "output_type": "display_data"
    }
   ],
   "source": [
    "which(level_count_1==30)"
   ]
  },
  {
   "cell_type": "code",
   "execution_count": 124,
   "metadata": {
    "collapsed": false,
    "deletable": true,
    "editable": true
   },
   "outputs": [
    {
     "data": {
      "text/html": [
       "<ol class=list-inline>\n",
       "\t<li>54</li>\n",
       "\t<li>61</li>\n",
       "</ol>\n"
      ],
      "text/latex": [
       "\\begin{enumerate*}\n",
       "\\item 54\n",
       "\\item 61\n",
       "\\end{enumerate*}\n"
      ],
      "text/markdown": [
       "1. 54\n",
       "2. 61\n",
       "\n",
       "\n"
      ],
      "text/plain": [
       "[1] 54 61"
      ]
     },
     "metadata": {},
     "output_type": "display_data"
    },
    {
     "data": {
      "text/html": [
       "<ol class=list-inline>\n",
       "\t<li>53</li>\n",
       "\t<li>117</li>\n",
       "</ol>\n"
      ],
      "text/latex": [
       "\\begin{enumerate*}\n",
       "\\item 53\n",
       "\\item 117\n",
       "\\end{enumerate*}\n"
      ],
      "text/markdown": [
       "1. 53\n",
       "2. 117\n",
       "\n",
       "\n"
      ],
      "text/plain": [
       "[1]  53 117"
      ]
     },
     "metadata": {},
     "output_type": "display_data"
    },
    {
     "data": {
      "text/html": [
       "52"
      ],
      "text/latex": [
       "52"
      ],
      "text/markdown": [
       "52"
      ],
      "text/plain": [
       "[1] 52"
      ]
     },
     "metadata": {},
     "output_type": "display_data"
    },
    {
     "data": {
      "text/html": [
       "<ol class=list-inline>\n",
       "\t<li>50</li>\n",
       "\t<li>51</li>\n",
       "</ol>\n"
      ],
      "text/latex": [
       "\\begin{enumerate*}\n",
       "\\item 50\n",
       "\\item 51\n",
       "\\end{enumerate*}\n"
      ],
      "text/markdown": [
       "1. 50\n",
       "2. 51\n",
       "\n",
       "\n"
      ],
      "text/plain": [
       "[1] 50 51"
      ]
     },
     "metadata": {},
     "output_type": "display_data"
    },
    {
     "data": {
      "text/html": [
       "31"
      ],
      "text/latex": [
       "31"
      ],
      "text/markdown": [
       "31"
      ],
      "text/plain": [
       "[1] 31"
      ]
     },
     "metadata": {},
     "output_type": "display_data"
    },
    {
     "data": {
      "text/html": [],
      "text/latex": [],
      "text/markdown": [],
      "text/plain": [
       "integer(0)"
      ]
     },
     "metadata": {},
     "output_type": "display_data"
    },
    {
     "data": {
      "text/html": [
       "<table>\n",
       "<thead><tr><th scope=col>1090-0.0</th><th scope=col>1160-0.0</th></tr></thead>\n",
       "<tbody>\n",
       "\t<tr><td>  1</td><td> 7 </td></tr>\n",
       "\t<tr><td>-10</td><td> 6 </td></tr>\n",
       "\t<tr><td>-10</td><td>-1 </td></tr>\n",
       "</tbody>\n",
       "</table>\n"
      ],
      "text/latex": [
       "\\begin{tabular}{r|ll}\n",
       " 1090-0.0 & 1160-0.0\\\\\n",
       "\\hline\n",
       "\t   1 &  7 \\\\\n",
       "\t -10 &  6 \\\\\n",
       "\t -10 & -1 \\\\\n",
       "\\end{tabular}\n"
      ],
      "text/markdown": [
       "\n",
       "1090-0.0 | 1160-0.0 | \n",
       "|---|---|---|\n",
       "|   1 |  7  | \n",
       "| -10 |  6  | \n",
       "| -10 | -1  | \n",
       "\n",
       "\n"
      ],
      "text/plain": [
       "  1090-0.0 1160-0.0\n",
       "1   1       7      \n",
       "2 -10       6      \n",
       "3 -10      -1      "
      ]
     },
     "metadata": {},
     "output_type": "display_data"
    },
    {
     "data": {
      "text/html": [
       "<table>\n",
       "<thead><tr><th scope=col>1080-0.0</th><th scope=col>1873-0.0</th></tr></thead>\n",
       "<tbody>\n",
       "\t<tr><td>  2</td><td>0  </td></tr>\n",
       "\t<tr><td>-10</td><td>1  </td></tr>\n",
       "\t<tr><td>  0</td><td>0  </td></tr>\n",
       "</tbody>\n",
       "</table>\n"
      ],
      "text/latex": [
       "\\begin{tabular}{r|ll}\n",
       " 1080-0.0 & 1873-0.0\\\\\n",
       "\\hline\n",
       "\t   2 & 0  \\\\\n",
       "\t -10 & 1  \\\\\n",
       "\t   0 & 0  \\\\\n",
       "\\end{tabular}\n"
      ],
      "text/markdown": [
       "\n",
       "1080-0.0 | 1873-0.0 | \n",
       "|---|---|---|\n",
       "|   2 | 0   | \n",
       "| -10 | 1   | \n",
       "|   0 | 0   | \n",
       "\n",
       "\n"
      ],
      "text/plain": [
       "  1080-0.0 1873-0.0\n",
       "1   2      0       \n",
       "2 -10      1       \n",
       "3   0      0       "
      ]
     },
     "metadata": {},
     "output_type": "display_data"
    },
    {
     "data": {
      "text/html": [
       "<table>\n",
       "<thead><tr><th scope=col>1070-0.0</th></tr></thead>\n",
       "<tbody>\n",
       "\t<tr><td>-10</td></tr>\n",
       "\t<tr><td>  2</td></tr>\n",
       "\t<tr><td> -3</td></tr>\n",
       "</tbody>\n",
       "</table>\n"
      ],
      "text/latex": [
       "\\begin{tabular}{r|l}\n",
       " 1070-0.0\\\\\n",
       "\\hline\n",
       "\t -10\\\\\n",
       "\t   2\\\\\n",
       "\t  -3\\\\\n",
       "\\end{tabular}\n"
      ],
      "text/markdown": [
       "\n",
       "1070-0.0 | \n",
       "|---|---|---|\n",
       "| -10 | \n",
       "|   2 | \n",
       "|  -3 | \n",
       "\n",
       "\n"
      ],
      "text/plain": [
       "  1070-0.0\n",
       "1 -10     \n",
       "2   2     \n",
       "3  -3     "
      ]
     },
     "metadata": {},
     "output_type": "display_data"
    },
    {
     "data": {
      "text/html": [
       "<table>\n",
       "<thead><tr><th scope=col>1050-0.0</th><th scope=col>1060-0.0</th></tr></thead>\n",
       "<tbody>\n",
       "\t<tr><td>-10</td><td>-10</td></tr>\n",
       "\t<tr><td>  2</td><td>  1</td></tr>\n",
       "\t<tr><td>-10</td><td>-10</td></tr>\n",
       "</tbody>\n",
       "</table>\n"
      ],
      "text/latex": [
       "\\begin{tabular}{r|ll}\n",
       " 1050-0.0 & 1060-0.0\\\\\n",
       "\\hline\n",
       "\t -10 & -10\\\\\n",
       "\t   2 &   1\\\\\n",
       "\t -10 & -10\\\\\n",
       "\\end{tabular}\n"
      ],
      "text/markdown": [
       "\n",
       "1050-0.0 | 1060-0.0 | \n",
       "|---|---|---|\n",
       "| -10 | -10 | \n",
       "|   2 |   1 | \n",
       "| -10 | -10 | \n",
       "\n",
       "\n"
      ],
      "text/plain": [
       "  1050-0.0 1060-0.0\n",
       "1 -10      -10     \n",
       "2   2        1     \n",
       "3 -10      -10     "
      ]
     },
     "metadata": {},
     "output_type": "display_data"
    },
    {
     "data": {
      "text/html": [
       "<table>\n",
       "<thead><tr><th scope=col>135-0.0</th></tr></thead>\n",
       "<tbody>\n",
       "\t<tr><td>1</td></tr>\n",
       "\t<tr><td>1</td></tr>\n",
       "\t<tr><td>6</td></tr>\n",
       "</tbody>\n",
       "</table>\n"
      ],
      "text/latex": [
       "\\begin{tabular}{r|l}\n",
       " 135-0.0\\\\\n",
       "\\hline\n",
       "\t 1\\\\\n",
       "\t 1\\\\\n",
       "\t 6\\\\\n",
       "\\end{tabular}\n"
      ],
      "text/markdown": [
       "\n",
       "135-0.0 | \n",
       "|---|---|---|\n",
       "| 1 | \n",
       "| 1 | \n",
       "| 6 | \n",
       "\n",
       "\n"
      ],
      "text/plain": [
       "  135-0.0\n",
       "1 1      \n",
       "2 1      \n",
       "3 6      "
      ]
     },
     "metadata": {},
     "output_type": "display_data"
    },
    {
     "data": {
      "text/html": [
       "<ol>\n",
       "\t<li>29</li>\n",
       "</ol>\n"
      ],
      "text/latex": [
       "\\begin{enumerate}\n",
       "\\item 29\n",
       "\\end{enumerate}\n"
      ],
      "text/markdown": [
       "1. 29\n",
       "\n",
       "\n"
      ],
      "text/plain": [
       "[[1]]\n",
       "[1] 29\n"
      ]
     },
     "metadata": {},
     "output_type": "display_data"
    }
   ],
   "source": [
    "which(level_count_1==25)\n",
    "which(level_count_1==26)\n",
    "which(level_count_1==27)\n",
    "which(level_count_1==28)\n",
    "which(level_count_1==29)\n",
    "\n",
    "new_new[1:3,c(54,61)]\n",
    "new_new[1:3,c(53,117)]\n",
    "new_new[1:3,c(52)]\n",
    "new_new[1:3,c(50,51)]\n",
    "new_new[1:3,c(31)]\n",
    "level_count_1[31]"
   ]
  },
  {
   "cell_type": "code",
   "execution_count": 126,
   "metadata": {
    "collapsed": true,
    "deletable": true,
    "editable": true
   },
   "outputs": [],
   "source": [
    "new_new2=select(new_new,-which(level_count_1<=28))"
   ]
  },
  {
   "cell_type": "code",
   "execution_count": 127,
   "metadata": {
    "collapsed": false,
    "deletable": true,
    "editable": true
   },
   "outputs": [
    {
     "data": {
      "text/html": [
       "<ol class=list-inline>\n",
       "\t<li>502508</li>\n",
       "\t<li>373</li>\n",
       "</ol>\n"
      ],
      "text/latex": [
       "\\begin{enumerate*}\n",
       "\\item 502508\n",
       "\\item 373\n",
       "\\end{enumerate*}\n"
      ],
      "text/markdown": [
       "1. 502508\n",
       "2. 373\n",
       "\n",
       "\n"
      ],
      "text/plain": [
       "[1] 502508    373"
      ]
     },
     "metadata": {},
     "output_type": "display_data"
    },
    {
     "data": {
      "text/html": [
       "169"
      ],
      "text/latex": [
       "169"
      ],
      "text/markdown": [
       "169"
      ],
      "text/plain": [
       "[1] 169"
      ]
     },
     "metadata": {},
     "output_type": "display_data"
    }
   ],
   "source": [
    "dim(new_new2)\n",
    "grep(\"30000-0.0\",colnames(new_new2))"
   ]
  },
  {
   "cell_type": "code",
   "execution_count": 128,
   "metadata": {
    "collapsed": false,
    "deletable": true,
    "editable": true
   },
   "outputs": [
    {
     "data": {
      "text/html": [
       "<ol class=list-inline>\n",
       "\t<li>502508</li>\n",
       "\t<li>373</li>\n",
       "</ol>\n"
      ],
      "text/latex": [
       "\\begin{enumerate*}\n",
       "\\item 502508\n",
       "\\item 373\n",
       "\\end{enumerate*}\n"
      ],
      "text/markdown": [
       "1. 502508\n",
       "2. 373\n",
       "\n",
       "\n"
      ],
      "text/plain": [
       "[1] 502508    373"
      ]
     },
     "metadata": {},
     "output_type": "display_data"
    }
   ],
   "source": [
    "dim(new_new2)"
   ]
  },
  {
   "cell_type": "code",
   "execution_count": 129,
   "metadata": {
    "collapsed": true,
    "deletable": true,
    "editable": true
   },
   "outputs": [],
   "source": [
    "fwrite(new_new2,\"numeric_data_1.csv\")"
   ]
  },
  {
   "cell_type": "code",
   "execution_count": 88,
   "metadata": {
    "collapsed": false,
    "deletable": true,
    "editable": true
   },
   "outputs": [
    {
     "data": {
      "text/html": [
       "<ol class=list-inline>\n",
       "\t<li>22</li>\n",
       "\t<li>32</li>\n",
       "\t<li>54</li>\n",
       "\t<li>61</li>\n",
       "\t<li>118</li>\n",
       "\t<li>186</li>\n",
       "\t<li>187</li>\n",
       "\t<li>237</li>\n",
       "\t<li>238</li>\n",
       "\t<li>239</li>\n",
       "\t<li>242</li>\n",
       "\t<li>243</li>\n",
       "\t<li>255</li>\n",
       "\t<li>271</li>\n",
       "</ol>\n"
      ],
      "text/latex": [
       "\\begin{enumerate*}\n",
       "\\item 22\n",
       "\\item 32\n",
       "\\item 54\n",
       "\\item 61\n",
       "\\item 118\n",
       "\\item 186\n",
       "\\item 187\n",
       "\\item 237\n",
       "\\item 238\n",
       "\\item 239\n",
       "\\item 242\n",
       "\\item 243\n",
       "\\item 255\n",
       "\\item 271\n",
       "\\end{enumerate*}\n"
      ],
      "text/markdown": [
       "1. 22\n",
       "2. 32\n",
       "3. 54\n",
       "4. 61\n",
       "5. 118\n",
       "6. 186\n",
       "7. 187\n",
       "8. 237\n",
       "9. 238\n",
       "10. 239\n",
       "11. 242\n",
       "12. 243\n",
       "13. 255\n",
       "14. 271\n",
       "\n",
       "\n"
      ],
      "text/plain": [
       " [1]  22  32  54  61 118 186 187 237 238 239 242 243 255 271"
      ]
     },
     "metadata": {},
     "output_type": "display_data"
    }
   ],
   "source": [
    "which(level_count_1>12 & level_count_1 <=25)"
   ]
  },
  {
   "cell_type": "code",
   "execution_count": 93,
   "metadata": {
    "collapsed": false,
    "deletable": true,
    "editable": true
   },
   "outputs": [
    {
     "data": {
      "text/html": [
       "<ol class=list-inline>\n",
       "\t<li>502508</li>\n",
       "\t<li>392</li>\n",
       "</ol>\n"
      ],
      "text/latex": [
       "\\begin{enumerate*}\n",
       "\\item 502508\n",
       "\\item 392\n",
       "\\end{enumerate*}\n"
      ],
      "text/markdown": [
       "1. 502508\n",
       "2. 392\n",
       "\n",
       "\n"
      ],
      "text/plain": [
       "[1] 502508    392"
      ]
     },
     "metadata": {},
     "output_type": "display_data"
    },
    {
     "data": {
      "text/html": [
       "<table>\n",
       "<thead><tr><th scope=col>54-0.0</th><th scope=col>132454-0.0</th></tr></thead>\n",
       "<tbody>\n",
       "\t<tr><td>11001</td><td>     </td></tr>\n",
       "\t<tr><td>11018</td><td>     </td></tr>\n",
       "\t<tr><td>11012</td><td>     </td></tr>\n",
       "</tbody>\n",
       "</table>\n"
      ],
      "text/latex": [
       "\\begin{tabular}{r|ll}\n",
       " 54-0.0 & 132454-0.0\\\\\n",
       "\\hline\n",
       "\t 11001 &      \\\\\n",
       "\t 11018 &      \\\\\n",
       "\t 11012 &      \\\\\n",
       "\\end{tabular}\n"
      ],
      "text/markdown": [
       "\n",
       "54-0.0 | 132454-0.0 | \n",
       "|---|---|---|\n",
       "| 11001 |       | \n",
       "| 11018 |       | \n",
       "| 11012 |       | \n",
       "\n",
       "\n"
      ],
      "text/plain": [
       "  54-0.0 132454-0.0\n",
       "1 11001            \n",
       "2 11018            \n",
       "3 11012            "
      ]
     },
     "metadata": {},
     "output_type": "display_data"
    }
   ],
   "source": [
    "dim(new_new2)\n",
    "new_new2[1:3,c(19,390)]"
   ]
  },
  {
   "cell_type": "code",
   "execution_count": 104,
   "metadata": {
    "collapsed": false,
    "deletable": true,
    "editable": true
   },
   "outputs": [
    {
     "data": {
      "text/plain": [
       "\n",
       "    -3     -1      0      1      2      3      4      5      6      7      8 \n",
       "   568    497 185831 177640  76004  30685  12978   5752   2489   1087    446 \n",
       "     9     10     11     12     13     14     15     16     17     19     20 \n",
       "   155     63     20     12      6      5      2      1      1      1      1 \n",
       "    22 \n",
       "     1 "
      ]
     },
     "metadata": {},
     "output_type": "display_data"
    },
    {
     "data": {
      "text/html": [
       "<table>\n",
       "<thead><tr><th scope=col>1883-0.0</th></tr></thead>\n",
       "<tbody>\n",
       "\t<tr><td>1</td></tr>\n",
       "\t<tr><td>3</td></tr>\n",
       "\t<tr><td>1</td></tr>\n",
       "\t<tr><td>1</td></tr>\n",
       "\t<tr><td>0</td></tr>\n",
       "\t<tr><td>1</td></tr>\n",
       "</tbody>\n",
       "</table>\n"
      ],
      "text/latex": [
       "\\begin{tabular}{r|l}\n",
       " 1883-0.0\\\\\n",
       "\\hline\n",
       "\t 1\\\\\n",
       "\t 3\\\\\n",
       "\t 1\\\\\n",
       "\t 1\\\\\n",
       "\t 0\\\\\n",
       "\t 1\\\\\n",
       "\\end{tabular}\n"
      ],
      "text/markdown": [
       "\n",
       "1883-0.0 | \n",
       "|---|---|---|---|---|---|\n",
       "| 1 | \n",
       "| 3 | \n",
       "| 1 | \n",
       "| 1 | \n",
       "| 0 | \n",
       "| 1 | \n",
       "\n",
       "\n"
      ],
      "text/plain": [
       "  1883-0.0\n",
       "1 1       \n",
       "2 3       \n",
       "3 1       \n",
       "4 1       \n",
       "5 0       \n",
       "6 1       "
      ]
     },
     "metadata": {},
     "output_type": "display_data"
    }
   ],
   "source": [
    "table(new_new2[,53])\n",
    "head(new_new2[,53])"
   ]
  },
  {
   "cell_type": "code",
   "execution_count": 102,
   "metadata": {
    "collapsed": false,
    "deletable": true,
    "editable": true
   },
   "outputs": [
    {
     "data": {
      "text/html": [
       "<ol class=list-inline>\n",
       "\t<li>19</li>\n",
       "\t<li>390</li>\n",
       "</ol>\n"
      ],
      "text/latex": [
       "\\begin{enumerate*}\n",
       "\\item 19\n",
       "\\item 390\n",
       "\\end{enumerate*}\n"
      ],
      "text/markdown": [
       "1. 19\n",
       "2. 390\n",
       "\n",
       "\n"
      ],
      "text/plain": [
       "[1]  19 390"
      ]
     },
     "metadata": {},
     "output_type": "display_data"
    },
    {
     "data": {
      "text/html": [
       "<ol class=list-inline>\n",
       "\t<li>26</li>\n",
       "\t<li>97</li>\n",
       "</ol>\n"
      ],
      "text/latex": [
       "\\begin{enumerate*}\n",
       "\\item 26\n",
       "\\item 97\n",
       "\\end{enumerate*}\n"
      ],
      "text/markdown": [
       "1. 26\n",
       "2. 97\n",
       "\n",
       "\n"
      ],
      "text/plain": [
       "[1] 26 97"
      ]
     },
     "metadata": {},
     "output_type": "display_data"
    },
    {
     "data": {
      "text/html": [
       "38"
      ],
      "text/latex": [
       "38"
      ],
      "text/markdown": [
       "38"
      ],
      "text/plain": [
       "[1] 38"
      ]
     },
     "metadata": {},
     "output_type": "display_data"
    },
    {
     "data": {
      "text/html": [
       "39"
      ],
      "text/latex": [
       "39"
      ],
      "text/markdown": [
       "39"
      ],
      "text/plain": [
       "[1] 39"
      ]
     },
     "metadata": {},
     "output_type": "display_data"
    },
    {
     "data": {
      "text/html": [
       "53"
      ],
      "text/latex": [
       "53"
      ],
      "text/markdown": [
       "53"
      ],
      "text/plain": [
       "[1] 53"
      ]
     },
     "metadata": {},
     "output_type": "display_data"
    },
    {
     "data": {
      "text/html": [
       "<ol class=list-inline>\n",
       "\t<li>26</li>\n",
       "\t<li>97</li>\n",
       "</ol>\n"
      ],
      "text/latex": [
       "\\begin{enumerate*}\n",
       "\\item 26\n",
       "\\item 97\n",
       "\\end{enumerate*}\n"
      ],
      "text/markdown": [
       "1. 26\n",
       "2. 97\n",
       "\n",
       "\n"
      ],
      "text/plain": [
       "[1] 26 97"
      ]
     },
     "metadata": {},
     "output_type": "display_data"
    },
    {
     "data": {
      "text/html": [
       "<ol class=list-inline>\n",
       "\t<li>26</li>\n",
       "\t<li>97</li>\n",
       "</ol>\n"
      ],
      "text/latex": [
       "\\begin{enumerate*}\n",
       "\\item 26\n",
       "\\item 97\n",
       "\\end{enumerate*}\n"
      ],
      "text/markdown": [
       "1. 26\n",
       "2. 97\n",
       "\n",
       "\n"
      ],
      "text/plain": [
       "[1] 26 97"
      ]
     },
     "metadata": {},
     "output_type": "display_data"
    },
    {
     "data": {
      "text/html": [
       "<ol class=list-inline>\n",
       "\t<li>26</li>\n",
       "\t<li>97</li>\n",
       "</ol>\n"
      ],
      "text/latex": [
       "\\begin{enumerate*}\n",
       "\\item 26\n",
       "\\item 97\n",
       "\\end{enumerate*}\n"
      ],
      "text/markdown": [
       "1. 26\n",
       "2. 97\n",
       "\n",
       "\n"
      ],
      "text/plain": [
       "[1] 26 97"
      ]
     },
     "metadata": {},
     "output_type": "display_data"
    },
    {
     "data": {
      "text/html": [
       "<ol class=list-inline>\n",
       "\t<li>26</li>\n",
       "\t<li>97</li>\n",
       "</ol>\n"
      ],
      "text/latex": [
       "\\begin{enumerate*}\n",
       "\\item 26\n",
       "\\item 97\n",
       "\\end{enumerate*}\n"
      ],
      "text/markdown": [
       "1. 26\n",
       "2. 97\n",
       "\n",
       "\n"
      ],
      "text/plain": [
       "[1] 26 97"
      ]
     },
     "metadata": {},
     "output_type": "display_data"
    },
    {
     "data": {
      "text/html": [
       "<ol class=list-inline>\n",
       "\t<li>26</li>\n",
       "\t<li>97</li>\n",
       "</ol>\n"
      ],
      "text/latex": [
       "\\begin{enumerate*}\n",
       "\\item 26\n",
       "\\item 97\n",
       "\\end{enumerate*}\n"
      ],
      "text/markdown": [
       "1. 26\n",
       "2. 97\n",
       "\n",
       "\n"
      ],
      "text/plain": [
       "[1] 26 97"
      ]
     },
     "metadata": {},
     "output_type": "display_data"
    },
    {
     "data": {
      "text/html": [
       "<ol class=list-inline>\n",
       "\t<li>26</li>\n",
       "\t<li>97</li>\n",
       "</ol>\n"
      ],
      "text/latex": [
       "\\begin{enumerate*}\n",
       "\\item 26\n",
       "\\item 97\n",
       "\\end{enumerate*}\n"
      ],
      "text/markdown": [
       "1. 26\n",
       "2. 97\n",
       "\n",
       "\n"
      ],
      "text/plain": [
       "[1] 26 97"
      ]
     },
     "metadata": {},
     "output_type": "display_data"
    },
    {
     "data": {
      "text/html": [
       "<ol class=list-inline>\n",
       "\t<li>26</li>\n",
       "\t<li>97</li>\n",
       "</ol>\n"
      ],
      "text/latex": [
       "\\begin{enumerate*}\n",
       "\\item 26\n",
       "\\item 97\n",
       "\\end{enumerate*}\n"
      ],
      "text/markdown": [
       "1. 26\n",
       "2. 97\n",
       "\n",
       "\n"
      ],
      "text/plain": [
       "[1] 26 97"
      ]
     },
     "metadata": {},
     "output_type": "display_data"
    },
    {
     "data": {
      "text/html": [
       "<ol class=list-inline>\n",
       "\t<li>26</li>\n",
       "\t<li>97</li>\n",
       "</ol>\n"
      ],
      "text/latex": [
       "\\begin{enumerate*}\n",
       "\\item 26\n",
       "\\item 97\n",
       "\\end{enumerate*}\n"
      ],
      "text/markdown": [
       "1. 26\n",
       "2. 97\n",
       "\n",
       "\n"
      ],
      "text/plain": [
       "[1] 26 97"
      ]
     },
     "metadata": {},
     "output_type": "display_data"
    },
    {
     "data": {
      "text/html": [
       "<ol class=list-inline>\n",
       "\t<li>26</li>\n",
       "\t<li>97</li>\n",
       "</ol>\n"
      ],
      "text/latex": [
       "\\begin{enumerate*}\n",
       "\\item 26\n",
       "\\item 97\n",
       "\\end{enumerate*}\n"
      ],
      "text/markdown": [
       "1. 26\n",
       "2. 97\n",
       "\n",
       "\n"
      ],
      "text/plain": [
       "[1] 26 97"
      ]
     },
     "metadata": {},
     "output_type": "display_data"
    },
    {
     "data": {
      "text/html": [
       "<ol class=list-inline>\n",
       "\t<li>26</li>\n",
       "\t<li>97</li>\n",
       "</ol>\n"
      ],
      "text/latex": [
       "\\begin{enumerate*}\n",
       "\\item 26\n",
       "\\item 97\n",
       "\\end{enumerate*}\n"
      ],
      "text/markdown": [
       "1. 26\n",
       "2. 97\n",
       "\n",
       "\n"
      ],
      "text/plain": [
       "[1] 26 97"
      ]
     },
     "metadata": {},
     "output_type": "display_data"
    }
   ],
   "source": [
    "grep(c(\"54-0.0\"),colnames(new_new2)) #-\n",
    "grep(c(\"136-0.0\"),colnames(new_new2))\n",
    "grep(c(\"1090-0.0\"),colnames(new_new2))\n",
    "\n",
    "\n",
    "\n",
    "grep(c(\"1160-0.0\"),colnames(new_new2))\n",
    "grep(c(\"1883-0.0\"),colnames(new_new2))\n",
    "grep(c(\"136-0.0\"),colnames(new_new2))\n",
    "grep(c(\"136-0.0\"),colnames(new_new2))\n",
    "grep(c(\"136-0.0\"),colnames(new_new2))\n",
    "grep(c(\"136-0.0\"),colnames(new_new2))\n",
    "grep(c(\"136-0.0\"),colnames(new_new2))\n",
    "grep(c(\"136-0.0\"),colnames(new_new2))\n",
    "grep(c(\"136-0.0\"),colnames(new_new2))\n",
    "grep(c(\"136-0.0\"),colnames(new_new2))\n",
    "grep(c(\"136-0.0\"),colnames(new_new2))\n",
    "grep(c(\"136-0.0\"),colnames(new_new2))"
   ]
  },
  {
   "cell_type": "code",
   "execution_count": 87,
   "metadata": {
    "collapsed": false,
    "deletable": true,
    "editable": true
   },
   "outputs": [
    {
     "data": {
      "text/html": [
       "<table>\n",
       "<thead><tr><th scope=col>54-0.0</th><th scope=col>136-0.0</th><th scope=col>1090-0.0</th><th scope=col>1160-0.0</th><th scope=col>1883-0.0</th><th scope=col>5090-0.0</th><th scope=col>5091-0.0</th><th scope=col>20107-0.0</th><th scope=col>20110-0.0</th><th scope=col>20111-0.0</th><th scope=col>20118-0.0</th><th scope=col>20127-0.0</th><th scope=col>21000-0.0</th><th scope=col>22033-0.0</th></tr></thead>\n",
       "<tbody>\n",
       "\t<tr><td>11001</td><td> 2   </td><td>  1  </td><td> 7   </td><td>1    </td><td>     </td><td>     </td><td>-17  </td><td>  5  </td><td>-17  </td><td>5    </td><td> 0   </td><td>1001 </td><td>NA   </td></tr>\n",
       "\t<tr><td>11018</td><td> 1   </td><td>-10  </td><td> 6   </td><td>3    </td><td>     </td><td>     </td><td>  2  </td><td>-11  </td><td>  5  </td><td>5    </td><td>NA   </td><td>1001 </td><td>11   </td></tr>\n",
       "\t<tr><td>11012</td><td> 1   </td><td>-10  </td><td>-1   </td><td>1    </td><td>     </td><td>     </td><td>  6  </td><td>-11  </td><td>-17  </td><td>5    </td><td>NA   </td><td>  -3 </td><td>NA   </td></tr>\n",
       "\t<tr><td>11010</td><td> 3   </td><td>  2  </td><td> 7   </td><td>1    </td><td>     </td><td>     </td><td>  8  </td><td> 12  </td><td>  8  </td><td>5    </td><td> 6   </td><td>1001 </td><td>13   </td></tr>\n",
       "\t<tr><td>11012</td><td> 1   </td><td>-10  </td><td> 8   </td><td>0    </td><td>     </td><td>     </td><td> 13  </td><td>  8  </td><td>  8  </td><td>5    </td><td> 2   </td><td>1001 </td><td>12   </td></tr>\n",
       "\t<tr><td>11009</td><td> 0   </td><td>  0  </td><td> 7   </td><td>1    </td><td>     </td><td>     </td><td>  1  </td><td>  8  </td><td>-17  </td><td>5    </td><td> 9   </td><td>1001 </td><td>13   </td></tr>\n",
       "\t<tr><td>11021</td><td> 1   </td><td>  0  </td><td> 6   </td><td>0    </td><td>     </td><td>     </td><td>  1  </td><td>  9  </td><td>  9  </td><td>5    </td><td> 0   </td><td>1001 </td><td> 9   </td></tr>\n",
       "\t<tr><td>11011</td><td> 3   </td><td>  1  </td><td> 7   </td><td>0    </td><td>     </td><td>     </td><td>  1  </td><td>-17  </td><td>  9  </td><td>5    </td><td>NA   </td><td>1001 </td><td> 1   </td></tr>\n",
       "\t<tr><td>11010</td><td> 3   </td><td>-10  </td><td> 8   </td><td>3    </td><td>     </td><td>     </td><td>-17  </td><td> 12  </td><td>  1  </td><td>5    </td><td> 6   </td><td>1001 </td><td>17   </td></tr>\n",
       "\t<tr><td>11016</td><td> 7   </td><td>-10  </td><td> 5   </td><td>1    </td><td>     </td><td>     </td><td>  6  </td><td>  8  </td><td>  8  </td><td>5    </td><td>10   </td><td>1001 </td><td> 0   </td></tr>\n",
       "\t<tr><td>11010</td><td> 0   </td><td>  0  </td><td> 6   </td><td>0    </td><td>     </td><td>     </td><td>  1  </td><td>-11  </td><td>-11  </td><td>5    </td><td> 8   </td><td>1001 </td><td> 8   </td></tr>\n",
       "\t<tr><td>11006</td><td> 1   </td><td>  1  </td><td> 8   </td><td>1    </td><td>     </td><td>     </td><td>-17  </td><td>-17  </td><td>-17  </td><td>5    </td><td> 0   </td><td>1001 </td><td> 3   </td></tr>\n",
       "\t<tr><td>10003</td><td> 2   </td><td>  0  </td><td> 6   </td><td>3    </td><td>     </td><td>     </td><td>  8  </td><td>  5  </td><td>  8  </td><td>5    </td><td> 3   </td><td>1001 </td><td>NA   </td></tr>\n",
       "\t<tr><td>11010</td><td> 0   </td><td>  1  </td><td> 8   </td><td>1    </td><td>     </td><td>     </td><td>-17  </td><td>  9  </td><td>  9  </td><td>5    </td><td> 4   </td><td>1001 </td><td>17   </td></tr>\n",
       "\t<tr><td>11020</td><td> 0   </td><td>  2  </td><td> 7   </td><td>2    </td><td>     </td><td>     </td><td> 10  </td><td> 10  </td><td>-11  </td><td>5    </td><td> 3   </td><td>1001 </td><td> 9   </td></tr>\n",
       "\t<tr><td>11021</td><td> 1   </td><td>  1  </td><td> 8   </td><td>0    </td><td>     </td><td>     </td><td>  4  </td><td>  1  </td><td> NA  </td><td>5    </td><td> 0   </td><td>1001 </td><td> 6   </td></tr>\n",
       "\t<tr><td>11021</td><td> 1   </td><td>  0  </td><td> 8   </td><td>0    </td><td>     </td><td>     </td><td>-11  </td><td>  3  </td><td>  9  </td><td>5    </td><td>NA   </td><td>1001 </td><td> 5   </td></tr>\n",
       "\t<tr><td>11018</td><td> 0   </td><td>  1  </td><td> 8   </td><td>0    </td><td>     </td><td>     </td><td>  8  </td><td>  8  </td><td>  8  </td><td>5    </td><td>NA   </td><td>1003 </td><td>14   </td></tr>\n",
       "\t<tr><td>11011</td><td> 2   </td><td>  1  </td><td> 7   </td><td>1    </td><td>     </td><td>     </td><td>  2  </td><td> 12  </td><td> 12  </td><td>5    </td><td> 7   </td><td>1001 </td><td> 6   </td></tr>\n",
       "\t<tr><td>11006</td><td> 1   </td><td>-10  </td><td> 9   </td><td>0    </td><td>     </td><td>     </td><td>  2  </td><td>  8  </td><td>-17  </td><td>5    </td><td>10   </td><td>1001 </td><td>10   </td></tr>\n",
       "\t<tr><td>11014</td><td> 2   </td><td>  1  </td><td>10   </td><td>3    </td><td>     </td><td>     </td><td>  6  </td><td>  8  </td><td>-17  </td><td>5    </td><td> 7   </td><td>1001 </td><td> 7   </td></tr>\n",
       "\t<tr><td>11006</td><td> 2   </td><td>-10  </td><td> 9   </td><td>0    </td><td>     </td><td>     </td><td>-17  </td><td> 12  </td><td>-17  </td><td>5    </td><td>12   </td><td>1001 </td><td>17   </td></tr>\n",
       "\t<tr><td>11013</td><td> 0   </td><td>  0  </td><td> 6   </td><td>1    </td><td>     </td><td>     </td><td>  8  </td><td>  3  </td><td>  1  </td><td>5    </td><td> 8   </td><td>1001 </td><td>15   </td></tr>\n",
       "\t<tr><td>11010</td><td> 0   </td><td>  0  </td><td> 5   </td><td>0    </td><td>     </td><td>     </td><td>-11  </td><td>  8  </td><td> NA  </td><td>5    </td><td> 0   </td><td>1001 </td><td> 7   </td></tr>\n",
       "\t<tr><td>11020</td><td> 2   </td><td>-10  </td><td> 7   </td><td>1    </td><td>     </td><td>     </td><td>  3  </td><td>  9  </td><td>-17  </td><td>5    </td><td> 9   </td><td>1003 </td><td>18   </td></tr>\n",
       "\t<tr><td>11008</td><td> 3   </td><td>-10  </td><td> 8   </td><td>0    </td><td>     </td><td>     </td><td>  2  </td><td>-17  </td><td>-17  </td><td>5    </td><td>NA   </td><td>1001 </td><td>NA   </td></tr>\n",
       "\t<tr><td>11020</td><td> 1   </td><td>  0  </td><td> 6   </td><td>1    </td><td>     </td><td>     </td><td>-17  </td><td>  8  </td><td> 12  </td><td>5    </td><td>NA   </td><td>3001 </td><td> 6   </td></tr>\n",
       "\t<tr><td>11008</td><td> 2   </td><td>  0  </td><td> 8   </td><td>1    </td><td>     </td><td>     </td><td>  6  </td><td>  6  </td><td>  1  </td><td>5    </td><td> 6   </td><td>1001 </td><td> 5   </td></tr>\n",
       "\t<tr><td>11008</td><td>NA   </td><td>  1  </td><td> 6   </td><td>1    </td><td>     </td><td>     </td><td>-17  </td><td>  8  </td><td> 12  </td><td>7    </td><td> 4   </td><td>1001 </td><td>17   </td></tr>\n",
       "\t<tr><td>11014</td><td> 0   </td><td>  0  </td><td> 5   </td><td>1    </td><td>     </td><td>     </td><td>  8  </td><td>-17  </td><td>-17  </td><td>5    </td><td> 8   </td><td>1001 </td><td>15   </td></tr>\n",
       "\t<tr><td>⋮</td><td>⋮</td><td>⋮</td><td>⋮</td><td>⋮</td><td>⋮</td><td>⋮</td><td>⋮</td><td>⋮</td><td>⋮</td><td>⋮</td><td>⋮</td><td>⋮</td><td>⋮</td></tr>\n",
       "\t<tr><td>11022</td><td>1    </td><td>  0  </td><td>7    </td><td> 2   </td><td>     </td><td>     </td><td>-11  </td><td> 10  </td><td>-17  </td><td> 5   </td><td> 2   </td><td>1001 </td><td> 7   </td></tr>\n",
       "\t<tr><td>11009</td><td>0    </td><td>  2  </td><td>7    </td><td> 0   </td><td>     </td><td>     </td><td>  1  </td><td>-17  </td><td>-11  </td><td> 8   </td><td>NA   </td><td>1001 </td><td> 2   </td></tr>\n",
       "\t<tr><td>11007</td><td>2    </td><td>-10  </td><td>8    </td><td> 2   </td><td>     </td><td>     </td><td>  9  </td><td>  8  </td><td>-17  </td><td> 6   </td><td> 2   </td><td>1001 </td><td> 4   </td></tr>\n",
       "\t<tr><td>11020</td><td>0    </td><td>-10  </td><td>6    </td><td> 1   </td><td>     </td><td>     </td><td>  4  </td><td>  5  </td><td>-17  </td><td> 5   </td><td> 5   </td><td>1001 </td><td>12   </td></tr>\n",
       "\t<tr><td>11010</td><td>1    </td><td>  3  </td><td>8    </td><td> 1   </td><td>     </td><td>     </td><td>-11  </td><td>  8  </td><td>  8  </td><td> 5   </td><td>10   </td><td>1001 </td><td>NA   </td></tr>\n",
       "\t<tr><td>11021</td><td>1    </td><td>-10  </td><td>8    </td><td> 1   </td><td>     </td><td>     </td><td>-17  </td><td>  8  </td><td>-17  </td><td> 5   </td><td> 4   </td><td>1001 </td><td>10   </td></tr>\n",
       "\t<tr><td>11021</td><td>0    </td><td>-10  </td><td>7    </td><td> 1   </td><td>     </td><td>     </td><td>  6  </td><td>-17  </td><td>  5  </td><td> 5   </td><td> 2   </td><td>1001 </td><td> 5   </td></tr>\n",
       "\t<tr><td>11021</td><td>0    </td><td>  1  </td><td>8    </td><td> 2   </td><td>     </td><td>     </td><td>  1  </td><td>  1  </td><td> 12  </td><td> 5   </td><td> 5   </td><td>1001 </td><td>17   </td></tr>\n",
       "\t<tr><td>11010</td><td>3    </td><td>-10  </td><td>7    </td><td> 1   </td><td>     </td><td>     </td><td>  1  </td><td>-17  </td><td>-17  </td><td> 6   </td><td>NA   </td><td>1001 </td><td> 0   </td></tr>\n",
       "\t<tr><td>11011</td><td>2    </td><td>  2  </td><td>8    </td><td> 1   </td><td>     </td><td>     </td><td>-17  </td><td>  4  </td><td>-17  </td><td> 5   </td><td> 0   </td><td>1001 </td><td>NA   </td></tr>\n",
       "\t<tr><td>11014</td><td>1    </td><td>  2  </td><td>7    </td><td> 4   </td><td>     </td><td>     </td><td> 10  </td><td> 10  </td><td>  9  </td><td>NA   </td><td> 6   </td><td>1001 </td><td> 0   </td></tr>\n",
       "\t<tr><td>11013</td><td>0    </td><td>  0  </td><td>9    </td><td> 0   </td><td>     </td><td>     </td><td>  9  </td><td>  6  </td><td>-17  </td><td> 5   </td><td>NA   </td><td>1001 </td><td> 7   </td></tr>\n",
       "\t<tr><td>11020</td><td>2    </td><td>-10  </td><td>8    </td><td> 1   </td><td>     </td><td>     </td><td>  1  </td><td>  8  </td><td>-17  </td><td> 5   </td><td>10   </td><td>1001 </td><td> 1   </td></tr>\n",
       "\t<tr><td>11021</td><td>0    </td><td>  1  </td><td>7    </td><td> 0   </td><td>     </td><td>     </td><td>  9  </td><td>  9  </td><td>-17  </td><td> 5   </td><td> 5   </td><td>1001 </td><td> 4   </td></tr>\n",
       "\t<tr><td>11020</td><td>5    </td><td>-10  </td><td>8    </td><td> 0   </td><td>     </td><td>     </td><td>  3  </td><td>-17  </td><td>-17  </td><td> 5   </td><td>NA   </td><td>1001 </td><td>13   </td></tr>\n",
       "\t<tr><td>11017</td><td>1    </td><td>  7  </td><td>7    </td><td> 2   </td><td>     </td><td>     </td><td>  2  </td><td>-17  </td><td>-17  </td><td> 8   </td><td> 0   </td><td>1001 </td><td>17   </td></tr>\n",
       "\t<tr><td>11011</td><td>2    </td><td>  2  </td><td>7    </td><td> 3   </td><td>     </td><td>     </td><td>-17  </td><td>-17  </td><td>  6  </td><td> 7   </td><td> 0   </td><td>1001 </td><td>13   </td></tr>\n",
       "\t<tr><td>11018</td><td>1    </td><td>  2  </td><td>6    </td><td>NA   </td><td>     </td><td>     </td><td> NA  </td><td> NA  </td><td> NA  </td><td> 5   </td><td> 8   </td><td>1001 </td><td>13   </td></tr>\n",
       "\t<tr><td>11003</td><td>1    </td><td>  1  </td><td>7    </td><td> 2   </td><td>     </td><td>     </td><td>  8  </td><td> 10  </td><td>  8  </td><td> 5   </td><td>NA   </td><td>1001 </td><td>NA   </td></tr>\n",
       "\t<tr><td>11016</td><td>3    </td><td>-10  </td><td>7    </td><td> 4   </td><td>     </td><td>     </td><td>  4  </td><td>  8  </td><td>-17  </td><td> 5   </td><td> 2   </td><td>1001 </td><td>14   </td></tr>\n",
       "\t<tr><td>11014</td><td>0    </td><td>  2  </td><td>7    </td><td> 0   </td><td>     </td><td>     </td><td>-17  </td><td>-17  </td><td> 12  </td><td> 5   </td><td> 6   </td><td>1001 </td><td> 7   </td></tr>\n",
       "\t<tr><td>11014</td><td>4    </td><td>  1  </td><td>7    </td><td> 0   </td><td>     </td><td>     </td><td>-17  </td><td>-17  </td><td> NA  </td><td> 5   </td><td> 7   </td><td>1001 </td><td>13   </td></tr>\n",
       "\t<tr><td>11010</td><td>5    </td><td>  1  </td><td>6    </td><td>NA   </td><td>     </td><td>     </td><td> NA  </td><td> NA  </td><td> NA  </td><td> 7   </td><td>10   </td><td>1001 </td><td>11   </td></tr>\n",
       "\t<tr><td>11018</td><td>1    </td><td>-10  </td><td>7    </td><td> 1   </td><td>     </td><td>     </td><td>  8  </td><td>  6  </td><td>-17  </td><td> 5   </td><td> 0   </td><td>1001 </td><td> 7   </td></tr>\n",
       "\t<tr><td>11020</td><td>2    </td><td>  2  </td><td>8    </td><td> 0   </td><td>     </td><td>     </td><td> 10  </td><td>  2  </td><td>  8  </td><td> 5   </td><td> 5   </td><td>1001 </td><td>14   </td></tr>\n",
       "\t<tr><td>11010</td><td>2    </td><td>-10  </td><td>8    </td><td> 2   </td><td>     </td><td>     </td><td>-17  </td><td>-17  </td><td>-17  </td><td> 5   </td><td> 0   </td><td>2004 </td><td> 7   </td></tr>\n",
       "\t<tr><td>11007</td><td>1    </td><td>  1  </td><td>7    </td><td> 0   </td><td>     </td><td>     </td><td>  9  </td><td>  2  </td><td> NA  </td><td> 5   </td><td> 8   </td><td>1001 </td><td>15   </td></tr>\n",
       "\t<tr><td>11004</td><td>3    </td><td>-10  </td><td>8    </td><td> 2   </td><td>     </td><td>     </td><td>-11  </td><td> 12  </td><td>-17  </td><td>11   </td><td>NA   </td><td>1001 </td><td>NA   </td></tr>\n",
       "\t<tr><td>11017</td><td>1    </td><td>  1  </td><td>7    </td><td> 3   </td><td>     </td><td>     </td><td>  6  </td><td>  6  </td><td>  8  </td><td> 6   </td><td> 4   </td><td>1001 </td><td> 5   </td></tr>\n",
       "\t<tr><td>11010</td><td>0    </td><td> -1  </td><td>7    </td><td> 0   </td><td>     </td><td>     </td><td>-17  </td><td>  9  </td><td>-17  </td><td> 7   </td><td>NA   </td><td>1001 </td><td> 9   </td></tr>\n",
       "</tbody>\n",
       "</table>\n"
      ],
      "text/latex": [
       "\\begin{tabular}{r|llllllllllllll}\n",
       " 54-0.0 & 136-0.0 & 1090-0.0 & 1160-0.0 & 1883-0.0 & 5090-0.0 & 5091-0.0 & 20107-0.0 & 20110-0.0 & 20111-0.0 & 20118-0.0 & 20127-0.0 & 21000-0.0 & 22033-0.0\\\\\n",
       "\\hline\n",
       "\t 11001 &  2    &   1   &  7    & 1     &       &       & -17   &   5   & -17   & 5     &  0    & 1001  & NA   \\\\\n",
       "\t 11018 &  1    & -10   &  6    & 3     &       &       &   2   & -11   &   5   & 5     & NA    & 1001  & 11   \\\\\n",
       "\t 11012 &  1    & -10   & -1    & 1     &       &       &   6   & -11   & -17   & 5     & NA    &   -3  & NA   \\\\\n",
       "\t 11010 &  3    &   2   &  7    & 1     &       &       &   8   &  12   &   8   & 5     &  6    & 1001  & 13   \\\\\n",
       "\t 11012 &  1    & -10   &  8    & 0     &       &       &  13   &   8   &   8   & 5     &  2    & 1001  & 12   \\\\\n",
       "\t 11009 &  0    &   0   &  7    & 1     &       &       &   1   &   8   & -17   & 5     &  9    & 1001  & 13   \\\\\n",
       "\t 11021 &  1    &   0   &  6    & 0     &       &       &   1   &   9   &   9   & 5     &  0    & 1001  &  9   \\\\\n",
       "\t 11011 &  3    &   1   &  7    & 0     &       &       &   1   & -17   &   9   & 5     & NA    & 1001  &  1   \\\\\n",
       "\t 11010 &  3    & -10   &  8    & 3     &       &       & -17   &  12   &   1   & 5     &  6    & 1001  & 17   \\\\\n",
       "\t 11016 &  7    & -10   &  5    & 1     &       &       &   6   &   8   &   8   & 5     & 10    & 1001  &  0   \\\\\n",
       "\t 11010 &  0    &   0   &  6    & 0     &       &       &   1   & -11   & -11   & 5     &  8    & 1001  &  8   \\\\\n",
       "\t 11006 &  1    &   1   &  8    & 1     &       &       & -17   & -17   & -17   & 5     &  0    & 1001  &  3   \\\\\n",
       "\t 10003 &  2    &   0   &  6    & 3     &       &       &   8   &   5   &   8   & 5     &  3    & 1001  & NA   \\\\\n",
       "\t 11010 &  0    &   1   &  8    & 1     &       &       & -17   &   9   &   9   & 5     &  4    & 1001  & 17   \\\\\n",
       "\t 11020 &  0    &   2   &  7    & 2     &       &       &  10   &  10   & -11   & 5     &  3    & 1001  &  9   \\\\\n",
       "\t 11021 &  1    &   1   &  8    & 0     &       &       &   4   &   1   &  NA   & 5     &  0    & 1001  &  6   \\\\\n",
       "\t 11021 &  1    &   0   &  8    & 0     &       &       & -11   &   3   &   9   & 5     & NA    & 1001  &  5   \\\\\n",
       "\t 11018 &  0    &   1   &  8    & 0     &       &       &   8   &   8   &   8   & 5     & NA    & 1003  & 14   \\\\\n",
       "\t 11011 &  2    &   1   &  7    & 1     &       &       &   2   &  12   &  12   & 5     &  7    & 1001  &  6   \\\\\n",
       "\t 11006 &  1    & -10   &  9    & 0     &       &       &   2   &   8   & -17   & 5     & 10    & 1001  & 10   \\\\\n",
       "\t 11014 &  2    &   1   & 10    & 3     &       &       &   6   &   8   & -17   & 5     &  7    & 1001  &  7   \\\\\n",
       "\t 11006 &  2    & -10   &  9    & 0     &       &       & -17   &  12   & -17   & 5     & 12    & 1001  & 17   \\\\\n",
       "\t 11013 &  0    &   0   &  6    & 1     &       &       &   8   &   3   &   1   & 5     &  8    & 1001  & 15   \\\\\n",
       "\t 11010 &  0    &   0   &  5    & 0     &       &       & -11   &   8   &  NA   & 5     &  0    & 1001  &  7   \\\\\n",
       "\t 11020 &  2    & -10   &  7    & 1     &       &       &   3   &   9   & -17   & 5     &  9    & 1003  & 18   \\\\\n",
       "\t 11008 &  3    & -10   &  8    & 0     &       &       &   2   & -17   & -17   & 5     & NA    & 1001  & NA   \\\\\n",
       "\t 11020 &  1    &   0   &  6    & 1     &       &       & -17   &   8   &  12   & 5     & NA    & 3001  &  6   \\\\\n",
       "\t 11008 &  2    &   0   &  8    & 1     &       &       &   6   &   6   &   1   & 5     &  6    & 1001  &  5   \\\\\n",
       "\t 11008 & NA    &   1   &  6    & 1     &       &       & -17   &   8   &  12   & 7     &  4    & 1001  & 17   \\\\\n",
       "\t 11014 &  0    &   0   &  5    & 1     &       &       &   8   & -17   & -17   & 5     &  8    & 1001  & 15   \\\\\n",
       "\t ⋮ & ⋮ & ⋮ & ⋮ & ⋮ & ⋮ & ⋮ & ⋮ & ⋮ & ⋮ & ⋮ & ⋮ & ⋮ & ⋮\\\\\n",
       "\t 11022 & 1     &   0   & 7     &  2    &       &       & -11   &  10   & -17   &  5    &  2    & 1001  &  7   \\\\\n",
       "\t 11009 & 0     &   2   & 7     &  0    &       &       &   1   & -17   & -11   &  8    & NA    & 1001  &  2   \\\\\n",
       "\t 11007 & 2     & -10   & 8     &  2    &       &       &   9   &   8   & -17   &  6    &  2    & 1001  &  4   \\\\\n",
       "\t 11020 & 0     & -10   & 6     &  1    &       &       &   4   &   5   & -17   &  5    &  5    & 1001  & 12   \\\\\n",
       "\t 11010 & 1     &   3   & 8     &  1    &       &       & -11   &   8   &   8   &  5    & 10    & 1001  & NA   \\\\\n",
       "\t 11021 & 1     & -10   & 8     &  1    &       &       & -17   &   8   & -17   &  5    &  4    & 1001  & 10   \\\\\n",
       "\t 11021 & 0     & -10   & 7     &  1    &       &       &   6   & -17   &   5   &  5    &  2    & 1001  &  5   \\\\\n",
       "\t 11021 & 0     &   1   & 8     &  2    &       &       &   1   &   1   &  12   &  5    &  5    & 1001  & 17   \\\\\n",
       "\t 11010 & 3     & -10   & 7     &  1    &       &       &   1   & -17   & -17   &  6    & NA    & 1001  &  0   \\\\\n",
       "\t 11011 & 2     &   2   & 8     &  1    &       &       & -17   &   4   & -17   &  5    &  0    & 1001  & NA   \\\\\n",
       "\t 11014 & 1     &   2   & 7     &  4    &       &       &  10   &  10   &   9   & NA    &  6    & 1001  &  0   \\\\\n",
       "\t 11013 & 0     &   0   & 9     &  0    &       &       &   9   &   6   & -17   &  5    & NA    & 1001  &  7   \\\\\n",
       "\t 11020 & 2     & -10   & 8     &  1    &       &       &   1   &   8   & -17   &  5    & 10    & 1001  &  1   \\\\\n",
       "\t 11021 & 0     &   1   & 7     &  0    &       &       &   9   &   9   & -17   &  5    &  5    & 1001  &  4   \\\\\n",
       "\t 11020 & 5     & -10   & 8     &  0    &       &       &   3   & -17   & -17   &  5    & NA    & 1001  & 13   \\\\\n",
       "\t 11017 & 1     &   7   & 7     &  2    &       &       &   2   & -17   & -17   &  8    &  0    & 1001  & 17   \\\\\n",
       "\t 11011 & 2     &   2   & 7     &  3    &       &       & -17   & -17   &   6   &  7    &  0    & 1001  & 13   \\\\\n",
       "\t 11018 & 1     &   2   & 6     & NA    &       &       &  NA   &  NA   &  NA   &  5    &  8    & 1001  & 13   \\\\\n",
       "\t 11003 & 1     &   1   & 7     &  2    &       &       &   8   &  10   &   8   &  5    & NA    & 1001  & NA   \\\\\n",
       "\t 11016 & 3     & -10   & 7     &  4    &       &       &   4   &   8   & -17   &  5    &  2    & 1001  & 14   \\\\\n",
       "\t 11014 & 0     &   2   & 7     &  0    &       &       & -17   & -17   &  12   &  5    &  6    & 1001  &  7   \\\\\n",
       "\t 11014 & 4     &   1   & 7     &  0    &       &       & -17   & -17   &  NA   &  5    &  7    & 1001  & 13   \\\\\n",
       "\t 11010 & 5     &   1   & 6     & NA    &       &       &  NA   &  NA   &  NA   &  7    & 10    & 1001  & 11   \\\\\n",
       "\t 11018 & 1     & -10   & 7     &  1    &       &       &   8   &   6   & -17   &  5    &  0    & 1001  &  7   \\\\\n",
       "\t 11020 & 2     &   2   & 8     &  0    &       &       &  10   &   2   &   8   &  5    &  5    & 1001  & 14   \\\\\n",
       "\t 11010 & 2     & -10   & 8     &  2    &       &       & -17   & -17   & -17   &  5    &  0    & 2004  &  7   \\\\\n",
       "\t 11007 & 1     &   1   & 7     &  0    &       &       &   9   &   2   &  NA   &  5    &  8    & 1001  & 15   \\\\\n",
       "\t 11004 & 3     & -10   & 8     &  2    &       &       & -11   &  12   & -17   & 11    & NA    & 1001  & NA   \\\\\n",
       "\t 11017 & 1     &   1   & 7     &  3    &       &       &   6   &   6   &   8   &  6    &  4    & 1001  &  5   \\\\\n",
       "\t 11010 & 0     &  -1   & 7     &  0    &       &       & -17   &   9   & -17   &  7    & NA    & 1001  &  9   \\\\\n",
       "\\end{tabular}\n"
      ],
      "text/markdown": [
       "\n",
       "54-0.0 | 136-0.0 | 1090-0.0 | 1160-0.0 | 1883-0.0 | 5090-0.0 | 5091-0.0 | 20107-0.0 | 20110-0.0 | 20111-0.0 | 20118-0.0 | 20127-0.0 | 21000-0.0 | 22033-0.0 | \n",
       "|---|---|---|---|---|---|---|---|---|---|---|---|---|---|---|---|---|---|---|---|---|---|---|---|---|---|---|---|---|---|---|---|---|---|---|---|---|---|---|---|---|---|---|---|---|---|---|---|---|---|---|---|---|---|---|---|---|---|---|---|---|\n",
       "| 11001 |  2    |   1   |  7    | 1     |       |       | -17   |   5   | -17   | 5     |  0    | 1001  | NA    | \n",
       "| 11018 |  1    | -10   |  6    | 3     |       |       |   2   | -11   |   5   | 5     | NA    | 1001  | 11    | \n",
       "| 11012 |  1    | -10   | -1    | 1     |       |       |   6   | -11   | -17   | 5     | NA    |   -3  | NA    | \n",
       "| 11010 |  3    |   2   |  7    | 1     |       |       |   8   |  12   |   8   | 5     |  6    | 1001  | 13    | \n",
       "| 11012 |  1    | -10   |  8    | 0     |       |       |  13   |   8   |   8   | 5     |  2    | 1001  | 12    | \n",
       "| 11009 |  0    |   0   |  7    | 1     |       |       |   1   |   8   | -17   | 5     |  9    | 1001  | 13    | \n",
       "| 11021 |  1    |   0   |  6    | 0     |       |       |   1   |   9   |   9   | 5     |  0    | 1001  |  9    | \n",
       "| 11011 |  3    |   1   |  7    | 0     |       |       |   1   | -17   |   9   | 5     | NA    | 1001  |  1    | \n",
       "| 11010 |  3    | -10   |  8    | 3     |       |       | -17   |  12   |   1   | 5     |  6    | 1001  | 17    | \n",
       "| 11016 |  7    | -10   |  5    | 1     |       |       |   6   |   8   |   8   | 5     | 10    | 1001  |  0    | \n",
       "| 11010 |  0    |   0   |  6    | 0     |       |       |   1   | -11   | -11   | 5     |  8    | 1001  |  8    | \n",
       "| 11006 |  1    |   1   |  8    | 1     |       |       | -17   | -17   | -17   | 5     |  0    | 1001  |  3    | \n",
       "| 10003 |  2    |   0   |  6    | 3     |       |       |   8   |   5   |   8   | 5     |  3    | 1001  | NA    | \n",
       "| 11010 |  0    |   1   |  8    | 1     |       |       | -17   |   9   |   9   | 5     |  4    | 1001  | 17    | \n",
       "| 11020 |  0    |   2   |  7    | 2     |       |       |  10   |  10   | -11   | 5     |  3    | 1001  |  9    | \n",
       "| 11021 |  1    |   1   |  8    | 0     |       |       |   4   |   1   |  NA   | 5     |  0    | 1001  |  6    | \n",
       "| 11021 |  1    |   0   |  8    | 0     |       |       | -11   |   3   |   9   | 5     | NA    | 1001  |  5    | \n",
       "| 11018 |  0    |   1   |  8    | 0     |       |       |   8   |   8   |   8   | 5     | NA    | 1003  | 14    | \n",
       "| 11011 |  2    |   1   |  7    | 1     |       |       |   2   |  12   |  12   | 5     |  7    | 1001  |  6    | \n",
       "| 11006 |  1    | -10   |  9    | 0     |       |       |   2   |   8   | -17   | 5     | 10    | 1001  | 10    | \n",
       "| 11014 |  2    |   1   | 10    | 3     |       |       |   6   |   8   | -17   | 5     |  7    | 1001  |  7    | \n",
       "| 11006 |  2    | -10   |  9    | 0     |       |       | -17   |  12   | -17   | 5     | 12    | 1001  | 17    | \n",
       "| 11013 |  0    |   0   |  6    | 1     |       |       |   8   |   3   |   1   | 5     |  8    | 1001  | 15    | \n",
       "| 11010 |  0    |   0   |  5    | 0     |       |       | -11   |   8   |  NA   | 5     |  0    | 1001  |  7    | \n",
       "| 11020 |  2    | -10   |  7    | 1     |       |       |   3   |   9   | -17   | 5     |  9    | 1003  | 18    | \n",
       "| 11008 |  3    | -10   |  8    | 0     |       |       |   2   | -17   | -17   | 5     | NA    | 1001  | NA    | \n",
       "| 11020 |  1    |   0   |  6    | 1     |       |       | -17   |   8   |  12   | 5     | NA    | 3001  |  6    | \n",
       "| 11008 |  2    |   0   |  8    | 1     |       |       |   6   |   6   |   1   | 5     |  6    | 1001  |  5    | \n",
       "| 11008 | NA    |   1   |  6    | 1     |       |       | -17   |   8   |  12   | 7     |  4    | 1001  | 17    | \n",
       "| 11014 |  0    |   0   |  5    | 1     |       |       |   8   | -17   | -17   | 5     |  8    | 1001  | 15    | \n",
       "| ⋮ | ⋮ | ⋮ | ⋮ | ⋮ | ⋮ | ⋮ | ⋮ | ⋮ | ⋮ | ⋮ | ⋮ | ⋮ | ⋮ | \n",
       "| 11022 | 1     |   0   | 7     |  2    |       |       | -11   |  10   | -17   |  5    |  2    | 1001  |  7    | \n",
       "| 11009 | 0     |   2   | 7     |  0    |       |       |   1   | -17   | -11   |  8    | NA    | 1001  |  2    | \n",
       "| 11007 | 2     | -10   | 8     |  2    |       |       |   9   |   8   | -17   |  6    |  2    | 1001  |  4    | \n",
       "| 11020 | 0     | -10   | 6     |  1    |       |       |   4   |   5   | -17   |  5    |  5    | 1001  | 12    | \n",
       "| 11010 | 1     |   3   | 8     |  1    |       |       | -11   |   8   |   8   |  5    | 10    | 1001  | NA    | \n",
       "| 11021 | 1     | -10   | 8     |  1    |       |       | -17   |   8   | -17   |  5    |  4    | 1001  | 10    | \n",
       "| 11021 | 0     | -10   | 7     |  1    |       |       |   6   | -17   |   5   |  5    |  2    | 1001  |  5    | \n",
       "| 11021 | 0     |   1   | 8     |  2    |       |       |   1   |   1   |  12   |  5    |  5    | 1001  | 17    | \n",
       "| 11010 | 3     | -10   | 7     |  1    |       |       |   1   | -17   | -17   |  6    | NA    | 1001  |  0    | \n",
       "| 11011 | 2     |   2   | 8     |  1    |       |       | -17   |   4   | -17   |  5    |  0    | 1001  | NA    | \n",
       "| 11014 | 1     |   2   | 7     |  4    |       |       |  10   |  10   |   9   | NA    |  6    | 1001  |  0    | \n",
       "| 11013 | 0     |   0   | 9     |  0    |       |       |   9   |   6   | -17   |  5    | NA    | 1001  |  7    | \n",
       "| 11020 | 2     | -10   | 8     |  1    |       |       |   1   |   8   | -17   |  5    | 10    | 1001  |  1    | \n",
       "| 11021 | 0     |   1   | 7     |  0    |       |       |   9   |   9   | -17   |  5    |  5    | 1001  |  4    | \n",
       "| 11020 | 5     | -10   | 8     |  0    |       |       |   3   | -17   | -17   |  5    | NA    | 1001  | 13    | \n",
       "| 11017 | 1     |   7   | 7     |  2    |       |       |   2   | -17   | -17   |  8    |  0    | 1001  | 17    | \n",
       "| 11011 | 2     |   2   | 7     |  3    |       |       | -17   | -17   |   6   |  7    |  0    | 1001  | 13    | \n",
       "| 11018 | 1     |   2   | 6     | NA    |       |       |  NA   |  NA   |  NA   |  5    |  8    | 1001  | 13    | \n",
       "| 11003 | 1     |   1   | 7     |  2    |       |       |   8   |  10   |   8   |  5    | NA    | 1001  | NA    | \n",
       "| 11016 | 3     | -10   | 7     |  4    |       |       |   4   |   8   | -17   |  5    |  2    | 1001  | 14    | \n",
       "| 11014 | 0     |   2   | 7     |  0    |       |       | -17   | -17   |  12   |  5    |  6    | 1001  |  7    | \n",
       "| 11014 | 4     |   1   | 7     |  0    |       |       | -17   | -17   |  NA   |  5    |  7    | 1001  | 13    | \n",
       "| 11010 | 5     |   1   | 6     | NA    |       |       |  NA   |  NA   |  NA   |  7    | 10    | 1001  | 11    | \n",
       "| 11018 | 1     | -10   | 7     |  1    |       |       |   8   |   6   | -17   |  5    |  0    | 1001  |  7    | \n",
       "| 11020 | 2     |   2   | 8     |  0    |       |       |  10   |   2   |   8   |  5    |  5    | 1001  | 14    | \n",
       "| 11010 | 2     | -10   | 8     |  2    |       |       | -17   | -17   | -17   |  5    |  0    | 2004  |  7    | \n",
       "| 11007 | 1     |   1   | 7     |  0    |       |       |   9   |   2   |  NA   |  5    |  8    | 1001  | 15    | \n",
       "| 11004 | 3     | -10   | 8     |  2    |       |       | -11   |  12   | -17   | 11    | NA    | 1001  | NA    | \n",
       "| 11017 | 1     |   1   | 7     |  3    |       |       |   6   |   6   |   8   |  6    |  4    | 1001  |  5    | \n",
       "| 11010 | 0     |  -1   | 7     |  0    |       |       | -17   |   9   | -17   |  7    | NA    | 1001  |  9    | \n",
       "\n",
       "\n"
      ],
      "text/plain": [
       "       54-0.0 136-0.0 1090-0.0 1160-0.0 1883-0.0 5090-0.0 5091-0.0 20107-0.0\n",
       "1      11001   2        1       7       1                          -17      \n",
       "2      11018   1      -10       6       3                            2      \n",
       "3      11012   1      -10      -1       1                            6      \n",
       "4      11010   3        2       7       1                            8      \n",
       "5      11012   1      -10       8       0                           13      \n",
       "6      11009   0        0       7       1                            1      \n",
       "7      11021   1        0       6       0                            1      \n",
       "8      11011   3        1       7       0                            1      \n",
       "9      11010   3      -10       8       3                          -17      \n",
       "10     11016   7      -10       5       1                            6      \n",
       "11     11010   0        0       6       0                            1      \n",
       "12     11006   1        1       8       1                          -17      \n",
       "13     10003   2        0       6       3                            8      \n",
       "14     11010   0        1       8       1                          -17      \n",
       "15     11020   0        2       7       2                           10      \n",
       "16     11021   1        1       8       0                            4      \n",
       "17     11021   1        0       8       0                          -11      \n",
       "18     11018   0        1       8       0                            8      \n",
       "19     11011   2        1       7       1                            2      \n",
       "20     11006   1      -10       9       0                            2      \n",
       "21     11014   2        1      10       3                            6      \n",
       "22     11006   2      -10       9       0                          -17      \n",
       "23     11013   0        0       6       1                            8      \n",
       "24     11010   0        0       5       0                          -11      \n",
       "25     11020   2      -10       7       1                            3      \n",
       "26     11008   3      -10       8       0                            2      \n",
       "27     11020   1        0       6       1                          -17      \n",
       "28     11008   2        0       8       1                            6      \n",
       "29     11008  NA        1       6       1                          -17      \n",
       "30     11014   0        0       5       1                            8      \n",
       "⋮      ⋮      ⋮       ⋮        ⋮        ⋮        ⋮        ⋮        ⋮        \n",
       "502479 11022  1         0      7         2                         -11      \n",
       "502480 11009  0         2      7         0                           1      \n",
       "502481 11007  2       -10      8         2                           9      \n",
       "502482 11020  0       -10      6         1                           4      \n",
       "502483 11010  1         3      8         1                         -11      \n",
       "502484 11021  1       -10      8         1                         -17      \n",
       "502485 11021  0       -10      7         1                           6      \n",
       "502486 11021  0         1      8         2                           1      \n",
       "502487 11010  3       -10      7         1                           1      \n",
       "502488 11011  2         2      8         1                         -17      \n",
       "502489 11014  1         2      7         4                          10      \n",
       "502490 11013  0         0      9         0                           9      \n",
       "502491 11020  2       -10      8         1                           1      \n",
       "502492 11021  0         1      7         0                           9      \n",
       "502493 11020  5       -10      8         0                           3      \n",
       "502494 11017  1         7      7         2                           2      \n",
       "502495 11011  2         2      7         3                         -17      \n",
       "502496 11018  1         2      6        NA                          NA      \n",
       "502497 11003  1         1      7         2                           8      \n",
       "502498 11016  3       -10      7         4                           4      \n",
       "502499 11014  0         2      7         0                         -17      \n",
       "502500 11014  4         1      7         0                         -17      \n",
       "502501 11010  5         1      6        NA                          NA      \n",
       "502502 11018  1       -10      7         1                           8      \n",
       "502503 11020  2         2      8         0                          10      \n",
       "502504 11010  2       -10      8         2                         -17      \n",
       "502505 11007  1         1      7         0                           9      \n",
       "502506 11004  3       -10      8         2                         -11      \n",
       "502507 11017  1         1      7         3                           6      \n",
       "502508 11010  0        -1      7         0                         -17      \n",
       "       20110-0.0 20111-0.0 20118-0.0 20127-0.0 21000-0.0 22033-0.0\n",
       "1        5       -17       5          0        1001      NA       \n",
       "2      -11         5       5         NA        1001      11       \n",
       "3      -11       -17       5         NA          -3      NA       \n",
       "4       12         8       5          6        1001      13       \n",
       "5        8         8       5          2        1001      12       \n",
       "6        8       -17       5          9        1001      13       \n",
       "7        9         9       5          0        1001       9       \n",
       "8      -17         9       5         NA        1001       1       \n",
       "9       12         1       5          6        1001      17       \n",
       "10       8         8       5         10        1001       0       \n",
       "11     -11       -11       5          8        1001       8       \n",
       "12     -17       -17       5          0        1001       3       \n",
       "13       5         8       5          3        1001      NA       \n",
       "14       9         9       5          4        1001      17       \n",
       "15      10       -11       5          3        1001       9       \n",
       "16       1        NA       5          0        1001       6       \n",
       "17       3         9       5         NA        1001       5       \n",
       "18       8         8       5         NA        1003      14       \n",
       "19      12        12       5          7        1001       6       \n",
       "20       8       -17       5         10        1001      10       \n",
       "21       8       -17       5          7        1001       7       \n",
       "22      12       -17       5         12        1001      17       \n",
       "23       3         1       5          8        1001      15       \n",
       "24       8        NA       5          0        1001       7       \n",
       "25       9       -17       5          9        1003      18       \n",
       "26     -17       -17       5         NA        1001      NA       \n",
       "27       8        12       5         NA        3001       6       \n",
       "28       6         1       5          6        1001       5       \n",
       "29       8        12       7          4        1001      17       \n",
       "30     -17       -17       5          8        1001      15       \n",
       "⋮      ⋮         ⋮         ⋮         ⋮         ⋮         ⋮        \n",
       "502479  10       -17        5         2        1001       7       \n",
       "502480 -17       -11        8        NA        1001       2       \n",
       "502481   8       -17        6         2        1001       4       \n",
       "502482   5       -17        5         5        1001      12       \n",
       "502483   8         8        5        10        1001      NA       \n",
       "502484   8       -17        5         4        1001      10       \n",
       "502485 -17         5        5         2        1001       5       \n",
       "502486   1        12        5         5        1001      17       \n",
       "502487 -17       -17        6        NA        1001       0       \n",
       "502488   4       -17        5         0        1001      NA       \n",
       "502489  10         9       NA         6        1001       0       \n",
       "502490   6       -17        5        NA        1001       7       \n",
       "502491   8       -17        5        10        1001       1       \n",
       "502492   9       -17        5         5        1001       4       \n",
       "502493 -17       -17        5        NA        1001      13       \n",
       "502494 -17       -17        8         0        1001      17       \n",
       "502495 -17         6        7         0        1001      13       \n",
       "502496  NA        NA        5         8        1001      13       \n",
       "502497  10         8        5        NA        1001      NA       \n",
       "502498   8       -17        5         2        1001      14       \n",
       "502499 -17        12        5         6        1001       7       \n",
       "502500 -17        NA        5         7        1001      13       \n",
       "502501  NA        NA        7        10        1001      11       \n",
       "502502   6       -17        5         0        1001       7       \n",
       "502503   2         8        5         5        1001      14       \n",
       "502504 -17       -17        5         0        2004       7       \n",
       "502505   2        NA        5         8        1001      15       \n",
       "502506  12       -17       11        NA        1001      NA       \n",
       "502507   6         8        6         4        1001       5       \n",
       "502508   9       -17        7        NA        1001       9       "
      ]
     },
     "metadata": {},
     "output_type": "display_data"
    }
   ],
   "source": [
    "select(new_new,which(level_count_1>12 & level_count_1 <=25))"
   ]
  },
  {
   "cell_type": "code",
   "execution_count": 79,
   "metadata": {
    "collapsed": false,
    "deletable": true,
    "editable": true
   },
   "outputs": [
    {
     "data": {
      "text/html": [
       "<table>\n",
       "<thead><tr><th scope=col>54-0.0</th><th scope=col>136-0.0</th><th scope=col>1883-0.0</th><th scope=col>5090-0.0</th><th scope=col>5091-0.0</th></tr></thead>\n",
       "<tbody>\n",
       "\t<tr><td>11001</td><td> 2   </td><td>1    </td><td>     </td><td>     </td></tr>\n",
       "\t<tr><td>11018</td><td> 1   </td><td>3    </td><td>     </td><td>     </td></tr>\n",
       "\t<tr><td>11012</td><td> 1   </td><td>1    </td><td>     </td><td>     </td></tr>\n",
       "\t<tr><td>11010</td><td> 3   </td><td>1    </td><td>     </td><td>     </td></tr>\n",
       "\t<tr><td>11012</td><td> 1   </td><td>0    </td><td>     </td><td>     </td></tr>\n",
       "\t<tr><td>11009</td><td> 0   </td><td>1    </td><td>     </td><td>     </td></tr>\n",
       "\t<tr><td>11021</td><td> 1   </td><td>0    </td><td>     </td><td>     </td></tr>\n",
       "\t<tr><td>11011</td><td> 3   </td><td>0    </td><td>     </td><td>     </td></tr>\n",
       "\t<tr><td>11010</td><td> 3   </td><td>3    </td><td>     </td><td>     </td></tr>\n",
       "\t<tr><td>11016</td><td> 7   </td><td>1    </td><td>     </td><td>     </td></tr>\n",
       "\t<tr><td>11010</td><td> 0   </td><td>0    </td><td>     </td><td>     </td></tr>\n",
       "\t<tr><td>11006</td><td> 1   </td><td>1    </td><td>     </td><td>     </td></tr>\n",
       "\t<tr><td>10003</td><td> 2   </td><td>3    </td><td>     </td><td>     </td></tr>\n",
       "\t<tr><td>11010</td><td> 0   </td><td>1    </td><td>     </td><td>     </td></tr>\n",
       "\t<tr><td>11020</td><td> 0   </td><td>2    </td><td>     </td><td>     </td></tr>\n",
       "\t<tr><td>11021</td><td> 1   </td><td>0    </td><td>     </td><td>     </td></tr>\n",
       "\t<tr><td>11021</td><td> 1   </td><td>0    </td><td>     </td><td>     </td></tr>\n",
       "\t<tr><td>11018</td><td> 0   </td><td>0    </td><td>     </td><td>     </td></tr>\n",
       "\t<tr><td>11011</td><td> 2   </td><td>1    </td><td>     </td><td>     </td></tr>\n",
       "\t<tr><td>11006</td><td> 1   </td><td>0    </td><td>     </td><td>     </td></tr>\n",
       "\t<tr><td>11014</td><td> 2   </td><td>3    </td><td>     </td><td>     </td></tr>\n",
       "\t<tr><td>11006</td><td> 2   </td><td>0    </td><td>     </td><td>     </td></tr>\n",
       "\t<tr><td>11013</td><td> 0   </td><td>1    </td><td>     </td><td>     </td></tr>\n",
       "\t<tr><td>11010</td><td> 0   </td><td>0    </td><td>     </td><td>     </td></tr>\n",
       "\t<tr><td>11020</td><td> 2   </td><td>1    </td><td>     </td><td>     </td></tr>\n",
       "\t<tr><td>11008</td><td> 3   </td><td>0    </td><td>     </td><td>     </td></tr>\n",
       "\t<tr><td>11020</td><td> 1   </td><td>1    </td><td>     </td><td>     </td></tr>\n",
       "\t<tr><td>11008</td><td> 2   </td><td>1    </td><td>     </td><td>     </td></tr>\n",
       "\t<tr><td>11008</td><td>NA   </td><td>1    </td><td>     </td><td>     </td></tr>\n",
       "\t<tr><td>11014</td><td> 0   </td><td>1    </td><td>     </td><td>     </td></tr>\n",
       "\t<tr><td>⋮</td><td>⋮</td><td>⋮</td><td>⋮</td><td>⋮</td></tr>\n",
       "\t<tr><td>11022</td><td>1    </td><td> 2   </td><td>     </td><td>     </td></tr>\n",
       "\t<tr><td>11009</td><td>0    </td><td> 0   </td><td>     </td><td>     </td></tr>\n",
       "\t<tr><td>11007</td><td>2    </td><td> 2   </td><td>     </td><td>     </td></tr>\n",
       "\t<tr><td>11020</td><td>0    </td><td> 1   </td><td>     </td><td>     </td></tr>\n",
       "\t<tr><td>11010</td><td>1    </td><td> 1   </td><td>     </td><td>     </td></tr>\n",
       "\t<tr><td>11021</td><td>1    </td><td> 1   </td><td>     </td><td>     </td></tr>\n",
       "\t<tr><td>11021</td><td>0    </td><td> 1   </td><td>     </td><td>     </td></tr>\n",
       "\t<tr><td>11021</td><td>0    </td><td> 2   </td><td>     </td><td>     </td></tr>\n",
       "\t<tr><td>11010</td><td>3    </td><td> 1   </td><td>     </td><td>     </td></tr>\n",
       "\t<tr><td>11011</td><td>2    </td><td> 1   </td><td>     </td><td>     </td></tr>\n",
       "\t<tr><td>11014</td><td>1    </td><td> 4   </td><td>     </td><td>     </td></tr>\n",
       "\t<tr><td>11013</td><td>0    </td><td> 0   </td><td>     </td><td>     </td></tr>\n",
       "\t<tr><td>11020</td><td>2    </td><td> 1   </td><td>     </td><td>     </td></tr>\n",
       "\t<tr><td>11021</td><td>0    </td><td> 0   </td><td>     </td><td>     </td></tr>\n",
       "\t<tr><td>11020</td><td>5    </td><td> 0   </td><td>     </td><td>     </td></tr>\n",
       "\t<tr><td>11017</td><td>1    </td><td> 2   </td><td>     </td><td>     </td></tr>\n",
       "\t<tr><td>11011</td><td>2    </td><td> 3   </td><td>     </td><td>     </td></tr>\n",
       "\t<tr><td>11018</td><td>1    </td><td>NA   </td><td>     </td><td>     </td></tr>\n",
       "\t<tr><td>11003</td><td>1    </td><td> 2   </td><td>     </td><td>     </td></tr>\n",
       "\t<tr><td>11016</td><td>3    </td><td> 4   </td><td>     </td><td>     </td></tr>\n",
       "\t<tr><td>11014</td><td>0    </td><td> 0   </td><td>     </td><td>     </td></tr>\n",
       "\t<tr><td>11014</td><td>4    </td><td> 0   </td><td>     </td><td>     </td></tr>\n",
       "\t<tr><td>11010</td><td>5    </td><td>NA   </td><td>     </td><td>     </td></tr>\n",
       "\t<tr><td>11018</td><td>1    </td><td> 1   </td><td>     </td><td>     </td></tr>\n",
       "\t<tr><td>11020</td><td>2    </td><td> 0   </td><td>     </td><td>     </td></tr>\n",
       "\t<tr><td>11010</td><td>2    </td><td> 2   </td><td>     </td><td>     </td></tr>\n",
       "\t<tr><td>11007</td><td>1    </td><td> 0   </td><td>     </td><td>     </td></tr>\n",
       "\t<tr><td>11004</td><td>3    </td><td> 2   </td><td>     </td><td>     </td></tr>\n",
       "\t<tr><td>11017</td><td>1    </td><td> 3   </td><td>     </td><td>     </td></tr>\n",
       "\t<tr><td>11010</td><td>0    </td><td> 0   </td><td>     </td><td>     </td></tr>\n",
       "</tbody>\n",
       "</table>\n"
      ],
      "text/latex": [
       "\\begin{tabular}{r|lllll}\n",
       " 54-0.0 & 136-0.0 & 1883-0.0 & 5090-0.0 & 5091-0.0\\\\\n",
       "\\hline\n",
       "\t 11001 &  2    & 1     &       &      \\\\\n",
       "\t 11018 &  1    & 3     &       &      \\\\\n",
       "\t 11012 &  1    & 1     &       &      \\\\\n",
       "\t 11010 &  3    & 1     &       &      \\\\\n",
       "\t 11012 &  1    & 0     &       &      \\\\\n",
       "\t 11009 &  0    & 1     &       &      \\\\\n",
       "\t 11021 &  1    & 0     &       &      \\\\\n",
       "\t 11011 &  3    & 0     &       &      \\\\\n",
       "\t 11010 &  3    & 3     &       &      \\\\\n",
       "\t 11016 &  7    & 1     &       &      \\\\\n",
       "\t 11010 &  0    & 0     &       &      \\\\\n",
       "\t 11006 &  1    & 1     &       &      \\\\\n",
       "\t 10003 &  2    & 3     &       &      \\\\\n",
       "\t 11010 &  0    & 1     &       &      \\\\\n",
       "\t 11020 &  0    & 2     &       &      \\\\\n",
       "\t 11021 &  1    & 0     &       &      \\\\\n",
       "\t 11021 &  1    & 0     &       &      \\\\\n",
       "\t 11018 &  0    & 0     &       &      \\\\\n",
       "\t 11011 &  2    & 1     &       &      \\\\\n",
       "\t 11006 &  1    & 0     &       &      \\\\\n",
       "\t 11014 &  2    & 3     &       &      \\\\\n",
       "\t 11006 &  2    & 0     &       &      \\\\\n",
       "\t 11013 &  0    & 1     &       &      \\\\\n",
       "\t 11010 &  0    & 0     &       &      \\\\\n",
       "\t 11020 &  2    & 1     &       &      \\\\\n",
       "\t 11008 &  3    & 0     &       &      \\\\\n",
       "\t 11020 &  1    & 1     &       &      \\\\\n",
       "\t 11008 &  2    & 1     &       &      \\\\\n",
       "\t 11008 & NA    & 1     &       &      \\\\\n",
       "\t 11014 &  0    & 1     &       &      \\\\\n",
       "\t ⋮ & ⋮ & ⋮ & ⋮ & ⋮\\\\\n",
       "\t 11022 & 1     &  2    &       &      \\\\\n",
       "\t 11009 & 0     &  0    &       &      \\\\\n",
       "\t 11007 & 2     &  2    &       &      \\\\\n",
       "\t 11020 & 0     &  1    &       &      \\\\\n",
       "\t 11010 & 1     &  1    &       &      \\\\\n",
       "\t 11021 & 1     &  1    &       &      \\\\\n",
       "\t 11021 & 0     &  1    &       &      \\\\\n",
       "\t 11021 & 0     &  2    &       &      \\\\\n",
       "\t 11010 & 3     &  1    &       &      \\\\\n",
       "\t 11011 & 2     &  1    &       &      \\\\\n",
       "\t 11014 & 1     &  4    &       &      \\\\\n",
       "\t 11013 & 0     &  0    &       &      \\\\\n",
       "\t 11020 & 2     &  1    &       &      \\\\\n",
       "\t 11021 & 0     &  0    &       &      \\\\\n",
       "\t 11020 & 5     &  0    &       &      \\\\\n",
       "\t 11017 & 1     &  2    &       &      \\\\\n",
       "\t 11011 & 2     &  3    &       &      \\\\\n",
       "\t 11018 & 1     & NA    &       &      \\\\\n",
       "\t 11003 & 1     &  2    &       &      \\\\\n",
       "\t 11016 & 3     &  4    &       &      \\\\\n",
       "\t 11014 & 0     &  0    &       &      \\\\\n",
       "\t 11014 & 4     &  0    &       &      \\\\\n",
       "\t 11010 & 5     & NA    &       &      \\\\\n",
       "\t 11018 & 1     &  1    &       &      \\\\\n",
       "\t 11020 & 2     &  0    &       &      \\\\\n",
       "\t 11010 & 2     &  2    &       &      \\\\\n",
       "\t 11007 & 1     &  0    &       &      \\\\\n",
       "\t 11004 & 3     &  2    &       &      \\\\\n",
       "\t 11017 & 1     &  3    &       &      \\\\\n",
       "\t 11010 & 0     &  0    &       &      \\\\\n",
       "\\end{tabular}\n"
      ],
      "text/markdown": [
       "\n",
       "54-0.0 | 136-0.0 | 1883-0.0 | 5090-0.0 | 5091-0.0 | \n",
       "|---|---|---|---|---|---|---|---|---|---|---|---|---|---|---|---|---|---|---|---|---|---|---|---|---|---|---|---|---|---|---|---|---|---|---|---|---|---|---|---|---|---|---|---|---|---|---|---|---|---|---|---|---|---|---|---|---|---|---|---|---|\n",
       "| 11001 |  2    | 1     |       |       | \n",
       "| 11018 |  1    | 3     |       |       | \n",
       "| 11012 |  1    | 1     |       |       | \n",
       "| 11010 |  3    | 1     |       |       | \n",
       "| 11012 |  1    | 0     |       |       | \n",
       "| 11009 |  0    | 1     |       |       | \n",
       "| 11021 |  1    | 0     |       |       | \n",
       "| 11011 |  3    | 0     |       |       | \n",
       "| 11010 |  3    | 3     |       |       | \n",
       "| 11016 |  7    | 1     |       |       | \n",
       "| 11010 |  0    | 0     |       |       | \n",
       "| 11006 |  1    | 1     |       |       | \n",
       "| 10003 |  2    | 3     |       |       | \n",
       "| 11010 |  0    | 1     |       |       | \n",
       "| 11020 |  0    | 2     |       |       | \n",
       "| 11021 |  1    | 0     |       |       | \n",
       "| 11021 |  1    | 0     |       |       | \n",
       "| 11018 |  0    | 0     |       |       | \n",
       "| 11011 |  2    | 1     |       |       | \n",
       "| 11006 |  1    | 0     |       |       | \n",
       "| 11014 |  2    | 3     |       |       | \n",
       "| 11006 |  2    | 0     |       |       | \n",
       "| 11013 |  0    | 1     |       |       | \n",
       "| 11010 |  0    | 0     |       |       | \n",
       "| 11020 |  2    | 1     |       |       | \n",
       "| 11008 |  3    | 0     |       |       | \n",
       "| 11020 |  1    | 1     |       |       | \n",
       "| 11008 |  2    | 1     |       |       | \n",
       "| 11008 | NA    | 1     |       |       | \n",
       "| 11014 |  0    | 1     |       |       | \n",
       "| ⋮ | ⋮ | ⋮ | ⋮ | ⋮ | \n",
       "| 11022 | 1     |  2    |       |       | \n",
       "| 11009 | 0     |  0    |       |       | \n",
       "| 11007 | 2     |  2    |       |       | \n",
       "| 11020 | 0     |  1    |       |       | \n",
       "| 11010 | 1     |  1    |       |       | \n",
       "| 11021 | 1     |  1    |       |       | \n",
       "| 11021 | 0     |  1    |       |       | \n",
       "| 11021 | 0     |  2    |       |       | \n",
       "| 11010 | 3     |  1    |       |       | \n",
       "| 11011 | 2     |  1    |       |       | \n",
       "| 11014 | 1     |  4    |       |       | \n",
       "| 11013 | 0     |  0    |       |       | \n",
       "| 11020 | 2     |  1    |       |       | \n",
       "| 11021 | 0     |  0    |       |       | \n",
       "| 11020 | 5     |  0    |       |       | \n",
       "| 11017 | 1     |  2    |       |       | \n",
       "| 11011 | 2     |  3    |       |       | \n",
       "| 11018 | 1     | NA    |       |       | \n",
       "| 11003 | 1     |  2    |       |       | \n",
       "| 11016 | 3     |  4    |       |       | \n",
       "| 11014 | 0     |  0    |       |       | \n",
       "| 11014 | 4     |  0    |       |       | \n",
       "| 11010 | 5     | NA    |       |       | \n",
       "| 11018 | 1     |  1    |       |       | \n",
       "| 11020 | 2     |  0    |       |       | \n",
       "| 11010 | 2     |  2    |       |       | \n",
       "| 11007 | 1     |  0    |       |       | \n",
       "| 11004 | 3     |  2    |       |       | \n",
       "| 11017 | 1     |  3    |       |       | \n",
       "| 11010 | 0     |  0    |       |       | \n",
       "\n",
       "\n"
      ],
      "text/plain": [
       "       54-0.0 136-0.0 1883-0.0 5090-0.0 5091-0.0\n",
       "1      11001   2      1                         \n",
       "2      11018   1      3                         \n",
       "3      11012   1      1                         \n",
       "4      11010   3      1                         \n",
       "5      11012   1      0                         \n",
       "6      11009   0      1                         \n",
       "7      11021   1      0                         \n",
       "8      11011   3      0                         \n",
       "9      11010   3      3                         \n",
       "10     11016   7      1                         \n",
       "11     11010   0      0                         \n",
       "12     11006   1      1                         \n",
       "13     10003   2      3                         \n",
       "14     11010   0      1                         \n",
       "15     11020   0      2                         \n",
       "16     11021   1      0                         \n",
       "17     11021   1      0                         \n",
       "18     11018   0      0                         \n",
       "19     11011   2      1                         \n",
       "20     11006   1      0                         \n",
       "21     11014   2      3                         \n",
       "22     11006   2      0                         \n",
       "23     11013   0      1                         \n",
       "24     11010   0      0                         \n",
       "25     11020   2      1                         \n",
       "26     11008   3      0                         \n",
       "27     11020   1      1                         \n",
       "28     11008   2      1                         \n",
       "29     11008  NA      1                         \n",
       "30     11014   0      1                         \n",
       "⋮      ⋮      ⋮       ⋮        ⋮        ⋮       \n",
       "502479 11022  1        2                        \n",
       "502480 11009  0        0                        \n",
       "502481 11007  2        2                        \n",
       "502482 11020  0        1                        \n",
       "502483 11010  1        1                        \n",
       "502484 11021  1        1                        \n",
       "502485 11021  0        1                        \n",
       "502486 11021  0        2                        \n",
       "502487 11010  3        1                        \n",
       "502488 11011  2        1                        \n",
       "502489 11014  1        4                        \n",
       "502490 11013  0        0                        \n",
       "502491 11020  2        1                        \n",
       "502492 11021  0        0                        \n",
       "502493 11020  5        0                        \n",
       "502494 11017  1        2                        \n",
       "502495 11011  2        3                        \n",
       "502496 11018  1       NA                        \n",
       "502497 11003  1        2                        \n",
       "502498 11016  3        4                        \n",
       "502499 11014  0        0                        \n",
       "502500 11014  4        0                        \n",
       "502501 11010  5       NA                        \n",
       "502502 11018  1        1                        \n",
       "502503 11020  2        0                        \n",
       "502504 11010  2        2                        \n",
       "502505 11007  1        0                        \n",
       "502506 11004  3        2                        \n",
       "502507 11017  1        3                        \n",
       "502508 11010  0        0                        "
      ]
     },
     "metadata": {},
     "output_type": "display_data"
    }
   ],
   "source": [
    "new_new[,c(22,32,118,186,187)]"
   ]
  },
  {
   "cell_type": "code",
   "execution_count": 134,
   "metadata": {
    "collapsed": false,
    "deletable": true,
    "editable": true
   },
   "outputs": [
    {
     "data": {
      "text/html": [
       "<dl class=dl-horizontal>\n",
       "\t<dt>eid</dt>\n",
       "\t\t<dd>0</dd>\n",
       "\t<dt>34-0.0</dt>\n",
       "\t\t<dd>0</dd>\n",
       "\t<dt>36-0.0</dt>\n",
       "\t\t<dd>4642</dd>\n",
       "\t<dt>38-0.0</dt>\n",
       "\t\t<dd>5656</dd>\n",
       "\t<dt>39-0.0</dt>\n",
       "\t\t<dd>0</dd>\n",
       "\t<dt>40-0.0</dt>\n",
       "\t\t<dd>21164</dd>\n",
       "\t<dt>41-0.0</dt>\n",
       "\t\t<dd>5496</dd>\n",
       "\t<dt>42-0.0</dt>\n",
       "\t\t<dd>17307</dd>\n",
       "\t<dt>43-0.0</dt>\n",
       "\t\t<dd>5531</dd>\n",
       "\t<dt>44-0.0</dt>\n",
       "\t\t<dd>5487</dd>\n",
       "\t<dt>45-0.0</dt>\n",
       "\t\t<dd>7039</dd>\n",
       "\t<dt>46-0.0</dt>\n",
       "\t\t<dd>3410</dd>\n",
       "\t<dt>47-0.0</dt>\n",
       "\t\t<dd>3343</dd>\n",
       "\t<dt>48-0.0</dt>\n",
       "\t\t<dd>2160</dd>\n",
       "\t<dt>49-0.0</dt>\n",
       "\t\t<dd>2219</dd>\n",
       "\t<dt>50-0.0</dt>\n",
       "\t\t<dd>2539</dd>\n",
       "\t<dt>51-0.0</dt>\n",
       "\t\t<dd>6277</dd>\n",
       "\t<dt>53-0.0</dt>\n",
       "\t\t<dd>0</dd>\n",
       "\t<dt>92-0.0</dt>\n",
       "\t\t<dd>111231</dd>\n",
       "\t<dt>96-0.0</dt>\n",
       "\t\t<dd>862</dd>\n",
       "\t<dt>102-0.0</dt>\n",
       "\t\t<dd>34428</dd>\n",
       "\t<dt>129-0.0</dt>\n",
       "\t\t<dd>50256</dd>\n",
       "\t<dt>130-0.0</dt>\n",
       "\t\t<dd>50256</dd>\n",
       "\t<dt>135-0.0</dt>\n",
       "\t\t<dd>862</dd>\n",
       "\t<dt>137-0.0</dt>\n",
       "\t\t<dd>862</dd>\n",
       "\t<dt>189-0.0</dt>\n",
       "\t\t<dd>623</dd>\n",
       "\t<dt>191-0.0</dt>\n",
       "\t\t<dd>0</dd>\n",
       "\t<dt>699-0.0</dt>\n",
       "\t\t<dd>867</dd>\n",
       "\t<dt>709-0.0</dt>\n",
       "\t\t<dd>2259</dd>\n",
       "\t<dt>874-0.0</dt>\n",
       "\t\t<dd>24629</dd>\n",
       "\t<dt>894-0.0</dt>\n",
       "\t\t<dd>91473</dd>\n",
       "\t<dt>1269-0.0</dt>\n",
       "\t\t<dd>39735</dd>\n",
       "\t<dt>1279-0.0</dt>\n",
       "\t\t<dd>39735</dd>\n",
       "\t<dt>1289-0.0</dt>\n",
       "\t\t<dd>893</dd>\n",
       "\t<dt>1299-0.0</dt>\n",
       "\t\t<dd>893</dd>\n",
       "\t<dt>1309-0.0</dt>\n",
       "\t\t<dd>893</dd>\n",
       "\t<dt>1319-0.0</dt>\n",
       "\t\t<dd>894</dd>\n",
       "\t<dt>1438-0.0</dt>\n",
       "\t\t<dd>4667</dd>\n",
       "\t<dt>1458-0.0</dt>\n",
       "\t\t<dd>1014</dd>\n",
       "\t<dt>1488-0.0</dt>\n",
       "\t\t<dd>897</dd>\n",
       "\t<dt>1528-0.0</dt>\n",
       "\t\t<dd>897</dd>\n",
       "\t<dt>1737-0.0</dt>\n",
       "\t\t<dd>4669</dd>\n",
       "\t<dt>1807-0.0</dt>\n",
       "\t\t<dd>124439</dd>\n",
       "\t<dt>2139-0.0</dt>\n",
       "\t\t<dd>47012</dd>\n",
       "\t<dt>2149-0.0</dt>\n",
       "\t\t<dd>51241</dd>\n",
       "\t<dt>2217-0.0</dt>\n",
       "\t\t<dd>62559</dd>\n",
       "\t<dt>2277-0.0</dt>\n",
       "\t\t<dd>4689</dd>\n",
       "\t<dt>3060-0.0</dt>\n",
       "\t\t<dd>0</dd>\n",
       "\t<dt>3061-0.0</dt>\n",
       "\t\t<dd>48806</dd>\n",
       "\t<dt>3062-0.0</dt>\n",
       "\t\t<dd>48806</dd>\n",
       "\t<dt>3063-0.0</dt>\n",
       "\t\t<dd>48806</dd>\n",
       "\t<dt>3064-0.0</dt>\n",
       "\t\t<dd>48806</dd>\n",
       "\t<dt>3066-0.0</dt>\n",
       "\t\t<dd>0</dd>\n",
       "\t<dt>3132-0.0</dt>\n",
       "\t\t<dd>48806</dd>\n",
       "\t<dt>4079-0.0</dt>\n",
       "\t\t<dd>34428</dd>\n",
       "\t<dt>4080-0.0</dt>\n",
       "\t\t<dd>34441</dd>\n",
       "\t<dt>4205-0.0</dt>\n",
       "\t\t<dd>0</dd>\n",
       "\t<dt>4238-0.1</dt>\n",
       "\t\t<dd>0</dd>\n",
       "\t<dt>4248-0.1</dt>\n",
       "\t\t<dd>0</dd>\n",
       "\t<dt>5080-0.0</dt>\n",
       "\t\t<dd>0</dd>\n",
       "\t<dt>5081-0.0</dt>\n",
       "\t\t<dd>0</dd>\n",
       "\t<dt>5258-0.0</dt>\n",
       "\t\t<dd>0</dd>\n",
       "\t<dt>5259-0.0</dt>\n",
       "\t\t<dd>0</dd>\n",
       "\t<dt>5266-0.0</dt>\n",
       "\t\t<dd>0</dd>\n",
       "\t<dt>5267-0.0</dt>\n",
       "\t\t<dd>0</dd>\n",
       "\t<dt>6023-0.0</dt>\n",
       "\t\t<dd>0</dd>\n",
       "\t<dt>10697-0.1</dt>\n",
       "\t\t<dd>0</dd>\n",
       "\t<dt>12653-2.0</dt>\n",
       "\t\t<dd>0</dd>\n",
       "\t<dt>20004-0.0</dt>\n",
       "\t\t<dd>111231</dd>\n",
       "\t<dt>20010-0.0</dt>\n",
       "\t\t<dd>111234</dd>\n",
       "\t<dt>20011-0.0</dt>\n",
       "\t\t<dd>111234</dd>\n",
       "\t<dt>20015-0.0</dt>\n",
       "\t\t<dd>6277</dd>\n",
       "\t<dt>20031-0.0</dt>\n",
       "\t\t<dd>0</dd>\n",
       "\t<dt>20032-0.1</dt>\n",
       "\t\t<dd>0</dd>\n",
       "\t<dt>20074-0.0</dt>\n",
       "\t\t<dd>4962</dd>\n",
       "\t<dt>20075-0.0</dt>\n",
       "\t\t<dd>4962</dd>\n",
       "\t<dt>20078-0.0</dt>\n",
       "\t\t<dd>0</dd>\n",
       "\t<dt>20134-0.0</dt>\n",
       "\t\t<dd>0</dd>\n",
       "\t<dt>20135-0.0</dt>\n",
       "\t\t<dd>0</dd>\n",
       "\t<dt>20136-0.0</dt>\n",
       "\t\t<dd>0</dd>\n",
       "\t<dt>20137-0.0</dt>\n",
       "\t\t<dd>0</dd>\n",
       "\t<dt>20138-0.0</dt>\n",
       "\t\t<dd>0</dd>\n",
       "\t<dt>20256-0.0</dt>\n",
       "\t\t<dd>123116</dd>\n",
       "\t<dt>20257-0.0</dt>\n",
       "\t\t<dd>123116</dd>\n",
       "\t<dt>20258-0.0</dt>\n",
       "\t\t<dd>123116</dd>\n",
       "\t<dt>20400-0.0</dt>\n",
       "\t\t<dd>0</dd>\n",
       "\t<dt>21001-0.0</dt>\n",
       "\t\t<dd>3105</dd>\n",
       "\t<dt>21002-0.0</dt>\n",
       "\t\t<dd>2774</dd>\n",
       "\t<dt>21003-0.0</dt>\n",
       "\t\t<dd>0</dd>\n",
       "\t<dt>21022-0.0</dt>\n",
       "\t\t<dd>0</dd>\n",
       "\t<dt>21023-0.0</dt>\n",
       "\t\t<dd>0</dd>\n",
       "\t<dt>21046-0.0</dt>\n",
       "\t\t<dd>0</dd>\n",
       "\t<dt>22034-0.0</dt>\n",
       "\t\t<dd>100126</dd>\n",
       "\t<dt>22037-0.0</dt>\n",
       "\t\t<dd>100126</dd>\n",
       "\t<dt>22038-0.0</dt>\n",
       "\t\t<dd>100126</dd>\n",
       "\t<dt>22039-0.0</dt>\n",
       "\t\t<dd>100126</dd>\n",
       "\t<dt>22500-0.0</dt>\n",
       "\t\t<dd>0</dd>\n",
       "\t<dt>22662-0.0</dt>\n",
       "\t\t<dd>0</dd>\n",
       "\t<dt>22700-0.0</dt>\n",
       "\t\t<dd>0</dd>\n",
       "\t<dt>22702-0.0</dt>\n",
       "\t\t<dd>10</dd>\n",
       "</dl>\n"
      ],
      "text/latex": [
       "\\begin{description*}\n",
       "\\item[eid] 0\n",
       "\\item[34-0.0] 0\n",
       "\\item[36-0.0] 4642\n",
       "\\item[38-0.0] 5656\n",
       "\\item[39-0.0] 0\n",
       "\\item[40-0.0] 21164\n",
       "\\item[41-0.0] 5496\n",
       "\\item[42-0.0] 17307\n",
       "\\item[43-0.0] 5531\n",
       "\\item[44-0.0] 5487\n",
       "\\item[45-0.0] 7039\n",
       "\\item[46-0.0] 3410\n",
       "\\item[47-0.0] 3343\n",
       "\\item[48-0.0] 2160\n",
       "\\item[49-0.0] 2219\n",
       "\\item[50-0.0] 2539\n",
       "\\item[51-0.0] 6277\n",
       "\\item[53-0.0] 0\n",
       "\\item[92-0.0] 111231\n",
       "\\item[96-0.0] 862\n",
       "\\item[102-0.0] 34428\n",
       "\\item[129-0.0] 50256\n",
       "\\item[130-0.0] 50256\n",
       "\\item[135-0.0] 862\n",
       "\\item[137-0.0] 862\n",
       "\\item[189-0.0] 623\n",
       "\\item[191-0.0] 0\n",
       "\\item[699-0.0] 867\n",
       "\\item[709-0.0] 2259\n",
       "\\item[874-0.0] 24629\n",
       "\\item[894-0.0] 91473\n",
       "\\item[1269-0.0] 39735\n",
       "\\item[1279-0.0] 39735\n",
       "\\item[1289-0.0] 893\n",
       "\\item[1299-0.0] 893\n",
       "\\item[1309-0.0] 893\n",
       "\\item[1319-0.0] 894\n",
       "\\item[1438-0.0] 4667\n",
       "\\item[1458-0.0] 1014\n",
       "\\item[1488-0.0] 897\n",
       "\\item[1528-0.0] 897\n",
       "\\item[1737-0.0] 4669\n",
       "\\item[1807-0.0] 124439\n",
       "\\item[2139-0.0] 47012\n",
       "\\item[2149-0.0] 51241\n",
       "\\item[2217-0.0] 62559\n",
       "\\item[2277-0.0] 4689\n",
       "\\item[3060-0.0] 0\n",
       "\\item[3061-0.0] 48806\n",
       "\\item[3062-0.0] 48806\n",
       "\\item[3063-0.0] 48806\n",
       "\\item[3064-0.0] 48806\n",
       "\\item[3066-0.0] 0\n",
       "\\item[3132-0.0] 48806\n",
       "\\item[4079-0.0] 34428\n",
       "\\item[4080-0.0] 34441\n",
       "\\item[4205-0.0] 0\n",
       "\\item[4238-0.1] 0\n",
       "\\item[4248-0.1] 0\n",
       "\\item[5080-0.0] 0\n",
       "\\item[5081-0.0] 0\n",
       "\\item[5258-0.0] 0\n",
       "\\item[5259-0.0] 0\n",
       "\\item[5266-0.0] 0\n",
       "\\item[5267-0.0] 0\n",
       "\\item[6023-0.0] 0\n",
       "\\item[10697-0.1] 0\n",
       "\\item[12653-2.0] 0\n",
       "\\item[20004-0.0] 111231\n",
       "\\item[20010-0.0] 111234\n",
       "\\item[20011-0.0] 111234\n",
       "\\item[20015-0.0] 6277\n",
       "\\item[20031-0.0] 0\n",
       "\\item[20032-0.1] 0\n",
       "\\item[20074-0.0] 4962\n",
       "\\item[20075-0.0] 4962\n",
       "\\item[20078-0.0] 0\n",
       "\\item[20134-0.0] 0\n",
       "\\item[20135-0.0] 0\n",
       "\\item[20136-0.0] 0\n",
       "\\item[20137-0.0] 0\n",
       "\\item[20138-0.0] 0\n",
       "\\item[20256-0.0] 123116\n",
       "\\item[20257-0.0] 123116\n",
       "\\item[20258-0.0] 123116\n",
       "\\item[20400-0.0] 0\n",
       "\\item[21001-0.0] 3105\n",
       "\\item[21002-0.0] 2774\n",
       "\\item[21003-0.0] 0\n",
       "\\item[21022-0.0] 0\n",
       "\\item[21023-0.0] 0\n",
       "\\item[21046-0.0] 0\n",
       "\\item[22034-0.0] 100126\n",
       "\\item[22037-0.0] 100126\n",
       "\\item[22038-0.0] 100126\n",
       "\\item[22039-0.0] 100126\n",
       "\\item[22500-0.0] 0\n",
       "\\item[22662-0.0] 0\n",
       "\\item[22700-0.0] 0\n",
       "\\item[22702-0.0] 10\n",
       "\\end{description*}\n"
      ],
      "text/markdown": [
       "eid\n",
       ":   034-0.0\n",
       ":   036-0.0\n",
       ":   464238-0.0\n",
       ":   565639-0.0\n",
       ":   040-0.0\n",
       ":   2116441-0.0\n",
       ":   549642-0.0\n",
       ":   1730743-0.0\n",
       ":   553144-0.0\n",
       ":   548745-0.0\n",
       ":   703946-0.0\n",
       ":   341047-0.0\n",
       ":   334348-0.0\n",
       ":   216049-0.0\n",
       ":   221950-0.0\n",
       ":   253951-0.0\n",
       ":   627753-0.0\n",
       ":   092-0.0\n",
       ":   11123196-0.0\n",
       ":   862102-0.0\n",
       ":   34428129-0.0\n",
       ":   50256130-0.0\n",
       ":   50256135-0.0\n",
       ":   862137-0.0\n",
       ":   862189-0.0\n",
       ":   623191-0.0\n",
       ":   0699-0.0\n",
       ":   867709-0.0\n",
       ":   2259874-0.0\n",
       ":   24629894-0.0\n",
       ":   914731269-0.0\n",
       ":   397351279-0.0\n",
       ":   397351289-0.0\n",
       ":   8931299-0.0\n",
       ":   8931309-0.0\n",
       ":   8931319-0.0\n",
       ":   8941438-0.0\n",
       ":   46671458-0.0\n",
       ":   10141488-0.0\n",
       ":   8971528-0.0\n",
       ":   8971737-0.0\n",
       ":   46691807-0.0\n",
       ":   1244392139-0.0\n",
       ":   470122149-0.0\n",
       ":   512412217-0.0\n",
       ":   625592277-0.0\n",
       ":   46893060-0.0\n",
       ":   03061-0.0\n",
       ":   488063062-0.0\n",
       ":   488063063-0.0\n",
       ":   488063064-0.0\n",
       ":   488063066-0.0\n",
       ":   03132-0.0\n",
       ":   488064079-0.0\n",
       ":   344284080-0.0\n",
       ":   344414205-0.0\n",
       ":   04238-0.1\n",
       ":   04248-0.1\n",
       ":   05080-0.0\n",
       ":   05081-0.0\n",
       ":   05258-0.0\n",
       ":   05259-0.0\n",
       ":   05266-0.0\n",
       ":   05267-0.0\n",
       ":   06023-0.0\n",
       ":   010697-0.1\n",
       ":   012653-2.0\n",
       ":   020004-0.0\n",
       ":   11123120010-0.0\n",
       ":   11123420011-0.0\n",
       ":   11123420015-0.0\n",
       ":   627720031-0.0\n",
       ":   020032-0.1\n",
       ":   020074-0.0\n",
       ":   496220075-0.0\n",
       ":   496220078-0.0\n",
       ":   020134-0.0\n",
       ":   020135-0.0\n",
       ":   020136-0.0\n",
       ":   020137-0.0\n",
       ":   020138-0.0\n",
       ":   020256-0.0\n",
       ":   12311620257-0.0\n",
       ":   12311620258-0.0\n",
       ":   12311620400-0.0\n",
       ":   021001-0.0\n",
       ":   310521002-0.0\n",
       ":   277421003-0.0\n",
       ":   021022-0.0\n",
       ":   021023-0.0\n",
       ":   021046-0.0\n",
       ":   022034-0.0\n",
       ":   10012622037-0.0\n",
       ":   10012622038-0.0\n",
       ":   10012622039-0.0\n",
       ":   10012622500-0.0\n",
       ":   022662-0.0\n",
       ":   022700-0.0\n",
       ":   022702-0.0\n",
       ":   10\n",
       "\n"
      ],
      "text/plain": [
       "      eid    34-0.0    36-0.0    38-0.0    39-0.0    40-0.0    41-0.0    42-0.0 \n",
       "        0         0      4642      5656         0     21164      5496     17307 \n",
       "   43-0.0    44-0.0    45-0.0    46-0.0    47-0.0    48-0.0    49-0.0    50-0.0 \n",
       "     5531      5487      7039      3410      3343      2160      2219      2539 \n",
       "   51-0.0    53-0.0    92-0.0    96-0.0   102-0.0   129-0.0   130-0.0   135-0.0 \n",
       "     6277         0    111231       862     34428     50256     50256       862 \n",
       "  137-0.0   189-0.0   191-0.0   699-0.0   709-0.0   874-0.0   894-0.0  1269-0.0 \n",
       "      862       623         0       867      2259     24629     91473     39735 \n",
       " 1279-0.0  1289-0.0  1299-0.0  1309-0.0  1319-0.0  1438-0.0  1458-0.0  1488-0.0 \n",
       "    39735       893       893       893       894      4667      1014       897 \n",
       " 1528-0.0  1737-0.0  1807-0.0  2139-0.0  2149-0.0  2217-0.0  2277-0.0  3060-0.0 \n",
       "      897      4669    124439     47012     51241     62559      4689         0 \n",
       " 3061-0.0  3062-0.0  3063-0.0  3064-0.0  3066-0.0  3132-0.0  4079-0.0  4080-0.0 \n",
       "    48806     48806     48806     48806         0     48806     34428     34441 \n",
       " 4205-0.0  4238-0.1  4248-0.1  5080-0.0  5081-0.0  5258-0.0  5259-0.0  5266-0.0 \n",
       "        0         0         0         0         0         0         0         0 \n",
       " 5267-0.0  6023-0.0 10697-0.1 12653-2.0 20004-0.0 20010-0.0 20011-0.0 20015-0.0 \n",
       "        0         0         0         0    111231    111234    111234      6277 \n",
       "20031-0.0 20032-0.1 20074-0.0 20075-0.0 20078-0.0 20134-0.0 20135-0.0 20136-0.0 \n",
       "        0         0      4962      4962         0         0         0         0 \n",
       "20137-0.0 20138-0.0 20256-0.0 20257-0.0 20258-0.0 20400-0.0 21001-0.0 21002-0.0 \n",
       "        0         0    123116    123116    123116         0      3105      2774 \n",
       "21003-0.0 21022-0.0 21023-0.0 21046-0.0 22034-0.0 22037-0.0 22038-0.0 22039-0.0 \n",
       "        0         0         0         0    100126    100126    100126    100126 \n",
       "22500-0.0 22662-0.0 22700-0.0 22702-0.0 \n",
       "        0         0         0        10 "
      ]
     },
     "metadata": {},
     "output_type": "display_data"
    },
    {
     "data": {
      "text/html": [
       "<ol class=list-inline>\n",
       "\t<li>502508</li>\n",
       "\t<li>373</li>\n",
       "</ol>\n"
      ],
      "text/latex": [
       "\\begin{enumerate*}\n",
       "\\item 502508\n",
       "\\item 373\n",
       "\\end{enumerate*}\n"
      ],
      "text/markdown": [
       "1. 502508\n",
       "2. 373\n",
       "\n",
       "\n"
      ],
      "text/plain": [
       "[1] 502508    373"
      ]
     },
     "metadata": {},
     "output_type": "display_data"
    }
   ],
   "source": [
    "colSums(is.na(new_new2[,1:100]))\n",
    "dim(new_new2)"
   ]
  },
  {
   "cell_type": "code",
   "execution_count": 136,
   "metadata": {
    "collapsed": false,
    "deletable": true,
    "editable": true
   },
   "outputs": [
    {
     "data": {
      "text/html": [
       "<dl class=dl-horizontal>\n",
       "\t<dt>1647-0.0</dt>\n",
       "\t\t<dd>898</dd>\n",
       "\t<dt>1677-0.0</dt>\n",
       "\t\t<dd>898</dd>\n",
       "\t<dt>1687-0.0</dt>\n",
       "\t\t<dd>898</dd>\n",
       "\t<dt>1697-0.0</dt>\n",
       "\t\t<dd>898</dd>\n",
       "\t<dt>1707-0.0</dt>\n",
       "\t\t<dd>898</dd>\n",
       "\t<dt>1717-0.0</dt>\n",
       "\t\t<dd>899</dd>\n",
       "\t<dt>1727-0.0</dt>\n",
       "\t\t<dd>4669</dd>\n",
       "\t<dt>1737-0.0</dt>\n",
       "\t\t<dd>4669</dd>\n",
       "\t<dt>1747-0.0</dt>\n",
       "\t\t<dd>899</dd>\n",
       "\t<dt>1757-0.0</dt>\n",
       "\t\t<dd>4670</dd>\n",
       "\t<dt>1767-0.0</dt>\n",
       "\t\t<dd>900</dd>\n",
       "\t<dt>1777-0.0</dt>\n",
       "\t\t<dd>8259</dd>\n",
       "\t<dt>1787-0.0</dt>\n",
       "\t\t<dd>8259</dd>\n",
       "\t<dt>1797-0.0</dt>\n",
       "\t\t<dd>8260</dd>\n",
       "\t<dt>1807-0.0</dt>\n",
       "\t\t<dd>124439</dd>\n",
       "\t<dt>1835-0.0</dt>\n",
       "\t\t<dd>8260</dd>\n",
       "\t<dt>1873-0.0</dt>\n",
       "\t\t<dd>8263</dd>\n",
       "\t<dt>1883-0.0</dt>\n",
       "\t\t<dd>8263</dd>\n",
       "\t<dt>1920-0.0</dt>\n",
       "\t\t<dd>904</dd>\n",
       "\t<dt>1930-0.0</dt>\n",
       "\t\t<dd>904</dd>\n",
       "\t<dt>1940-0.0</dt>\n",
       "\t\t<dd>904</dd>\n",
       "\t<dt>1950-0.0</dt>\n",
       "\t\t<dd>905</dd>\n",
       "\t<dt>1960-0.0</dt>\n",
       "\t\t<dd>905</dd>\n",
       "\t<dt>1970-0.0</dt>\n",
       "\t\t<dd>905</dd>\n",
       "\t<dt>1980-0.0</dt>\n",
       "\t\t<dd>906</dd>\n",
       "\t<dt>1990-0.0</dt>\n",
       "\t\t<dd>906</dd>\n",
       "\t<dt>2000-0.0</dt>\n",
       "\t\t<dd>906</dd>\n",
       "\t<dt>2010-0.0</dt>\n",
       "\t\t<dd>906</dd>\n",
       "\t<dt>2020-0.0</dt>\n",
       "\t\t<dd>907</dd>\n",
       "\t<dt>2030-0.0</dt>\n",
       "\t\t<dd>907</dd>\n",
       "\t<dt>2040-0.0</dt>\n",
       "\t\t<dd>907</dd>\n",
       "\t<dt>2050-0.0</dt>\n",
       "\t\t<dd>907</dd>\n",
       "\t<dt>2060-0.0</dt>\n",
       "\t\t<dd>908</dd>\n",
       "\t<dt>2070-0.0</dt>\n",
       "\t\t<dd>909</dd>\n",
       "\t<dt>2080-0.0</dt>\n",
       "\t\t<dd>910</dd>\n",
       "\t<dt>2090-0.0</dt>\n",
       "\t\t<dd>911</dd>\n",
       "\t<dt>2100-0.0</dt>\n",
       "\t\t<dd>911</dd>\n",
       "\t<dt>2110-0.0</dt>\n",
       "\t\t<dd>912</dd>\n",
       "\t<dt>2129-0.0</dt>\n",
       "\t\t<dd>914</dd>\n",
       "\t<dt>2139-0.0</dt>\n",
       "\t\t<dd>47012</dd>\n",
       "\t<dt>2149-0.0</dt>\n",
       "\t\t<dd>51241</dd>\n",
       "\t<dt>2159-0.0</dt>\n",
       "\t\t<dd>51241</dd>\n",
       "\t<dt>2178-0.0</dt>\n",
       "\t\t<dd>918</dd>\n",
       "\t<dt>2188-0.0</dt>\n",
       "\t\t<dd>918</dd>\n",
       "\t<dt>2207-0.0</dt>\n",
       "\t\t<dd>918</dd>\n",
       "\t<dt>2217-0.0</dt>\n",
       "\t\t<dd>62559</dd>\n",
       "\t<dt>2227-0.0</dt>\n",
       "\t\t<dd>919</dd>\n",
       "\t<dt>2237-0.0</dt>\n",
       "\t\t<dd>919</dd>\n",
       "\t<dt>2247-0.0</dt>\n",
       "\t\t<dd>4689</dd>\n",
       "\t<dt>2257-0.0</dt>\n",
       "\t\t<dd>1049</dd>\n",
       "\t<dt>2267-0.0</dt>\n",
       "\t\t<dd>4689</dd>\n",
       "\t<dt>2277-0.0</dt>\n",
       "\t\t<dd>4689</dd>\n",
       "\t<dt>2296-0.0</dt>\n",
       "\t\t<dd>919</dd>\n",
       "\t<dt>2306-0.0</dt>\n",
       "\t\t<dd>920</dd>\n",
       "\t<dt>2316-0.0</dt>\n",
       "\t\t<dd>921</dd>\n",
       "\t<dt>2335-0.0</dt>\n",
       "\t\t<dd>923</dd>\n",
       "\t<dt>2345-0.0</dt>\n",
       "\t\t<dd>924</dd>\n",
       "\t<dt>2443-0.0</dt>\n",
       "\t\t<dd>931</dd>\n",
       "\t<dt>2453-0.0</dt>\n",
       "\t\t<dd>931</dd>\n",
       "\t<dt>2463-0.0</dt>\n",
       "\t\t<dd>931</dd>\n",
       "\t<dt>2473-0.0</dt>\n",
       "\t\t<dd>931</dd>\n",
       "\t<dt>2492-0.0</dt>\n",
       "\t\t<dd>931</dd>\n",
       "\t<dt>3059-0.0</dt>\n",
       "\t\t<dd>48806</dd>\n",
       "\t<dt>3060-0.0</dt>\n",
       "\t\t<dd>0</dd>\n",
       "\t<dt>3061-0.0</dt>\n",
       "\t\t<dd>48806</dd>\n",
       "\t<dt>3062-0.0</dt>\n",
       "\t\t<dd>48806</dd>\n",
       "\t<dt>3063-0.0</dt>\n",
       "\t\t<dd>48806</dd>\n",
       "\t<dt>3064-0.0</dt>\n",
       "\t\t<dd>48806</dd>\n",
       "\t<dt>3065-0.0</dt>\n",
       "\t\t<dd>48806</dd>\n",
       "\t<dt>3066-0.0</dt>\n",
       "\t\t<dd>0</dd>\n",
       "\t<dt>3077-0.0</dt>\n",
       "\t\t<dd>6277</dd>\n",
       "\t<dt>3079-0.0</dt>\n",
       "\t\t<dd>1715</dd>\n",
       "\t<dt>3088-0.0</dt>\n",
       "\t\t<dd>1725</dd>\n",
       "\t<dt>3089-0.0</dt>\n",
       "\t\t<dd>42500</dd>\n",
       "\t<dt>3090-0.0</dt>\n",
       "\t\t<dd>42500</dd>\n",
       "\t<dt>3132-0.0</dt>\n",
       "\t\t<dd>48806</dd>\n",
       "\t<dt>3137-0.0</dt>\n",
       "\t\t<dd>48806</dd>\n",
       "\t<dt>4079-0.0</dt>\n",
       "\t\t<dd>34428</dd>\n",
       "\t<dt>4080-0.0</dt>\n",
       "\t\t<dd>34441</dd>\n",
       "\t<dt>4081-0.0</dt>\n",
       "\t\t<dd>862</dd>\n",
       "\t<dt>4205-0.0</dt>\n",
       "\t\t<dd>0</dd>\n",
       "\t<dt>4238-0.1</dt>\n",
       "\t\t<dd>0</dd>\n",
       "\t<dt>4248-0.1</dt>\n",
       "\t\t<dd>0</dd>\n",
       "\t<dt>5080-0.0</dt>\n",
       "\t\t<dd>0</dd>\n",
       "\t<dt>5081-0.0</dt>\n",
       "\t\t<dd>0</dd>\n",
       "\t<dt>5090-0.0</dt>\n",
       "\t\t<dd>0</dd>\n",
       "\t<dt>5091-0.0</dt>\n",
       "\t\t<dd>0</dd>\n",
       "\t<dt>5136-0.0</dt>\n",
       "\t\t<dd>0</dd>\n",
       "\t<dt>5138-0.0</dt>\n",
       "\t\t<dd>0</dd>\n",
       "\t<dt>5139-0.0</dt>\n",
       "\t\t<dd>0</dd>\n",
       "\t<dt>5140-0.0</dt>\n",
       "\t\t<dd>0</dd>\n",
       "\t<dt>5141-0.0</dt>\n",
       "\t\t<dd>0</dd>\n",
       "\t<dt>5142-0.0</dt>\n",
       "\t\t<dd>0</dd>\n",
       "\t<dt>5143-0.0</dt>\n",
       "\t\t<dd>0</dd>\n",
       "\t<dt>5144-0.0</dt>\n",
       "\t\t<dd>0</dd>\n",
       "\t<dt>5145-0.0</dt>\n",
       "\t\t<dd>0</dd>\n",
       "\t<dt>5146-0.0</dt>\n",
       "\t\t<dd>0</dd>\n",
       "\t<dt>5147-0.0</dt>\n",
       "\t\t<dd>0</dd>\n",
       "\t<dt>5148-0.0</dt>\n",
       "\t\t<dd>0</dd>\n",
       "\t<dt>5258-0.0</dt>\n",
       "\t\t<dd>0</dd>\n",
       "</dl>\n"
      ],
      "text/latex": [
       "\\begin{description*}\n",
       "\\item[1647-0.0] 898\n",
       "\\item[1677-0.0] 898\n",
       "\\item[1687-0.0] 898\n",
       "\\item[1697-0.0] 898\n",
       "\\item[1707-0.0] 898\n",
       "\\item[1717-0.0] 899\n",
       "\\item[1727-0.0] 4669\n",
       "\\item[1737-0.0] 4669\n",
       "\\item[1747-0.0] 899\n",
       "\\item[1757-0.0] 4670\n",
       "\\item[1767-0.0] 900\n",
       "\\item[1777-0.0] 8259\n",
       "\\item[1787-0.0] 8259\n",
       "\\item[1797-0.0] 8260\n",
       "\\item[1807-0.0] 124439\n",
       "\\item[1835-0.0] 8260\n",
       "\\item[1873-0.0] 8263\n",
       "\\item[1883-0.0] 8263\n",
       "\\item[1920-0.0] 904\n",
       "\\item[1930-0.0] 904\n",
       "\\item[1940-0.0] 904\n",
       "\\item[1950-0.0] 905\n",
       "\\item[1960-0.0] 905\n",
       "\\item[1970-0.0] 905\n",
       "\\item[1980-0.0] 906\n",
       "\\item[1990-0.0] 906\n",
       "\\item[2000-0.0] 906\n",
       "\\item[2010-0.0] 906\n",
       "\\item[2020-0.0] 907\n",
       "\\item[2030-0.0] 907\n",
       "\\item[2040-0.0] 907\n",
       "\\item[2050-0.0] 907\n",
       "\\item[2060-0.0] 908\n",
       "\\item[2070-0.0] 909\n",
       "\\item[2080-0.0] 910\n",
       "\\item[2090-0.0] 911\n",
       "\\item[2100-0.0] 911\n",
       "\\item[2110-0.0] 912\n",
       "\\item[2129-0.0] 914\n",
       "\\item[2139-0.0] 47012\n",
       "\\item[2149-0.0] 51241\n",
       "\\item[2159-0.0] 51241\n",
       "\\item[2178-0.0] 918\n",
       "\\item[2188-0.0] 918\n",
       "\\item[2207-0.0] 918\n",
       "\\item[2217-0.0] 62559\n",
       "\\item[2227-0.0] 919\n",
       "\\item[2237-0.0] 919\n",
       "\\item[2247-0.0] 4689\n",
       "\\item[2257-0.0] 1049\n",
       "\\item[2267-0.0] 4689\n",
       "\\item[2277-0.0] 4689\n",
       "\\item[2296-0.0] 919\n",
       "\\item[2306-0.0] 920\n",
       "\\item[2316-0.0] 921\n",
       "\\item[2335-0.0] 923\n",
       "\\item[2345-0.0] 924\n",
       "\\item[2443-0.0] 931\n",
       "\\item[2453-0.0] 931\n",
       "\\item[2463-0.0] 931\n",
       "\\item[2473-0.0] 931\n",
       "\\item[2492-0.0] 931\n",
       "\\item[3059-0.0] 48806\n",
       "\\item[3060-0.0] 0\n",
       "\\item[3061-0.0] 48806\n",
       "\\item[3062-0.0] 48806\n",
       "\\item[3063-0.0] 48806\n",
       "\\item[3064-0.0] 48806\n",
       "\\item[3065-0.0] 48806\n",
       "\\item[3066-0.0] 0\n",
       "\\item[3077-0.0] 6277\n",
       "\\item[3079-0.0] 1715\n",
       "\\item[3088-0.0] 1725\n",
       "\\item[3089-0.0] 42500\n",
       "\\item[3090-0.0] 42500\n",
       "\\item[3132-0.0] 48806\n",
       "\\item[3137-0.0] 48806\n",
       "\\item[4079-0.0] 34428\n",
       "\\item[4080-0.0] 34441\n",
       "\\item[4081-0.0] 862\n",
       "\\item[4205-0.0] 0\n",
       "\\item[4238-0.1] 0\n",
       "\\item[4248-0.1] 0\n",
       "\\item[5080-0.0] 0\n",
       "\\item[5081-0.0] 0\n",
       "\\item[5090-0.0] 0\n",
       "\\item[5091-0.0] 0\n",
       "\\item[5136-0.0] 0\n",
       "\\item[5138-0.0] 0\n",
       "\\item[5139-0.0] 0\n",
       "\\item[5140-0.0] 0\n",
       "\\item[5141-0.0] 0\n",
       "\\item[5142-0.0] 0\n",
       "\\item[5143-0.0] 0\n",
       "\\item[5144-0.0] 0\n",
       "\\item[5145-0.0] 0\n",
       "\\item[5146-0.0] 0\n",
       "\\item[5147-0.0] 0\n",
       "\\item[5148-0.0] 0\n",
       "\\item[5258-0.0] 0\n",
       "\\end{description*}\n"
      ],
      "text/markdown": [
       "1647-0.0\n",
       ":   8981677-0.0\n",
       ":   8981687-0.0\n",
       ":   8981697-0.0\n",
       ":   8981707-0.0\n",
       ":   8981717-0.0\n",
       ":   8991727-0.0\n",
       ":   46691737-0.0\n",
       ":   46691747-0.0\n",
       ":   8991757-0.0\n",
       ":   46701767-0.0\n",
       ":   9001777-0.0\n",
       ":   82591787-0.0\n",
       ":   82591797-0.0\n",
       ":   82601807-0.0\n",
       ":   1244391835-0.0\n",
       ":   82601873-0.0\n",
       ":   82631883-0.0\n",
       ":   82631920-0.0\n",
       ":   9041930-0.0\n",
       ":   9041940-0.0\n",
       ":   9041950-0.0\n",
       ":   9051960-0.0\n",
       ":   9051970-0.0\n",
       ":   9051980-0.0\n",
       ":   9061990-0.0\n",
       ":   9062000-0.0\n",
       ":   9062010-0.0\n",
       ":   9062020-0.0\n",
       ":   9072030-0.0\n",
       ":   9072040-0.0\n",
       ":   9072050-0.0\n",
       ":   9072060-0.0\n",
       ":   9082070-0.0\n",
       ":   9092080-0.0\n",
       ":   9102090-0.0\n",
       ":   9112100-0.0\n",
       ":   9112110-0.0\n",
       ":   9122129-0.0\n",
       ":   9142139-0.0\n",
       ":   470122149-0.0\n",
       ":   512412159-0.0\n",
       ":   512412178-0.0\n",
       ":   9182188-0.0\n",
       ":   9182207-0.0\n",
       ":   9182217-0.0\n",
       ":   625592227-0.0\n",
       ":   9192237-0.0\n",
       ":   9192247-0.0\n",
       ":   46892257-0.0\n",
       ":   10492267-0.0\n",
       ":   46892277-0.0\n",
       ":   46892296-0.0\n",
       ":   9192306-0.0\n",
       ":   9202316-0.0\n",
       ":   9212335-0.0\n",
       ":   9232345-0.0\n",
       ":   9242443-0.0\n",
       ":   9312453-0.0\n",
       ":   9312463-0.0\n",
       ":   9312473-0.0\n",
       ":   9312492-0.0\n",
       ":   9313059-0.0\n",
       ":   488063060-0.0\n",
       ":   03061-0.0\n",
       ":   488063062-0.0\n",
       ":   488063063-0.0\n",
       ":   488063064-0.0\n",
       ":   488063065-0.0\n",
       ":   488063066-0.0\n",
       ":   03077-0.0\n",
       ":   62773079-0.0\n",
       ":   17153088-0.0\n",
       ":   17253089-0.0\n",
       ":   425003090-0.0\n",
       ":   425003132-0.0\n",
       ":   488063137-0.0\n",
       ":   488064079-0.0\n",
       ":   344284080-0.0\n",
       ":   344414081-0.0\n",
       ":   8624205-0.0\n",
       ":   04238-0.1\n",
       ":   04248-0.1\n",
       ":   05080-0.0\n",
       ":   05081-0.0\n",
       ":   05090-0.0\n",
       ":   05091-0.0\n",
       ":   05136-0.0\n",
       ":   05138-0.0\n",
       ":   05139-0.0\n",
       ":   05140-0.0\n",
       ":   05141-0.0\n",
       ":   05142-0.0\n",
       ":   05143-0.0\n",
       ":   05144-0.0\n",
       ":   05145-0.0\n",
       ":   05146-0.0\n",
       ":   05147-0.0\n",
       ":   05148-0.0\n",
       ":   05258-0.0\n",
       ":   0\n",
       "\n"
      ],
      "text/plain": [
       "1647-0.0 1677-0.0 1687-0.0 1697-0.0 1707-0.0 1717-0.0 1727-0.0 1737-0.0 \n",
       "     898      898      898      898      898      899     4669     4669 \n",
       "1747-0.0 1757-0.0 1767-0.0 1777-0.0 1787-0.0 1797-0.0 1807-0.0 1835-0.0 \n",
       "     899     4670      900     8259     8259     8260   124439     8260 \n",
       "1873-0.0 1883-0.0 1920-0.0 1930-0.0 1940-0.0 1950-0.0 1960-0.0 1970-0.0 \n",
       "    8263     8263      904      904      904      905      905      905 \n",
       "1980-0.0 1990-0.0 2000-0.0 2010-0.0 2020-0.0 2030-0.0 2040-0.0 2050-0.0 \n",
       "     906      906      906      906      907      907      907      907 \n",
       "2060-0.0 2070-0.0 2080-0.0 2090-0.0 2100-0.0 2110-0.0 2129-0.0 2139-0.0 \n",
       "     908      909      910      911      911      912      914    47012 \n",
       "2149-0.0 2159-0.0 2178-0.0 2188-0.0 2207-0.0 2217-0.0 2227-0.0 2237-0.0 \n",
       "   51241    51241      918      918      918    62559      919      919 \n",
       "2247-0.0 2257-0.0 2267-0.0 2277-0.0 2296-0.0 2306-0.0 2316-0.0 2335-0.0 \n",
       "    4689     1049     4689     4689      919      920      921      923 \n",
       "2345-0.0 2443-0.0 2453-0.0 2463-0.0 2473-0.0 2492-0.0 3059-0.0 3060-0.0 \n",
       "     924      931      931      931      931      931    48806        0 \n",
       "3061-0.0 3062-0.0 3063-0.0 3064-0.0 3065-0.0 3066-0.0 3077-0.0 3079-0.0 \n",
       "   48806    48806    48806    48806    48806        0     6277     1715 \n",
       "3088-0.0 3089-0.0 3090-0.0 3132-0.0 3137-0.0 4079-0.0 4080-0.0 4081-0.0 \n",
       "    1725    42500    42500    48806    48806    34428    34441      862 \n",
       "4205-0.0 4238-0.1 4248-0.1 5080-0.0 5081-0.0 5090-0.0 5091-0.0 5136-0.0 \n",
       "       0        0        0        0        0        0        0        0 \n",
       "5138-0.0 5139-0.0 5140-0.0 5141-0.0 5142-0.0 5143-0.0 5144-0.0 5145-0.0 \n",
       "       0        0        0        0        0        0        0        0 \n",
       "5146-0.0 5147-0.0 5148-0.0 5258-0.0 \n",
       "       0        0        0        0 "
      ]
     },
     "metadata": {},
     "output_type": "display_data"
    }
   ],
   "source": [
    "colSums(is.na(new_new[,101:200]))"
   ]
  },
  {
   "cell_type": "code",
   "execution_count": null,
   "metadata": {
    "collapsed": true,
    "deletable": true,
    "editable": true
   },
   "outputs": [],
   "source": []
  }
 ],
 "metadata": {
  "kernelspec": {
   "display_name": "R 3.5.1",
   "language": "R",
   "name": "ir35"
  },
  "language_info": {
   "codemirror_mode": "r",
   "file_extension": ".r",
   "mimetype": "text/x-r-source",
   "name": "R",
   "pygments_lexer": "r",
   "version": "3.5.1"
  }
 },
 "nbformat": 4,
 "nbformat_minor": 2
}
