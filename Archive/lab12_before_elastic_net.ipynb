{
 "cells": [
  {
   "cell_type": "code",
   "execution_count": 1,
   "metadata": {},
   "outputs": [
    {
     "name": "stderr",
     "output_type": "stream",
     "text": [
      "Warning message:\n",
      "“package ‘rvest’ was built under R version 3.6.1”Loading required package: xml2\n",
      "Warning message:\n",
      "“package ‘xml2’ was built under R version 3.6.1”\n",
      "Attaching package: ‘dplyr’\n",
      "\n",
      "The following objects are masked from ‘package:data.table’:\n",
      "\n",
      "    between, first, last\n",
      "\n",
      "The following objects are masked from ‘package:stats’:\n",
      "\n",
      "    filter, lag\n",
      "\n",
      "The following objects are masked from ‘package:base’:\n",
      "\n",
      "    intersect, setdiff, setequal, union\n",
      "\n"
     ]
    }
   ],
   "source": [
    "# YOU MUST USE 3.6.0 AND ABOVE FOR RUNNING GLMNET\n",
    "library(data.table)\n",
    "library(\"rvest\")\n",
    "\n",
    "#library(zoo)\n",
    "library(\"dplyr\")"
   ]
  },
  {
   "cell_type": "code",
   "execution_count": 2,
   "metadata": {},
   "outputs": [
    {
     "data": {
      "text/plain": [
       "Time difference of 16.28063 secs"
      ]
     },
     "metadata": {},
     "output_type": "display_data"
    }
   ],
   "source": [
    "\n",
    "\n",
    "start_time <- Sys.time()\n",
    "new_data=fread(\"/u/home/m/michaelm/project-halperin/lab/R/new_clean_data.csv\")\n",
    "\n",
    "end_time <- Sys.time()\n",
    "\n",
    "end_time - start_time\n",
    "\n",
    "\n",
    "\n"
   ]
  },
  {
   "cell_type": "code",
   "execution_count": 3,
   "metadata": {},
   "outputs": [
    {
     "data": {
      "text/html": [
       "<ol class=list-inline>\n",
       "\t<li>478174</li>\n",
       "\t<li>640</li>\n",
       "</ol>\n"
      ],
      "text/latex": [
       "\\begin{enumerate*}\n",
       "\\item 478174\n",
       "\\item 640\n",
       "\\end{enumerate*}\n"
      ],
      "text/markdown": [
       "1. 478174\n",
       "2. 640\n",
       "\n",
       "\n"
      ],
      "text/plain": [
       "[1] 478174    640"
      ]
     },
     "metadata": {},
     "output_type": "display_data"
    }
   ],
   "source": [
    "dim(new_data)"
   ]
  },
  {
   "cell_type": "code",
   "execution_count": 4,
   "metadata": {},
   "outputs": [
    {
     "name": "stderr",
     "output_type": "stream",
     "text": [
      "── \u001b[1mAttaching packages\u001b[22m ─────────────────────────────────────── tidyverse 1.3.0 ──\n",
      "\u001b[32m✔\u001b[39m \u001b[34mggplot2\u001b[39m 3.2.1     \u001b[32m✔\u001b[39m \u001b[34mpurrr  \u001b[39m 0.3.3\n",
      "\u001b[32m✔\u001b[39m \u001b[34mtibble \u001b[39m 2.1.3     \u001b[32m✔\u001b[39m \u001b[34mstringr\u001b[39m 1.4.0\n",
      "\u001b[32m✔\u001b[39m \u001b[34mtidyr  \u001b[39m 1.0.0     \u001b[32m✔\u001b[39m \u001b[34mforcats\u001b[39m 0.4.0\n",
      "\u001b[32m✔\u001b[39m \u001b[34mreadr  \u001b[39m 1.3.1     \n",
      "Warning message:\n",
      "“package ‘tibble’ was built under R version 3.6.1”Warning message:\n",
      "“package ‘stringr’ was built under R version 3.6.1”── \u001b[1mConflicts\u001b[22m ────────────────────────────────────────── tidyverse_conflicts() ──\n",
      "\u001b[31m✖\u001b[39m \u001b[34mdplyr\u001b[39m::\u001b[32mbetween()\u001b[39m        masks \u001b[34mdata.table\u001b[39m::between()\n",
      "\u001b[31m✖\u001b[39m \u001b[34mdplyr\u001b[39m::\u001b[32mfilter()\u001b[39m         masks \u001b[34mstats\u001b[39m::filter()\n",
      "\u001b[31m✖\u001b[39m \u001b[34mdplyr\u001b[39m::\u001b[32mfirst()\u001b[39m          masks \u001b[34mdata.table\u001b[39m::first()\n",
      "\u001b[31m✖\u001b[39m \u001b[34mreadr\u001b[39m::\u001b[32mguess_encoding()\u001b[39m masks \u001b[34mrvest\u001b[39m::guess_encoding()\n",
      "\u001b[31m✖\u001b[39m \u001b[34mdplyr\u001b[39m::\u001b[32mlag()\u001b[39m            masks \u001b[34mstats\u001b[39m::lag()\n",
      "\u001b[31m✖\u001b[39m \u001b[34mdplyr\u001b[39m::\u001b[32mlast()\u001b[39m           masks \u001b[34mdata.table\u001b[39m::last()\n",
      "\u001b[31m✖\u001b[39m \u001b[34mpurrr\u001b[39m::\u001b[32mpluck()\u001b[39m          masks \u001b[34mrvest\u001b[39m::pluck()\n",
      "\u001b[31m✖\u001b[39m \u001b[34mpurrr\u001b[39m::\u001b[32mtranspose()\u001b[39m      masks \u001b[34mdata.table\u001b[39m::transpose()\n",
      "Loading required package: lattice\n",
      "\n",
      "Attaching package: ‘caret’\n",
      "\n",
      "The following object is masked from ‘package:purrr’:\n",
      "\n",
      "    lift\n",
      "\n",
      "Loading required package: Matrix\n",
      "\n",
      "Attaching package: ‘Matrix’\n",
      "\n",
      "The following objects are masked from ‘package:tidyr’:\n",
      "\n",
      "    expand, pack, unpack\n",
      "\n",
      "Loaded glmnet 3.0-2\n",
      "\n"
     ]
    }
   ],
   "source": [
    "#install.packages(\"scales\")\n",
    "#install.packages(\"rlang\")\n",
    "#install.packages(\"tidyverse\")\n",
    "library(tidyverse)\n",
    "library(caret)\n",
    "library(glmnet)"
   ]
  },
  {
   "cell_type": "code",
   "execution_count": 9,
   "metadata": {},
   "outputs": [],
   "source": [
    "new_addup_data = fread(\"/u/project/sriram/ukbiobank/33127/ukb21970.csv\")"
   ]
  },
  {
   "cell_type": "code",
   "execution_count": 10,
   "metadata": {},
   "outputs": [
    {
     "data": {
      "text/plain": [
       "Time difference of 12.00299 secs"
      ]
     },
     "metadata": {},
     "output_type": "display_data"
    }
   ],
   "source": [
    "start_time <- Sys.time()\n",
    "new_addup_data = fread(\"/u/project/sriram/ukbiobank/33127/ukb21970.csv\")\n",
    "\n",
    "end_time <- Sys.time()\n",
    "\n",
    "end_time - start_time"
   ]
  },
  {
   "cell_type": "code",
   "execution_count": 11,
   "metadata": {},
   "outputs": [
    {
     "data": {
      "text/html": [
       "<ol class=list-inline>\n",
       "\t<li>502616</li>\n",
       "\t<li>1672</li>\n",
       "</ol>\n"
      ],
      "text/latex": [
       "\\begin{enumerate*}\n",
       "\\item 502616\n",
       "\\item 1672\n",
       "\\end{enumerate*}\n"
      ],
      "text/markdown": [
       "1. 502616\n",
       "2. 1672\n",
       "\n",
       "\n"
      ],
      "text/plain": [
       "[1] 502616   1672"
      ]
     },
     "metadata": {},
     "output_type": "display_data"
    }
   ],
   "source": [
    "dim(new_addup_data )"
   ]
  },
  {
   "cell_type": "code",
   "execution_count": 16,
   "metadata": {},
   "outputs": [
    {
     "data": {
      "text/html": [
       "<ol class=list-inline>\n",
       "\t<li>1267</li>\n",
       "\t<li>1276</li>\n",
       "\t<li>1277</li>\n",
       "\t<li>1278</li>\n",
       "\t<li>1279</li>\n",
       "\t<li>1280</li>\n",
       "\t<li>1281</li>\n",
       "\t<li>1282</li>\n",
       "\t<li>1283</li>\n",
       "\t<li>1284</li>\n",
       "\t<li>1285</li>\n",
       "</ol>\n"
      ],
      "text/latex": [
       "\\begin{enumerate*}\n",
       "\\item 1267\n",
       "\\item 1276\n",
       "\\item 1277\n",
       "\\item 1278\n",
       "\\item 1279\n",
       "\\item 1280\n",
       "\\item 1281\n",
       "\\item 1282\n",
       "\\item 1283\n",
       "\\item 1284\n",
       "\\item 1285\n",
       "\\end{enumerate*}\n"
      ],
      "text/markdown": [
       "1. 1267\n",
       "2. 1276\n",
       "3. 1277\n",
       "4. 1278\n",
       "5. 1279\n",
       "6. 1280\n",
       "7. 1281\n",
       "8. 1282\n",
       "9. 1283\n",
       "10. 1284\n",
       "11. 1285\n",
       "\n",
       "\n"
      ],
      "text/plain": [
       " [1] 1267 1276 1277 1278 1279 1280 1281 1282 1283 1284 1285"
      ]
     },
     "metadata": {},
     "output_type": "display_data"
    }
   ],
   "source": [
    "grep(\"22009-0.1\",colnames(new_addup_data))"
   ]
  },
  {
   "cell_type": "code",
   "execution_count": 14,
   "metadata": {},
   "outputs": [
    {
     "data": {
      "text/html": [
       "1306"
      ],
      "text/latex": [
       "1306"
      ],
      "text/markdown": [
       "1306"
      ],
      "text/plain": [
       "[1] 1306"
      ]
     },
     "metadata": {},
     "output_type": "display_data"
    }
   ],
   "source": [
    "grep(\"22009-0.40\",colnames(new_addup_data))"
   ]
  },
  {
   "cell_type": "code",
   "execution_count": 19,
   "metadata": {},
   "outputs": [
    {
     "data": {
      "text/html": [
       "<table>\n",
       "<caption>A data.table: 3 × 1</caption>\n",
       "<thead>\n",
       "\t<tr><th scope=col>22009-0.1</th></tr>\n",
       "\t<tr><th scope=col>&lt;dbl&gt;</th></tr>\n",
       "</thead>\n",
       "<tbody>\n",
       "\t<tr><td>-12.16240</td></tr>\n",
       "\t<tr><td> -9.94105</td></tr>\n",
       "\t<tr><td>-14.61760</td></tr>\n",
       "</tbody>\n",
       "</table>\n"
      ],
      "text/latex": [
       "A data.table: 3 × 1\n",
       "\\begin{tabular}{r|l}\n",
       " 22009-0.1\\\\\n",
       " <dbl>\\\\\n",
       "\\hline\n",
       "\t -12.16240\\\\\n",
       "\t  -9.94105\\\\\n",
       "\t -14.61760\\\\\n",
       "\\end{tabular}\n"
      ],
      "text/markdown": [
       "\n",
       "A data.table: 3 × 1\n",
       "\n",
       "| 22009-0.1 &lt;dbl&gt; |\n",
       "|---|\n",
       "| -12.16240 |\n",
       "|  -9.94105 |\n",
       "| -14.61760 |\n",
       "\n"
      ],
      "text/plain": [
       "  22009-0.1\n",
       "1 -12.16240\n",
       "2  -9.94105\n",
       "3 -14.61760"
      ]
     },
     "metadata": {},
     "output_type": "display_data"
    },
    {
     "data": {
      "text/html": [
       "<table>\n",
       "<caption>A data.table: 3 × 1</caption>\n",
       "<thead>\n",
       "\t<tr><th scope=col>22009-0.10</th></tr>\n",
       "\t<tr><th scope=col>&lt;dbl&gt;</th></tr>\n",
       "</thead>\n",
       "<tbody>\n",
       "\t<tr><td>-0.261331</td></tr>\n",
       "\t<tr><td> 5.399110</td></tr>\n",
       "\t<tr><td> 0.546660</td></tr>\n",
       "</tbody>\n",
       "</table>\n"
      ],
      "text/latex": [
       "A data.table: 3 × 1\n",
       "\\begin{tabular}{r|l}\n",
       " 22009-0.10\\\\\n",
       " <dbl>\\\\\n",
       "\\hline\n",
       "\t -0.261331\\\\\n",
       "\t  5.399110\\\\\n",
       "\t  0.546660\\\\\n",
       "\\end{tabular}\n"
      ],
      "text/markdown": [
       "\n",
       "A data.table: 3 × 1\n",
       "\n",
       "| 22009-0.10 &lt;dbl&gt; |\n",
       "|---|\n",
       "| -0.261331 |\n",
       "|  5.399110 |\n",
       "|  0.546660 |\n",
       "\n"
      ],
      "text/plain": [
       "  22009-0.10\n",
       "1 -0.261331 \n",
       "2  5.399110 \n",
       "3  0.546660 "
      ]
     },
     "metadata": {},
     "output_type": "display_data"
    },
    {
     "data": {
      "text/html": [
       "<table>\n",
       "<caption>A data.table: 3 × 1</caption>\n",
       "<thead>\n",
       "\t<tr><th scope=col>22009-0.11</th></tr>\n",
       "\t<tr><th scope=col>&lt;dbl&gt;</th></tr>\n",
       "</thead>\n",
       "<tbody>\n",
       "\t<tr><td>3.86717</td></tr>\n",
       "\t<tr><td>5.37685</td></tr>\n",
       "\t<tr><td>2.80388</td></tr>\n",
       "</tbody>\n",
       "</table>\n"
      ],
      "text/latex": [
       "A data.table: 3 × 1\n",
       "\\begin{tabular}{r|l}\n",
       " 22009-0.11\\\\\n",
       " <dbl>\\\\\n",
       "\\hline\n",
       "\t 3.86717\\\\\n",
       "\t 5.37685\\\\\n",
       "\t 2.80388\\\\\n",
       "\\end{tabular}\n"
      ],
      "text/markdown": [
       "\n",
       "A data.table: 3 × 1\n",
       "\n",
       "| 22009-0.11 &lt;dbl&gt; |\n",
       "|---|\n",
       "| 3.86717 |\n",
       "| 5.37685 |\n",
       "| 2.80388 |\n",
       "\n"
      ],
      "text/plain": [
       "  22009-0.11\n",
       "1 3.86717   \n",
       "2 5.37685   \n",
       "3 2.80388   "
      ]
     },
     "metadata": {},
     "output_type": "display_data"
    }
   ],
   "source": [
    "new_addup_data[1:3,1267]\n",
    "new_addup_data[1:3,1276]\n",
    "new_addup_data[1:3,1277]"
   ]
  },
  {
   "cell_type": "code",
   "execution_count": 23,
   "metadata": {},
   "outputs": [
    {
     "data": {
      "text/html": [
       "<table>\n",
       "<caption>A data.table: 3 × 1</caption>\n",
       "<thead>\n",
       "\t<tr><th scope=col>22009-0.40</th></tr>\n",
       "\t<tr><th scope=col>&lt;dbl&gt;</th></tr>\n",
       "</thead>\n",
       "<tbody>\n",
       "\t<tr><td>-0.981541</td></tr>\n",
       "\t<tr><td> 1.005220</td></tr>\n",
       "\t<tr><td>-3.135760</td></tr>\n",
       "</tbody>\n",
       "</table>\n"
      ],
      "text/latex": [
       "A data.table: 3 × 1\n",
       "\\begin{tabular}{r|l}\n",
       " 22009-0.40\\\\\n",
       " <dbl>\\\\\n",
       "\\hline\n",
       "\t -0.981541\\\\\n",
       "\t  1.005220\\\\\n",
       "\t -3.135760\\\\\n",
       "\\end{tabular}\n"
      ],
      "text/markdown": [
       "\n",
       "A data.table: 3 × 1\n",
       "\n",
       "| 22009-0.40 &lt;dbl&gt; |\n",
       "|---|\n",
       "| -0.981541 |\n",
       "|  1.005220 |\n",
       "| -3.135760 |\n",
       "\n"
      ],
      "text/plain": [
       "  22009-0.40\n",
       "1 -0.981541 \n",
       "2  1.005220 \n",
       "3 -3.135760 "
      ]
     },
     "metadata": {},
     "output_type": "display_data"
    }
   ],
   "source": [
    "new_addup_data[1:3,1306]"
   ]
  },
  {
   "cell_type": "code",
   "execution_count": 39,
   "metadata": {},
   "outputs": [
    {
     "data": {
      "text/html": [
       "<ol class=list-inline>\n",
       "\t<li>502616</li>\n",
       "\t<li>33</li>\n",
       "</ol>\n"
      ],
      "text/latex": [
       "\\begin{enumerate*}\n",
       "\\item 502616\n",
       "\\item 33\n",
       "\\end{enumerate*}\n"
      ],
      "text/markdown": [
       "1. 502616\n",
       "2. 33\n",
       "\n",
       "\n"
      ],
      "text/plain": [
       "[1] 502616     33"
      ]
     },
     "metadata": {},
     "output_type": "display_data"
    }
   ],
   "source": [
    "sample_addup=new_addup_data[,c(1,1267,1276:1306)]\n",
    "dim(sample_addup)"
   ]
  },
  {
   "cell_type": "code",
   "execution_count": 27,
   "metadata": {},
   "outputs": [
    {
     "data": {
      "text/html": [
       "'/u/project/halperin/michaelm/lab/R'"
      ],
      "text/latex": [
       "'/u/project/halperin/michaelm/lab/R'"
      ],
      "text/markdown": [
       "'/u/project/halperin/michaelm/lab/R'"
      ],
      "text/plain": [
       "[1] \"/u/project/halperin/michaelm/lab/R\""
      ]
     },
     "metadata": {},
     "output_type": "display_data"
    }
   ],
   "source": [
    "getwd()"
   ]
  },
  {
   "cell_type": "code",
   "execution_count": 40,
   "metadata": {},
   "outputs": [],
   "source": [
    "fwrite(sample_addup,\"ukb21970_select_.csv\")"
   ]
  },
  {
   "cell_type": "code",
   "execution_count": 42,
   "metadata": {},
   "outputs": [],
   "source": [
    "new_data2=merge(x=new_data,y=sample_addup,by = \"eid\",all.x = T)"
   ]
  },
  {
   "cell_type": "code",
   "execution_count": 43,
   "metadata": {},
   "outputs": [],
   "source": [
    "fwrite(new_data2,\"new_clean_data2.csv\")"
   ]
  },
  {
   "cell_type": "code",
   "execution_count": null,
   "metadata": {},
   "outputs": [],
   "source": []
  }
 ],
 "metadata": {
  "kernelspec": {
   "display_name": "R 3.6.0",
   "language": "R",
   "name": "ir360"
  },
  "language_info": {
   "codemirror_mode": "r",
   "file_extension": ".r",
   "mimetype": "text/x-r-source",
   "name": "R",
   "pygments_lexer": "r",
   "version": "3.6.0"
  }
 },
 "nbformat": 4,
 "nbformat_minor": 2
}
