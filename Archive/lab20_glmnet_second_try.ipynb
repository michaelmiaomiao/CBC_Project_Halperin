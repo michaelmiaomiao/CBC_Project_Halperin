{
 "cells": [
  {
   "cell_type": "code",
   "execution_count": 2,
   "metadata": {},
   "outputs": [
    {
     "data": {
      "text/html": [
       "<table>\n",
       "<caption>A matrix: 2 × 6 of type dbl</caption>\n",
       "<thead>\n",
       "\t<tr><th></th><th scope=col>used</th><th scope=col>(Mb)</th><th scope=col>gc trigger</th><th scope=col>(Mb)</th><th scope=col>max used</th><th scope=col>(Mb)</th></tr>\n",
       "</thead>\n",
       "<tbody>\n",
       "\t<tr><th scope=row>Ncells</th><td>2219942</td><td>118.6</td><td>3651298</td><td>195.1</td><td>3651298</td><td>195.1</td></tr>\n",
       "\t<tr><th scope=row>Vcells</th><td>3698803</td><td> 28.3</td><td>8388608</td><td> 64.0</td><td>5927122</td><td> 45.3</td></tr>\n",
       "</tbody>\n",
       "</table>\n"
      ],
      "text/latex": [
       "A matrix: 2 × 6 of type dbl\n",
       "\\begin{tabular}{r|llllll}\n",
       "  & used & (Mb) & gc trigger & (Mb) & max used & (Mb)\\\\\n",
       "\\hline\n",
       "\tNcells & 2219942 & 118.6 & 3651298 & 195.1 & 3651298 & 195.1\\\\\n",
       "\tVcells & 3698803 &  28.3 & 8388608 &  64.0 & 5927122 &  45.3\\\\\n",
       "\\end{tabular}\n"
      ],
      "text/markdown": [
       "\n",
       "A matrix: 2 × 6 of type dbl\n",
       "\n",
       "| <!--/--> | used | (Mb) | gc trigger | (Mb) | max used | (Mb) |\n",
       "|---|---|---|---|---|---|---|\n",
       "| Ncells | 2219942 | 118.6 | 3651298 | 195.1 | 3651298 | 195.1 |\n",
       "| Vcells | 3698803 |  28.3 | 8388608 |  64.0 | 5927122 |  45.3 |\n",
       "\n"
      ],
      "text/plain": [
       "       used    (Mb)  gc trigger (Mb)  max used (Mb) \n",
       "Ncells 2219942 118.6 3651298    195.1 3651298  195.1\n",
       "Vcells 3698803  28.3 8388608     64.0 5927122   45.3"
      ]
     },
     "metadata": {},
     "output_type": "display_data"
    }
   ],
   "source": [
    "# YOU MUST USE 3.6.0 AND ABOVE FOR RUNNING GLMNET\n",
    "#install.packages(\"psycho\")\n",
    "#install.packages(\"zoo\")\n",
    "#install.packages(\"scales\")\n",
    "#install.packages(\"rlang\")\n",
    "#install.packages(\"tidyverse\")\n",
    "\n",
    "#install.packages('lm.beta')\n",
    "#install.packages(\"standardize\")\n",
    "library(data.table)\n",
    "library(\"rvest\")\n",
    "\n",
    "library(\"zoo\")\n",
    "library(\"dplyr\")\n",
    "\n",
    "library(tidyverse)\n",
    "library(caret)\n",
    "library(\"lm.beta\")\n",
    "library(\"psycho\")\n",
    "\n",
    "library(\"standardize\")\n",
    "library(\"glmnet\")\n",
    "#install.packages(\"doParallel\")\n",
    "library(\"doParallel\")\n",
    "#install.packages(\"foreach\")\n",
    "#install.packages(\"pROC\")\n",
    "library(\"foreach\")\n",
    "library(\"pROC\")\n",
    "\n",
    "        \n",
    "        \n",
    "      #  rm(list=ls())\n",
    "gc()"
   ]
  },
  {
   "cell_type": "code",
   "execution_count": null,
   "metadata": {},
   "outputs": [],
   "source": []
  },
  {
   "cell_type": "code",
   "execution_count": 3,
   "metadata": {},
   "outputs": [
    {
     "data": {
      "text/plain": [
       "Time difference of 11.46325 secs"
      ]
     },
     "metadata": {},
     "output_type": "display_data"
    },
    {
     "data": {
      "text/html": [
       "<ol class=list-inline>\n",
       "\t<li>478174</li>\n",
       "\t<li>165</li>\n",
       "</ol>\n"
      ],
      "text/latex": [
       "\\begin{enumerate*}\n",
       "\\item 478174\n",
       "\\item 165\n",
       "\\end{enumerate*}\n"
      ],
      "text/markdown": [
       "1. 478174\n",
       "2. 165\n",
       "\n",
       "\n"
      ],
      "text/plain": [
       "[1] 478174    165"
      ]
     },
     "metadata": {},
     "output_type": "display_data"
    }
   ],
   "source": [
    "start_time <- Sys.time()\n",
    "new_data=fread(\"num_slim_data_5.csv\")\n",
    "\n",
    "end_time <- Sys.time()\n",
    "\n",
    "end_time - start_time\n",
    "dim(new_data)"
   ]
  },
  {
   "cell_type": "code",
   "execution_count": 4,
   "metadata": {},
   "outputs": [
    {
     "data": {
      "text/html": [
       "165"
      ],
      "text/latex": [
       "165"
      ],
      "text/markdown": [
       "165"
      ],
      "text/plain": [
       "[1] 165"
      ]
     },
     "metadata": {},
     "output_type": "display_data"
    }
   ],
   "source": [
    "grep(\"count\",colnames(new_data))"
   ]
  },
  {
   "cell_type": "code",
   "execution_count": 5,
   "metadata": {},
   "outputs": [
    {
     "data": {
      "text/html": [
       "<ol class=list-inline>\n",
       "\t<li>478174</li>\n",
       "\t<li>165</li>\n",
       "</ol>\n"
      ],
      "text/latex": [
       "\\begin{enumerate*}\n",
       "\\item 478174\n",
       "\\item 165\n",
       "\\end{enumerate*}\n"
      ],
      "text/markdown": [
       "1. 478174\n",
       "2. 165\n",
       "\n",
       "\n"
      ],
      "text/plain": [
       "[1] 478174    165"
      ]
     },
     "metadata": {},
     "output_type": "display_data"
    }
   ],
   "source": [
    "scale=as.data.frame(scale(new_data))\n",
    "scale_data=scale\n",
    "dim(scale_data)\n",
    "\n",
    "\n"
   ]
  },
  {
   "cell_type": "code",
   "execution_count": 6,
   "metadata": {},
   "outputs": [
    {
     "name": "stderr",
     "output_type": "stream",
     "text": [
      "Warning message in summary.lm(model[[i]]):\n",
      "“essentially perfect fit: summary may be unreliable”"
     ]
    }
   ],
   "source": [
    "coeff=NULL\n",
    "sum=NULL\n",
    "model=NULL\n",
    "r=NULL\n",
    "beta=NULL\n",
    "for (i in 1:165){\n",
    "   \n",
    "   model[[i]] <- lm(data=new_data,formula = count ~ new_data[[i]] )\n",
    "   coeff[[i]]=model$coefficients\n",
    "   sum[[i]]=summary(model[[i]])\n",
    "    r[[i]]=sum[[i]]$adj.r.squared\n",
    "    beta[[i]]=lm.beta(model[[i]])\n",
    "}\n",
    "\n",
    "\n",
    "\n",
    "\n"
   ]
  },
  {
   "cell_type": "code",
   "execution_count": 7,
   "metadata": {},
   "outputs": [],
   "source": [
    "new_beta=NULL\n",
    "for (i in 1:165){\n",
    "    new_beta[i]=abs(beta[[i]]$`standardized.coefficients`[2])\n",
    "}"
   ]
  },
  {
   "cell_type": "code",
   "execution_count": 8,
   "metadata": {},
   "outputs": [],
   "source": [
    "registerDoParallel(cores = 4)"
   ]
  },
  {
   "cell_type": "code",
   "execution_count": 26,
   "metadata": {},
   "outputs": [],
   "source": [
    "set.seed(123)\n",
    "new_new=scale_data[sample(1:nrow(new_data),50000,replace = F),]"
   ]
  },
  {
   "cell_type": "code",
   "execution_count": 27,
   "metadata": {},
   "outputs": [],
   "source": [
    "set.seed(123)\n",
    "new_new=scale_data[sample(1:nrow(new_data),50000,replace = F),]\n",
    "n=nrow(new_new)\n",
    "sample <- sample(seq(n), size = n * 0.5, replace = FALSE)\n",
    "training.samples <- new_new$count %>%\n",
    "  createDataPartition(p = 0.8, list = FALSE)\n",
    "train.data  <- new_new[training.samples, ]\n",
    "test.data <- new_new[-training.samples, ]\n",
    "# Predictor variables\n",
    "x <- model.matrix(count~., train.data)[,-1]\n",
    "# Outcome variable\n",
    "y <- train.data$count\n",
    "dim(new_new)"
   ]
  },
  {
   "cell_type": "code",
   "execution_count": 28,
   "metadata": {},
   "outputs": [
    {
     "data": {
      "text/html": [
       "<ol class=list-inline>\n",
       "\t<li>50000</li>\n",
       "\t<li>165</li>\n",
       "</ol>\n"
      ],
      "text/latex": [
       "\\begin{enumerate*}\n",
       "\\item 50000\n",
       "\\item 165\n",
       "\\end{enumerate*}\n"
      ],
      "text/markdown": [
       "1. 50000\n",
       "2. 165\n",
       "\n",
       "\n"
      ],
      "text/plain": [
       "[1] 50000   165"
      ]
     },
     "metadata": {},
     "output_type": "display_data"
    }
   ],
   "source": []
  },
  {
   "cell_type": "code",
   "execution_count": 29,
   "metadata": {},
   "outputs": [],
   "source": []
  },
  {
   "cell_type": "code",
   "execution_count": 30,
   "metadata": {},
   "outputs": [],
   "source": []
  },
  {
   "cell_type": "code",
   "execution_count": 31,
   "metadata": {},
   "outputs": [],
   "source": []
  },
  {
   "cell_type": "code",
   "execution_count": 32,
   "metadata": {},
   "outputs": [
    {
     "data": {
      "text/html": [
       "<ol class=list-inline>\n",
       "\t<li>40002</li>\n",
       "\t<li>164</li>\n",
       "</ol>\n"
      ],
      "text/latex": [
       "\\begin{enumerate*}\n",
       "\\item 40002\n",
       "\\item 164\n",
       "\\end{enumerate*}\n"
      ],
      "text/markdown": [
       "1. 40002\n",
       "2. 164\n",
       "\n",
       "\n"
      ],
      "text/plain": [
       "[1] 40002   164"
      ]
     },
     "metadata": {},
     "output_type": "display_data"
    }
   ],
   "source": [
    "dim(x)"
   ]
  },
  {
   "cell_type": "code",
   "execution_count": 13,
   "metadata": {},
   "outputs": [
    {
     "name": "stdout",
     "output_type": "stream",
     "text": [
      " [1] 6.77 7.90 5.80 5.60 7.50 6.40 6.23 7.29 7.10 8.26 8.15 5.40 7.83 8.14 8.52\n",
      "[16] 5.60 5.15 7.57 6.96 7.11\n"
     ]
    }
   ],
   "source": [
    "print(y[1:20])"
   ]
  },
  {
   "cell_type": "code",
   "execution_count": 14,
   "metadata": {},
   "outputs": [],
   "source": [
    "lasso=glmnet(x, y, alpha = 1, lambda = NULL)"
   ]
  },
  {
   "cell_type": "code",
   "execution_count": 15,
   "metadata": {},
   "outputs": [],
   "source": [
    "ridge=glmnet(x, y, alpha = 0, lambda = NULL)"
   ]
  },
  {
   "cell_type": "code",
   "execution_count": 16,
   "metadata": {},
   "outputs": [
    {
     "data": {
      "text/html": [
       "0.285335056935318"
      ],
      "text/latex": [
       "0.285335056935318"
      ],
      "text/markdown": [
       "0.285335056935318"
      ],
      "text/plain": [
       "[1] 0.2853351"
      ]
     },
     "metadata": {},
     "output_type": "display_data"
    }
   ],
   "source": [
    "set.seed(123) \n",
    "cv.ridge <- cv.glmnet(x, y, alpha = 0)\n",
    "# Display the best lambda value\n",
    "cv.ridge$lambda.min"
   ]
  },
  {
   "cell_type": "code",
   "execution_count": 17,
   "metadata": {},
   "outputs": [
    {
     "data": {
      "text/plain": [
       "165 x 1 sparse Matrix of class \"dgCMatrix\"\n",
       "                        s0\n",
       "(Intercept)  -1.595788e+01\n",
       "eid           4.778657e-09\n",
       "`34-0.0`      1.021243e-02\n",
       "`46-0.0`     -5.129184e-04\n",
       "`47-0.0`      6.198229e-03\n",
       "`48-0.0`      1.336496e-02\n",
       "`49-0.0`     -7.445437e-03\n",
       "`50-0.0`     -6.636036e-03\n",
       "`51-0.0`     -3.410307e-03\n",
       "`92-0.0`      9.567104e-06\n",
       "`96-0.0`     -4.318153e-04\n",
       "`102-0.0`     2.178183e-02\n",
       "`129-0.0`    -2.503078e-07\n",
       "`130-0.0`    -1.571772e-07\n",
       "`135-0.0`     1.274495e-02\n",
       "`137-0.0`     4.103380e-02\n",
       "`189-0.0`     1.277037e-02\n",
       "`699-0.0`    -8.989530e-04\n",
       "`709-0.0`    -2.378723e-02\n",
       "`874-0.0`     2.044747e-04\n",
       "`894-0.0`     5.367497e-04\n",
       "`1269-0.0`    1.477252e-02\n",
       "`1279-0.0`   -8.856087e-03\n",
       "`1289-0.0`    4.149032e-03\n",
       "`1299-0.0`   -2.514401e-04\n",
       "`1309-0.0`   -2.943549e-02\n",
       "`1319-0.0`    2.464657e-03\n",
       "`1438-0.0`   -4.349984e-04\n",
       "`1458-0.0`   -2.694106e-02\n",
       "`1488-0.0`    2.512856e-04\n",
       "`1528-0.0`   -4.104731e-03\n",
       "`1737-0.0`   -6.652890e-03\n",
       "`1807-0.0`   -3.317091e-03\n",
       "`2139-0.0`   -5.748219e-03\n",
       "`2149-0.0`    7.056407e-04\n",
       "`2217-0.0`    2.111270e-03\n",
       "`2277-0.0`   -6.224024e-03\n",
       "`3061-0.0`    7.954258e-04\n",
       "`3062-0.0`   -3.809460e-02\n",
       "`3063-0.0`   -1.332497e-01\n",
       "`3064-0.0`   -3.080809e-05\n",
       "`4079-0.0`   -1.179470e-02\n",
       "`4080-0.0`    6.366779e-03\n",
       "`20010-0.0`   3.993633e-05\n",
       "`20011-0.0`  -2.434879e-03\n",
       "`20015-0.0`  -5.441628e-03\n",
       "`20074-0.0`   3.324204e-07\n",
       "`20075-0.0`   1.458563e-07\n",
       "`20256-0.0`   2.507555e-02\n",
       "`20257-0.0`   4.122196e-03\n",
       "`20258-0.0`   8.650262e-02\n",
       "`21001-0.0`   7.362512e-03\n",
       "`21002-0.0`   7.250603e-04\n",
       "`21003-0.0`  -5.888772e-03\n",
       "`21022-0.0`  -5.877996e-03\n",
       "`22034-0.0`  -4.641404e-04\n",
       "`22037-0.0`  -3.347823e-05\n",
       "`22038-0.0`   2.803706e-05\n",
       "`22039-0.0`   1.858786e-05\n",
       "`22702-0.0`   2.531688e-07\n",
       "`22704-0.0`  -1.550509e-07\n",
       "`23098-0.0`   3.820039e-04\n",
       "`23099-0.0`   1.103886e-03\n",
       "`23100-0.0`   1.138597e-03\n",
       "`23101-0.0`  -7.917404e-04\n",
       "`23102-0.0`  -1.280388e-03\n",
       "`23106-0.0`   1.283914e-04\n",
       "`23107-0.0`  -2.556450e-04\n",
       "`23108-0.0`   7.625669e-04\n",
       "`23109-0.0`  -4.714679e-04\n",
       "`23110-0.0`   8.194977e-05\n",
       "`23111-0.0`   2.117057e-03\n",
       "`23112-0.0`   4.275302e-04\n",
       "`23113-0.0`  -1.157287e-02\n",
       "`23114-0.0`  -9.172688e-03\n",
       "`23115-0.0`   2.666924e-03\n",
       "`23116-0.0`   9.370500e-03\n",
       "`23117-0.0`  -1.733296e-02\n",
       "`23118-0.0`  -1.731211e-02\n",
       "`23119-0.0`   1.255128e-04\n",
       "`23120-0.0`   9.430821e-03\n",
       "`23121-0.0`  -1.223883e-02\n",
       "`23122-0.0`  -4.532415e-03\n",
       "`23123-0.0`   4.730634e-04\n",
       "`23124-0.0`   1.092526e-02\n",
       "`23125-0.0`  -1.087392e-03\n",
       "`23126-0.0`   5.769214e-03\n",
       "`23127-0.0`   9.780440e-04\n",
       "`23128-0.0`   9.285860e-03\n",
       "`23129-0.0`   4.079641e-03\n",
       "`23130-0.0`   2.963157e-03\n",
       "`24003-0.0`   2.849784e-03\n",
       "`24004-0.0`   1.582270e-03\n",
       "`24005-0.0`   9.362200e-03\n",
       "`24006-0.0`   1.673326e-02\n",
       "`24007-0.0`  -2.938892e-01\n",
       "`24008-0.0`  -3.447470e-02\n",
       "`24009-0.0`  -3.353063e-06\n",
       "`24010-0.0`   3.875970e-01\n",
       "`24011-0.0`   2.467454e-06\n",
       "`24012-0.0`   3.841140e-01\n",
       "`24013-0.0`   1.130732e-08\n",
       "`24015-0.0`   1.118507e-04\n",
       "`24016-0.0`  -1.985829e-03\n",
       "`24017-0.0`  -7.356744e-05\n",
       "`24018-0.0`  -2.067786e-03\n",
       "`24019-0.0`  -8.758430e-03\n",
       "`24020-0.0`  -1.508110e-03\n",
       "`24021-0.0`  -1.484731e-03\n",
       "`24022-0.0`  -1.500965e-03\n",
       "`24500-0.0`  -5.343872e-04\n",
       "`24501-0.0`   1.863061e-04\n",
       "`24502-0.0`   1.169563e-02\n",
       "`24503-0.0`  -9.408903e-04\n",
       "`24504-0.0`  -1.991647e-03\n",
       "`24505-0.0`  -1.127755e-02\n",
       "`24506-0.0`  -2.257857e-03\n",
       "`24507-0.0`   6.315855e-04\n",
       "`24508-0.0`   6.363546e-04\n",
       "`26410-0.0`  -9.358433e-04\n",
       "`26411-0.0`   2.793909e-01\n",
       "`26412-0.0`   4.199222e-01\n",
       "`26413-0.0`  -9.628254e-03\n",
       "`26414-0.0`   8.222424e-05\n",
       "`26415-0.0`   7.170679e-04\n",
       "`26416-0.0`   4.166825e-02\n",
       "`26417-0.0`  -4.026339e-03\n",
       "`30020-0.0`   1.321588e-01\n",
       "`30030-0.0`   5.301062e-02\n",
       "`30040-0.0`   2.648208e-03\n",
       "`30050-0.0`  -5.102836e-04\n",
       "`30060-0.0`  -4.730771e-02\n",
       "`30070-0.0`   1.519576e-01\n",
       "`22009-0.1`  -2.837530e-03\n",
       "`22009-0.10`  8.949298e-03\n",
       "`22009-0.11` -1.306909e-03\n",
       "`22009-0.12` -1.325745e-02\n",
       "`22009-0.13` -4.038843e-04\n",
       "`22009-0.14` -8.728421e-03\n",
       "`22009-0.15` -9.546939e-03\n",
       "`22009-0.16` -1.706200e-04\n",
       "`22009-0.17`  1.744812e-02\n",
       "`22009-0.18`  2.556697e-03\n",
       "`22009-0.19`  4.164335e-03\n",
       "`22009-0.20` -3.229584e-03\n",
       "`22009-0.21` -3.247948e-03\n",
       "`22009-0.22` -2.707306e-03\n",
       "`22009-0.23`  1.759007e-02\n",
       "`22009-0.24`  1.138962e-02\n",
       "`22009-0.25` -7.078064e-03\n",
       "`22009-0.26` -1.279839e-02\n",
       "`22009-0.27`  8.943658e-03\n",
       "`22009-0.28` -8.727475e-03\n",
       "`22009-0.29`  1.655457e-02\n",
       "`22009-0.30`  3.459507e-03\n",
       "`22009-0.31` -5.780379e-03\n",
       "`22009-0.32` -2.976965e-03\n",
       "`22009-0.33` -8.483141e-03\n",
       "`22009-0.34`  2.956777e-03\n",
       "`22009-0.35` -2.782863e-04\n",
       "`22009-0.36` -2.074585e-02\n",
       "`22009-0.37`  8.798515e-03\n",
       "`22009-0.38` -7.535028e-03\n",
       "`22009-0.39`  5.666081e-03\n",
       "`22009-0.40`  4.131811e-03"
      ]
     },
     "metadata": {},
     "output_type": "display_data"
    }
   ],
   "source": [
    "# Fit the final model on the training data\n",
    "model.ridge <- glmnet(x, y, alpha = 0, lambda = cv.ridge$lambda.min)\n",
    "# Display regression coefficients\n",
    "coef(model.ridge)"
   ]
  },
  {
   "cell_type": "code",
   "execution_count": 18,
   "metadata": {},
   "outputs": [
    {
     "data": {
      "text/html": [
       "<table>\n",
       "<caption>A data.frame: 1 × 2</caption>\n",
       "<thead>\n",
       "\t<tr><th scope=col>RMSE</th><th scope=col>Rsquare</th></tr>\n",
       "\t<tr><th scope=col>&lt;dbl&gt;</th><th scope=col>&lt;dbl&gt;</th></tr>\n",
       "</thead>\n",
       "<tbody>\n",
       "\t<tr><td>2.222388</td><td>0.07850877</td></tr>\n",
       "</tbody>\n",
       "</table>\n"
      ],
      "text/latex": [
       "A data.frame: 1 × 2\n",
       "\\begin{tabular}{r|ll}\n",
       " RMSE & Rsquare\\\\\n",
       " <dbl> & <dbl>\\\\\n",
       "\\hline\n",
       "\t 2.222388 & 0.07850877\\\\\n",
       "\\end{tabular}\n"
      ],
      "text/markdown": [
       "\n",
       "A data.frame: 1 × 2\n",
       "\n",
       "| RMSE &lt;dbl&gt; | Rsquare &lt;dbl&gt; |\n",
       "|---|---|\n",
       "| 2.222388 | 0.07850877 |\n",
       "\n"
      ],
      "text/plain": [
       "  RMSE     Rsquare   \n",
       "1 2.222388 0.07850877"
      ]
     },
     "metadata": {},
     "output_type": "display_data"
    }
   ],
   "source": [
    "# Make predictions on the test data\n",
    "x.test <- model.matrix(count ~., test.data)[,-1]\n",
    "predictions <- model.ridge %>% predict(x.test) %>% as.vector()\n",
    "# Model performance metrics\n",
    "data.frame(\n",
    "  RMSE = RMSE(predictions, test.data$count),\n",
    "  Rsquare = R2(predictions, test.data$count)\n",
    ")"
   ]
  },
  {
   "cell_type": "markdown",
   "metadata": {},
   "source": [
    "#### Note that by default, the function glmnet() standardizes variables so that their scales are comparable. However, the coefficients are always returned on the original scale.\n",
    "\n"
   ]
  },
  {
   "cell_type": "code",
   "execution_count": 39,
   "metadata": {},
   "outputs": [
    {
     "data": {
      "text/html": [
       "0.0138504933461344"
      ],
      "text/latex": [
       "0.0138504933461344"
      ],
      "text/markdown": [
       "0.0138504933461344"
      ],
      "text/plain": [
       "[1] 0.01385049"
      ]
     },
     "metadata": {},
     "output_type": "display_data"
    }
   ],
   "source": [
    "# Find the best lambda using cross-validation\n",
    "set.seed(123) \n",
    "cv.lasso <- cv.glmnet(x, y, alpha = 1)\n",
    "# Display the best lambda value\n",
    "cv.lasso$lambda.min"
   ]
  },
  {
   "cell_type": "code",
   "execution_count": 40,
   "metadata": {},
   "outputs": [
    {
     "data": {
      "text/plain": [
       "165 x 1 sparse Matrix of class \"dgCMatrix\"\n",
       "                        s0\n",
       "(Intercept)  -5.801222e+01\n",
       "eid           .           \n",
       "`34-0.0`      2.955894e-02\n",
       "`46-0.0`      .           \n",
       "`47-0.0`      .           \n",
       "`48-0.0`      2.136160e-02\n",
       "`49-0.0`     -1.775000e-03\n",
       "`50-0.0`     -1.455543e-02\n",
       "`51-0.0`      .           \n",
       "`92-0.0`      .           \n",
       "`96-0.0`     -2.303063e-04\n",
       "`102-0.0`     2.337164e-02\n",
       "`129-0.0`    -1.801573e-07\n",
       "`130-0.0`     .           \n",
       "`135-0.0`     .           \n",
       "`137-0.0`     7.242607e-02\n",
       "`189-0.0`     1.004008e-02\n",
       "`699-0.0`     .           \n",
       "`709-0.0`    -2.862142e-02\n",
       "`874-0.0`     .           \n",
       "`894-0.0`     7.806112e-04\n",
       "`1269-0.0`    8.717369e-03\n",
       "`1279-0.0`   -4.774959e-03\n",
       "`1289-0.0`    2.296595e-03\n",
       "`1299-0.0`    .           \n",
       "`1309-0.0`   -2.668471e-02\n",
       "`1319-0.0`   -5.786788e-04\n",
       "`1438-0.0`   -7.425872e-04\n",
       "`1458-0.0`   -2.418928e-02\n",
       "`1488-0.0`    .           \n",
       "`1528-0.0`    .           \n",
       "`1737-0.0`   -2.906100e-03\n",
       "`1807-0.0`   -2.172676e-03\n",
       "`2139-0.0`   -3.202479e-03\n",
       "`2149-0.0`    9.500090e-04\n",
       "`2217-0.0`    1.553709e-03\n",
       "`2277-0.0`   -1.946047e-03\n",
       "`3061-0.0`    4.633309e-04\n",
       "`3062-0.0`    .           \n",
       "`3063-0.0`   -2.274869e-01\n",
       "`3064-0.0`    .           \n",
       "`4079-0.0`   -1.597867e-02\n",
       "`4080-0.0`    6.819993e-03\n",
       "`20010-0.0`   .           \n",
       "`20011-0.0`  -3.063420e-03\n",
       "`20015-0.0`   .           \n",
       "`20074-0.0`   .           \n",
       "`20075-0.0`   .           \n",
       "`20256-0.0`   .           \n",
       "`20257-0.0`   .           \n",
       "`20258-0.0`   5.454460e-02\n",
       "`21001-0.0`   .           \n",
       "`21002-0.0`   .           \n",
       "`21003-0.0`   .           \n",
       "`21022-0.0`   .           \n",
       "`22034-0.0`  -8.946339e-05\n",
       "`22037-0.0`  -2.500752e-05\n",
       "`22038-0.0`   .           \n",
       "`22039-0.0`   .           \n",
       "`22702-0.0`   .           \n",
       "`22704-0.0`   .           \n",
       "`23098-0.0`   .           \n",
       "`23099-0.0`   .           \n",
       "`23100-0.0`   .           \n",
       "`23101-0.0`   .           \n",
       "`23102-0.0`   .           \n",
       "`23106-0.0`   4.315130e-04\n",
       "`23107-0.0`   .           \n",
       "`23108-0.0`   2.244789e-04\n",
       "`23109-0.0`   .           \n",
       "`23110-0.0`   .           \n",
       "`23111-0.0`   5.704318e-03\n",
       "`23112-0.0`   .           \n",
       "`23113-0.0`  -1.715693e-02\n",
       "`23114-0.0`   .           \n",
       "`23115-0.0`   .           \n",
       "`23116-0.0`   .           \n",
       "`23117-0.0`  -6.671947e-03\n",
       "`23118-0.0`   .           \n",
       "`23119-0.0`   .           \n",
       "`23120-0.0`   .           \n",
       "`23121-0.0`  -3.969481e-04\n",
       "`23122-0.0`   .           \n",
       "`23123-0.0`   .           \n",
       "`23124-0.0`   .           \n",
       "`23125-0.0`   .           \n",
       "`23126-0.0`   .           \n",
       "`23127-0.0`   .           \n",
       "`23128-0.0`   .           \n",
       "`23129-0.0`   .           \n",
       "`23130-0.0`   .           \n",
       "`24003-0.0`   .           \n",
       "`24004-0.0`   .           \n",
       "`24005-0.0`   .           \n",
       "`24006-0.0`   .           \n",
       "`24007-0.0`  -2.589588e-01\n",
       "`24008-0.0`   .           \n",
       "`24009-0.0`  -1.873503e-08\n",
       "`24010-0.0`   .           \n",
       "`24011-0.0`   1.424208e-06\n",
       "`24012-0.0`   .           \n",
       "`24013-0.0`   1.605614e-08\n",
       "`24015-0.0`   .           \n",
       "`24016-0.0`   .           \n",
       "`24017-0.0`   .           \n",
       "`24018-0.0`   .           \n",
       "`24019-0.0`   .           \n",
       "`24020-0.0`  -5.854053e-04\n",
       "`24021-0.0`   .           \n",
       "`24022-0.0`  -2.088392e-04\n",
       "`24500-0.0`   .           \n",
       "`24501-0.0`   .           \n",
       "`24502-0.0`   1.181420e-03\n",
       "`24503-0.0`   .           \n",
       "`24504-0.0`   .           \n",
       "`24505-0.0`   .           \n",
       "`24506-0.0`  -1.819771e-03\n",
       "`24507-0.0`   8.376909e-04\n",
       "`24508-0.0`   .           \n",
       "`26410-0.0`   .           \n",
       "`26411-0.0`   5.341829e-02\n",
       "`26412-0.0`   .           \n",
       "`26413-0.0`   .           \n",
       "`26414-0.0`   5.103091e-04\n",
       "`26415-0.0`   .           \n",
       "`26416-0.0`   7.701613e-02\n",
       "`26417-0.0`  -4.601089e-03\n",
       "`30020-0.0`   5.800142e-02\n",
       "`30030-0.0`   8.819906e-02\n",
       "`30040-0.0`   .           \n",
       "`30050-0.0`   1.845118e-02\n",
       "`30060-0.0`   .           \n",
       "`30070-0.0`   2.044757e-01\n",
       "`22009-0.1`  -2.986655e-03\n",
       "`22009-0.10`  1.088820e-03\n",
       "`22009-0.11`  1.297471e-03\n",
       "`22009-0.12` -7.044075e-03\n",
       "`22009-0.13`  .           \n",
       "`22009-0.14` -8.507598e-04\n",
       "`22009-0.15`  .           \n",
       "`22009-0.16`  .           \n",
       "`22009-0.17`  1.024318e-02\n",
       "`22009-0.18`  2.979362e-03\n",
       "`22009-0.19`  .           \n",
       "`22009-0.20`  .           \n",
       "`22009-0.21`  .           \n",
       "`22009-0.22`  .           \n",
       "`22009-0.23`  8.661182e-03\n",
       "`22009-0.24`  1.234175e-02\n",
       "`22009-0.25`  .           \n",
       "`22009-0.26` -1.293276e-02\n",
       "`22009-0.27`  1.061749e-02\n",
       "`22009-0.28` -3.322086e-03\n",
       "`22009-0.29`  6.599443e-03\n",
       "`22009-0.30`  .           \n",
       "`22009-0.31`  .           \n",
       "`22009-0.32` -1.992004e-03\n",
       "`22009-0.33` -4.783485e-03\n",
       "`22009-0.34`  6.360714e-04\n",
       "`22009-0.35`  .           \n",
       "`22009-0.36` -5.014170e-03\n",
       "`22009-0.37`  1.120015e-02\n",
       "`22009-0.38` -4.644608e-03\n",
       "`22009-0.39`  1.375519e-03\n",
       "`22009-0.40`  1.011308e-02"
      ]
     },
     "metadata": {},
     "output_type": "display_data"
    }
   ],
   "source": [
    "# Fit the final model on the training data\n",
    "model.lasso <- glmnet(x, y, alpha = 1, lambda = cv.lasso$lambda.min)\n",
    "# Dsiplay regression coefficients\n",
    "coef(model.lasso)"
   ]
  },
  {
   "cell_type": "code",
   "execution_count": 41,
   "metadata": {},
   "outputs": [
    {
     "data": {
      "text/html": [
       "<table>\n",
       "<caption>A data.frame: 1 × 2</caption>\n",
       "<thead>\n",
       "\t<tr><th scope=col>RMSE</th><th scope=col>Rsquare</th></tr>\n",
       "\t<tr><th scope=col>&lt;dbl&gt;</th><th scope=col>&lt;dbl&gt;</th></tr>\n",
       "</thead>\n",
       "<tbody>\n",
       "\t<tr><td>2.211446</td><td>0.06391145</td></tr>\n",
       "</tbody>\n",
       "</table>\n"
      ],
      "text/latex": [
       "A data.frame: 1 × 2\n",
       "\\begin{tabular}{r|ll}\n",
       " RMSE & Rsquare\\\\\n",
       " <dbl> & <dbl>\\\\\n",
       "\\hline\n",
       "\t 2.211446 & 0.06391145\\\\\n",
       "\\end{tabular}\n"
      ],
      "text/markdown": [
       "\n",
       "A data.frame: 1 × 2\n",
       "\n",
       "| RMSE &lt;dbl&gt; | Rsquare &lt;dbl&gt; |\n",
       "|---|---|\n",
       "| 2.211446 | 0.06391145 |\n",
       "\n"
      ],
      "text/plain": [
       "  RMSE     Rsquare   \n",
       "1 2.211446 0.06391145"
      ]
     },
     "metadata": {},
     "output_type": "display_data"
    }
   ],
   "source": [
    "# Make predictions on the test data\n",
    "x.test <- model.matrix(count ~., test.data)[,-1]\n",
    "predictions <- model.lasso %>% predict(x.test) %>% as.vector()\n",
    "# Model performance metrics\n",
    "data.frame(\n",
    "  RMSE = RMSE(predictions, test.data$count),\n",
    "  Rsquare = R2(predictions, test.data$count)\n",
    ")"
   ]
  },
  {
   "cell_type": "code",
   "execution_count": 23,
   "metadata": {},
   "outputs": [
    {
     "data": {
      "text/html": [
       "<ol class=list-inline>\n",
       "\t<li>'cv.lasso'</li>\n",
       "\t<li>'cv.ridge'</li>\n",
       "\t<li>'end_time'</li>\n",
       "\t<li>'lasso'</li>\n",
       "\t<li>'model.lasso'</li>\n",
       "\t<li>'model.ridge'</li>\n",
       "\t<li>'n'</li>\n",
       "\t<li>'new_data'</li>\n",
       "\t<li>'new_new'</li>\n",
       "\t<li>'predictions'</li>\n",
       "\t<li>'ridge'</li>\n",
       "\t<li>'sample'</li>\n",
       "\t<li>'scale'</li>\n",
       "\t<li>'scale_data'</li>\n",
       "\t<li>'start_time'</li>\n",
       "\t<li>'test.data'</li>\n",
       "\t<li>'train.data'</li>\n",
       "\t<li>'training.samples'</li>\n",
       "\t<li>'x'</li>\n",
       "\t<li>'x.test'</li>\n",
       "\t<li>'y'</li>\n",
       "</ol>\n"
      ],
      "text/latex": [
       "\\begin{enumerate*}\n",
       "\\item 'cv.lasso'\n",
       "\\item 'cv.ridge'\n",
       "\\item 'end\\_time'\n",
       "\\item 'lasso'\n",
       "\\item 'model.lasso'\n",
       "\\item 'model.ridge'\n",
       "\\item 'n'\n",
       "\\item 'new\\_data'\n",
       "\\item 'new\\_new'\n",
       "\\item 'predictions'\n",
       "\\item 'ridge'\n",
       "\\item 'sample'\n",
       "\\item 'scale'\n",
       "\\item 'scale\\_data'\n",
       "\\item 'start\\_time'\n",
       "\\item 'test.data'\n",
       "\\item 'train.data'\n",
       "\\item 'training.samples'\n",
       "\\item 'x'\n",
       "\\item 'x.test'\n",
       "\\item 'y'\n",
       "\\end{enumerate*}\n"
      ],
      "text/markdown": [
       "1. 'cv.lasso'\n",
       "2. 'cv.ridge'\n",
       "3. 'end_time'\n",
       "4. 'lasso'\n",
       "5. 'model.lasso'\n",
       "6. 'model.ridge'\n",
       "7. 'n'\n",
       "8. 'new_data'\n",
       "9. 'new_new'\n",
       "10. 'predictions'\n",
       "11. 'ridge'\n",
       "12. 'sample'\n",
       "13. 'scale'\n",
       "14. 'scale_data'\n",
       "15. 'start_time'\n",
       "16. 'test.data'\n",
       "17. 'train.data'\n",
       "18. 'training.samples'\n",
       "19. 'x'\n",
       "20. 'x.test'\n",
       "21. 'y'\n",
       "\n",
       "\n"
      ],
      "text/plain": [
       " [1] \"cv.lasso\"         \"cv.ridge\"         \"end_time\"         \"lasso\"           \n",
       " [5] \"model.lasso\"      \"model.ridge\"      \"n\"                \"new_data\"        \n",
       " [9] \"new_new\"          \"predictions\"      \"ridge\"            \"sample\"          \n",
       "[13] \"scale\"            \"scale_data\"       \"start_time\"       \"test.data\"       \n",
       "[17] \"train.data\"       \"training.samples\" \"x\"                \"x.test\"          \n",
       "[21] \"y\"               "
      ]
     },
     "metadata": {},
     "output_type": "display_data"
    }
   ],
   "source": [
    "ls()"
   ]
  },
  {
   "cell_type": "code",
   "execution_count": 96,
   "metadata": {},
   "outputs": [
    {
     "data": {
      "text/html": [
       "<ol class=list-inline>\n",
       "\t<li>100000</li>\n",
       "\t<li>165</li>\n",
       "</ol>\n"
      ],
      "text/latex": [
       "\\begin{enumerate*}\n",
       "\\item 100000\n",
       "\\item 165\n",
       "\\end{enumerate*}\n"
      ],
      "text/markdown": [
       "1. 100000\n",
       "2. 165\n",
       "\n",
       "\n"
      ],
      "text/plain": [
       "[1] 100000    165"
      ]
     },
     "metadata": {},
     "output_type": "display_data"
    }
   ],
   "source": [
    "set.seed(123)\n",
    "new_new=scale_data[sample(1:nrow(new_data),100000,replace = F),]\n",
    "n=nrow(new_new)\n",
    "sample <- sample(seq(n), size = n * 0.5, replace = FALSE)\n",
    "training.samples <- new_new$count %>%\n",
    "  createDataPartition(p = 0.8, list = FALSE)\n",
    "train.data  <- new_new[training.samples, ]\n",
    "test.data <- new_new[-training.samples, ]\n",
    "# Predictor variables\n",
    "x <- model.matrix(count~., train.data)[,-1]\n",
    "# Outcome variable\n",
    "y <- train.data$count\n",
    "dim(new_new)"
   ]
  },
  {
   "cell_type": "code",
   "execution_count": 97,
   "metadata": {
    "scrolled": true
   },
   "outputs": [
    {
     "data": {
      "text/html": [
       "<table>\n",
       "<caption>A data.frame: 1 × 2</caption>\n",
       "<thead>\n",
       "\t<tr><th></th><th scope=col>alpha</th><th scope=col>lambda</th></tr>\n",
       "\t<tr><th></th><th scope=col>&lt;dbl&gt;</th><th scope=col>&lt;dbl&gt;</th></tr>\n",
       "</thead>\n",
       "<tbody>\n",
       "\t<tr><th scope=row>4</th><td>0.1</td><td>0.0009176004</td></tr>\n",
       "</tbody>\n",
       "</table>\n"
      ],
      "text/latex": [
       "A data.frame: 1 × 2\n",
       "\\begin{tabular}{r|ll}\n",
       "  & alpha & lambda\\\\\n",
       "  & <dbl> & <dbl>\\\\\n",
       "\\hline\n",
       "\t4 & 0.1 & 0.0009176004\\\\\n",
       "\\end{tabular}\n"
      ],
      "text/markdown": [
       "\n",
       "A data.frame: 1 × 2\n",
       "\n",
       "| <!--/--> | alpha &lt;dbl&gt; | lambda &lt;dbl&gt; |\n",
       "|---|---|---|\n",
       "| 4 | 0.1 | 0.0009176004 |\n",
       "\n"
      ],
      "text/plain": [
       "  alpha lambda      \n",
       "4 0.1   0.0009176004"
      ]
     },
     "metadata": {},
     "output_type": "display_data"
    }
   ],
   "source": [
    "# Build the model using the training set\n",
    "set.seed(123)\n",
    "model.ela <- train(\n",
    "  count ~., data = train.data, method = \"glmnet\",\n",
    "  trControl = trainControl(\"cv\", number = 10),\n",
    "  tuneLength = 10\n",
    ")\n",
    "# Best tuning parameter\n",
    "model.ela$bestTune"
   ]
  },
  {
   "cell_type": "code",
   "execution_count": 98,
   "metadata": {},
   "outputs": [
    {
     "data": {
      "text/plain": [
       "165 x 1 sparse Matrix of class \"dgCMatrix\"\n",
       "                        s0\n",
       "(Intercept)  -0.0016660513\n",
       "eid           .           \n",
       "`34-0.0`      0.0443990182\n",
       "`46-0.0`      .           \n",
       "`47-0.0`      .           \n",
       "`48-0.0`      0.1105600671\n",
       "`49-0.0`      .           \n",
       "`50-0.0`     -0.0802554421\n",
       "`51-0.0`     -0.0190970154\n",
       "`92-0.0`      .           \n",
       "`96-0.0`     -0.0043057965\n",
       "`102-0.0`     0.1153646868\n",
       "`129-0.0`     .           \n",
       "`130-0.0`     .           \n",
       "`135-0.0`     0.0150186343\n",
       "`137-0.0`     0.0581277402\n",
       "`189-0.0`     0.0132502420\n",
       "`699-0.0`    -0.0006489901\n",
       "`709-0.0`     .           \n",
       "`874-0.0`     .           \n",
       "`894-0.0`     .           \n",
       "`1269-0.0`    .           \n",
       "`1279-0.0`    .           \n",
       "`1289-0.0`    .           \n",
       "`1299-0.0`    .           \n",
       "`1309-0.0`   -0.0174025631\n",
       "`1319-0.0`    .           \n",
       "`1438-0.0`    .           \n",
       "`1458-0.0`   -0.0130447397\n",
       "`1488-0.0`    0.0023274954\n",
       "`1528-0.0`    .           \n",
       "`1737-0.0`    .           \n",
       "`1807-0.0`   -0.0029545093\n",
       "`2139-0.0`   -0.0099731758\n",
       "`2149-0.0`    .           \n",
       "`2217-0.0`    .           \n",
       "`2277-0.0`    .           \n",
       "`3061-0.0`    0.0031799116\n",
       "`3062-0.0`    .           \n",
       "`3063-0.0`   -0.0250880953\n",
       "`3064-0.0`    .           \n",
       "`4079-0.0`   -0.0343137089\n",
       "`4080-0.0`    0.0264894536\n",
       "`20010-0.0`   .           \n",
       "`20011-0.0`   .           \n",
       "`20015-0.0`   .           \n",
       "`20074-0.0`   .           \n",
       "`20075-0.0`   .           \n",
       "`20256-0.0`   0.0267032175\n",
       "`20257-0.0`   .           \n",
       "`20258-0.0`   0.0193118945\n",
       "`21001-0.0`   .           \n",
       "`21002-0.0`   .           \n",
       "`21003-0.0`   .           \n",
       "`21022-0.0`   .           \n",
       "`22034-0.0`   .           \n",
       "`22037-0.0`   .           \n",
       "`22038-0.0`   .           \n",
       "`22039-0.0`   .           \n",
       "`22702-0.0`   .           \n",
       "`22704-0.0`  -0.0072367503\n",
       "`23098-0.0`   .           \n",
       "`23099-0.0`   .           \n",
       "`23100-0.0`   .           \n",
       "`23101-0.0`   .           \n",
       "`23102-0.0`   .           \n",
       "`23106-0.0`   .           \n",
       "`23107-0.0`   .           \n",
       "`23108-0.0`   .           \n",
       "`23109-0.0`   .           \n",
       "`23110-0.0`   .           \n",
       "`23111-0.0`   .           \n",
       "`23112-0.0`   .           \n",
       "`23113-0.0`   .           \n",
       "`23114-0.0`   .           \n",
       "`23115-0.0`   .           \n",
       "`23116-0.0`   .           \n",
       "`23117-0.0`   .           \n",
       "`23118-0.0`   .           \n",
       "`23119-0.0`   0.0153744606\n",
       "`23120-0.0`   0.0002325346\n",
       "`23121-0.0`  -0.0078312443\n",
       "`23122-0.0`  -0.0014980677\n",
       "`23123-0.0`   .           \n",
       "`23124-0.0`   .           \n",
       "`23125-0.0`   .           \n",
       "`23126-0.0`   .           \n",
       "`23127-0.0`   .           \n",
       "`23128-0.0`   .           \n",
       "`23129-0.0`   .           \n",
       "`23130-0.0`   .           \n",
       "`24003-0.0`   .           \n",
       "`24004-0.0`   .           \n",
       "`24005-0.0`   .           \n",
       "`24006-0.0`   .           \n",
       "`24007-0.0`   .           \n",
       "`24008-0.0`   .           \n",
       "`24009-0.0`   .           \n",
       "`24010-0.0`   .           \n",
       "`24011-0.0`   .           \n",
       "`24012-0.0`   .           \n",
       "`24013-0.0`   .           \n",
       "`24015-0.0`   .           \n",
       "`24016-0.0`   .           \n",
       "`24017-0.0`   .           \n",
       "`24018-0.0`   .           \n",
       "`24019-0.0`   0.0002285779\n",
       "`24020-0.0`   .           \n",
       "`24021-0.0`   .           \n",
       "`24022-0.0`   .           \n",
       "`24500-0.0`   .           \n",
       "`24501-0.0`   .           \n",
       "`24502-0.0`   .           \n",
       "`24503-0.0`   .           \n",
       "`24504-0.0`   .           \n",
       "`24505-0.0`   .           \n",
       "`24506-0.0`   .           \n",
       "`24507-0.0`   .           \n",
       "`24508-0.0`   .           \n",
       "`26410-0.0`   .           \n",
       "`26411-0.0`   0.0034789476\n",
       "`26412-0.0`   .           \n",
       "`26413-0.0`   .           \n",
       "`26414-0.0`   0.0269831578\n",
       "`26415-0.0`   .           \n",
       "`26416-0.0`   .           \n",
       "`26417-0.0`   .           \n",
       "`30020-0.0`   .           \n",
       "`30030-0.0`   0.1330237191\n",
       "`30040-0.0`   .           \n",
       "`30050-0.0`   .           \n",
       "`30060-0.0`   .           \n",
       "`30070-0.0`   0.0412395917\n",
       "`22009-0.1`  -0.0730491136\n",
       "`22009-0.10`  .           \n",
       "`22009-0.11`  .           \n",
       "`22009-0.12`  .           \n",
       "`22009-0.13`  .           \n",
       "`22009-0.14`  .           \n",
       "`22009-0.15`  .           \n",
       "`22009-0.16`  .           \n",
       "`22009-0.17`  .           \n",
       "`22009-0.18`  .           \n",
       "`22009-0.19`  .           \n",
       "`22009-0.20`  .           \n",
       "`22009-0.21`  .           \n",
       "`22009-0.22`  .           \n",
       "`22009-0.23`  .           \n",
       "`22009-0.24`  .           \n",
       "`22009-0.25`  .           \n",
       "`22009-0.26`  .           \n",
       "`22009-0.27`  .           \n",
       "`22009-0.28`  .           \n",
       "`22009-0.29`  .           \n",
       "`22009-0.30`  .           \n",
       "`22009-0.31`  .           \n",
       "`22009-0.32`  .           \n",
       "`22009-0.33`  .           \n",
       "`22009-0.34`  .           \n",
       "`22009-0.35` -0.0015847367\n",
       "`22009-0.36`  .           \n",
       "`22009-0.37`  .           \n",
       "`22009-0.38`  .           \n",
       "`22009-0.39`  .           \n",
       "`22009-0.40`  .           "
      ]
     },
     "metadata": {},
     "output_type": "display_data"
    }
   ],
   "source": [
    "model.best.ela <- glmnet(x, y, alpha = 0.7, lambda = 0.01219148)\n",
    "# Dsiplay regression coefficients\n",
    "coef(model.best.ela)"
   ]
  },
  {
   "cell_type": "code",
   "execution_count": 93,
   "metadata": {},
   "outputs": [
    {
     "data": {
      "text/html": [
       "<table>\n",
       "<caption>A data.frame: 1 × 2</caption>\n",
       "<thead>\n",
       "\t<tr><th scope=col>RMSE</th><th scope=col>Rsquare</th></tr>\n",
       "\t<tr><th scope=col>&lt;dbl&gt;</th><th scope=col>&lt;dbl&gt;</th></tr>\n",
       "</thead>\n",
       "<tbody>\n",
       "\t<tr><td>1.045114</td><td>0.08130832</td></tr>\n",
       "</tbody>\n",
       "</table>\n"
      ],
      "text/latex": [
       "A data.frame: 1 × 2\n",
       "\\begin{tabular}{r|ll}\n",
       " RMSE & Rsquare\\\\\n",
       " <dbl> & <dbl>\\\\\n",
       "\\hline\n",
       "\t 1.045114 & 0.08130832\\\\\n",
       "\\end{tabular}\n"
      ],
      "text/markdown": [
       "\n",
       "A data.frame: 1 × 2\n",
       "\n",
       "| RMSE &lt;dbl&gt; | Rsquare &lt;dbl&gt; |\n",
       "|---|---|\n",
       "| 1.045114 | 0.08130832 |\n",
       "\n"
      ],
      "text/plain": [
       "  RMSE     Rsquare   \n",
       "1 1.045114 0.08130832"
      ]
     },
     "metadata": {},
     "output_type": "display_data"
    }
   ],
   "source": [
    "\n",
    "\n",
    "x.test <- model.matrix(count ~., test.data)[,-1]\n",
    "predictions <- model.best.ela %>% predict(x.test) %>% as.vector()\n",
    "# Model performance metrics\n",
    "data.frame(\n",
    "  RMSE = RMSE(predictions, test.data$count),\n",
    "  Rsquare = R2(predictions, test.data$count)\n",
    ")"
   ]
  },
  {
   "cell_type": "code",
   "execution_count": 94,
   "metadata": {},
   "outputs": [],
   "source": [
    "beta_net_ela=cbind(as.data.frame(x=colnames(x)),as.data.frame(x=as.vector(model.best.ela$beta)))\n",
    "colnames(beta_net_ela)=c(\"variable\",\"beta\")"
   ]
  },
  {
   "cell_type": "code",
   "execution_count": 95,
   "metadata": {},
   "outputs": [
    {
     "data": {
      "text/html": [
       "<table>\n",
       "<caption>A data.frame: 30 × 2</caption>\n",
       "<thead>\n",
       "\t<tr><th></th><th scope=col>variable</th><th scope=col>beta</th></tr>\n",
       "\t<tr><th></th><th scope=col>&lt;fct&gt;</th><th scope=col>&lt;dbl&gt;</th></tr>\n",
       "</thead>\n",
       "<tbody>\n",
       "\t<tr><th scope=row>2</th><td>`34-0.0`    </td><td>0.0858030355</td></tr>\n",
       "\t<tr><th scope=row>4</th><td>`47-0.0`    </td><td>0.0098399683</td></tr>\n",
       "\t<tr><th scope=row>5</th><td>`48-0.0`    </td><td>0.1094198569</td></tr>\n",
       "\t<tr><th scope=row>11</th><td>`102-0.0`   </td><td>0.1291060930</td></tr>\n",
       "\t<tr><th scope=row>15</th><td>`137-0.0`   </td><td>0.0539639680</td></tr>\n",
       "\t<tr><th scope=row>16</th><td>`189-0.0`   </td><td>0.0147246311</td></tr>\n",
       "\t<tr><th scope=row>20</th><td>`894-0.0`   </td><td>0.0128977267</td></tr>\n",
       "\t<tr><th scope=row>21</th><td>`1269-0.0`  </td><td>0.0230086846</td></tr>\n",
       "\t<tr><th scope=row>34</th><td>`2149-0.0`  </td><td>0.0142767115</td></tr>\n",
       "\t<tr><th scope=row>35</th><td>`2217-0.0`  </td><td>0.0100261618</td></tr>\n",
       "\t<tr><th scope=row>42</th><td>`4080-0.0`  </td><td>0.0582228058</td></tr>\n",
       "\t<tr><th scope=row>50</th><td>`20258-0.0` </td><td>0.0231231921</td></tr>\n",
       "\t<tr><th scope=row>68</th><td>`23108-0.0` </td><td>0.0070984258</td></tr>\n",
       "\t<tr><th scope=row>75</th><td>`23115-0.0` </td><td>0.0404556609</td></tr>\n",
       "\t<tr><th scope=row>98</th><td>`24010-0.0` </td><td>0.0036033480</td></tr>\n",
       "\t<tr><th scope=row>99</th><td>`24011-0.0` </td><td>0.0093458510</td></tr>\n",
       "\t<tr><th scope=row>118</th><td>`24508-0.0` </td><td>0.0013339119</td></tr>\n",
       "\t<tr><th scope=row>120</th><td>`26411-0.0` </td><td>0.0070684135</td></tr>\n",
       "\t<tr><th scope=row>121</th><td>`26412-0.0` </td><td>0.0008389447</td></tr>\n",
       "\t<tr><th scope=row>125</th><td>`26416-0.0` </td><td>0.0085918691</td></tr>\n",
       "\t<tr><th scope=row>128</th><td>`30030-0.0` </td><td>0.1722624357</td></tr>\n",
       "\t<tr><th scope=row>132</th><td>`30070-0.0` </td><td>0.0715236812</td></tr>\n",
       "\t<tr><th scope=row>134</th><td>`22009-0.10`</td><td>0.0081863280</td></tr>\n",
       "\t<tr><th scope=row>141</th><td>`22009-0.17`</td><td>0.0172707617</td></tr>\n",
       "\t<tr><th scope=row>147</th><td>`22009-0.23`</td><td>0.0172112578</td></tr>\n",
       "\t<tr><th scope=row>148</th><td>`22009-0.24`</td><td>0.0065889096</td></tr>\n",
       "\t<tr><th scope=row>151</th><td>`22009-0.27`</td><td>0.0025323055</td></tr>\n",
       "\t<tr><th scope=row>153</th><td>`22009-0.29`</td><td>0.0138754486</td></tr>\n",
       "\t<tr><th scope=row>161</th><td>`22009-0.37`</td><td>0.0036302398</td></tr>\n",
       "\t<tr><th scope=row>163</th><td>`22009-0.39`</td><td>0.0005609079</td></tr>\n",
       "</tbody>\n",
       "</table>\n"
      ],
      "text/latex": [
       "A data.frame: 30 × 2\n",
       "\\begin{tabular}{r|ll}\n",
       "  & variable & beta\\\\\n",
       "  & <fct> & <dbl>\\\\\n",
       "\\hline\n",
       "\t2 & `34-0.0`     & 0.0858030355\\\\\n",
       "\t4 & `47-0.0`     & 0.0098399683\\\\\n",
       "\t5 & `48-0.0`     & 0.1094198569\\\\\n",
       "\t11 & `102-0.0`    & 0.1291060930\\\\\n",
       "\t15 & `137-0.0`    & 0.0539639680\\\\\n",
       "\t16 & `189-0.0`    & 0.0147246311\\\\\n",
       "\t20 & `894-0.0`    & 0.0128977267\\\\\n",
       "\t21 & `1269-0.0`   & 0.0230086846\\\\\n",
       "\t34 & `2149-0.0`   & 0.0142767115\\\\\n",
       "\t35 & `2217-0.0`   & 0.0100261618\\\\\n",
       "\t42 & `4080-0.0`   & 0.0582228058\\\\\n",
       "\t50 & `20258-0.0`  & 0.0231231921\\\\\n",
       "\t68 & `23108-0.0`  & 0.0070984258\\\\\n",
       "\t75 & `23115-0.0`  & 0.0404556609\\\\\n",
       "\t98 & `24010-0.0`  & 0.0036033480\\\\\n",
       "\t99 & `24011-0.0`  & 0.0093458510\\\\\n",
       "\t118 & `24508-0.0`  & 0.0013339119\\\\\n",
       "\t120 & `26411-0.0`  & 0.0070684135\\\\\n",
       "\t121 & `26412-0.0`  & 0.0008389447\\\\\n",
       "\t125 & `26416-0.0`  & 0.0085918691\\\\\n",
       "\t128 & `30030-0.0`  & 0.1722624357\\\\\n",
       "\t132 & `30070-0.0`  & 0.0715236812\\\\\n",
       "\t134 & `22009-0.10` & 0.0081863280\\\\\n",
       "\t141 & `22009-0.17` & 0.0172707617\\\\\n",
       "\t147 & `22009-0.23` & 0.0172112578\\\\\n",
       "\t148 & `22009-0.24` & 0.0065889096\\\\\n",
       "\t151 & `22009-0.27` & 0.0025323055\\\\\n",
       "\t153 & `22009-0.29` & 0.0138754486\\\\\n",
       "\t161 & `22009-0.37` & 0.0036302398\\\\\n",
       "\t163 & `22009-0.39` & 0.0005609079\\\\\n",
       "\\end{tabular}\n"
      ],
      "text/markdown": [
       "\n",
       "A data.frame: 30 × 2\n",
       "\n",
       "| <!--/--> | variable &lt;fct&gt; | beta &lt;dbl&gt; |\n",
       "|---|---|---|\n",
       "| 2 | `34-0.0`     | 0.0858030355 |\n",
       "| 4 | `47-0.0`     | 0.0098399683 |\n",
       "| 5 | `48-0.0`     | 0.1094198569 |\n",
       "| 11 | `102-0.0`    | 0.1291060930 |\n",
       "| 15 | `137-0.0`    | 0.0539639680 |\n",
       "| 16 | `189-0.0`    | 0.0147246311 |\n",
       "| 20 | `894-0.0`    | 0.0128977267 |\n",
       "| 21 | `1269-0.0`   | 0.0230086846 |\n",
       "| 34 | `2149-0.0`   | 0.0142767115 |\n",
       "| 35 | `2217-0.0`   | 0.0100261618 |\n",
       "| 42 | `4080-0.0`   | 0.0582228058 |\n",
       "| 50 | `20258-0.0`  | 0.0231231921 |\n",
       "| 68 | `23108-0.0`  | 0.0070984258 |\n",
       "| 75 | `23115-0.0`  | 0.0404556609 |\n",
       "| 98 | `24010-0.0`  | 0.0036033480 |\n",
       "| 99 | `24011-0.0`  | 0.0093458510 |\n",
       "| 118 | `24508-0.0`  | 0.0013339119 |\n",
       "| 120 | `26411-0.0`  | 0.0070684135 |\n",
       "| 121 | `26412-0.0`  | 0.0008389447 |\n",
       "| 125 | `26416-0.0`  | 0.0085918691 |\n",
       "| 128 | `30030-0.0`  | 0.1722624357 |\n",
       "| 132 | `30070-0.0`  | 0.0715236812 |\n",
       "| 134 | `22009-0.10` | 0.0081863280 |\n",
       "| 141 | `22009-0.17` | 0.0172707617 |\n",
       "| 147 | `22009-0.23` | 0.0172112578 |\n",
       "| 148 | `22009-0.24` | 0.0065889096 |\n",
       "| 151 | `22009-0.27` | 0.0025323055 |\n",
       "| 153 | `22009-0.29` | 0.0138754486 |\n",
       "| 161 | `22009-0.37` | 0.0036302398 |\n",
       "| 163 | `22009-0.39` | 0.0005609079 |\n",
       "\n"
      ],
      "text/plain": [
       "    variable     beta        \n",
       "2   `34-0.0`     0.0858030355\n",
       "4   `47-0.0`     0.0098399683\n",
       "5   `48-0.0`     0.1094198569\n",
       "11  `102-0.0`    0.1291060930\n",
       "15  `137-0.0`    0.0539639680\n",
       "16  `189-0.0`    0.0147246311\n",
       "20  `894-0.0`    0.0128977267\n",
       "21  `1269-0.0`   0.0230086846\n",
       "34  `2149-0.0`   0.0142767115\n",
       "35  `2217-0.0`   0.0100261618\n",
       "42  `4080-0.0`   0.0582228058\n",
       "50  `20258-0.0`  0.0231231921\n",
       "68  `23108-0.0`  0.0070984258\n",
       "75  `23115-0.0`  0.0404556609\n",
       "98  `24010-0.0`  0.0036033480\n",
       "99  `24011-0.0`  0.0093458510\n",
       "118 `24508-0.0`  0.0013339119\n",
       "120 `26411-0.0`  0.0070684135\n",
       "121 `26412-0.0`  0.0008389447\n",
       "125 `26416-0.0`  0.0085918691\n",
       "128 `30030-0.0`  0.1722624357\n",
       "132 `30070-0.0`  0.0715236812\n",
       "134 `22009-0.10` 0.0081863280\n",
       "141 `22009-0.17` 0.0172707617\n",
       "147 `22009-0.23` 0.0172112578\n",
       "148 `22009-0.24` 0.0065889096\n",
       "151 `22009-0.27` 0.0025323055\n",
       "153 `22009-0.29` 0.0138754486\n",
       "161 `22009-0.37` 0.0036302398\n",
       "163 `22009-0.39` 0.0005609079"
      ]
     },
     "metadata": {},
     "output_type": "display_data"
    }
   ],
   "source": [
    "beta_net_ela[beta_net_ela$beta>0,]"
   ]
  },
  {
   "cell_type": "code",
   "execution_count": 87,
   "metadata": {},
   "outputs": [
    {
     "data": {
      "text/html": [
       "<table>\n",
       "<caption>A data.frame: 20 × 2</caption>\n",
       "<thead>\n",
       "\t<tr><th></th><th scope=col>variable</th><th scope=col>beta</th></tr>\n",
       "\t<tr><th></th><th scope=col>&lt;fct&gt;</th><th scope=col>&lt;dbl&gt;</th></tr>\n",
       "</thead>\n",
       "<tbody>\n",
       "\t<tr><th scope=row>2</th><td>`34-0.0`    </td><td>1.009776e-02</td></tr>\n",
       "\t<tr><th scope=row>5</th><td>`48-0.0`    </td><td>1.665199e-02</td></tr>\n",
       "\t<tr><th scope=row>11</th><td>`102-0.0`   </td><td>2.351627e-02</td></tr>\n",
       "\t<tr><th scope=row>15</th><td>`137-0.0`   </td><td>5.694711e-02</td></tr>\n",
       "\t<tr><th scope=row>16</th><td>`189-0.0`   </td><td>1.260256e-02</td></tr>\n",
       "\t<tr><th scope=row>29</th><td>`1488-0.0`  </td><td>3.799752e-03</td></tr>\n",
       "\t<tr><th scope=row>35</th><td>`2217-0.0`  </td><td>2.680677e-04</td></tr>\n",
       "\t<tr><th scope=row>37</th><td>`3061-0.0`  </td><td>1.503311e-03</td></tr>\n",
       "\t<tr><th scope=row>42</th><td>`4080-0.0`  </td><td>2.603806e-03</td></tr>\n",
       "\t<tr><th scope=row>48</th><td>`20256-0.0` </td><td>5.751020e-02</td></tr>\n",
       "\t<tr><th scope=row>50</th><td>`20258-0.0` </td><td>4.992909e-02</td></tr>\n",
       "\t<tr><th scope=row>79</th><td>`23119-0.0` </td><td>1.776185e-04</td></tr>\n",
       "\t<tr><th scope=row>80</th><td>`23120-0.0` </td><td>2.587248e-02</td></tr>\n",
       "\t<tr><th scope=row>99</th><td>`24011-0.0` </td><td>2.277513e-07</td></tr>\n",
       "\t<tr><th scope=row>111</th><td>`24501-0.0` </td><td>7.541280e-04</td></tr>\n",
       "\t<tr><th scope=row>120</th><td>`26411-0.0` </td><td>1.520680e-01</td></tr>\n",
       "\t<tr><th scope=row>123</th><td>`26414-0.0` </td><td>2.671746e-03</td></tr>\n",
       "\t<tr><th scope=row>128</th><td>`30030-0.0` </td><td>7.543283e-02</td></tr>\n",
       "\t<tr><th scope=row>132</th><td>`30070-0.0` </td><td>9.807744e-02</td></tr>\n",
       "\t<tr><th scope=row>142</th><td>`22009-0.18`</td><td>1.392989e-03</td></tr>\n",
       "</tbody>\n",
       "</table>\n"
      ],
      "text/latex": [
       "A data.frame: 20 × 2\n",
       "\\begin{tabular}{r|ll}\n",
       "  & variable & beta\\\\\n",
       "  & <fct> & <dbl>\\\\\n",
       "\\hline\n",
       "\t2 & `34-0.0`     & 1.009776e-02\\\\\n",
       "\t5 & `48-0.0`     & 1.665199e-02\\\\\n",
       "\t11 & `102-0.0`    & 2.351627e-02\\\\\n",
       "\t15 & `137-0.0`    & 5.694711e-02\\\\\n",
       "\t16 & `189-0.0`    & 1.260256e-02\\\\\n",
       "\t29 & `1488-0.0`   & 3.799752e-03\\\\\n",
       "\t35 & `2217-0.0`   & 2.680677e-04\\\\\n",
       "\t37 & `3061-0.0`   & 1.503311e-03\\\\\n",
       "\t42 & `4080-0.0`   & 2.603806e-03\\\\\n",
       "\t48 & `20256-0.0`  & 5.751020e-02\\\\\n",
       "\t50 & `20258-0.0`  & 4.992909e-02\\\\\n",
       "\t79 & `23119-0.0`  & 1.776185e-04\\\\\n",
       "\t80 & `23120-0.0`  & 2.587248e-02\\\\\n",
       "\t99 & `24011-0.0`  & 2.277513e-07\\\\\n",
       "\t111 & `24501-0.0`  & 7.541280e-04\\\\\n",
       "\t120 & `26411-0.0`  & 1.520680e-01\\\\\n",
       "\t123 & `26414-0.0`  & 2.671746e-03\\\\\n",
       "\t128 & `30030-0.0`  & 7.543283e-02\\\\\n",
       "\t132 & `30070-0.0`  & 9.807744e-02\\\\\n",
       "\t142 & `22009-0.18` & 1.392989e-03\\\\\n",
       "\\end{tabular}\n"
      ],
      "text/markdown": [
       "\n",
       "A data.frame: 20 × 2\n",
       "\n",
       "| <!--/--> | variable &lt;fct&gt; | beta &lt;dbl&gt; |\n",
       "|---|---|---|\n",
       "| 2 | `34-0.0`     | 1.009776e-02 |\n",
       "| 5 | `48-0.0`     | 1.665199e-02 |\n",
       "| 11 | `102-0.0`    | 2.351627e-02 |\n",
       "| 15 | `137-0.0`    | 5.694711e-02 |\n",
       "| 16 | `189-0.0`    | 1.260256e-02 |\n",
       "| 29 | `1488-0.0`   | 3.799752e-03 |\n",
       "| 35 | `2217-0.0`   | 2.680677e-04 |\n",
       "| 37 | `3061-0.0`   | 1.503311e-03 |\n",
       "| 42 | `4080-0.0`   | 2.603806e-03 |\n",
       "| 48 | `20256-0.0`  | 5.751020e-02 |\n",
       "| 50 | `20258-0.0`  | 4.992909e-02 |\n",
       "| 79 | `23119-0.0`  | 1.776185e-04 |\n",
       "| 80 | `23120-0.0`  | 2.587248e-02 |\n",
       "| 99 | `24011-0.0`  | 2.277513e-07 |\n",
       "| 111 | `24501-0.0`  | 7.541280e-04 |\n",
       "| 120 | `26411-0.0`  | 1.520680e-01 |\n",
       "| 123 | `26414-0.0`  | 2.671746e-03 |\n",
       "| 128 | `30030-0.0`  | 7.543283e-02 |\n",
       "| 132 | `30070-0.0`  | 9.807744e-02 |\n",
       "| 142 | `22009-0.18` | 1.392989e-03 |\n",
       "\n"
      ],
      "text/plain": [
       "    variable     beta        \n",
       "2   `34-0.0`     1.009776e-02\n",
       "5   `48-0.0`     1.665199e-02\n",
       "11  `102-0.0`    2.351627e-02\n",
       "15  `137-0.0`    5.694711e-02\n",
       "16  `189-0.0`    1.260256e-02\n",
       "29  `1488-0.0`   3.799752e-03\n",
       "35  `2217-0.0`   2.680677e-04\n",
       "37  `3061-0.0`   1.503311e-03\n",
       "42  `4080-0.0`   2.603806e-03\n",
       "48  `20256-0.0`  5.751020e-02\n",
       "50  `20258-0.0`  4.992909e-02\n",
       "79  `23119-0.0`  1.776185e-04\n",
       "80  `23120-0.0`  2.587248e-02\n",
       "99  `24011-0.0`  2.277513e-07\n",
       "111 `24501-0.0`  7.541280e-04\n",
       "120 `26411-0.0`  1.520680e-01\n",
       "123 `26414-0.0`  2.671746e-03\n",
       "128 `30030-0.0`  7.543283e-02\n",
       "132 `30070-0.0`  9.807744e-02\n",
       "142 `22009-0.18` 1.392989e-03"
      ]
     },
     "metadata": {},
     "output_type": "display_data"
    }
   ],
   "source": [
    "beta_net_ela[beta_net_ela$beta>0,]"
   ]
  },
  {
   "cell_type": "markdown",
   "metadata": {},
   "source": [
    "1. Year of birth\n",
    "2. Waist circumference\n",
    "3. Pulse rate\n",
    "4. Number of treatments/medications taken\n",
    "5. Townsend deprivation index at recruitment\n",
    "6. Forced expiratory volume in 1-second (FEV1) Z-score\n",
    "7. FEV1/ FVC ratio Z-score\n",
    "8. Arm fat mass (right)\n",
    "9. Income score (England)\n",
    "10. Education score (England)\n",
    "11. !! Haematocrit percentage\n",
    "12. !! Red blood cell (erythrocyte) distribution width"
   ]
  },
  {
   "cell_type": "code",
   "execution_count": 51,
   "metadata": {},
   "outputs": [
    {
     "data": {
      "text/html": [
       "<ol class=list-inline>\n",
       "\t<li>478174</li>\n",
       "\t<li>165</li>\n",
       "</ol>\n"
      ],
      "text/latex": [
       "\\begin{enumerate*}\n",
       "\\item 478174\n",
       "\\item 165\n",
       "\\end{enumerate*}\n"
      ],
      "text/markdown": [
       "1. 478174\n",
       "2. 165\n",
       "\n",
       "\n"
      ],
      "text/plain": [
       "[1] 478174    165"
      ]
     },
     "metadata": {},
     "output_type": "display_data"
    }
   ],
   "source": [
    "dim(scale_data)"
   ]
  },
  {
   "cell_type": "code",
   "execution_count": 106,
   "metadata": {},
   "outputs": [
    {
     "data": {
      "text/html": [
       "132"
      ],
      "text/latex": [
       "132"
      ],
      "text/markdown": [
       "132"
      ],
      "text/plain": [
       "[1] 132"
      ]
     },
     "metadata": {},
     "output_type": "display_data"
    }
   ],
   "source": [
    "grep(\"30070-0.0\",colnames(scale_data))"
   ]
  },
  {
   "cell_type": "code",
   "execution_count": 6,
   "metadata": {},
   "outputs": [
    {
     "data": {
      "text/html": [
       "<table>\n",
       "<caption>A data.frame: 20 × 5</caption>\n",
       "<thead>\n",
       "\t<tr><th scope=col>30030-0.0</th><th scope=col>30040-0.0</th><th scope=col>30050-0.0</th><th scope=col>30060-0.0</th><th scope=col>30070-0.0</th></tr>\n",
       "\t<tr><th scope=col>&lt;dbl&gt;</th><th scope=col>&lt;dbl&gt;</th><th scope=col>&lt;dbl&gt;</th><th scope=col>&lt;dbl&gt;</th><th scope=col>&lt;dbl&gt;</th></tr>\n",
       "</thead>\n",
       "<tbody>\n",
       "\t<tr><td>-1.4018767</td><td>-0.53406873</td><td>-0.630190654</td><td>-0.37438776</td><td> 0.28021224</td></tr>\n",
       "\t<tr><td> 0.2291841</td><td>-0.02605847</td><td>-0.182638748</td><td>-0.29074653</td><td>-0.49935561</td></tr>\n",
       "\t<tr><td> 0.5638328</td><td> 0.81411235</td><td> 0.613587319</td><td>-0.11417060</td><td> 0.08785134</td></tr>\n",
       "\t<tr><td>-0.2404489</td><td> 0.35603472</td><td> 0.004708562</td><td>-0.56025716</td><td>-0.94482295</td></tr>\n",
       "\t<tr><td> 1.4384189</td><td>-1.04642096</td><td>-0.494884264</td><td> 0.73153517</td><td>-1.00556849</td></tr>\n",
       "\t<tr><td>-0.2207637</td><td> 0.79891546</td><td> 0.858179640</td><td> 0.35979637</td><td>-1.20805365</td></tr>\n",
       "\t<tr><td> 0.6032032</td><td> 0.21709174</td><td> 0.145219044</td><td>-0.06770325</td><td>-0.23612490</td></tr>\n",
       "\t<tr><td> 0.2291841</td><td>-0.89445208</td><td>-0.494884264</td><td> 0.45273107</td><td>-1.20805365</td></tr>\n",
       "\t<tr><td> 0.7409998</td><td> 0.13242337</td><td> 0.514709572</td><td> 0.79658946</td><td>-0.43861006</td></tr>\n",
       "\t<tr><td>-0.6397776</td><td> 0.24748552</td><td>-0.016107806</td><td>-0.42085511</td><td>-0.74233779</td></tr>\n",
       "\t<tr><td>-0.4597985</td><td>-1.35904266</td><td>-0.853966607</td><td> 0.57354618</td><td> 0.30046076</td></tr>\n",
       "\t<tr><td> 1.0362780</td><td> 0.53405541</td><td> 0.280525435</td><td>-0.30004000</td><td> 1.11040138</td></tr>\n",
       "\t<tr><td>-1.1769028</td><td> 1.23311227</td><td> 1.170425156</td><td> 0.26686167</td><td>-0.39811303</td></tr>\n",
       "\t<tr><td> 0.6510102</td><td> 2.18834524</td><td> 2.107161704</td><td> 0.54566577</td><td>-0.49935561</td></tr>\n",
       "\t<tr><td>-1.0053602</td><td>-0.05645225</td><td> 0.275321343</td><td> 0.63860047</td><td> 0.47257314</td></tr>\n",
       "\t<tr><td> 0.4147876</td><td>-0.69255056</td><td>-1.384783985</td><td>-1.64759315</td><td> 1.35338356</td></tr>\n",
       "\t<tr><td>-0.2488854</td><td> 0.27787929</td><td> 0.545934123</td><td> 0.63860047</td><td>-0.90432592</td></tr>\n",
       "\t<tr><td> 0.4260363</td><td> 0.58181706</td><td> 0.702056882</td><td> 0.45273107</td><td>-0.29687045</td></tr>\n",
       "\t<tr><td>-0.5610367</td><td> 0.87272892</td><td> 0.691648698</td><td>-0.04911631</td><td>-0.67146799</td></tr>\n",
       "\t<tr><td>-0.2713828</td><td> 0.21057879</td><td>-0.531312907</td><td>-1.36878905</td><td>-0.39811303</td></tr>\n",
       "</tbody>\n",
       "</table>\n"
      ],
      "text/latex": [
       "A data.frame: 20 × 5\n",
       "\\begin{tabular}{r|lllll}\n",
       " 30030-0.0 & 30040-0.0 & 30050-0.0 & 30060-0.0 & 30070-0.0\\\\\n",
       " <dbl> & <dbl> & <dbl> & <dbl> & <dbl>\\\\\n",
       "\\hline\n",
       "\t -1.4018767 & -0.53406873 & -0.630190654 & -0.37438776 &  0.28021224\\\\\n",
       "\t  0.2291841 & -0.02605847 & -0.182638748 & -0.29074653 & -0.49935561\\\\\n",
       "\t  0.5638328 &  0.81411235 &  0.613587319 & -0.11417060 &  0.08785134\\\\\n",
       "\t -0.2404489 &  0.35603472 &  0.004708562 & -0.56025716 & -0.94482295\\\\\n",
       "\t  1.4384189 & -1.04642096 & -0.494884264 &  0.73153517 & -1.00556849\\\\\n",
       "\t -0.2207637 &  0.79891546 &  0.858179640 &  0.35979637 & -1.20805365\\\\\n",
       "\t  0.6032032 &  0.21709174 &  0.145219044 & -0.06770325 & -0.23612490\\\\\n",
       "\t  0.2291841 & -0.89445208 & -0.494884264 &  0.45273107 & -1.20805365\\\\\n",
       "\t  0.7409998 &  0.13242337 &  0.514709572 &  0.79658946 & -0.43861006\\\\\n",
       "\t -0.6397776 &  0.24748552 & -0.016107806 & -0.42085511 & -0.74233779\\\\\n",
       "\t -0.4597985 & -1.35904266 & -0.853966607 &  0.57354618 &  0.30046076\\\\\n",
       "\t  1.0362780 &  0.53405541 &  0.280525435 & -0.30004000 &  1.11040138\\\\\n",
       "\t -1.1769028 &  1.23311227 &  1.170425156 &  0.26686167 & -0.39811303\\\\\n",
       "\t  0.6510102 &  2.18834524 &  2.107161704 &  0.54566577 & -0.49935561\\\\\n",
       "\t -1.0053602 & -0.05645225 &  0.275321343 &  0.63860047 &  0.47257314\\\\\n",
       "\t  0.4147876 & -0.69255056 & -1.384783985 & -1.64759315 &  1.35338356\\\\\n",
       "\t -0.2488854 &  0.27787929 &  0.545934123 &  0.63860047 & -0.90432592\\\\\n",
       "\t  0.4260363 &  0.58181706 &  0.702056882 &  0.45273107 & -0.29687045\\\\\n",
       "\t -0.5610367 &  0.87272892 &  0.691648698 & -0.04911631 & -0.67146799\\\\\n",
       "\t -0.2713828 &  0.21057879 & -0.531312907 & -1.36878905 & -0.39811303\\\\\n",
       "\\end{tabular}\n"
      ],
      "text/markdown": [
       "\n",
       "A data.frame: 20 × 5\n",
       "\n",
       "| 30030-0.0 &lt;dbl&gt; | 30040-0.0 &lt;dbl&gt; | 30050-0.0 &lt;dbl&gt; | 30060-0.0 &lt;dbl&gt; | 30070-0.0 &lt;dbl&gt; |\n",
       "|---|---|---|---|---|\n",
       "| -1.4018767 | -0.53406873 | -0.630190654 | -0.37438776 |  0.28021224 |\n",
       "|  0.2291841 | -0.02605847 | -0.182638748 | -0.29074653 | -0.49935561 |\n",
       "|  0.5638328 |  0.81411235 |  0.613587319 | -0.11417060 |  0.08785134 |\n",
       "| -0.2404489 |  0.35603472 |  0.004708562 | -0.56025716 | -0.94482295 |\n",
       "|  1.4384189 | -1.04642096 | -0.494884264 |  0.73153517 | -1.00556849 |\n",
       "| -0.2207637 |  0.79891546 |  0.858179640 |  0.35979637 | -1.20805365 |\n",
       "|  0.6032032 |  0.21709174 |  0.145219044 | -0.06770325 | -0.23612490 |\n",
       "|  0.2291841 | -0.89445208 | -0.494884264 |  0.45273107 | -1.20805365 |\n",
       "|  0.7409998 |  0.13242337 |  0.514709572 |  0.79658946 | -0.43861006 |\n",
       "| -0.6397776 |  0.24748552 | -0.016107806 | -0.42085511 | -0.74233779 |\n",
       "| -0.4597985 | -1.35904266 | -0.853966607 |  0.57354618 |  0.30046076 |\n",
       "|  1.0362780 |  0.53405541 |  0.280525435 | -0.30004000 |  1.11040138 |\n",
       "| -1.1769028 |  1.23311227 |  1.170425156 |  0.26686167 | -0.39811303 |\n",
       "|  0.6510102 |  2.18834524 |  2.107161704 |  0.54566577 | -0.49935561 |\n",
       "| -1.0053602 | -0.05645225 |  0.275321343 |  0.63860047 |  0.47257314 |\n",
       "|  0.4147876 | -0.69255056 | -1.384783985 | -1.64759315 |  1.35338356 |\n",
       "| -0.2488854 |  0.27787929 |  0.545934123 |  0.63860047 | -0.90432592 |\n",
       "|  0.4260363 |  0.58181706 |  0.702056882 |  0.45273107 | -0.29687045 |\n",
       "| -0.5610367 |  0.87272892 |  0.691648698 | -0.04911631 | -0.67146799 |\n",
       "| -0.2713828 |  0.21057879 | -0.531312907 | -1.36878905 | -0.39811303 |\n",
       "\n"
      ],
      "text/plain": [
       "   30030-0.0  30040-0.0   30050-0.0    30060-0.0   30070-0.0  \n",
       "1  -1.4018767 -0.53406873 -0.630190654 -0.37438776  0.28021224\n",
       "2   0.2291841 -0.02605847 -0.182638748 -0.29074653 -0.49935561\n",
       "3   0.5638328  0.81411235  0.613587319 -0.11417060  0.08785134\n",
       "4  -0.2404489  0.35603472  0.004708562 -0.56025716 -0.94482295\n",
       "5   1.4384189 -1.04642096 -0.494884264  0.73153517 -1.00556849\n",
       "6  -0.2207637  0.79891546  0.858179640  0.35979637 -1.20805365\n",
       "7   0.6032032  0.21709174  0.145219044 -0.06770325 -0.23612490\n",
       "8   0.2291841 -0.89445208 -0.494884264  0.45273107 -1.20805365\n",
       "9   0.7409998  0.13242337  0.514709572  0.79658946 -0.43861006\n",
       "10 -0.6397776  0.24748552 -0.016107806 -0.42085511 -0.74233779\n",
       "11 -0.4597985 -1.35904266 -0.853966607  0.57354618  0.30046076\n",
       "12  1.0362780  0.53405541  0.280525435 -0.30004000  1.11040138\n",
       "13 -1.1769028  1.23311227  1.170425156  0.26686167 -0.39811303\n",
       "14  0.6510102  2.18834524  2.107161704  0.54566577 -0.49935561\n",
       "15 -1.0053602 -0.05645225  0.275321343  0.63860047  0.47257314\n",
       "16  0.4147876 -0.69255056 -1.384783985 -1.64759315  1.35338356\n",
       "17 -0.2488854  0.27787929  0.545934123  0.63860047 -0.90432592\n",
       "18  0.4260363  0.58181706  0.702056882  0.45273107 -0.29687045\n",
       "19 -0.5610367  0.87272892  0.691648698 -0.04911631 -0.67146799\n",
       "20 -0.2713828  0.21057879 -0.531312907 -1.36878905 -0.39811303"
      ]
     },
     "metadata": {},
     "output_type": "display_data"
    }
   ],
   "source": [
    "scale_data[1:20,c(128:132)]"
   ]
  },
  {
   "cell_type": "code",
   "execution_count": 12,
   "metadata": {},
   "outputs": [
    {
     "data": {
      "text/html": [
       "<table>\n",
       "<caption>A data.table: 20 × 6</caption>\n",
       "<thead>\n",
       "\t<tr><th scope=col>30020-0.0</th><th scope=col>30030-0.0</th><th scope=col>30040-0.0</th><th scope=col>30050-0.0</th><th scope=col>30060-0.0</th><th scope=col>30070-0.0</th></tr>\n",
       "\t<tr><th scope=col>&lt;dbl&gt;</th><th scope=col>&lt;dbl&gt;</th><th scope=col>&lt;dbl&gt;</th><th scope=col>&lt;dbl&gt;</th><th scope=col>&lt;dbl&gt;</th><th scope=col>&lt;dbl&gt;</th></tr>\n",
       "</thead>\n",
       "<tbody>\n",
       "\t<tr><td>12.31</td><td>36.10</td><td> 88.66</td><td>30.24</td><td>34.11</td><td>13.77</td></tr>\n",
       "\t<tr><td>14.30</td><td>41.90</td><td> 91.00</td><td>31.10</td><td>34.20</td><td>13.00</td></tr>\n",
       "\t<tr><td>14.82</td><td>43.09</td><td> 94.87</td><td>32.63</td><td>34.39</td><td>13.58</td></tr>\n",
       "\t<tr><td>13.64</td><td>40.23</td><td> 92.76</td><td>31.46</td><td>33.91</td><td>12.56</td></tr>\n",
       "\t<tr><td>16.30</td><td>46.20</td><td> 86.30</td><td>30.50</td><td>35.30</td><td>12.50</td></tr>\n",
       "\t<tr><td>14.10</td><td>40.30</td><td> 94.80</td><td>33.10</td><td>34.90</td><td>12.30</td></tr>\n",
       "\t<tr><td>14.89</td><td>43.23</td><td> 92.12</td><td>31.73</td><td>34.44</td><td>13.26</td></tr>\n",
       "\t<tr><td>14.70</td><td>41.90</td><td> 87.00</td><td>30.50</td><td>35.00</td><td>12.30</td></tr>\n",
       "\t<tr><td>15.46</td><td>43.72</td><td> 91.73</td><td>32.44</td><td>35.37</td><td>13.06</td></tr>\n",
       "\t<tr><td>13.22</td><td>38.81</td><td> 92.26</td><td>31.42</td><td>34.06</td><td>12.76</td></tr>\n",
       "\t<tr><td>13.86</td><td>39.45</td><td> 84.86</td><td>29.81</td><td>35.13</td><td>13.79</td></tr>\n",
       "\t<tr><td>15.31</td><td>44.77</td><td> 93.58</td><td>31.99</td><td>34.19</td><td>14.59</td></tr>\n",
       "\t<tr><td>12.90</td><td>36.90</td><td> 96.80</td><td>33.70</td><td>34.80</td><td>13.10</td></tr>\n",
       "\t<tr><td>15.20</td><td>43.40</td><td>101.20</td><td>35.50</td><td>35.10</td><td>13.00</td></tr>\n",
       "\t<tr><td>13.20</td><td>37.51</td><td> 90.86</td><td>31.98</td><td>35.20</td><td>13.96</td></tr>\n",
       "\t<tr><td>13.93</td><td>42.56</td><td> 87.93</td><td>28.79</td><td>32.74</td><td>14.83</td></tr>\n",
       "\t<tr><td>14.10</td><td>40.20</td><td> 92.40</td><td>32.50</td><td>35.20</td><td>12.60</td></tr>\n",
       "\t<tr><td>14.90</td><td>42.60</td><td> 93.80</td><td>32.80</td><td>35.00</td><td>13.20</td></tr>\n",
       "\t<tr><td>13.47</td><td>39.09</td><td> 95.14</td><td>32.78</td><td>34.46</td><td>12.83</td></tr>\n",
       "\t<tr><td>13.26</td><td>40.12</td><td> 92.09</td><td>30.43</td><td>33.04</td><td>13.10</td></tr>\n",
       "</tbody>\n",
       "</table>\n"
      ],
      "text/latex": [
       "A data.table: 20 × 6\n",
       "\\begin{tabular}{r|llllll}\n",
       " 30020-0.0 & 30030-0.0 & 30040-0.0 & 30050-0.0 & 30060-0.0 & 30070-0.0\\\\\n",
       " <dbl> & <dbl> & <dbl> & <dbl> & <dbl> & <dbl>\\\\\n",
       "\\hline\n",
       "\t 12.31 & 36.10 &  88.66 & 30.24 & 34.11 & 13.77\\\\\n",
       "\t 14.30 & 41.90 &  91.00 & 31.10 & 34.20 & 13.00\\\\\n",
       "\t 14.82 & 43.09 &  94.87 & 32.63 & 34.39 & 13.58\\\\\n",
       "\t 13.64 & 40.23 &  92.76 & 31.46 & 33.91 & 12.56\\\\\n",
       "\t 16.30 & 46.20 &  86.30 & 30.50 & 35.30 & 12.50\\\\\n",
       "\t 14.10 & 40.30 &  94.80 & 33.10 & 34.90 & 12.30\\\\\n",
       "\t 14.89 & 43.23 &  92.12 & 31.73 & 34.44 & 13.26\\\\\n",
       "\t 14.70 & 41.90 &  87.00 & 30.50 & 35.00 & 12.30\\\\\n",
       "\t 15.46 & 43.72 &  91.73 & 32.44 & 35.37 & 13.06\\\\\n",
       "\t 13.22 & 38.81 &  92.26 & 31.42 & 34.06 & 12.76\\\\\n",
       "\t 13.86 & 39.45 &  84.86 & 29.81 & 35.13 & 13.79\\\\\n",
       "\t 15.31 & 44.77 &  93.58 & 31.99 & 34.19 & 14.59\\\\\n",
       "\t 12.90 & 36.90 &  96.80 & 33.70 & 34.80 & 13.10\\\\\n",
       "\t 15.20 & 43.40 & 101.20 & 35.50 & 35.10 & 13.00\\\\\n",
       "\t 13.20 & 37.51 &  90.86 & 31.98 & 35.20 & 13.96\\\\\n",
       "\t 13.93 & 42.56 &  87.93 & 28.79 & 32.74 & 14.83\\\\\n",
       "\t 14.10 & 40.20 &  92.40 & 32.50 & 35.20 & 12.60\\\\\n",
       "\t 14.90 & 42.60 &  93.80 & 32.80 & 35.00 & 13.20\\\\\n",
       "\t 13.47 & 39.09 &  95.14 & 32.78 & 34.46 & 12.83\\\\\n",
       "\t 13.26 & 40.12 &  92.09 & 30.43 & 33.04 & 13.10\\\\\n",
       "\\end{tabular}\n"
      ],
      "text/markdown": [
       "\n",
       "A data.table: 20 × 6\n",
       "\n",
       "| 30020-0.0 &lt;dbl&gt; | 30030-0.0 &lt;dbl&gt; | 30040-0.0 &lt;dbl&gt; | 30050-0.0 &lt;dbl&gt; | 30060-0.0 &lt;dbl&gt; | 30070-0.0 &lt;dbl&gt; |\n",
       "|---|---|---|---|---|---|\n",
       "| 12.31 | 36.10 |  88.66 | 30.24 | 34.11 | 13.77 |\n",
       "| 14.30 | 41.90 |  91.00 | 31.10 | 34.20 | 13.00 |\n",
       "| 14.82 | 43.09 |  94.87 | 32.63 | 34.39 | 13.58 |\n",
       "| 13.64 | 40.23 |  92.76 | 31.46 | 33.91 | 12.56 |\n",
       "| 16.30 | 46.20 |  86.30 | 30.50 | 35.30 | 12.50 |\n",
       "| 14.10 | 40.30 |  94.80 | 33.10 | 34.90 | 12.30 |\n",
       "| 14.89 | 43.23 |  92.12 | 31.73 | 34.44 | 13.26 |\n",
       "| 14.70 | 41.90 |  87.00 | 30.50 | 35.00 | 12.30 |\n",
       "| 15.46 | 43.72 |  91.73 | 32.44 | 35.37 | 13.06 |\n",
       "| 13.22 | 38.81 |  92.26 | 31.42 | 34.06 | 12.76 |\n",
       "| 13.86 | 39.45 |  84.86 | 29.81 | 35.13 | 13.79 |\n",
       "| 15.31 | 44.77 |  93.58 | 31.99 | 34.19 | 14.59 |\n",
       "| 12.90 | 36.90 |  96.80 | 33.70 | 34.80 | 13.10 |\n",
       "| 15.20 | 43.40 | 101.20 | 35.50 | 35.10 | 13.00 |\n",
       "| 13.20 | 37.51 |  90.86 | 31.98 | 35.20 | 13.96 |\n",
       "| 13.93 | 42.56 |  87.93 | 28.79 | 32.74 | 14.83 |\n",
       "| 14.10 | 40.20 |  92.40 | 32.50 | 35.20 | 12.60 |\n",
       "| 14.90 | 42.60 |  93.80 | 32.80 | 35.00 | 13.20 |\n",
       "| 13.47 | 39.09 |  95.14 | 32.78 | 34.46 | 12.83 |\n",
       "| 13.26 | 40.12 |  92.09 | 30.43 | 33.04 | 13.10 |\n",
       "\n"
      ],
      "text/plain": [
       "   30020-0.0 30030-0.0 30040-0.0 30050-0.0 30060-0.0 30070-0.0\n",
       "1  12.31     36.10      88.66    30.24     34.11     13.77    \n",
       "2  14.30     41.90      91.00    31.10     34.20     13.00    \n",
       "3  14.82     43.09      94.87    32.63     34.39     13.58    \n",
       "4  13.64     40.23      92.76    31.46     33.91     12.56    \n",
       "5  16.30     46.20      86.30    30.50     35.30     12.50    \n",
       "6  14.10     40.30      94.80    33.10     34.90     12.30    \n",
       "7  14.89     43.23      92.12    31.73     34.44     13.26    \n",
       "8  14.70     41.90      87.00    30.50     35.00     12.30    \n",
       "9  15.46     43.72      91.73    32.44     35.37     13.06    \n",
       "10 13.22     38.81      92.26    31.42     34.06     12.76    \n",
       "11 13.86     39.45      84.86    29.81     35.13     13.79    \n",
       "12 15.31     44.77      93.58    31.99     34.19     14.59    \n",
       "13 12.90     36.90      96.80    33.70     34.80     13.10    \n",
       "14 15.20     43.40     101.20    35.50     35.10     13.00    \n",
       "15 13.20     37.51      90.86    31.98     35.20     13.96    \n",
       "16 13.93     42.56      87.93    28.79     32.74     14.83    \n",
       "17 14.10     40.20      92.40    32.50     35.20     12.60    \n",
       "18 14.90     42.60      93.80    32.80     35.00     13.20    \n",
       "19 13.47     39.09      95.14    32.78     34.46     12.83    \n",
       "20 13.26     40.12      92.09    30.43     33.04     13.10    "
      ]
     },
     "metadata": {},
     "output_type": "display_data"
    }
   ],
   "source": [
    "new_data[1:20,c(127:132)]"
   ]
  },
  {
   "cell_type": "code",
   "execution_count": 13,
   "metadata": {},
   "outputs": [],
   "source": [
    "new_new= new_data[,-c(127:132)]"
   ]
  },
  {
   "cell_type": "code",
   "execution_count": 14,
   "metadata": {},
   "outputs": [],
   "source": [
    "new_new_scale= scale_data[,-c(127:132)]"
   ]
  },
  {
   "cell_type": "code",
   "execution_count": 15,
   "metadata": {},
   "outputs": [
    {
     "data": {
      "text/html": [
       "<ol class=list-inline>\n",
       "\t<li>478174</li>\n",
       "\t<li>159</li>\n",
       "</ol>\n"
      ],
      "text/latex": [
       "\\begin{enumerate*}\n",
       "\\item 478174\n",
       "\\item 159\n",
       "\\end{enumerate*}\n"
      ],
      "text/markdown": [
       "1. 478174\n",
       "2. 159\n",
       "\n",
       "\n"
      ],
      "text/plain": [
       "[1] 478174    159"
      ]
     },
     "metadata": {},
     "output_type": "display_data"
    }
   ],
   "source": [
    "dim(new_new)"
   ]
  },
  {
   "cell_type": "code",
   "execution_count": 16,
   "metadata": {},
   "outputs": [
    {
     "data": {
      "text/html": [
       "<ol class=list-inline>\n",
       "\t<li>478174</li>\n",
       "\t<li>159</li>\n",
       "</ol>\n"
      ],
      "text/latex": [
       "\\begin{enumerate*}\n",
       "\\item 478174\n",
       "\\item 159\n",
       "\\end{enumerate*}\n"
      ],
      "text/markdown": [
       "1. 478174\n",
       "2. 159\n",
       "\n",
       "\n"
      ],
      "text/plain": [
       "[1] 478174    159"
      ]
     },
     "metadata": {},
     "output_type": "display_data"
    }
   ],
   "source": [
    "dim(new_new_scale)"
   ]
  },
  {
   "cell_type": "code",
   "execution_count": 17,
   "metadata": {},
   "outputs": [],
   "source": [
    "fwrite(new_new,\"num_slim_data6.csv\")"
   ]
  },
  {
   "cell_type": "code",
   "execution_count": 18,
   "metadata": {},
   "outputs": [],
   "source": [
    "fwrite(new_new_scale,\"num_slim_data_scale6.csv\")"
   ]
  },
  {
   "cell_type": "code",
   "execution_count": null,
   "metadata": {},
   "outputs": [],
   "source": []
  }
 ],
 "metadata": {
  "kernelspec": {
   "display_name": "R 3.6.0",
   "language": "R",
   "name": "ir360"
  },
  "language_info": {
   "codemirror_mode": "r",
   "file_extension": ".r",
   "mimetype": "text/x-r-source",
   "name": "R",
   "pygments_lexer": "r",
   "version": "3.6.0"
  }
 },
 "nbformat": 4,
 "nbformat_minor": 2
}
