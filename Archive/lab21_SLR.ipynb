{
 "cells": [
  {
   "cell_type": "code",
   "execution_count": 1,
   "metadata": {},
   "outputs": [
    {
     "name": "stderr",
     "output_type": "stream",
     "text": [
      "Warning message:\n",
      "“package ‘rvest’ was built under R version 3.6.1”Loading required package: xml2\n",
      "Warning message:\n",
      "“package ‘xml2’ was built under R version 3.6.1”\n",
      "Attaching package: ‘zoo’\n",
      "\n",
      "The following objects are masked from ‘package:base’:\n",
      "\n",
      "    as.Date, as.Date.numeric\n",
      "\n",
      "\n",
      "Attaching package: ‘dplyr’\n",
      "\n",
      "The following objects are masked from ‘package:data.table’:\n",
      "\n",
      "    between, first, last\n",
      "\n",
      "The following objects are masked from ‘package:stats’:\n",
      "\n",
      "    filter, lag\n",
      "\n",
      "The following objects are masked from ‘package:base’:\n",
      "\n",
      "    intersect, setdiff, setequal, union\n",
      "\n",
      "── \u001b[1mAttaching packages\u001b[22m ─────────────────────────────────────── tidyverse 1.3.0 ──\n",
      "\u001b[32m✔\u001b[39m \u001b[34mggplot2\u001b[39m 3.2.1     \u001b[32m✔\u001b[39m \u001b[34mpurrr  \u001b[39m 0.3.3\n",
      "\u001b[32m✔\u001b[39m \u001b[34mtibble \u001b[39m 2.1.3     \u001b[32m✔\u001b[39m \u001b[34mstringr\u001b[39m 1.4.0\n",
      "\u001b[32m✔\u001b[39m \u001b[34mtidyr  \u001b[39m 1.0.0     \u001b[32m✔\u001b[39m \u001b[34mforcats\u001b[39m 0.4.0\n",
      "\u001b[32m✔\u001b[39m \u001b[34mreadr  \u001b[39m 1.3.1     \n",
      "Warning message:\n",
      "“package ‘tibble’ was built under R version 3.6.1”Warning message:\n",
      "“package ‘stringr’ was built under R version 3.6.1”── \u001b[1mConflicts\u001b[22m ────────────────────────────────────────── tidyverse_conflicts() ──\n",
      "\u001b[31m✖\u001b[39m \u001b[34mdplyr\u001b[39m::\u001b[32mbetween()\u001b[39m        masks \u001b[34mdata.table\u001b[39m::between()\n",
      "\u001b[31m✖\u001b[39m \u001b[34mdplyr\u001b[39m::\u001b[32mfilter()\u001b[39m         masks \u001b[34mstats\u001b[39m::filter()\n",
      "\u001b[31m✖\u001b[39m \u001b[34mdplyr\u001b[39m::\u001b[32mfirst()\u001b[39m          masks \u001b[34mdata.table\u001b[39m::first()\n",
      "\u001b[31m✖\u001b[39m \u001b[34mreadr\u001b[39m::\u001b[32mguess_encoding()\u001b[39m masks \u001b[34mrvest\u001b[39m::guess_encoding()\n",
      "\u001b[31m✖\u001b[39m \u001b[34mdplyr\u001b[39m::\u001b[32mlag()\u001b[39m            masks \u001b[34mstats\u001b[39m::lag()\n",
      "\u001b[31m✖\u001b[39m \u001b[34mdplyr\u001b[39m::\u001b[32mlast()\u001b[39m           masks \u001b[34mdata.table\u001b[39m::last()\n",
      "\u001b[31m✖\u001b[39m \u001b[34mpurrr\u001b[39m::\u001b[32mpluck()\u001b[39m          masks \u001b[34mrvest\u001b[39m::pluck()\n",
      "\u001b[31m✖\u001b[39m \u001b[34mpurrr\u001b[39m::\u001b[32mtranspose()\u001b[39m      masks \u001b[34mdata.table\u001b[39m::transpose()\n",
      "Loading required package: lattice\n",
      "\n",
      "Attaching package: ‘caret’\n",
      "\n",
      "The following object is masked from ‘package:purrr’:\n",
      "\n",
      "    lift\n",
      "\n",
      "Note: Many functions of the 'psycho' package have been (improved and) moved to other packages of the new 'easystats' collection (https://github.com/easystats). If you don't find where a function is gone, please open an issue at: https://github.com/easystats/easystats/issues\n",
      "\n",
      "Attaching package: ‘standardize’\n",
      "\n",
      "The following object is masked from ‘package:psycho’:\n",
      "\n",
      "    is.standardized\n",
      "\n",
      "Loading required package: Matrix\n",
      "\n",
      "Attaching package: ‘Matrix’\n",
      "\n",
      "The following objects are masked from ‘package:tidyr’:\n",
      "\n",
      "    expand, pack, unpack\n",
      "\n",
      "Loaded glmnet 3.0-2\n",
      "\n",
      "Loading required package: foreach\n",
      "\n",
      "Attaching package: ‘foreach’\n",
      "\n",
      "The following objects are masked from ‘package:purrr’:\n",
      "\n",
      "    accumulate, when\n",
      "\n",
      "Loading required package: iterators\n",
      "Loading required package: parallel\n",
      "Type 'citation(\"pROC\")' for a citation.\n",
      "\n",
      "Attaching package: ‘pROC’\n",
      "\n",
      "The following objects are masked from ‘package:stats’:\n",
      "\n",
      "    cov, smooth, var\n",
      "\n"
     ]
    },
    {
     "data": {
      "text/html": [
       "<table>\n",
       "<caption>A matrix: 2 × 6 of type dbl</caption>\n",
       "<thead>\n",
       "\t<tr><th></th><th scope=col>used</th><th scope=col>(Mb)</th><th scope=col>gc trigger</th><th scope=col>(Mb)</th><th scope=col>max used</th><th scope=col>(Mb)</th></tr>\n",
       "</thead>\n",
       "<tbody>\n",
       "\t<tr><th scope=row>Ncells</th><td>2210423</td><td>118.1</td><td>3691217</td><td>197.2</td><td>3691217</td><td>197.2</td></tr>\n",
       "\t<tr><th scope=row>Vcells</th><td>3673540</td><td> 28.1</td><td>8388608</td><td> 64.0</td><td>5915600</td><td> 45.2</td></tr>\n",
       "</tbody>\n",
       "</table>\n"
      ],
      "text/latex": [
       "A matrix: 2 × 6 of type dbl\n",
       "\\begin{tabular}{r|llllll}\n",
       "  & used & (Mb) & gc trigger & (Mb) & max used & (Mb)\\\\\n",
       "\\hline\n",
       "\tNcells & 2210423 & 118.1 & 3691217 & 197.2 & 3691217 & 197.2\\\\\n",
       "\tVcells & 3673540 &  28.1 & 8388608 &  64.0 & 5915600 &  45.2\\\\\n",
       "\\end{tabular}\n"
      ],
      "text/markdown": [
       "\n",
       "A matrix: 2 × 6 of type dbl\n",
       "\n",
       "| <!--/--> | used | (Mb) | gc trigger | (Mb) | max used | (Mb) |\n",
       "|---|---|---|---|---|---|---|\n",
       "| Ncells | 2210423 | 118.1 | 3691217 | 197.2 | 3691217 | 197.2 |\n",
       "| Vcells | 3673540 |  28.1 | 8388608 |  64.0 | 5915600 |  45.2 |\n",
       "\n"
      ],
      "text/plain": [
       "       used    (Mb)  gc trigger (Mb)  max used (Mb) \n",
       "Ncells 2210423 118.1 3691217    197.2 3691217  197.2\n",
       "Vcells 3673540  28.1 8388608     64.0 5915600   45.2"
      ]
     },
     "metadata": {},
     "output_type": "display_data"
    }
   ],
   "source": [
    "# YOU MUST USE 3.6.0 AND ABOVE FOR RUNNING GLMNET\n",
    "#install.packages(\"psycho\")\n",
    "#install.packages(\"zoo\")\n",
    "#install.packages(\"scales\")\n",
    "#install.packages(\"rlang\")\n",
    "#install.packages(\"tidyverse\")\n",
    "\n",
    "#install.packages('lm.beta')\n",
    "#install.packages(\"standardize\")\n",
    "library(data.table)\n",
    "library(\"rvest\")\n",
    "\n",
    "library(\"zoo\")\n",
    "library(\"dplyr\")\n",
    "\n",
    "library(tidyverse)\n",
    "library(caret)\n",
    "library(\"lm.beta\")\n",
    "library(\"psycho\")\n",
    "\n",
    "library(\"standardize\")\n",
    "library(\"glmnet\")\n",
    "#install.packages(\"doParallel\")\n",
    "library(\"doParallel\")\n",
    "#install.packages(\"foreach\")\n",
    "#install.packages(\"pROC\")\n",
    "library(\"foreach\")\n",
    "library(\"pROC\")\n",
    "\n",
    "        \n",
    "        \n",
    "        rm(list=ls())\n",
    "gc()"
   ]
  },
  {
   "cell_type": "code",
   "execution_count": 2,
   "metadata": {},
   "outputs": [
    {
     "data": {
      "text/plain": [
       "Time difference of 7.289043 secs"
      ]
     },
     "metadata": {},
     "output_type": "display_data"
    },
    {
     "data": {
      "text/html": [
       "<ol class=list-inline>\n",
       "\t<li>478174</li>\n",
       "\t<li>159</li>\n",
       "</ol>\n"
      ],
      "text/latex": [
       "\\begin{enumerate*}\n",
       "\\item 478174\n",
       "\\item 159\n",
       "\\end{enumerate*}\n"
      ],
      "text/markdown": [
       "1. 478174\n",
       "2. 159\n",
       "\n",
       "\n"
      ],
      "text/plain": [
       "[1] 478174    159"
      ]
     },
     "metadata": {},
     "output_type": "display_data"
    },
    {
     "data": {
      "text/plain": [
       "Time difference of 13.95765 secs"
      ]
     },
     "metadata": {},
     "output_type": "display_data"
    },
    {
     "data": {
      "text/html": [
       "<ol class=list-inline>\n",
       "\t<li>478174</li>\n",
       "\t<li>159</li>\n",
       "</ol>\n"
      ],
      "text/latex": [
       "\\begin{enumerate*}\n",
       "\\item 478174\n",
       "\\item 159\n",
       "\\end{enumerate*}\n"
      ],
      "text/markdown": [
       "1. 478174\n",
       "2. 159\n",
       "\n",
       "\n"
      ],
      "text/plain": [
       "[1] 478174    159"
      ]
     },
     "metadata": {},
     "output_type": "display_data"
    }
   ],
   "source": [
    "start_time <- Sys.time()\n",
    "new_data=fread(\"num_slim_data6.csv\")\n",
    "\n",
    "end_time <- Sys.time()\n",
    "\n",
    "end_time - start_time\n",
    "dim(new_data)\n",
    "start_time <- Sys.time()\n",
    "scale_data=fread(\"num_slim_data_scale6.csv\")\n",
    "\n",
    "end_time <- Sys.time()\n",
    "\n",
    "end_time - start_time\n",
    "dim(scale_data)"
   ]
  },
  {
   "cell_type": "code",
   "execution_count": 3,
   "metadata": {},
   "outputs": [
    {
     "data": {
      "text/html": [
       "159"
      ],
      "text/latex": [
       "159"
      ],
      "text/markdown": [
       "159"
      ],
      "text/plain": [
       "[1] 159"
      ]
     },
     "metadata": {},
     "output_type": "display_data"
    },
    {
     "data": {
      "text/html": [
       "159"
      ],
      "text/latex": [
       "159"
      ],
      "text/markdown": [
       "159"
      ],
      "text/plain": [
       "[1] 159"
      ]
     },
     "metadata": {},
     "output_type": "display_data"
    }
   ],
   "source": [
    "grep(\"count\",colnames(new_data))\n",
    "grep(\"count\",colnames(scale_data))"
   ]
  },
  {
   "cell_type": "code",
   "execution_count": 4,
   "metadata": {},
   "outputs": [
    {
     "name": "stderr",
     "output_type": "stream",
     "text": [
      "Warning message in summary.lm(model[[i]]):\n",
      "“essentially perfect fit: summary may be unreliable”"
     ]
    }
   ],
   "source": [
    "coeff=NULL\n",
    "sum=NULL\n",
    "model=NULL\n",
    "r=NULL\n",
    "beta=NULL\n",
    "for (i in 1:159){\n",
    "   \n",
    "   model[[i]] <- lm(data=scale_data,formula = count ~ scale_data[[i]] )\n",
    "   coeff[[i]]=model$coefficients\n",
    "   sum[[i]]=summary(model[[i]])\n",
    "    r[[i]]=sum[[i]]$adj.r.squared\n",
    "    beta[[i]]=lm.beta(model[[i]])\n",
    "}\n",
    "\n",
    "\n",
    "\n",
    "\n",
    "\n"
   ]
  },
  {
   "cell_type": "code",
   "execution_count": 5,
   "metadata": {},
   "outputs": [],
   "source": [
    "new_beta=NULL\n",
    "for (i in 1:159){\n",
    "    new_beta[i]=abs(beta[[i]]$`standardized.coefficients`[2])\n",
    "}"
   ]
  },
  {
   "cell_type": "code",
   "execution_count": 6,
   "metadata": {},
   "outputs": [
    {
     "name": "stdout",
     "output_type": "stream",
     "text": [
      "  [1] \"eid\"        \"34-0.0\"     \"46-0.0\"     \"47-0.0\"     \"48-0.0\"    \n",
      "  [6] \"49-0.0\"     \"50-0.0\"     \"51-0.0\"     \"92-0.0\"     \"96-0.0\"    \n",
      " [11] \"102-0.0\"    \"129-0.0\"    \"130-0.0\"    \"135-0.0\"    \"137-0.0\"   \n",
      " [16] \"189-0.0\"    \"699-0.0\"    \"709-0.0\"    \"874-0.0\"    \"894-0.0\"   \n",
      " [21] \"1269-0.0\"   \"1279-0.0\"   \"1289-0.0\"   \"1299-0.0\"   \"1309-0.0\"  \n",
      " [26] \"1319-0.0\"   \"1438-0.0\"   \"1458-0.0\"   \"1488-0.0\"   \"1528-0.0\"  \n",
      " [31] \"1737-0.0\"   \"1807-0.0\"   \"2139-0.0\"   \"2149-0.0\"   \"2217-0.0\"  \n",
      " [36] \"2277-0.0\"   \"3061-0.0\"   \"3062-0.0\"   \"3063-0.0\"   \"3064-0.0\"  \n",
      " [41] \"4079-0.0\"   \"4080-0.0\"   \"20010-0.0\"  \"20011-0.0\"  \"20015-0.0\" \n",
      " [46] \"20074-0.0\"  \"20075-0.0\"  \"20256-0.0\"  \"20257-0.0\"  \"20258-0.0\" \n",
      " [51] \"21001-0.0\"  \"21002-0.0\"  \"21003-0.0\"  \"21022-0.0\"  \"22034-0.0\" \n",
      " [56] \"22037-0.0\"  \"22038-0.0\"  \"22039-0.0\"  \"22702-0.0\"  \"22704-0.0\" \n",
      " [61] \"23098-0.0\"  \"23099-0.0\"  \"23100-0.0\"  \"23101-0.0\"  \"23102-0.0\" \n",
      " [66] \"23106-0.0\"  \"23107-0.0\"  \"23108-0.0\"  \"23109-0.0\"  \"23110-0.0\" \n",
      " [71] \"23111-0.0\"  \"23112-0.0\"  \"23113-0.0\"  \"23114-0.0\"  \"23115-0.0\" \n",
      " [76] \"23116-0.0\"  \"23117-0.0\"  \"23118-0.0\"  \"23119-0.0\"  \"23120-0.0\" \n",
      " [81] \"23121-0.0\"  \"23122-0.0\"  \"23123-0.0\"  \"23124-0.0\"  \"23125-0.0\" \n",
      " [86] \"23126-0.0\"  \"23127-0.0\"  \"23128-0.0\"  \"23129-0.0\"  \"23130-0.0\" \n",
      " [91] \"24003-0.0\"  \"24004-0.0\"  \"24005-0.0\"  \"24006-0.0\"  \"24007-0.0\" \n",
      " [96] \"24008-0.0\"  \"24009-0.0\"  \"24010-0.0\"  \"24011-0.0\"  \"24012-0.0\" \n",
      "[101] \"24013-0.0\"  \"24015-0.0\"  \"24016-0.0\"  \"24017-0.0\"  \"24018-0.0\" \n",
      "[106] \"24019-0.0\"  \"24020-0.0\"  \"24021-0.0\"  \"24022-0.0\"  \"24500-0.0\" \n",
      "[111] \"24501-0.0\"  \"24502-0.0\"  \"24503-0.0\"  \"24504-0.0\"  \"24505-0.0\" \n",
      "[116] \"24506-0.0\"  \"24507-0.0\"  \"24508-0.0\"  \"26410-0.0\"  \"26411-0.0\" \n",
      "[121] \"26412-0.0\"  \"26413-0.0\"  \"26414-0.0\"  \"26415-0.0\"  \"26416-0.0\" \n",
      "[126] \"26417-0.0\"  \"22009-0.1\"  \"22009-0.10\" \"22009-0.11\" \"22009-0.12\"\n",
      "[131] \"22009-0.13\" \"22009-0.14\" \"22009-0.15\" \"22009-0.16\" \"22009-0.17\"\n",
      "[136] \"22009-0.18\" \"22009-0.19\" \"22009-0.20\" \"22009-0.21\" \"22009-0.22\"\n",
      "[141] \"22009-0.23\" \"22009-0.24\" \"22009-0.25\" \"22009-0.26\" \"22009-0.27\"\n",
      "[146] \"22009-0.28\" \"22009-0.29\" \"22009-0.30\" \"22009-0.31\" \"22009-0.32\"\n",
      "[151] \"22009-0.33\" \"22009-0.34\" \"22009-0.35\" \"22009-0.36\" \"22009-0.37\"\n",
      "[156] \"22009-0.38\" \"22009-0.39\" \"22009-0.40\" \"count\"     \n"
     ]
    }
   ],
   "source": [
    "print(names(scale_data))"
   ]
  },
  {
   "cell_type": "code",
   "execution_count": 7,
   "metadata": {},
   "outputs": [
    {
     "data": {
      "text/html": [
       "<ol class=list-inline>\n",
       "\t<li>'beta'</li>\n",
       "\t<li>'coeff'</li>\n",
       "\t<li>'end_time'</li>\n",
       "\t<li>'i'</li>\n",
       "\t<li>'model'</li>\n",
       "\t<li>'new_beta'</li>\n",
       "\t<li>'new_data'</li>\n",
       "\t<li>'r'</li>\n",
       "\t<li>'scale_data'</li>\n",
       "\t<li>'start_time'</li>\n",
       "\t<li>'sum'</li>\n",
       "</ol>\n"
      ],
      "text/latex": [
       "\\begin{enumerate*}\n",
       "\\item 'beta'\n",
       "\\item 'coeff'\n",
       "\\item 'end\\_time'\n",
       "\\item 'i'\n",
       "\\item 'model'\n",
       "\\item 'new\\_beta'\n",
       "\\item 'new\\_data'\n",
       "\\item 'r'\n",
       "\\item 'scale\\_data'\n",
       "\\item 'start\\_time'\n",
       "\\item 'sum'\n",
       "\\end{enumerate*}\n"
      ],
      "text/markdown": [
       "1. 'beta'\n",
       "2. 'coeff'\n",
       "3. 'end_time'\n",
       "4. 'i'\n",
       "5. 'model'\n",
       "6. 'new_beta'\n",
       "7. 'new_data'\n",
       "8. 'r'\n",
       "9. 'scale_data'\n",
       "10. 'start_time'\n",
       "11. 'sum'\n",
       "\n",
       "\n"
      ],
      "text/plain": [
       " [1] \"beta\"       \"coeff\"      \"end_time\"   \"i\"          \"model\"     \n",
       " [6] \"new_beta\"   \"new_data\"   \"r\"          \"scale_data\" \"start_time\"\n",
       "[11] \"sum\"       "
      ]
     },
     "metadata": {},
     "output_type": "display_data"
    }
   ],
   "source": [
    "ls()"
   ]
  },
  {
   "cell_type": "code",
   "execution_count": 8,
   "metadata": {},
   "outputs": [
    {
     "name": "stdout",
     "output_type": "stream",
     "text": [
      "  [1]  6.743052e-06  5.192070e-04  8.421712e-04  7.720492e-04  2.485185e-02\n",
      "  [6]  1.059631e-02  2.958415e-03  2.240903e-03  2.034482e-05  5.614178e-04\n",
      " [11]  2.646213e-02  1.321866e-05  7.107046e-05  1.196530e-02  1.554169e-02\n",
      " [16]  4.090645e-03  1.495854e-04  1.121317e-03  1.037733e-05 -2.076157e-06\n",
      " [21]  1.972473e-04  1.525301e-04  2.759476e-04  6.277053e-04  1.817718e-03\n",
      " [26]  2.904750e-04  6.424843e-04  2.029381e-03  2.771782e-04  1.528432e-04\n",
      " [31]  9.354626e-05  8.163664e-04  1.002846e-03  2.101888e-05  5.809174e-05\n",
      " [36]  1.718920e-06  4.708644e-06  5.545848e-03  8.072290e-03  3.314762e-03\n",
      " [41]  2.606167e-03  3.710246e-03  4.853718e-06  1.228895e-04  1.528293e-03\n",
      " [46]  4.086969e-05  2.047144e-06  9.924746e-03  7.517161e-03  2.117073e-03\n",
      " [51]  2.380052e-02  1.011906e-02  7.316048e-04  7.314976e-04  8.699131e-04\n",
      " [56]  1.533810e-04  2.498545e-04  1.297387e-03  4.724463e-05  1.847291e-06\n",
      " [61]  9.838431e-03  1.115686e-02  1.840749e-02  5.683027e-04  5.862731e-04\n",
      " [66]  2.197151e-03  2.318587e-03  2.465454e-03  1.410908e-03  1.711192e-03\n",
      " [71]  4.892441e-03  1.266421e-02  1.231353e-03  1.216468e-03  4.311726e-03\n",
      " [76]  1.214924e-02  1.742740e-03  1.710592e-03  1.114778e-02  1.804599e-02\n",
      " [81]  6.540340e-04  6.416937e-04  1.096932e-02  1.767267e-02  9.358625e-04\n",
      " [86]  9.271135e-04  1.479506e-02  1.842018e-02  1.547096e-04  1.530507e-04\n",
      " [91]  2.459997e-04  2.849220e-04  2.478909e-04  4.343536e-04  6.855338e-05\n",
      " [96]  5.254972e-05  1.878308e-06  3.354702e-06  1.250886e-04 -1.941821e-06\n",
      "[101] -9.283905e-07  3.213873e-06  1.254779e-04  1.451281e-04  9.847971e-05\n",
      "[106]  1.545681e-04 -1.744890e-06 -1.742160e-06 -1.745138e-06  2.368137e-04\n",
      "[111]  3.952020e-05  1.363677e-05  2.872423e-04  9.950017e-06  6.703577e-07\n",
      "[116]  3.158088e-04  3.635237e-04 -1.879992e-06  4.823216e-03  4.821992e-03\n",
      "[121]  5.147972e-03  3.446317e-03  6.664418e-03  3.734429e-04  1.295178e-03\n",
      "[126]  5.007434e-04  3.619017e-03 -1.620699e-06  8.947727e-05  1.617690e-04\n",
      "[131]  3.493850e-07  8.436153e-05 -1.493388e-06  3.639638e-05  1.201056e-06\n",
      "[136]  1.884857e-05 -2.057424e-06  2.660484e-05  6.788279e-06 -8.545728e-07\n",
      "[141]  3.238434e-06 -6.957546e-07  5.153708e-05  2.393337e-05  6.580718e-06\n",
      "[146]  4.187220e-06  3.747220e-05  3.485913e-08 -1.543253e-06  1.661930e-05\n",
      "[151]  6.531001e-08 -1.771204e-06  4.913688e-06  1.039101e-05 -1.926865e-06\n",
      "[156]  1.712590e-05  1.072771e-05 -3.624955e-07  1.000000e+00\n"
     ]
    }
   ],
   "source": [
    "print(r)"
   ]
  },
  {
   "cell_type": "code",
   "execution_count": 9,
   "metadata": {
    "scrolled": true
   },
   "outputs": [],
   "source": [
    "r_square=(cbind(as.character(names(scale_data)),r))\n",
    "colnames(r_square)=c(\"variable\",\"adj-r\")\n"
   ]
  },
  {
   "cell_type": "code",
   "execution_count": 10,
   "metadata": {},
   "outputs": [
    {
     "data": {
      "text/html": [
       "<ol class=list-inline>\n",
       "\t<li>159</li>\n",
       "\t<li>2</li>\n",
       "</ol>\n"
      ],
      "text/latex": [
       "\\begin{enumerate*}\n",
       "\\item 159\n",
       "\\item 2\n",
       "\\end{enumerate*}\n"
      ],
      "text/markdown": [
       "1. 159\n",
       "2. 2\n",
       "\n",
       "\n"
      ],
      "text/plain": [
       "[1] 159   2"
      ]
     },
     "metadata": {},
     "output_type": "display_data"
    }
   ],
   "source": [
    "r_square=as.data.frame(r_square,stringsAsFactors = F)\n",
    "dim(r_square)\n"
   ]
  },
  {
   "cell_type": "code",
   "execution_count": null,
   "metadata": {},
   "outputs": [],
   "source": []
  },
  {
   "cell_type": "code",
   "execution_count": 11,
   "metadata": {},
   "outputs": [
    {
     "data": {
      "text/html": [
       "<table>\n",
       "<caption>A data.frame: 6 × 2</caption>\n",
       "<thead>\n",
       "\t<tr><th scope=col>variable</th><th scope=col>adj-r</th></tr>\n",
       "\t<tr><th scope=col>&lt;chr&gt;</th><th scope=col>&lt;dbl&gt;</th></tr>\n",
       "</thead>\n",
       "<tbody>\n",
       "\t<tr><td>eid   </td><td>6.743052e-06</td></tr>\n",
       "\t<tr><td>34-0.0</td><td>5.192070e-04</td></tr>\n",
       "\t<tr><td>46-0.0</td><td>8.421712e-04</td></tr>\n",
       "\t<tr><td>47-0.0</td><td>7.720492e-04</td></tr>\n",
       "\t<tr><td>48-0.0</td><td>2.485185e-02</td></tr>\n",
       "\t<tr><td>49-0.0</td><td>1.059631e-02</td></tr>\n",
       "</tbody>\n",
       "</table>\n"
      ],
      "text/latex": [
       "A data.frame: 6 × 2\n",
       "\\begin{tabular}{r|ll}\n",
       " variable & adj-r\\\\\n",
       " <chr> & <dbl>\\\\\n",
       "\\hline\n",
       "\t eid    & 6.743052e-06\\\\\n",
       "\t 34-0.0 & 5.192070e-04\\\\\n",
       "\t 46-0.0 & 8.421712e-04\\\\\n",
       "\t 47-0.0 & 7.720492e-04\\\\\n",
       "\t 48-0.0 & 2.485185e-02\\\\\n",
       "\t 49-0.0 & 1.059631e-02\\\\\n",
       "\\end{tabular}\n"
      ],
      "text/markdown": [
       "\n",
       "A data.frame: 6 × 2\n",
       "\n",
       "| variable &lt;chr&gt; | adj-r &lt;dbl&gt; |\n",
       "|---|---|\n",
       "| eid    | 6.743052e-06 |\n",
       "| 34-0.0 | 5.192070e-04 |\n",
       "| 46-0.0 | 8.421712e-04 |\n",
       "| 47-0.0 | 7.720492e-04 |\n",
       "| 48-0.0 | 2.485185e-02 |\n",
       "| 49-0.0 | 1.059631e-02 |\n",
       "\n"
      ],
      "text/plain": [
       "  variable adj-r       \n",
       "1 eid      6.743052e-06\n",
       "2 34-0.0   5.192070e-04\n",
       "3 46-0.0   8.421712e-04\n",
       "4 47-0.0   7.720492e-04\n",
       "5 48-0.0   2.485185e-02\n",
       "6 49-0.0   1.059631e-02"
      ]
     },
     "metadata": {},
     "output_type": "display_data"
    },
    {
     "data": {
      "text/html": [
       "<ol class=list-inline>\n",
       "\t<li>-2.07615658420757e-06</li>\n",
       "\t<li>1</li>\n",
       "</ol>\n"
      ],
      "text/latex": [
       "\\begin{enumerate*}\n",
       "\\item -2.07615658420757e-06\n",
       "\\item 1\n",
       "\\end{enumerate*}\n"
      ],
      "text/markdown": [
       "1. -2.07615658420757e-06\n",
       "2. 1\n",
       "\n",
       "\n"
      ],
      "text/plain": [
       "[1] -2.076157e-06  1.000000e+00"
      ]
     },
     "metadata": {},
     "output_type": "display_data"
    },
    {
     "data": {
      "text/html": [
       "<ol class=list-inline>\n",
       "\t<li>20</li>\n",
       "\t<li>100</li>\n",
       "\t<li>101</li>\n",
       "\t<li>107</li>\n",
       "\t<li>108</li>\n",
       "\t<li>109</li>\n",
       "\t<li>118</li>\n",
       "\t<li>128</li>\n",
       "\t<li>133</li>\n",
       "\t<li>137</li>\n",
       "\t<li>140</li>\n",
       "\t<li>142</li>\n",
       "\t<li>149</li>\n",
       "\t<li>152</li>\n",
       "\t<li>155</li>\n",
       "\t<li>158</li>\n",
       "</ol>\n"
      ],
      "text/latex": [
       "\\begin{enumerate*}\n",
       "\\item 20\n",
       "\\item 100\n",
       "\\item 101\n",
       "\\item 107\n",
       "\\item 108\n",
       "\\item 109\n",
       "\\item 118\n",
       "\\item 128\n",
       "\\item 133\n",
       "\\item 137\n",
       "\\item 140\n",
       "\\item 142\n",
       "\\item 149\n",
       "\\item 152\n",
       "\\item 155\n",
       "\\item 158\n",
       "\\end{enumerate*}\n"
      ],
      "text/markdown": [
       "1. 20\n",
       "2. 100\n",
       "3. 101\n",
       "4. 107\n",
       "5. 108\n",
       "6. 109\n",
       "7. 118\n",
       "8. 128\n",
       "9. 133\n",
       "10. 137\n",
       "11. 140\n",
       "12. 142\n",
       "13. 149\n",
       "14. 152\n",
       "15. 155\n",
       "16. 158\n",
       "\n",
       "\n"
      ],
      "text/plain": [
       " [1]  20 100 101 107 108 109 118 128 133 137 140 142 149 152 155 158"
      ]
     },
     "metadata": {},
     "output_type": "display_data"
    },
    {
     "data": {
      "text/html": [
       "<table>\n",
       "<caption>A data.frame: 16 × 2</caption>\n",
       "<thead>\n",
       "\t<tr><th></th><th scope=col>variable</th><th scope=col>adj-r</th></tr>\n",
       "\t<tr><th></th><th scope=col>&lt;chr&gt;</th><th scope=col>&lt;dbl&gt;</th></tr>\n",
       "</thead>\n",
       "<tbody>\n",
       "\t<tr><th scope=row>20</th><td>894-0.0   </td><td>-2.076157e-06</td></tr>\n",
       "\t<tr><th scope=row>100</th><td>24012-0.0 </td><td>-1.941821e-06</td></tr>\n",
       "\t<tr><th scope=row>101</th><td>24013-0.0 </td><td>-9.283905e-07</td></tr>\n",
       "\t<tr><th scope=row>107</th><td>24020-0.0 </td><td>-1.744890e-06</td></tr>\n",
       "\t<tr><th scope=row>108</th><td>24021-0.0 </td><td>-1.742160e-06</td></tr>\n",
       "\t<tr><th scope=row>109</th><td>24022-0.0 </td><td>-1.745138e-06</td></tr>\n",
       "\t<tr><th scope=row>118</th><td>24508-0.0 </td><td>-1.879992e-06</td></tr>\n",
       "\t<tr><th scope=row>128</th><td>22009-0.10</td><td>-1.620699e-06</td></tr>\n",
       "\t<tr><th scope=row>133</th><td>22009-0.15</td><td>-1.493388e-06</td></tr>\n",
       "\t<tr><th scope=row>137</th><td>22009-0.19</td><td>-2.057424e-06</td></tr>\n",
       "\t<tr><th scope=row>140</th><td>22009-0.22</td><td>-8.545728e-07</td></tr>\n",
       "\t<tr><th scope=row>142</th><td>22009-0.24</td><td>-6.957546e-07</td></tr>\n",
       "\t<tr><th scope=row>149</th><td>22009-0.31</td><td>-1.543253e-06</td></tr>\n",
       "\t<tr><th scope=row>152</th><td>22009-0.34</td><td>-1.771204e-06</td></tr>\n",
       "\t<tr><th scope=row>155</th><td>22009-0.37</td><td>-1.926865e-06</td></tr>\n",
       "\t<tr><th scope=row>158</th><td>22009-0.40</td><td>-3.624955e-07</td></tr>\n",
       "</tbody>\n",
       "</table>\n"
      ],
      "text/latex": [
       "A data.frame: 16 × 2\n",
       "\\begin{tabular}{r|ll}\n",
       "  & variable & adj-r\\\\\n",
       "  & <chr> & <dbl>\\\\\n",
       "\\hline\n",
       "\t20 & 894-0.0    & -2.076157e-06\\\\\n",
       "\t100 & 24012-0.0  & -1.941821e-06\\\\\n",
       "\t101 & 24013-0.0  & -9.283905e-07\\\\\n",
       "\t107 & 24020-0.0  & -1.744890e-06\\\\\n",
       "\t108 & 24021-0.0  & -1.742160e-06\\\\\n",
       "\t109 & 24022-0.0  & -1.745138e-06\\\\\n",
       "\t118 & 24508-0.0  & -1.879992e-06\\\\\n",
       "\t128 & 22009-0.10 & -1.620699e-06\\\\\n",
       "\t133 & 22009-0.15 & -1.493388e-06\\\\\n",
       "\t137 & 22009-0.19 & -2.057424e-06\\\\\n",
       "\t140 & 22009-0.22 & -8.545728e-07\\\\\n",
       "\t142 & 22009-0.24 & -6.957546e-07\\\\\n",
       "\t149 & 22009-0.31 & -1.543253e-06\\\\\n",
       "\t152 & 22009-0.34 & -1.771204e-06\\\\\n",
       "\t155 & 22009-0.37 & -1.926865e-06\\\\\n",
       "\t158 & 22009-0.40 & -3.624955e-07\\\\\n",
       "\\end{tabular}\n"
      ],
      "text/markdown": [
       "\n",
       "A data.frame: 16 × 2\n",
       "\n",
       "| <!--/--> | variable &lt;chr&gt; | adj-r &lt;dbl&gt; |\n",
       "|---|---|---|\n",
       "| 20 | 894-0.0    | -2.076157e-06 |\n",
       "| 100 | 24012-0.0  | -1.941821e-06 |\n",
       "| 101 | 24013-0.0  | -9.283905e-07 |\n",
       "| 107 | 24020-0.0  | -1.744890e-06 |\n",
       "| 108 | 24021-0.0  | -1.742160e-06 |\n",
       "| 109 | 24022-0.0  | -1.745138e-06 |\n",
       "| 118 | 24508-0.0  | -1.879992e-06 |\n",
       "| 128 | 22009-0.10 | -1.620699e-06 |\n",
       "| 133 | 22009-0.15 | -1.493388e-06 |\n",
       "| 137 | 22009-0.19 | -2.057424e-06 |\n",
       "| 140 | 22009-0.22 | -8.545728e-07 |\n",
       "| 142 | 22009-0.24 | -6.957546e-07 |\n",
       "| 149 | 22009-0.31 | -1.543253e-06 |\n",
       "| 152 | 22009-0.34 | -1.771204e-06 |\n",
       "| 155 | 22009-0.37 | -1.926865e-06 |\n",
       "| 158 | 22009-0.40 | -3.624955e-07 |\n",
       "\n"
      ],
      "text/plain": [
       "    variable   adj-r        \n",
       "20  894-0.0    -2.076157e-06\n",
       "100 24012-0.0  -1.941821e-06\n",
       "101 24013-0.0  -9.283905e-07\n",
       "107 24020-0.0  -1.744890e-06\n",
       "108 24021-0.0  -1.742160e-06\n",
       "109 24022-0.0  -1.745138e-06\n",
       "118 24508-0.0  -1.879992e-06\n",
       "128 22009-0.10 -1.620699e-06\n",
       "133 22009-0.15 -1.493388e-06\n",
       "137 22009-0.19 -2.057424e-06\n",
       "140 22009-0.22 -8.545728e-07\n",
       "142 22009-0.24 -6.957546e-07\n",
       "149 22009-0.31 -1.543253e-06\n",
       "152 22009-0.34 -1.771204e-06\n",
       "155 22009-0.37 -1.926865e-06\n",
       "158 22009-0.40 -3.624955e-07"
      ]
     },
     "metadata": {},
     "output_type": "display_data"
    }
   ],
   "source": [
    "r_square$`adj-r`=as.double(r_square$`adj-r`)\n",
    "head(r_square)\n",
    "range(r_square$`adj-r`)\n",
    "which(r_square$`adj-r`<0)\n",
    "r_square[c(which(r_square$`adj-r`<0)),]"
   ]
  },
  {
   "cell_type": "code",
   "execution_count": 12,
   "metadata": {},
   "outputs": [
    {
     "data": {
      "image/png": "[encoded data removed]",
      "text/plain": [
       "plot without title"
      ]
     },
     "metadata": {},
     "output_type": "display_data"
    }
   ],
   "source": [
    "barplot(r_square$`adj-r`[-159],col=\"blue\",ylim=c(0,0.034),horiz = F)\n",
    "par(mar=c(5,6,10,10)+.1)\n",
    "abline(h = 0.026,col=\"green\")\n",
    "abline(h = 0.024,col=\"orange\")\n",
    "abline(h = 0.022,col=\"purple\")\n",
    "abline(h = 0.020,col=\"red\")\n",
    "abline(h = 0.018,col=\"yellow\")\n",
    "abline(h = 0.016,col=\"green\")\n",
    "abline(h = 0.014,col=\"pink\")\n",
    "abline(h = 0.012,col=\"brown\")\n",
    "abline(h = 0.010,col=\"navy\")\n",
    "axis(4, at=0.026,labels=0.026,las=2)\n",
    "axis(4, at=0.024,labels=0.024,las=2)\n",
    "axis(4, at=0.022,labels=0.022,las=2)\n",
    "axis(4, at=0.020,labels=\"0.020\",las=2)\n",
    "axis(4, at=0.018,labels=0.018,las=2)\n",
    "axis(4, at=0.016,labels=0.016,las=2)\n",
    "axis(4, at=0.014,labels=0.014,las=2)\n",
    "axis(4, at=0.012,labels=0.012,las=2)\n",
    "axis(4, at=0.0100,labels=\"0.010\",las=2)"
   ]
  },
  {
   "cell_type": "code",
   "execution_count": 13,
   "metadata": {},
   "outputs": [
    {
     "name": "stdout",
     "output_type": "stream",
     "text": [
      "[1] 11\n",
      "[1] 5\n",
      "[1] 51\n",
      "[1] None  \n",
      "[1] 63 80 88\n",
      "[1] 84\n",
      "[1] 15 87\n",
      "[1] 72 76\n",
      "[1]  6 14 52 62 79 83\n"
     ]
    }
   ],
   "source": [
    "\n",
    "which(r_square$`adj-r`>=0.026 & r_square$`adj-r` < 1 ) %>% print()\n",
    "which(r_square$`adj-r` >= 0.024 & r_square$`adj-r` < 0.026) %>% print()\n",
    "which(r_square$`adj-r` >= 0.022 & r_square$`adj-r` < 0.024) %>% print()\n",
    "which(r_square$`adj-r` >= 0.020 & r_square$`adj-r` < 0.022) %>% cat(\"[1] None\" ,.,\"\\n\")\n",
    "which(r_square$`adj-r` >= 0.018 & r_square$`adj-r` < 0.020) %>% print()\n",
    "which(r_square$`adj-r` >= 0.016 & r_square$`adj-r` < 0.018) %>% print()\n",
    "which(r_square$`adj-r` >= 0.014 & r_square$`adj-r` < 0.016) %>% print()\n",
    "which(r_square$`adj-r` >= 0.012 & r_square$`adj-r` < 0.014) %>% print()\n",
    "which(r_square$`adj-r` >= 0.010 & r_square$`adj-r` < 0.012) %>% print()"
   ]
  },
  {
   "cell_type": "code",
   "execution_count": 14,
   "metadata": {
    "scrolled": true
   },
   "outputs": [
    {
     "data": {
      "text/html": [
       "<table>\n",
       "<caption>A data.frame: 17 × 2</caption>\n",
       "<thead>\n",
       "\t<tr><th></th><th scope=col>variable</th><th scope=col>adj-r</th></tr>\n",
       "\t<tr><th></th><th scope=col>&lt;chr&gt;</th><th scope=col>&lt;dbl&gt;</th></tr>\n",
       "</thead>\n",
       "<tbody>\n",
       "\t<tr><th scope=row>11</th><td>102-0.0  </td><td>0.02646213</td></tr>\n",
       "\t<tr><th scope=row>5</th><td>48-0.0   </td><td>0.02485185</td></tr>\n",
       "\t<tr><th scope=row>51</th><td>21001-0.0</td><td>0.02380052</td></tr>\n",
       "\t<tr><th scope=row>63</th><td>23100-0.0</td><td>0.01840749</td></tr>\n",
       "\t<tr><th scope=row>80</th><td>23120-0.0</td><td>0.01804599</td></tr>\n",
       "\t<tr><th scope=row>88</th><td>23128-0.0</td><td>0.01842018</td></tr>\n",
       "\t<tr><th scope=row>84</th><td>23124-0.0</td><td>0.01767267</td></tr>\n",
       "\t<tr><th scope=row>15</th><td>137-0.0  </td><td>0.01554169</td></tr>\n",
       "\t<tr><th scope=row>87</th><td>23127-0.0</td><td>0.01479506</td></tr>\n",
       "\t<tr><th scope=row>72</th><td>23112-0.0</td><td>0.01266421</td></tr>\n",
       "\t<tr><th scope=row>76</th><td>23116-0.0</td><td>0.01214924</td></tr>\n",
       "\t<tr><th scope=row>6</th><td>49-0.0   </td><td>0.01059631</td></tr>\n",
       "\t<tr><th scope=row>14</th><td>135-0.0  </td><td>0.01196530</td></tr>\n",
       "\t<tr><th scope=row>52</th><td>21002-0.0</td><td>0.01011906</td></tr>\n",
       "\t<tr><th scope=row>62</th><td>23099-0.0</td><td>0.01115686</td></tr>\n",
       "\t<tr><th scope=row>79</th><td>23119-0.0</td><td>0.01114778</td></tr>\n",
       "\t<tr><th scope=row>83</th><td>23123-0.0</td><td>0.01096932</td></tr>\n",
       "</tbody>\n",
       "</table>\n"
      ],
      "text/latex": [
       "A data.frame: 17 × 2\n",
       "\\begin{tabular}{r|ll}\n",
       "  & variable & adj-r\\\\\n",
       "  & <chr> & <dbl>\\\\\n",
       "\\hline\n",
       "\t11 & 102-0.0   & 0.02646213\\\\\n",
       "\t5 & 48-0.0    & 0.02485185\\\\\n",
       "\t51 & 21001-0.0 & 0.02380052\\\\\n",
       "\t63 & 23100-0.0 & 0.01840749\\\\\n",
       "\t80 & 23120-0.0 & 0.01804599\\\\\n",
       "\t88 & 23128-0.0 & 0.01842018\\\\\n",
       "\t84 & 23124-0.0 & 0.01767267\\\\\n",
       "\t15 & 137-0.0   & 0.01554169\\\\\n",
       "\t87 & 23127-0.0 & 0.01479506\\\\\n",
       "\t72 & 23112-0.0 & 0.01266421\\\\\n",
       "\t76 & 23116-0.0 & 0.01214924\\\\\n",
       "\t6 & 49-0.0    & 0.01059631\\\\\n",
       "\t14 & 135-0.0   & 0.01196530\\\\\n",
       "\t52 & 21002-0.0 & 0.01011906\\\\\n",
       "\t62 & 23099-0.0 & 0.01115686\\\\\n",
       "\t79 & 23119-0.0 & 0.01114778\\\\\n",
       "\t83 & 23123-0.0 & 0.01096932\\\\\n",
       "\\end{tabular}\n"
      ],
      "text/markdown": [
       "\n",
       "A data.frame: 17 × 2\n",
       "\n",
       "| <!--/--> | variable &lt;chr&gt; | adj-r &lt;dbl&gt; |\n",
       "|---|---|---|\n",
       "| 11 | 102-0.0   | 0.02646213 |\n",
       "| 5 | 48-0.0    | 0.02485185 |\n",
       "| 51 | 21001-0.0 | 0.02380052 |\n",
       "| 63 | 23100-0.0 | 0.01840749 |\n",
       "| 80 | 23120-0.0 | 0.01804599 |\n",
       "| 88 | 23128-0.0 | 0.01842018 |\n",
       "| 84 | 23124-0.0 | 0.01767267 |\n",
       "| 15 | 137-0.0   | 0.01554169 |\n",
       "| 87 | 23127-0.0 | 0.01479506 |\n",
       "| 72 | 23112-0.0 | 0.01266421 |\n",
       "| 76 | 23116-0.0 | 0.01214924 |\n",
       "| 6 | 49-0.0    | 0.01059631 |\n",
       "| 14 | 135-0.0   | 0.01196530 |\n",
       "| 52 | 21002-0.0 | 0.01011906 |\n",
       "| 62 | 23099-0.0 | 0.01115686 |\n",
       "| 79 | 23119-0.0 | 0.01114778 |\n",
       "| 83 | 23123-0.0 | 0.01096932 |\n",
       "\n"
      ],
      "text/plain": [
       "   variable  adj-r     \n",
       "11 102-0.0   0.02646213\n",
       "5  48-0.0    0.02485185\n",
       "51 21001-0.0 0.02380052\n",
       "63 23100-0.0 0.01840749\n",
       "80 23120-0.0 0.01804599\n",
       "88 23128-0.0 0.01842018\n",
       "84 23124-0.0 0.01767267\n",
       "15 137-0.0   0.01554169\n",
       "87 23127-0.0 0.01479506\n",
       "72 23112-0.0 0.01266421\n",
       "76 23116-0.0 0.01214924\n",
       "6  49-0.0    0.01059631\n",
       "14 135-0.0   0.01196530\n",
       "52 21002-0.0 0.01011906\n",
       "62 23099-0.0 0.01115686\n",
       "79 23119-0.0 0.01114778\n",
       "83 23123-0.0 0.01096932"
      ]
     },
     "metadata": {},
     "output_type": "display_data"
    }
   ],
   "source": [
    "r_square[c(11,5,51,63,80,88,84,15,87,72,76,6,14,52,62,79,83),]"
   ]
  },
  {
   "cell_type": "code",
   "execution_count": 15,
   "metadata": {},
   "outputs": [
    {
     "data": {
      "text/html": [
       "<ol class=list-inline>\n",
       "\t<li>'beta'</li>\n",
       "\t<li>'coeff'</li>\n",
       "\t<li>'end_time'</li>\n",
       "\t<li>'i'</li>\n",
       "\t<li>'model'</li>\n",
       "\t<li>'new_beta'</li>\n",
       "\t<li>'new_data'</li>\n",
       "\t<li>'r'</li>\n",
       "\t<li>'r_square'</li>\n",
       "\t<li>'scale_data'</li>\n",
       "\t<li>'start_time'</li>\n",
       "\t<li>'sum'</li>\n",
       "</ol>\n"
      ],
      "text/latex": [
       "\\begin{enumerate*}\n",
       "\\item 'beta'\n",
       "\\item 'coeff'\n",
       "\\item 'end\\_time'\n",
       "\\item 'i'\n",
       "\\item 'model'\n",
       "\\item 'new\\_beta'\n",
       "\\item 'new\\_data'\n",
       "\\item 'r'\n",
       "\\item 'r\\_square'\n",
       "\\item 'scale\\_data'\n",
       "\\item 'start\\_time'\n",
       "\\item 'sum'\n",
       "\\end{enumerate*}\n"
      ],
      "text/markdown": [
       "1. 'beta'\n",
       "2. 'coeff'\n",
       "3. 'end_time'\n",
       "4. 'i'\n",
       "5. 'model'\n",
       "6. 'new_beta'\n",
       "7. 'new_data'\n",
       "8. 'r'\n",
       "9. 'r_square'\n",
       "10. 'scale_data'\n",
       "11. 'start_time'\n",
       "12. 'sum'\n",
       "\n",
       "\n"
      ],
      "text/plain": [
       " [1] \"beta\"       \"coeff\"      \"end_time\"   \"i\"          \"model\"     \n",
       " [6] \"new_beta\"   \"new_data\"   \"r\"          \"r_square\"   \"scale_data\"\n",
       "[11] \"start_time\" \"sum\"       "
      ]
     },
     "metadata": {},
     "output_type": "display_data"
    }
   ],
   "source": [
    "ls()"
   ]
  },
  {
   "cell_type": "code",
   "execution_count": 16,
   "metadata": {
    "scrolled": true
   },
   "outputs": [],
   "source": [
    "range_table=sapply(new_data,range)"
   ]
  },
  {
   "cell_type": "code",
   "execution_count": 17,
   "metadata": {},
   "outputs": [
    {
     "data": {
      "text/html": [
       "<ol class=list-inline>\n",
       "\t<li>FALSE</li>\n",
       "\t<li>FALSE</li>\n",
       "\t<li>FALSE</li>\n",
       "\t<li>FALSE</li>\n",
       "\t<li>FALSE</li>\n",
       "\t<li>FALSE</li>\n",
       "\t<li>FALSE</li>\n",
       "\t<li>FALSE</li>\n",
       "\t<li>FALSE</li>\n",
       "\t<li>FALSE</li>\n",
       "\t<li>FALSE</li>\n",
       "\t<li>FALSE</li>\n",
       "\t<li>FALSE</li>\n",
       "</ol>\n"
      ],
      "text/latex": [
       "\\begin{enumerate*}\n",
       "\\item FALSE\n",
       "\\item FALSE\n",
       "\\item FALSE\n",
       "\\item FALSE\n",
       "\\item FALSE\n",
       "\\item FALSE\n",
       "\\item FALSE\n",
       "\\item FALSE\n",
       "\\item FALSE\n",
       "\\item FALSE\n",
       "\\item FALSE\n",
       "\\item FALSE\n",
       "\\item FALSE\n",
       "\\end{enumerate*}\n"
      ],
      "text/markdown": [
       "1. FALSE\n",
       "2. FALSE\n",
       "3. FALSE\n",
       "4. FALSE\n",
       "5. FALSE\n",
       "6. FALSE\n",
       "7. FALSE\n",
       "8. FALSE\n",
       "9. FALSE\n",
       "10. FALSE\n",
       "11. FALSE\n",
       "12. FALSE\n",
       "13. FALSE\n",
       "\n",
       "\n"
      ],
      "text/plain": [
       " [1] FALSE FALSE FALSE FALSE FALSE FALSE FALSE FALSE FALSE FALSE FALSE FALSE\n",
       "[13] FALSE"
      ]
     },
     "metadata": {},
     "output_type": "display_data"
    }
   ],
   "source": [
    "which(range_table[1,]==-3) %in% c(11,5,51,63,80,88,84,15,87,72,76,6,14,52,62,79,83)"
   ]
  },
  {
   "cell_type": "code",
   "execution_count": 18,
   "metadata": {
    "scrolled": true
   },
   "outputs": [
    {
     "data": {
      "text/html": [
       "<dl class=dl-horizontal>\n",
       "\t<dt>92-0.0</dt>\n",
       "\t\t<dd>9</dd>\n",
       "\t<dt>709-0.0</dt>\n",
       "\t\t<dd>18</dd>\n",
       "\t<dt>874-0.0</dt>\n",
       "\t\t<dd>19</dd>\n",
       "\t<dt>894-0.0</dt>\n",
       "\t\t<dd>20</dd>\n",
       "\t<dt>1269-0.0</dt>\n",
       "\t\t<dd>21</dd>\n",
       "\t<dt>1279-0.0</dt>\n",
       "\t\t<dd>22</dd>\n",
       "\t<dt>1737-0.0</dt>\n",
       "\t\t<dd>31</dd>\n",
       "\t<dt>1807-0.0</dt>\n",
       "\t\t<dd>32</dd>\n",
       "\t<dt>2139-0.0</dt>\n",
       "\t\t<dd>33</dd>\n",
       "\t<dt>2149-0.0</dt>\n",
       "\t\t<dd>34</dd>\n",
       "\t<dt>2217-0.0</dt>\n",
       "\t\t<dd>35</dd>\n",
       "\t<dt>20010-0.0</dt>\n",
       "\t\t<dd>43</dd>\n",
       "\t<dt>20011-0.0</dt>\n",
       "\t\t<dd>44</dd>\n",
       "</dl>\n"
      ],
      "text/latex": [
       "\\begin{description*}\n",
       "\\item[92-0.0] 9\n",
       "\\item[709-0.0] 18\n",
       "\\item[874-0.0] 19\n",
       "\\item[894-0.0] 20\n",
       "\\item[1269-0.0] 21\n",
       "\\item[1279-0.0] 22\n",
       "\\item[1737-0.0] 31\n",
       "\\item[1807-0.0] 32\n",
       "\\item[2139-0.0] 33\n",
       "\\item[2149-0.0] 34\n",
       "\\item[2217-0.0] 35\n",
       "\\item[20010-0.0] 43\n",
       "\\item[20011-0.0] 44\n",
       "\\end{description*}\n"
      ],
      "text/markdown": [
       "92-0.0\n",
       ":   9709-0.0\n",
       ":   18874-0.0\n",
       ":   19894-0.0\n",
       ":   201269-0.0\n",
       ":   211279-0.0\n",
       ":   221737-0.0\n",
       ":   311807-0.0\n",
       ":   322139-0.0\n",
       ":   332149-0.0\n",
       ":   342217-0.0\n",
       ":   3520010-0.0\n",
       ":   4320011-0.0\n",
       ":   44\n",
       "\n"
      ],
      "text/plain": [
       "   92-0.0   709-0.0   874-0.0   894-0.0  1269-0.0  1279-0.0  1737-0.0  1807-0.0 \n",
       "        9        18        19        20        21        22        31        32 \n",
       " 2139-0.0  2149-0.0  2217-0.0 20010-0.0 20011-0.0 \n",
       "       33        34        35        43        44 "
      ]
     },
     "metadata": {},
     "output_type": "display_data"
    }
   ],
   "source": [
    "which(range_table[1,]==-3) "
   ]
  },
  {
   "cell_type": "code",
   "execution_count": 19,
   "metadata": {},
   "outputs": [
    {
     "data": {
      "text/html": [
       "0.157651175999711"
      ],
      "text/latex": [
       "0.157651175999711"
      ],
      "text/markdown": [
       "0.157651175999711"
      ],
      "text/plain": [
       "[1] 0.1576512"
      ]
     },
     "metadata": {},
     "output_type": "display_data"
    },
    {
     "data": {
      "text/plain": [
       "[[1]]\n",
       "\n",
       "Call:\n",
       "lm(formula = count ~ scale_data[[i]], data = scale_data)\n",
       "\n",
       "Residuals:\n",
       "    Min      1Q  Median      3Q     Max \n",
       " -3.507  -0.577  -0.107   0.446 180.473 \n",
       "\n",
       "Coefficients:\n",
       "                 Estimate Std. Error t value Pr(>|t|)    \n",
       "(Intercept)     1.201e-16  1.428e-03     0.0        1    \n",
       "scale_data[[i]] 1.577e-01  1.428e-03   110.4   <2e-16 ***\n",
       "---\n",
       "Signif. codes:  0 ‘***’ 0.001 ‘**’ 0.01 ‘*’ 0.05 ‘.’ 0.1 ‘ ’ 1\n",
       "\n",
       "Residual standard error: 0.9875 on 478172 degrees of freedom\n",
       "Multiple R-squared:  0.02485,\tAdjusted R-squared:  0.02485 \n",
       "F-statistic: 1.219e+04 on 1 and 478172 DF,  p-value: < 2.2e-16\n",
       "\n"
      ]
     },
     "metadata": {},
     "output_type": "display_data"
    }
   ],
   "source": [
    "new_beta[5]\n",
    "sum[5]"
   ]
  },
  {
   "cell_type": "code",
   "execution_count": null,
   "metadata": {},
   "outputs": [],
   "source": []
  },
  {
   "cell_type": "code",
   "execution_count": 27,
   "metadata": {},
   "outputs": [
    {
     "data": {
      "text/html": [
       "<ol class=list-inline>\n",
       "\t<li>159</li>\n",
       "\t<li>2</li>\n",
       "</ol>\n"
      ],
      "text/latex": [
       "\\begin{enumerate*}\n",
       "\\item 159\n",
       "\\item 2\n",
       "\\end{enumerate*}\n"
      ],
      "text/markdown": [
       "1. 159\n",
       "2. 2\n",
       "\n",
       "\n"
      ],
      "text/plain": [
       "[1] 159   2"
      ]
     },
     "metadata": {},
     "output_type": "display_data"
    },
    {
     "data": {
      "text/html": [
       "<table>\n",
       "<caption>A data.frame: 6 × 2</caption>\n",
       "<thead>\n",
       "\t<tr><th scope=col>variable</th><th scope=col>coe</th></tr>\n",
       "\t<tr><th scope=col>&lt;chr&gt;</th><th scope=col>&lt;dbl&gt;</th></tr>\n",
       "</thead>\n",
       "<tbody>\n",
       "\t<tr><td>eid   </td><td>0.00297226</td></tr>\n",
       "\t<tr><td>34-0.0</td><td>0.02283193</td></tr>\n",
       "\t<tr><td>46-0.0</td><td>0.02905616</td></tr>\n",
       "\t<tr><td>47-0.0</td><td>0.02782335</td></tr>\n",
       "\t<tr><td>48-0.0</td><td>0.15765118</td></tr>\n",
       "\t<tr><td>49-0.0</td><td>0.10294843</td></tr>\n",
       "</tbody>\n",
       "</table>\n"
      ],
      "text/latex": [
       "A data.frame: 6 × 2\n",
       "\\begin{tabular}{r|ll}\n",
       " variable & coe\\\\\n",
       " <chr> & <dbl>\\\\\n",
       "\\hline\n",
       "\t eid    & 0.00297226\\\\\n",
       "\t 34-0.0 & 0.02283193\\\\\n",
       "\t 46-0.0 & 0.02905616\\\\\n",
       "\t 47-0.0 & 0.02782335\\\\\n",
       "\t 48-0.0 & 0.15765118\\\\\n",
       "\t 49-0.0 & 0.10294843\\\\\n",
       "\\end{tabular}\n"
      ],
      "text/markdown": [
       "\n",
       "A data.frame: 6 × 2\n",
       "\n",
       "| variable &lt;chr&gt; | coe &lt;dbl&gt; |\n",
       "|---|---|\n",
       "| eid    | 0.00297226 |\n",
       "| 34-0.0 | 0.02283193 |\n",
       "| 46-0.0 | 0.02905616 |\n",
       "| 47-0.0 | 0.02782335 |\n",
       "| 48-0.0 | 0.15765118 |\n",
       "| 49-0.0 | 0.10294843 |\n",
       "\n"
      ],
      "text/plain": [
       "  variable coe       \n",
       "1 eid      0.00297226\n",
       "2 34-0.0   0.02283193\n",
       "3 46-0.0   0.02905616\n",
       "4 47-0.0   0.02782335\n",
       "5 48-0.0   0.15765118\n",
       "6 49-0.0   0.10294843"
      ]
     },
     "metadata": {},
     "output_type": "display_data"
    }
   ],
   "source": [
    "coe=(cbind(as.character(names(scale_data)),new_beta))\n",
    "colnames(coe)=c(\"variable\",\"coe\")\n",
    "\n",
    "\n",
    "coe=as.data.frame(coe,stringsAsFactors = F)\n",
    "dim(coe)\n",
    "\n",
    "\n",
    "\n",
    "\n",
    "coe$coe=as.double(coe$coe)\n",
    "head(coe)\n"
   ]
  },
  {
   "cell_type": "code",
   "execution_count": 28,
   "metadata": {
    "scrolled": true
   },
   "outputs": [
    {
     "data": {
      "text/html": [
       "<ol class=list-inline>\n",
       "\t<li>0.000123049080770983</li>\n",
       "\t<li>1</li>\n",
       "</ol>\n"
      ],
      "text/latex": [
       "\\begin{enumerate*}\n",
       "\\item 0.000123049080770983\n",
       "\\item 1\n",
       "\\end{enumerate*}\n"
      ],
      "text/markdown": [
       "1. 0.000123049080770983\n",
       "2. 1\n",
       "\n",
       "\n"
      ],
      "text/plain": [
       "[1] 0.0001230491 1.0000000000"
      ]
     },
     "metadata": {},
     "output_type": "display_data"
    }
   ],
   "source": [
    "range(coe$coe)"
   ]
  },
  {
   "cell_type": "code",
   "execution_count": 29,
   "metadata": {
    "scrolled": false
   },
   "outputs": [
    {
     "data": {
      "image/png": "[encoded data removed]",
      "text/plain": [
       "plot without title"
      ]
     },
     "metadata": {},
     "output_type": "display_data"
    }
   ],
   "source": [
    "\n",
    "barplot(coe$coe[-159],col=\"blue\",ylim=c(0,0.20),horiz = F)\n",
    "par(mar=c(5,6,1,6)+.1)\n",
    "\n",
    "\n",
    "\n",
    "abline(h = 0.16,col=\"green\")\n",
    "abline(h = 0.15,col=\"pink\")\n",
    "abline(h = 0.14,col=\"brown\")\n",
    "abline(h = 0.13,col=\"navy\")\n",
    "abline(h = 0.12,col=\"yellow\")\n",
    "abline(h = 0.11,col=\"red\")\n",
    "abline(h = 0.09,col=\"orange\")\n",
    "abline(h = 0.08,col=\"purple\")\n",
    "abline(h = 0.07,col=\"cyan\")\n",
    "abline(h = 0.06,col=\"magenta\")\n",
    "axis(4, at=0.16,labels=0.16,las=2)\n",
    "axis(4, at=0.15,labels=0.15,las=2)\n",
    "axis(4, at=0.14,labels=0.14,las=2)\n",
    "axis(4, at=0.13,labels=0.13,las=2)\n",
    "axis(4, at=0.12,labels=0.12,las=2)\n",
    "axis(4, at=0.11,labels=0.11,las=2)\n",
    "axis(4, at=0.100,labels=\"0.10\",las=2)\n",
    "axis(4, at=0.09,labels=0.09,las=2)\n",
    "axis(4, at=0.08,labels=0.08,las=2)\n",
    "axis(4, at=0.07,labels=0.07,las=2)\n",
    "axis(4, at=0.06,labels=0.06,las=2)"
   ]
  },
  {
   "cell_type": "code",
   "execution_count": null,
   "metadata": {},
   "outputs": [],
   "source": []
  },
  {
   "cell_type": "code",
   "execution_count": 30,
   "metadata": {},
   "outputs": [
    {
     "name": "stdout",
     "output_type": "stream",
     "text": [
      "[1] 11\n",
      "[1] 5\n",
      "[1] 51\n",
      "[1] None  \n",
      "[1] 63 80 88\n",
      "[1] 84\n",
      "[1] 15 87\n",
      "[1] 72 76\n",
      "[1]  6 14 52 62 79 83\n"
     ]
    }
   ],
   "source": [
    "\n",
    "which(r_square$`adj-r`>=0.026 & r_square$`adj-r` < 1 ) %>% print()\n",
    "which(r_square$`adj-r` >= 0.024 & r_square$`adj-r` < 0.026) %>% print()\n",
    "which(r_square$`adj-r` >= 0.022 & r_square$`adj-r` < 0.024) %>% print()\n",
    "which(r_square$`adj-r` >= 0.020 & r_square$`adj-r` < 0.022) %>% cat(\"[1] None\" ,.,\"\\n\")\n",
    "which(r_square$`adj-r` >= 0.018 & r_square$`adj-r` < 0.020) %>% print()\n",
    "which(r_square$`adj-r` >= 0.016 & r_square$`adj-r` < 0.018) %>% print()\n",
    "which(r_square$`adj-r` >= 0.014 & r_square$`adj-r` < 0.016) %>% print()\n",
    "which(r_square$`adj-r` >= 0.012 & r_square$`adj-r` < 0.014) %>% print()\n",
    "which(r_square$`adj-r` >= 0.010 & r_square$`adj-r` < 0.012) %>% print()"
   ]
  },
  {
   "cell_type": "code",
   "execution_count": 79,
   "metadata": {},
   "outputs": [
    {
     "data": {
      "text/html": [
       "<table>\n",
       "<caption>A data.table: 1 × 17</caption>\n",
       "<thead>\n",
       "\t<tr><th scope=col>102-0.0</th><th scope=col>48-0.0</th><th scope=col>21001-0.0</th><th scope=col>23100-0.0</th><th scope=col>23120-0.0</th><th scope=col>23128-0.0</th><th scope=col>23124-0.0</th><th scope=col>137-0.0</th><th scope=col>23127-0.0</th><th scope=col>23112-0.0</th><th scope=col>23116-0.0</th><th scope=col>49-0.0</th><th scope=col>135-0.0</th><th scope=col>21002-0.0</th><th scope=col>23099-0.0</th><th scope=col>23119-0.0</th><th scope=col>23123-0.0</th></tr>\n",
       "\t<tr><th scope=col>&lt;dbl&gt;</th><th scope=col>&lt;dbl&gt;</th><th scope=col>&lt;dbl&gt;</th><th scope=col>&lt;dbl&gt;</th><th scope=col>&lt;dbl&gt;</th><th scope=col>&lt;dbl&gt;</th><th scope=col>&lt;dbl&gt;</th><th scope=col>&lt;dbl&gt;</th><th scope=col>&lt;dbl&gt;</th><th scope=col>&lt;dbl&gt;</th><th scope=col>&lt;dbl&gt;</th><th scope=col>&lt;dbl&gt;</th><th scope=col>&lt;dbl&gt;</th><th scope=col>&lt;dbl&gt;</th><th scope=col>&lt;dbl&gt;</th><th scope=col>&lt;dbl&gt;</th><th scope=col>&lt;dbl&gt;</th></tr>\n",
       "</thead>\n",
       "<tbody>\n",
       "\t<tr><td>59</td><td>78</td><td>24.022</td><td>21</td><td>1</td><td>10.4</td><td>1</td><td>3</td><td>28.9</td><td>4.4</td><td>4.3</td><td>100</td><td>2</td><td>65.4</td><td>32</td><td>30.7</td><td>30.6</td></tr>\n",
       "</tbody>\n",
       "</table>\n"
      ],
      "text/latex": [
       "A data.table: 1 × 17\n",
       "\\begin{tabular}{r|lllllllllllllllll}\n",
       " 102-0.0 & 48-0.0 & 21001-0.0 & 23100-0.0 & 23120-0.0 & 23128-0.0 & 23124-0.0 & 137-0.0 & 23127-0.0 & 23112-0.0 & 23116-0.0 & 49-0.0 & 135-0.0 & 21002-0.0 & 23099-0.0 & 23119-0.0 & 23123-0.0\\\\\n",
       " <dbl> & <dbl> & <dbl> & <dbl> & <dbl> & <dbl> & <dbl> & <dbl> & <dbl> & <dbl> & <dbl> & <dbl> & <dbl> & <dbl> & <dbl> & <dbl> & <dbl>\\\\\n",
       "\\hline\n",
       "\t 59 & 78 & 24.022 & 21 & 1 & 10.4 & 1 & 3 & 28.9 & 4.4 & 4.3 & 100 & 2 & 65.4 & 32 & 30.7 & 30.6\\\\\n",
       "\\end{tabular}\n"
      ],
      "text/markdown": [
       "\n",
       "A data.table: 1 × 17\n",
       "\n",
       "| 102-0.0 &lt;dbl&gt; | 48-0.0 &lt;dbl&gt; | 21001-0.0 &lt;dbl&gt; | 23100-0.0 &lt;dbl&gt; | 23120-0.0 &lt;dbl&gt; | 23128-0.0 &lt;dbl&gt; | 23124-0.0 &lt;dbl&gt; | 137-0.0 &lt;dbl&gt; | 23127-0.0 &lt;dbl&gt; | 23112-0.0 &lt;dbl&gt; | 23116-0.0 &lt;dbl&gt; | 49-0.0 &lt;dbl&gt; | 135-0.0 &lt;dbl&gt; | 21002-0.0 &lt;dbl&gt; | 23099-0.0 &lt;dbl&gt; | 23119-0.0 &lt;dbl&gt; | 23123-0.0 &lt;dbl&gt; |\n",
       "|---|---|---|---|---|---|---|---|---|---|---|---|---|---|---|---|---|\n",
       "| 59 | 78 | 24.022 | 21 | 1 | 10.4 | 1 | 3 | 28.9 | 4.4 | 4.3 | 100 | 2 | 65.4 | 32 | 30.7 | 30.6 |\n",
       "\n"
      ],
      "text/plain": [
       "  102-0.0 48-0.0 21001-0.0 23100-0.0 23120-0.0 23128-0.0 23124-0.0 137-0.0\n",
       "1 59      78     24.022    21        1         10.4      1         3      \n",
       "  23127-0.0 23112-0.0 23116-0.0 49-0.0 135-0.0 21002-0.0 23099-0.0 23119-0.0\n",
       "1 28.9      4.4       4.3       100    2       65.4      32        30.7     \n",
       "  23123-0.0\n",
       "1 30.6     "
      ]
     },
     "metadata": {},
     "output_type": "display_data"
    }
   ],
   "source": [
    "head(new_data[1,c(11,5,51,63,80,88,84,15,87,72,76,6,14,52,62,79,83)])"
   ]
  },
  {
   "cell_type": "code",
   "execution_count": 31,
   "metadata": {
    "scrolled": true
   },
   "outputs": [
    {
     "name": "stdout",
     "output_type": "stream",
     "text": [
      "[1] 11\n",
      "[1]  5 51\n",
      "[1] None  \n",
      "[1] 63 80 84 88\n",
      "[1] 15 87\n",
      "[1] 72 76\n",
      "[1]  6 14 52 62 79 83\n",
      "[1] 48 61\n",
      "[1]  39  49 123\n",
      "[1]  38 121\n",
      "[1]  16  42  71  75 119 120 127\n"
     ]
    }
   ],
   "source": [
    "which(coe$coe>=0.16 & coe$coe < 1 ) %>% print()\n",
    "which(coe$coe>=0.15 & coe$coe < 0.16 ) %>% print()\n",
    "which(coe$coe>=0.14 & coe$coe < 0.15 ) %>% cat(\"[1] None\" ,.,\"\\n\")\n",
    "which(coe$coe>=0.13 & coe$coe < 0.14 ) %>% print()\n",
    "which(coe$coe>=0.12 & coe$coe < 0.13 ) %>% print()\n",
    "which(coe$coe>=0.11 & coe$coe < 0.12 ) %>% print()\n",
    "which(coe$coe>=0.10 & coe$coe < 0.11 ) %>% print()\n",
    "which(coe$coe>=0.09 & coe$coe < 0.10 ) %>% print()\n",
    "which(coe$coe>=0.08 & coe$coe < 0.09 ) %>% print()\n",
    "which(coe$coe>=0.07 & coe$coe < 0.08 ) %>% print()\n",
    "which(coe$coe>=0.06 & coe$coe < 0.07 ) %>% print()"
   ]
  },
  {
   "cell_type": "code",
   "execution_count": 110,
   "metadata": {
    "scrolled": true
   },
   "outputs": [
    {
     "name": "stdout",
     "output_type": "stream",
     "text": [
      " [1] \"102-0.0\"   \"48-0.0\"    \"21001-0.0\" \"23100-0.0\" \"23120-0.0\" \"23124-0.0\"\n",
      " [7] \"23128-0.0\" \"137-0.0\"   \"23127-0.0\" \"23112-0.0\" \"23116-0.0\" \"49-0.0\"   \n",
      "[13] \"135-0.0\"   \"21002-0.0\" \"23099-0.0\" \"23119-0.0\" \"23123-0.0\" \"20256-0.0\"\n",
      "[19] \"23098-0.0\" \"3063-0.0\"  \"20257-0.0\" \"26414-0.0\" \"3062-0.0\"  \"26412-0.0\"\n",
      "[25] \"189-0.0\"   \"4080-0.0\"  \"23111-0.0\" \"23115-0.0\" \"26410-0.0\" \"26411-0.0\"\n",
      "[31] \"22009-0.1\"\n"
     ]
    }
   ],
   "source": [
    "print(names(new_data[1,c(11,5,51,63,80,84,88,15,87,72,76,6,14,52,62,79,83,48,61,39,  49 ,123,38 ,121,16,42,71,75,119,120,127)]))"
   ]
  },
  {
   "cell_type": "markdown",
   "metadata": {},
   "source": [
    "1. Pulse rate, automated reading\n",
    "2. Waist circumference\n",
    "3. Body mass index (BMI)\n",
    "4. Whole body fat mass\n",
    "5. Arm fat mass (right)\n",
    "6. Arm fat mass (left)\n",
    "\n",
    "\n",
    "7. Trunk fat mass\n",
    "8. Number of treatments/medications taken\n",
    "9. Trunk fat percentage\n",
    "10. Leg fat mass (right)\n",
    "11. Leg fat mass (left)\n",
    "12. Hip circumference\n",
    "\n",
    "\n",
    "13. Number of self-reported non-cancer illnesses\n",
    "14. Weight (52,21002-0.0)\n",
    "15. Body fat percentage\n",
    "16. Arm fat percentage (right)\n",
    "17. Arm fat percentage (left) (83)\n",
    "18. Forced expiratory volume in 1-second (FEV1) Z-score\n",
    "\n",
    "\n",
    "19. Weight (61, 23098-0.0)\n",
    "20. Forced expiratory volume in 1-second (FEV1)\n",
    "21. Forced vital capacity (FVC) Z-score\n",
    "22. Education score (England)\n",
    "23. Forced vital capacity (FVC)\n",
    "24. Employment score (England)\n",
    "\n",
    "\n",
    "25. Townsend deprivation index at recruitment\n",
    "26. Systolic blood pressure, automated reading\n",
    "27. Leg fat percentage (right)\n",
    "28. Leg fat percentage (left)\n",
    "29. Index of Multiple Deprivation (England)\n",
    "30. Income score (England)\n",
    "31. Genetic principal components\n",
    "\n",
    "\n"
   ]
  },
  {
   "cell_type": "code",
   "execution_count": null,
   "metadata": {},
   "outputs": [],
   "source": []
  },
  {
   "cell_type": "code",
   "execution_count": 51,
   "metadata": {},
   "outputs": [],
   "source": [
    "select_beta_data=new_data[,c(11,5,51,63,80,84,88,15,87,72,76,6,14,52,62,79,83,48,61,39,  49 ,123,38 ,121,16,42,71,75,119,120,127,159)]"
   ]
  },
  {
   "cell_type": "code",
   "execution_count": 53,
   "metadata": {},
   "outputs": [],
   "source": [
    "select_beta_data_scale=scale_data[,c(11,5,51,63,80,84,88,15,87,72,76,6,14,52,62,79,83,48,61,39,  49 ,123,38 ,121,16,42,71,75,119,120,127,159)]"
   ]
  },
  {
   "cell_type": "code",
   "execution_count": 54,
   "metadata": {},
   "outputs": [],
   "source": [
    "#fwrite(select_beta_data,\"select_beta.csv\")"
   ]
  },
  {
   "cell_type": "code",
   "execution_count": 55,
   "metadata": {},
   "outputs": [],
   "source": [
    "#fwrite(select_beta_data_scale,\"select_beta_scale.csv\")"
   ]
  },
  {
   "cell_type": "code",
   "execution_count": null,
   "metadata": {},
   "outputs": [],
   "source": []
  },
  {
   "cell_type": "code",
   "execution_count": 112,
   "metadata": {},
   "outputs": [],
   "source": [
    "test=lm(data=select_beta_data_scale,formula=count~.)"
   ]
  },
  {
   "cell_type": "code",
   "execution_count": 114,
   "metadata": {},
   "outputs": [
    {
     "data": {
      "text/plain": [
       "\n",
       "Call:\n",
       "lm(formula = count ~ ., data = select_beta_data_scale)\n",
       "\n",
       "Residuals:\n",
       "    Min      1Q  Median      3Q     Max \n",
       " -4.067  -0.548  -0.094   0.434 180.387 \n",
       "\n",
       "Coefficients:\n",
       "              Estimate Std. Error t value Pr(>|t|)    \n",
       "(Intercept)  3.383e-16  1.391e-03   0.000 1.000000    \n",
       "`102-0.0`    1.225e-01  1.435e-03  85.374  < 2e-16 ***\n",
       "`48-0.0`     1.751e-01  3.515e-03  49.811  < 2e-16 ***\n",
       "`21001-0.0`  1.673e-01  5.101e-03  32.787  < 2e-16 ***\n",
       "`23100-0.0` -2.007e-02  1.869e-02  -1.074 0.282817    \n",
       "`23120-0.0` -1.157e-02  1.758e-02  -0.658 0.510716    \n",
       "`23124-0.0`  1.071e-02  1.663e-02   0.644 0.519641    \n",
       "`23128-0.0`  1.751e-01  1.625e-02  10.774  < 2e-16 ***\n",
       "`137-0.0`    4.463e-02  1.793e-03  24.897  < 2e-16 ***\n",
       "`23127-0.0` -7.359e-02  1.498e-02  -4.913 8.98e-07 ***\n",
       "`23112-0.0`  6.934e-02  2.646e-02   2.621 0.008778 ** \n",
       "`23116-0.0`  3.325e-02  2.746e-02   1.211 0.225865    \n",
       "`49-0.0`    -9.443e-02  3.273e-03 -28.854  < 2e-16 ***\n",
       "`135-0.0`    1.662e-02  1.773e-03   9.371  < 2e-16 ***\n",
       "`21002-0.0` -1.411e-01  1.118e-02 -12.615  < 2e-16 ***\n",
       "`23099-0.0`  1.583e-02  2.230e-02   0.710 0.477807    \n",
       "`23119-0.0`  9.955e-02  1.354e-02   7.350 1.98e-13 ***\n",
       "`23123-0.0` -7.694e-02  1.450e-02  -5.305 1.13e-07 ***\n",
       "`20256-0.0`  9.602e-02  3.901e-03  24.618  < 2e-16 ***\n",
       "`23098-0.0` -1.615e-01  1.196e-02 -13.504  < 2e-16 ***\n",
       "`3063-0.0`  -1.347e-02  4.875e-03  -2.763 0.005728 ** \n",
       "`20257-0.0` -4.029e-02  3.618e-03 -11.136  < 2e-16 ***\n",
       "`26414-0.0`  3.650e-02  2.635e-03  13.856  < 2e-16 ***\n",
       "`3062-0.0`   1.634e-02  4.507e-03   3.625 0.000289 ***\n",
       "`26412-0.0` -1.330e-03  3.998e-03  -0.333 0.739440    \n",
       "`189-0.0`    2.960e-02  1.960e-03  15.104  < 2e-16 ***\n",
       "`4080-0.0`   7.572e-03  1.467e-03   5.163 2.43e-07 ***\n",
       "`23111-0.0` -6.362e-03  2.331e-02  -0.273 0.784929    \n",
       "`23115-0.0` -1.192e-01  2.442e-02  -4.882 1.05e-06 ***\n",
       "`26410-0.0` -5.872e-02  6.438e-03  -9.122  < 2e-16 ***\n",
       "`26411-0.0`  4.958e-02  5.197e-03   9.540  < 2e-16 ***\n",
       "`22009-0.1` -7.843e-02  1.478e-03 -53.052  < 2e-16 ***\n",
       "---\n",
       "Signif. codes:  0 ‘***’ 0.001 ‘**’ 0.01 ‘*’ 0.05 ‘.’ 0.1 ‘ ’ 1\n",
       "\n",
       "Residual standard error: 0.9616 on 478142 degrees of freedom\n",
       "Multiple R-squared:  0.07546,\tAdjusted R-squared:  0.0754 \n",
       "F-statistic:  1259 on 31 and 478142 DF,  p-value: < 2.2e-16\n"
      ]
     },
     "metadata": {},
     "output_type": "display_data"
    }
   ],
   "source": [
    "options(scipen=1)\n",
    "summary(test)"
   ]
  },
  {
   "cell_type": "code",
   "execution_count": 117,
   "metadata": {},
   "outputs": [],
   "source": [
    "options(scipen=999)\n",
    "f_test=anova(test)\n",
    "f_test=as.data.frame(f_test)"
   ]
  },
  {
   "cell_type": "code",
   "execution_count": 118,
   "metadata": {
    "scrolled": true
   },
   "outputs": [
    {
     "data": {
      "text/html": [
       "<table>\n",
       "<caption>A data.frame: 32 × 4</caption>\n",
       "<thead>\n",
       "\t<tr><th></th><th scope=col>Df</th><th scope=col>Sum Sq</th><th scope=col>Mean Sq</th><th scope=col>F value</th></tr>\n",
       "\t<tr><th></th><th scope=col>&lt;int&gt;</th><th scope=col>&lt;dbl&gt;</th><th scope=col>&lt;dbl&gt;</th><th scope=col>&lt;dbl&gt;</th></tr>\n",
       "</thead>\n",
       "<tbody>\n",
       "\t<tr><th scope=row>`102-0.0`</th><td>     1</td><td> 12654.4488663</td><td>12654.4488663</td><td>13686.3909711</td></tr>\n",
       "\t<tr><th scope=row>`48-0.0`</th><td>     1</td><td>  9031.9191963</td><td> 9031.9191963</td><td> 9768.4520793</td></tr>\n",
       "\t<tr><th scope=row>`137-0.0`</th><td>     1</td><td>  2985.3887244</td><td> 2985.3887244</td><td> 3228.8405221</td></tr>\n",
       "\t<tr><th scope=row>`22009-0.1`</th><td>     1</td><td>  2602.2552355</td><td> 2602.2552355</td><td> 2814.4633509</td></tr>\n",
       "\t<tr><th scope=row>`20256-0.0`</th><td>     1</td><td>  1941.0927733</td><td> 1941.0927733</td><td> 2099.3845633</td></tr>\n",
       "\t<tr><th scope=row>`49-0.0`</th><td>     1</td><td>  1430.6748773</td><td> 1430.6748773</td><td> 1547.3432253</td></tr>\n",
       "\t<tr><th scope=row>`23127-0.0`</th><td>     1</td><td>  1338.0725460</td><td> 1338.0725460</td><td> 1447.1893802</td></tr>\n",
       "\t<tr><th scope=row>`21002-0.0`</th><td>     1</td><td>  1329.3285213</td><td> 1329.3285213</td><td> 1437.7322998</td></tr>\n",
       "\t<tr><th scope=row>`26414-0.0`</th><td>     1</td><td>   566.7515346</td><td>  566.7515346</td><td>  612.9688593</td></tr>\n",
       "\t<tr><th scope=row>`21001-0.0`</th><td>     1</td><td>   551.1200227</td><td>  551.1200227</td><td>  596.0626324</td></tr>\n",
       "\t<tr><th scope=row>`23128-0.0`</th><td>     1</td><td>   322.4948933</td><td>  322.4948933</td><td>  348.7936332</td></tr>\n",
       "\t<tr><th scope=row>`20257-0.0`</th><td>     1</td><td>   291.2813020</td><td>  291.2813020</td><td>  315.0346431</td></tr>\n",
       "\t<tr><th scope=row>`135-0.0`</th><td>     1</td><td>   206.7546586</td><td>  206.7546586</td><td>  223.6150403</td></tr>\n",
       "\t<tr><th scope=row>`23098-0.0`</th><td>     1</td><td>   146.5354897</td><td>  146.5354897</td><td>  158.4851323</td></tr>\n",
       "\t<tr><th scope=row>`26410-0.0`</th><td>     1</td><td>   130.0835758</td><td>  130.0835758</td><td>  140.6916015</td></tr>\n",
       "\t<tr><th scope=row>`23116-0.0`</th><td>     1</td><td>   105.3556079</td><td>  105.3556079</td><td>  113.9471229</td></tr>\n",
       "\t<tr><th scope=row>`3063-0.0`</th><td>     1</td><td>    86.3511380</td><td>   86.3511380</td><td>   93.3928808</td></tr>\n",
       "\t<tr><th scope=row>`23123-0.0`</th><td>     1</td><td>    52.7793136</td><td>   52.7793136</td><td>   57.0833490</td></tr>\n",
       "\t<tr><th scope=row>`23112-0.0`</th><td>     1</td><td>    46.2834446</td><td>   46.2834446</td><td>   50.0577563</td></tr>\n",
       "\t<tr><th scope=row>`23099-0.0`</th><td>     1</td><td>    46.1905942</td><td>   46.1905942</td><td>   49.9573342</td></tr>\n",
       "\t<tr><th scope=row>`189-0.0`</th><td>     1</td><td>    42.7906613</td><td>   42.7906613</td><td>   46.2801444</td></tr>\n",
       "\t<tr><th scope=row>`4080-0.0`</th><td>     1</td><td>    38.2243433</td><td>   38.2243433</td><td>   41.3414534</td></tr>\n",
       "\t<tr><th scope=row>`3062-0.0`</th><td>     1</td><td>    34.7642377</td><td>   34.7642377</td><td>   37.5991838</td></tr>\n",
       "\t<tr><th scope=row>`23111-0.0`</th><td>     1</td><td>    34.6320525</td><td>   34.6320525</td><td>   37.4562192</td></tr>\n",
       "\t<tr><th scope=row>`23124-0.0`</th><td>     1</td><td>    24.3751865</td><td>   24.3751865</td><td>   26.3629287</td></tr>\n",
       "\t<tr><th scope=row>`23115-0.0`</th><td>     1</td><td>    18.6455665</td><td>   18.6455665</td><td>   20.1660709</td></tr>\n",
       "\t<tr><th scope=row>`23120-0.0`</th><td>     1</td><td>     7.9736755</td><td>    7.9736755</td><td>    8.6239110</td></tr>\n",
       "\t<tr><th scope=row>`26411-0.0`</th><td>     1</td><td>     7.7375625</td><td>    7.7375625</td><td>    8.3685435</td></tr>\n",
       "\t<tr><th scope=row>`23100-0.0`</th><td>     1</td><td>     5.0834707</td><td>    5.0834707</td><td>    5.4980164</td></tr>\n",
       "\t<tr><th scope=row>`23119-0.0`</th><td>     1</td><td>     2.3985634</td><td>    2.3985634</td><td>    2.5941609</td></tr>\n",
       "\t<tr><th scope=row>`26412-0.0`</th><td>     1</td><td>     0.7078204</td><td>    0.7078204</td><td>    0.7655416</td></tr>\n",
       "\t<tr><th scope=row>Residuals</th><td>478142</td><td>442090.5045441</td><td>    0.9246009</td><td>           NA</td></tr>\n",
       "</tbody>\n",
       "</table>\n"
      ],
      "text/latex": [
       "A data.frame: 32 × 4\n",
       "\\begin{tabular}{r|llll}\n",
       "  & Df & Sum Sq & Mean Sq & F value\\\\\n",
       "  & <int> & <dbl> & <dbl> & <dbl>\\\\\n",
       "\\hline\n",
       "\t`102-0.0` &      1 &  12654.4488663 & 12654.4488663 & 13686.3909711\\\\\n",
       "\t`48-0.0` &      1 &   9031.9191963 &  9031.9191963 &  9768.4520793\\\\\n",
       "\t`137-0.0` &      1 &   2985.3887244 &  2985.3887244 &  3228.8405221\\\\\n",
       "\t`22009-0.1` &      1 &   2602.2552355 &  2602.2552355 &  2814.4633509\\\\\n",
       "\t`20256-0.0` &      1 &   1941.0927733 &  1941.0927733 &  2099.3845633\\\\\n",
       "\t`49-0.0` &      1 &   1430.6748773 &  1430.6748773 &  1547.3432253\\\\\n",
       "\t`23127-0.0` &      1 &   1338.0725460 &  1338.0725460 &  1447.1893802\\\\\n",
       "\t`21002-0.0` &      1 &   1329.3285213 &  1329.3285213 &  1437.7322998\\\\\n",
       "\t`26414-0.0` &      1 &    566.7515346 &   566.7515346 &   612.9688593\\\\\n",
       "\t`21001-0.0` &      1 &    551.1200227 &   551.1200227 &   596.0626324\\\\\n",
       "\t`23128-0.0` &      1 &    322.4948933 &   322.4948933 &   348.7936332\\\\\n",
       "\t`20257-0.0` &      1 &    291.2813020 &   291.2813020 &   315.0346431\\\\\n",
       "\t`135-0.0` &      1 &    206.7546586 &   206.7546586 &   223.6150403\\\\\n",
       "\t`23098-0.0` &      1 &    146.5354897 &   146.5354897 &   158.4851323\\\\\n",
       "\t`26410-0.0` &      1 &    130.0835758 &   130.0835758 &   140.6916015\\\\\n",
       "\t`23116-0.0` &      1 &    105.3556079 &   105.3556079 &   113.9471229\\\\\n",
       "\t`3063-0.0` &      1 &     86.3511380 &    86.3511380 &    93.3928808\\\\\n",
       "\t`23123-0.0` &      1 &     52.7793136 &    52.7793136 &    57.0833490\\\\\n",
       "\t`23112-0.0` &      1 &     46.2834446 &    46.2834446 &    50.0577563\\\\\n",
       "\t`23099-0.0` &      1 &     46.1905942 &    46.1905942 &    49.9573342\\\\\n",
       "\t`189-0.0` &      1 &     42.7906613 &    42.7906613 &    46.2801444\\\\\n",
       "\t`4080-0.0` &      1 &     38.2243433 &    38.2243433 &    41.3414534\\\\\n",
       "\t`3062-0.0` &      1 &     34.7642377 &    34.7642377 &    37.5991838\\\\\n",
       "\t`23111-0.0` &      1 &     34.6320525 &    34.6320525 &    37.4562192\\\\\n",
       "\t`23124-0.0` &      1 &     24.3751865 &    24.3751865 &    26.3629287\\\\\n",
       "\t`23115-0.0` &      1 &     18.6455665 &    18.6455665 &    20.1660709\\\\\n",
       "\t`23120-0.0` &      1 &      7.9736755 &     7.9736755 &     8.6239110\\\\\n",
       "\t`26411-0.0` &      1 &      7.7375625 &     7.7375625 &     8.3685435\\\\\n",
       "\t`23100-0.0` &      1 &      5.0834707 &     5.0834707 &     5.4980164\\\\\n",
       "\t`23119-0.0` &      1 &      2.3985634 &     2.3985634 &     2.5941609\\\\\n",
       "\t`26412-0.0` &      1 &      0.7078204 &     0.7078204 &     0.7655416\\\\\n",
       "\tResiduals & 478142 & 442090.5045441 &     0.9246009 &            NA\\\\\n",
       "\\end{tabular}\n"
      ],
      "text/markdown": [
       "\n",
       "A data.frame: 32 × 4\n",
       "\n",
       "| <!--/--> | Df &lt;int&gt; | Sum Sq &lt;dbl&gt; | Mean Sq &lt;dbl&gt; | F value &lt;dbl&gt; |\n",
       "|---|---|---|---|---|\n",
       "| `102-0.0` |      1 |  12654.4488663 | 12654.4488663 | 13686.3909711 |\n",
       "| `48-0.0` |      1 |   9031.9191963 |  9031.9191963 |  9768.4520793 |\n",
       "| `137-0.0` |      1 |   2985.3887244 |  2985.3887244 |  3228.8405221 |\n",
       "| `22009-0.1` |      1 |   2602.2552355 |  2602.2552355 |  2814.4633509 |\n",
       "| `20256-0.0` |      1 |   1941.0927733 |  1941.0927733 |  2099.3845633 |\n",
       "| `49-0.0` |      1 |   1430.6748773 |  1430.6748773 |  1547.3432253 |\n",
       "| `23127-0.0` |      1 |   1338.0725460 |  1338.0725460 |  1447.1893802 |\n",
       "| `21002-0.0` |      1 |   1329.3285213 |  1329.3285213 |  1437.7322998 |\n",
       "| `26414-0.0` |      1 |    566.7515346 |   566.7515346 |   612.9688593 |\n",
       "| `21001-0.0` |      1 |    551.1200227 |   551.1200227 |   596.0626324 |\n",
       "| `23128-0.0` |      1 |    322.4948933 |   322.4948933 |   348.7936332 |\n",
       "| `20257-0.0` |      1 |    291.2813020 |   291.2813020 |   315.0346431 |\n",
       "| `135-0.0` |      1 |    206.7546586 |   206.7546586 |   223.6150403 |\n",
       "| `23098-0.0` |      1 |    146.5354897 |   146.5354897 |   158.4851323 |\n",
       "| `26410-0.0` |      1 |    130.0835758 |   130.0835758 |   140.6916015 |\n",
       "| `23116-0.0` |      1 |    105.3556079 |   105.3556079 |   113.9471229 |\n",
       "| `3063-0.0` |      1 |     86.3511380 |    86.3511380 |    93.3928808 |\n",
       "| `23123-0.0` |      1 |     52.7793136 |    52.7793136 |    57.0833490 |\n",
       "| `23112-0.0` |      1 |     46.2834446 |    46.2834446 |    50.0577563 |\n",
       "| `23099-0.0` |      1 |     46.1905942 |    46.1905942 |    49.9573342 |\n",
       "| `189-0.0` |      1 |     42.7906613 |    42.7906613 |    46.2801444 |\n",
       "| `4080-0.0` |      1 |     38.2243433 |    38.2243433 |    41.3414534 |\n",
       "| `3062-0.0` |      1 |     34.7642377 |    34.7642377 |    37.5991838 |\n",
       "| `23111-0.0` |      1 |     34.6320525 |    34.6320525 |    37.4562192 |\n",
       "| `23124-0.0` |      1 |     24.3751865 |    24.3751865 |    26.3629287 |\n",
       "| `23115-0.0` |      1 |     18.6455665 |    18.6455665 |    20.1660709 |\n",
       "| `23120-0.0` |      1 |      7.9736755 |     7.9736755 |     8.6239110 |\n",
       "| `26411-0.0` |      1 |      7.7375625 |     7.7375625 |     8.3685435 |\n",
       "| `23100-0.0` |      1 |      5.0834707 |     5.0834707 |     5.4980164 |\n",
       "| `23119-0.0` |      1 |      2.3985634 |     2.3985634 |     2.5941609 |\n",
       "| `26412-0.0` |      1 |      0.7078204 |     0.7078204 |     0.7655416 |\n",
       "| Residuals | 478142 | 442090.5045441 |     0.9246009 |            NA |\n",
       "\n"
      ],
      "text/plain": [
       "            Df     Sum Sq         Mean Sq       F value      \n",
       "`102-0.0`        1  12654.4488663 12654.4488663 13686.3909711\n",
       "`48-0.0`         1   9031.9191963  9031.9191963  9768.4520793\n",
       "`137-0.0`        1   2985.3887244  2985.3887244  3228.8405221\n",
       "`22009-0.1`      1   2602.2552355  2602.2552355  2814.4633509\n",
       "`20256-0.0`      1   1941.0927733  1941.0927733  2099.3845633\n",
       "`49-0.0`         1   1430.6748773  1430.6748773  1547.3432253\n",
       "`23127-0.0`      1   1338.0725460  1338.0725460  1447.1893802\n",
       "`21002-0.0`      1   1329.3285213  1329.3285213  1437.7322998\n",
       "`26414-0.0`      1    566.7515346   566.7515346   612.9688593\n",
       "`21001-0.0`      1    551.1200227   551.1200227   596.0626324\n",
       "`23128-0.0`      1    322.4948933   322.4948933   348.7936332\n",
       "`20257-0.0`      1    291.2813020   291.2813020   315.0346431\n",
       "`135-0.0`        1    206.7546586   206.7546586   223.6150403\n",
       "`23098-0.0`      1    146.5354897   146.5354897   158.4851323\n",
       "`26410-0.0`      1    130.0835758   130.0835758   140.6916015\n",
       "`23116-0.0`      1    105.3556079   105.3556079   113.9471229\n",
       "`3063-0.0`       1     86.3511380    86.3511380    93.3928808\n",
       "`23123-0.0`      1     52.7793136    52.7793136    57.0833490\n",
       "`23112-0.0`      1     46.2834446    46.2834446    50.0577563\n",
       "`23099-0.0`      1     46.1905942    46.1905942    49.9573342\n",
       "`189-0.0`        1     42.7906613    42.7906613    46.2801444\n",
       "`4080-0.0`       1     38.2243433    38.2243433    41.3414534\n",
       "`3062-0.0`       1     34.7642377    34.7642377    37.5991838\n",
       "`23111-0.0`      1     34.6320525    34.6320525    37.4562192\n",
       "`23124-0.0`      1     24.3751865    24.3751865    26.3629287\n",
       "`23115-0.0`      1     18.6455665    18.6455665    20.1660709\n",
       "`23120-0.0`      1      7.9736755     7.9736755     8.6239110\n",
       "`26411-0.0`      1      7.7375625     7.7375625     8.3685435\n",
       "`23100-0.0`      1      5.0834707     5.0834707     5.4980164\n",
       "`23119-0.0`      1      2.3985634     2.3985634     2.5941609\n",
       "`26412-0.0`      1      0.7078204     0.7078204     0.7655416\n",
       "Residuals   478142 442090.5045441     0.9246009            NA"
      ]
     },
     "metadata": {},
     "output_type": "display_data"
    }
   ],
   "source": [
    "f_test[order(f_test$`F value`,decreasing = T),1:4]"
   ]
  },
  {
   "cell_type": "code",
   "execution_count": 87,
   "metadata": {},
   "outputs": [
    {
     "data": {
      "text/html": [
       "<table>\n",
       "<caption>A matrix: 31 × 2 of type dbl</caption>\n",
       "<thead>\n",
       "\t<tr><th></th><th scope=col>102-0.0</th><th scope=col>48-0.0</th></tr>\n",
       "</thead>\n",
       "<tbody>\n",
       "\t<tr><th scope=row>102-0.0</th><td> 1.00000000</td><td> 0.13162061</td></tr>\n",
       "\t<tr><th scope=row>48-0.0</th><td> 0.13162061</td><td> 1.00000000</td></tr>\n",
       "\t<tr><th scope=row>21001-0.0</th><td> 0.15216471</td><td> 0.81170559</td></tr>\n",
       "\t<tr><th scope=row>23100-0.0</th><td> 0.17194083</td><td> 0.64476254</td></tr>\n",
       "\t<tr><th scope=row>23120-0.0</th><td> 0.16332344</td><td> 0.62497560</td></tr>\n",
       "\t<tr><th scope=row>23124-0.0</th><td> 0.16218407</td><td> 0.62284610</td></tr>\n",
       "\t<tr><th scope=row>23128-0.0</th><td> 0.14823114</td><td> 0.76214300</td></tr>\n",
       "\t<tr><th scope=row>137-0.0</th><td> 0.09639505</td><td> 0.21283252</td></tr>\n",
       "\t<tr><th scope=row>23127-0.0</th><td> 0.16433682</td><td> 0.42621473</td></tr>\n",
       "\t<tr><th scope=row>23112-0.0</th><td> 0.17635691</td><td> 0.38088347</td></tr>\n",
       "\t<tr><th scope=row>23116-0.0</th><td> 0.17504272</td><td> 0.37026168</td></tr>\n",
       "\t<tr><th scope=row>49-0.0</th><td> 0.11439534</td><td> 0.73361530</td></tr>\n",
       "\t<tr><th scope=row>135-0.0</th><td> 0.08641359</td><td> 0.20949143</td></tr>\n",
       "\t<tr><th scope=row>21002-0.0</th><td> 0.07960943</td><td> 0.88480686</td></tr>\n",
       "\t<tr><th scope=row>23099-0.0</th><td> 0.17200241</td><td> 0.23526891</td></tr>\n",
       "\t<tr><th scope=row>23119-0.0</th><td> 0.16395084</td><td> 0.22377668</td></tr>\n",
       "\t<tr><th scope=row>23123-0.0</th><td> 0.16503652</td><td> 0.22765896</td></tr>\n",
       "\t<tr><th scope=row>20256-0.0</th><td> 0.05050515</td><td> 0.14140696</td></tr>\n",
       "\t<tr><th scope=row>23098-0.0</th><td> 0.07880358</td><td> 0.87625524</td></tr>\n",
       "\t<tr><th scope=row>3063-0.0</th><td>-0.10970507</td><td> 0.14499145</td></tr>\n",
       "\t<tr><th scope=row>20257-0.0</th><td> 0.05384001</td><td> 0.19417252</td></tr>\n",
       "\t<tr><th scope=row>26414-0.0</th><td> 0.06334238</td><td> 0.12288791</td></tr>\n",
       "\t<tr><th scope=row>3062-0.0</th><td>-0.10892858</td><td> 0.14200939</td></tr>\n",
       "\t<tr><th scope=row>26412-0.0</th><td> 0.06287510</td><td> 0.09924359</td></tr>\n",
       "\t<tr><th scope=row>189-0.0</th><td> 0.06188270</td><td> 0.08512471</td></tr>\n",
       "\t<tr><th scope=row>4080-0.0</th><td> 0.11251212</td><td> 0.21312401</td></tr>\n",
       "\t<tr><th scope=row>23111-0.0</th><td> 0.15639751</td><td>-0.02236759</td></tr>\n",
       "\t<tr><th scope=row>23115-0.0</th><td> 0.15317565</td><td>-0.04059074</td></tr>\n",
       "\t<tr><th scope=row>26410-0.0</th><td> 0.06482546</td><td> 0.10000013</td></tr>\n",
       "\t<tr><th scope=row>26411-0.0</th><td> 0.06374897</td><td> 0.09942725</td></tr>\n",
       "\t<tr><th scope=row>22009-0.1</th><td> 0.01738716</td><td> 0.01465011</td></tr>\n",
       "</tbody>\n",
       "</table>\n"
      ],
      "text/latex": [
       "A matrix: 31 × 2 of type dbl\n",
       "\\begin{tabular}{r|ll}\n",
       "  & 102-0.0 & 48-0.0\\\\\n",
       "\\hline\n",
       "\t102-0.0 &  1.00000000 &  0.13162061\\\\\n",
       "\t48-0.0 &  0.13162061 &  1.00000000\\\\\n",
       "\t21001-0.0 &  0.15216471 &  0.81170559\\\\\n",
       "\t23100-0.0 &  0.17194083 &  0.64476254\\\\\n",
       "\t23120-0.0 &  0.16332344 &  0.62497560\\\\\n",
       "\t23124-0.0 &  0.16218407 &  0.62284610\\\\\n",
       "\t23128-0.0 &  0.14823114 &  0.76214300\\\\\n",
       "\t137-0.0 &  0.09639505 &  0.21283252\\\\\n",
       "\t23127-0.0 &  0.16433682 &  0.42621473\\\\\n",
       "\t23112-0.0 &  0.17635691 &  0.38088347\\\\\n",
       "\t23116-0.0 &  0.17504272 &  0.37026168\\\\\n",
       "\t49-0.0 &  0.11439534 &  0.73361530\\\\\n",
       "\t135-0.0 &  0.08641359 &  0.20949143\\\\\n",
       "\t21002-0.0 &  0.07960943 &  0.88480686\\\\\n",
       "\t23099-0.0 &  0.17200241 &  0.23526891\\\\\n",
       "\t23119-0.0 &  0.16395084 &  0.22377668\\\\\n",
       "\t23123-0.0 &  0.16503652 &  0.22765896\\\\\n",
       "\t20256-0.0 &  0.05050515 &  0.14140696\\\\\n",
       "\t23098-0.0 &  0.07880358 &  0.87625524\\\\\n",
       "\t3063-0.0 & -0.10970507 &  0.14499145\\\\\n",
       "\t20257-0.0 &  0.05384001 &  0.19417252\\\\\n",
       "\t26414-0.0 &  0.06334238 &  0.12288791\\\\\n",
       "\t3062-0.0 & -0.10892858 &  0.14200939\\\\\n",
       "\t26412-0.0 &  0.06287510 &  0.09924359\\\\\n",
       "\t189-0.0 &  0.06188270 &  0.08512471\\\\\n",
       "\t4080-0.0 &  0.11251212 &  0.21312401\\\\\n",
       "\t23111-0.0 &  0.15639751 & -0.02236759\\\\\n",
       "\t23115-0.0 &  0.15317565 & -0.04059074\\\\\n",
       "\t26410-0.0 &  0.06482546 &  0.10000013\\\\\n",
       "\t26411-0.0 &  0.06374897 &  0.09942725\\\\\n",
       "\t22009-0.1 &  0.01738716 &  0.01465011\\\\\n",
       "\\end{tabular}\n"
      ],
      "text/markdown": [
       "\n",
       "A matrix: 31 × 2 of type dbl\n",
       "\n",
       "| <!--/--> | 102-0.0 | 48-0.0 |\n",
       "|---|---|---|\n",
       "| 102-0.0 |  1.00000000 |  0.13162061 |\n",
       "| 48-0.0 |  0.13162061 |  1.00000000 |\n",
       "| 21001-0.0 |  0.15216471 |  0.81170559 |\n",
       "| 23100-0.0 |  0.17194083 |  0.64476254 |\n",
       "| 23120-0.0 |  0.16332344 |  0.62497560 |\n",
       "| 23124-0.0 |  0.16218407 |  0.62284610 |\n",
       "| 23128-0.0 |  0.14823114 |  0.76214300 |\n",
       "| 137-0.0 |  0.09639505 |  0.21283252 |\n",
       "| 23127-0.0 |  0.16433682 |  0.42621473 |\n",
       "| 23112-0.0 |  0.17635691 |  0.38088347 |\n",
       "| 23116-0.0 |  0.17504272 |  0.37026168 |\n",
       "| 49-0.0 |  0.11439534 |  0.73361530 |\n",
       "| 135-0.0 |  0.08641359 |  0.20949143 |\n",
       "| 21002-0.0 |  0.07960943 |  0.88480686 |\n",
       "| 23099-0.0 |  0.17200241 |  0.23526891 |\n",
       "| 23119-0.0 |  0.16395084 |  0.22377668 |\n",
       "| 23123-0.0 |  0.16503652 |  0.22765896 |\n",
       "| 20256-0.0 |  0.05050515 |  0.14140696 |\n",
       "| 23098-0.0 |  0.07880358 |  0.87625524 |\n",
       "| 3063-0.0 | -0.10970507 |  0.14499145 |\n",
       "| 20257-0.0 |  0.05384001 |  0.19417252 |\n",
       "| 26414-0.0 |  0.06334238 |  0.12288791 |\n",
       "| 3062-0.0 | -0.10892858 |  0.14200939 |\n",
       "| 26412-0.0 |  0.06287510 |  0.09924359 |\n",
       "| 189-0.0 |  0.06188270 |  0.08512471 |\n",
       "| 4080-0.0 |  0.11251212 |  0.21312401 |\n",
       "| 23111-0.0 |  0.15639751 | -0.02236759 |\n",
       "| 23115-0.0 |  0.15317565 | -0.04059074 |\n",
       "| 26410-0.0 |  0.06482546 |  0.10000013 |\n",
       "| 26411-0.0 |  0.06374897 |  0.09942725 |\n",
       "| 22009-0.1 |  0.01738716 |  0.01465011 |\n",
       "\n"
      ],
      "text/plain": [
       "          102-0.0     48-0.0     \n",
       "102-0.0    1.00000000  0.13162061\n",
       "48-0.0     0.13162061  1.00000000\n",
       "21001-0.0  0.15216471  0.81170559\n",
       "23100-0.0  0.17194083  0.64476254\n",
       "23120-0.0  0.16332344  0.62497560\n",
       "23124-0.0  0.16218407  0.62284610\n",
       "23128-0.0  0.14823114  0.76214300\n",
       "137-0.0    0.09639505  0.21283252\n",
       "23127-0.0  0.16433682  0.42621473\n",
       "23112-0.0  0.17635691  0.38088347\n",
       "23116-0.0  0.17504272  0.37026168\n",
       "49-0.0     0.11439534  0.73361530\n",
       "135-0.0    0.08641359  0.20949143\n",
       "21002-0.0  0.07960943  0.88480686\n",
       "23099-0.0  0.17200241  0.23526891\n",
       "23119-0.0  0.16395084  0.22377668\n",
       "23123-0.0  0.16503652  0.22765896\n",
       "20256-0.0  0.05050515  0.14140696\n",
       "23098-0.0  0.07880358  0.87625524\n",
       "3063-0.0  -0.10970507  0.14499145\n",
       "20257-0.0  0.05384001  0.19417252\n",
       "26414-0.0  0.06334238  0.12288791\n",
       "3062-0.0  -0.10892858  0.14200939\n",
       "26412-0.0  0.06287510  0.09924359\n",
       "189-0.0    0.06188270  0.08512471\n",
       "4080-0.0   0.11251212  0.21312401\n",
       "23111-0.0  0.15639751 -0.02236759\n",
       "23115-0.0  0.15317565 -0.04059074\n",
       "26410-0.0  0.06482546  0.10000013\n",
       "26411-0.0  0.06374897  0.09942725\n",
       "22009-0.1  0.01738716  0.01465011"
      ]
     },
     "metadata": {},
     "output_type": "display_data"
    }
   ],
   "source": [
    "cor(select_beta_data)[1:31,1:2]"
   ]
  },
  {
   "cell_type": "code",
   "execution_count": 119,
   "metadata": {},
   "outputs": [],
   "source": [
    "full_model=lm(data=scale_data,formula=count~.)"
   ]
  },
  {
   "cell_type": "code",
   "execution_count": 146,
   "metadata": {},
   "outputs": [
    {
     "data": {
      "text/plain": [
       "\n",
       "Call:\n",
       "lm(formula = count ~ ., data = scale_data)\n",
       "\n",
       "Residuals:\n",
       "    Min      1Q  Median      3Q     Max \n",
       " -3.940  -0.541  -0.090   0.432 180.429 \n",
       "\n",
       "Coefficients:\n",
       "                          Estimate            Std. Error t value\n",
       "(Intercept)   0.000000000000001151  0.001382808833556671   0.000\n",
       "eid          -0.002941696097145097  0.001383067503579167  -2.127\n",
       "`34-0.0`      0.414327204026891494  0.015569616463094604  26.611\n",
       "`46-0.0`      0.006121922478050597  0.003365868218289980   1.819\n",
       "`47-0.0`      0.020017736608018973  0.003348906232980684   5.977\n",
       "`48-0.0`      0.173811917534579724  0.003744963913829589  46.412\n",
       "`49-0.0`     -0.075022489856627642  0.003373715181555926 -22.237\n",
       "`50-0.0`     -0.128575068926043035  0.010898919136241903 -11.797\n",
       "`51-0.0`     -0.011669965408335594  0.002773934206742649  -4.207\n",
       "`92-0.0`     -0.003036690312336240  0.001493921819327089  -2.033\n",
       "`96-0.0`     -0.004096555537810118  0.001483615589632224  -2.761\n",
       "`102-0.0`     0.132181711102380112  0.001493015643655719  88.533\n",
       "`129-0.0`     0.000335919531454812  0.001923253196000697   0.175\n",
       "`130-0.0`    -0.002146421524224717  0.001611927452798330  -1.332\n",
       "`135-0.0`     0.013869330476559052  0.001785657018638656   7.767\n",
       "`137-0.0`     0.057565513159155715  0.001825200028940082  31.539\n",
       "`189-0.0`     0.027717326308186362  0.002147033004744061  12.910\n",
       "`699-0.0`    -0.005554543661042392  0.001544949698245114  -3.595\n",
       "`709-0.0`    -0.010502150088757002  0.001489879151419149  -7.049\n",
       "`874-0.0`     0.009239661847343811  0.002280443981258580   4.052\n",
       "`894-0.0`     0.009501390658103155  0.002161669083280992   4.395\n",
       "`1269-0.0`    0.000249147518205133  0.001402246363884420   0.178\n",
       "`1279-0.0`   -0.001269197253780897  0.001409878056472008  -0.900\n",
       "`1289-0.0`   -0.003114001832360298  0.001484239693191835  -2.098\n",
       "`1299-0.0`   -0.005088898683302457  0.001522368294714611  -3.343\n",
       "`1309-0.0`   -0.021899279613429402  0.001494590258574576 -14.652\n",
       "`1319-0.0`   -0.003114052827283335  0.001440381636148747  -2.162\n",
       "`1438-0.0`    0.013361061077906543  0.001479355202237497   9.032\n",
       "`1458-0.0`   -0.020902251258717256  0.001430894721834983 -14.608\n",
       "`1488-0.0`    0.013130882935250743  0.001407648308946907   9.328\n",
       "`1528-0.0`   -0.006767983251798207  0.001453334746336282  -4.657\n",
       "`1737-0.0`   -0.004415803382115882  0.001394289870493169  -3.167\n",
       "`1807-0.0`   -0.011470128968257486  0.001400557390169790  -8.190\n",
       "`2139-0.0`   -0.013295838967213291  0.001406726695114369  -9.452\n",
       "`2149-0.0`    0.003048088480467371  0.001387565741123334   2.197\n",
       "`2217-0.0`    0.011222309879364276  0.001411855478810733   7.949\n",
       "`2277-0.0`    0.002099662825932136  0.001388828532874290   1.512\n",
       "`3061-0.0`    0.006114773685446554  0.001435767811336226   4.259\n",
       "`3062-0.0`    0.031778908522404621  0.004574247921954746   6.947\n",
       "`3063-0.0`   -0.070995855520222168  0.005608534162749534 -12.659\n",
       "`3064-0.0`    0.004585001547526953  0.002174956596994373   2.108\n",
       "`4079-0.0`   -0.057939257200583467  0.002050375527535659 -28.258\n",
       "`4080-0.0`    0.054552297731282520  0.002050639575952208  26.603\n",
       "`20010-0.0`   0.001375142338889820  0.001443238954798950   0.953\n",
       "`20011-0.0`  -0.004485157114122842  0.001567374622242507  -2.862\n",
       "`20015-0.0`   0.018789812176158889  0.003255782177611816   5.771\n",
       "`20074-0.0`  -0.006449008169482211  0.005513674145023162  -1.170\n",
       "`20075-0.0`  -0.003436236931017432  0.007230779153495171  -0.475\n",
       "`20256-0.0`  -0.051378985490896950  0.011127798476039445  -4.617\n",
       "`20257-0.0`   0.066893743058165908  0.010055622575999353   6.652\n",
       "`20258-0.0`   0.059934172293366242  0.005395926913592265  11.107\n",
       "`21001-0.0`   0.023644550468420261  0.017005371058480594   1.390\n",
       "`21002-0.0`   0.023018275828097522  0.021209934768996117   1.085\n",
       "`21003-0.0`   0.675973992220929687  0.586728489607466375   1.152\n",
       "`21022-0.0`  -0.323049224732401108  0.586518420984540545  -0.551\n",
       "`22034-0.0`  -0.014769253827124023  0.004112292650307706  -3.591\n",
       "`22037-0.0`  -0.004512225081736497  0.002922714692927242  -1.544\n",
       "`22038-0.0`   0.001453112464290077  0.002710123679847690   0.536\n",
       "`22039-0.0`  -0.000734228717018547  0.001944574397542599  -0.378\n",
       "`22702-0.0`  -0.003709760422678215  0.005333031403159385  -0.696\n",
       "`22704-0.0`   0.000213831717095935  0.007114700296375961   0.030\n",
       "`23098-0.0`   0.044934367960954721  0.076942437150739618   0.584\n",
       "`23099-0.0`   0.029411644620350667  0.022274491512549462   1.320\n",
       "`23100-0.0`  -0.012229276724974212  0.019047419074989080  -0.642\n",
       "`23101-0.0`   0.020950325905971443  0.031605073449481311   0.663\n",
       "`23102-0.0`   0.007433489370554670  0.043198429802185662   0.172\n",
       "`23106-0.0`   0.057075137019297763  0.010126177664674803   5.636\n",
       "`23107-0.0`  -0.063598674089506785  0.011525622952801179  -5.518\n",
       "`23108-0.0`   0.077886867695200895  0.011132382561053960   6.996\n",
       "`23109-0.0`  -0.035317323491708172  0.008459530036103209  -4.175\n",
       "`23110-0.0`  -0.016539315574020497  0.009823490749037872  -1.684\n",
       "`23111-0.0`   0.102497860570522695  0.054020380802534122   1.897\n",
       "`23112-0.0`  -0.010408803195463631  0.033654932544588116  -0.309\n",
       "`23113-0.0`  -0.267165515611711257  0.067144031393941081  -3.979\n",
       "`23114-0.0`   0.162724165655225406  0.066931705859085935   2.431\n",
       "`23115-0.0`  -0.319616718232600017  0.053293243973311775  -5.997\n",
       "`23116-0.0`   0.126358963330333030  0.034269535154155831   3.687\n",
       "`23117-0.0`   0.027070758840239812  0.067577100374223639   0.401\n",
       "`23118-0.0`  -0.005994877700115211  0.067203470154898942  -0.089\n",
       "`23119-0.0`   0.082642756461992692  0.024769083406001379   3.337\n",
       "`23120-0.0`  -0.029007044682492149  0.017961282990078209  -1.615\n",
       "`23121-0.0`  -0.028377209176279849  0.027453792938194561  -1.034\n",
       "`23122-0.0`  -0.091555578938581156  0.027332603028433919  -3.350\n",
       "`23123-0.0`  -0.054392523158013392  0.026855821301482844  -2.025\n",
       "`23124-0.0`  -0.008503277636266434  0.018204575993661751  -0.467\n",
       "`23125-0.0`  -0.030765579200627394  0.017528669891379245  -1.755\n",
       "`23126-0.0`  -0.014169389086942551  0.019120045985305464  -0.741\n",
       "`23127-0.0`  -0.023062954855992752  0.016816264911287369  -1.371\n",
       "`23128-0.0`   0.069156974698034154  0.028204274487808993   2.452\n",
       "`23129-0.0`   0.057150404330197434  0.046887407368241277   1.219\n",
       "`23130-0.0`   0.028777182790991521  0.042330653010607143   0.680\n",
       "`24003-0.0`  -0.010890071823145143  0.006728275363674545  -1.619\n",
       "`24004-0.0`   0.003475558577284160  0.005309108778271662   0.655\n",
       "`24005-0.0`  -0.000187697425819567  0.004000763431642989  -0.047\n",
       "`24006-0.0`   0.003043182318599719  0.003325971517473684   0.915\n",
       "`24007-0.0`   0.000518916680261889  0.002609481082437829   0.199\n",
       "`24008-0.0`  -0.004907473744527256  0.004193767782660320  -1.170\n",
       "`24009-0.0`  -0.001451297219561513  0.001696499517070627  -0.855\n",
       "`24010-0.0`   0.000410386959594928  0.001617872018156260   0.254\n",
       "`24011-0.0`   0.010575487695061565  0.002532530128158428   4.176\n",
       "`24012-0.0`  -0.000711340796235908  0.001748405601590228  -0.407\n",
       "`24013-0.0`  -0.001143199418680770  0.002598683323006282  -0.440\n",
       "`24015-0.0`   0.002306561728919186  0.002784855531182869   0.828\n",
       "`24016-0.0`  -0.035367376053982956  0.014331493518287114  -2.468\n",
       "`24017-0.0`  -0.063393953951219786  0.013835859208972349  -4.582\n",
       "`24018-0.0`   0.105427627339221286  0.011798605245379970   8.936\n",
       "`24019-0.0`   0.003917120256207389  0.003314771850592496   1.182\n",
       "`24020-0.0`   4.289321952248969616  5.747542373143737393   0.746\n",
       "`24021-0.0`   1.854000250120475535  1.216169812299029651   1.524\n",
       "`24022-0.0`  -6.144138755074892266  5.719822635894727725  -1.074\n",
       "`24500-0.0`   0.031722171752407491  0.007235967231576496   4.384\n",
       "`24501-0.0`   0.023859285728835718  0.004729857899259963   5.044\n",
       "`24502-0.0`   0.011502882325992966  0.002193895150146536   5.243\n",
       "`24503-0.0`  -0.009536674417200871  0.006270361333188368  -1.521\n",
       "`24504-0.0`  -0.005652114223358400  0.004887249310017890  -1.157\n",
       "`24505-0.0`  -0.005324663726860346  0.002110223944302651  -2.523\n",
       "`24506-0.0`  -0.007680325562891640  0.004843680876197051  -1.586\n",
       "`24507-0.0`  -0.000443603807906476  0.003354745835675761  -0.132\n",
       "`24508-0.0`   0.003588429750847421  0.001917497319157466   1.871\n",
       "`26410-0.0`  -0.033437667653051888  0.014855156848219092  -2.251\n",
       "`26411-0.0`   0.023272182198325195  0.006464180574369643   3.600\n",
       "`26412-0.0`   0.004791601618177124  0.006731796773196026   0.712\n",
       "`26413-0.0`  -0.003714197128556413  0.003219180665328315  -1.154\n",
       "`26414-0.0`   0.032584314224451710  0.003725019377666262   8.747\n",
       "`26415-0.0`   0.000711287964522964  0.002371349730630277   0.300\n",
       "`26416-0.0`   0.002578751198731301  0.002448015187073470   1.053\n",
       "`26417-0.0`  -0.001933889842493026  0.002768275185328257  -0.699\n",
       "`22009-0.1`  -0.088394856860742027  0.001550104055796776 -57.025\n",
       "`22009-0.10` -0.002402785557603226  0.001400628018438991  -1.716\n",
       "`22009-0.11` -0.004108652431531340  0.001463991293980029  -2.806\n",
       "`22009-0.12` -0.006092927572718961  0.001406440682324386  -4.332\n",
       "`22009-0.13` -0.000992717656568488  0.001385125760034362  -0.717\n",
       "`22009-0.14` -0.001046028326607603  0.001534064734175426  -0.682\n",
       "`22009-0.15` -0.000306222218822124  0.001387934637917783  -0.221\n",
       "`22009-0.16` -0.001258475364687542  0.001399800951914867  -0.899\n",
       "`22009-0.17` -0.000818773734823204  0.001383569769522636  -0.592\n",
       "`22009-0.18`  0.000692991592285647  0.001428965602944759   0.485\n",
       "`22009-0.19`  0.001509929543561288  0.001384488740967445   1.091\n",
       "`22009-0.20`  0.000085404317011096  0.001394090217210422   0.061\n",
       "`22009-0.21` -0.001473178696172451  0.001389746916421583  -1.060\n",
       "`22009-0.22`  0.000077393801569193  0.001383841296907789   0.056\n",
       "`22009-0.23`  0.001270016060082683  0.001388305138582820   0.915\n",
       "`22009-0.24`  0.000142702563295492  0.001384292904750558   0.103\n",
       "`22009-0.25`  0.002068996054564598  0.001386951139121932   1.492\n",
       "`22009-0.26`  0.003460841445848375  0.001384942232705394   2.499\n",
       "`22009-0.27` -0.001510017125869492  0.001383773327746401  -1.091\n",
       "`22009-0.28` -0.003017189834734676  0.001384423409030217  -2.179\n",
       "`22009-0.29` -0.004418195137595069  0.001383532958067024  -3.193\n",
       "`22009-0.30` -0.000047112238373618  0.001385098989752381  -0.034\n",
       "`22009-0.31`  0.001009738958276908  0.001385002106714454   0.729\n",
       "`22009-0.32` -0.002134323800814280  0.001387884671953278  -1.538\n",
       "`22009-0.33` -0.000498150851862677  0.001384954780340054  -0.360\n",
       "`22009-0.34`  0.002353931088712134  0.001384600480603269   1.700\n",
       "`22009-0.35` -0.002587349528479770  0.001383276545042438  -1.870\n",
       "`22009-0.36`  0.003572098417093446  0.001384355394577856   2.580\n",
       "`22009-0.37`  0.000753249880345902  0.001383948065150080   0.544\n",
       "`22009-0.38` -0.003992325020450374  0.001384547405947775  -2.883\n",
       "`22009-0.39` -0.000731959833720723  0.001384336019731816  -0.529\n",
       "`22009-0.40` -0.000312314007980243  0.001384780453488258  -0.226\n",
       "                         Pr(>|t|)    \n",
       "(Intercept)              1.000000    \n",
       "eid                      0.033426 *  \n",
       "`34-0.0`     < 0.0000000000000002 ***\n",
       "`46-0.0`                 0.068939 .  \n",
       "`47-0.0`     0.000000002268932620 ***\n",
       "`48-0.0`     < 0.0000000000000002 ***\n",
       "`49-0.0`     < 0.0000000000000002 ***\n",
       "`50-0.0`     < 0.0000000000000002 ***\n",
       "`51-0.0`     0.000025882025132273 ***\n",
       "`92-0.0`                 0.042084 *  \n",
       "`96-0.0`                 0.005759 ** \n",
       "`102-0.0`    < 0.0000000000000002 ***\n",
       "`129-0.0`                0.861345    \n",
       "`130-0.0`                0.182997    \n",
       "`135-0.0`    0.000000000000008048 ***\n",
       "`137-0.0`    < 0.0000000000000002 ***\n",
       "`189-0.0`    < 0.0000000000000002 ***\n",
       "`699-0.0`                0.000324 ***\n",
       "`709-0.0`    0.000000000001804573 ***\n",
       "`874-0.0`    0.000050856100067607 ***\n",
       "`894-0.0`    0.000011059500489391 ***\n",
       "`1269-0.0`               0.858976    \n",
       "`1279-0.0`               0.368005    \n",
       "`1289-0.0`               0.035902 *  \n",
       "`1299-0.0`               0.000830 ***\n",
       "`1309-0.0`   < 0.0000000000000002 ***\n",
       "`1319-0.0`               0.030621 *  \n",
       "`1438-0.0`   < 0.0000000000000002 ***\n",
       "`1458-0.0`   < 0.0000000000000002 ***\n",
       "`1488-0.0`   < 0.0000000000000002 ***\n",
       "`1528-0.0`   0.000003211474563833 ***\n",
       "`1737-0.0`               0.001540 ** \n",
       "`1807-0.0`   0.000000000000000263 ***\n",
       "`2139-0.0`   < 0.0000000000000002 ***\n",
       "`2149-0.0`               0.028041 *  \n",
       "`2217-0.0`   0.000000000000001890 ***\n",
       "`2277-0.0`               0.130580    \n",
       "`3061-0.0`   0.000020548594025742 ***\n",
       "`3062-0.0`   0.000000000003726797 ***\n",
       "`3063-0.0`   < 0.0000000000000002 ***\n",
       "`3064-0.0`               0.035024 *  \n",
       "`4079-0.0`   < 0.0000000000000002 ***\n",
       "`4080-0.0`   < 0.0000000000000002 ***\n",
       "`20010-0.0`              0.340683    \n",
       "`20011-0.0`              0.004216 ** \n",
       "`20015-0.0`  0.000000007875133470 ***\n",
       "`20074-0.0`              0.242147    \n",
       "`20075-0.0`              0.634628    \n",
       "`20256-0.0`  0.000003891014678152 ***\n",
       "`20257-0.0`  0.000000000028871519 ***\n",
       "`20258-0.0`  < 0.0000000000000002 ***\n",
       "`21001-0.0`              0.164403    \n",
       "`21002-0.0`              0.277807    \n",
       "`21003-0.0`              0.249278    \n",
       "`21022-0.0`              0.581777    \n",
       "`22034-0.0`              0.000329 ***\n",
       "`22037-0.0`              0.122626    \n",
       "`22038-0.0`              0.591835    \n",
       "`22039-0.0`              0.705744    \n",
       "`22702-0.0`              0.486668    \n",
       "`22704-0.0`              0.976023    \n",
       "`23098-0.0`              0.559221    \n",
       "`23099-0.0`              0.186696    \n",
       "`23100-0.0`              0.520845    \n",
       "`23101-0.0`              0.507409    \n",
       "`23102-0.0`              0.863376    \n",
       "`23106-0.0`  0.000000017374422292 ***\n",
       "`23107-0.0`  0.000000034300797239 ***\n",
       "`23108-0.0`  0.000000000002629208 ***\n",
       "`23109-0.0`  0.000029822672565354 ***\n",
       "`23110-0.0`              0.092250 .  \n",
       "`23111-0.0`              0.057777 .  \n",
       "`23112-0.0`              0.757109    \n",
       "`23113-0.0`  0.000069218473995924 ***\n",
       "`23114-0.0`              0.015049 *  \n",
       "`23115-0.0`  0.000000002007418915 ***\n",
       "`23116-0.0`              0.000227 ***\n",
       "`23117-0.0`              0.688722    \n",
       "`23118-0.0`              0.928919    \n",
       "`23119-0.0`              0.000848 ***\n",
       "`23120-0.0`              0.106317    \n",
       "`23121-0.0`              0.301307    \n",
       "`23122-0.0`              0.000809 ***\n",
       "`23123-0.0`              0.042832 *  \n",
       "`23124-0.0`              0.640432    \n",
       "`23125-0.0`              0.079233 .  \n",
       "`23126-0.0`              0.458648    \n",
       "`23127-0.0`              0.170230    \n",
       "`23128-0.0`              0.014207 *  \n",
       "`23129-0.0`              0.222888    \n",
       "`23130-0.0`              0.496619    \n",
       "`24003-0.0`              0.105544    \n",
       "`24004-0.0`              0.512699    \n",
       "`24005-0.0`              0.962581    \n",
       "`24006-0.0`              0.360205    \n",
       "`24007-0.0`              0.842374    \n",
       "`24008-0.0`              0.241928    \n",
       "`24009-0.0`              0.392294    \n",
       "`24010-0.0`              0.799760    \n",
       "`24011-0.0`  0.000029691672256796 ***\n",
       "`24012-0.0`              0.684118    \n",
       "`24013-0.0`              0.659999    \n",
       "`24015-0.0`              0.407528    \n",
       "`24016-0.0`              0.013595 *  \n",
       "`24017-0.0`  0.000004609771212239 ***\n",
       "`24018-0.0`  < 0.0000000000000002 ***\n",
       "`24019-0.0`              0.237319    \n",
       "`24020-0.0`              0.455494    \n",
       "`24021-0.0`              0.127395    \n",
       "`24022-0.0`              0.282741    \n",
       "`24500-0.0`  0.000011656741378984 ***\n",
       "`24501-0.0`  0.000000455117460719 ***\n",
       "`24502-0.0`  0.000000157940215613 ***\n",
       "`24503-0.0`              0.128282    \n",
       "`24504-0.0`              0.247476    \n",
       "`24505-0.0`              0.011627 *  \n",
       "`24506-0.0`              0.112822    \n",
       "`24507-0.0`              0.894801    \n",
       "`24508-0.0`              0.061288 .  \n",
       "`26410-0.0`              0.024391 *  \n",
       "`26411-0.0`              0.000318 ***\n",
       "`26412-0.0`              0.476597    \n",
       "`26413-0.0`              0.248595    \n",
       "`26414-0.0`  < 0.0000000000000002 ***\n",
       "`26415-0.0`              0.764215    \n",
       "`26416-0.0`              0.292156    \n",
       "`26417-0.0`              0.484809    \n",
       "`22009-0.1`  < 0.0000000000000002 ***\n",
       "`22009-0.10`             0.086253 .  \n",
       "`22009-0.11`             0.005009 ** \n",
       "`22009-0.12` 0.000014768290166945 ***\n",
       "`22009-0.13`             0.473560    \n",
       "`22009-0.14`             0.495323    \n",
       "`22009-0.15`             0.825379    \n",
       "`22009-0.16`             0.368632    \n",
       "`22009-0.17`             0.553996    \n",
       "`22009-0.18`             0.627705    \n",
       "`22009-0.19`             0.275448    \n",
       "`22009-0.20`             0.951151    \n",
       "`22009-0.21`             0.289130    \n",
       "`22009-0.22`             0.955400    \n",
       "`22009-0.23`             0.360299    \n",
       "`22009-0.24`             0.917894    \n",
       "`22009-0.25`             0.135763    \n",
       "`22009-0.26`             0.012458 *  \n",
       "`22009-0.27`             0.275172    \n",
       "`22009-0.28`             0.029304 *  \n",
       "`22009-0.29`             0.001406 ** \n",
       "`22009-0.30`             0.972866    \n",
       "`22009-0.31`             0.465970    \n",
       "`22009-0.32`             0.124092    \n",
       "`22009-0.33`             0.719081    \n",
       "`22009-0.34`             0.089117 .  \n",
       "`22009-0.35`             0.061422 .  \n",
       "`22009-0.36`             0.009871 ** \n",
       "`22009-0.37`             0.586252    \n",
       "`22009-0.38`             0.003933 ** \n",
       "`22009-0.39`             0.596983    \n",
       "`22009-0.40`             0.821565    \n",
       "---\n",
       "Signif. codes:  0 ‘***’ 0.001 ‘**’ 0.01 ‘*’ 0.05 ‘.’ 0.1 ‘ ’ 1\n",
       "\n",
       "Residual standard error: 0.9562 on 478015 degrees of freedom\n",
       "Multiple R-squared:  0.08596,\tAdjusted R-squared:  0.08565 \n",
       "F-statistic: 284.5 on 158 and 478015 DF,  p-value: < 0.00000000000000022\n"
      ]
     },
     "metadata": {},
     "output_type": "display_data"
    }
   ],
   "source": [
    "full_model %>% summary()"
   ]
  },
  {
   "cell_type": "code",
   "execution_count": 149,
   "metadata": {},
   "outputs": [
    {
     "data": {
      "text/html": [
       "<table>\n",
       "<caption>A data.frame: 20 × 2</caption>\n",
       "<thead>\n",
       "\t<tr><th></th><th scope=col>Df</th><th scope=col>F value</th></tr>\n",
       "\t<tr><th></th><th scope=col>&lt;int&gt;</th><th scope=col>&lt;dbl&gt;</th></tr>\n",
       "</thead>\n",
       "<tbody>\n",
       "\t<tr><th scope=row>`48-0.0`</th><td>1</td><td>15815.9529</td></tr>\n",
       "\t<tr><th scope=row>`102-0.0`</th><td>1</td><td> 8200.6461</td></tr>\n",
       "\t<tr><th scope=row>`50-0.0`</th><td>1</td><td> 4453.0428</td></tr>\n",
       "\t<tr><th scope=row>`22009-0.1`</th><td>1</td><td> 3285.2131</td></tr>\n",
       "\t<tr><th scope=row>`135-0.0`</th><td>1</td><td> 1651.6160</td></tr>\n",
       "\t<tr><th scope=row>`3063-0.0`</th><td>1</td><td> 1262.7327</td></tr>\n",
       "\t<tr><th scope=row>`49-0.0`</th><td>1</td><td> 1152.1183</td></tr>\n",
       "\t<tr><th scope=row>`137-0.0`</th><td>1</td><td> 1083.3928</td></tr>\n",
       "\t<tr><th scope=row>`4080-0.0`</th><td>1</td><td>  744.8029</td></tr>\n",
       "\t<tr><th scope=row>`21003-0.0`</th><td>1</td><td>  595.4680</td></tr>\n",
       "\t<tr><th scope=row>`20256-0.0`</th><td>1</td><td>  547.1976</td></tr>\n",
       "\t<tr><th scope=row>`1309-0.0`</th><td>1</td><td>  515.2880</td></tr>\n",
       "\t<tr><th scope=row>`189-0.0`</th><td>1</td><td>  344.7520</td></tr>\n",
       "\t<tr><th scope=row>`46-0.0`</th><td>1</td><td>  339.7910</td></tr>\n",
       "\t<tr><th scope=row>`3062-0.0`</th><td>1</td><td>  291.4182</td></tr>\n",
       "\t<tr><th scope=row>`34-0.0`</th><td>1</td><td>  272.5334</td></tr>\n",
       "\t<tr><th scope=row>`1438-0.0`</th><td>1</td><td>  260.5989</td></tr>\n",
       "\t<tr><th scope=row>`23100-0.0`</th><td>1</td><td>  255.7693</td></tr>\n",
       "\t<tr><th scope=row>`20015-0.0`</th><td>1</td><td>  235.2289</td></tr>\n",
       "\t<tr><th scope=row>`23111-0.0`</th><td>1</td><td>  216.1392</td></tr>\n",
       "</tbody>\n",
       "</table>\n"
      ],
      "text/latex": [
       "A data.frame: 20 × 2\n",
       "\\begin{tabular}{r|ll}\n",
       "  & Df & F value\\\\\n",
       "  & <int> & <dbl>\\\\\n",
       "\\hline\n",
       "\t`48-0.0` & 1 & 15815.9529\\\\\n",
       "\t`102-0.0` & 1 &  8200.6461\\\\\n",
       "\t`50-0.0` & 1 &  4453.0428\\\\\n",
       "\t`22009-0.1` & 1 &  3285.2131\\\\\n",
       "\t`135-0.0` & 1 &  1651.6160\\\\\n",
       "\t`3063-0.0` & 1 &  1262.7327\\\\\n",
       "\t`49-0.0` & 1 &  1152.1183\\\\\n",
       "\t`137-0.0` & 1 &  1083.3928\\\\\n",
       "\t`4080-0.0` & 1 &   744.8029\\\\\n",
       "\t`21003-0.0` & 1 &   595.4680\\\\\n",
       "\t`20256-0.0` & 1 &   547.1976\\\\\n",
       "\t`1309-0.0` & 1 &   515.2880\\\\\n",
       "\t`189-0.0` & 1 &   344.7520\\\\\n",
       "\t`46-0.0` & 1 &   339.7910\\\\\n",
       "\t`3062-0.0` & 1 &   291.4182\\\\\n",
       "\t`34-0.0` & 1 &   272.5334\\\\\n",
       "\t`1438-0.0` & 1 &   260.5989\\\\\n",
       "\t`23100-0.0` & 1 &   255.7693\\\\\n",
       "\t`20015-0.0` & 1 &   235.2289\\\\\n",
       "\t`23111-0.0` & 1 &   216.1392\\\\\n",
       "\\end{tabular}\n"
      ],
      "text/markdown": [
       "\n",
       "A data.frame: 20 × 2\n",
       "\n",
       "| <!--/--> | Df &lt;int&gt; | F value &lt;dbl&gt; |\n",
       "|---|---|---|\n",
       "| `48-0.0` | 1 | 15815.9529 |\n",
       "| `102-0.0` | 1 |  8200.6461 |\n",
       "| `50-0.0` | 1 |  4453.0428 |\n",
       "| `22009-0.1` | 1 |  3285.2131 |\n",
       "| `135-0.0` | 1 |  1651.6160 |\n",
       "| `3063-0.0` | 1 |  1262.7327 |\n",
       "| `49-0.0` | 1 |  1152.1183 |\n",
       "| `137-0.0` | 1 |  1083.3928 |\n",
       "| `4080-0.0` | 1 |   744.8029 |\n",
       "| `21003-0.0` | 1 |   595.4680 |\n",
       "| `20256-0.0` | 1 |   547.1976 |\n",
       "| `1309-0.0` | 1 |   515.2880 |\n",
       "| `189-0.0` | 1 |   344.7520 |\n",
       "| `46-0.0` | 1 |   339.7910 |\n",
       "| `3062-0.0` | 1 |   291.4182 |\n",
       "| `34-0.0` | 1 |   272.5334 |\n",
       "| `1438-0.0` | 1 |   260.5989 |\n",
       "| `23100-0.0` | 1 |   255.7693 |\n",
       "| `20015-0.0` | 1 |   235.2289 |\n",
       "| `23111-0.0` | 1 |   216.1392 |\n",
       "\n"
      ],
      "text/plain": [
       "            Df F value   \n",
       "`48-0.0`    1  15815.9529\n",
       "`102-0.0`   1   8200.6461\n",
       "`50-0.0`    1   4453.0428\n",
       "`22009-0.1` 1   3285.2131\n",
       "`135-0.0`   1   1651.6160\n",
       "`3063-0.0`  1   1262.7327\n",
       "`49-0.0`    1   1152.1183\n",
       "`137-0.0`   1   1083.3928\n",
       "`4080-0.0`  1    744.8029\n",
       "`21003-0.0` 1    595.4680\n",
       "`20256-0.0` 1    547.1976\n",
       "`1309-0.0`  1    515.2880\n",
       "`189-0.0`   1    344.7520\n",
       "`46-0.0`    1    339.7910\n",
       "`3062-0.0`  1    291.4182\n",
       "`34-0.0`    1    272.5334\n",
       "`1438-0.0`  1    260.5989\n",
       "`23100-0.0` 1    255.7693\n",
       "`20015-0.0` 1    235.2289\n",
       "`23111-0.0` 1    216.1392"
      ]
     },
     "metadata": {},
     "output_type": "display_data"
    }
   ],
   "source": [
    "options(scipen=999)\n",
    "f_test_full=anova(full_model)\n",
    "f_test_full=as.data.frame(f_test_full)\n",
    "f_test_full[order(f_test_full$`F value`,decreasing = T)[1:20],c(1,4)]"
   ]
  },
  {
   "cell_type": "code",
   "execution_count": 150,
   "metadata": {},
   "outputs": [],
   "source": [
    "best_f=f_test_full[order(f_test_full$`F value`,decreasing = T)[1:20],c(1,4)]"
   ]
  },
  {
   "cell_type": "code",
   "execution_count": 153,
   "metadata": {},
   "outputs": [
    {
     "ename": "ERROR",
     "evalue": "Error in as.vector(x, mode): cannot coerce type 'closure' to vector of type 'any'\n",
     "output_type": "error",
     "traceback": [
      "Error in as.vector(x, mode): cannot coerce type 'closure' to vector of type 'any'\nTraceback:\n",
      "1. merge(name, best_f, by = id)",
      "2. merge.data.frame(name, best_f, by = id)",
      "3. fix.by(by.x, x)",
      "4. as.vector(by)"
     ]
    }
   ],
   "source": [
    "merge(name,best_f,by = id)"
   ]
  },
  {
   "cell_type": "code",
   "execution_count": 125,
   "metadata": {},
   "outputs": [],
   "source": [
    "coe=coe[order(coe$coe[-159],decreasing = T),]"
   ]
  },
  {
   "cell_type": "code",
   "execution_count": 126,
   "metadata": {},
   "outputs": [
    {
     "data": {
      "text/html": [
       "<table>\n",
       "<caption>A data.frame: 31 × 2</caption>\n",
       "<thead>\n",
       "\t<tr><th></th><th scope=col>variable</th><th scope=col>coe</th></tr>\n",
       "\t<tr><th></th><th scope=col>&lt;chr&gt;</th><th scope=col>&lt;dbl&gt;</th></tr>\n",
       "</thead>\n",
       "<tbody>\n",
       "\t<tr><th scope=row>11</th><td>102-0.0  </td><td>0.16267810</td></tr>\n",
       "\t<tr><th scope=row>5</th><td>48-0.0   </td><td>0.15765118</td></tr>\n",
       "\t<tr><th scope=row>51</th><td>21001-0.0</td><td>0.15428079</td></tr>\n",
       "\t<tr><th scope=row>88</th><td>23128-0.0</td><td>0.13572852</td></tr>\n",
       "\t<tr><th scope=row>63</th><td>23100-0.0</td><td>0.13568175</td></tr>\n",
       "\t<tr><th scope=row>80</th><td>23120-0.0</td><td>0.13434300</td></tr>\n",
       "\t<tr><th scope=row>84</th><td>23124-0.0</td><td>0.13294633</td></tr>\n",
       "\t<tr><th scope=row>15</th><td>137-0.0  </td><td>0.12467459</td></tr>\n",
       "\t<tr><th scope=row>87</th><td>23127-0.0</td><td>0.12164340</td></tr>\n",
       "\t<tr><th scope=row>72</th><td>23112-0.0</td><td>0.11254455</td></tr>\n",
       "\t<tr><th scope=row>76</th><td>23116-0.0</td><td>0.11023295</td></tr>\n",
       "\t<tr><th scope=row>14</th><td>135-0.0  </td><td>0.10939548</td></tr>\n",
       "\t<tr><th scope=row>62</th><td>23099-0.0</td><td>0.10563584</td></tr>\n",
       "\t<tr><th scope=row>79</th><td>23119-0.0</td><td>0.10559284</td></tr>\n",
       "\t<tr><th scope=row>83</th><td>23123-0.0</td><td>0.10474439</td></tr>\n",
       "\t<tr><th scope=row>6</th><td>49-0.0   </td><td>0.10294843</td></tr>\n",
       "\t<tr><th scope=row>52</th><td>21002-0.0</td><td>0.10060384</td></tr>\n",
       "\t<tr><th scope=row>48</th><td>20256-0.0</td><td>0.09963341</td></tr>\n",
       "\t<tr><th scope=row>61</th><td>23098-0.0</td><td>0.09919930</td></tr>\n",
       "\t<tr><th scope=row>39</th><td>3063-0.0 </td><td>0.08985746</td></tr>\n",
       "\t<tr><th scope=row>49</th><td>20257-0.0</td><td>0.08671353</td></tr>\n",
       "\t<tr><th scope=row>123</th><td>26414-0.0</td><td>0.08164861</td></tr>\n",
       "\t<tr><th scope=row>38</th><td>3062-0.0 </td><td>0.07448441</td></tr>\n",
       "\t<tr><th scope=row>121</th><td>26412-0.0</td><td>0.07176387</td></tr>\n",
       "\t<tr><th scope=row>71</th><td>23111-0.0</td><td>0.06996086</td></tr>\n",
       "\t<tr><th scope=row>119</th><td>26410-0.0</td><td>0.06946436</td></tr>\n",
       "\t<tr><th scope=row>120</th><td>26411-0.0</td><td>0.06945555</td></tr>\n",
       "\t<tr><th scope=row>75</th><td>23115-0.0</td><td>0.06567959</td></tr>\n",
       "\t<tr><th scope=row>16</th><td>189-0.0  </td><td>0.06397443</td></tr>\n",
       "\t<tr><th scope=row>42</th><td>4080-0.0 </td><td>0.06092889</td></tr>\n",
       "\t<tr><th scope=row>127</th><td>22009-0.1</td><td>0.06017559</td></tr>\n",
       "</tbody>\n",
       "</table>\n"
      ],
      "text/latex": [
       "A data.frame: 31 × 2\n",
       "\\begin{tabular}{r|ll}\n",
       "  & variable & coe\\\\\n",
       "  & <chr> & <dbl>\\\\\n",
       "\\hline\n",
       "\t11 & 102-0.0   & 0.16267810\\\\\n",
       "\t5 & 48-0.0    & 0.15765118\\\\\n",
       "\t51 & 21001-0.0 & 0.15428079\\\\\n",
       "\t88 & 23128-0.0 & 0.13572852\\\\\n",
       "\t63 & 23100-0.0 & 0.13568175\\\\\n",
       "\t80 & 23120-0.0 & 0.13434300\\\\\n",
       "\t84 & 23124-0.0 & 0.13294633\\\\\n",
       "\t15 & 137-0.0   & 0.12467459\\\\\n",
       "\t87 & 23127-0.0 & 0.12164340\\\\\n",
       "\t72 & 23112-0.0 & 0.11254455\\\\\n",
       "\t76 & 23116-0.0 & 0.11023295\\\\\n",
       "\t14 & 135-0.0   & 0.10939548\\\\\n",
       "\t62 & 23099-0.0 & 0.10563584\\\\\n",
       "\t79 & 23119-0.0 & 0.10559284\\\\\n",
       "\t83 & 23123-0.0 & 0.10474439\\\\\n",
       "\t6 & 49-0.0    & 0.10294843\\\\\n",
       "\t52 & 21002-0.0 & 0.10060384\\\\\n",
       "\t48 & 20256-0.0 & 0.09963341\\\\\n",
       "\t61 & 23098-0.0 & 0.09919930\\\\\n",
       "\t39 & 3063-0.0  & 0.08985746\\\\\n",
       "\t49 & 20257-0.0 & 0.08671353\\\\\n",
       "\t123 & 26414-0.0 & 0.08164861\\\\\n",
       "\t38 & 3062-0.0  & 0.07448441\\\\\n",
       "\t121 & 26412-0.0 & 0.07176387\\\\\n",
       "\t71 & 23111-0.0 & 0.06996086\\\\\n",
       "\t119 & 26410-0.0 & 0.06946436\\\\\n",
       "\t120 & 26411-0.0 & 0.06945555\\\\\n",
       "\t75 & 23115-0.0 & 0.06567959\\\\\n",
       "\t16 & 189-0.0   & 0.06397443\\\\\n",
       "\t42 & 4080-0.0  & 0.06092889\\\\\n",
       "\t127 & 22009-0.1 & 0.06017559\\\\\n",
       "\\end{tabular}\n"
      ],
      "text/markdown": [
       "\n",
       "A data.frame: 31 × 2\n",
       "\n",
       "| <!--/--> | variable &lt;chr&gt; | coe &lt;dbl&gt; |\n",
       "|---|---|---|\n",
       "| 11 | 102-0.0   | 0.16267810 |\n",
       "| 5 | 48-0.0    | 0.15765118 |\n",
       "| 51 | 21001-0.0 | 0.15428079 |\n",
       "| 88 | 23128-0.0 | 0.13572852 |\n",
       "| 63 | 23100-0.0 | 0.13568175 |\n",
       "| 80 | 23120-0.0 | 0.13434300 |\n",
       "| 84 | 23124-0.0 | 0.13294633 |\n",
       "| 15 | 137-0.0   | 0.12467459 |\n",
       "| 87 | 23127-0.0 | 0.12164340 |\n",
       "| 72 | 23112-0.0 | 0.11254455 |\n",
       "| 76 | 23116-0.0 | 0.11023295 |\n",
       "| 14 | 135-0.0   | 0.10939548 |\n",
       "| 62 | 23099-0.0 | 0.10563584 |\n",
       "| 79 | 23119-0.0 | 0.10559284 |\n",
       "| 83 | 23123-0.0 | 0.10474439 |\n",
       "| 6 | 49-0.0    | 0.10294843 |\n",
       "| 52 | 21002-0.0 | 0.10060384 |\n",
       "| 48 | 20256-0.0 | 0.09963341 |\n",
       "| 61 | 23098-0.0 | 0.09919930 |\n",
       "| 39 | 3063-0.0  | 0.08985746 |\n",
       "| 49 | 20257-0.0 | 0.08671353 |\n",
       "| 123 | 26414-0.0 | 0.08164861 |\n",
       "| 38 | 3062-0.0  | 0.07448441 |\n",
       "| 121 | 26412-0.0 | 0.07176387 |\n",
       "| 71 | 23111-0.0 | 0.06996086 |\n",
       "| 119 | 26410-0.0 | 0.06946436 |\n",
       "| 120 | 26411-0.0 | 0.06945555 |\n",
       "| 75 | 23115-0.0 | 0.06567959 |\n",
       "| 16 | 189-0.0   | 0.06397443 |\n",
       "| 42 | 4080-0.0  | 0.06092889 |\n",
       "| 127 | 22009-0.1 | 0.06017559 |\n",
       "\n"
      ],
      "text/plain": [
       "    variable  coe       \n",
       "11  102-0.0   0.16267810\n",
       "5   48-0.0    0.15765118\n",
       "51  21001-0.0 0.15428079\n",
       "88  23128-0.0 0.13572852\n",
       "63  23100-0.0 0.13568175\n",
       "80  23120-0.0 0.13434300\n",
       "84  23124-0.0 0.13294633\n",
       "15  137-0.0   0.12467459\n",
       "87  23127-0.0 0.12164340\n",
       "72  23112-0.0 0.11254455\n",
       "76  23116-0.0 0.11023295\n",
       "14  135-0.0   0.10939548\n",
       "62  23099-0.0 0.10563584\n",
       "79  23119-0.0 0.10559284\n",
       "83  23123-0.0 0.10474439\n",
       "6   49-0.0    0.10294843\n",
       "52  21002-0.0 0.10060384\n",
       "48  20256-0.0 0.09963341\n",
       "61  23098-0.0 0.09919930\n",
       "39  3063-0.0  0.08985746\n",
       "49  20257-0.0 0.08671353\n",
       "123 26414-0.0 0.08164861\n",
       "38  3062-0.0  0.07448441\n",
       "121 26412-0.0 0.07176387\n",
       "71  23111-0.0 0.06996086\n",
       "119 26410-0.0 0.06946436\n",
       "120 26411-0.0 0.06945555\n",
       "75  23115-0.0 0.06567959\n",
       "16  189-0.0   0.06397443\n",
       "42  4080-0.0  0.06092889\n",
       "127 22009-0.1 0.06017559"
      ]
     },
     "metadata": {},
     "output_type": "display_data"
    }
   ],
   "source": [
    "coe[1:31,]"
   ]
  },
  {
   "cell_type": "code",
   "execution_count": 133,
   "metadata": {},
   "outputs": [
    {
     "ename": "ERROR",
     "evalue": "Error in parse(text = x, srcfile = src): <text>:1:35: unexpected ','\n1: '1. Pulse rate, automated reading',\n                                      ^\n",
     "output_type": "error",
     "traceback": [
      "Error in parse(text = x, srcfile = src): <text>:1:35: unexpected ','\n1: '1. Pulse rate, automated reading',\n                                      ^\nTraceback:\n"
     ]
    }
   ],
   "source": [
    "'1. Pulse rate, automated reading',\n",
    "'2. Waist circumference',\n",
    "'3. Body mass index (BMI)',\n",
    "'4. Whole body fat mass',\n",
    "'5. Arm fat mass (right)',\n",
    "'6. Arm fat mass (left)',\n",
    "'7. Trunk fat mass',\n",
    "'8. Number of treatments/medications taken',\n",
    "'9. Trunk fat percentage',\n",
    "'10. Leg fat mass (right)',\n",
    "'11. Leg fat mass (left)',\n",
    "'12. Hip circumference',\n",
    "'13. Number of self-reported non-cancer illnesses',\n",
    "'14. Weight (52,21002-0.0)',\n",
    "'15. Body fat percentage',\n",
    "'16. Arm fat percentage (right)',\n",
    "'17. Arm fat percentage (left) (83)',\n",
    "'18. Forced expiratory volume in 1-second (FEV1) Z-score',\n",
    "'19. Weight (61, 23098-0.0)',\n",
    "'20. Forced expiratory volume in 1-second (FEV1)',\n",
    "'21. Forced vital capacity (FVC) Z-score',\n",
    "'22. Education score (England)',\n",
    "'23. Forced vital capacity (FVC)',\n",
    "'24. Employment score (England)',\n",
    "'25. Townsend deprivation index at recruitment',\n",
    "'26. Systolic blood pressure, automated reading',\n",
    "'27. Leg fat percentage (right)',\n",
    "'28. Leg fat percentage (left)',\n",
    "'29. Index of Multiple Deprivation (England)',\n",
    "'30. Income score (England)',\n",
    "'31. Genetic principal components'\n",
    "\n",
    "\n",
    "\n"
   ]
  },
  {
   "cell_type": "code",
   "execution_count": 136,
   "metadata": {},
   "outputs": [],
   "source": [
    "name=read.csv(\"name.csv\",header = F)"
   ]
  },
  {
   "cell_type": "code",
   "execution_count": 140,
   "metadata": {},
   "outputs": [],
   "source": [
    "best_beta=cbind(name,coe[1:31,1:2])"
   ]
  },
  {
   "cell_type": "code",
   "execution_count": 142,
   "metadata": {},
   "outputs": [],
   "source": [
    "colnames(best_beta)=c(\"variable_name\",\"var-id\",\"correlation\")"
   ]
  },
  {
   "cell_type": "code",
   "execution_count": 145,
   "metadata": {},
   "outputs": [],
   "source": [
    "fwrite(best_beta,\"best_beta.csv\")"
   ]
  },
  {
   "cell_type": "code",
   "execution_count": null,
   "metadata": {},
   "outputs": [],
   "source": []
  },
  {
   "cell_type": "code",
   "execution_count": null,
   "metadata": {},
   "outputs": [],
   "source": []
  },
  {
   "cell_type": "code",
   "execution_count": null,
   "metadata": {},
   "outputs": [],
   "source": []
  },
  {
   "cell_type": "code",
   "execution_count": null,
   "metadata": {},
   "outputs": [],
   "source": []
  },
  {
   "cell_type": "code",
   "execution_count": null,
   "metadata": {},
   "outputs": [],
   "source": []
  },
  {
   "cell_type": "code",
   "execution_count": null,
   "metadata": {},
   "outputs": [],
   "source": []
  },
  {
   "cell_type": "code",
   "execution_count": null,
   "metadata": {},
   "outputs": [],
   "source": []
  },
  {
   "cell_type": "code",
   "execution_count": null,
   "metadata": {},
   "outputs": [],
   "source": []
  },
  {
   "cell_type": "code",
   "execution_count": 33,
   "metadata": {},
   "outputs": [
    {
     "data": {
      "text/html": [
       "<dl class=dl-horizontal>\n",
       "\t<dt>92-0.0</dt>\n",
       "\t\t<dd>9</dd>\n",
       "\t<dt>709-0.0</dt>\n",
       "\t\t<dd>18</dd>\n",
       "\t<dt>874-0.0</dt>\n",
       "\t\t<dd>19</dd>\n",
       "\t<dt>894-0.0</dt>\n",
       "\t\t<dd>20</dd>\n",
       "\t<dt>1269-0.0</dt>\n",
       "\t\t<dd>21</dd>\n",
       "\t<dt>1279-0.0</dt>\n",
       "\t\t<dd>22</dd>\n",
       "\t<dt>1737-0.0</dt>\n",
       "\t\t<dd>31</dd>\n",
       "\t<dt>1807-0.0</dt>\n",
       "\t\t<dd>32</dd>\n",
       "\t<dt>2139-0.0</dt>\n",
       "\t\t<dd>33</dd>\n",
       "\t<dt>2149-0.0</dt>\n",
       "\t\t<dd>34</dd>\n",
       "\t<dt>2217-0.0</dt>\n",
       "\t\t<dd>35</dd>\n",
       "\t<dt>20010-0.0</dt>\n",
       "\t\t<dd>43</dd>\n",
       "\t<dt>20011-0.0</dt>\n",
       "\t\t<dd>44</dd>\n",
       "</dl>\n"
      ],
      "text/latex": [
       "\\begin{description*}\n",
       "\\item[92-0.0] 9\n",
       "\\item[709-0.0] 18\n",
       "\\item[874-0.0] 19\n",
       "\\item[894-0.0] 20\n",
       "\\item[1269-0.0] 21\n",
       "\\item[1279-0.0] 22\n",
       "\\item[1737-0.0] 31\n",
       "\\item[1807-0.0] 32\n",
       "\\item[2139-0.0] 33\n",
       "\\item[2149-0.0] 34\n",
       "\\item[2217-0.0] 35\n",
       "\\item[20010-0.0] 43\n",
       "\\item[20011-0.0] 44\n",
       "\\end{description*}\n"
      ],
      "text/markdown": [
       "92-0.0\n",
       ":   9709-0.0\n",
       ":   18874-0.0\n",
       ":   19894-0.0\n",
       ":   201269-0.0\n",
       ":   211279-0.0\n",
       ":   221737-0.0\n",
       ":   311807-0.0\n",
       ":   322139-0.0\n",
       ":   332149-0.0\n",
       ":   342217-0.0\n",
       ":   3520010-0.0\n",
       ":   4320011-0.0\n",
       ":   44\n",
       "\n"
      ],
      "text/plain": [
       "   92-0.0   709-0.0   874-0.0   894-0.0  1269-0.0  1279-0.0  1737-0.0  1807-0.0 \n",
       "        9        18        19        20        21        22        31        32 \n",
       " 2139-0.0  2149-0.0  2217-0.0 20010-0.0 20011-0.0 \n",
       "       33        34        35        43        44 "
      ]
     },
     "metadata": {},
     "output_type": "display_data"
    }
   ],
   "source": [
    "which(range_table[1,]==-3) "
   ]
  },
  {
   "cell_type": "code",
   "execution_count": 34,
   "metadata": {},
   "outputs": [
    {
     "ename": "ERROR",
     "evalue": "Error in parse(text = x, srcfile = src): <text>:1:3: unexpected ','\n1: 51,\n      ^\n",
     "output_type": "error",
     "traceback": [
      "Error in parse(text = x, srcfile = src): <text>:1:3: unexpected ','\n1: 51,\n      ^\nTraceback:\n"
     ]
    }
   ],
   "source": [
    "51,63,80,84,88,15,87"
   ]
  },
  {
   "cell_type": "code",
   "execution_count": 35,
   "metadata": {},
   "outputs": [],
   "source": [
    "test2_model=lm(data=scale_data[,c(11,5,51,80,15,76,6,14,52,62,93,159)],formula=count~.)"
   ]
  },
  {
   "cell_type": "code",
   "execution_count": 36,
   "metadata": {
    "scrolled": true
   },
   "outputs": [
    {
     "ename": "ERROR",
     "evalue": "Error in vif(test2_model): could not find function \"vif\"\n",
     "output_type": "error",
     "traceback": [
      "Error in vif(test2_model): could not find function \"vif\"\nTraceback:\n"
     ]
    }
   ],
   "source": [
    "vif(test2_model)"
   ]
  },
  {
   "cell_type": "code",
   "execution_count": null,
   "metadata": {
    "scrolled": true
   },
   "outputs": [],
   "source": [
    "car::vif(model[[5]])"
   ]
  },
  {
   "cell_type": "code",
   "execution_count": 37,
   "metadata": {},
   "outputs": [
    {
     "name": "stderr",
     "output_type": "stream",
     "text": [
      "Loading required package: carData\n",
      "Registered S3 methods overwritten by 'car':\n",
      "  method                          from\n",
      "  influence.merMod                lme4\n",
      "  cooks.distance.influence.merMod lme4\n",
      "  dfbeta.influence.merMod         lme4\n",
      "  dfbetas.influence.merMod        lme4\n",
      "\n",
      "Attaching package: ‘car’\n",
      "\n",
      "The following object is masked from ‘package:purrr’:\n",
      "\n",
      "    some\n",
      "\n",
      "The following object is masked from ‘package:dplyr’:\n",
      "\n",
      "    recode\n",
      "\n"
     ]
    }
   ],
   "source": [
    "library(car)"
   ]
  },
  {
   "cell_type": "code",
   "execution_count": null,
   "metadata": {},
   "outputs": [],
   "source": []
  }
 ],
 "metadata": {
  "kernelspec": {
   "display_name": "R 3.6.0",
   "language": "R",
   "name": "ir360"
  },
  "language_info": {
   "codemirror_mode": "r",
   "file_extension": ".r",
   "mimetype": "text/x-r-source",
   "name": "R",
   "pygments_lexer": "r",
   "version": "3.6.0"
  }
 },
 "nbformat": 4,
 "nbformat_minor": 2
}
