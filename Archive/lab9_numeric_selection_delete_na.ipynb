{
 "cells": [
  {
   "cell_type": "code",
   "execution_count": 2,
   "metadata": {},
   "outputs": [
    {
     "name": "stderr",
     "output_type": "stream",
     "text": [
      "Loading required package: xml2\n",
      "\n",
      "Attaching package: ‘dplyr’\n",
      "\n",
      "The following objects are masked from ‘package:data.table’:\n",
      "\n",
      "    between, first, last\n",
      "\n",
      "The following objects are masked from ‘package:stats’:\n",
      "\n",
      "    filter, lag\n",
      "\n",
      "The following objects are masked from ‘package:base’:\n",
      "\n",
      "    intersect, setdiff, setequal, union\n",
      "\n"
     ]
    }
   ],
   "source": [
    "library(data.table)\n",
    "library(\"rvest\")\n",
    "library(\"stringr\")\n",
    "library(dplyr)"
   ]
  },
  {
   "cell_type": "code",
   "execution_count": 3,
   "metadata": {},
   "outputs": [
    {
     "data": {
      "text/plain": [
       "Time difference of 41.43343 secs"
      ]
     },
     "metadata": {},
     "output_type": "display_data"
    }
   ],
   "source": [
    "\n",
    "start_tim e <- Sys.time()\n",
    "source(\"/u/project/sriram/ukbiobank/33127/bd_load_data.R\")\n",
    "end_time <- Sys.time()\n",
    "\n",
    "end_time - start_time\n",
    "\n",
    "\n"
   ]
  },
  {
   "cell_type": "code",
   "execution_count": 4,
   "metadata": {},
   "outputs": [
    {
     "data": {
      "text/html": [
       "<ol class=list-inline>\n",
       "\t<li>502508</li>\n",
       "\t<li>2297</li>\n",
       "</ol>\n"
      ],
      "text/latex": [
       "\\begin{enumerate*}\n",
       "\\item 502508\n",
       "\\item 2297\n",
       "\\end{enumerate*}\n"
      ],
      "text/markdown": [
       "1. 502508\n",
       "2. 2297\n",
       "\n",
       "\n"
      ],
      "text/plain": [
       "[1] 502508   2297"
      ]
     },
     "metadata": {},
     "output_type": "display_data"
    }
   ],
   "source": [
    "dim(data)"
   ]
  },
  {
   "cell_type": "code",
   "execution_count": 5,
   "metadata": {},
   "outputs": [],
   "source": [
    "na_list=read.csv(\"na_list.csv\")"
   ]
  },
  {
   "cell_type": "code",
   "execution_count": 6,
   "metadata": {},
   "outputs": [
    {
     "data": {
      "text/html": [
       "<ol class=list-inline>\n",
       "\t<li>1464</li>\n",
       "\t<li>2</li>\n",
       "</ol>\n"
      ],
      "text/latex": [
       "\\begin{enumerate*}\n",
       "\\item 1464\n",
       "\\item 2\n",
       "\\end{enumerate*}\n"
      ],
      "text/markdown": [
       "1. 1464\n",
       "2. 2\n",
       "\n",
       "\n"
      ],
      "text/plain": [
       "[1] 1464    2"
      ]
     },
     "metadata": {},
     "output_type": "display_data"
    }
   ],
   "source": [
    "dim(na_list)"
   ]
  },
  {
   "cell_type": "code",
   "execution_count": 7,
   "metadata": {},
   "outputs": [
    {
     "name": "stderr",
     "output_type": "stream",
     "text": [
      "Warning message:\n",
      "“'memory.size()' is Windows-specific”"
     ]
    },
    {
     "data": {
      "text/html": [
       "Inf"
      ],
      "text/latex": [
       "Inf"
      ],
      "text/markdown": [
       "Inf"
      ],
      "text/plain": [
       "[1] Inf"
      ]
     },
     "metadata": {},
     "output_type": "display_data"
    }
   ],
   "source": []
  },
  {
   "cell_type": "code",
   "execution_count": 7,
   "metadata": {},
   "outputs": [],
   "source": [
    "na_list=as.vector(na_list[,2])"
   ]
  },
  {
   "cell_type": "code",
   "execution_count": 7,
   "metadata": {},
   "outputs": [],
   "source": [
    "#new_data=data[,1:40]\n",
    "#new_na_list=na_list[1:6]\n",
    "#new_na_list\n",
    "#new_new=select(new_data,-c(new_na_list))\n",
    "#dim(new_new)"
   ]
  },
  {
   "cell_type": "code",
   "execution_count": 8,
   "metadata": {},
   "outputs": [],
   "source": [
    "new_new=select(data,-c(na_list))"
   ]
  },
  {
   "cell_type": "code",
   "execution_count": 9,
   "metadata": {},
   "outputs": [
    {
     "data": {
      "text/html": [
       "<ol class=list-inline>\n",
       "\t<li>502508</li>\n",
       "\t<li>833</li>\n",
       "</ol>\n"
      ],
      "text/latex": [
       "\\begin{enumerate*}\n",
       "\\item 502508\n",
       "\\item 833\n",
       "\\end{enumerate*}\n"
      ],
      "text/markdown": [
       "1. 502508\n",
       "2. 833\n",
       "\n",
       "\n"
      ],
      "text/plain": [
       "[1] 502508    833"
      ]
     },
     "metadata": {},
     "output_type": "display_data"
    }
   ],
   "source": [
    "dim(new_new)"
   ]
  },
  {
   "cell_type": "code",
   "execution_count": 11,
   "metadata": {},
   "outputs": [
    {
     "data": {
      "text/html": [
       "405"
      ],
      "text/latex": [
       "405"
      ],
      "text/markdown": [
       "405"
      ],
      "text/plain": [
       "[1] 405"
      ]
     },
     "metadata": {},
     "output_type": "display_data"
    }
   ],
   "source": [
    "grep(\"30000-0.0\",colnames(new_new))  #405"
   ]
  },
  {
   "cell_type": "code",
   "execution_count": 12,
   "metadata": {},
   "outputs": [],
   "source": [
    "fwrite(new_new,\"new_data.csv\")"
   ]
  },
  {
   "cell_type": "code",
   "execution_count": null,
   "metadata": {},
   "outputs": [],
   "source": [
    "## numeric selection "
   ]
  },
  {
   "cell_type": "code",
   "execution_count": 12,
   "metadata": {},
   "outputs": [],
   "source": [
    "new_new_numeric=new_new %>% select_if(is.numeric)\n",
    "new_num=new_new_numeric"
   ]
  },
  {
   "cell_type": "code",
   "execution_count": 13,
   "metadata": {},
   "outputs": [
    {
     "data": {
      "text/html": [
       "<ol class=list-inline>\n",
       "\t<li>502508</li>\n",
       "\t<li>608</li>\n",
       "</ol>\n"
      ],
      "text/latex": [
       "\\begin{enumerate*}\n",
       "\\item 502508\n",
       "\\item 608\n",
       "\\end{enumerate*}\n"
      ],
      "text/markdown": [
       "1. 502508\n",
       "2. 608\n",
       "\n",
       "\n"
      ],
      "text/plain": [
       "[1] 502508    608"
      ]
     },
     "metadata": {},
     "output_type": "display_data"
    }
   ],
   "source": [
    "dim(new_num)"
   ]
  },
  {
   "cell_type": "code",
   "execution_count": 14,
   "metadata": {},
   "outputs": [
    {
     "data": {
      "text/html": [
       "348"
      ],
      "text/latex": [
       "348"
      ],
      "text/markdown": [
       "348"
      ],
      "text/plain": [
       "[1] 348"
      ]
     },
     "metadata": {},
     "output_type": "display_data"
    }
   ],
   "source": [
    "grep(\"30000-0.0\",colnames(new_num))"
   ]
  },
  {
   "cell_type": "code",
   "execution_count": 22,
   "metadata": {},
   "outputs": [
    {
     "data": {
      "text/html": [
       "<table>\n",
       "<thead><tr><th scope=col>30000-0.0</th></tr></thead>\n",
       "<tbody>\n",
       "\t<tr><td>6.60</td></tr>\n",
       "\t<tr><td>  NA</td></tr>\n",
       "\t<tr><td>8.44</td></tr>\n",
       "\t<tr><td>7.40</td></tr>\n",
       "\t<tr><td>6.19</td></tr>\n",
       "\t<tr><td>6.40</td></tr>\n",
       "\t<tr><td>8.23</td></tr>\n",
       "\t<tr><td>4.81</td></tr>\n",
       "\t<tr><td>7.71</td></tr>\n",
       "\t<tr><td>8.75</td></tr>\n",
       "\t<tr><td>5.81</td></tr>\n",
       "\t<tr><td>5.80</td></tr>\n",
       "\t<tr><td>  NA</td></tr>\n",
       "\t<tr><td>5.98</td></tr>\n",
       "\t<tr><td>4.58</td></tr>\n",
       "\t<tr><td>7.52</td></tr>\n",
       "\t<tr><td>4.72</td></tr>\n",
       "\t<tr><td>9.23</td></tr>\n",
       "\t<tr><td>5.70</td></tr>\n",
       "\t<tr><td>7.40</td></tr>\n",
       "\t<tr><td>6.82</td></tr>\n",
       "\t<tr><td>7.40</td></tr>\n",
       "\t<tr><td>6.83</td></tr>\n",
       "\t<tr><td>6.30</td></tr>\n",
       "\t<tr><td>5.03</td></tr>\n",
       "\t<tr><td>5.90</td></tr>\n",
       "\t<tr><td>6.81</td></tr>\n",
       "\t<tr><td>9.80</td></tr>\n",
       "\t<tr><td>  NA</td></tr>\n",
       "\t<tr><td>4.24</td></tr>\n",
       "\t<tr><td>⋮</td></tr>\n",
       "\t<tr><td> 5.57</td></tr>\n",
       "\t<tr><td> 7.97</td></tr>\n",
       "\t<tr><td> 5.42</td></tr>\n",
       "\t<tr><td> 4.57</td></tr>\n",
       "\t<tr><td> 7.58</td></tr>\n",
       "\t<tr><td> 7.42</td></tr>\n",
       "\t<tr><td>   NA</td></tr>\n",
       "\t<tr><td> 7.42</td></tr>\n",
       "\t<tr><td> 6.79</td></tr>\n",
       "\t<tr><td> 7.67</td></tr>\n",
       "\t<tr><td> 8.66</td></tr>\n",
       "\t<tr><td> 7.40</td></tr>\n",
       "\t<tr><td>10.57</td></tr>\n",
       "\t<tr><td> 5.99</td></tr>\n",
       "\t<tr><td> 6.55</td></tr>\n",
       "\t<tr><td> 5.15</td></tr>\n",
       "\t<tr><td> 8.50</td></tr>\n",
       "\t<tr><td> 6.27</td></tr>\n",
       "\t<tr><td> 6.40</td></tr>\n",
       "\t<tr><td> 6.27</td></tr>\n",
       "\t<tr><td> 6.23</td></tr>\n",
       "\t<tr><td> 8.19</td></tr>\n",
       "\t<tr><td> 6.78</td></tr>\n",
       "\t<tr><td> 7.96</td></tr>\n",
       "\t<tr><td> 7.56</td></tr>\n",
       "\t<tr><td> 7.05</td></tr>\n",
       "\t<tr><td> 4.95</td></tr>\n",
       "\t<tr><td> 5.30</td></tr>\n",
       "\t<tr><td> 5.78</td></tr>\n",
       "\t<tr><td> 4.02</td></tr>\n",
       "</tbody>\n",
       "</table>\n"
      ],
      "text/latex": [
       "\\begin{tabular}{r|l}\n",
       " 30000-0.0\\\\\n",
       "\\hline\n",
       "\t 6.60\\\\\n",
       "\t   NA\\\\\n",
       "\t 8.44\\\\\n",
       "\t 7.40\\\\\n",
       "\t 6.19\\\\\n",
       "\t 6.40\\\\\n",
       "\t 8.23\\\\\n",
       "\t 4.81\\\\\n",
       "\t 7.71\\\\\n",
       "\t 8.75\\\\\n",
       "\t 5.81\\\\\n",
       "\t 5.80\\\\\n",
       "\t   NA\\\\\n",
       "\t 5.98\\\\\n",
       "\t 4.58\\\\\n",
       "\t 7.52\\\\\n",
       "\t 4.72\\\\\n",
       "\t 9.23\\\\\n",
       "\t 5.70\\\\\n",
       "\t 7.40\\\\\n",
       "\t 6.82\\\\\n",
       "\t 7.40\\\\\n",
       "\t 6.83\\\\\n",
       "\t 6.30\\\\\n",
       "\t 5.03\\\\\n",
       "\t 5.90\\\\\n",
       "\t 6.81\\\\\n",
       "\t 9.80\\\\\n",
       "\t   NA\\\\\n",
       "\t 4.24\\\\\n",
       "\t ⋮\\\\\n",
       "\t  5.57\\\\\n",
       "\t  7.97\\\\\n",
       "\t  5.42\\\\\n",
       "\t  4.57\\\\\n",
       "\t  7.58\\\\\n",
       "\t  7.42\\\\\n",
       "\t    NA\\\\\n",
       "\t  7.42\\\\\n",
       "\t  6.79\\\\\n",
       "\t  7.67\\\\\n",
       "\t  8.66\\\\\n",
       "\t  7.40\\\\\n",
       "\t 10.57\\\\\n",
       "\t  5.99\\\\\n",
       "\t  6.55\\\\\n",
       "\t  5.15\\\\\n",
       "\t  8.50\\\\\n",
       "\t  6.27\\\\\n",
       "\t  6.40\\\\\n",
       "\t  6.27\\\\\n",
       "\t  6.23\\\\\n",
       "\t  8.19\\\\\n",
       "\t  6.78\\\\\n",
       "\t  7.96\\\\\n",
       "\t  7.56\\\\\n",
       "\t  7.05\\\\\n",
       "\t  4.95\\\\\n",
       "\t  5.30\\\\\n",
       "\t  5.78\\\\\n",
       "\t  4.02\\\\\n",
       "\\end{tabular}\n"
      ],
      "text/markdown": [
       "\n",
       "30000-0.0 | \n",
       "|---|---|---|---|---|---|---|---|---|---|---|---|---|---|---|---|---|---|---|---|---|---|---|---|---|---|---|---|---|---|---|---|---|---|---|---|---|---|---|---|---|---|---|---|---|---|---|---|---|---|---|---|---|---|---|---|---|---|---|---|---|\n",
       "| 6.60 | \n",
       "|   NA | \n",
       "| 8.44 | \n",
       "| 7.40 | \n",
       "| 6.19 | \n",
       "| 6.40 | \n",
       "| 8.23 | \n",
       "| 4.81 | \n",
       "| 7.71 | \n",
       "| 8.75 | \n",
       "| 5.81 | \n",
       "| 5.80 | \n",
       "|   NA | \n",
       "| 5.98 | \n",
       "| 4.58 | \n",
       "| 7.52 | \n",
       "| 4.72 | \n",
       "| 9.23 | \n",
       "| 5.70 | \n",
       "| 7.40 | \n",
       "| 6.82 | \n",
       "| 7.40 | \n",
       "| 6.83 | \n",
       "| 6.30 | \n",
       "| 5.03 | \n",
       "| 5.90 | \n",
       "| 6.81 | \n",
       "| 9.80 | \n",
       "|   NA | \n",
       "| 4.24 | \n",
       "| ⋮ | \n",
       "|  5.57 | \n",
       "|  7.97 | \n",
       "|  5.42 | \n",
       "|  4.57 | \n",
       "|  7.58 | \n",
       "|  7.42 | \n",
       "|    NA | \n",
       "|  7.42 | \n",
       "|  6.79 | \n",
       "|  7.67 | \n",
       "|  8.66 | \n",
       "|  7.40 | \n",
       "| 10.57 | \n",
       "|  5.99 | \n",
       "|  6.55 | \n",
       "|  5.15 | \n",
       "|  8.50 | \n",
       "|  6.27 | \n",
       "|  6.40 | \n",
       "|  6.27 | \n",
       "|  6.23 | \n",
       "|  8.19 | \n",
       "|  6.78 | \n",
       "|  7.96 | \n",
       "|  7.56 | \n",
       "|  7.05 | \n",
       "|  4.95 | \n",
       "|  5.30 | \n",
       "|  5.78 | \n",
       "|  4.02 | \n",
       "\n",
       "\n"
      ],
      "text/plain": [
       "       30000-0.0\n",
       "1      6.60     \n",
       "2        NA     \n",
       "3      8.44     \n",
       "4      7.40     \n",
       "5      6.19     \n",
       "6      6.40     \n",
       "7      8.23     \n",
       "8      4.81     \n",
       "9      7.71     \n",
       "10     8.75     \n",
       "11     5.81     \n",
       "12     5.80     \n",
       "13       NA     \n",
       "14     5.98     \n",
       "15     4.58     \n",
       "16     7.52     \n",
       "17     4.72     \n",
       "18     9.23     \n",
       "19     5.70     \n",
       "20     7.40     \n",
       "21     6.82     \n",
       "22     7.40     \n",
       "23     6.83     \n",
       "24     6.30     \n",
       "25     5.03     \n",
       "26     5.90     \n",
       "27     6.81     \n",
       "28     9.80     \n",
       "29       NA     \n",
       "30     4.24     \n",
       "⋮      ⋮        \n",
       "502479  5.57    \n",
       "502480  7.97    \n",
       "502481  5.42    \n",
       "502482  4.57    \n",
       "502483  7.58    \n",
       "502484  7.42    \n",
       "502485    NA    \n",
       "502486  7.42    \n",
       "502487  6.79    \n",
       "502488  7.67    \n",
       "502489  8.66    \n",
       "502490  7.40    \n",
       "502491 10.57    \n",
       "502492  5.99    \n",
       "502493  6.55    \n",
       "502494  5.15    \n",
       "502495  8.50    \n",
       "502496  6.27    \n",
       "502497  6.40    \n",
       "502498  6.27    \n",
       "502499  6.23    \n",
       "502500  8.19    \n",
       "502501  6.78    \n",
       "502502  7.96    \n",
       "502503  7.56    \n",
       "502504  7.05    \n",
       "502505  4.95    \n",
       "502506  5.30    \n",
       "502507  5.78    \n",
       "502508  4.02    "
      ]
     },
     "metadata": {},
     "output_type": "display_data"
    }
   ],
   "source": [
    "library(dplyr)\n",
    "\n",
    "#new_num[,348]"
   ]
  },
  {
   "cell_type": "code",
   "execution_count": 15,
   "metadata": {},
   "outputs": [
    {
     "data": {
      "text/html": [
       "<ol class=list-inline>\n",
       "\t<li>502508</li>\n",
       "\t<li>608</li>\n",
       "</ol>\n"
      ],
      "text/latex": [
       "\\begin{enumerate*}\n",
       "\\item 502508\n",
       "\\item 608\n",
       "\\end{enumerate*}\n"
      ],
      "text/markdown": [
       "1. 502508\n",
       "2. 608\n",
       "\n",
       "\n"
      ],
      "text/plain": [
       "[1] 502508    608"
      ]
     },
     "metadata": {},
     "output_type": "display_data"
    }
   ],
   "source": [
    "dim(new_num)"
   ]
  },
  {
   "cell_type": "code",
   "execution_count": 16,
   "metadata": {},
   "outputs": [
    {
     "data": {
      "text/html": [
       "<ol class=list-inline>\n",
       "\t<li>6.6</li>\n",
       "\t<li>&lt;NA&gt;</li>\n",
       "\t<li>8.44</li>\n",
       "\t<li>7.4</li>\n",
       "\t<li>6.19</li>\n",
       "\t<li>6.4</li>\n",
       "\t<li>8.23</li>\n",
       "\t<li>4.81</li>\n",
       "\t<li>7.71</li>\n",
       "\t<li>8.75</li>\n",
       "\t<li>5.81</li>\n",
       "\t<li>5.8</li>\n",
       "\t<li>&lt;NA&gt;</li>\n",
       "\t<li>5.98</li>\n",
       "\t<li>4.58</li>\n",
       "\t<li>7.52</li>\n",
       "\t<li>4.72</li>\n",
       "\t<li>9.23</li>\n",
       "\t<li>5.7</li>\n",
       "\t<li>7.4</li>\n",
       "</ol>\n"
      ],
      "text/latex": [
       "\\begin{enumerate*}\n",
       "\\item 6.6\n",
       "\\item <NA>\n",
       "\\item 8.44\n",
       "\\item 7.4\n",
       "\\item 6.19\n",
       "\\item 6.4\n",
       "\\item 8.23\n",
       "\\item 4.81\n",
       "\\item 7.71\n",
       "\\item 8.75\n",
       "\\item 5.81\n",
       "\\item 5.8\n",
       "\\item <NA>\n",
       "\\item 5.98\n",
       "\\item 4.58\n",
       "\\item 7.52\n",
       "\\item 4.72\n",
       "\\item 9.23\n",
       "\\item 5.7\n",
       "\\item 7.4\n",
       "\\end{enumerate*}\n"
      ],
      "text/markdown": [
       "1. 6.6\n",
       "2. &lt;NA&gt;\n",
       "3. 8.44\n",
       "4. 7.4\n",
       "5. 6.19\n",
       "6. 6.4\n",
       "7. 8.23\n",
       "8. 4.81\n",
       "9. 7.71\n",
       "10. 8.75\n",
       "11. 5.81\n",
       "12. 5.8\n",
       "13. &lt;NA&gt;\n",
       "14. 5.98\n",
       "15. 4.58\n",
       "16. 7.52\n",
       "17. 4.72\n",
       "18. 9.23\n",
       "19. 5.7\n",
       "20. 7.4\n",
       "\n",
       "\n"
      ],
      "text/plain": [
       " [1] 6.60   NA 8.44 7.40 6.19 6.40 8.23 4.81 7.71 8.75 5.81 5.80   NA 5.98 4.58\n",
       "[16] 7.52 4.72 9.23 5.70 7.40"
      ]
     },
     "metadata": {},
     "output_type": "display_data"
    }
   ],
   "source": [
    "new_num$`30000-0.0`[1:20]"
   ]
  },
  {
   "cell_type": "code",
   "execution_count": 18,
   "metadata": {},
   "outputs": [],
   "source": [
    "new_num$count=new_num$`30000-0.0`"
   ]
  },
  {
   "cell_type": "code",
   "execution_count": 19,
   "metadata": {},
   "outputs": [
    {
     "data": {
      "text/html": [
       "<ol class=list-inline>\n",
       "\t<li>502508</li>\n",
       "\t<li>609</li>\n",
       "</ol>\n"
      ],
      "text/latex": [
       "\\begin{enumerate*}\n",
       "\\item 502508\n",
       "\\item 609\n",
       "\\end{enumerate*}\n"
      ],
      "text/markdown": [
       "1. 502508\n",
       "2. 609\n",
       "\n",
       "\n"
      ],
      "text/plain": [
       "[1] 502508    609"
      ]
     },
     "metadata": {},
     "output_type": "display_data"
    },
    {
     "data": {
      "text/html": [
       "<ol class=list-inline>\n",
       "\t<li>502508</li>\n",
       "\t<li>608</li>\n",
       "</ol>\n"
      ],
      "text/latex": [
       "\\begin{enumerate*}\n",
       "\\item 502508\n",
       "\\item 608\n",
       "\\end{enumerate*}\n"
      ],
      "text/markdown": [
       "1. 502508\n",
       "2. 608\n",
       "\n",
       "\n"
      ],
      "text/plain": [
       "[1] 502508    608"
      ]
     },
     "metadata": {},
     "output_type": "display_data"
    }
   ],
   "source": [
    "\n",
    "dim(new_num)\n",
    "new=new_num[,-348]\n",
    "dim(new)"
   ]
  },
  {
   "cell_type": "code",
   "execution_count": 20,
   "metadata": {},
   "outputs": [],
   "source": [
    "new_data=new"
   ]
  },
  {
   "cell_type": "code",
   "execution_count": 22,
   "metadata": {},
   "outputs": [
    {
     "data": {
      "text/html": [
       "<table>\n",
       "<thead><tr><th scope=col>count</th></tr></thead>\n",
       "<tbody>\n",
       "\t<tr><td>6.60</td></tr>\n",
       "\t<tr><td>  NA</td></tr>\n",
       "\t<tr><td>8.44</td></tr>\n",
       "</tbody>\n",
       "</table>\n"
      ],
      "text/latex": [
       "\\begin{tabular}{r|l}\n",
       " count\\\\\n",
       "\\hline\n",
       "\t 6.60\\\\\n",
       "\t   NA\\\\\n",
       "\t 8.44\\\\\n",
       "\\end{tabular}\n"
      ],
      "text/markdown": [
       "\n",
       "count | \n",
       "|---|---|---|\n",
       "| 6.60 | \n",
       "|   NA | \n",
       "| 8.44 | \n",
       "\n",
       "\n"
      ],
      "text/plain": [
       "  count\n",
       "1 6.60 \n",
       "2   NA \n",
       "3 8.44 "
      ]
     },
     "metadata": {},
     "output_type": "display_data"
    }
   ],
   "source": [
    "new_data[,608] %>% head(3)"
   ]
  },
  {
   "cell_type": "code",
   "execution_count": 77,
   "metadata": {},
   "outputs": [],
   "source": [
    "set.seed(12)\n",
    "new_sample=new_data[sample(1:nrow(new_data),5000),]"
   ]
  },
  {
   "cell_type": "code",
   "execution_count": 78,
   "metadata": {},
   "outputs": [
    {
     "data": {
      "text/html": [
       "<ol class=list-inline>\n",
       "\t<li>5000</li>\n",
       "\t<li>1151</li>\n",
       "</ol>\n"
      ],
      "text/latex": [
       "\\begin{enumerate*}\n",
       "\\item 5000\n",
       "\\item 1151\n",
       "\\end{enumerate*}\n"
      ],
      "text/markdown": [
       "1. 5000\n",
       "2. 1151\n",
       "\n",
       "\n"
      ],
      "text/plain": [
       "[1] 5000 1151"
      ]
     },
     "metadata": {},
     "output_type": "display_data"
    }
   ],
   "source": [
    "dim(new_sample)"
   ]
  },
  {
   "cell_type": "code",
   "execution_count": 23,
   "metadata": {},
   "outputs": [],
   "source": [
    "fwrite(new_data,\"new_data_num.csv\")"
   ]
  },
  {
   "cell_type": "code",
   "execution_count": null,
   "metadata": {},
   "outputs": [],
   "source": [
    "ns=fread(new_data,\"new_data_num.csv\")"
   ]
  },
  {
   "cell_type": "code",
   "execution_count": null,
   "metadata": {},
   "outputs": [],
   "source": []
  }
 ],
 "metadata": {
  "kernelspec": {
   "display_name": "R 3.5.1",
   "language": "R",
   "name": "ir35"
  },
  "language_info": {
   "codemirror_mode": "r",
   "file_extension": ".r",
   "mimetype": "text/x-r-source",
   "name": "R",
   "pygments_lexer": "r",
   "version": "3.5.1"
  }
 },
 "nbformat": 4,
 "nbformat_minor": 2
}
