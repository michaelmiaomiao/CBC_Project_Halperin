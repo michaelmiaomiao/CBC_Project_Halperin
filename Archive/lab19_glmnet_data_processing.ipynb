{
 "cells": [
  {
   "cell_type": "code",
   "execution_count": 6,
   "metadata": {},
   "outputs": [
    {
     "data": {
      "text/html": [
       "<table>\n",
       "<caption>A matrix: 2 × 6 of type dbl</caption>\n",
       "<thead>\n",
       "\t<tr><th></th><th scope=col>used</th><th scope=col>(Mb)</th><th scope=col>gc trigger</th><th scope=col>(Mb)</th><th scope=col>max used</th><th scope=col>(Mb)</th></tr>\n",
       "</thead>\n",
       "<tbody>\n",
       "\t<tr><th scope=row>Ncells</th><td>2206548</td><td>117.9</td><td>3651142</td><td>195</td><td>3651142</td><td>195.0</td></tr>\n",
       "\t<tr><th scope=row>Vcells</th><td>3672343</td><td> 28.1</td><td>8388608</td><td> 64</td><td>5926322</td><td> 45.3</td></tr>\n",
       "</tbody>\n",
       "</table>\n"
      ],
      "text/latex": [
       "A matrix: 2 × 6 of type dbl\n",
       "\\begin{tabular}{r|llllll}\n",
       "  & used & (Mb) & gc trigger & (Mb) & max used & (Mb)\\\\\n",
       "\\hline\n",
       "\tNcells & 2206548 & 117.9 & 3651142 & 195 & 3651142 & 195.0\\\\\n",
       "\tVcells & 3672343 &  28.1 & 8388608 &  64 & 5926322 &  45.3\\\\\n",
       "\\end{tabular}\n"
      ],
      "text/markdown": [
       "\n",
       "A matrix: 2 × 6 of type dbl\n",
       "\n",
       "| <!--/--> | used | (Mb) | gc trigger | (Mb) | max used | (Mb) |\n",
       "|---|---|---|---|---|---|---|\n",
       "| Ncells | 2206548 | 117.9 | 3651142 | 195 | 3651142 | 195.0 |\n",
       "| Vcells | 3672343 |  28.1 | 8388608 |  64 | 5926322 |  45.3 |\n",
       "\n"
      ],
      "text/plain": [
       "       used    (Mb)  gc trigger (Mb) max used (Mb) \n",
       "Ncells 2206548 117.9 3651142    195  3651142  195.0\n",
       "Vcells 3672343  28.1 8388608     64  5926322   45.3"
      ]
     },
     "metadata": {},
     "output_type": "display_data"
    }
   ],
   "source": [
    "# YOU MUST USE 3.6.0 AND ABOVE FOR RUNNING GLMNET\n",
    "#install.packages(\"psycho\")\n",
    "#install.packages(\"zoo\")\n",
    "#install.packages(\"scales\")\n",
    "#install.packages(\"rlang\")\n",
    "#install.packages(\"tidyverse\")\n",
    "#install.packages('lm.beta')\n",
    "#install.packages(\"standardize\")\n",
    "library(data.table)\n",
    "library(\"rvest\")\n",
    "\n",
    "library(\"zoo\")\n",
    "library(\"dplyr\")\n",
    "\n",
    "library(tidyverse)\n",
    "library(caret)\n",
    "library(\"lm.beta\")\n",
    "library(\"psycho\")\n",
    "\n",
    "library(\"standardize\")\n",
    "library(\"glmnet\")\n",
    "rm(list=ls())\n",
    "gc()"
   ]
  },
  {
   "cell_type": "code",
   "execution_count": 7,
   "metadata": {},
   "outputs": [
    {
     "data": {
      "text/plain": [
       "Time difference of 11.96477 secs"
      ]
     },
     "metadata": {},
     "output_type": "display_data"
    },
    {
     "data": {
      "text/html": [
       "<ol class=list-inline>\n",
       "\t<li>478174</li>\n",
       "\t<li>215</li>\n",
       "</ol>\n"
      ],
      "text/latex": [
       "\\begin{enumerate*}\n",
       "\\item 478174\n",
       "\\item 215\n",
       "\\end{enumerate*}\n"
      ],
      "text/markdown": [
       "1. 478174\n",
       "2. 215\n",
       "\n",
       "\n"
      ],
      "text/plain": [
       "[1] 478174    215"
      ]
     },
     "metadata": {},
     "output_type": "display_data"
    }
   ],
   "source": [
    "start_time <- Sys.time()\n",
    "new_data=fread(\"num_slim_data_4.csv\")\n",
    "\n",
    "end_time <- Sys.time()\n",
    "\n",
    "end_time - start_time\n",
    "dim(new_data)"
   ]
  },
  {
   "cell_type": "code",
   "execution_count": 8,
   "metadata": {},
   "outputs": [
    {
     "data": {
      "text/html": [
       "215"
      ],
      "text/latex": [
       "215"
      ],
      "text/markdown": [
       "215"
      ],
      "text/plain": [
       "[1] 215"
      ]
     },
     "metadata": {},
     "output_type": "display_data"
    },
    {
     "data": {
      "text/html": [
       "<ol class=list-inline>\n",
       "\t<li>478174</li>\n",
       "\t<li>215</li>\n",
       "</ol>\n"
      ],
      "text/latex": [
       "\\begin{enumerate*}\n",
       "\\item 478174\n",
       "\\item 215\n",
       "\\end{enumerate*}\n"
      ],
      "text/markdown": [
       "1. 478174\n",
       "2. 215\n",
       "\n",
       "\n"
      ],
      "text/plain": [
       "[1] 478174    215"
      ]
     },
     "metadata": {},
     "output_type": "display_data"
    },
    {
     "name": "stderr",
     "output_type": "stream",
     "text": [
      "Warning message in summary.lm(model[[i]]):\n",
      "“essentially perfect fit: summary may be unreliable”"
     ]
    },
    {
     "data": {
      "image/png": "[encoded data removed]",
      "text/plain": [
       "plot without title"
      ]
     },
     "metadata": {},
     "output_type": "display_data"
    }
   ],
   "source": [
    "grep(\"count\",colnames(new_data))\n",
    "scale=as.data.frame(scale(new_data))\n",
    "scale_data=scale\n",
    "dim(scale_data)\n",
    "coeff=NULL\n",
    "sum=NULL\n",
    "model=NULL\n",
    "r=NULL\n",
    "beta=NULL\n",
    "for (i in 1:215){\n",
    "   \n",
    "   model[[i]] <- lm(data=new_data,formula = count ~ new_data[[i]] )\n",
    "   coeff[[i]]=model$coefficients\n",
    "   sum[[i]]=summary(model[[i]])\n",
    "    r[[i]]=sum[[i]]$adj.r.squared\n",
    "    beta[[i]]=lm.beta(model[[i]])\n",
    "}\n",
    "new_beta=NULL\n",
    "for (i in 1:215){\n",
    "    new_beta[i]=abs(beta[[i]]$`standardized.coefficients`[2])\n",
    "}\n",
    "barplot(new_beta[-215],ylim=c(0.09,0.27),col=\"blue\")\n",
    "abline(h = 0.15,col=\"black\")\n",
    "abline(h = 0.12,col=\"red\")\n",
    "abline(h = 0.10,col=\"yellow\")\n",
    "abline(h = 0.11,col=\"green\")\n",
    "#range(new_beta)\n",
    "\n",
    "\n"
   ]
  },
  {
   "cell_type": "code",
   "execution_count": 10,
   "metadata": {},
   "outputs": [
    {
     "data": {
      "text/html": [
       "<ol class=list-inline>\n",
       "\t<li>'beta'</li>\n",
       "\t<li>'coeff'</li>\n",
       "\t<li>'end_time'</li>\n",
       "\t<li>'i'</li>\n",
       "\t<li>'model'</li>\n",
       "\t<li>'new_beta'</li>\n",
       "\t<li>'new_data'</li>\n",
       "\t<li>'r'</li>\n",
       "\t<li>'scale'</li>\n",
       "\t<li>'scale_data'</li>\n",
       "\t<li>'start_time'</li>\n",
       "\t<li>'sum'</li>\n",
       "</ol>\n"
      ],
      "text/latex": [
       "\\begin{enumerate*}\n",
       "\\item 'beta'\n",
       "\\item 'coeff'\n",
       "\\item 'end\\_time'\n",
       "\\item 'i'\n",
       "\\item 'model'\n",
       "\\item 'new\\_beta'\n",
       "\\item 'new\\_data'\n",
       "\\item 'r'\n",
       "\\item 'scale'\n",
       "\\item 'scale\\_data'\n",
       "\\item 'start\\_time'\n",
       "\\item 'sum'\n",
       "\\end{enumerate*}\n"
      ],
      "text/markdown": [
       "1. 'beta'\n",
       "2. 'coeff'\n",
       "3. 'end_time'\n",
       "4. 'i'\n",
       "5. 'model'\n",
       "6. 'new_beta'\n",
       "7. 'new_data'\n",
       "8. 'r'\n",
       "9. 'scale'\n",
       "10. 'scale_data'\n",
       "11. 'start_time'\n",
       "12. 'sum'\n",
       "\n",
       "\n"
      ],
      "text/plain": [
       " [1] \"beta\"       \"coeff\"      \"end_time\"   \"i\"          \"model\"     \n",
       " [6] \"new_beta\"   \"new_data\"   \"r\"          \"scale\"      \"scale_data\"\n",
       "[11] \"start_time\" \"sum\"       "
      ]
     },
     "metadata": {},
     "output_type": "display_data"
    }
   ],
   "source": [
    "ls()"
   ]
  },
  {
   "cell_type": "code",
   "execution_count": 11,
   "metadata": {},
   "outputs": [
    {
     "data": {
      "text/html": [
       "51"
      ],
      "text/latex": [
       "51"
      ],
      "text/markdown": [
       "51"
      ],
      "text/plain": [
       "[1] 51"
      ]
     },
     "metadata": {},
     "output_type": "display_data"
    }
   ],
   "source": [
    "grep(\"21001-0.0\",colnames(new_data))"
   ]
  },
  {
   "cell_type": "code",
   "execution_count": 13,
   "metadata": {},
   "outputs": [
    {
     "data": {
      "text/html": [
       "66"
      ],
      "text/latex": [
       "66"
      ],
      "text/markdown": [
       "66"
      ],
      "text/plain": [
       "[1] 66"
      ]
     },
     "metadata": {},
     "output_type": "display_data"
    }
   ],
   "source": [
    "grep(\"23104-0.0\",colnames(new_data))"
   ]
  },
  {
   "cell_type": "code",
   "execution_count": 14,
   "metadata": {
    "scrolled": true
   },
   "outputs": [
    {
     "data": {
      "text/html": [
       "<table>\n",
       "<caption>A data.table: 20 × 2</caption>\n",
       "<thead>\n",
       "\t<tr><th scope=col>21001-0.0</th><th scope=col>23104-0.0</th></tr>\n",
       "\t<tr><th scope=col>&lt;dbl&gt;</th><th scope=col>&lt;dbl&gt;</th></tr>\n",
       "</thead>\n",
       "<tbody>\n",
       "\t<tr><td>24.0220</td><td>24.0</td></tr>\n",
       "\t<tr><td>32.4211</td><td>32.4</td></tr>\n",
       "\t<tr><td>26.1442</td><td>26.1</td></tr>\n",
       "\t<tr><td>22.1311</td><td>22.1</td></tr>\n",
       "\t<tr><td>31.4065</td><td>31.4</td></tr>\n",
       "\t<tr><td>22.7528</td><td>22.8</td></tr>\n",
       "\t<tr><td>23.4198</td><td>23.4</td></tr>\n",
       "\t<tr><td>21.4063</td><td>21.4</td></tr>\n",
       "\t<tr><td>29.3385</td><td>29.3</td></tr>\n",
       "\t<tr><td>28.0822</td><td>28.1</td></tr>\n",
       "\t<tr><td>25.1557</td><td>25.2</td></tr>\n",
       "\t<tr><td>35.0111</td><td>35.0</td></tr>\n",
       "\t<tr><td>43.4448</td><td>43.4</td></tr>\n",
       "\t<tr><td>36.3590</td><td>36.4</td></tr>\n",
       "\t<tr><td>26.4490</td><td>26.4</td></tr>\n",
       "\t<tr><td>35.4619</td><td>35.5</td></tr>\n",
       "\t<tr><td>23.5223</td><td>23.5</td></tr>\n",
       "\t<tr><td>32.1427</td><td>32.1</td></tr>\n",
       "\t<tr><td>24.7768</td><td>24.8</td></tr>\n",
       "\t<tr><td>26.2155</td><td>26.2</td></tr>\n",
       "</tbody>\n",
       "</table>\n"
      ],
      "text/latex": [
       "A data.table: 20 × 2\n",
       "\\begin{tabular}{r|ll}\n",
       " 21001-0.0 & 23104-0.0\\\\\n",
       " <dbl> & <dbl>\\\\\n",
       "\\hline\n",
       "\t 24.0220 & 24.0\\\\\n",
       "\t 32.4211 & 32.4\\\\\n",
       "\t 26.1442 & 26.1\\\\\n",
       "\t 22.1311 & 22.1\\\\\n",
       "\t 31.4065 & 31.4\\\\\n",
       "\t 22.7528 & 22.8\\\\\n",
       "\t 23.4198 & 23.4\\\\\n",
       "\t 21.4063 & 21.4\\\\\n",
       "\t 29.3385 & 29.3\\\\\n",
       "\t 28.0822 & 28.1\\\\\n",
       "\t 25.1557 & 25.2\\\\\n",
       "\t 35.0111 & 35.0\\\\\n",
       "\t 43.4448 & 43.4\\\\\n",
       "\t 36.3590 & 36.4\\\\\n",
       "\t 26.4490 & 26.4\\\\\n",
       "\t 35.4619 & 35.5\\\\\n",
       "\t 23.5223 & 23.5\\\\\n",
       "\t 32.1427 & 32.1\\\\\n",
       "\t 24.7768 & 24.8\\\\\n",
       "\t 26.2155 & 26.2\\\\\n",
       "\\end{tabular}\n"
      ],
      "text/markdown": [
       "\n",
       "A data.table: 20 × 2\n",
       "\n",
       "| 21001-0.0 &lt;dbl&gt; | 23104-0.0 &lt;dbl&gt; |\n",
       "|---|---|\n",
       "| 24.0220 | 24.0 |\n",
       "| 32.4211 | 32.4 |\n",
       "| 26.1442 | 26.1 |\n",
       "| 22.1311 | 22.1 |\n",
       "| 31.4065 | 31.4 |\n",
       "| 22.7528 | 22.8 |\n",
       "| 23.4198 | 23.4 |\n",
       "| 21.4063 | 21.4 |\n",
       "| 29.3385 | 29.3 |\n",
       "| 28.0822 | 28.1 |\n",
       "| 25.1557 | 25.2 |\n",
       "| 35.0111 | 35.0 |\n",
       "| 43.4448 | 43.4 |\n",
       "| 36.3590 | 36.4 |\n",
       "| 26.4490 | 26.4 |\n",
       "| 35.4619 | 35.5 |\n",
       "| 23.5223 | 23.5 |\n",
       "| 32.1427 | 32.1 |\n",
       "| 24.7768 | 24.8 |\n",
       "| 26.2155 | 26.2 |\n",
       "\n"
      ],
      "text/plain": [
       "   21001-0.0 23104-0.0\n",
       "1  24.0220   24.0     \n",
       "2  32.4211   32.4     \n",
       "3  26.1442   26.1     \n",
       "4  22.1311   22.1     \n",
       "5  31.4065   31.4     \n",
       "6  22.7528   22.8     \n",
       "7  23.4198   23.4     \n",
       "8  21.4063   21.4     \n",
       "9  29.3385   29.3     \n",
       "10 28.0822   28.1     \n",
       "11 25.1557   25.2     \n",
       "12 35.0111   35.0     \n",
       "13 43.4448   43.4     \n",
       "14 36.3590   36.4     \n",
       "15 26.4490   26.4     \n",
       "16 35.4619   35.5     \n",
       "17 23.5223   23.5     \n",
       "18 32.1427   32.1     \n",
       "19 24.7768   24.8     \n",
       "20 26.2155   26.2     "
      ]
     },
     "metadata": {},
     "output_type": "display_data"
    }
   ],
   "source": [
    "new_data[1:20,c(51,66)]"
   ]
  },
  {
   "cell_type": "code",
   "execution_count": 15,
   "metadata": {},
   "outputs": [],
   "source": [
    "new_new_data=new_data[,-66]"
   ]
  },
  {
   "cell_type": "code",
   "execution_count": 24,
   "metadata": {},
   "outputs": [
    {
     "data": {
      "text/html": [
       "133"
      ],
      "text/latex": [
       "133"
      ],
      "text/markdown": [
       "133"
      ],
      "text/plain": [
       "[1] 133"
      ]
     },
     "metadata": {},
     "output_type": "display_data"
    },
    {
     "data": {
      "text/html": [],
      "text/latex": [],
      "text/markdown": [],
      "text/plain": [
       "integer(0)"
      ]
     },
     "metadata": {},
     "output_type": "display_data"
    },
    {
     "data": {
      "text/html": [
       "134"
      ],
      "text/latex": [
       "134"
      ],
      "text/markdown": [
       "134"
      ],
      "text/plain": [
       "[1] 134"
      ]
     },
     "metadata": {},
     "output_type": "display_data"
    },
    {
     "data": {
      "text/html": [
       "181"
      ],
      "text/latex": [
       "181"
      ],
      "text/markdown": [
       "181"
      ],
      "text/plain": [
       "[1] 181"
      ]
     },
     "metadata": {},
     "output_type": "display_data"
    }
   ],
   "source": [
    "grep(\"30080-0.0\",colnames(new_new_data))\n",
    "grep(\"30085-0.0\",colnames(new_new_data))\n",
    "grep(\"30090-0.0\",colnames(new_new_data))\n",
    "grep(\"30897-0.0\",colnames(new_new_data))"
   ]
  },
  {
   "cell_type": "code",
   "execution_count": 26,
   "metadata": {},
   "outputs": [
    {
     "data": {
      "text/html": [
       "<table>\n",
       "<caption>A data.table: 5 × 49</caption>\n",
       "<thead>\n",
       "\t<tr><th scope=col>30080-0.0</th><th scope=col>30090-0.0</th><th scope=col>30100-0.0</th><th scope=col>30110-0.0</th><th scope=col>30150-0.0</th><th scope=col>30160-0.0</th><th scope=col>30180-0.0</th><th scope=col>30190-0.0</th><th scope=col>30200-0.0</th><th scope=col>30210-0.0</th><th scope=col>⋯</th><th scope=col>30780-0.0</th><th scope=col>30810-0.0</th><th scope=col>30830-0.0</th><th scope=col>30840-0.0</th><th scope=col>30850-0.0</th><th scope=col>30860-0.0</th><th scope=col>30870-0.0</th><th scope=col>30880-0.0</th><th scope=col>30890-0.0</th><th scope=col>30897-0.0</th></tr>\n",
       "\t<tr><th scope=col>&lt;dbl&gt;</th><th scope=col>&lt;dbl&gt;</th><th scope=col>&lt;dbl&gt;</th><th scope=col>&lt;dbl&gt;</th><th scope=col>&lt;dbl&gt;</th><th scope=col>&lt;dbl&gt;</th><th scope=col>&lt;dbl&gt;</th><th scope=col>&lt;dbl&gt;</th><th scope=col>&lt;dbl&gt;</th><th scope=col>&lt;dbl&gt;</th><th scope=col>⋯</th><th scope=col>&lt;dbl&gt;</th><th scope=col>&lt;dbl&gt;</th><th scope=col>&lt;dbl&gt;</th><th scope=col>&lt;dbl&gt;</th><th scope=col>&lt;dbl&gt;</th><th scope=col>&lt;dbl&gt;</th><th scope=col>&lt;dbl&gt;</th><th scope=col>&lt;dbl&gt;</th><th scope=col>&lt;dbl&gt;</th><th scope=col>&lt;dbl&gt;</th></tr>\n",
       "</thead>\n",
       "<tbody>\n",
       "\t<tr><td>285.2</td><td>0.287</td><td>10.08</td><td>15.99</td><td>0.49</td><td>0.13</td><td>29.06</td><td>6.21</td><td>56.9</td><td>6.15</td><td>⋯</td><td>3.769</td><td>1.147</td><td> 33.31</td><td> 8.55</td><td> 1.572</td><td>75.52</td><td>1.160</td><td>245.9</td><td>32.00000</td><td>1.004240</td></tr>\n",
       "\t<tr><td>245.0</td><td>0.208</td><td> 8.50</td><td>16.50</td><td>0.00</td><td>0.00</td><td>25.00</td><td>6.00</td><td>67.4</td><td>1.20</td><td>⋯</td><td>3.620</td><td>1.003</td><td> 27.01</td><td> 7.07</td><td> 1.404</td><td>69.93</td><td>2.361</td><td>248.9</td><td>55.50000</td><td>0.995665</td></tr>\n",
       "\t<tr><td>146.1</td><td>0.165</td><td>11.31</td><td>17.36</td><td>0.06</td><td>0.02</td><td>31.43</td><td>9.31</td><td>57.5</td><td>1.29</td><td>⋯</td><td>6.113</td><td>1.141</td><td>104.65</td><td>12.03</td><td>13.604</td><td>74.18</td><td>2.112</td><td>246.4</td><td>48.62852</td><td>1.001040</td></tr>\n",
       "\t<tr><td>218.9</td><td>0.222</td><td>10.16</td><td>16.38</td><td>0.14</td><td>0.08</td><td>27.95</td><td>6.14</td><td>62.7</td><td>2.04</td><td>⋯</td><td>2.963</td><td>1.207</td><td> 91.88</td><td> 8.65</td><td> 0.352</td><td>68.10</td><td>1.303</td><td>163.9</td><td>48.62852</td><td>1.001770</td></tr>\n",
       "\t<tr><td>204.0</td><td>0.197</td><td> 9.70</td><td>16.60</td><td>0.30</td><td>0.00</td><td>26.30</td><td>5.50</td><td>65.4</td><td>2.60</td><td>⋯</td><td>3.389</td><td>1.104</td><td> 47.71</td><td> 9.35</td><td>13.077</td><td>74.65</td><td>3.735</td><td>387.7</td><td>16.30000</td><td>0.996603</td></tr>\n",
       "</tbody>\n",
       "</table>\n"
      ],
      "text/latex": [
       "A data.table: 5 × 49\n",
       "\\begin{tabular}{r|lllllllllllllllllllllllllllllllllllllllllllllllll}\n",
       " 30080-0.0 & 30090-0.0 & 30100-0.0 & 30110-0.0 & 30150-0.0 & 30160-0.0 & 30180-0.0 & 30190-0.0 & 30200-0.0 & 30210-0.0 & 30220-0.0 & 30240-0.0 & 30250-0.0 & 30260-0.0 & 30270-0.0 & 30280-0.0 & 30290-0.0 & 30300-0.0 & 30510-0.0 & 30520-0.0 & 30530-0.0 & 30600-0.0 & 30610-0.0 & 30620-0.0 & 30630-0.0 & 30640-0.0 & 30650-0.0 & 30660-0.0 & 30670-0.0 & 30680-0.0 & 30690-0.0 & 30700-0.0 & 30710-0.0 & 30720-0.0 & 30730-0.0 & 30740-0.0 & 30750-0.0 & 30760-0.0 & 30770-0.0 & 30780-0.0 & 30810-0.0 & 30830-0.0 & 30840-0.0 & 30850-0.0 & 30860-0.0 & 30870-0.0 & 30880-0.0 & 30890-0.0 & 30897-0.0\\\\\n",
       " <dbl> & <dbl> & <dbl> & <dbl> & <dbl> & <dbl> & <dbl> & <dbl> & <dbl> & <dbl> & <dbl> & <dbl> & <dbl> & <dbl> & <dbl> & <dbl> & <dbl> & <dbl> & <dbl> & <dbl> & <dbl> & <dbl> & <dbl> & <dbl> & <dbl> & <dbl> & <dbl> & <dbl> & <dbl> & <dbl> & <dbl> & <dbl> & <dbl> & <dbl> & <dbl> & <dbl> & <dbl> & <dbl> & <dbl> & <dbl> & <dbl> & <dbl> & <dbl> & <dbl> & <dbl> & <dbl> & <dbl> & <dbl> & <dbl>\\\\\n",
       "\\hline\n",
       "\t 285.2 & 0.287 & 10.08 & 15.99 & 0.49 & 0.13 & 29.06 & 6.21 & 56.9 & 6.15 & 1.59 & 1.414 & 0.058 & 108.12 & 77.78 & 0.305 & 0.431 & 0.018 & 10826 &  73.6 & 115.4 & 44.40 & 61.8 & 13.89 & 1.472 & 1.065 & 23.6 & 1.520000 & 5.26 & 2.454 & 6.006 & 81.8 & 0.49 & 0.751 & 15.3 & 4.669 & 34.2 & 1.438 & 28.334 & 3.769 & 1.147 &  33.31 &  8.55 &  1.572 & 75.52 & 1.160 & 245.9 & 32.00000 & 1.004240\\\\\n",
       "\t 245.0 & 0.208 &  8.50 & 16.50 & 0.00 & 0.00 & 25.00 & 6.00 & 67.4 & 1.20 & 0.40 & 0.820 & 0.038 & 101.30 & 79.40 & 0.250 & 0.210 & 0.009 & 22941 & 134.1 &  80.5 & 43.81 & 61.1 & 18.21 & 1.493 & 1.018 & 22.2 & 1.834518 & 5.43 & 2.390 & 5.703 & 62.6 & 2.22 & 0.810 & 17.9 & 5.059 & 34.8 & 1.302 & 23.009 & 3.620 & 1.003 &  27.01 &  7.07 &  1.404 & 69.93 & 2.361 & 248.9 & 55.50000 & 0.995665\\\\\n",
       "\t 146.1 & 0.165 & 11.31 & 17.36 & 0.06 & 0.02 & 31.43 & 9.31 & 57.5 & 1.29 & 0.48 & 1.158 & 0.053 & 116.28 & 90.32 & 0.231 & 0.268 & 0.012 &  3483 &  49.3 & 100.4 & 51.27 & 65.8 & 37.38 & 1.811 & 1.715 & 36.3 & 1.770000 & 4.15 & 2.500 & 9.082 & 60.5 & 0.53 & 0.820 & 52.2 & 4.922 & 34.4 & 1.752 & 20.561 & 6.113 & 1.141 & 104.65 & 12.03 & 13.604 & 74.18 & 2.112 & 246.4 & 48.62852 & 1.001040\\\\\n",
       "\t 218.9 & 0.222 & 10.16 & 16.38 & 0.14 & 0.08 & 27.95 & 6.14 & 62.7 & 2.04 & 1.20 & 0.992 & 0.043 & 107.56 & 82.72 & 0.225 & 0.223 & 0.010 & 10512 & 140.6 &  62.1 & 48.41 & 62.4 & 13.52 & 2.064 & 0.735 & 24.3 & 1.710000 & 4.14 & 2.326 & 5.379 & 54.6 & 0.78 & 0.790 & 10.0 & 5.062 & 30.6 & 2.006 & 23.459 & 2.963 & 1.207 &  91.88 &  8.65 &  0.352 & 68.10 & 1.303 & 163.9 & 48.62852 & 1.001770\\\\\n",
       "\t 204.0 & 0.197 &  9.70 & 16.60 & 0.30 & 0.00 & 26.30 & 5.50 & 65.4 & 2.60 & 0.20 & 1.370 & 0.073 &  97.30 & 77.10 & 0.230 & 0.320 & 0.017 &  3332 &  26.8 &  43.6 & 46.09 & 79.5 & 35.26 & 1.071 & 1.176 & 23.1 & 1.540000 & 3.96 & 2.471 & 5.046 & 78.3 & 1.31 & 1.084 & 44.1 & 4.267 & 36.1 & 0.691 & 28.816 & 3.389 & 1.104 &  47.71 &  9.35 & 13.077 & 74.65 & 3.735 & 387.7 & 16.30000 & 0.996603\\\\\n",
       "\\end{tabular}\n"
      ],
      "text/markdown": [
       "\n",
       "A data.table: 5 × 49\n",
       "\n",
       "| 30080-0.0 &lt;dbl&gt; | 30090-0.0 &lt;dbl&gt; | 30100-0.0 &lt;dbl&gt; | 30110-0.0 &lt;dbl&gt; | 30150-0.0 &lt;dbl&gt; | 30160-0.0 &lt;dbl&gt; | 30180-0.0 &lt;dbl&gt; | 30190-0.0 &lt;dbl&gt; | 30200-0.0 &lt;dbl&gt; | 30210-0.0 &lt;dbl&gt; | ⋯ ⋯ | 30780-0.0 &lt;dbl&gt; | 30810-0.0 &lt;dbl&gt; | 30830-0.0 &lt;dbl&gt; | 30840-0.0 &lt;dbl&gt; | 30850-0.0 &lt;dbl&gt; | 30860-0.0 &lt;dbl&gt; | 30870-0.0 &lt;dbl&gt; | 30880-0.0 &lt;dbl&gt; | 30890-0.0 &lt;dbl&gt; | 30897-0.0 &lt;dbl&gt; |\n",
       "|---|---|---|---|---|---|---|---|---|---|---|---|---|---|---|---|---|---|---|---|---|\n",
       "| 285.2 | 0.287 | 10.08 | 15.99 | 0.49 | 0.13 | 29.06 | 6.21 | 56.9 | 6.15 | ⋯ | 3.769 | 1.147 |  33.31 |  8.55 |  1.572 | 75.52 | 1.160 | 245.9 | 32.00000 | 1.004240 |\n",
       "| 245.0 | 0.208 |  8.50 | 16.50 | 0.00 | 0.00 | 25.00 | 6.00 | 67.4 | 1.20 | ⋯ | 3.620 | 1.003 |  27.01 |  7.07 |  1.404 | 69.93 | 2.361 | 248.9 | 55.50000 | 0.995665 |\n",
       "| 146.1 | 0.165 | 11.31 | 17.36 | 0.06 | 0.02 | 31.43 | 9.31 | 57.5 | 1.29 | ⋯ | 6.113 | 1.141 | 104.65 | 12.03 | 13.604 | 74.18 | 2.112 | 246.4 | 48.62852 | 1.001040 |\n",
       "| 218.9 | 0.222 | 10.16 | 16.38 | 0.14 | 0.08 | 27.95 | 6.14 | 62.7 | 2.04 | ⋯ | 2.963 | 1.207 |  91.88 |  8.65 |  0.352 | 68.10 | 1.303 | 163.9 | 48.62852 | 1.001770 |\n",
       "| 204.0 | 0.197 |  9.70 | 16.60 | 0.30 | 0.00 | 26.30 | 5.50 | 65.4 | 2.60 | ⋯ | 3.389 | 1.104 |  47.71 |  9.35 | 13.077 | 74.65 | 3.735 | 387.7 | 16.30000 | 0.996603 |\n",
       "\n"
      ],
      "text/plain": [
       "  30080-0.0 30090-0.0 30100-0.0 30110-0.0 30150-0.0 30160-0.0 30180-0.0\n",
       "1 285.2     0.287     10.08     15.99     0.49      0.13      29.06    \n",
       "2 245.0     0.208      8.50     16.50     0.00      0.00      25.00    \n",
       "3 146.1     0.165     11.31     17.36     0.06      0.02      31.43    \n",
       "4 218.9     0.222     10.16     16.38     0.14      0.08      27.95    \n",
       "5 204.0     0.197      9.70     16.60     0.30      0.00      26.30    \n",
       "  30190-0.0 30200-0.0 30210-0.0 ⋯ 30780-0.0 30810-0.0 30830-0.0 30840-0.0\n",
       "1 6.21      56.9      6.15      ⋯ 3.769     1.147      33.31     8.55    \n",
       "2 6.00      67.4      1.20      ⋯ 3.620     1.003      27.01     7.07    \n",
       "3 9.31      57.5      1.29      ⋯ 6.113     1.141     104.65    12.03    \n",
       "4 6.14      62.7      2.04      ⋯ 2.963     1.207      91.88     8.65    \n",
       "5 5.50      65.4      2.60      ⋯ 3.389     1.104      47.71     9.35    \n",
       "  30850-0.0 30860-0.0 30870-0.0 30880-0.0 30890-0.0 30897-0.0\n",
       "1  1.572    75.52     1.160     245.9     32.00000  1.004240 \n",
       "2  1.404    69.93     2.361     248.9     55.50000  0.995665 \n",
       "3 13.604    74.18     2.112     246.4     48.62852  1.001040 \n",
       "4  0.352    68.10     1.303     163.9     48.62852  1.001770 \n",
       "5 13.077    74.65     3.735     387.7     16.30000  0.996603 "
      ]
     },
     "metadata": {},
     "output_type": "display_data"
    }
   ],
   "source": [
    "new_new_data[1:5,c(133:181)]"
   ]
  },
  {
   "cell_type": "code",
   "execution_count": 29,
   "metadata": {},
   "outputs": [],
   "source": [
    "model_test=lm(formula=new_new_data$count~new_new_data$`30897-0.0`)"
   ]
  },
  {
   "cell_type": "code",
   "execution_count": 31,
   "metadata": {},
   "outputs": [
    {
     "data": {
      "text/plain": [
       "\n",
       "Call:\n",
       "lm(formula = new_new_data$count ~ new_new_data$`30897-0.0`)\n",
       "\n",
       "Coefficients:\n",
       "             (Intercept)  new_new_data$`30897-0.0`  \n",
       "                   1.731                     5.170  \n"
      ]
     },
     "metadata": {},
     "output_type": "display_data"
    },
    {
     "data": {
      "text/plain": [
       "\n",
       "Call:\n",
       "lm(formula = new_new_data$count ~ new_new_data$`30897-0.0`)\n",
       "\n",
       "Residuals:\n",
       "   Min     1Q Median     3Q    Max \n",
       " -6.90  -1.25  -0.23   0.97 382.81 \n",
       "\n",
       "Coefficients:\n",
       "                         Estimate Std. Error t value Pr(>|t|)    \n",
       "(Intercept)                1.7307     0.2961   5.845 5.08e-09 ***\n",
       "new_new_data$`30897-0.0`   5.1695     0.2970  17.407  < 2e-16 ***\n",
       "---\n",
       "Signif. codes:  0 ‘***’ 0.001 ‘**’ 0.01 ‘*’ 0.05 ‘.’ 0.1 ‘ ’ 1\n",
       "\n",
       "Residual standard error: 2.122 on 478172 degrees of freedom\n",
       "Multiple R-squared:  0.0006333,\tAdjusted R-squared:  0.0006312 \n",
       "F-statistic:   303 on 1 and 478172 DF,  p-value: < 2.2e-16\n"
      ]
     },
     "metadata": {},
     "output_type": "display_data"
    }
   ],
   "source": [
    "model_test\n",
    "model_test %>% summary()"
   ]
  },
  {
   "cell_type": "code",
   "execution_count": 33,
   "metadata": {},
   "outputs": [],
   "source": [
    "new_new_new_data=new_new_data[,-c(133:181)]"
   ]
  },
  {
   "cell_type": "code",
   "execution_count": 34,
   "metadata": {},
   "outputs": [],
   "source": []
  },
  {
   "cell_type": "code",
   "execution_count": null,
   "metadata": {},
   "outputs": [],
   "source": [
    "\n",
    "fwrite(new_new_new_data,\"num_slim_data_5.csv\")\n",
    "\n",
    "\n"
   ]
  }
 ],
 "metadata": {
  "kernelspec": {
   "display_name": "R 3.6.0",
   "language": "R",
   "name": "ir360"
  },
  "language_info": {
   "codemirror_mode": "r",
   "file_extension": ".r",
   "mimetype": "text/x-r-source",
   "name": "R",
   "pygments_lexer": "r",
   "version": "3.6.0"
  }
 },
 "nbformat": 4,
 "nbformat_minor": 2
}
