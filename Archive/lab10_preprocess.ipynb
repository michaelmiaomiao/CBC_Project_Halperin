{
 "cells": [
  {
   "cell_type": "code",
   "execution_count": 1,
   "metadata": {},
   "outputs": [
    {
     "name": "stderr",
     "output_type": "stream",
     "text": [
      "Loading required package: xml2\n",
      "\n",
      "Attaching package: ‘dplyr’\n",
      "\n",
      "The following objects are masked from ‘package:data.table’:\n",
      "\n",
      "    between, first, last\n",
      "\n",
      "The following objects are masked from ‘package:stats’:\n",
      "\n",
      "    filter, lag\n",
      "\n",
      "The following objects are masked from ‘package:base’:\n",
      "\n",
      "    intersect, setdiff, setequal, union\n",
      "\n",
      "\n",
      "Attaching package: ‘zoo’\n",
      "\n",
      "The following objects are masked from ‘package:base’:\n",
      "\n",
      "    as.Date, as.Date.numeric\n",
      "\n"
     ]
    }
   ],
   "source": [
    "library(data.table)\n",
    "library(\"rvest\")\n",
    "library(\"stringr\")\n",
    "library(dplyr)\n",
    "library(zoo)"
   ]
  },
  {
   "cell_type": "code",
   "execution_count": 3,
   "metadata": {},
   "outputs": [
    {
     "data": {
      "text/plain": [
       "Time difference of 16.7855 secs"
      ]
     },
     "metadata": {},
     "output_type": "display_data"
    }
   ],
   "source": [
    "\n",
    "\n",
    "start_time <- Sys.time()\n",
    "new_data=fread(\"new_data_num.csv\")\n",
    "\n",
    "end_time <- Sys.time()\n",
    "\n",
    "end_time - start_time\n",
    "\n"
   ]
  },
  {
   "cell_type": "code",
   "execution_count": 5,
   "metadata": {},
   "outputs": [
    {
     "data": {
      "text/html": [
       "<ol class=list-inline>\n",
       "\t<li>502508</li>\n",
       "\t<li>608</li>\n",
       "</ol>\n"
      ],
      "text/latex": [
       "\\begin{enumerate*}\n",
       "\\item 502508\n",
       "\\item 608\n",
       "\\end{enumerate*}\n"
      ],
      "text/markdown": [
       "1. 502508\n",
       "2. 608\n",
       "\n",
       "\n"
      ],
      "text/plain": [
       "[1] 502508    608"
      ]
     },
     "metadata": {},
     "output_type": "display_data"
    }
   ],
   "source": [
    "dim(new_data)"
   ]
  },
  {
   "cell_type": "code",
   "execution_count": 12,
   "metadata": {},
   "outputs": [
    {
     "data": {
      "text/html": [
       "<ol class=list-inline>\n",
       "\t<li>502616</li>\n",
       "\t<li>33</li>\n",
       "</ol>\n"
      ],
      "text/latex": [
       "\\begin{enumerate*}\n",
       "\\item 502616\n",
       "\\item 33\n",
       "\\end{enumerate*}\n"
      ],
      "text/markdown": [
       "1. 502616\n",
       "2. 33\n",
       "\n",
       "\n"
      ],
      "text/plain": [
       "[1] 502616     33"
      ]
     },
     "metadata": {},
     "output_type": "display_data"
    }
   ],
   "source": [
    "new_addup_data = fread(\"ukb21970_select_.csv\")\n",
    "dim(new_addup_data)"
   ]
  },
  {
   "cell_type": "code",
   "execution_count": 17,
   "metadata": {},
   "outputs": [],
   "source": [
    "add_list=as.integer(which(colSums(is.na(new_addup_data))>=0.5*502616))"
   ]
  },
  {
   "cell_type": "code",
   "execution_count": 18,
   "metadata": {},
   "outputs": [
    {
     "data": {
      "text/html": [],
      "text/latex": [],
      "text/markdown": [],
      "text/plain": [
       "integer(0)"
      ]
     },
     "metadata": {},
     "output_type": "display_data"
    }
   ],
   "source": [
    "add_list"
   ]
  },
  {
   "cell_type": "code",
   "execution_count": 19,
   "metadata": {},
   "outputs": [
    {
     "data": {
      "text/html": [
       "<dl class=dl-horizontal>\n",
       "\t<dt>eid</dt>\n",
       "\t\t<dd>0</dd>\n",
       "\t<dt>22009-0.1</dt>\n",
       "\t\t<dd>14253</dd>\n",
       "\t<dt>22009-0.10</dt>\n",
       "\t\t<dd>14253</dd>\n",
       "\t<dt>22009-0.11</dt>\n",
       "\t\t<dd>14253</dd>\n",
       "\t<dt>22009-0.12</dt>\n",
       "\t\t<dd>14253</dd>\n",
       "\t<dt>22009-0.13</dt>\n",
       "\t\t<dd>14253</dd>\n",
       "\t<dt>22009-0.14</dt>\n",
       "\t\t<dd>14253</dd>\n",
       "\t<dt>22009-0.15</dt>\n",
       "\t\t<dd>14253</dd>\n",
       "\t<dt>22009-0.16</dt>\n",
       "\t\t<dd>14253</dd>\n",
       "\t<dt>22009-0.17</dt>\n",
       "\t\t<dd>14253</dd>\n",
       "\t<dt>22009-0.18</dt>\n",
       "\t\t<dd>14253</dd>\n",
       "\t<dt>22009-0.19</dt>\n",
       "\t\t<dd>14253</dd>\n",
       "\t<dt>22009-0.20</dt>\n",
       "\t\t<dd>14253</dd>\n",
       "\t<dt>22009-0.21</dt>\n",
       "\t\t<dd>14253</dd>\n",
       "\t<dt>22009-0.22</dt>\n",
       "\t\t<dd>14253</dd>\n",
       "\t<dt>22009-0.23</dt>\n",
       "\t\t<dd>14253</dd>\n",
       "\t<dt>22009-0.24</dt>\n",
       "\t\t<dd>14253</dd>\n",
       "\t<dt>22009-0.25</dt>\n",
       "\t\t<dd>14253</dd>\n",
       "\t<dt>22009-0.26</dt>\n",
       "\t\t<dd>14253</dd>\n",
       "\t<dt>22009-0.27</dt>\n",
       "\t\t<dd>14253</dd>\n",
       "\t<dt>22009-0.28</dt>\n",
       "\t\t<dd>14253</dd>\n",
       "\t<dt>22009-0.29</dt>\n",
       "\t\t<dd>14253</dd>\n",
       "\t<dt>22009-0.30</dt>\n",
       "\t\t<dd>14253</dd>\n",
       "\t<dt>22009-0.31</dt>\n",
       "\t\t<dd>14253</dd>\n",
       "\t<dt>22009-0.32</dt>\n",
       "\t\t<dd>14253</dd>\n",
       "\t<dt>22009-0.33</dt>\n",
       "\t\t<dd>14253</dd>\n",
       "\t<dt>22009-0.34</dt>\n",
       "\t\t<dd>14253</dd>\n",
       "\t<dt>22009-0.35</dt>\n",
       "\t\t<dd>14253</dd>\n",
       "\t<dt>22009-0.36</dt>\n",
       "\t\t<dd>14253</dd>\n",
       "\t<dt>22009-0.37</dt>\n",
       "\t\t<dd>14253</dd>\n",
       "\t<dt>22009-0.38</dt>\n",
       "\t\t<dd>14253</dd>\n",
       "\t<dt>22009-0.39</dt>\n",
       "\t\t<dd>14253</dd>\n",
       "\t<dt>22009-0.40</dt>\n",
       "\t\t<dd>14253</dd>\n",
       "</dl>\n"
      ],
      "text/latex": [
       "\\begin{description*}\n",
       "\\item[eid] 0\n",
       "\\item[22009-0.1] 14253\n",
       "\\item[22009-0.10] 14253\n",
       "\\item[22009-0.11] 14253\n",
       "\\item[22009-0.12] 14253\n",
       "\\item[22009-0.13] 14253\n",
       "\\item[22009-0.14] 14253\n",
       "\\item[22009-0.15] 14253\n",
       "\\item[22009-0.16] 14253\n",
       "\\item[22009-0.17] 14253\n",
       "\\item[22009-0.18] 14253\n",
       "\\item[22009-0.19] 14253\n",
       "\\item[22009-0.20] 14253\n",
       "\\item[22009-0.21] 14253\n",
       "\\item[22009-0.22] 14253\n",
       "\\item[22009-0.23] 14253\n",
       "\\item[22009-0.24] 14253\n",
       "\\item[22009-0.25] 14253\n",
       "\\item[22009-0.26] 14253\n",
       "\\item[22009-0.27] 14253\n",
       "\\item[22009-0.28] 14253\n",
       "\\item[22009-0.29] 14253\n",
       "\\item[22009-0.30] 14253\n",
       "\\item[22009-0.31] 14253\n",
       "\\item[22009-0.32] 14253\n",
       "\\item[22009-0.33] 14253\n",
       "\\item[22009-0.34] 14253\n",
       "\\item[22009-0.35] 14253\n",
       "\\item[22009-0.36] 14253\n",
       "\\item[22009-0.37] 14253\n",
       "\\item[22009-0.38] 14253\n",
       "\\item[22009-0.39] 14253\n",
       "\\item[22009-0.40] 14253\n",
       "\\end{description*}\n"
      ],
      "text/markdown": [
       "eid\n",
       ":   022009-0.1\n",
       ":   1425322009-0.10\n",
       ":   1425322009-0.11\n",
       ":   1425322009-0.12\n",
       ":   1425322009-0.13\n",
       ":   1425322009-0.14\n",
       ":   1425322009-0.15\n",
       ":   1425322009-0.16\n",
       ":   1425322009-0.17\n",
       ":   1425322009-0.18\n",
       ":   1425322009-0.19\n",
       ":   1425322009-0.20\n",
       ":   1425322009-0.21\n",
       ":   1425322009-0.22\n",
       ":   1425322009-0.23\n",
       ":   1425322009-0.24\n",
       ":   1425322009-0.25\n",
       ":   1425322009-0.26\n",
       ":   1425322009-0.27\n",
       ":   1425322009-0.28\n",
       ":   1425322009-0.29\n",
       ":   1425322009-0.30\n",
       ":   1425322009-0.31\n",
       ":   1425322009-0.32\n",
       ":   1425322009-0.33\n",
       ":   1425322009-0.34\n",
       ":   1425322009-0.35\n",
       ":   1425322009-0.36\n",
       ":   1425322009-0.37\n",
       ":   1425322009-0.38\n",
       ":   1425322009-0.39\n",
       ":   1425322009-0.40\n",
       ":   14253\n",
       "\n"
      ],
      "text/plain": [
       "       eid  22009-0.1 22009-0.10 22009-0.11 22009-0.12 22009-0.13 22009-0.14 \n",
       "         0      14253      14253      14253      14253      14253      14253 \n",
       "22009-0.15 22009-0.16 22009-0.17 22009-0.18 22009-0.19 22009-0.20 22009-0.21 \n",
       "     14253      14253      14253      14253      14253      14253      14253 \n",
       "22009-0.22 22009-0.23 22009-0.24 22009-0.25 22009-0.26 22009-0.27 22009-0.28 \n",
       "     14253      14253      14253      14253      14253      14253      14253 \n",
       "22009-0.29 22009-0.30 22009-0.31 22009-0.32 22009-0.33 22009-0.34 22009-0.35 \n",
       "     14253      14253      14253      14253      14253      14253      14253 \n",
       "22009-0.36 22009-0.37 22009-0.38 22009-0.39 22009-0.40 \n",
       "     14253      14253      14253      14253      14253 "
      ]
     },
     "metadata": {},
     "output_type": "display_data"
    }
   ],
   "source": [
    "colSums(is.na(new_addup_data))"
   ]
  },
  {
   "cell_type": "code",
   "execution_count": 10,
   "metadata": {},
   "outputs": [],
   "source": [
    "new_raw_data2=merge(x=new_data,y=new_addup_data,by = \"eid\",all.x = T)\n",
    "fwrite(new_raw_data2,\"new_raw_data2.csv\")"
   ]
  },
  {
   "cell_type": "code",
   "execution_count": 3,
   "metadata": {},
   "outputs": [],
   "source": [
    "new_raw_data2= fread(\"new_raw_data2.csv\")"
   ]
  },
  {
   "cell_type": "code",
   "execution_count": 4,
   "metadata": {},
   "outputs": [
    {
     "data": {
      "text/html": [
       "<ol class=list-inline>\n",
       "\t<li>502508</li>\n",
       "\t<li>640</li>\n",
       "</ol>\n"
      ],
      "text/latex": [
       "\\begin{enumerate*}\n",
       "\\item 502508\n",
       "\\item 640\n",
       "\\end{enumerate*}\n"
      ],
      "text/markdown": [
       "1. 502508\n",
       "2. 640\n",
       "\n",
       "\n"
      ],
      "text/plain": [
       "[1] 502508    640"
      ]
     },
     "metadata": {},
     "output_type": "display_data"
    }
   ],
   "source": [
    "dim(new_raw_data2)"
   ]
  },
  {
   "cell_type": "code",
   "execution_count": 9,
   "metadata": {},
   "outputs": [],
   "source": [
    "new_data=new_raw_data2[-which(is.na(new_raw_data2$count)),]"
   ]
  },
  {
   "cell_type": "code",
   "execution_count": 20,
   "metadata": {},
   "outputs": [
    {
     "data": {
      "text/html": [
       "<ol class=list-inline>\n",
       "\t<li>478174</li>\n",
       "\t<li>640</li>\n",
       "</ol>\n"
      ],
      "text/latex": [
       "\\begin{enumerate*}\n",
       "\\item 478174\n",
       "\\item 640\n",
       "\\end{enumerate*}\n"
      ],
      "text/markdown": [
       "1. 478174\n",
       "2. 640\n",
       "\n",
       "\n"
      ],
      "text/plain": [
       "[1] 478174    640"
      ]
     },
     "metadata": {},
     "output_type": "display_data"
    }
   ],
   "source": [
    "dim(new_data)"
   ]
  },
  {
   "cell_type": "code",
   "execution_count": 21,
   "metadata": {},
   "outputs": [],
   "source": [
    "new_data_1=zoo::na.aggregate(new_data[,1:200])\n",
    "new_data_2=zoo::na.aggregate(new_data[,201:400])\n",
    "new_data_3=zoo::na.aggregate(new_data[,401:600])\n",
    "new_data_4=zoo::na.aggregate(new_data[,601:640])\n",
    "\n"
   ]
  },
  {
   "cell_type": "code",
   "execution_count": null,
   "metadata": {},
   "outputs": [],
   "source": []
  },
  {
   "cell_type": "code",
   "execution_count": 4,
   "metadata": {},
   "outputs": [],
   "source": [
    "#new_data_1=zoo::na.aggregate(new_data[,1:200])"
   ]
  },
  {
   "cell_type": "code",
   "execution_count": 5,
   "metadata": {},
   "outputs": [],
   "source": [
    "#new_data_2=zoo::na.aggregate(new_data[,201:400])"
   ]
  },
  {
   "cell_type": "code",
   "execution_count": 6,
   "metadata": {},
   "outputs": [],
   "source": [
    "#new_data_3=zoo::na.aggregate(new_data[,401:600])"
   ]
  },
  {
   "cell_type": "code",
   "execution_count": 7,
   "metadata": {},
   "outputs": [],
   "source": [
    "#new_data_4=zoo::na.aggregate(new_data[,601:800])"
   ]
  },
  {
   "cell_type": "code",
   "execution_count": 8,
   "metadata": {},
   "outputs": [],
   "source": [
    "#new_data_5=zoo::na.aggregate(new_data[,801:1000])"
   ]
  },
  {
   "cell_type": "code",
   "execution_count": 9,
   "metadata": {},
   "outputs": [],
   "source": [
    "#new_data_6=zoo::na.aggregate(new_data[,1001:1100])"
   ]
  },
  {
   "cell_type": "code",
   "execution_count": 10,
   "metadata": {},
   "outputs": [],
   "source": [
    "#new_data_7=zoo::na.aggregate(new_data[,1101:1151])"
   ]
  },
  {
   "cell_type": "code",
   "execution_count": 22,
   "metadata": {},
   "outputs": [
    {
     "data": {
      "text/html": [
       "<ol class=list-inline>\n",
       "\t<li>478174</li>\n",
       "\t<li>200</li>\n",
       "</ol>\n"
      ],
      "text/latex": [
       "\\begin{enumerate*}\n",
       "\\item 478174\n",
       "\\item 200\n",
       "\\end{enumerate*}\n"
      ],
      "text/markdown": [
       "1. 478174\n",
       "2. 200\n",
       "\n",
       "\n"
      ],
      "text/plain": [
       "[1] 478174    200"
      ]
     },
     "metadata": {},
     "output_type": "display_data"
    },
    {
     "data": {
      "text/html": [
       "<ol class=list-inline>\n",
       "\t<li>478174</li>\n",
       "\t<li>200</li>\n",
       "</ol>\n"
      ],
      "text/latex": [
       "\\begin{enumerate*}\n",
       "\\item 478174\n",
       "\\item 200\n",
       "\\end{enumerate*}\n"
      ],
      "text/markdown": [
       "1. 478174\n",
       "2. 200\n",
       "\n",
       "\n"
      ],
      "text/plain": [
       "[1] 478174    200"
      ]
     },
     "metadata": {},
     "output_type": "display_data"
    },
    {
     "data": {
      "text/html": [
       "<ol class=list-inline>\n",
       "\t<li>478174</li>\n",
       "\t<li>200</li>\n",
       "</ol>\n"
      ],
      "text/latex": [
       "\\begin{enumerate*}\n",
       "\\item 478174\n",
       "\\item 200\n",
       "\\end{enumerate*}\n"
      ],
      "text/markdown": [
       "1. 478174\n",
       "2. 200\n",
       "\n",
       "\n"
      ],
      "text/plain": [
       "[1] 478174    200"
      ]
     },
     "metadata": {},
     "output_type": "display_data"
    },
    {
     "data": {
      "text/html": [
       "<ol class=list-inline>\n",
       "\t<li>478174</li>\n",
       "\t<li>40</li>\n",
       "</ol>\n"
      ],
      "text/latex": [
       "\\begin{enumerate*}\n",
       "\\item 478174\n",
       "\\item 40\n",
       "\\end{enumerate*}\n"
      ],
      "text/markdown": [
       "1. 478174\n",
       "2. 40\n",
       "\n",
       "\n"
      ],
      "text/plain": [
       "[1] 478174     40"
      ]
     },
     "metadata": {},
     "output_type": "display_data"
    }
   ],
   "source": [
    "dim(new_data_1)\n",
    "dim(new_data_2)\n",
    "dim(new_data_3)\n",
    "dim(new_data_4)\n",
    "#dim(new_data_5)\n",
    "#dim(new_data_6)\n",
    "#dim(new_data_7)\n",
    "#dim(new_data_2)"
   ]
  },
  {
   "cell_type": "code",
   "execution_count": 23,
   "metadata": {},
   "outputs": [],
   "source": [
    "#new_data=cbind(new_data_1,new_data_2,new_data_3,new_data_4,new_data_5,new_data_6,new_data_7)"
   ]
  },
  {
   "cell_type": "code",
   "execution_count": 24,
   "metadata": {},
   "outputs": [],
   "source": [
    "new_data=cbind(new_data_1,new_data_2,new_data_3,new_data_4)"
   ]
  },
  {
   "cell_type": "code",
   "execution_count": 25,
   "metadata": {},
   "outputs": [
    {
     "data": {
      "text/html": [
       "<ol class=list-inline>\n",
       "\t<li>478174</li>\n",
       "\t<li>640</li>\n",
       "</ol>\n"
      ],
      "text/latex": [
       "\\begin{enumerate*}\n",
       "\\item 478174\n",
       "\\item 640\n",
       "\\end{enumerate*}\n"
      ],
      "text/markdown": [
       "1. 478174\n",
       "2. 640\n",
       "\n",
       "\n"
      ],
      "text/plain": [
       "[1] 478174    640"
      ]
     },
     "metadata": {},
     "output_type": "display_data"
    }
   ],
   "source": [
    "dim(new_data)"
   ]
  },
  {
   "cell_type": "code",
   "execution_count": 26,
   "metadata": {},
   "outputs": [
    {
     "data": {
      "text/html": [
       "608"
      ],
      "text/latex": [
       "608"
      ],
      "text/markdown": [
       "608"
      ],
      "text/plain": [
       "[1] 608"
      ]
     },
     "metadata": {},
     "output_type": "display_data"
    }
   ],
   "source": [
    "grep(\"count\",colnames(new_data))"
   ]
  },
  {
   "cell_type": "code",
   "execution_count": 27,
   "metadata": {},
   "outputs": [],
   "source": [
    "fwrite(new_data,\"new_clean_data_slim.csv\")"
   ]
  },
  {
   "cell_type": "code",
   "execution_count": null,
   "metadata": {},
   "outputs": [],
   "source": []
  }
 ],
 "metadata": {
  "kernelspec": {
   "display_name": "R 3.5.1",
   "language": "R",
   "name": "ir35"
  },
  "language_info": {
   "codemirror_mode": "r",
   "file_extension": ".r",
   "mimetype": "text/x-r-source",
   "name": "R",
   "pygments_lexer": "r",
   "version": "3.5.1"
  }
 },
 "nbformat": 4,
 "nbformat_minor": 2
}
